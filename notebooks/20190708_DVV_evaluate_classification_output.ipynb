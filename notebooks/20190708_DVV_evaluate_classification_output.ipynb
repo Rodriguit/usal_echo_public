{
 "cells": [
  {
   "cell_type": "code",
   "execution_count": 2,
   "metadata": {},
   "outputs": [],
   "source": [
    "import os\n",
    "from os import listdir\n",
    "from os.path import isfile, join\n",
    "import pandas as pd\n",
    "\n",
    "# TO DO: soft code this\n",
    "results_dir = 'home/ubuntu/data/03_classification/results'"
   ]
  },
  {
   "cell_type": "code",
   "execution_count": null,
   "metadata": {},
   "outputs": [],
   "source": [
    "text_files = [f for f in listdir(probs_path) if isfile(join(probs_path,f))]\n",
    "print(text_files)\n",
    "\n",
    "f = text_files[0] # HARD-CODED\n",
    "\n",
    "infile = open(probs_path + f)\n",
    "infile = infile.readlines()\n",
    "infile = [i.rstrip() for i in infile]\n",
    "infile = [i.split('\\t') for i in infile]"
   ]
  },
  {
   "cell_type": "code",
   "execution_count": null,
   "metadata": {},
   "outputs": [],
   "source": [
    "max_vals = []\n",
    "max_inds = []\n",
    "# if probability < 0.01, set to 0\n",
    "for i in range(len(infile)):\n",
    "    for j in range(len(infile[0])):\n",
    "        val = infile[i][j]\n",
    "        #print(val)\n",
    "        if i!=0 and j!=0 and j!=1:\n",
    "            if float(val) < 0.01:\n",
    "                infile[i][j] = 0.0\n",
    "    if i!=0:\n",
    "        row_probs = list(map(float, infile[i][2:]))\n",
    "        max_vals.append(max(row_probs))\n",
    "        max_inds.append(row_probs.index(max(row_probs)))\n",
    "# print(max_vals)\n",
    "print(max_inds)"
   ]
  },
  {
   "cell_type": "code",
   "execution_count": null,
   "metadata": {},
   "outputs": [],
   "source": [
    "df = pd.DataFrame(infile)\n",
    "# df = pd.DataFrame(all_probs_list)\n",
    "\n",
    "df.columns = infile[0]\n",
    "df.drop(0, inplace=True)\n",
    "df.drop(labels='study', axis=1, inplace=True)\n",
    "print(df.shape)\n",
    "\n",
    "df.head()"
   ]
  },
  {
   "cell_type": "code",
   "execution_count": null,
   "metadata": {},
   "outputs": [],
   "source": [
    "## TO DO: port over from eval script in echo_cv/notebooks directory"
   ]
  }
 ],
 "metadata": {
  "kernelspec": {
   "display_name": "Python 3",
   "language": "python",
   "name": "python3"
  },
  "language_info": {
   "codemirror_mode": {
    "name": "ipython",
    "version": 3
   },
   "file_extension": ".py",
   "mimetype": "text/x-python",
   "name": "python",
   "nbconvert_exporter": "python",
   "pygments_lexer": "ipython3",
   "version": "3.6.5"
  }
 },
 "nbformat": 4,
 "nbformat_minor": 2
}
