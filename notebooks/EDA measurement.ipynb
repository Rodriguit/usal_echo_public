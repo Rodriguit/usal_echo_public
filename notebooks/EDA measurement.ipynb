{
 "cells": [
  {
   "cell_type": "code",
   "execution_count": null,
   "metadata": {},
   "outputs": [],
   "source": [
    "%reload_ext autoreload\n",
    "%autoreload 2\n",
    "%matplotlib inline"
   ]
  },
  {
   "cell_type": "code",
   "execution_count": null,
   "metadata": {},
   "outputs": [],
   "source": [
    "import matplotlib as mpl\n",
    "mpl.rcParams['figure.dpi'] = 300"
   ]
  },
  {
   "cell_type": "code",
   "execution_count": null,
   "metadata": {},
   "outputs": [],
   "source": [
    "import numpy as np\n",
    "import pandas as pd\n",
    "import matplotlib.pyplot as plt"
   ]
  },
  {
   "cell_type": "code",
   "execution_count": null,
   "metadata": {},
   "outputs": [],
   "source": [
    "import sys\n",
    "sys.path.append('../src')"
   ]
  },
  {
   "cell_type": "code",
   "execution_count": null,
   "metadata": {},
   "outputs": [],
   "source": [
    "from usal_echo.d00_utils.db_utils import dbReadWriteClean\n",
    "io_clean = dbReadWriteClean()"
   ]
  },
  {
   "cell_type": "code",
   "execution_count": null,
   "metadata": {},
   "outputs": [],
   "source": [
    "def plot_group_by_size_histogram(df, column, name):\n",
    "    counts = df.groupby(column).size()\n",
    "    print(counts.describe())\n",
    "    plt.title(f'Counts of {name}')\n",
    "    plt.xlabel('Number')\n",
    "    plt.ylabel('Counts')\n",
    "    counts = plt.hist(counts.values, bins=20)\n",
    "    return counts[0]"
   ]
  },
  {
   "cell_type": "code",
   "execution_count": null,
   "metadata": {},
   "outputs": [],
   "source": [
    "measurement_abstract_rpt_df = io_clean.get_table('measurement_abstract_rpt')\n",
    "print(measurement_abstract_rpt_df.shape)\n",
    "measurement_abstract_rpt_df.head()"
   ]
  },
  {
   "cell_type": "code",
   "execution_count": null,
   "metadata": {},
   "outputs": [],
   "source": [
    "counts = measurement_abstract_rpt_df['name'].value_counts()\n",
    "counts"
   ]
  },
  {
   "cell_type": "code",
   "execution_count": null,
   "metadata": {},
   "outputs": [],
   "source": [
    "len(counts[counts==1])"
   ]
  },
  {
   "cell_type": "code",
   "execution_count": null,
   "metadata": {},
   "outputs": [],
   "source": [
    "len(counts[counts<10])"
   ]
  },
  {
   "cell_type": "code",
   "execution_count": null,
   "metadata": {},
   "outputs": [],
   "source": [
    "plot_group_by_size_histogram(measurement_abstract_rpt_df, 'studyidk', 'Reported Measurements Per Study')"
   ]
  },
  {
   "cell_type": "code",
   "execution_count": null,
   "metadata": {},
   "outputs": [],
   "source": [
    "measgraphref_df = io_clean.get_table('a_measgraphref')\n",
    "print(measgraphref_df.shape)\n",
    "measgraphref_df.head()"
   ]
  },
  {
   "cell_type": "code",
   "execution_count": null,
   "metadata": {},
   "outputs": [],
   "source": [
    "filtered_measgraphref_df = measgraphref_df[(measgraphref_df[\"instanceidk\"]!=-1) & (measgraphref_df[\"indexinmglist\"]!=-1)]\n",
    "filtered_measgraphref_df.shape"
   ]
  },
  {
   "cell_type": "code",
   "execution_count": null,
   "metadata": {},
   "outputs": [],
   "source": [
    "filtered_measgraphref_df['indexinmglist'].unique()"
   ]
  },
  {
   "cell_type": "code",
   "execution_count": null,
   "metadata": {},
   "outputs": [],
   "source": [
    "filtered_measgraphref_df['howentered'].unique()"
   ]
  },
  {
   "cell_type": "code",
   "execution_count": null,
   "metadata": {},
   "outputs": [],
   "source": [
    "(filtered_measgraphref_df.groupby('instanceidk').first()[['srinstanceidk', 'imagesopinstanceuid', 'measurementuid']]!=\"\").sum()"
   ]
  },
  {
   "cell_type": "code",
   "execution_count": null,
   "metadata": {},
   "outputs": [],
   "source": [
    "plot_group_by_size_histogram(filtered_measgraphref_df, \"studyidk\", \"Graphical Measurements Per Study\")"
   ]
  },
  {
   "cell_type": "code",
   "execution_count": null,
   "metadata": {},
   "outputs": [],
   "source": [
    "plot_group_by_size_histogram(filtered_measgraphref_df, \"instanceidk\", \"Graphical Measurements Per Instance\")"
   ]
  },
  {
   "cell_type": "code",
   "execution_count": null,
   "metadata": {},
   "outputs": [],
   "source": [
    "grouped_measgraphref_df = filtered_measgraphref_df.groupby([\"studyidk\", \"instanceidk\"]).size().reset_index()"
   ]
  },
  {
   "cell_type": "code",
   "execution_count": null,
   "metadata": {},
   "outputs": [],
   "source": [
    "plot_group_by_size_histogram(grouped_measgraphref_df, \"studyidk\", \"Instances Per Study\")"
   ]
  },
  {
   "cell_type": "code",
   "execution_count": null,
   "metadata": {},
   "outputs": [],
   "source": [
    "grouped_measgraphref_df = filtered_measgraphref_df.groupby([\"instanceidk\", \"indexinmglist\"]).size().reset_index()"
   ]
  },
  {
   "cell_type": "code",
   "execution_count": null,
   "metadata": {},
   "outputs": [],
   "source": [
    "plot_group_by_size_histogram(grouped_measgraphref_df, \"instanceidk\", \"Frames Per Instance\")"
   ]
  }
 ],
 "metadata": {
  "kernelspec": {
   "display_name": "Environment (conda_usal_echo)",
   "language": "python",
   "name": "conda_usal_echo"
  },
  "language_info": {
   "codemirror_mode": {
    "name": "ipython",
    "version": 3
   },
   "file_extension": ".py",
   "mimetype": "text/x-python",
   "name": "python",
   "nbconvert_exporter": "python",
   "pygments_lexer": "ipython3",
   "version": "3.6.5"
  }
 },
 "nbformat": 4,
 "nbformat_minor": 2
}
