{
 "cells": [
  {
   "cell_type": "code",
   "execution_count": 33,
   "metadata": {},
   "outputs": [],
   "source": [
    "%reload_ext autoreload\n",
    "%autoreload 2\n",
    "%matplotlib inline"
   ]
  },
  {
   "cell_type": "code",
   "execution_count": 34,
   "metadata": {},
   "outputs": [],
   "source": [
    "import numpy as np\n",
    "import pandas as pd\n",
    "import matplotlib.pyplot as plt"
   ]
  },
  {
   "cell_type": "code",
   "execution_count": 35,
   "metadata": {},
   "outputs": [],
   "source": [
    "import sys\n",
    "sys.path.append('../src')"
   ]
  },
  {
   "cell_type": "code",
   "execution_count": 36,
   "metadata": {},
   "outputs": [],
   "source": [
    "from d00_utils.db_utils import dbReadWriteClean, dbReadWriteViews\n",
    "io_clean = dbReadWriteClean()\n",
    "io_views = dbReadWriteViews()"
   ]
  },
  {
   "cell_type": "code",
   "execution_count": 37,
   "metadata": {},
   "outputs": [
    {
     "name": "stdout",
     "output_type": "stream",
     "text": [
      "(1568351, 5)\n"
     ]
    },
    {
     "data": {
      "text/html": [
       "<div>\n",
       "<style scoped>\n",
       "    .dataframe tbody tr th:only-of-type {\n",
       "        vertical-align: middle;\n",
       "    }\n",
       "\n",
       "    .dataframe tbody tr th {\n",
       "        vertical-align: top;\n",
       "    }\n",
       "\n",
       "    .dataframe thead th {\n",
       "        text-align: right;\n",
       "    }\n",
       "</style>\n",
       "<table border=\"1\" class=\"dataframe\">\n",
       "  <thead>\n",
       "    <tr style=\"text-align: right;\">\n",
       "      <th></th>\n",
       "      <th>studyidk</th>\n",
       "      <th>measabstractnumber</th>\n",
       "      <th>name</th>\n",
       "      <th>value</th>\n",
       "      <th>unitname</th>\n",
       "    </tr>\n",
       "  </thead>\n",
       "  <tbody>\n",
       "    <tr>\n",
       "      <th>0</th>\n",
       "      <td>2882</td>\n",
       "      <td>2</td>\n",
       "      <td>(P1/2t)AVM</td>\n",
       "      <td>2.491754</td>\n",
       "      <td>cm2</td>\n",
       "    </tr>\n",
       "    <tr>\n",
       "      <th>1</th>\n",
       "      <td>2882</td>\n",
       "      <td>12</td>\n",
       "      <td>Area TSVI</td>\n",
       "      <td>3.606348</td>\n",
       "      <td>cm2</td>\n",
       "    </tr>\n",
       "    <tr>\n",
       "      <th>2</th>\n",
       "      <td>2882</td>\n",
       "      <td>43</td>\n",
       "      <td>FE(el-ps4)</td>\n",
       "      <td>37.032087</td>\n",
       "      <td>%</td>\n",
       "    </tr>\n",
       "    <tr>\n",
       "      <th>3</th>\n",
       "      <td>2882</td>\n",
       "      <td>46</td>\n",
       "      <td>FE(MDD-ps4)</td>\n",
       "      <td>35.095355</td>\n",
       "      <td>%</td>\n",
       "    </tr>\n",
       "    <tr>\n",
       "      <th>4</th>\n",
       "      <td>2882</td>\n",
       "      <td>125</td>\n",
       "      <td>P1/2t VM</td>\n",
       "      <td>88.291224</td>\n",
       "      <td>ms</td>\n",
       "    </tr>\n",
       "  </tbody>\n",
       "</table>\n",
       "</div>"
      ],
      "text/plain": [
       "   studyidk  measabstractnumber         name      value unitname\n",
       "0      2882                   2   (P1/2t)AVM   2.491754      cm2\n",
       "1      2882                  12    Area TSVI   3.606348      cm2\n",
       "2      2882                  43   FE(el-ps4)  37.032087        %\n",
       "3      2882                  46  FE(MDD-ps4)  35.095355        %\n",
       "4      2882                 125     P1/2t VM  88.291224       ms"
      ]
     },
     "execution_count": 37,
     "metadata": {},
     "output_type": "execute_result"
    }
   ],
   "source": [
    "measurement_abstract_rpt_df = io_clean.get_table(\"measurement_abstract_rpt\")\n",
    "print(measurement_abstract_rpt_df.shape)\n",
    "measurement_abstract_rpt_df.head()"
   ]
  },
  {
   "cell_type": "code",
   "execution_count": 39,
   "metadata": {},
   "outputs": [
    {
     "name": "stdout",
     "output_type": "stream",
     "text": [
      "(13478, 5)\n"
     ]
    },
    {
     "data": {
      "text/html": [
       "<div>\n",
       "<style scoped>\n",
       "    .dataframe tbody tr th:only-of-type {\n",
       "        vertical-align: middle;\n",
       "    }\n",
       "\n",
       "    .dataframe tbody tr th {\n",
       "        vertical-align: top;\n",
       "    }\n",
       "\n",
       "    .dataframe thead th {\n",
       "        text-align: right;\n",
       "    }\n",
       "</style>\n",
       "<table border=\"1\" class=\"dataframe\">\n",
       "  <thead>\n",
       "    <tr style=\"text-align: right;\">\n",
       "      <th></th>\n",
       "      <th>sopinstanceuid</th>\n",
       "      <th>filename</th>\n",
       "      <th>instanceidk</th>\n",
       "      <th>view</th>\n",
       "      <th>studyidk</th>\n",
       "    </tr>\n",
       "  </thead>\n",
       "  <tbody>\n",
       "    <tr>\n",
       "      <th>1</th>\n",
       "      <td>1.2.840.113663.1500.1.365900332.3.7.20120703.9...</td>\n",
       "      <td>8Z0BWZGH</td>\n",
       "      <td>696112</td>\n",
       "      <td>a4c</td>\n",
       "      <td>39531</td>\n",
       "    </tr>\n",
       "    <tr>\n",
       "      <th>5</th>\n",
       "      <td>1.2.840.113663.1500.1.365900332.3.12.20120704....</td>\n",
       "      <td>8ZGVB5TY</td>\n",
       "      <td>696426</td>\n",
       "      <td>a4c</td>\n",
       "      <td>39552</td>\n",
       "    </tr>\n",
       "    <tr>\n",
       "      <th>6</th>\n",
       "      <td>1.2.840.113663.1500.1.365900332.3.16.20120704....</td>\n",
       "      <td>8ZGVB7C1</td>\n",
       "      <td>696430</td>\n",
       "      <td>a2c</td>\n",
       "      <td>39552</td>\n",
       "    </tr>\n",
       "    <tr>\n",
       "      <th>7</th>\n",
       "      <td>1.2.840.113663.1500.1.365900332.3.4.20120704.1...</td>\n",
       "      <td>8ZGVCN6C</td>\n",
       "      <td>696438</td>\n",
       "      <td>a4c</td>\n",
       "      <td>39553</td>\n",
       "    </tr>\n",
       "    <tr>\n",
       "      <th>8</th>\n",
       "      <td>1.2.840.113663.1500.1.365900332.3.16.20120704....</td>\n",
       "      <td>8ZGVCPFW</td>\n",
       "      <td>696467</td>\n",
       "      <td>a2c</td>\n",
       "      <td>39553</td>\n",
       "    </tr>\n",
       "  </tbody>\n",
       "</table>\n",
       "</div>"
      ],
      "text/plain": [
       "                                      sopinstanceuid  filename  instanceidk  \\\n",
       "1  1.2.840.113663.1500.1.365900332.3.7.20120703.9...  8Z0BWZGH       696112   \n",
       "5  1.2.840.113663.1500.1.365900332.3.12.20120704....  8ZGVB5TY       696426   \n",
       "6  1.2.840.113663.1500.1.365900332.3.16.20120704....  8ZGVB7C1       696430   \n",
       "7  1.2.840.113663.1500.1.365900332.3.4.20120704.1...  8ZGVCN6C       696438   \n",
       "8  1.2.840.113663.1500.1.365900332.3.16.20120704....  8ZGVCPFW       696467   \n",
       "\n",
       "  view  studyidk  \n",
       "1  a4c     39531  \n",
       "5  a4c     39552  \n",
       "6  a2c     39552  \n",
       "7  a4c     39553  \n",
       "8  a2c     39553  "
      ]
     },
     "execution_count": 39,
     "metadata": {},
     "output_type": "execute_result"
    }
   ],
   "source": [
    "instances_w_labels_df = io_views.get_table('instances_w_labels')\n",
    "instances_w_labels_df = instances_w_labels_df[(instances_w_labels_df['view']=='a2c') | (instances_w_labels_df['view']=='a4c')]\n",
    "print(instances_w_labels_df.shape)\n",
    "instances_w_labels_df.head()"
   ]
  },
  {
   "cell_type": "code",
   "execution_count": 38,
   "metadata": {},
   "outputs": [
    {
     "name": "stdout",
     "output_type": "stream",
     "text": [
      "(72527, 9)\n"
     ]
    },
    {
     "data": {
      "text/html": [
       "<div>\n",
       "<style scoped>\n",
       "    .dataframe tbody tr th:only-of-type {\n",
       "        vertical-align: middle;\n",
       "    }\n",
       "\n",
       "    .dataframe tbody tr th {\n",
       "        vertical-align: top;\n",
       "    }\n",
       "\n",
       "    .dataframe thead th {\n",
       "        text-align: right;\n",
       "    }\n",
       "</style>\n",
       "<table border=\"1\" class=\"dataframe\">\n",
       "  <thead>\n",
       "    <tr style=\"text-align: right;\">\n",
       "      <th></th>\n",
       "      <th>instanceidk</th>\n",
       "      <th>indexinmglist</th>\n",
       "      <th>studyidk</th>\n",
       "      <th>frame</th>\n",
       "      <th>view_name</th>\n",
       "      <th>view_exists</th>\n",
       "      <th>view_only</th>\n",
       "      <th>ventricle_only</th>\n",
       "      <th>cycle_only</th>\n",
       "    </tr>\n",
       "  </thead>\n",
       "  <tbody>\n",
       "    <tr>\n",
       "      <th>0</th>\n",
       "      <td>57164</td>\n",
       "      <td>1</td>\n",
       "      <td>2882</td>\n",
       "      <td>15</td>\n",
       "      <td>a4c_ven_ed</td>\n",
       "      <td>t</td>\n",
       "      <td>a4c</td>\n",
       "      <td>ven</td>\n",
       "      <td>ed</td>\n",
       "    </tr>\n",
       "    <tr>\n",
       "      <th>1</th>\n",
       "      <td>58207</td>\n",
       "      <td>1</td>\n",
       "      <td>2966</td>\n",
       "      <td>8</td>\n",
       "      <td>a4c_ven_ed</td>\n",
       "      <td>t</td>\n",
       "      <td>a4c</td>\n",
       "      <td>ven</td>\n",
       "      <td>ed</td>\n",
       "    </tr>\n",
       "    <tr>\n",
       "      <th>2</th>\n",
       "      <td>102950</td>\n",
       "      <td>0</td>\n",
       "      <td>5898</td>\n",
       "      <td>17</td>\n",
       "      <td>a4c_ven_ed</td>\n",
       "      <td>t</td>\n",
       "      <td>a4c</td>\n",
       "      <td>ven</td>\n",
       "      <td>ed</td>\n",
       "    </tr>\n",
       "    <tr>\n",
       "      <th>3</th>\n",
       "      <td>105943</td>\n",
       "      <td>1</td>\n",
       "      <td>6085</td>\n",
       "      <td>62</td>\n",
       "      <td>a4c_ven_ed</td>\n",
       "      <td>t</td>\n",
       "      <td>a4c</td>\n",
       "      <td>ven</td>\n",
       "      <td>ed</td>\n",
       "    </tr>\n",
       "    <tr>\n",
       "      <th>4</th>\n",
       "      <td>105951</td>\n",
       "      <td>0</td>\n",
       "      <td>6086</td>\n",
       "      <td>7</td>\n",
       "      <td>a4c_ven_ed</td>\n",
       "      <td>t</td>\n",
       "      <td>a4c</td>\n",
       "      <td>ven</td>\n",
       "      <td>ed</td>\n",
       "    </tr>\n",
       "  </tbody>\n",
       "</table>\n",
       "</div>"
      ],
      "text/plain": [
       "   instanceidk  indexinmglist  studyidk  frame   view_name view_exists  \\\n",
       "0        57164              1      2882     15  a4c_ven_ed           t   \n",
       "1        58207              1      2966      8  a4c_ven_ed           t   \n",
       "2       102950              0      5898     17  a4c_ven_ed           t   \n",
       "3       105943              1      6085     62  a4c_ven_ed           t   \n",
       "4       105951              0      6086      7  a4c_ven_ed           t   \n",
       "\n",
       "  view_only ventricle_only cycle_only  \n",
       "0       a4c            ven         ed  \n",
       "1       a4c            ven         ed  \n",
       "2       a4c            ven         ed  \n",
       "3       a4c            ven         ed  \n",
       "4       a4c            ven         ed  "
      ]
     },
     "execution_count": 38,
     "metadata": {},
     "output_type": "execute_result"
    }
   ],
   "source": [
    "frames_by_volume_mask_df = io_views.get_table('frames_by_volume_mask')\n",
    "print(frames_by_volume_mask_df.shape)\n",
    "frames_by_volume_mask_df.head()"
   ]
  },
  {
   "cell_type": "code",
   "execution_count": 41,
   "metadata": {},
   "outputs": [],
   "source": [
    "def get_recommendation(row):\n",
    "    return 'normal' if row['value'] >= 60 else 'abnormal' if row['value'] <= 40 else 'greyzone'"
   ]
  },
  {
   "cell_type": "code",
   "execution_count": null,
   "metadata": {},
   "outputs": [],
   "source": [
    "start_df = measurement_abstract_rpt_df\n",
    "filter_df = start_df"
   ]
  },
  {
   "cell_type": "code",
   "execution_count": 42,
   "metadata": {},
   "outputs": [
    {
     "name": "stdout",
     "output_type": "stream",
     "text": [
      "1568351\n",
      "85719\n",
      "0.05465549484777323\n"
     ]
    }
   ],
   "source": [
    "filter_df = filter_df[filter_df['name'].str.contains('FE')]\n",
    "filter_df = filter_df[filter_df['value']>=0]\n",
    "print(len(start_df))\n",
    "print(len(filter_df))\n",
    "print(len(filter_df)/len(start_df))"
   ]
  },
  {
   "cell_type": "code",
   "execution_count": 43,
   "metadata": {},
   "outputs": [
    {
     "data": {
      "text/plain": [
       "FE(MDD-ps4)             17222\n",
       "FE(el-ps4)              16332\n",
       "FE(Teich)               11741\n",
       "FE(cúbico)              11736\n",
       "FE(MDD-ps2)              9476\n",
       "FE(el-ps2)               9107\n",
       "FE(MDD-bp)               8938\n",
       "FE (Bi-Plane) (aCMQ)      591\n",
       "FE A4C (aCMQ)             262\n",
       "FE (HM)_phl               250\n",
       "FEVI Bipl                  49\n",
       "FE(MDD-bp)esf              12\n",
       "FE_3D-Vol.                  3\n",
       "Name: name, dtype: int64"
      ]
     },
     "execution_count": 43,
     "metadata": {},
     "output_type": "execute_result"
    }
   ],
   "source": [
    "filter_df['name'].value_counts()"
   ]
  },
  {
   "cell_type": "code",
   "execution_count": 44,
   "metadata": {},
   "outputs": [
    {
     "name": "stdout",
     "output_type": "stream",
     "text": [
      "1568351\n",
      "33554\n",
      "0.02139444550358944\n"
     ]
    }
   ],
   "source": [
    "filter_df = filter_df[filter_df['name'].str.contains('ps4')]\n",
    "print(len(start_df))\n",
    "print(len(filter_df))\n",
    "print(len(filter_df)/len(start_df))"
   ]
  },
  {
   "cell_type": "code",
   "execution_count": 45,
   "metadata": {},
   "outputs": [
    {
     "data": {
      "text/plain": [
       "FE(MDD-ps4)    17222\n",
       "FE(el-ps4)     16332\n",
       "Name: name, dtype: int64"
      ]
     },
     "execution_count": 45,
     "metadata": {},
     "output_type": "execute_result"
    }
   ],
   "source": [
    "filter_df['name'].value_counts()"
   ]
  },
  {
   "cell_type": "code",
   "execution_count": 46,
   "metadata": {},
   "outputs": [
    {
     "name": "stdout",
     "output_type": "stream",
     "text": [
      "1568351\n",
      "17222\n",
      "0.01098096025698329\n"
     ]
    }
   ],
   "source": [
    "filter_df = filter_df[filter_df['name'].str.contains('MDD')]\n",
    "print(len(start_df))\n",
    "print(len(filter_df))\n",
    "print(len(filter_df)/len(start_df))"
   ]
  },
  {
   "cell_type": "code",
   "execution_count": 47,
   "metadata": {},
   "outputs": [
    {
     "data": {
      "text/html": [
       "<div>\n",
       "<style scoped>\n",
       "    .dataframe tbody tr th:only-of-type {\n",
       "        vertical-align: middle;\n",
       "    }\n",
       "\n",
       "    .dataframe tbody tr th {\n",
       "        vertical-align: top;\n",
       "    }\n",
       "\n",
       "    .dataframe thead th {\n",
       "        text-align: right;\n",
       "    }\n",
       "</style>\n",
       "<table border=\"1\" class=\"dataframe\">\n",
       "  <thead>\n",
       "    <tr style=\"text-align: right;\">\n",
       "      <th></th>\n",
       "      <th>studyidk</th>\n",
       "      <th>measabstractnumber</th>\n",
       "      <th>name</th>\n",
       "      <th>value</th>\n",
       "      <th>unitname</th>\n",
       "    </tr>\n",
       "  </thead>\n",
       "  <tbody>\n",
       "    <tr>\n",
       "      <th>3</th>\n",
       "      <td>2882</td>\n",
       "      <td>46</td>\n",
       "      <td>FE(MDD-ps4)</td>\n",
       "      <td>35.095355</td>\n",
       "      <td>%</td>\n",
       "    </tr>\n",
       "    <tr>\n",
       "      <th>49</th>\n",
       "      <td>2966</td>\n",
       "      <td>46</td>\n",
       "      <td>FE(MDD-ps4)</td>\n",
       "      <td>47.570583</td>\n",
       "      <td>%</td>\n",
       "    </tr>\n",
       "    <tr>\n",
       "      <th>155</th>\n",
       "      <td>5898</td>\n",
       "      <td>54</td>\n",
       "      <td>FE(MDD-ps4)</td>\n",
       "      <td>30.191358</td>\n",
       "      <td>%</td>\n",
       "    </tr>\n",
       "    <tr>\n",
       "      <th>216</th>\n",
       "      <td>6085</td>\n",
       "      <td>46</td>\n",
       "      <td>FE(MDD-ps4)</td>\n",
       "      <td>43.677717</td>\n",
       "      <td>%</td>\n",
       "    </tr>\n",
       "    <tr>\n",
       "      <th>260</th>\n",
       "      <td>6086</td>\n",
       "      <td>46</td>\n",
       "      <td>FE(MDD-ps4)</td>\n",
       "      <td>56.657825</td>\n",
       "      <td>%</td>\n",
       "    </tr>\n",
       "  </tbody>\n",
       "</table>\n",
       "</div>"
      ],
      "text/plain": [
       "     studyidk  measabstractnumber         name      value unitname\n",
       "3        2882                  46  FE(MDD-ps4)  35.095355        %\n",
       "49       2966                  46  FE(MDD-ps4)  47.570583        %\n",
       "155      5898                  54  FE(MDD-ps4)  30.191358        %\n",
       "216      6085                  46  FE(MDD-ps4)  43.677717        %\n",
       "260      6086                  46  FE(MDD-ps4)  56.657825        %"
      ]
     },
     "execution_count": 47,
     "metadata": {},
     "output_type": "execute_result"
    }
   ],
   "source": [
    "filter_df.head()"
   ]
  },
  {
   "cell_type": "code",
   "execution_count": 48,
   "metadata": {},
   "outputs": [
    {
     "data": {
      "text/plain": [
       "count    17222.000000\n",
       "mean        59.425990\n",
       "std         12.316584\n",
       "min          3.069337\n",
       "25%         53.584282\n",
       "50%         60.688535\n",
       "75%         67.546831\n",
       "max         94.035998\n",
       "Name: value, dtype: float64"
      ]
     },
     "execution_count": 48,
     "metadata": {},
     "output_type": "execute_result"
    }
   ],
   "source": [
    "filter_df['value'].describe()"
   ]
  },
  {
   "cell_type": "code",
   "execution_count": 49,
   "metadata": {},
   "outputs": [
    {
     "data": {
      "image/png": "[encoded data removed]",
      "text/plain": [
       "<Figure size 432x288 with 1 Axes>"
      ]
     },
     "metadata": {},
     "output_type": "display_data"
    }
   ],
   "source": [
    "plt.title(f'Count of All Reported Ejection Fraction Values')\n",
    "plt.xlabel('Value')\n",
    "plt.ylabel('Counts')\n",
    "plt.hist(filter_df['value'], bins=20);"
   ]
  },
  {
   "cell_type": "code",
   "execution_count": 50,
   "metadata": {},
   "outputs": [],
   "source": [
    "filter_df['recommendation'] = filter_df.apply(get_recommendation, axis=1)"
   ]
  },
  {
   "cell_type": "code",
   "execution_count": 51,
   "metadata": {},
   "outputs": [
    {
     "data": {
      "text/plain": [
       "normal      9092\n",
       "greyzone    6751\n",
       "abnormal    1379\n",
       "Name: recommendation, dtype: int64"
      ]
     },
     "execution_count": 51,
     "metadata": {},
     "output_type": "execute_result"
    }
   ],
   "source": [
    "filter_df['recommendation'].value_counts()"
   ]
  },
  {
   "cell_type": "code",
   "execution_count": 52,
   "metadata": {},
   "outputs": [
    {
     "data": {
      "text/plain": [
       "normal      0.527929\n",
       "greyzone    0.391999\n",
       "abnormal    0.080072\n",
       "Name: recommendation, dtype: float64"
      ]
     },
     "execution_count": 52,
     "metadata": {},
     "output_type": "execute_result"
    }
   ],
   "source": [
    "filter_df['recommendation'].value_counts()/filter_df['recommendation'].value_counts().sum()"
   ]
  },
  {
   "cell_type": "code",
   "execution_count": 53,
   "metadata": {},
   "outputs": [
    {
     "name": "stdout",
     "output_type": "stream",
     "text": [
      "1568351\n",
      "7806\n",
      "0.0049772021696673765\n"
     ]
    }
   ],
   "source": [
    "filter_df = filter_df[filter_df['studyidk'].isin(instances_w_labels_df['studyidk'].unique())]\n",
    "print(len(start_df))\n",
    "print(len(filter_df))\n",
    "print(len(filter_df)/len(start_df))"
   ]
  },
  {
   "cell_type": "code",
   "execution_count": 54,
   "metadata": {},
   "outputs": [
    {
     "name": "stdout",
     "output_type": "stream",
     "text": [
      "1568351\n",
      "7805\n",
      "0.004976564557296167\n"
     ]
    }
   ],
   "source": [
    "filter_df = filter_df[filter_df['studyidk'].isin(frames_by_volume_mask_df['studyidk'].unique())]\n",
    "print(len(start_df))\n",
    "print(len(filter_df))\n",
    "print(len(filter_df)/len(start_df))"
   ]
  },
  {
   "cell_type": "code",
   "execution_count": 55,
   "metadata": {},
   "outputs": [
    {
     "data": {
      "text/plain": [
       "count    7805.000000\n",
       "mean       60.288264\n",
       "std        12.560477\n",
       "min         5.576720\n",
       "25%        54.172151\n",
       "50%        61.485345\n",
       "75%        68.685309\n",
       "max        94.035998\n",
       "Name: value, dtype: float64"
      ]
     },
     "execution_count": 55,
     "metadata": {},
     "output_type": "execute_result"
    }
   ],
   "source": [
    "filter_df['value'].describe()"
   ]
  },
  {
   "cell_type": "code",
   "execution_count": 56,
   "metadata": {},
   "outputs": [
    {
     "data": {
      "image/png": "[encoded data removed]",
      "text/plain": [
       "<Figure size 432x288 with 1 Axes>"
      ]
     },
     "metadata": {},
     "output_type": "display_data"
    }
   ],
   "source": [
    "plt.title(f'Count of Filtered Reported Ejection Fraction Values')\n",
    "plt.xlabel('Value')\n",
    "plt.ylabel('Counts')\n",
    "plt.hist(filter_df['value'], bins=20);"
   ]
  },
  {
   "cell_type": "code",
   "execution_count": 57,
   "metadata": {},
   "outputs": [
    {
     "data": {
      "text/plain": [
       "normal      4354\n",
       "greyzone    2882\n",
       "abnormal     569\n",
       "Name: recommendation, dtype: int64"
      ]
     },
     "execution_count": 57,
     "metadata": {},
     "output_type": "execute_result"
    }
   ],
   "source": [
    "filter_df['recommendation'].value_counts()"
   ]
  },
  {
   "cell_type": "code",
   "execution_count": 58,
   "metadata": {},
   "outputs": [
    {
     "data": {
      "text/html": [
       "<div>\n",
       "<style scoped>\n",
       "    .dataframe tbody tr th:only-of-type {\n",
       "        vertical-align: middle;\n",
       "    }\n",
       "\n",
       "    .dataframe tbody tr th {\n",
       "        vertical-align: top;\n",
       "    }\n",
       "\n",
       "    .dataframe thead th {\n",
       "        text-align: right;\n",
       "    }\n",
       "</style>\n",
       "<table border=\"1\" class=\"dataframe\">\n",
       "  <thead>\n",
       "    <tr style=\"text-align: right;\">\n",
       "      <th></th>\n",
       "      <th>studyidk</th>\n",
       "      <th>measabstractnumber</th>\n",
       "      <th>name</th>\n",
       "      <th>value</th>\n",
       "      <th>unitname</th>\n",
       "      <th>recommendation</th>\n",
       "    </tr>\n",
       "  </thead>\n",
       "  <tbody>\n",
       "    <tr>\n",
       "      <th>42925</th>\n",
       "      <td>39531</td>\n",
       "      <td>92</td>\n",
       "      <td>FE(MDD-ps4)</td>\n",
       "      <td>30.358275</td>\n",
       "      <td>%</td>\n",
       "      <td>abnormal</td>\n",
       "    </tr>\n",
       "    <tr>\n",
       "      <th>43179</th>\n",
       "      <td>39552</td>\n",
       "      <td>121</td>\n",
       "      <td>FE(MDD-ps4)</td>\n",
       "      <td>55.920676</td>\n",
       "      <td>%</td>\n",
       "      <td>greyzone</td>\n",
       "    </tr>\n",
       "    <tr>\n",
       "      <th>43217</th>\n",
       "      <td>39553</td>\n",
       "      <td>108</td>\n",
       "      <td>FE(MDD-ps4)</td>\n",
       "      <td>48.403448</td>\n",
       "      <td>%</td>\n",
       "      <td>greyzone</td>\n",
       "    </tr>\n",
       "    <tr>\n",
       "      <th>43234</th>\n",
       "      <td>39555</td>\n",
       "      <td>92</td>\n",
       "      <td>FE(MDD-ps4)</td>\n",
       "      <td>60.866452</td>\n",
       "      <td>%</td>\n",
       "      <td>normal</td>\n",
       "    </tr>\n",
       "    <tr>\n",
       "      <th>43275</th>\n",
       "      <td>39557</td>\n",
       "      <td>92</td>\n",
       "      <td>FE(MDD-ps4)</td>\n",
       "      <td>26.676257</td>\n",
       "      <td>%</td>\n",
       "      <td>abnormal</td>\n",
       "    </tr>\n",
       "  </tbody>\n",
       "</table>\n",
       "</div>"
      ],
      "text/plain": [
       "       studyidk  measabstractnumber         name      value unitname  \\\n",
       "42925     39531                  92  FE(MDD-ps4)  30.358275        %   \n",
       "43179     39552                 121  FE(MDD-ps4)  55.920676        %   \n",
       "43217     39553                 108  FE(MDD-ps4)  48.403448        %   \n",
       "43234     39555                  92  FE(MDD-ps4)  60.866452        %   \n",
       "43275     39557                  92  FE(MDD-ps4)  26.676257        %   \n",
       "\n",
       "      recommendation  \n",
       "42925       abnormal  \n",
       "43179       greyzone  \n",
       "43217       greyzone  \n",
       "43234         normal  \n",
       "43275       abnormal  "
      ]
     },
     "execution_count": 58,
     "metadata": {},
     "output_type": "execute_result"
    }
   ],
   "source": [
    "filter_df.head()"
   ]
  }
 ],
 "metadata": {
  "kernelspec": {
   "display_name": "Environment (conda_yoni)",
   "language": "python",
   "name": "conda_yoni"
  },
  "language_info": {
   "codemirror_mode": {
    "name": "ipython",
    "version": 3
   },
   "file_extension": ".py",
   "mimetype": "text/x-python",
   "name": "python",
   "nbconvert_exporter": "python",
   "pygments_lexer": "ipython3",
   "version": "3.6.5"
  }
 },
 "nbformat": 4,
 "nbformat_minor": 2
}
