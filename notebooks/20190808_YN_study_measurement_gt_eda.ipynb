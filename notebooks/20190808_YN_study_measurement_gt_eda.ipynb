{
 "cells": [
  {
   "cell_type": "code",
   "execution_count": 1,
   "metadata": {},
   "outputs": [],
   "source": [
    "%reload_ext autoreload\n",
    "%autoreload 2\n",
    "%matplotlib inline"
   ]
  },
  {
   "cell_type": "code",
   "execution_count": 2,
   "metadata": {},
   "outputs": [],
   "source": [
    "import matplotlib as mpl\n",
    "mpl.rcParams['figure.dpi'] = 300"
   ]
  },
  {
   "cell_type": "code",
   "execution_count": 3,
   "metadata": {},
   "outputs": [],
   "source": [
    "import numpy as np\n",
    "import pandas as pd\n",
    "import matplotlib.pyplot as plt"
   ]
  },
  {
   "cell_type": "code",
   "execution_count": 4,
   "metadata": {},
   "outputs": [],
   "source": [
    "import sys\n",
    "sys.path.append('../src')"
   ]
  },
  {
   "cell_type": "code",
   "execution_count": 5,
   "metadata": {},
   "outputs": [
    {
     "name": "stderr",
     "output_type": "stream",
     "text": [
      "/home/ubuntu/anaconda3/envs/usal_echo/lib/python3.6/site-packages/psycopg2/__init__.py:144: UserWarning: The psycopg2 wheel package will be renamed from release 2.8; in order to keep installing from binary please use \"pip install psycopg2-binary\" instead. For details see: <http://initd.org/psycopg/docs/install.html#binary-install-from-pypi>.\n",
      "  \"\"\")\n"
     ]
    }
   ],
   "source": [
    "from d00_utils.db_utils import dbReadWriteClean, dbReadWriteViews\n",
    "io_clean = dbReadWriteClean()\n",
    "io_views = dbReadWriteViews()"
   ]
  },
  {
   "cell_type": "code",
   "execution_count": 6,
   "metadata": {},
   "outputs": [
    {
     "name": "stdout",
     "output_type": "stream",
     "text": [
      "(1568351, 5)\n"
     ]
    },
    {
     "data": {
      "text/html": [
       "<div>\n",
       "<style scoped>\n",
       "    .dataframe tbody tr th:only-of-type {\n",
       "        vertical-align: middle;\n",
       "    }\n",
       "\n",
       "    .dataframe tbody tr th {\n",
       "        vertical-align: top;\n",
       "    }\n",
       "\n",
       "    .dataframe thead th {\n",
       "        text-align: right;\n",
       "    }\n",
       "</style>\n",
       "<table border=\"1\" class=\"dataframe\">\n",
       "  <thead>\n",
       "    <tr style=\"text-align: right;\">\n",
       "      <th></th>\n",
       "      <th>studyidk</th>\n",
       "      <th>measabstractnumber</th>\n",
       "      <th>name</th>\n",
       "      <th>value</th>\n",
       "      <th>unitname</th>\n",
       "    </tr>\n",
       "  </thead>\n",
       "  <tbody>\n",
       "    <tr>\n",
       "      <th>0</th>\n",
       "      <td>2882</td>\n",
       "      <td>2</td>\n",
       "      <td>(P1/2t)AVM</td>\n",
       "      <td>2.491754</td>\n",
       "      <td>cm2</td>\n",
       "    </tr>\n",
       "    <tr>\n",
       "      <th>1</th>\n",
       "      <td>2882</td>\n",
       "      <td>12</td>\n",
       "      <td>Area TSVI</td>\n",
       "      <td>3.606348</td>\n",
       "      <td>cm2</td>\n",
       "    </tr>\n",
       "    <tr>\n",
       "      <th>2</th>\n",
       "      <td>2882</td>\n",
       "      <td>43</td>\n",
       "      <td>FE(el-ps4)</td>\n",
       "      <td>37.032087</td>\n",
       "      <td>%</td>\n",
       "    </tr>\n",
       "    <tr>\n",
       "      <th>3</th>\n",
       "      <td>2882</td>\n",
       "      <td>46</td>\n",
       "      <td>FE(MDD-ps4)</td>\n",
       "      <td>35.095355</td>\n",
       "      <td>%</td>\n",
       "    </tr>\n",
       "    <tr>\n",
       "      <th>4</th>\n",
       "      <td>2882</td>\n",
       "      <td>125</td>\n",
       "      <td>P1/2t VM</td>\n",
       "      <td>88.291224</td>\n",
       "      <td>ms</td>\n",
       "    </tr>\n",
       "  </tbody>\n",
       "</table>\n",
       "</div>"
      ],
      "text/plain": [
       "   studyidk  measabstractnumber         name      value unitname\n",
       "0      2882                   2   (P1/2t)AVM   2.491754      cm2\n",
       "1      2882                  12    Area TSVI   3.606348      cm2\n",
       "2      2882                  43   FE(el-ps4)  37.032087        %\n",
       "3      2882                  46  FE(MDD-ps4)  35.095355        %\n",
       "4      2882                 125     P1/2t VM  88.291224       ms"
      ]
     },
     "execution_count": 6,
     "metadata": {},
     "output_type": "execute_result"
    }
   ],
   "source": [
    "measurement_abstract_rpt_df = io_clean.get_table(\"measurement_abstract_rpt\")\n",
    "print(measurement_abstract_rpt_df.shape)\n",
    "measurement_abstract_rpt_df.head()"
   ]
  },
  {
   "cell_type": "code",
   "execution_count": 7,
   "metadata": {},
   "outputs": [
    {
     "name": "stdout",
     "output_type": "stream",
     "text": [
      "(2726, 5)\n"
     ]
    },
    {
     "data": {
      "text/html": [
       "<div>\n",
       "<style scoped>\n",
       "    .dataframe tbody tr th:only-of-type {\n",
       "        vertical-align: middle;\n",
       "    }\n",
       "\n",
       "    .dataframe tbody tr th {\n",
       "        vertical-align: top;\n",
       "    }\n",
       "\n",
       "    .dataframe thead th {\n",
       "        text-align: right;\n",
       "    }\n",
       "</style>\n",
       "<table border=\"1\" class=\"dataframe\">\n",
       "  <thead>\n",
       "    <tr style=\"text-align: right;\">\n",
       "      <th></th>\n",
       "      <th>sopinstanceuid</th>\n",
       "      <th>filename</th>\n",
       "      <th>instanceidk</th>\n",
       "      <th>view</th>\n",
       "      <th>studyidk</th>\n",
       "    </tr>\n",
       "  </thead>\n",
       "  <tbody>\n",
       "    <tr>\n",
       "      <th>0</th>\n",
       "      <td>1.2.840.113663.1500.1.365900332.3.4.20120704.1...</td>\n",
       "      <td>8ZGVCN6C</td>\n",
       "      <td>696438</td>\n",
       "      <td>a4c</td>\n",
       "      <td>39553</td>\n",
       "    </tr>\n",
       "    <tr>\n",
       "      <th>1</th>\n",
       "      <td>1.2.840.113663.1500.1.365900332.3.16.20120704....</td>\n",
       "      <td>8ZGVCPFW</td>\n",
       "      <td>696467</td>\n",
       "      <td>a2c</td>\n",
       "      <td>39553</td>\n",
       "    </tr>\n",
       "    <tr>\n",
       "      <th>2</th>\n",
       "      <td>1.2.840.113663.1500.1.365900332.3.9.20120704.1...</td>\n",
       "      <td>8ZGVDB47</td>\n",
       "      <td>696500</td>\n",
       "      <td>a4c</td>\n",
       "      <td>39555</td>\n",
       "    </tr>\n",
       "    <tr>\n",
       "      <th>4</th>\n",
       "      <td>1.2.840.113663.1500.1.365900332.3.13.20121022....</td>\n",
       "      <td>D1K0E7SN</td>\n",
       "      <td>738302</td>\n",
       "      <td>a2c</td>\n",
       "      <td>41686</td>\n",
       "    </tr>\n",
       "    <tr>\n",
       "      <th>6</th>\n",
       "      <td>1.2.840.113663.1500.1.365900332.3.9.20121106.1...</td>\n",
       "      <td>E457WH6C</td>\n",
       "      <td>744752</td>\n",
       "      <td>a4c</td>\n",
       "      <td>42015</td>\n",
       "    </tr>\n",
       "  </tbody>\n",
       "</table>\n",
       "</div>"
      ],
      "text/plain": [
       "                                      sopinstanceuid  filename  instanceidk  \\\n",
       "0  1.2.840.113663.1500.1.365900332.3.4.20120704.1...  8ZGVCN6C       696438   \n",
       "1  1.2.840.113663.1500.1.365900332.3.16.20120704....  8ZGVCPFW       696467   \n",
       "2  1.2.840.113663.1500.1.365900332.3.9.20120704.1...  8ZGVDB47       696500   \n",
       "4  1.2.840.113663.1500.1.365900332.3.13.20121022....  D1K0E7SN       738302   \n",
       "6  1.2.840.113663.1500.1.365900332.3.9.20121106.1...  E457WH6C       744752   \n",
       "\n",
       "  view  studyidk  \n",
       "0  a4c     39553  \n",
       "1  a2c     39553  \n",
       "2  a4c     39555  \n",
       "4  a2c     41686  \n",
       "6  a4c     42015  "
      ]
     },
     "execution_count": 7,
     "metadata": {},
     "output_type": "execute_result"
    }
   ],
   "source": [
    "instances_w_labels_test_df = io_views.get_table('instances_w_labels_test')\n",
    "instances_w_labels_test_df = instances_w_labels_test_df[(instances_w_labels_test_df['view']=='a2c') | (instances_w_labels_test_df['view']=='a4c')]\n",
    "print(instances_w_labels_test_df.shape)\n",
    "instances_w_labels_test_df.head()"
   ]
  },
  {
   "cell_type": "code",
   "execution_count": 8,
   "metadata": {},
   "outputs": [
    {
     "name": "stdout",
     "output_type": "stream",
     "text": [
      "(522, 5)\n"
     ]
    },
    {
     "data": {
      "text/html": [
       "<div>\n",
       "<style scoped>\n",
       "    .dataframe tbody tr th:only-of-type {\n",
       "        vertical-align: middle;\n",
       "    }\n",
       "\n",
       "    .dataframe tbody tr th {\n",
       "        vertical-align: top;\n",
       "    }\n",
       "\n",
       "    .dataframe thead th {\n",
       "        text-align: right;\n",
       "    }\n",
       "</style>\n",
       "<table border=\"1\" class=\"dataframe\">\n",
       "  <thead>\n",
       "    <tr style=\"text-align: right;\">\n",
       "      <th></th>\n",
       "      <th>sopinstanceuid</th>\n",
       "      <th>filename</th>\n",
       "      <th>instanceidk</th>\n",
       "      <th>view</th>\n",
       "      <th>studyidk</th>\n",
       "    </tr>\n",
       "  </thead>\n",
       "  <tbody>\n",
       "    <tr>\n",
       "      <th>0</th>\n",
       "      <td>1.2.840.113663.1500.1.365900332.3.8.20130125.1...</td>\n",
       "      <td>1LHFYKEZ</td>\n",
       "      <td>779540</td>\n",
       "      <td>a4c</td>\n",
       "      <td>43763</td>\n",
       "    </tr>\n",
       "    <tr>\n",
       "      <th>2</th>\n",
       "      <td>1.2.840.113663.1500.1.365900332.3.11.20130611....</td>\n",
       "      <td>7SQZPLEJ</td>\n",
       "      <td>841585</td>\n",
       "      <td>a4c</td>\n",
       "      <td>46919</td>\n",
       "    </tr>\n",
       "    <tr>\n",
       "      <th>4</th>\n",
       "      <td>1.2.840.113663.1500.1.365900332.3.8.20131120.1...</td>\n",
       "      <td>EAKXA40T</td>\n",
       "      <td>921901</td>\n",
       "      <td>a4c</td>\n",
       "      <td>50521</td>\n",
       "    </tr>\n",
       "    <tr>\n",
       "      <th>15</th>\n",
       "      <td>1.2.840.113663.1500.1.365900332.3.19.20140818....</td>\n",
       "      <td>AFUJWQM9</td>\n",
       "      <td>1078635</td>\n",
       "      <td>a4c</td>\n",
       "      <td>57515</td>\n",
       "    </tr>\n",
       "    <tr>\n",
       "      <th>17</th>\n",
       "      <td>1.2.840.113663.1500.1.365900332.3.19.20140828....</td>\n",
       "      <td>AKFY2K0G</td>\n",
       "      <td>1084663</td>\n",
       "      <td>a2c</td>\n",
       "      <td>57770</td>\n",
       "    </tr>\n",
       "  </tbody>\n",
       "</table>\n",
       "</div>"
      ],
      "text/plain": [
       "                                       sopinstanceuid  filename  instanceidk  \\\n",
       "0   1.2.840.113663.1500.1.365900332.3.8.20130125.1...  1LHFYKEZ       779540   \n",
       "2   1.2.840.113663.1500.1.365900332.3.11.20130611....  7SQZPLEJ       841585   \n",
       "4   1.2.840.113663.1500.1.365900332.3.8.20131120.1...  EAKXA40T       921901   \n",
       "15  1.2.840.113663.1500.1.365900332.3.19.20140818....  AFUJWQM9      1078635   \n",
       "17  1.2.840.113663.1500.1.365900332.3.19.20140828....  AKFY2K0G      1084663   \n",
       "\n",
       "   view  studyidk  \n",
       "0   a4c     43763  \n",
       "2   a4c     46919  \n",
       "4   a4c     50521  \n",
       "15  a4c     57515  \n",
       "17  a2c     57770  "
      ]
     },
     "execution_count": 8,
     "metadata": {},
     "output_type": "execute_result"
    }
   ],
   "source": [
    "instances_w_labels_test_downsampleby5_df = io_views.get_table('instances_w_labels_test_downsampleby5')\n",
    "instances_w_labels_test_downsampleby5_df = instances_w_labels_test_downsampleby5_df[(instances_w_labels_test_downsampleby5_df['view']=='a2c') | (instances_w_labels_test_downsampleby5_df['view']=='a4c')]\n",
    "print(instances_w_labels_test_downsampleby5_df.shape)\n",
    "instances_w_labels_test_downsampleby5_df.head()"
   ]
  },
  {
   "cell_type": "code",
   "execution_count": 9,
   "metadata": {},
   "outputs": [
    {
     "name": "stderr",
     "output_type": "stream",
     "text": [
      "/home/ubuntu/anaconda3/envs/usal_echo/lib/python3.6/site-packages/IPython/core/interactiveshell.py:3006: DtypeWarning: Columns (8,9) have mixed types. Specify dtype option on import or set low_memory=False.\n",
      "  if self.run_code(code, result):\n"
     ]
    },
    {
     "name": "stdout",
     "output_type": "stream",
     "text": [
      "(858255, 10)\n"
     ]
    },
    {
     "data": {
      "text/html": [
       "<div>\n",
       "<style scoped>\n",
       "    .dataframe tbody tr th:only-of-type {\n",
       "        vertical-align: middle;\n",
       "    }\n",
       "\n",
       "    .dataframe tbody tr th {\n",
       "        vertical-align: top;\n",
       "    }\n",
       "\n",
       "    .dataframe thead th {\n",
       "        text-align: right;\n",
       "    }\n",
       "</style>\n",
       "<table border=\"1\" class=\"dataframe\">\n",
       "  <thead>\n",
       "    <tr style=\"text-align: right;\">\n",
       "      <th></th>\n",
       "      <th>studyidk</th>\n",
       "      <th>measabstractnumber</th>\n",
       "      <th>meassequence</th>\n",
       "      <th>instanceidk</th>\n",
       "      <th>indexinmglist</th>\n",
       "      <th>value</th>\n",
       "      <th>howentered</th>\n",
       "      <th>srinstanceidk</th>\n",
       "      <th>imagesopinstanceuid</th>\n",
       "      <th>measurementuid</th>\n",
       "    </tr>\n",
       "  </thead>\n",
       "  <tbody>\n",
       "    <tr>\n",
       "      <th>0</th>\n",
       "      <td>2882</td>\n",
       "      <td>187</td>\n",
       "      <td>0</td>\n",
       "      <td>57164</td>\n",
       "      <td>0</td>\n",
       "      <td>28.242271</td>\n",
       "      <td>0</td>\n",
       "      <td></td>\n",
       "      <td></td>\n",
       "      <td></td>\n",
       "    </tr>\n",
       "    <tr>\n",
       "      <th>1</th>\n",
       "      <td>2882</td>\n",
       "      <td>188</td>\n",
       "      <td>0</td>\n",
       "      <td>57164</td>\n",
       "      <td>0</td>\n",
       "      <td>7.897812</td>\n",
       "      <td>0</td>\n",
       "      <td></td>\n",
       "      <td></td>\n",
       "      <td></td>\n",
       "    </tr>\n",
       "    <tr>\n",
       "      <th>2</th>\n",
       "      <td>2882</td>\n",
       "      <td>189</td>\n",
       "      <td>0</td>\n",
       "      <td>57164</td>\n",
       "      <td>0</td>\n",
       "      <td>85.725750</td>\n",
       "      <td>0</td>\n",
       "      <td></td>\n",
       "      <td></td>\n",
       "      <td></td>\n",
       "    </tr>\n",
       "    <tr>\n",
       "      <th>3</th>\n",
       "      <td>2882</td>\n",
       "      <td>190</td>\n",
       "      <td>0</td>\n",
       "      <td>57164</td>\n",
       "      <td>0</td>\n",
       "      <td>87.190031</td>\n",
       "      <td>0</td>\n",
       "      <td></td>\n",
       "      <td></td>\n",
       "      <td></td>\n",
       "    </tr>\n",
       "    <tr>\n",
       "      <th>4</th>\n",
       "      <td>2882</td>\n",
       "      <td>191</td>\n",
       "      <td>0</td>\n",
       "      <td>57164</td>\n",
       "      <td>1</td>\n",
       "      <td>36.654466</td>\n",
       "      <td>0</td>\n",
       "      <td></td>\n",
       "      <td></td>\n",
       "      <td></td>\n",
       "    </tr>\n",
       "  </tbody>\n",
       "</table>\n",
       "</div>"
      ],
      "text/plain": [
       "   studyidk  measabstractnumber  meassequence  instanceidk  indexinmglist  \\\n",
       "0      2882                 187             0        57164              0   \n",
       "1      2882                 188             0        57164              0   \n",
       "2      2882                 189             0        57164              0   \n",
       "3      2882                 190             0        57164              0   \n",
       "4      2882                 191             0        57164              1   \n",
       "\n",
       "       value  howentered srinstanceidk imagesopinstanceuid measurementuid  \n",
       "0  28.242271           0                                                   \n",
       "1   7.897812           0                                                   \n",
       "2  85.725750           0                                                   \n",
       "3  87.190031           0                                                   \n",
       "4  36.654466           0                                                   "
      ]
     },
     "execution_count": 9,
     "metadata": {},
     "output_type": "execute_result"
    }
   ],
   "source": [
    "a_measgraphref_df = io_clean.get_table(\"a_measgraphref\")\n",
    "print(a_measgraphref_df.shape)\n",
    "a_measgraphref_df.head()"
   ]
  },
  {
   "cell_type": "code",
   "execution_count": 10,
   "metadata": {},
   "outputs": [],
   "source": [
    "def get_recommendation(row):\n",
    "    return 'normal' if row['value'] >= 60 else 'abnormal' if row['value'] < 40 else 'greyzone'"
   ]
  },
  {
   "cell_type": "code",
   "execution_count": 11,
   "metadata": {},
   "outputs": [],
   "source": [
    "start_df = measurement_abstract_rpt_df\n",
    "filter_df = start_df"
   ]
  },
  {
   "cell_type": "code",
   "execution_count": 12,
   "metadata": {},
   "outputs": [
    {
     "name": "stdout",
     "output_type": "stream",
     "text": [
      "1568351\n",
      "85719\n",
      "0.05465549484777323\n"
     ]
    }
   ],
   "source": [
    "filter_df = filter_df[filter_df['name'].str.contains('FE')]\n",
    "filter_df = filter_df[filter_df['value']>=0]\n",
    "print(len(start_df))\n",
    "print(len(filter_df))\n",
    "print(len(filter_df)/len(start_df))"
   ]
  },
  {
   "cell_type": "code",
   "execution_count": 13,
   "metadata": {},
   "outputs": [
    {
     "data": {
      "text/plain": [
       "FE(MDD-ps4)             17222\n",
       "FE(el-ps4)              16332\n",
       "FE(Teich)               11741\n",
       "FE(cúbico)              11736\n",
       "FE(MDD-ps2)              9476\n",
       "FE(el-ps2)               9107\n",
       "FE(MDD-bp)               8938\n",
       "FE (Bi-Plane) (aCMQ)      591\n",
       "FE A4C (aCMQ)             262\n",
       "FE (HM)_phl               250\n",
       "FEVI Bipl                  49\n",
       "FE(MDD-bp)esf              12\n",
       "FE_3D-Vol.                  3\n",
       "Name: name, dtype: int64"
      ]
     },
     "execution_count": 13,
     "metadata": {},
     "output_type": "execute_result"
    }
   ],
   "source": [
    "filter_df['name'].value_counts()"
   ]
  },
  {
   "cell_type": "code",
   "execution_count": 14,
   "metadata": {},
   "outputs": [
    {
     "name": "stdout",
     "output_type": "stream",
     "text": [
      "1568351\n",
      "33554\n",
      "0.02139444550358944\n"
     ]
    }
   ],
   "source": [
    "filter_df = filter_df[filter_df['name'].str.contains('ps4')]\n",
    "print(len(start_df))\n",
    "print(len(filter_df))\n",
    "print(len(filter_df)/len(start_df))"
   ]
  },
  {
   "cell_type": "code",
   "execution_count": 15,
   "metadata": {},
   "outputs": [
    {
     "data": {
      "text/plain": [
       "FE(MDD-ps4)    17222\n",
       "FE(el-ps4)     16332\n",
       "Name: name, dtype: int64"
      ]
     },
     "execution_count": 15,
     "metadata": {},
     "output_type": "execute_result"
    }
   ],
   "source": [
    "filter_df['name'].value_counts()"
   ]
  },
  {
   "cell_type": "code",
   "execution_count": 16,
   "metadata": {},
   "outputs": [
    {
     "name": "stdout",
     "output_type": "stream",
     "text": [
      "1568351\n",
      "17222\n",
      "0.01098096025698329\n"
     ]
    }
   ],
   "source": [
    "filter_df = filter_df[filter_df['name'].str.contains('MDD')]\n",
    "print(len(start_df))\n",
    "print(len(filter_df))\n",
    "print(len(filter_df)/len(start_df))"
   ]
  },
  {
   "cell_type": "code",
   "execution_count": 17,
   "metadata": {},
   "outputs": [
    {
     "data": {
      "text/html": [
       "<div>\n",
       "<style scoped>\n",
       "    .dataframe tbody tr th:only-of-type {\n",
       "        vertical-align: middle;\n",
       "    }\n",
       "\n",
       "    .dataframe tbody tr th {\n",
       "        vertical-align: top;\n",
       "    }\n",
       "\n",
       "    .dataframe thead th {\n",
       "        text-align: right;\n",
       "    }\n",
       "</style>\n",
       "<table border=\"1\" class=\"dataframe\">\n",
       "  <thead>\n",
       "    <tr style=\"text-align: right;\">\n",
       "      <th></th>\n",
       "      <th>studyidk</th>\n",
       "      <th>measabstractnumber</th>\n",
       "      <th>name</th>\n",
       "      <th>value</th>\n",
       "      <th>unitname</th>\n",
       "    </tr>\n",
       "  </thead>\n",
       "  <tbody>\n",
       "    <tr>\n",
       "      <th>3</th>\n",
       "      <td>2882</td>\n",
       "      <td>46</td>\n",
       "      <td>FE(MDD-ps4)</td>\n",
       "      <td>35.095355</td>\n",
       "      <td>%</td>\n",
       "    </tr>\n",
       "    <tr>\n",
       "      <th>49</th>\n",
       "      <td>2966</td>\n",
       "      <td>46</td>\n",
       "      <td>FE(MDD-ps4)</td>\n",
       "      <td>47.570583</td>\n",
       "      <td>%</td>\n",
       "    </tr>\n",
       "    <tr>\n",
       "      <th>155</th>\n",
       "      <td>5898</td>\n",
       "      <td>54</td>\n",
       "      <td>FE(MDD-ps4)</td>\n",
       "      <td>30.191358</td>\n",
       "      <td>%</td>\n",
       "    </tr>\n",
       "    <tr>\n",
       "      <th>216</th>\n",
       "      <td>6085</td>\n",
       "      <td>46</td>\n",
       "      <td>FE(MDD-ps4)</td>\n",
       "      <td>43.677717</td>\n",
       "      <td>%</td>\n",
       "    </tr>\n",
       "    <tr>\n",
       "      <th>260</th>\n",
       "      <td>6086</td>\n",
       "      <td>46</td>\n",
       "      <td>FE(MDD-ps4)</td>\n",
       "      <td>56.657825</td>\n",
       "      <td>%</td>\n",
       "    </tr>\n",
       "  </tbody>\n",
       "</table>\n",
       "</div>"
      ],
      "text/plain": [
       "     studyidk  measabstractnumber         name      value unitname\n",
       "3        2882                  46  FE(MDD-ps4)  35.095355        %\n",
       "49       2966                  46  FE(MDD-ps4)  47.570583        %\n",
       "155      5898                  54  FE(MDD-ps4)  30.191358        %\n",
       "216      6085                  46  FE(MDD-ps4)  43.677717        %\n",
       "260      6086                  46  FE(MDD-ps4)  56.657825        %"
      ]
     },
     "execution_count": 17,
     "metadata": {},
     "output_type": "execute_result"
    }
   ],
   "source": [
    "filter_df.head()"
   ]
  },
  {
   "cell_type": "code",
   "execution_count": 18,
   "metadata": {},
   "outputs": [
    {
     "data": {
      "text/plain": [
       "count    17222.000000\n",
       "mean        59.425990\n",
       "std         12.316584\n",
       "min          3.069337\n",
       "25%         53.584282\n",
       "50%         60.688535\n",
       "75%         67.546831\n",
       "max         94.035998\n",
       "Name: value, dtype: float64"
      ]
     },
     "execution_count": 18,
     "metadata": {},
     "output_type": "execute_result"
    }
   ],
   "source": [
    "filter_df['value'].describe()"
   ]
  },
  {
   "cell_type": "code",
   "execution_count": 19,
   "metadata": {},
   "outputs": [
    {
     "data": {
      "image/png": "[encoded data removed]",
      "text/plain": [
       "<Figure size 1800x1200 with 1 Axes>"
      ]
     },
     "metadata": {},
     "output_type": "display_data"
    }
   ],
   "source": [
    "plt.title(f'Count of All Reported Ejection Fraction Values')\n",
    "plt.xlabel('Value')\n",
    "plt.ylabel('Counts')\n",
    "plt.hist(filter_df['value'], bins=20);"
   ]
  },
  {
   "cell_type": "code",
   "execution_count": 20,
   "metadata": {},
   "outputs": [],
   "source": [
    "filter_df['recommendation'] = filter_df.apply(get_recommendation, axis=1)"
   ]
  },
  {
   "cell_type": "code",
   "execution_count": 21,
   "metadata": {},
   "outputs": [
    {
     "data": {
      "text/plain": [
       "normal      9092\n",
       "greyzone    6751\n",
       "abnormal    1379\n",
       "Name: recommendation, dtype: int64"
      ]
     },
     "execution_count": 21,
     "metadata": {},
     "output_type": "execute_result"
    }
   ],
   "source": [
    "filter_df['recommendation'].value_counts()"
   ]
  },
  {
   "cell_type": "code",
   "execution_count": 22,
   "metadata": {},
   "outputs": [
    {
     "data": {
      "text/plain": [
       "normal      0.527929\n",
       "greyzone    0.391999\n",
       "abnormal    0.080072\n",
       "Name: recommendation, dtype: float64"
      ]
     },
     "execution_count": 22,
     "metadata": {},
     "output_type": "execute_result"
    }
   ],
   "source": [
    "filter_df['recommendation'].value_counts()/filter_df['recommendation'].value_counts().sum()"
   ]
  },
  {
   "cell_type": "code",
   "execution_count": 23,
   "metadata": {},
   "outputs": [],
   "source": [
    "# filter_df = filter_df[filter_df['studyidk'].isin(instances_w_labels_test_df['studyidk'].unique())]\n",
    "# print(len(start_df))\n",
    "# print(len(filter_df))\n",
    "# print(len(filter_df)/len(start_df))"
   ]
  },
  {
   "cell_type": "code",
   "execution_count": 24,
   "metadata": {},
   "outputs": [
    {
     "name": "stdout",
     "output_type": "stream",
     "text": [
      "1568351\n",
      "483\n",
      "0.000307966775294561\n"
     ]
    }
   ],
   "source": [
    "filter_df = filter_df[filter_df['studyidk'].isin(instances_w_labels_test_downsampleby5_df['studyidk'].unique())]\n",
    "print(len(start_df))\n",
    "print(len(filter_df))\n",
    "print(len(filter_df)/len(start_df))"
   ]
  },
  {
   "cell_type": "code",
   "execution_count": 25,
   "metadata": {},
   "outputs": [
    {
     "name": "stdout",
     "output_type": "stream",
     "text": [
      "1568351\n",
      "483\n",
      "0.000307966775294561\n"
     ]
    }
   ],
   "source": [
    "filter_df = filter_df[filter_df['studyidk'].isin(a_measgraphref_df['studyidk'].unique())]\n",
    "print(len(start_df))\n",
    "print(len(filter_df))\n",
    "print(len(filter_df)/len(start_df))"
   ]
  },
  {
   "cell_type": "code",
   "execution_count": 26,
   "metadata": {},
   "outputs": [
    {
     "data": {
      "text/plain": [
       "count    483.000000\n",
       "mean      59.907743\n",
       "std       12.513787\n",
       "min       15.058492\n",
       "25%       53.488129\n",
       "50%       61.070232\n",
       "75%       68.610079\n",
       "max       92.501219\n",
       "Name: value, dtype: float64"
      ]
     },
     "execution_count": 26,
     "metadata": {},
     "output_type": "execute_result"
    }
   ],
   "source": [
    "filter_df['value'].describe()"
   ]
  },
  {
   "cell_type": "code",
   "execution_count": 27,
   "metadata": {},
   "outputs": [
    {
     "data": {
      "image/png": "[encoded data removed]",
      "text/plain": [
       "<Figure size 1800x1200 with 1 Axes>"
      ]
     },
     "metadata": {},
     "output_type": "display_data"
    }
   ],
   "source": [
    "plt.title(f'Count of Filtered Reported Ejection Fraction Values')\n",
    "plt.xlabel('Value')\n",
    "plt.ylabel('Counts')\n",
    "plt.hist(filter_df['value'], bins=20);"
   ]
  },
  {
   "cell_type": "code",
   "execution_count": 28,
   "metadata": {},
   "outputs": [
    {
     "data": {
      "text/plain": [
       "normal      260\n",
       "greyzone    186\n",
       "abnormal     37\n",
       "Name: recommendation, dtype: int64"
      ]
     },
     "execution_count": 28,
     "metadata": {},
     "output_type": "execute_result"
    }
   ],
   "source": [
    "filter_df['recommendation'].value_counts()"
   ]
  },
  {
   "cell_type": "code",
   "execution_count": 29,
   "metadata": {},
   "outputs": [
    {
     "data": {
      "text/plain": [
       "normal      0.538302\n",
       "greyzone    0.385093\n",
       "abnormal    0.076605\n",
       "Name: recommendation, dtype: float64"
      ]
     },
     "execution_count": 29,
     "metadata": {},
     "output_type": "execute_result"
    }
   ],
   "source": [
    "filter_df['recommendation'].value_counts()/filter_df['recommendation'].value_counts().sum()"
   ]
  },
  {
   "cell_type": "code",
   "execution_count": 30,
   "metadata": {},
   "outputs": [
    {
     "data": {
      "text/html": [
       "<div>\n",
       "<style scoped>\n",
       "    .dataframe tbody tr th:only-of-type {\n",
       "        vertical-align: middle;\n",
       "    }\n",
       "\n",
       "    .dataframe tbody tr th {\n",
       "        vertical-align: top;\n",
       "    }\n",
       "\n",
       "    .dataframe thead th {\n",
       "        text-align: right;\n",
       "    }\n",
       "</style>\n",
       "<table border=\"1\" class=\"dataframe\">\n",
       "  <thead>\n",
       "    <tr style=\"text-align: right;\">\n",
       "      <th></th>\n",
       "      <th>studyidk</th>\n",
       "      <th>measabstractnumber</th>\n",
       "      <th>name</th>\n",
       "      <th>value</th>\n",
       "      <th>unitname</th>\n",
       "      <th>recommendation</th>\n",
       "    </tr>\n",
       "  </thead>\n",
       "  <tbody>\n",
       "    <tr>\n",
       "      <th>57522</th>\n",
       "      <td>43763</td>\n",
       "      <td>96</td>\n",
       "      <td>FE(MDD-ps4)</td>\n",
       "      <td>60.853560</td>\n",
       "      <td>%</td>\n",
       "      <td>normal</td>\n",
       "    </tr>\n",
       "    <tr>\n",
       "      <th>73661</th>\n",
       "      <td>46919</td>\n",
       "      <td>96</td>\n",
       "      <td>FE(MDD-ps4)</td>\n",
       "      <td>51.193124</td>\n",
       "      <td>%</td>\n",
       "      <td>greyzone</td>\n",
       "    </tr>\n",
       "    <tr>\n",
       "      <th>93954</th>\n",
       "      <td>50521</td>\n",
       "      <td>96</td>\n",
       "      <td>FE(MDD-ps4)</td>\n",
       "      <td>55.680283</td>\n",
       "      <td>%</td>\n",
       "      <td>greyzone</td>\n",
       "    </tr>\n",
       "    <tr>\n",
       "      <th>152959</th>\n",
       "      <td>57515</td>\n",
       "      <td>98</td>\n",
       "      <td>FE(MDD-ps4)</td>\n",
       "      <td>57.314276</td>\n",
       "      <td>%</td>\n",
       "      <td>greyzone</td>\n",
       "    </tr>\n",
       "    <tr>\n",
       "      <th>157784</th>\n",
       "      <td>57770</td>\n",
       "      <td>108</td>\n",
       "      <td>FE(MDD-ps4)</td>\n",
       "      <td>52.836621</td>\n",
       "      <td>%</td>\n",
       "      <td>greyzone</td>\n",
       "    </tr>\n",
       "  </tbody>\n",
       "</table>\n",
       "</div>"
      ],
      "text/plain": [
       "        studyidk  measabstractnumber         name      value unitname  \\\n",
       "57522      43763                  96  FE(MDD-ps4)  60.853560        %   \n",
       "73661      46919                  96  FE(MDD-ps4)  51.193124        %   \n",
       "93954      50521                  96  FE(MDD-ps4)  55.680283        %   \n",
       "152959     57515                  98  FE(MDD-ps4)  57.314276        %   \n",
       "157784     57770                 108  FE(MDD-ps4)  52.836621        %   \n",
       "\n",
       "       recommendation  \n",
       "57522          normal  \n",
       "73661        greyzone  \n",
       "93954        greyzone  \n",
       "152959       greyzone  \n",
       "157784       greyzone  "
      ]
     },
     "execution_count": 30,
     "metadata": {},
     "output_type": "execute_result"
    }
   ],
   "source": [
    "filter_df.head()"
   ]
  }
 ],
 "metadata": {
  "kernelspec": {
   "display_name": "Environment (conda_usal_echo)",
   "language": "python",
   "name": "conda_usal_echo"
  },
  "language_info": {
   "codemirror_mode": {
    "name": "ipython",
    "version": 3
   },
   "file_extension": ".py",
   "mimetype": "text/x-python",
   "name": "python",
   "nbconvert_exporter": "python",
   "pygments_lexer": "ipython3",
   "version": "3.6.5"
  }
 },
 "nbformat": 4,
 "nbformat_minor": 2
}
