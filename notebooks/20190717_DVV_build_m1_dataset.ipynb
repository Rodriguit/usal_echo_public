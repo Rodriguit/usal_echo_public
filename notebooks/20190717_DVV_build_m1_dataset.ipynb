{
 "cells": [
  {
   "cell_type": "code",
   "execution_count": 1,
   "metadata": {},
   "outputs": [],
   "source": [
    "import pandas as pd\n",
    "import sys\n",
    "import matplotlib.pyplot as plt\n",
    "\n",
    "sys.path.append('../src')\n",
    "\n",
    "from d00_utils.db_utils import dbReadWriteViews, dbReadWriteClean, dbReadWriteRaw"
   ]
  },
  {
   "cell_type": "code",
   "execution_count": 2,
   "metadata": {},
   "outputs": [],
   "source": [
    "io_views = dbReadWriteViews()\n",
    "\n",
    "all_inst_df = io_views.get_table('instances_unique_master_list')\n",
    "label_inst_df = io_views.get_table('instances_with_labels')\n",
    "confl_inst_df = io_views.get_table('instances_with_conflicts')"
   ]
  },
  {
   "cell_type": "code",
   "execution_count": 3,
   "metadata": {},
   "outputs": [
    {
     "name": "stdout",
     "output_type": "stream",
     "text": [
      "(895167, 4)\n"
     ]
    },
    {
     "data": {
      "text/html": [
       "<div>\n",
       "<style scoped>\n",
       "    .dataframe tbody tr th:only-of-type {\n",
       "        vertical-align: middle;\n",
       "    }\n",
       "\n",
       "    .dataframe tbody tr th {\n",
       "        vertical-align: top;\n",
       "    }\n",
       "\n",
       "    .dataframe thead th {\n",
       "        text-align: right;\n",
       "    }\n",
       "</style>\n",
       "<table border=\"1\" class=\"dataframe\">\n",
       "  <thead>\n",
       "    <tr style=\"text-align: right;\">\n",
       "      <th></th>\n",
       "      <th>sopinstanceuid</th>\n",
       "      <th>instancefilename</th>\n",
       "      <th>instanceidk</th>\n",
       "      <th>studyidk</th>\n",
       "    </tr>\n",
       "  </thead>\n",
       "  <tbody>\n",
       "    <tr>\n",
       "      <th>0</th>\n",
       "      <td>1.2.840.113543.6.6.4.6.62554526370968849932129...</td>\n",
       "      <td>6RYXZNZW</td>\n",
       "      <td>57157</td>\n",
       "      <td>2882</td>\n",
       "    </tr>\n",
       "    <tr>\n",
       "      <th>1</th>\n",
       "      <td>1.2.840.113543.6.6.4.6.64175920513291079284612...</td>\n",
       "      <td>6RYXZO03</td>\n",
       "      <td>57158</td>\n",
       "      <td>2882</td>\n",
       "    </tr>\n",
       "    <tr>\n",
       "      <th>2</th>\n",
       "      <td>1.2.840.113543.6.6.4.6.63515355813678132433121...</td>\n",
       "      <td>6RYXZO0D</td>\n",
       "      <td>57159</td>\n",
       "      <td>2882</td>\n",
       "    </tr>\n",
       "    <tr>\n",
       "      <th>3</th>\n",
       "      <td>1.2.840.113543.6.6.4.6.63385835434171778347132...</td>\n",
       "      <td>6RYXZO0K</td>\n",
       "      <td>57160</td>\n",
       "      <td>2882</td>\n",
       "    </tr>\n",
       "    <tr>\n",
       "      <th>4</th>\n",
       "      <td>1.2.840.113543.6.6.4.6.62250778798156715321013...</td>\n",
       "      <td>6RYXZO0Y</td>\n",
       "      <td>57161</td>\n",
       "      <td>2882</td>\n",
       "    </tr>\n",
       "  </tbody>\n",
       "</table>\n",
       "</div>"
      ],
      "text/plain": [
       "                                      sopinstanceuid instancefilename  \\\n",
       "0  1.2.840.113543.6.6.4.6.62554526370968849932129...         6RYXZNZW   \n",
       "1  1.2.840.113543.6.6.4.6.64175920513291079284612...         6RYXZO03   \n",
       "2  1.2.840.113543.6.6.4.6.63515355813678132433121...         6RYXZO0D   \n",
       "3  1.2.840.113543.6.6.4.6.63385835434171778347132...         6RYXZO0K   \n",
       "4  1.2.840.113543.6.6.4.6.62250778798156715321013...         6RYXZO0Y   \n",
       "\n",
       "   instanceidk  studyidk  \n",
       "0        57157      2882  \n",
       "1        57158      2882  \n",
       "2        57159      2882  \n",
       "3        57160      2882  \n",
       "4        57161      2882  "
      ]
     },
     "execution_count": 3,
     "metadata": {},
     "output_type": "execute_result"
    }
   ],
   "source": [
    "print(all_inst_df.shape)\n",
    "all_inst_df.head()"
   ]
  },
  {
   "cell_type": "code",
   "execution_count": 4,
   "metadata": {},
   "outputs": [
    {
     "name": "stdout",
     "output_type": "stream",
     "text": [
      "(53799, 3)\n"
     ]
    },
    {
     "data": {
      "text/html": [
       "<div>\n",
       "<style scoped>\n",
       "    .dataframe tbody tr th:only-of-type {\n",
       "        vertical-align: middle;\n",
       "    }\n",
       "\n",
       "    .dataframe tbody tr th {\n",
       "        vertical-align: top;\n",
       "    }\n",
       "\n",
       "    .dataframe thead th {\n",
       "        text-align: right;\n",
       "    }\n",
       "</style>\n",
       "<table border=\"1\" class=\"dataframe\">\n",
       "  <thead>\n",
       "    <tr style=\"text-align: right;\">\n",
       "      <th></th>\n",
       "      <th>instanceidk</th>\n",
       "      <th>view</th>\n",
       "      <th>studyidk</th>\n",
       "    </tr>\n",
       "  </thead>\n",
       "  <tbody>\n",
       "    <tr>\n",
       "      <th>0</th>\n",
       "      <td>57162</td>\n",
       "      <td>plax</td>\n",
       "      <td>2882</td>\n",
       "    </tr>\n",
       "    <tr>\n",
       "      <th>1</th>\n",
       "      <td>57164</td>\n",
       "      <td>a4c</td>\n",
       "      <td>2882</td>\n",
       "    </tr>\n",
       "    <tr>\n",
       "      <th>2</th>\n",
       "      <td>57571</td>\n",
       "      <td>plax</td>\n",
       "      <td>2915</td>\n",
       "    </tr>\n",
       "    <tr>\n",
       "      <th>3</th>\n",
       "      <td>58204</td>\n",
       "      <td>plax</td>\n",
       "      <td>2966</td>\n",
       "    </tr>\n",
       "    <tr>\n",
       "      <th>4</th>\n",
       "      <td>58713</td>\n",
       "      <td>plax</td>\n",
       "      <td>3009</td>\n",
       "    </tr>\n",
       "  </tbody>\n",
       "</table>\n",
       "</div>"
      ],
      "text/plain": [
       "   instanceidk  view  studyidk\n",
       "0        57162  plax      2882\n",
       "1        57164   a4c      2882\n",
       "2        57571  plax      2915\n",
       "3        58204  plax      2966\n",
       "4        58713  plax      3009"
      ]
     },
     "execution_count": 4,
     "metadata": {},
     "output_type": "execute_result"
    }
   ],
   "source": [
    "print(label_inst_df.shape)\n",
    "label_inst_df.head()"
   ]
  },
  {
   "cell_type": "code",
   "execution_count": 5,
   "metadata": {},
   "outputs": [
    {
     "name": "stdout",
     "output_type": "stream",
     "text": [
      "(13198, 2)\n"
     ]
    },
    {
     "data": {
      "text/html": [
       "<div>\n",
       "<style scoped>\n",
       "    .dataframe tbody tr th:only-of-type {\n",
       "        vertical-align: middle;\n",
       "    }\n",
       "\n",
       "    .dataframe tbody tr th {\n",
       "        vertical-align: top;\n",
       "    }\n",
       "\n",
       "    .dataframe thead th {\n",
       "        text-align: right;\n",
       "    }\n",
       "</style>\n",
       "<table border=\"1\" class=\"dataframe\">\n",
       "  <thead>\n",
       "    <tr style=\"text-align: right;\">\n",
       "      <th></th>\n",
       "      <th>instanceidk</th>\n",
       "      <th>studyidk</th>\n",
       "    </tr>\n",
       "  </thead>\n",
       "  <tbody>\n",
       "    <tr>\n",
       "      <th>0</th>\n",
       "      <td>58207</td>\n",
       "      <td>2966</td>\n",
       "    </tr>\n",
       "    <tr>\n",
       "      <th>1</th>\n",
       "      <td>110441</td>\n",
       "      <td>6363</td>\n",
       "    </tr>\n",
       "    <tr>\n",
       "      <th>2</th>\n",
       "      <td>117616</td>\n",
       "      <td>6852</td>\n",
       "    </tr>\n",
       "    <tr>\n",
       "      <th>3</th>\n",
       "      <td>119931</td>\n",
       "      <td>6996</td>\n",
       "    </tr>\n",
       "    <tr>\n",
       "      <th>4</th>\n",
       "      <td>124996</td>\n",
       "      <td>7331</td>\n",
       "    </tr>\n",
       "  </tbody>\n",
       "</table>\n",
       "</div>"
      ],
      "text/plain": [
       "   instanceidk  studyidk\n",
       "0        58207      2966\n",
       "1       110441      6363\n",
       "2       117616      6852\n",
       "3       119931      6996\n",
       "4       124996      7331"
      ]
     },
     "execution_count": 5,
     "metadata": {},
     "output_type": "execute_result"
    }
   ],
   "source": [
    "print(confl_inst_df.shape)\n",
    "confl_inst_df.head()"
   ]
  },
  {
   "cell_type": "code",
   "execution_count": 6,
   "metadata": {},
   "outputs": [],
   "source": [
    "# for all studyidk's in label_inst_df, get all instanceidk's from all_inst_df\n",
    "# delete instanceidk's that exist in label_inst_df\n",
    "    # should decrease by 53965\n",
    "# delete instanceidk's that exist in confl_inst_df"
   ]
  },
  {
   "cell_type": "code",
   "execution_count": 7,
   "metadata": {},
   "outputs": [
    {
     "name": "stdout",
     "output_type": "stream",
     "text": [
      "Number of unique studies for which we have labels\n",
      "22073\n",
      "22073\n"
     ]
    }
   ],
   "source": [
    "# get studies for which labels exist\n",
    "studies_w_labels = list(set(label_inst_df['studyidk'].tolist()))\n",
    "print('Number of unique studies for which we have labels')\n",
    "print(len(label_inst_df['studyidk'].unique().tolist()))\n",
    "print(len(studies_w_labels))"
   ]
  },
  {
   "cell_type": "code",
   "execution_count": 8,
   "metadata": {},
   "outputs": [
    {
     "name": "stdout",
     "output_type": "stream",
     "text": [
      "53799\n",
      "13198\n"
     ]
    }
   ],
   "source": [
    "# get instances w labels - to be removed from all instances\n",
    "inst_w_labels = list(set(label_inst_df['instanceidk'].tolist()))\n",
    "print(len(inst_w_labels)) # should be same length as label_inst_df\n",
    "\n",
    "# get instances w conflicts - to be removed from all instances\n",
    "    # conflict i.e. instances s.t. is_multiview==True\n",
    "inst_w_conflicts = list(set(confl_inst_df['instanceidk'].tolist()))\n",
    "print(len(inst_w_conflicts)) # should be same as length confl_inst_df"
   ]
  },
  {
   "cell_type": "code",
   "execution_count": 9,
   "metadata": {},
   "outputs": [
    {
     "name": "stdout",
     "output_type": "stream",
     "text": [
      "(798839, 4)\n",
      "(745040, 4)\n",
      "(734176, 4)\n"
     ]
    }
   ],
   "source": [
    "# get all instanceidk's from studies which have measurements\n",
    "poss_inst_df = all_inst_df[all_inst_df['studyidk'].isin(studies_w_labels)]\n",
    "# studies_all = list(set(all_inst_df['studyidk'].tolist()))\n",
    "print(poss_inst_df.shape)\n",
    "\n",
    "# remove instances which have labels\n",
    "poss_inst_df = poss_inst_df[~poss_inst_df['instanceidk'].isin(inst_w_labels)]\n",
    "print(poss_inst_df.shape)\n",
    "\n",
    "# remove instances which have conflicts\n",
    "poss_inst_df = poss_inst_df[~poss_inst_df['instanceidk'].isin(inst_w_conflicts)]\n",
    "print(poss_inst_df.shape)"
   ]
  },
  {
   "cell_type": "code",
   "execution_count": 10,
   "metadata": {},
   "outputs": [
    {
     "name": "stdout",
     "output_type": "stream",
     "text": [
      "(734176, 4)\n"
     ]
    },
    {
     "data": {
      "text/html": [
       "<div>\n",
       "<style scoped>\n",
       "    .dataframe tbody tr th:only-of-type {\n",
       "        vertical-align: middle;\n",
       "    }\n",
       "\n",
       "    .dataframe tbody tr th {\n",
       "        vertical-align: top;\n",
       "    }\n",
       "\n",
       "    .dataframe thead th {\n",
       "        text-align: right;\n",
       "    }\n",
       "</style>\n",
       "<table border=\"1\" class=\"dataframe\">\n",
       "  <thead>\n",
       "    <tr style=\"text-align: right;\">\n",
       "      <th></th>\n",
       "      <th>sopinstanceuid</th>\n",
       "      <th>instancefilename</th>\n",
       "      <th>instanceidk</th>\n",
       "      <th>studyidk</th>\n",
       "    </tr>\n",
       "  </thead>\n",
       "  <tbody>\n",
       "    <tr>\n",
       "      <th>0</th>\n",
       "      <td>1.2.840.113543.6.6.4.6.62554526370968849932129...</td>\n",
       "      <td>6RYXZNZW</td>\n",
       "      <td>57157</td>\n",
       "      <td>2882</td>\n",
       "    </tr>\n",
       "    <tr>\n",
       "      <th>1</th>\n",
       "      <td>1.2.840.113543.6.6.4.6.64175920513291079284612...</td>\n",
       "      <td>6RYXZO03</td>\n",
       "      <td>57158</td>\n",
       "      <td>2882</td>\n",
       "    </tr>\n",
       "    <tr>\n",
       "      <th>2</th>\n",
       "      <td>1.2.840.113543.6.6.4.6.63515355813678132433121...</td>\n",
       "      <td>6RYXZO0D</td>\n",
       "      <td>57159</td>\n",
       "      <td>2882</td>\n",
       "    </tr>\n",
       "    <tr>\n",
       "      <th>3</th>\n",
       "      <td>1.2.840.113543.6.6.4.6.63385835434171778347132...</td>\n",
       "      <td>6RYXZO0K</td>\n",
       "      <td>57160</td>\n",
       "      <td>2882</td>\n",
       "    </tr>\n",
       "    <tr>\n",
       "      <th>4</th>\n",
       "      <td>1.2.840.113543.6.6.4.6.62250778798156715321013...</td>\n",
       "      <td>6RYXZO0Y</td>\n",
       "      <td>57161</td>\n",
       "      <td>2882</td>\n",
       "    </tr>\n",
       "  </tbody>\n",
       "</table>\n",
       "</div>"
      ],
      "text/plain": [
       "                                      sopinstanceuid instancefilename  \\\n",
       "0  1.2.840.113543.6.6.4.6.62554526370968849932129...         6RYXZNZW   \n",
       "1  1.2.840.113543.6.6.4.6.64175920513291079284612...         6RYXZO03   \n",
       "2  1.2.840.113543.6.6.4.6.63515355813678132433121...         6RYXZO0D   \n",
       "3  1.2.840.113543.6.6.4.6.63385835434171778347132...         6RYXZO0K   \n",
       "4  1.2.840.113543.6.6.4.6.62250778798156715321013...         6RYXZO0Y   \n",
       "\n",
       "   instanceidk  studyidk  \n",
       "0        57157      2882  \n",
       "1        57158      2882  \n",
       "2        57159      2882  \n",
       "3        57160      2882  \n",
       "4        57161      2882  "
      ]
     },
     "execution_count": 10,
     "metadata": {},
     "output_type": "execute_result"
    }
   ],
   "source": [
    "print(poss_inst_df.shape)\n",
    "poss_inst_df.head()"
   ]
  },
  {
   "cell_type": "code",
   "execution_count": 11,
   "metadata": {},
   "outputs": [
    {
     "name": "stdout",
     "output_type": "stream",
     "text": [
      "(53799, 3)\n"
     ]
    },
    {
     "data": {
      "text/html": [
       "<div>\n",
       "<style scoped>\n",
       "    .dataframe tbody tr th:only-of-type {\n",
       "        vertical-align: middle;\n",
       "    }\n",
       "\n",
       "    .dataframe tbody tr th {\n",
       "        vertical-align: top;\n",
       "    }\n",
       "\n",
       "    .dataframe thead th {\n",
       "        text-align: right;\n",
       "    }\n",
       "</style>\n",
       "<table border=\"1\" class=\"dataframe\">\n",
       "  <thead>\n",
       "    <tr style=\"text-align: right;\">\n",
       "      <th></th>\n",
       "      <th>instanceidk</th>\n",
       "      <th>view</th>\n",
       "      <th>studyidk</th>\n",
       "    </tr>\n",
       "  </thead>\n",
       "  <tbody>\n",
       "    <tr>\n",
       "      <th>0</th>\n",
       "      <td>57162</td>\n",
       "      <td>plax</td>\n",
       "      <td>2882</td>\n",
       "    </tr>\n",
       "    <tr>\n",
       "      <th>1</th>\n",
       "      <td>57164</td>\n",
       "      <td>a4c</td>\n",
       "      <td>2882</td>\n",
       "    </tr>\n",
       "    <tr>\n",
       "      <th>2</th>\n",
       "      <td>57571</td>\n",
       "      <td>plax</td>\n",
       "      <td>2915</td>\n",
       "    </tr>\n",
       "    <tr>\n",
       "      <th>3</th>\n",
       "      <td>58204</td>\n",
       "      <td>plax</td>\n",
       "      <td>2966</td>\n",
       "    </tr>\n",
       "    <tr>\n",
       "      <th>4</th>\n",
       "      <td>58713</td>\n",
       "      <td>plax</td>\n",
       "      <td>3009</td>\n",
       "    </tr>\n",
       "  </tbody>\n",
       "</table>\n",
       "</div>"
      ],
      "text/plain": [
       "   instanceidk  view  studyidk\n",
       "0        57162  plax      2882\n",
       "1        57164   a4c      2882\n",
       "2        57571  plax      2915\n",
       "3        58204  plax      2966\n",
       "4        58713  plax      3009"
      ]
     },
     "execution_count": 11,
     "metadata": {},
     "output_type": "execute_result"
    }
   ],
   "source": [
    "# all_inst_df\n",
    "lab_inst_df = io_views.get_table('instances_with_labels')\n",
    "print(lab_inst_df.shape)\n",
    "lab_inst_df.head()"
   ]
  },
  {
   "cell_type": "code",
   "execution_count": 12,
   "metadata": {},
   "outputs": [
    {
     "name": "stdout",
     "output_type": "stream",
     "text": [
      "(53799, 3)\n"
     ]
    },
    {
     "data": {
      "text/html": [
       "<div>\n",
       "<style scoped>\n",
       "    .dataframe tbody tr th:only-of-type {\n",
       "        vertical-align: middle;\n",
       "    }\n",
       "\n",
       "    .dataframe tbody tr th {\n",
       "        vertical-align: top;\n",
       "    }\n",
       "\n",
       "    .dataframe thead th {\n",
       "        text-align: right;\n",
       "    }\n",
       "</style>\n",
       "<table border=\"1\" class=\"dataframe\">\n",
       "  <thead>\n",
       "    <tr style=\"text-align: right;\">\n",
       "      <th></th>\n",
       "      <th>instanceidk</th>\n",
       "      <th>view</th>\n",
       "      <th>studyidk</th>\n",
       "    </tr>\n",
       "  </thead>\n",
       "  <tbody>\n",
       "    <tr>\n",
       "      <th>0</th>\n",
       "      <td>57162</td>\n",
       "      <td>plax</td>\n",
       "      <td>2882</td>\n",
       "    </tr>\n",
       "    <tr>\n",
       "      <th>1</th>\n",
       "      <td>57164</td>\n",
       "      <td>a4c</td>\n",
       "      <td>2882</td>\n",
       "    </tr>\n",
       "    <tr>\n",
       "      <th>2</th>\n",
       "      <td>57571</td>\n",
       "      <td>plax</td>\n",
       "      <td>2915</td>\n",
       "    </tr>\n",
       "    <tr>\n",
       "      <th>3</th>\n",
       "      <td>58204</td>\n",
       "      <td>plax</td>\n",
       "      <td>2966</td>\n",
       "    </tr>\n",
       "    <tr>\n",
       "      <th>4</th>\n",
       "      <td>58713</td>\n",
       "      <td>plax</td>\n",
       "      <td>3009</td>\n",
       "    </tr>\n",
       "  </tbody>\n",
       "</table>\n",
       "</div>"
      ],
      "text/plain": [
       "   instanceidk  view  studyidk\n",
       "0        57162  plax      2882\n",
       "1        57164   a4c      2882\n",
       "2        57571  plax      2915\n",
       "3        58204  plax      2966\n",
       "4        58713  plax      3009"
      ]
     },
     "execution_count": 12,
     "metadata": {},
     "output_type": "execute_result"
    }
   ],
   "source": [
    "inst_fair_game = list(set(all_inst_df['instanceidk'].tolist()))\n",
    "\n",
    "lab_inst_fair_df = lab_inst_df[lab_inst_df['instanceidk'].isin(inst_fair_game)]\n",
    "print(lab_inst_fair_df.shape)\n",
    "lab_inst_fair_df.head()"
   ]
  },
  {
   "cell_type": "code",
   "execution_count": 13,
   "metadata": {},
   "outputs": [],
   "source": [
    "io_clean = dbReadWriteClean()\n",
    "\n",
    "meta_df = io_clean.get_table('meta_lite')"
   ]
  },
  {
   "cell_type": "code",
   "execution_count": 34,
   "metadata": {},
   "outputs": [],
   "source": [
    "summ_df = io_clean.get_table('dm_spain_view_study_summary')\n",
    "cols_to_drop = ['age','gender','patientweight','patientheight','findingcode','findingcodetext','conclusion','reasonforstudy', 'studylocation','modality']\n",
    "machine_df = summ_df.drop(labels=cols_to_drop,axis=1)\n",
    "machine_df.head()\n",
    "\n",
    "# Table that contains machine type and bmi for every study\n",
    "io_views.save_to_db(machine_df, 'machines_all_bmi')"
   ]
  },
  {
   "cell_type": "code",
   "execution_count": 31,
   "metadata": {},
   "outputs": [
    {
     "name": "stdout",
     "output_type": "stream",
     "text": [
      "(14562, 3)\n"
     ]
    },
    {
     "data": {
      "text/html": [
       "<div>\n",
       "<style scoped>\n",
       "    .dataframe tbody tr th:only-of-type {\n",
       "        vertical-align: middle;\n",
       "    }\n",
       "\n",
       "    .dataframe tbody tr th {\n",
       "        vertical-align: top;\n",
       "    }\n",
       "\n",
       "    .dataframe thead th {\n",
       "        text-align: right;\n",
       "    }\n",
       "</style>\n",
       "<table border=\"1\" class=\"dataframe\">\n",
       "  <thead>\n",
       "    <tr style=\"text-align: right;\">\n",
       "      <th></th>\n",
       "      <th>studyidk</th>\n",
       "      <th>equipment</th>\n",
       "      <th>bmi</th>\n",
       "    </tr>\n",
       "  </thead>\n",
       "  <tbody>\n",
       "    <tr>\n",
       "      <th>0</th>\n",
       "      <td>118640</td>\n",
       "      <td>EPIQ7-1</td>\n",
       "      <td>29.340040</td>\n",
       "    </tr>\n",
       "    <tr>\n",
       "      <th>1</th>\n",
       "      <td>115777</td>\n",
       "      <td>ECOEPIQ2</td>\n",
       "      <td>18.256319</td>\n",
       "    </tr>\n",
       "    <tr>\n",
       "      <th>2</th>\n",
       "      <td>49414</td>\n",
       "      <td>ECOIE33</td>\n",
       "      <td>24.447279</td>\n",
       "    </tr>\n",
       "    <tr>\n",
       "      <th>3</th>\n",
       "      <td>79460</td>\n",
       "      <td>AFFINITI_1</td>\n",
       "      <td>24.092971</td>\n",
       "    </tr>\n",
       "    <tr>\n",
       "      <th>4</th>\n",
       "      <td>118806</td>\n",
       "      <td>AFFINITI_2</td>\n",
       "      <td>22.589551</td>\n",
       "    </tr>\n",
       "  </tbody>\n",
       "</table>\n",
       "</div>"
      ],
      "text/plain": [
       "   studyidk   equipment        bmi\n",
       "0    118640     EPIQ7-1  29.340040\n",
       "1    115777    ECOEPIQ2  18.256319\n",
       "2     49414     ECOIE33  24.447279\n",
       "3     79460  AFFINITI_1  24.092971\n",
       "4    118806  AFFINITI_2  22.589551"
      ]
     },
     "execution_count": 31,
     "metadata": {},
     "output_type": "execute_result"
    }
   ],
   "source": [
    "# Waiting for Jesus: which machines do we want to keep?\n",
    "# #machine_df['equipment'].value_counts()\n",
    "\n",
    "machines_to_keep = ['ECOEPIQ2', 'EPIQ7-1', 'ECOIE33', 'AFFINITI_1', 'AFFINITI_2']\n",
    "machine_new_df = machine_df[machine_df['equipment'].isin(machines_to_keep)]\n",
    "print(machine_new_df.shape)\n",
    "machine_new_df.head()"
   ]
  },
  {
   "cell_type": "code",
   "execution_count": 35,
   "metadata": {},
   "outputs": [],
   "source": [
    "# Table that contains machine type and bmi for studies on new machines\n",
    "# New machines: ECOEPIQ2, EPIQ7-1, ECOIE33, AFFINITI_1, AFFINITI_2\n",
    "io_views.save_to_db(machine_new_df, 'machines_new_bmi')"
   ]
  },
  {
   "cell_type": "code",
   "execution_count": 36,
   "metadata": {},
   "outputs": [
    {
     "name": "stdout",
     "output_type": "stream",
     "text": [
      "(53799, 3)\n"
     ]
    },
    {
     "data": {
      "text/html": [
       "<div>\n",
       "<style scoped>\n",
       "    .dataframe tbody tr th:only-of-type {\n",
       "        vertical-align: middle;\n",
       "    }\n",
       "\n",
       "    .dataframe tbody tr th {\n",
       "        vertical-align: top;\n",
       "    }\n",
       "\n",
       "    .dataframe thead th {\n",
       "        text-align: right;\n",
       "    }\n",
       "</style>\n",
       "<table border=\"1\" class=\"dataframe\">\n",
       "  <thead>\n",
       "    <tr style=\"text-align: right;\">\n",
       "      <th></th>\n",
       "      <th>instanceidk</th>\n",
       "      <th>view</th>\n",
       "      <th>studyidk</th>\n",
       "    </tr>\n",
       "  </thead>\n",
       "  <tbody>\n",
       "    <tr>\n",
       "      <th>0</th>\n",
       "      <td>57162</td>\n",
       "      <td>plax</td>\n",
       "      <td>2882</td>\n",
       "    </tr>\n",
       "    <tr>\n",
       "      <th>1</th>\n",
       "      <td>57164</td>\n",
       "      <td>a4c</td>\n",
       "      <td>2882</td>\n",
       "    </tr>\n",
       "    <tr>\n",
       "      <th>2</th>\n",
       "      <td>57571</td>\n",
       "      <td>plax</td>\n",
       "      <td>2915</td>\n",
       "    </tr>\n",
       "    <tr>\n",
       "      <th>3</th>\n",
       "      <td>58204</td>\n",
       "      <td>plax</td>\n",
       "      <td>2966</td>\n",
       "    </tr>\n",
       "    <tr>\n",
       "      <th>4</th>\n",
       "      <td>58713</td>\n",
       "      <td>plax</td>\n",
       "      <td>3009</td>\n",
       "    </tr>\n",
       "  </tbody>\n",
       "</table>\n",
       "</div>"
      ],
      "text/plain": [
       "   instanceidk  view  studyidk\n",
       "0        57162  plax      2882\n",
       "1        57164   a4c      2882\n",
       "2        57571  plax      2915\n",
       "3        58204  plax      2966\n",
       "4        58713  plax      3009"
      ]
     },
     "execution_count": 36,
     "metadata": {},
     "output_type": "execute_result"
    }
   ],
   "source": [
    "# now need to make 'views.instances_with_labels_new_machines'\n",
    "lab_inst_df = io_views.get_table('instances_with_labels')\n",
    "print(lab_inst_df.shape)\n",
    "lab_inst_df.head()"
   ]
  },
  {
   "cell_type": "code",
   "execution_count": 37,
   "metadata": {},
   "outputs": [
    {
     "name": "stdout",
     "output_type": "stream",
     "text": [
      "(32554, 3)\n"
     ]
    },
    {
     "data": {
      "text/html": [
       "<div>\n",
       "<style scoped>\n",
       "    .dataframe tbody tr th:only-of-type {\n",
       "        vertical-align: middle;\n",
       "    }\n",
       "\n",
       "    .dataframe tbody tr th {\n",
       "        vertical-align: top;\n",
       "    }\n",
       "\n",
       "    .dataframe thead th {\n",
       "        text-align: right;\n",
       "    }\n",
       "</style>\n",
       "<table border=\"1\" class=\"dataframe\">\n",
       "  <thead>\n",
       "    <tr style=\"text-align: right;\">\n",
       "      <th></th>\n",
       "      <th>instanceidk</th>\n",
       "      <th>view</th>\n",
       "      <th>studyidk</th>\n",
       "    </tr>\n",
       "  </thead>\n",
       "  <tbody>\n",
       "    <tr>\n",
       "      <th>2359</th>\n",
       "      <td>696108</td>\n",
       "      <td>plax</td>\n",
       "      <td>39531</td>\n",
       "    </tr>\n",
       "    <tr>\n",
       "      <th>2360</th>\n",
       "      <td>696109</td>\n",
       "      <td>plax</td>\n",
       "      <td>39531</td>\n",
       "    </tr>\n",
       "    <tr>\n",
       "      <th>2361</th>\n",
       "      <td>696112</td>\n",
       "      <td>a4c</td>\n",
       "      <td>39531</td>\n",
       "    </tr>\n",
       "    <tr>\n",
       "      <th>2362</th>\n",
       "      <td>696140</td>\n",
       "      <td>plax</td>\n",
       "      <td>39533</td>\n",
       "    </tr>\n",
       "    <tr>\n",
       "      <th>2363</th>\n",
       "      <td>696157</td>\n",
       "      <td>plax</td>\n",
       "      <td>39533</td>\n",
       "    </tr>\n",
       "  </tbody>\n",
       "</table>\n",
       "</div>"
      ],
      "text/plain": [
       "      instanceidk  view  studyidk\n",
       "2359       696108  plax     39531\n",
       "2360       696109  plax     39531\n",
       "2361       696112   a4c     39531\n",
       "2362       696140  plax     39533\n",
       "2363       696157  plax     39533"
      ]
     },
     "execution_count": 37,
     "metadata": {},
     "output_type": "execute_result"
    }
   ],
   "source": [
    "\n",
    "#inst_fair_game = list(set(all_inst_df['instanceidk'].tolist()))\n",
    "studies_new_machines = list(set(machine_new_df['studyidk'].tolist()))\n",
    "\n",
    "lab_inst_new_df = lab_inst_df[lab_inst_df['studyidk'].isin(studies_new_machines)]\n",
    "\n",
    "print(lab_inst_new_df.shape)\n",
    "lab_inst_new_df.head()\n",
    "\n",
    "## PROBABLY WANT SOPINSTANCEUID and instancefilename on this table!"
   ]
  },
  {
   "cell_type": "code",
   "execution_count": 43,
   "metadata": {},
   "outputs": [
    {
     "data": {
      "text/plain": [
       "0.6051041840926411"
      ]
     },
     "execution_count": 43,
     "metadata": {},
     "output_type": "execute_result"
    }
   ],
   "source": [
    "32554.0 / 53799.0"
   ]
  },
  {
   "cell_type": "code",
   "execution_count": 44,
   "metadata": {},
   "outputs": [
    {
     "data": {
      "text/plain": [
       "0.5982611917224772"
      ]
     },
     "execution_count": 44,
     "metadata": {},
     "output_type": "execute_result"
    }
   ],
   "source": [
    "439232.0 / 734181.0"
   ]
  },
  {
   "cell_type": "code",
   "execution_count": 55,
   "metadata": {},
   "outputs": [
    {
     "name": "stdout",
     "output_type": "stream",
     "text": [
      "(439226, 5)\n"
     ]
    },
    {
     "data": {
      "text/html": [
       "<div>\n",
       "<style scoped>\n",
       "    .dataframe tbody tr th:only-of-type {\n",
       "        vertical-align: middle;\n",
       "    }\n",
       "\n",
       "    .dataframe tbody tr th {\n",
       "        vertical-align: top;\n",
       "    }\n",
       "\n",
       "    .dataframe thead th {\n",
       "        text-align: right;\n",
       "    }\n",
       "</style>\n",
       "<table border=\"1\" class=\"dataframe\">\n",
       "  <thead>\n",
       "    <tr style=\"text-align: right;\">\n",
       "      <th></th>\n",
       "      <th>sopinstanceuid</th>\n",
       "      <th>instancefilename</th>\n",
       "      <th>instanceidk</th>\n",
       "      <th>studyidk</th>\n",
       "      <th>view</th>\n",
       "    </tr>\n",
       "  </thead>\n",
       "  <tbody>\n",
       "    <tr>\n",
       "      <th>0</th>\n",
       "      <td>1.2.840.113663.1500.1.365900332.3.1.20120703.9...</td>\n",
       "      <td>8Z0BWVQI</td>\n",
       "      <td>696106</td>\n",
       "      <td>39531</td>\n",
       "      <td>other</td>\n",
       "    </tr>\n",
       "    <tr>\n",
       "      <th>1</th>\n",
       "      <td>1.2.840.113663.1500.1.365900332.3.2.20120703.9...</td>\n",
       "      <td>8Z0BWW6Y</td>\n",
       "      <td>696107</td>\n",
       "      <td>39531</td>\n",
       "      <td>other</td>\n",
       "    </tr>\n",
       "    <tr>\n",
       "      <th>2</th>\n",
       "      <td>1.2.840.113663.1500.1.365900332.3.5.20120703.9...</td>\n",
       "      <td>8Z0BWY3Y</td>\n",
       "      <td>696110</td>\n",
       "      <td>39531</td>\n",
       "      <td>other</td>\n",
       "    </tr>\n",
       "    <tr>\n",
       "      <th>3</th>\n",
       "      <td>1.2.840.113663.1500.1.365900332.3.6.20120703.9...</td>\n",
       "      <td>8Z0BWYQG</td>\n",
       "      <td>696111</td>\n",
       "      <td>39531</td>\n",
       "      <td>other</td>\n",
       "    </tr>\n",
       "    <tr>\n",
       "      <th>4</th>\n",
       "      <td>1.2.840.113663.1500.1.365900332.3.8.20120703.9...</td>\n",
       "      <td>8Z0BWZJ9</td>\n",
       "      <td>696113</td>\n",
       "      <td>39531</td>\n",
       "      <td>other</td>\n",
       "    </tr>\n",
       "  </tbody>\n",
       "</table>\n",
       "</div>"
      ],
      "text/plain": [
       "                                      sopinstanceuid instancefilename  \\\n",
       "0  1.2.840.113663.1500.1.365900332.3.1.20120703.9...         8Z0BWVQI   \n",
       "1  1.2.840.113663.1500.1.365900332.3.2.20120703.9...         8Z0BWW6Y   \n",
       "2  1.2.840.113663.1500.1.365900332.3.5.20120703.9...         8Z0BWY3Y   \n",
       "3  1.2.840.113663.1500.1.365900332.3.6.20120703.9...         8Z0BWYQG   \n",
       "4  1.2.840.113663.1500.1.365900332.3.8.20120703.9...         8Z0BWZJ9   \n",
       "\n",
       "   instanceidk  studyidk   view  \n",
       "0       696106     39531  other  \n",
       "1       696107     39531  other  \n",
       "2       696110     39531  other  \n",
       "3       696111     39531  other  \n",
       "4       696113     39531  other  "
      ]
     },
     "execution_count": 55,
     "metadata": {},
     "output_type": "execute_result"
    }
   ],
   "source": [
    "oth_inst_df = io_views.get_table('instances_labeled_other')\n",
    "oth_inst_df['view'] = 'other'\n",
    "print(oth_inst_df.shape)\n",
    "oth_inst_df.head()"
   ]
  },
  {
   "cell_type": "code",
   "execution_count": 42,
   "metadata": {},
   "outputs": [
    {
     "name": "stdout",
     "output_type": "stream",
     "text": [
      "(439232, 4)\n"
     ]
    }
   ],
   "source": [
    "oth_inst_new_df = oth_inst_df[oth_inst_df['studyidk'].isin(studies_new_machines)]\n",
    "print(oth_inst_new_df.shape)"
   ]
  },
  {
   "cell_type": "code",
   "execution_count": null,
   "metadata": {},
   "outputs": [],
   "source": []
  },
  {
   "cell_type": "code",
   "execution_count": null,
   "metadata": {},
   "outputs": [],
   "source": []
  },
  {
   "cell_type": "code",
   "execution_count": 56,
   "metadata": {},
   "outputs": [
    {
     "name": "stdout",
     "output_type": "stream",
     "text": [
      "(895167, 4)\n"
     ]
    },
    {
     "data": {
      "text/html": [
       "<div>\n",
       "<style scoped>\n",
       "    .dataframe tbody tr th:only-of-type {\n",
       "        vertical-align: middle;\n",
       "    }\n",
       "\n",
       "    .dataframe tbody tr th {\n",
       "        vertical-align: top;\n",
       "    }\n",
       "\n",
       "    .dataframe thead th {\n",
       "        text-align: right;\n",
       "    }\n",
       "</style>\n",
       "<table border=\"1\" class=\"dataframe\">\n",
       "  <thead>\n",
       "    <tr style=\"text-align: right;\">\n",
       "      <th></th>\n",
       "      <th>sopinstanceuid</th>\n",
       "      <th>instancefilename</th>\n",
       "      <th>instanceidk</th>\n",
       "      <th>studyidk</th>\n",
       "    </tr>\n",
       "  </thead>\n",
       "  <tbody>\n",
       "    <tr>\n",
       "      <th>0</th>\n",
       "      <td>1.2.840.113543.6.6.4.6.62554526370968849932129...</td>\n",
       "      <td>6RYXZNZW</td>\n",
       "      <td>57157</td>\n",
       "      <td>2882</td>\n",
       "    </tr>\n",
       "    <tr>\n",
       "      <th>1</th>\n",
       "      <td>1.2.840.113543.6.6.4.6.64175920513291079284612...</td>\n",
       "      <td>6RYXZO03</td>\n",
       "      <td>57158</td>\n",
       "      <td>2882</td>\n",
       "    </tr>\n",
       "    <tr>\n",
       "      <th>2</th>\n",
       "      <td>1.2.840.113543.6.6.4.6.63515355813678132433121...</td>\n",
       "      <td>6RYXZO0D</td>\n",
       "      <td>57159</td>\n",
       "      <td>2882</td>\n",
       "    </tr>\n",
       "    <tr>\n",
       "      <th>3</th>\n",
       "      <td>1.2.840.113543.6.6.4.6.63385835434171778347132...</td>\n",
       "      <td>6RYXZO0K</td>\n",
       "      <td>57160</td>\n",
       "      <td>2882</td>\n",
       "    </tr>\n",
       "    <tr>\n",
       "      <th>4</th>\n",
       "      <td>1.2.840.113543.6.6.4.6.62250778798156715321013...</td>\n",
       "      <td>6RYXZO0Y</td>\n",
       "      <td>57161</td>\n",
       "      <td>2882</td>\n",
       "    </tr>\n",
       "  </tbody>\n",
       "</table>\n",
       "</div>"
      ],
      "text/plain": [
       "                                      sopinstanceuid instancefilename  \\\n",
       "0  1.2.840.113543.6.6.4.6.62554526370968849932129...         6RYXZNZW   \n",
       "1  1.2.840.113543.6.6.4.6.64175920513291079284612...         6RYXZO03   \n",
       "2  1.2.840.113543.6.6.4.6.63515355813678132433121...         6RYXZO0D   \n",
       "3  1.2.840.113543.6.6.4.6.63385835434171778347132...         6RYXZO0K   \n",
       "4  1.2.840.113543.6.6.4.6.62250778798156715321013...         6RYXZO0Y   \n",
       "\n",
       "   instanceidk  studyidk  \n",
       "0        57157      2882  \n",
       "1        57158      2882  \n",
       "2        57159      2882  \n",
       "3        57160      2882  \n",
       "4        57161      2882  "
      ]
     },
     "execution_count": 56,
     "metadata": {},
     "output_type": "execute_result"
    }
   ],
   "source": [
    "master_df = io_views.get_table('instances_unique_master_list')\n",
    "print(master_df.shape)\n",
    "master_df.head()"
   ]
  },
  {
   "cell_type": "code",
   "execution_count": 57,
   "metadata": {},
   "outputs": [
    {
     "name": "stdout",
     "output_type": "stream",
     "text": [
      "(32554, 3)\n"
     ]
    },
    {
     "data": {
      "text/html": [
       "<div>\n",
       "<style scoped>\n",
       "    .dataframe tbody tr th:only-of-type {\n",
       "        vertical-align: middle;\n",
       "    }\n",
       "\n",
       "    .dataframe tbody tr th {\n",
       "        vertical-align: top;\n",
       "    }\n",
       "\n",
       "    .dataframe thead th {\n",
       "        text-align: right;\n",
       "    }\n",
       "</style>\n",
       "<table border=\"1\" class=\"dataframe\">\n",
       "  <thead>\n",
       "    <tr style=\"text-align: right;\">\n",
       "      <th></th>\n",
       "      <th>instanceidk</th>\n",
       "      <th>view</th>\n",
       "      <th>studyidk</th>\n",
       "    </tr>\n",
       "  </thead>\n",
       "  <tbody>\n",
       "    <tr>\n",
       "      <th>0</th>\n",
       "      <td>696108</td>\n",
       "      <td>plax</td>\n",
       "      <td>39531</td>\n",
       "    </tr>\n",
       "    <tr>\n",
       "      <th>1</th>\n",
       "      <td>696109</td>\n",
       "      <td>plax</td>\n",
       "      <td>39531</td>\n",
       "    </tr>\n",
       "    <tr>\n",
       "      <th>2</th>\n",
       "      <td>696112</td>\n",
       "      <td>a4c</td>\n",
       "      <td>39531</td>\n",
       "    </tr>\n",
       "    <tr>\n",
       "      <th>3</th>\n",
       "      <td>696140</td>\n",
       "      <td>plax</td>\n",
       "      <td>39533</td>\n",
       "    </tr>\n",
       "    <tr>\n",
       "      <th>4</th>\n",
       "      <td>696157</td>\n",
       "      <td>plax</td>\n",
       "      <td>39533</td>\n",
       "    </tr>\n",
       "  </tbody>\n",
       "</table>\n",
       "</div>"
      ],
      "text/plain": [
       "   instanceidk  view  studyidk\n",
       "0       696108  plax     39531\n",
       "1       696109  plax     39531\n",
       "2       696112   a4c     39531\n",
       "3       696140  plax     39533\n",
       "4       696157  plax     39533"
      ]
     },
     "execution_count": 57,
     "metadata": {},
     "output_type": "execute_result"
    }
   ],
   "source": [
    "lab_inst_df = io_views.get_table('instances_with_labels')\n",
    "print(lab_inst_df.shape)\n",
    "lab_inst_df.head()"
   ]
  },
  {
   "cell_type": "code",
   "execution_count": 51,
   "metadata": {},
   "outputs": [
    {
     "name": "stdout",
     "output_type": "stream",
     "text": [
      "(477465, 4)\n"
     ]
    }
   ],
   "source": [
    "#studies_relevant = list(set(lab_inst_df['studyidk'].to_list()))\n",
    "#master_relevant_df = master_df[master_df['studyidk'].isin(studies_relevant)]\n",
    "\n",
    "print(master_relevant_df.shape)"
   ]
  },
  {
   "cell_type": "code",
   "execution_count": 58,
   "metadata": {},
   "outputs": [
    {
     "name": "stdout",
     "output_type": "stream",
     "text": [
      "(32554, 6)\n"
     ]
    },
    {
     "data": {
      "text/html": [
       "<div>\n",
       "<style scoped>\n",
       "    .dataframe tbody tr th:only-of-type {\n",
       "        vertical-align: middle;\n",
       "    }\n",
       "\n",
       "    .dataframe tbody tr th {\n",
       "        vertical-align: top;\n",
       "    }\n",
       "\n",
       "    .dataframe thead th {\n",
       "        text-align: right;\n",
       "    }\n",
       "</style>\n",
       "<table border=\"1\" class=\"dataframe\">\n",
       "  <thead>\n",
       "    <tr style=\"text-align: right;\">\n",
       "      <th></th>\n",
       "      <th>sopinstanceuid</th>\n",
       "      <th>instancefilename</th>\n",
       "      <th>instanceidk</th>\n",
       "      <th>studyidk_x</th>\n",
       "      <th>view</th>\n",
       "      <th>studyidk_y</th>\n",
       "    </tr>\n",
       "  </thead>\n",
       "  <tbody>\n",
       "    <tr>\n",
       "      <th>0</th>\n",
       "      <td>1.2.840.113663.1500.1.365900332.3.3.20120703.9...</td>\n",
       "      <td>8Z0BWWL5</td>\n",
       "      <td>696108</td>\n",
       "      <td>39531</td>\n",
       "      <td>plax</td>\n",
       "      <td>39531</td>\n",
       "    </tr>\n",
       "    <tr>\n",
       "      <th>1</th>\n",
       "      <td>1.2.840.113663.1500.1.365900332.3.4.20120703.9...</td>\n",
       "      <td>8Z0BWX0M</td>\n",
       "      <td>696109</td>\n",
       "      <td>39531</td>\n",
       "      <td>plax</td>\n",
       "      <td>39531</td>\n",
       "    </tr>\n",
       "    <tr>\n",
       "      <th>2</th>\n",
       "      <td>1.2.840.113663.1500.1.365900332.3.7.20120703.9...</td>\n",
       "      <td>8Z0BWZGH</td>\n",
       "      <td>696112</td>\n",
       "      <td>39531</td>\n",
       "      <td>a4c</td>\n",
       "      <td>39531</td>\n",
       "    </tr>\n",
       "    <tr>\n",
       "      <th>3</th>\n",
       "      <td>1.2.840.113663.1500.1.365900332.3.1.20120703.9...</td>\n",
       "      <td>8Z0BXKCB</td>\n",
       "      <td>696140</td>\n",
       "      <td>39533</td>\n",
       "      <td>plax</td>\n",
       "      <td>39533</td>\n",
       "    </tr>\n",
       "    <tr>\n",
       "      <th>4</th>\n",
       "      <td>1.2.840.113663.1500.1.365900332.3.14.20120703....</td>\n",
       "      <td>8Z0BXYUW</td>\n",
       "      <td>696157</td>\n",
       "      <td>39533</td>\n",
       "      <td>plax</td>\n",
       "      <td>39533</td>\n",
       "    </tr>\n",
       "  </tbody>\n",
       "</table>\n",
       "</div>"
      ],
      "text/plain": [
       "                                      sopinstanceuid instancefilename  \\\n",
       "0  1.2.840.113663.1500.1.365900332.3.3.20120703.9...         8Z0BWWL5   \n",
       "1  1.2.840.113663.1500.1.365900332.3.4.20120703.9...         8Z0BWX0M   \n",
       "2  1.2.840.113663.1500.1.365900332.3.7.20120703.9...         8Z0BWZGH   \n",
       "3  1.2.840.113663.1500.1.365900332.3.1.20120703.9...         8Z0BXKCB   \n",
       "4  1.2.840.113663.1500.1.365900332.3.14.20120703....         8Z0BXYUW   \n",
       "\n",
       "   instanceidk  studyidk_x  view  studyidk_y  \n",
       "0       696108       39531  plax       39531  \n",
       "1       696109       39531  plax       39531  \n",
       "2       696112       39531   a4c       39531  \n",
       "3       696140       39533  plax       39533  \n",
       "4       696157       39533  plax       39533  "
      ]
     },
     "execution_count": 58,
     "metadata": {},
     "output_type": "execute_result"
    }
   ],
   "source": [
    "# merge_df = master_relevant_df.merge(lab_inst_df, on='instanceidk')\n",
    "merge_df = master_df.merge(lab_inst_df, on='instanceidk')\n",
    "\n",
    "print(merge_df.shape)\n",
    "merge_df.head()"
   ]
  },
  {
   "cell_type": "code",
   "execution_count": 59,
   "metadata": {},
   "outputs": [
    {
     "name": "stdout",
     "output_type": "stream",
     "text": [
      "(32554, 5)\n"
     ]
    },
    {
     "data": {
      "text/html": [
       "<div>\n",
       "<style scoped>\n",
       "    .dataframe tbody tr th:only-of-type {\n",
       "        vertical-align: middle;\n",
       "    }\n",
       "\n",
       "    .dataframe tbody tr th {\n",
       "        vertical-align: top;\n",
       "    }\n",
       "\n",
       "    .dataframe thead th {\n",
       "        text-align: right;\n",
       "    }\n",
       "</style>\n",
       "<table border=\"1\" class=\"dataframe\">\n",
       "  <thead>\n",
       "    <tr style=\"text-align: right;\">\n",
       "      <th></th>\n",
       "      <th>sopinstanceuid</th>\n",
       "      <th>instancefilename</th>\n",
       "      <th>instanceidk</th>\n",
       "      <th>view</th>\n",
       "      <th>studyidk</th>\n",
       "    </tr>\n",
       "  </thead>\n",
       "  <tbody>\n",
       "    <tr>\n",
       "      <th>0</th>\n",
       "      <td>1.2.840.113663.1500.1.365900332.3.3.20120703.9...</td>\n",
       "      <td>8Z0BWWL5</td>\n",
       "      <td>696108</td>\n",
       "      <td>plax</td>\n",
       "      <td>39531</td>\n",
       "    </tr>\n",
       "    <tr>\n",
       "      <th>1</th>\n",
       "      <td>1.2.840.113663.1500.1.365900332.3.4.20120703.9...</td>\n",
       "      <td>8Z0BWX0M</td>\n",
       "      <td>696109</td>\n",
       "      <td>plax</td>\n",
       "      <td>39531</td>\n",
       "    </tr>\n",
       "    <tr>\n",
       "      <th>2</th>\n",
       "      <td>1.2.840.113663.1500.1.365900332.3.7.20120703.9...</td>\n",
       "      <td>8Z0BWZGH</td>\n",
       "      <td>696112</td>\n",
       "      <td>a4c</td>\n",
       "      <td>39531</td>\n",
       "    </tr>\n",
       "    <tr>\n",
       "      <th>3</th>\n",
       "      <td>1.2.840.113663.1500.1.365900332.3.1.20120703.9...</td>\n",
       "      <td>8Z0BXKCB</td>\n",
       "      <td>696140</td>\n",
       "      <td>plax</td>\n",
       "      <td>39533</td>\n",
       "    </tr>\n",
       "    <tr>\n",
       "      <th>4</th>\n",
       "      <td>1.2.840.113663.1500.1.365900332.3.14.20120703....</td>\n",
       "      <td>8Z0BXYUW</td>\n",
       "      <td>696157</td>\n",
       "      <td>plax</td>\n",
       "      <td>39533</td>\n",
       "    </tr>\n",
       "  </tbody>\n",
       "</table>\n",
       "</div>"
      ],
      "text/plain": [
       "                                      sopinstanceuid instancefilename  \\\n",
       "0  1.2.840.113663.1500.1.365900332.3.3.20120703.9...         8Z0BWWL5   \n",
       "1  1.2.840.113663.1500.1.365900332.3.4.20120703.9...         8Z0BWX0M   \n",
       "2  1.2.840.113663.1500.1.365900332.3.7.20120703.9...         8Z0BWZGH   \n",
       "3  1.2.840.113663.1500.1.365900332.3.1.20120703.9...         8Z0BXKCB   \n",
       "4  1.2.840.113663.1500.1.365900332.3.14.20120703....         8Z0BXYUW   \n",
       "\n",
       "   instanceidk  view  studyidk  \n",
       "0       696108  plax     39531  \n",
       "1       696109  plax     39531  \n",
       "2       696112   a4c     39531  \n",
       "3       696140  plax     39533  \n",
       "4       696157  plax     39533  "
      ]
     },
     "execution_count": 59,
     "metadata": {},
     "output_type": "execute_result"
    }
   ],
   "source": [
    "merge_df = merge_df[merge_df['studyidk_x'] == merge_df['studyidk_y']]\n",
    "merge_df['studyidk'] = merge_df['studyidk_x']\n",
    "cols_to_drop = ['studyidk_x', 'studyidk_y']\n",
    "merge_df.drop(labels=cols_to_drop, axis=1, inplace=True)\n",
    "print(merge_df.shape)\n",
    "merge_df.head()"
   ]
  },
  {
   "cell_type": "code",
   "execution_count": null,
   "metadata": {},
   "outputs": [],
   "source": []
  }
 ],
 "metadata": {
  "kernelspec": {
   "display_name": "dssg",
   "language": "python",
   "name": "dssg"
  },
  "language_info": {
   "codemirror_mode": {
    "name": "ipython",
    "version": 3
   },
   "file_extension": ".py",
   "mimetype": "text/x-python",
   "name": "python",
   "nbconvert_exporter": "python",
   "pygments_lexer": "ipython3",
   "version": "3.7.3"
  }
 },
 "nbformat": 4,
 "nbformat_minor": 2
}
