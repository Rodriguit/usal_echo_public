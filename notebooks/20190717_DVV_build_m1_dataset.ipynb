{
 "cells": [
  {
   "cell_type": "code",
   "execution_count": 31,
   "metadata": {},
   "outputs": [],
   "source": [
    "import pandas as pd\n",
    "import sys\n",
    "import matplotlib.pyplot as plt\n",
    "\n",
    "sys.path.append('../src')\n",
    "\n",
    "from d00_utils.db_utils import dbReadWriteViews, dbReadWriteClean, dbReadWriteRaw"
   ]
  },
  {
   "cell_type": "code",
   "execution_count": 32,
   "metadata": {},
   "outputs": [],
   "source": [
    "io_views = dbReadWriteViews()\n",
    "\n",
    "all_inst_df = io_views.get_table('instances_unique_master_list')\n",
    "label_inst_df = io_views.get_table('instances_with_labels')\n",
    "confl_inst_df = io_views.get_table('instances_with_conflicts')"
   ]
  },
  {
   "cell_type": "code",
   "execution_count": 33,
   "metadata": {},
   "outputs": [
    {
     "name": "stdout",
     "output_type": "stream",
     "text": [
      "(895167, 4)\n"
     ]
    },
    {
     "data": {
      "text/html": [
       "<div>\n",
       "<style scoped>\n",
       "    .dataframe tbody tr th:only-of-type {\n",
       "        vertical-align: middle;\n",
       "    }\n",
       "\n",
       "    .dataframe tbody tr th {\n",
       "        vertical-align: top;\n",
       "    }\n",
       "\n",
       "    .dataframe thead th {\n",
       "        text-align: right;\n",
       "    }\n",
       "</style>\n",
       "<table border=\"1\" class=\"dataframe\">\n",
       "  <thead>\n",
       "    <tr style=\"text-align: right;\">\n",
       "      <th></th>\n",
       "      <th>sopinstanceuid</th>\n",
       "      <th>instancefilename</th>\n",
       "      <th>instanceidk</th>\n",
       "      <th>studyidk</th>\n",
       "    </tr>\n",
       "  </thead>\n",
       "  <tbody>\n",
       "    <tr>\n",
       "      <th>0</th>\n",
       "      <td>1.2.840.113543.6.6.4.6.62554526370968849932129...</td>\n",
       "      <td>6RYXZNZW</td>\n",
       "      <td>57157</td>\n",
       "      <td>2882</td>\n",
       "    </tr>\n",
       "    <tr>\n",
       "      <th>1</th>\n",
       "      <td>1.2.840.113543.6.6.4.6.64175920513291079284612...</td>\n",
       "      <td>6RYXZO03</td>\n",
       "      <td>57158</td>\n",
       "      <td>2882</td>\n",
       "    </tr>\n",
       "    <tr>\n",
       "      <th>2</th>\n",
       "      <td>1.2.840.113543.6.6.4.6.63515355813678132433121...</td>\n",
       "      <td>6RYXZO0D</td>\n",
       "      <td>57159</td>\n",
       "      <td>2882</td>\n",
       "    </tr>\n",
       "    <tr>\n",
       "      <th>3</th>\n",
       "      <td>1.2.840.113543.6.6.4.6.63385835434171778347132...</td>\n",
       "      <td>6RYXZO0K</td>\n",
       "      <td>57160</td>\n",
       "      <td>2882</td>\n",
       "    </tr>\n",
       "    <tr>\n",
       "      <th>4</th>\n",
       "      <td>1.2.840.113543.6.6.4.6.62250778798156715321013...</td>\n",
       "      <td>6RYXZO0Y</td>\n",
       "      <td>57161</td>\n",
       "      <td>2882</td>\n",
       "    </tr>\n",
       "  </tbody>\n",
       "</table>\n",
       "</div>"
      ],
      "text/plain": [
       "                                      sopinstanceuid instancefilename  \\\n",
       "0  1.2.840.113543.6.6.4.6.62554526370968849932129...         6RYXZNZW   \n",
       "1  1.2.840.113543.6.6.4.6.64175920513291079284612...         6RYXZO03   \n",
       "2  1.2.840.113543.6.6.4.6.63515355813678132433121...         6RYXZO0D   \n",
       "3  1.2.840.113543.6.6.4.6.63385835434171778347132...         6RYXZO0K   \n",
       "4  1.2.840.113543.6.6.4.6.62250778798156715321013...         6RYXZO0Y   \n",
       "\n",
       "   instanceidk  studyidk  \n",
       "0        57157      2882  \n",
       "1        57158      2882  \n",
       "2        57159      2882  \n",
       "3        57160      2882  \n",
       "4        57161      2882  "
      ]
     },
     "execution_count": 33,
     "metadata": {},
     "output_type": "execute_result"
    }
   ],
   "source": [
    "print(all_inst_df.shape)\n",
    "all_inst_df.head()"
   ]
  },
  {
   "cell_type": "code",
   "execution_count": 34,
   "metadata": {},
   "outputs": [
    {
     "name": "stdout",
     "output_type": "stream",
     "text": [
      "(53965, 3)\n"
     ]
    },
    {
     "data": {
      "text/html": [
       "<div>\n",
       "<style scoped>\n",
       "    .dataframe tbody tr th:only-of-type {\n",
       "        vertical-align: middle;\n",
       "    }\n",
       "\n",
       "    .dataframe tbody tr th {\n",
       "        vertical-align: top;\n",
       "    }\n",
       "\n",
       "    .dataframe thead th {\n",
       "        text-align: right;\n",
       "    }\n",
       "</style>\n",
       "<table border=\"1\" class=\"dataframe\">\n",
       "  <thead>\n",
       "    <tr style=\"text-align: right;\">\n",
       "      <th></th>\n",
       "      <th>instanceidk</th>\n",
       "      <th>view</th>\n",
       "      <th>studyidk</th>\n",
       "    </tr>\n",
       "  </thead>\n",
       "  <tbody>\n",
       "    <tr>\n",
       "      <th>0</th>\n",
       "      <td>57162</td>\n",
       "      <td>plax</td>\n",
       "      <td>2882</td>\n",
       "    </tr>\n",
       "    <tr>\n",
       "      <th>1</th>\n",
       "      <td>57164</td>\n",
       "      <td>a4c</td>\n",
       "      <td>2882</td>\n",
       "    </tr>\n",
       "    <tr>\n",
       "      <th>2</th>\n",
       "      <td>57571</td>\n",
       "      <td>plax</td>\n",
       "      <td>2915</td>\n",
       "    </tr>\n",
       "    <tr>\n",
       "      <th>3</th>\n",
       "      <td>58204</td>\n",
       "      <td>plax</td>\n",
       "      <td>2966</td>\n",
       "    </tr>\n",
       "    <tr>\n",
       "      <th>4</th>\n",
       "      <td>58713</td>\n",
       "      <td>plax</td>\n",
       "      <td>3009</td>\n",
       "    </tr>\n",
       "  </tbody>\n",
       "</table>\n",
       "</div>"
      ],
      "text/plain": [
       "   instanceidk  view  studyidk\n",
       "0        57162  plax      2882\n",
       "1        57164   a4c      2882\n",
       "2        57571  plax      2915\n",
       "3        58204  plax      2966\n",
       "4        58713  plax      3009"
      ]
     },
     "execution_count": 34,
     "metadata": {},
     "output_type": "execute_result"
    }
   ],
   "source": [
    "print(label_inst_df.shape)\n",
    "label_inst_df.head()"
   ]
  },
  {
   "cell_type": "code",
   "execution_count": 35,
   "metadata": {},
   "outputs": [
    {
     "name": "stdout",
     "output_type": "stream",
     "text": [
      "(13198, 2)\n"
     ]
    },
    {
     "data": {
      "text/html": [
       "<div>\n",
       "<style scoped>\n",
       "    .dataframe tbody tr th:only-of-type {\n",
       "        vertical-align: middle;\n",
       "    }\n",
       "\n",
       "    .dataframe tbody tr th {\n",
       "        vertical-align: top;\n",
       "    }\n",
       "\n",
       "    .dataframe thead th {\n",
       "        text-align: right;\n",
       "    }\n",
       "</style>\n",
       "<table border=\"1\" class=\"dataframe\">\n",
       "  <thead>\n",
       "    <tr style=\"text-align: right;\">\n",
       "      <th></th>\n",
       "      <th>instanceidk</th>\n",
       "      <th>studyidk</th>\n",
       "    </tr>\n",
       "  </thead>\n",
       "  <tbody>\n",
       "    <tr>\n",
       "      <th>0</th>\n",
       "      <td>58207</td>\n",
       "      <td>2966</td>\n",
       "    </tr>\n",
       "    <tr>\n",
       "      <th>1</th>\n",
       "      <td>110441</td>\n",
       "      <td>6363</td>\n",
       "    </tr>\n",
       "    <tr>\n",
       "      <th>2</th>\n",
       "      <td>117616</td>\n",
       "      <td>6852</td>\n",
       "    </tr>\n",
       "    <tr>\n",
       "      <th>3</th>\n",
       "      <td>119931</td>\n",
       "      <td>6996</td>\n",
       "    </tr>\n",
       "    <tr>\n",
       "      <th>4</th>\n",
       "      <td>124996</td>\n",
       "      <td>7331</td>\n",
       "    </tr>\n",
       "  </tbody>\n",
       "</table>\n",
       "</div>"
      ],
      "text/plain": [
       "   instanceidk  studyidk\n",
       "0        58207      2966\n",
       "1       110441      6363\n",
       "2       117616      6852\n",
       "3       119931      6996\n",
       "4       124996      7331"
      ]
     },
     "execution_count": 35,
     "metadata": {},
     "output_type": "execute_result"
    }
   ],
   "source": [
    "print(confl_inst_df.shape)\n",
    "confl_inst_df.head()"
   ]
  },
  {
   "cell_type": "code",
   "execution_count": 36,
   "metadata": {},
   "outputs": [],
   "source": [
    "# for all studyidk's in label_inst_df, get all instanceidk's from all_inst_df\n",
    "# delete instanceidk's that exist in label_inst_df\n",
    "    # should decrease by 53965\n",
    "# delete instanceidk's that exist in confl_inst_df"
   ]
  },
  {
   "cell_type": "code",
   "execution_count": 37,
   "metadata": {},
   "outputs": [
    {
     "name": "stdout",
     "output_type": "stream",
     "text": [
      "Number of unique studies for which we have labels\n",
      "22139\n",
      "22139\n"
     ]
    }
   ],
   "source": [
    "# get studies for which labels exist\n",
    "studies_w_labels = list(set(label_inst_df['studyidk'].tolist()))\n",
    "print('Number of unique studies for which we have labels')\n",
    "print(len(label_inst_df['studyidk'].unique().tolist()))\n",
    "print(len(studies_w_labels))"
   ]
  },
  {
   "cell_type": "code",
   "execution_count": 42,
   "metadata": {},
   "outputs": [
    {
     "name": "stdout",
     "output_type": "stream",
     "text": [
      "53965\n",
      "13198\n"
     ]
    }
   ],
   "source": [
    "# get instances w labels - to be removed from all instances\n",
    "inst_w_labels = list(set(label_inst_df['instanceidk'].tolist()))\n",
    "print(len(inst_w_labels)) # should be same length as label_inst_df\n",
    "\n",
    "# get instances w conflicts - to be removed from all instances\n",
    "    # conflict i.e. instances s.t. is_multiview==True\n",
    "inst_w_conflicts = list(set(confl_inst_df['instanceidk'].tolist()))\n",
    "print(len(inst_w_conflicts)) # should be same as length confl_inst_df"
   ]
  },
  {
   "cell_type": "code",
   "execution_count": 47,
   "metadata": {},
   "outputs": [
    {
     "name": "stdout",
     "output_type": "stream",
     "text": [
      "(798850, 4)\n",
      "(745046, 4)\n",
      "(734181, 4)\n"
     ]
    }
   ],
   "source": [
    "# get all instanceidk's from studies which have measurements\n",
    "poss_inst_df = all_inst_df[all_inst_df['studyidk'].isin(studies_w_labels)]\n",
    "# studies_all = list(set(all_inst_df['studyidk'].tolist()))\n",
    "print(poss_inst_df.shape)\n",
    "\n",
    "# remove instances which have labels\n",
    "poss_inst_df = poss_inst_df[~poss_inst_df['instanceidk'].isin(inst_w_labels)]\n",
    "print(poss_inst_df.shape)\n",
    "\n",
    "# remove instances which have conflicts\n",
    "poss_inst_df = poss_inst_df[~poss_inst_df['instanceidk'].isin(inst_w_conflicts)]\n",
    "print(poss_inst_df.shape)"
   ]
  },
  {
   "cell_type": "code",
   "execution_count": 51,
   "metadata": {},
   "outputs": [
    {
     "name": "stdout",
     "output_type": "stream",
     "text": [
      "(734181, 4)\n"
     ]
    },
    {
     "data": {
      "text/html": [
       "<div>\n",
       "<style scoped>\n",
       "    .dataframe tbody tr th:only-of-type {\n",
       "        vertical-align: middle;\n",
       "    }\n",
       "\n",
       "    .dataframe tbody tr th {\n",
       "        vertical-align: top;\n",
       "    }\n",
       "\n",
       "    .dataframe thead th {\n",
       "        text-align: right;\n",
       "    }\n",
       "</style>\n",
       "<table border=\"1\" class=\"dataframe\">\n",
       "  <thead>\n",
       "    <tr style=\"text-align: right;\">\n",
       "      <th></th>\n",
       "      <th>sopinstanceuid</th>\n",
       "      <th>instancefilename</th>\n",
       "      <th>instanceidk</th>\n",
       "      <th>studyidk</th>\n",
       "    </tr>\n",
       "  </thead>\n",
       "  <tbody>\n",
       "    <tr>\n",
       "      <th>0</th>\n",
       "      <td>1.2.840.113543.6.6.4.6.62554526370968849932129...</td>\n",
       "      <td>6RYXZNZW</td>\n",
       "      <td>57157</td>\n",
       "      <td>2882</td>\n",
       "    </tr>\n",
       "    <tr>\n",
       "      <th>1</th>\n",
       "      <td>1.2.840.113543.6.6.4.6.64175920513291079284612...</td>\n",
       "      <td>6RYXZO03</td>\n",
       "      <td>57158</td>\n",
       "      <td>2882</td>\n",
       "    </tr>\n",
       "    <tr>\n",
       "      <th>2</th>\n",
       "      <td>1.2.840.113543.6.6.4.6.63515355813678132433121...</td>\n",
       "      <td>6RYXZO0D</td>\n",
       "      <td>57159</td>\n",
       "      <td>2882</td>\n",
       "    </tr>\n",
       "    <tr>\n",
       "      <th>3</th>\n",
       "      <td>1.2.840.113543.6.6.4.6.63385835434171778347132...</td>\n",
       "      <td>6RYXZO0K</td>\n",
       "      <td>57160</td>\n",
       "      <td>2882</td>\n",
       "    </tr>\n",
       "    <tr>\n",
       "      <th>4</th>\n",
       "      <td>1.2.840.113543.6.6.4.6.62250778798156715321013...</td>\n",
       "      <td>6RYXZO0Y</td>\n",
       "      <td>57161</td>\n",
       "      <td>2882</td>\n",
       "    </tr>\n",
       "  </tbody>\n",
       "</table>\n",
       "</div>"
      ],
      "text/plain": [
       "                                      sopinstanceuid instancefilename  \\\n",
       "0  1.2.840.113543.6.6.4.6.62554526370968849932129...         6RYXZNZW   \n",
       "1  1.2.840.113543.6.6.4.6.64175920513291079284612...         6RYXZO03   \n",
       "2  1.2.840.113543.6.6.4.6.63515355813678132433121...         6RYXZO0D   \n",
       "3  1.2.840.113543.6.6.4.6.63385835434171778347132...         6RYXZO0K   \n",
       "4  1.2.840.113543.6.6.4.6.62250778798156715321013...         6RYXZO0Y   \n",
       "\n",
       "   instanceidk  studyidk  \n",
       "0        57157      2882  \n",
       "1        57158      2882  \n",
       "2        57159      2882  \n",
       "3        57160      2882  \n",
       "4        57161      2882  "
      ]
     },
     "execution_count": 51,
     "metadata": {},
     "output_type": "execute_result"
    }
   ],
   "source": [
    "print(poss_inst_df.shape)\n",
    "poss_inst_df.head()"
   ]
  }
 ],
 "metadata": {
  "kernelspec": {
   "display_name": "dssg",
   "language": "python",
   "name": "dssg"
  },
  "language_info": {
   "codemirror_mode": {
    "name": "ipython",
    "version": 3
   },
   "file_extension": ".py",
   "mimetype": "text/x-python",
   "name": "python",
   "nbconvert_exporter": "python",
   "pygments_lexer": "ipython3",
   "version": "3.7.3"
  }
 },
 "nbformat": 4,
 "nbformat_minor": 2
}
