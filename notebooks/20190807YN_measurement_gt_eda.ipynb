{
 "cells": [
  {
   "cell_type": "code",
   "execution_count": 1,
   "metadata": {},
   "outputs": [],
   "source": [
    "%reload_ext autoreload\n",
    "%autoreload 2\n",
    "%matplotlib inline"
   ]
  },
  {
   "cell_type": "code",
   "execution_count": 2,
   "metadata": {},
   "outputs": [],
   "source": [
    "import numpy as np\n",
    "import pandas as pd\n",
    "import matplotlib.pyplot as plt"
   ]
  },
  {
   "cell_type": "code",
   "execution_count": 3,
   "metadata": {},
   "outputs": [],
   "source": [
    "import sys\n",
    "sys.path.append('../src')"
   ]
  },
  {
   "cell_type": "code",
   "execution_count": 4,
   "metadata": {},
   "outputs": [
    {
     "name": "stderr",
     "output_type": "stream",
     "text": [
      "/home/ubuntu/anaconda3/envs/yoni/lib/python3.6/site-packages/psycopg2/__init__.py:144: UserWarning: The psycopg2 wheel package will be renamed from release 2.8; in order to keep installing from binary please use \"pip install psycopg2-binary\" instead. For details see: <http://initd.org/psycopg/docs/install.html#binary-install-from-pypi>.\n",
      "  \"\"\")\n"
     ]
    }
   ],
   "source": [
    "from d00_utils.db_utils import dbReadWriteClean, dbReadWriteViews\n",
    "io_clean = dbReadWriteClean()\n",
    "io_views = dbReadWriteViews()"
   ]
  },
  {
   "cell_type": "code",
   "execution_count": 5,
   "metadata": {},
   "outputs": [],
   "source": [
    "def get_recommendation(row):\n",
    "    return 'normal' if row['value'] >= 60 else 'abnormal' if row['value'] <= 40 else 'greyzone'"
   ]
  },
  {
   "cell_type": "code",
   "execution_count": 6,
   "metadata": {},
   "outputs": [
    {
     "name": "stdout",
     "output_type": "stream",
     "text": [
      "(1568351, 5)\n"
     ]
    },
    {
     "data": {
      "text/html": [
       "<div>\n",
       "<style scoped>\n",
       "    .dataframe tbody tr th:only-of-type {\n",
       "        vertical-align: middle;\n",
       "    }\n",
       "\n",
       "    .dataframe tbody tr th {\n",
       "        vertical-align: top;\n",
       "    }\n",
       "\n",
       "    .dataframe thead th {\n",
       "        text-align: right;\n",
       "    }\n",
       "</style>\n",
       "<table border=\"1\" class=\"dataframe\">\n",
       "  <thead>\n",
       "    <tr style=\"text-align: right;\">\n",
       "      <th></th>\n",
       "      <th>studyidk</th>\n",
       "      <th>measabstractnumber</th>\n",
       "      <th>name</th>\n",
       "      <th>value</th>\n",
       "      <th>unitname</th>\n",
       "    </tr>\n",
       "  </thead>\n",
       "  <tbody>\n",
       "    <tr>\n",
       "      <th>0</th>\n",
       "      <td>2882</td>\n",
       "      <td>2</td>\n",
       "      <td>(P1/2t)AVM</td>\n",
       "      <td>2.491754</td>\n",
       "      <td>cm2</td>\n",
       "    </tr>\n",
       "    <tr>\n",
       "      <th>1</th>\n",
       "      <td>2882</td>\n",
       "      <td>12</td>\n",
       "      <td>Area TSVI</td>\n",
       "      <td>3.606348</td>\n",
       "      <td>cm2</td>\n",
       "    </tr>\n",
       "    <tr>\n",
       "      <th>2</th>\n",
       "      <td>2882</td>\n",
       "      <td>43</td>\n",
       "      <td>FE(el-ps4)</td>\n",
       "      <td>37.032087</td>\n",
       "      <td>%</td>\n",
       "    </tr>\n",
       "    <tr>\n",
       "      <th>3</th>\n",
       "      <td>2882</td>\n",
       "      <td>46</td>\n",
       "      <td>FE(MDD-ps4)</td>\n",
       "      <td>35.095355</td>\n",
       "      <td>%</td>\n",
       "    </tr>\n",
       "    <tr>\n",
       "      <th>4</th>\n",
       "      <td>2882</td>\n",
       "      <td>125</td>\n",
       "      <td>P1/2t VM</td>\n",
       "      <td>88.291224</td>\n",
       "      <td>ms</td>\n",
       "    </tr>\n",
       "  </tbody>\n",
       "</table>\n",
       "</div>"
      ],
      "text/plain": [
       "   studyidk  measabstractnumber         name      value unitname\n",
       "0      2882                   2   (P1/2t)AVM   2.491754      cm2\n",
       "1      2882                  12    Area TSVI   3.606348      cm2\n",
       "2      2882                  43   FE(el-ps4)  37.032087        %\n",
       "3      2882                  46  FE(MDD-ps4)  35.095355        %\n",
       "4      2882                 125     P1/2t VM  88.291224       ms"
      ]
     },
     "execution_count": 6,
     "metadata": {},
     "output_type": "execute_result"
    }
   ],
   "source": [
    "measurement_abstract_rpt_df = io_clean.get_table(\"measurement_abstract_rpt\")\n",
    "print(measurement_abstract_rpt_df.shape)\n",
    "measurement_abstract_rpt_df.head()"
   ]
  },
  {
   "cell_type": "code",
   "execution_count": 7,
   "metadata": {},
   "outputs": [
    {
     "data": {
      "text/plain": [
       "ASC                        22447\n",
       "Altura (unidad métrica)    21505\n",
       "Peso (unidad métrica)      21478\n",
       "IMC                        21447\n",
       "ASC (Haycock)              21438\n",
       "                           ...  \n",
       "LA Length_phl                  1\n",
       "Tmsv 16-DIF (ms)               1\n",
       "Vmáx E VT                      1\n",
       "Diámetro de CIA                1\n",
       "Tmsv 6-DIF (ms)                1\n",
       "Name: name, Length: 362, dtype: int64"
      ]
     },
     "execution_count": 7,
     "metadata": {},
     "output_type": "execute_result"
    }
   ],
   "source": [
    "measurement_abstract_rpt_df['name'].value_counts()"
   ]
  },
  {
   "cell_type": "code",
   "execution_count": 8,
   "metadata": {},
   "outputs": [],
   "source": [
    "filter_df = measurement_abstract_rpt_df"
   ]
  },
  {
   "cell_type": "code",
   "execution_count": 9,
   "metadata": {},
   "outputs": [
    {
     "name": "stdout",
     "output_type": "stream",
     "text": [
      "(85719, 5)\n"
     ]
    },
    {
     "data": {
      "text/html": [
       "<div>\n",
       "<style scoped>\n",
       "    .dataframe tbody tr th:only-of-type {\n",
       "        vertical-align: middle;\n",
       "    }\n",
       "\n",
       "    .dataframe tbody tr th {\n",
       "        vertical-align: top;\n",
       "    }\n",
       "\n",
       "    .dataframe thead th {\n",
       "        text-align: right;\n",
       "    }\n",
       "</style>\n",
       "<table border=\"1\" class=\"dataframe\">\n",
       "  <thead>\n",
       "    <tr style=\"text-align: right;\">\n",
       "      <th></th>\n",
       "      <th>studyidk</th>\n",
       "      <th>measabstractnumber</th>\n",
       "      <th>name</th>\n",
       "      <th>value</th>\n",
       "      <th>unitname</th>\n",
       "    </tr>\n",
       "  </thead>\n",
       "  <tbody>\n",
       "    <tr>\n",
       "      <th>2</th>\n",
       "      <td>2882</td>\n",
       "      <td>43</td>\n",
       "      <td>FE(el-ps4)</td>\n",
       "      <td>37.032087</td>\n",
       "      <td>%</td>\n",
       "    </tr>\n",
       "    <tr>\n",
       "      <th>3</th>\n",
       "      <td>2882</td>\n",
       "      <td>46</td>\n",
       "      <td>FE(MDD-ps4)</td>\n",
       "      <td>35.095355</td>\n",
       "      <td>%</td>\n",
       "    </tr>\n",
       "    <tr>\n",
       "      <th>32</th>\n",
       "      <td>2915</td>\n",
       "      <td>42</td>\n",
       "      <td>FE(cúbico)</td>\n",
       "      <td>76.509059</td>\n",
       "      <td>%</td>\n",
       "    </tr>\n",
       "    <tr>\n",
       "      <th>33</th>\n",
       "      <td>2915</td>\n",
       "      <td>51</td>\n",
       "      <td>FE(Teich)</td>\n",
       "      <td>68.886942</td>\n",
       "      <td>%</td>\n",
       "    </tr>\n",
       "    <tr>\n",
       "      <th>48</th>\n",
       "      <td>2966</td>\n",
       "      <td>43</td>\n",
       "      <td>FE(el-ps4)</td>\n",
       "      <td>42.469430</td>\n",
       "      <td>%</td>\n",
       "    </tr>\n",
       "  </tbody>\n",
       "</table>\n",
       "</div>"
      ],
      "text/plain": [
       "    studyidk  measabstractnumber         name      value unitname\n",
       "2       2882                  43   FE(el-ps4)  37.032087        %\n",
       "3       2882                  46  FE(MDD-ps4)  35.095355        %\n",
       "32      2915                  42   FE(cúbico)  76.509059        %\n",
       "33      2915                  51    FE(Teich)  68.886942        %\n",
       "48      2966                  43   FE(el-ps4)  42.469430        %"
      ]
     },
     "execution_count": 9,
     "metadata": {},
     "output_type": "execute_result"
    }
   ],
   "source": [
    "filter_df = filter_df[filter_df['name'].str.contains('FE')]\n",
    "filter_df = filter_df[filter_df['value']>=0]\n",
    "print(filter_df.shape)\n",
    "filter_df.head()"
   ]
  },
  {
   "cell_type": "code",
   "execution_count": 10,
   "metadata": {},
   "outputs": [
    {
     "data": {
      "text/plain": [
       "0.05465549484777323"
      ]
     },
     "execution_count": 10,
     "metadata": {},
     "output_type": "execute_result"
    }
   ],
   "source": [
    "len(filter_df)/len(measurement_abstract_rpt_df)"
   ]
  },
  {
   "cell_type": "code",
   "execution_count": 11,
   "metadata": {},
   "outputs": [
    {
     "data": {
      "text/plain": [
       "FE(MDD-ps4)             17222\n",
       "FE(el-ps4)              16332\n",
       "FE(Teich)               11741\n",
       "FE(cúbico)              11736\n",
       "FE(MDD-ps2)              9476\n",
       "FE(el-ps2)               9107\n",
       "FE(MDD-bp)               8938\n",
       "FE (Bi-Plane) (aCMQ)      591\n",
       "FE A4C (aCMQ)             262\n",
       "FE (HM)_phl               250\n",
       "FEVI Bipl                  49\n",
       "FE(MDD-bp)esf              12\n",
       "FE_3D-Vol.                  3\n",
       "Name: name, dtype: int64"
      ]
     },
     "execution_count": 11,
     "metadata": {},
     "output_type": "execute_result"
    }
   ],
   "source": [
    "filter_df['name'].value_counts()"
   ]
  },
  {
   "cell_type": "code",
   "execution_count": 12,
   "metadata": {},
   "outputs": [
    {
     "name": "stdout",
     "output_type": "stream",
     "text": [
      "(33554, 5)\n"
     ]
    },
    {
     "data": {
      "text/html": [
       "<div>\n",
       "<style scoped>\n",
       "    .dataframe tbody tr th:only-of-type {\n",
       "        vertical-align: middle;\n",
       "    }\n",
       "\n",
       "    .dataframe tbody tr th {\n",
       "        vertical-align: top;\n",
       "    }\n",
       "\n",
       "    .dataframe thead th {\n",
       "        text-align: right;\n",
       "    }\n",
       "</style>\n",
       "<table border=\"1\" class=\"dataframe\">\n",
       "  <thead>\n",
       "    <tr style=\"text-align: right;\">\n",
       "      <th></th>\n",
       "      <th>studyidk</th>\n",
       "      <th>measabstractnumber</th>\n",
       "      <th>name</th>\n",
       "      <th>value</th>\n",
       "      <th>unitname</th>\n",
       "    </tr>\n",
       "  </thead>\n",
       "  <tbody>\n",
       "    <tr>\n",
       "      <th>2</th>\n",
       "      <td>2882</td>\n",
       "      <td>43</td>\n",
       "      <td>FE(el-ps4)</td>\n",
       "      <td>37.032087</td>\n",
       "      <td>%</td>\n",
       "    </tr>\n",
       "    <tr>\n",
       "      <th>3</th>\n",
       "      <td>2882</td>\n",
       "      <td>46</td>\n",
       "      <td>FE(MDD-ps4)</td>\n",
       "      <td>35.095355</td>\n",
       "      <td>%</td>\n",
       "    </tr>\n",
       "    <tr>\n",
       "      <th>48</th>\n",
       "      <td>2966</td>\n",
       "      <td>43</td>\n",
       "      <td>FE(el-ps4)</td>\n",
       "      <td>42.469430</td>\n",
       "      <td>%</td>\n",
       "    </tr>\n",
       "    <tr>\n",
       "      <th>49</th>\n",
       "      <td>2966</td>\n",
       "      <td>46</td>\n",
       "      <td>FE(MDD-ps4)</td>\n",
       "      <td>47.570583</td>\n",
       "      <td>%</td>\n",
       "    </tr>\n",
       "    <tr>\n",
       "      <th>154</th>\n",
       "      <td>5898</td>\n",
       "      <td>51</td>\n",
       "      <td>FE(el-ps4)</td>\n",
       "      <td>29.178381</td>\n",
       "      <td>%</td>\n",
       "    </tr>\n",
       "  </tbody>\n",
       "</table>\n",
       "</div>"
      ],
      "text/plain": [
       "     studyidk  measabstractnumber         name      value unitname\n",
       "2        2882                  43   FE(el-ps4)  37.032087        %\n",
       "3        2882                  46  FE(MDD-ps4)  35.095355        %\n",
       "48       2966                  43   FE(el-ps4)  42.469430        %\n",
       "49       2966                  46  FE(MDD-ps4)  47.570583        %\n",
       "154      5898                  51   FE(el-ps4)  29.178381        %"
      ]
     },
     "execution_count": 12,
     "metadata": {},
     "output_type": "execute_result"
    }
   ],
   "source": [
    "filter_df = filter_df[filter_df['name'].str.contains('ps4')]\n",
    "print(filter_df.shape)\n",
    "filter_df.head()"
   ]
  },
  {
   "cell_type": "code",
   "execution_count": 13,
   "metadata": {},
   "outputs": [
    {
     "data": {
      "text/plain": [
       "0.02139444550358944"
      ]
     },
     "execution_count": 13,
     "metadata": {},
     "output_type": "execute_result"
    }
   ],
   "source": [
    "len(filter_df)/len(measurement_abstract_rpt_df)"
   ]
  },
  {
   "cell_type": "code",
   "execution_count": 19,
   "metadata": {},
   "outputs": [
    {
     "name": "stdout",
     "output_type": "stream",
     "text": [
      "(464634, 9)\n"
     ]
    },
    {
     "data": {
      "text/html": [
       "<div>\n",
       "<style scoped>\n",
       "    .dataframe tbody tr th:only-of-type {\n",
       "        vertical-align: middle;\n",
       "    }\n",
       "\n",
       "    .dataframe tbody tr th {\n",
       "        vertical-align: top;\n",
       "    }\n",
       "\n",
       "    .dataframe thead th {\n",
       "        text-align: right;\n",
       "    }\n",
       "</style>\n",
       "<table border=\"1\" class=\"dataframe\">\n",
       "  <thead>\n",
       "    <tr style=\"text-align: right;\">\n",
       "      <th></th>\n",
       "      <th>instanceidk</th>\n",
       "      <th>indexinmglist</th>\n",
       "      <th>studyidk</th>\n",
       "      <th>frame</th>\n",
       "      <th>view_name</th>\n",
       "      <th>view_exists</th>\n",
       "      <th>view_only</th>\n",
       "      <th>ventricle_only</th>\n",
       "      <th>cycle_only</th>\n",
       "    </tr>\n",
       "  </thead>\n",
       "  <tbody>\n",
       "    <tr>\n",
       "      <th>0</th>\n",
       "      <td>57164</td>\n",
       "      <td>0</td>\n",
       "      <td>2882</td>\n",
       "      <td>8</td>\n",
       "      <td>a4c_ven_ed</td>\n",
       "      <td>False</td>\n",
       "      <td>a4c</td>\n",
       "      <td>ven</td>\n",
       "      <td>ed</td>\n",
       "    </tr>\n",
       "    <tr>\n",
       "      <th>1</th>\n",
       "      <td>57164</td>\n",
       "      <td>1</td>\n",
       "      <td>2882</td>\n",
       "      <td>15</td>\n",
       "      <td>a4c_ven_ed</td>\n",
       "      <td>True</td>\n",
       "      <td>a4c</td>\n",
       "      <td>ven</td>\n",
       "      <td>ed</td>\n",
       "    </tr>\n",
       "    <tr>\n",
       "      <th>2</th>\n",
       "      <td>58207</td>\n",
       "      <td>0</td>\n",
       "      <td>2966</td>\n",
       "      <td>1</td>\n",
       "      <td>a4c_ven_ed</td>\n",
       "      <td>False</td>\n",
       "      <td>a4c</td>\n",
       "      <td>ven</td>\n",
       "      <td>ed</td>\n",
       "    </tr>\n",
       "    <tr>\n",
       "      <th>3</th>\n",
       "      <td>58207</td>\n",
       "      <td>1</td>\n",
       "      <td>2966</td>\n",
       "      <td>8</td>\n",
       "      <td>a4c_ven_ed</td>\n",
       "      <td>True</td>\n",
       "      <td>a4c</td>\n",
       "      <td>ven</td>\n",
       "      <td>ed</td>\n",
       "    </tr>\n",
       "    <tr>\n",
       "      <th>4</th>\n",
       "      <td>102950</td>\n",
       "      <td>0</td>\n",
       "      <td>5898</td>\n",
       "      <td>17</td>\n",
       "      <td>a4c_ven_ed</td>\n",
       "      <td>True</td>\n",
       "      <td>a4c</td>\n",
       "      <td>ven</td>\n",
       "      <td>ed</td>\n",
       "    </tr>\n",
       "  </tbody>\n",
       "</table>\n",
       "</div>"
      ],
      "text/plain": [
       "   instanceidk  indexinmglist  studyidk  frame   view_name  view_exists  \\\n",
       "0        57164              0      2882      8  a4c_ven_ed        False   \n",
       "1        57164              1      2882     15  a4c_ven_ed         True   \n",
       "2        58207              0      2966      1  a4c_ven_ed        False   \n",
       "3        58207              1      2966      8  a4c_ven_ed         True   \n",
       "4       102950              0      5898     17  a4c_ven_ed         True   \n",
       "\n",
       "  view_only ventricle_only cycle_only  \n",
       "0       a4c            ven         ed  \n",
       "1       a4c            ven         ed  \n",
       "2       a4c            ven         ed  \n",
       "3       a4c            ven         ed  \n",
       "4       a4c            ven         ed  "
      ]
     },
     "execution_count": 19,
     "metadata": {},
     "output_type": "execute_result"
    }
   ],
   "source": [
    "frames_by_volume_mask_df = io_views.get_table('frames_by_volume_mask')\n",
    "print(frames_by_volume_mask_df.shape)\n",
    "frames_by_volume_mask_df.head()"
   ]
  },
  {
   "cell_type": "code",
   "execution_count": 23,
   "metadata": {},
   "outputs": [
    {
     "name": "stdout",
     "output_type": "stream",
     "text": [
      "(25971, 5)\n"
     ]
    },
    {
     "data": {
      "text/html": [
       "<div>\n",
       "<style scoped>\n",
       "    .dataframe tbody tr th:only-of-type {\n",
       "        vertical-align: middle;\n",
       "    }\n",
       "\n",
       "    .dataframe tbody tr th {\n",
       "        vertical-align: top;\n",
       "    }\n",
       "\n",
       "    .dataframe thead th {\n",
       "        text-align: right;\n",
       "    }\n",
       "</style>\n",
       "<table border=\"1\" class=\"dataframe\">\n",
       "  <thead>\n",
       "    <tr style=\"text-align: right;\">\n",
       "      <th></th>\n",
       "      <th>sopinstanceuid</th>\n",
       "      <th>filename</th>\n",
       "      <th>instanceidk</th>\n",
       "      <th>view</th>\n",
       "      <th>studyidk</th>\n",
       "    </tr>\n",
       "  </thead>\n",
       "  <tbody>\n",
       "    <tr>\n",
       "      <th>0</th>\n",
       "      <td>1.2.840.113663.1500.1.365900332.3.4.20120703.9...</td>\n",
       "      <td>8Z0BWX0M</td>\n",
       "      <td>696109</td>\n",
       "      <td>plax</td>\n",
       "      <td>39531</td>\n",
       "    </tr>\n",
       "    <tr>\n",
       "      <th>1</th>\n",
       "      <td>1.2.840.113663.1500.1.365900332.3.7.20120703.9...</td>\n",
       "      <td>8Z0BWZGH</td>\n",
       "      <td>696112</td>\n",
       "      <td>a4c</td>\n",
       "      <td>39531</td>\n",
       "    </tr>\n",
       "    <tr>\n",
       "      <th>2</th>\n",
       "      <td>1.2.840.113663.1500.1.365900332.3.1.20120703.9...</td>\n",
       "      <td>8Z0BXKCB</td>\n",
       "      <td>696140</td>\n",
       "      <td>plax</td>\n",
       "      <td>39533</td>\n",
       "    </tr>\n",
       "    <tr>\n",
       "      <th>3</th>\n",
       "      <td>1.2.840.113663.1500.1.365900332.3.14.20120703....</td>\n",
       "      <td>8Z0BXYUW</td>\n",
       "      <td>696157</td>\n",
       "      <td>plax</td>\n",
       "      <td>39533</td>\n",
       "    </tr>\n",
       "    <tr>\n",
       "      <th>4</th>\n",
       "      <td>1.2.840.113663.1500.1.365900332.3.8.20120704.9...</td>\n",
       "      <td>8ZGVB44R</td>\n",
       "      <td>696422</td>\n",
       "      <td>plax</td>\n",
       "      <td>39552</td>\n",
       "    </tr>\n",
       "  </tbody>\n",
       "</table>\n",
       "</div>"
      ],
      "text/plain": [
       "                                      sopinstanceuid  filename  instanceidk  \\\n",
       "0  1.2.840.113663.1500.1.365900332.3.4.20120703.9...  8Z0BWX0M       696109   \n",
       "1  1.2.840.113663.1500.1.365900332.3.7.20120703.9...  8Z0BWZGH       696112   \n",
       "2  1.2.840.113663.1500.1.365900332.3.1.20120703.9...  8Z0BXKCB       696140   \n",
       "3  1.2.840.113663.1500.1.365900332.3.14.20120703....  8Z0BXYUW       696157   \n",
       "4  1.2.840.113663.1500.1.365900332.3.8.20120704.9...  8ZGVB44R       696422   \n",
       "\n",
       "   view  studyidk  \n",
       "0  plax     39531  \n",
       "1   a4c     39531  \n",
       "2  plax     39533  \n",
       "3  plax     39533  \n",
       "4  plax     39552  "
      ]
     },
     "execution_count": 23,
     "metadata": {},
     "output_type": "execute_result"
    }
   ],
   "source": [
    "instances_w_labels_df = io_views.get_table('instances_w_labels')\n",
    "print(instances_w_labels_df.shape)\n",
    "instances_w_labels_df.head()"
   ]
  },
  {
   "cell_type": "code",
   "execution_count": 31,
   "metadata": {},
   "outputs": [],
   "source": [
    "filter_df = filter_df[filter_df['studyidk'].isin(frames_by_volume_mask_df['studyidk'].unique())]"
   ]
  },
  {
   "cell_type": "code",
   "execution_count": null,
   "metadata": {},
   "outputs": [],
   "source": []
  },
  {
   "cell_type": "code",
   "execution_count": null,
   "metadata": {},
   "outputs": [],
   "source": []
  },
  {
   "cell_type": "code",
   "execution_count": 16,
   "metadata": {},
   "outputs": [],
   "source": [
    "filter_df['recommendation'] = filter_df.apply(get_recommendation, axis=1)"
   ]
  },
  {
   "cell_type": "code",
   "execution_count": null,
   "metadata": {},
   "outputs": [],
   "source": []
  },
  {
   "cell_type": "code",
   "execution_count": 14,
   "metadata": {},
   "outputs": [
    {
     "data": {
      "text/plain": [
       "17222"
      ]
     },
     "execution_count": 14,
     "metadata": {},
     "output_type": "execute_result"
    }
   ],
   "source": [
    "len(filter_df['studyidk'].unique())"
   ]
  },
  {
   "cell_type": "code",
   "execution_count": 15,
   "metadata": {},
   "outputs": [
    {
     "data": {
      "image/png": "[encoded data removed]",
      "text/plain": [
       "<Figure size 432x288 with 1 Axes>"
      ]
     },
     "metadata": {},
     "output_type": "display_data"
    }
   ],
   "source": [
    "plt.title(f'Count of Reported Ejection Fraction Values')\n",
    "plt.xlabel('Value')\n",
    "plt.ylabel('Counts')\n",
    "plt.hist(filter_df['value'], bins=20);"
   ]
  },
  {
   "cell_type": "code",
   "execution_count": 17,
   "metadata": {},
   "outputs": [
    {
     "data": {
      "text/plain": [
       "normal      18419\n",
       "greyzone    12513\n",
       "abnormal     2622\n",
       "Name: recommendation, dtype: int64"
      ]
     },
     "execution_count": 17,
     "metadata": {},
     "output_type": "execute_result"
    }
   ],
   "source": [
    "filter_df['recommendation'].value_counts()"
   ]
  },
  {
   "cell_type": "code",
   "execution_count": null,
   "metadata": {},
   "outputs": [],
   "source": [
    "filter_df = filter_df[filter_df['studyidk'].isin(frames_by_volume_mask_df['studyidk'].unique())]"
   ]
  },
  {
   "cell_type": "code",
   "execution_count": 18,
   "metadata": {},
   "outputs": [
    {
     "data": {
      "text/plain": [
       "normal      0.548936\n",
       "greyzone    0.372921\n",
       "abnormal    0.078143\n",
       "Name: recommendation, dtype: float64"
      ]
     },
     "execution_count": 18,
     "metadata": {},
     "output_type": "execute_result"
    }
   ],
   "source": [
    "filter_df['recommendation'].value_counts()/filter_df['recommendation'].value_counts().sum()"
   ]
  },
  {
   "cell_type": "code",
   "execution_count": 29,
   "metadata": {},
   "outputs": [
    {
     "data": {
      "text/html": [
       "<div>\n",
       "<style scoped>\n",
       "    .dataframe tbody tr th:only-of-type {\n",
       "        vertical-align: middle;\n",
       "    }\n",
       "\n",
       "    .dataframe tbody tr th {\n",
       "        vertical-align: top;\n",
       "    }\n",
       "\n",
       "    .dataframe thead th {\n",
       "        text-align: right;\n",
       "    }\n",
       "</style>\n",
       "<table border=\"1\" class=\"dataframe\">\n",
       "  <thead>\n",
       "    <tr style=\"text-align: right;\">\n",
       "      <th></th>\n",
       "      <th>studyidk</th>\n",
       "      <th>measabstractnumber</th>\n",
       "      <th>name</th>\n",
       "      <th>value</th>\n",
       "      <th>unitname</th>\n",
       "      <th>recommendation</th>\n",
       "    </tr>\n",
       "  </thead>\n",
       "  <tbody>\n",
       "    <tr>\n",
       "      <th>2</th>\n",
       "      <td>2882</td>\n",
       "      <td>43</td>\n",
       "      <td>FE(el-ps4)</td>\n",
       "      <td>37.032087</td>\n",
       "      <td>%</td>\n",
       "      <td>abnormal</td>\n",
       "    </tr>\n",
       "    <tr>\n",
       "      <th>3</th>\n",
       "      <td>2882</td>\n",
       "      <td>46</td>\n",
       "      <td>FE(MDD-ps4)</td>\n",
       "      <td>35.095355</td>\n",
       "      <td>%</td>\n",
       "      <td>abnormal</td>\n",
       "    </tr>\n",
       "    <tr>\n",
       "      <th>48</th>\n",
       "      <td>2966</td>\n",
       "      <td>43</td>\n",
       "      <td>FE(el-ps4)</td>\n",
       "      <td>42.469430</td>\n",
       "      <td>%</td>\n",
       "      <td>greyzone</td>\n",
       "    </tr>\n",
       "    <tr>\n",
       "      <th>49</th>\n",
       "      <td>2966</td>\n",
       "      <td>46</td>\n",
       "      <td>FE(MDD-ps4)</td>\n",
       "      <td>47.570583</td>\n",
       "      <td>%</td>\n",
       "      <td>greyzone</td>\n",
       "    </tr>\n",
       "    <tr>\n",
       "      <th>154</th>\n",
       "      <td>5898</td>\n",
       "      <td>51</td>\n",
       "      <td>FE(el-ps4)</td>\n",
       "      <td>29.178381</td>\n",
       "      <td>%</td>\n",
       "      <td>abnormal</td>\n",
       "    </tr>\n",
       "  </tbody>\n",
       "</table>\n",
       "</div>"
      ],
      "text/plain": [
       "     studyidk  measabstractnumber         name      value unitname  \\\n",
       "2        2882                  43   FE(el-ps4)  37.032087        %   \n",
       "3        2882                  46  FE(MDD-ps4)  35.095355        %   \n",
       "48       2966                  43   FE(el-ps4)  42.469430        %   \n",
       "49       2966                  46  FE(MDD-ps4)  47.570583        %   \n",
       "154      5898                  51   FE(el-ps4)  29.178381        %   \n",
       "\n",
       "    recommendation  \n",
       "2         abnormal  \n",
       "3         abnormal  \n",
       "48        greyzone  \n",
       "49        greyzone  \n",
       "154       abnormal  "
      ]
     },
     "execution_count": 29,
     "metadata": {},
     "output_type": "execute_result"
    }
   ],
   "source": [
    "filter_df.head()"
   ]
  },
  {
   "cell_type": "code",
   "execution_count": null,
   "metadata": {},
   "outputs": [],
   "source": []
  },
  {
   "cell_type": "code",
   "execution_count": 32,
   "metadata": {},
   "outputs": [
    {
     "data": {
      "text/plain": [
       "(32814, 6)"
      ]
     },
     "execution_count": 32,
     "metadata": {},
     "output_type": "execute_result"
    }
   ],
   "source": [
    "filter_df.shape"
   ]
  },
  {
   "cell_type": "code",
   "execution_count": 25,
   "metadata": {},
   "outputs": [
    {
     "data": {
      "text/plain": [
       "17222"
      ]
     },
     "execution_count": 25,
     "metadata": {},
     "output_type": "execute_result"
    }
   ],
   "source": [
    "len(filter_df['studyidk'].unique())"
   ]
  },
  {
   "cell_type": "code",
   "execution_count": 26,
   "metadata": {},
   "outputs": [
    {
     "data": {
      "text/plain": [
       "16484"
      ]
     },
     "execution_count": 26,
     "metadata": {},
     "output_type": "execute_result"
    }
   ],
   "source": [
    "len(merge_df['studyidk'].unique())"
   ]
  },
  {
   "cell_type": "code",
   "execution_count": 28,
   "metadata": {},
   "outputs": [
    {
     "data": {
      "text/plain": [
       "31340"
      ]
     },
     "execution_count": 28,
     "metadata": {},
     "output_type": "execute_result"
    }
   ],
   "source": [
    "len(merge_df['instanceidk'].unique())"
   ]
  },
  {
   "cell_type": "code",
   "execution_count": 23,
   "metadata": {},
   "outputs": [
    {
     "data": {
      "text/plain": [
       "FE(MDD-ps4)    447654\n",
       "FE(el-ps4)     445716\n",
       "Name: name, dtype: int64"
      ]
     },
     "execution_count": 23,
     "metadata": {},
     "output_type": "execute_result"
    }
   ],
   "source": [
    "merge_df['name'].value_counts()"
   ]
  },
  {
   "cell_type": "code",
   "execution_count": null,
   "metadata": {},
   "outputs": [],
   "source": []
  },
  {
   "cell_type": "code",
   "execution_count": 70,
   "metadata": {},
   "outputs": [
    {
     "data": {
      "text/html": [
       "<div>\n",
       "<style scoped>\n",
       "    .dataframe tbody tr th:only-of-type {\n",
       "        vertical-align: middle;\n",
       "    }\n",
       "\n",
       "    .dataframe tbody tr th {\n",
       "        vertical-align: top;\n",
       "    }\n",
       "\n",
       "    .dataframe thead th {\n",
       "        text-align: right;\n",
       "    }\n",
       "</style>\n",
       "<table border=\"1\" class=\"dataframe\">\n",
       "  <thead>\n",
       "    <tr style=\"text-align: right;\">\n",
       "      <th></th>\n",
       "      <th>studyidk</th>\n",
       "      <th>measabstractnumber</th>\n",
       "      <th>name</th>\n",
       "    </tr>\n",
       "  </thead>\n",
       "  <tbody>\n",
       "    <tr>\n",
       "      <th>0</th>\n",
       "      <td>2882</td>\n",
       "      <td>2</td>\n",
       "      <td>(P1/2t)AVM</td>\n",
       "    </tr>\n",
       "    <tr>\n",
       "      <th>1</th>\n",
       "      <td>2882</td>\n",
       "      <td>12</td>\n",
       "      <td>Area TSVI</td>\n",
       "    </tr>\n",
       "    <tr>\n",
       "      <th>2</th>\n",
       "      <td>2882</td>\n",
       "      <td>43</td>\n",
       "      <td>FE(el-ps4)</td>\n",
       "    </tr>\n",
       "    <tr>\n",
       "      <th>3</th>\n",
       "      <td>2882</td>\n",
       "      <td>46</td>\n",
       "      <td>FE(MDD-ps4)</td>\n",
       "    </tr>\n",
       "    <tr>\n",
       "      <th>4</th>\n",
       "      <td>2882</td>\n",
       "      <td>125</td>\n",
       "      <td>P1/2t VM</td>\n",
       "    </tr>\n",
       "  </tbody>\n",
       "</table>\n",
       "</div>"
      ],
      "text/plain": [
       "   studyidk  measabstractnumber         name\n",
       "0      2882                   2   (P1/2t)AVM\n",
       "1      2882                  12    Area TSVI\n",
       "2      2882                  43   FE(el-ps4)\n",
       "3      2882                  46  FE(MDD-ps4)\n",
       "4      2882                 125     P1/2t VM"
      ]
     },
     "execution_count": 70,
     "metadata": {},
     "output_type": "execute_result"
    }
   ],
   "source": [
    "measurement_abstract_rpt_df = measurement_abstract_rpt_df[['studyidk', 'measabstractnumber', 'name']]\n",
    "measurement_abstract_rpt_df.head()"
   ]
  },
  {
   "cell_type": "code",
   "execution_count": 64,
   "metadata": {},
   "outputs": [
    {
     "name": "stderr",
     "output_type": "stream",
     "text": [
      "/home/ubuntu/anaconda3/envs/yoni/lib/python3.6/site-packages/IPython/core/interactiveshell.py:3249: DtypeWarning: Columns (8,9) have mixed types. Specify dtype option on import or set low_memory=False.\n",
      "  if (await self.run_code(code, result,  async_=asy)):\n"
     ]
    },
    {
     "name": "stdout",
     "output_type": "stream",
     "text": [
      "(858255, 10)\n"
     ]
    },
    {
     "data": {
      "text/html": [
       "<div>\n",
       "<style scoped>\n",
       "    .dataframe tbody tr th:only-of-type {\n",
       "        vertical-align: middle;\n",
       "    }\n",
       "\n",
       "    .dataframe tbody tr th {\n",
       "        vertical-align: top;\n",
       "    }\n",
       "\n",
       "    .dataframe thead th {\n",
       "        text-align: right;\n",
       "    }\n",
       "</style>\n",
       "<table border=\"1\" class=\"dataframe\">\n",
       "  <thead>\n",
       "    <tr style=\"text-align: right;\">\n",
       "      <th></th>\n",
       "      <th>studyidk</th>\n",
       "      <th>measabstractnumber</th>\n",
       "      <th>meassequence</th>\n",
       "      <th>instanceidk</th>\n",
       "      <th>indexinmglist</th>\n",
       "      <th>value</th>\n",
       "      <th>howentered</th>\n",
       "      <th>srinstanceidk</th>\n",
       "      <th>imagesopinstanceuid</th>\n",
       "      <th>measurementuid</th>\n",
       "    </tr>\n",
       "  </thead>\n",
       "  <tbody>\n",
       "    <tr>\n",
       "      <th>0</th>\n",
       "      <td>2882</td>\n",
       "      <td>187</td>\n",
       "      <td>0</td>\n",
       "      <td>57164</td>\n",
       "      <td>0</td>\n",
       "      <td>28.242271</td>\n",
       "      <td>0</td>\n",
       "      <td></td>\n",
       "      <td></td>\n",
       "      <td></td>\n",
       "    </tr>\n",
       "    <tr>\n",
       "      <th>1</th>\n",
       "      <td>2882</td>\n",
       "      <td>188</td>\n",
       "      <td>0</td>\n",
       "      <td>57164</td>\n",
       "      <td>0</td>\n",
       "      <td>7.897812</td>\n",
       "      <td>0</td>\n",
       "      <td></td>\n",
       "      <td></td>\n",
       "      <td></td>\n",
       "    </tr>\n",
       "    <tr>\n",
       "      <th>2</th>\n",
       "      <td>2882</td>\n",
       "      <td>189</td>\n",
       "      <td>0</td>\n",
       "      <td>57164</td>\n",
       "      <td>0</td>\n",
       "      <td>85.725750</td>\n",
       "      <td>0</td>\n",
       "      <td></td>\n",
       "      <td></td>\n",
       "      <td></td>\n",
       "    </tr>\n",
       "    <tr>\n",
       "      <th>3</th>\n",
       "      <td>2882</td>\n",
       "      <td>190</td>\n",
       "      <td>0</td>\n",
       "      <td>57164</td>\n",
       "      <td>0</td>\n",
       "      <td>87.190031</td>\n",
       "      <td>0</td>\n",
       "      <td></td>\n",
       "      <td></td>\n",
       "      <td></td>\n",
       "    </tr>\n",
       "    <tr>\n",
       "      <th>4</th>\n",
       "      <td>2882</td>\n",
       "      <td>191</td>\n",
       "      <td>0</td>\n",
       "      <td>57164</td>\n",
       "      <td>1</td>\n",
       "      <td>36.654466</td>\n",
       "      <td>0</td>\n",
       "      <td></td>\n",
       "      <td></td>\n",
       "      <td></td>\n",
       "    </tr>\n",
       "  </tbody>\n",
       "</table>\n",
       "</div>"
      ],
      "text/plain": [
       "   studyidk  measabstractnumber  meassequence  instanceidk  indexinmglist  \\\n",
       "0      2882                 187             0        57164              0   \n",
       "1      2882                 188             0        57164              0   \n",
       "2      2882                 189             0        57164              0   \n",
       "3      2882                 190             0        57164              0   \n",
       "4      2882                 191             0        57164              1   \n",
       "\n",
       "       value  howentered srinstanceidk imagesopinstanceuid measurementuid  \n",
       "0  28.242271           0                                                   \n",
       "1   7.897812           0                                                   \n",
       "2  85.725750           0                                                   \n",
       "3  87.190031           0                                                   \n",
       "4  36.654466           0                                                   "
      ]
     },
     "execution_count": 64,
     "metadata": {},
     "output_type": "execute_result"
    }
   ],
   "source": [
    "a_measgraphref_df = io_clean.get_table(\"a_measgraphref\")\n",
    "print(a_measgraphref_df.shape)\n",
    "a_measgraphref_df.head()"
   ]
  },
  {
   "cell_type": "code",
   "execution_count": 69,
   "metadata": {},
   "outputs": [
    {
     "name": "stdout",
     "output_type": "stream",
     "text": [
      "(858255, 11)\n"
     ]
    },
    {
     "data": {
      "text/html": [
       "<div>\n",
       "<style scoped>\n",
       "    .dataframe tbody tr th:only-of-type {\n",
       "        vertical-align: middle;\n",
       "    }\n",
       "\n",
       "    .dataframe tbody tr th {\n",
       "        vertical-align: top;\n",
       "    }\n",
       "\n",
       "    .dataframe thead th {\n",
       "        text-align: right;\n",
       "    }\n",
       "</style>\n",
       "<table border=\"1\" class=\"dataframe\">\n",
       "  <thead>\n",
       "    <tr style=\"text-align: right;\">\n",
       "      <th></th>\n",
       "      <th>studyidk</th>\n",
       "      <th>measabstractnumber</th>\n",
       "      <th>name</th>\n",
       "      <th>meassequence</th>\n",
       "      <th>instanceidk</th>\n",
       "      <th>indexinmglist</th>\n",
       "      <th>value</th>\n",
       "      <th>howentered</th>\n",
       "      <th>srinstanceidk</th>\n",
       "      <th>imagesopinstanceuid</th>\n",
       "      <th>measurementuid</th>\n",
       "    </tr>\n",
       "  </thead>\n",
       "  <tbody>\n",
       "    <tr>\n",
       "      <th>0</th>\n",
       "      <td>2882</td>\n",
       "      <td>187</td>\n",
       "      <td>AVIts ap4</td>\n",
       "      <td>0</td>\n",
       "      <td>57164</td>\n",
       "      <td>0</td>\n",
       "      <td>28.242271</td>\n",
       "      <td>0</td>\n",
       "      <td></td>\n",
       "      <td></td>\n",
       "      <td></td>\n",
       "    </tr>\n",
       "    <tr>\n",
       "      <th>1</th>\n",
       "      <td>2882</td>\n",
       "      <td>188</td>\n",
       "      <td>DVIts ap4</td>\n",
       "      <td>0</td>\n",
       "      <td>57164</td>\n",
       "      <td>0</td>\n",
       "      <td>7.897812</td>\n",
       "      <td>0</td>\n",
       "      <td></td>\n",
       "      <td></td>\n",
       "      <td></td>\n",
       "    </tr>\n",
       "    <tr>\n",
       "      <th>2</th>\n",
       "      <td>2882</td>\n",
       "      <td>189</td>\n",
       "      <td>VTS(el-ps4)</td>\n",
       "      <td>0</td>\n",
       "      <td>57164</td>\n",
       "      <td>0</td>\n",
       "      <td>85.725750</td>\n",
       "      <td>0</td>\n",
       "      <td></td>\n",
       "      <td></td>\n",
       "      <td></td>\n",
       "    </tr>\n",
       "    <tr>\n",
       "      <th>3</th>\n",
       "      <td>2882</td>\n",
       "      <td>190</td>\n",
       "      <td>VTS(MDD-ps4)</td>\n",
       "      <td>0</td>\n",
       "      <td>57164</td>\n",
       "      <td>0</td>\n",
       "      <td>87.190031</td>\n",
       "      <td>0</td>\n",
       "      <td></td>\n",
       "      <td></td>\n",
       "      <td></td>\n",
       "    </tr>\n",
       "    <tr>\n",
       "      <th>4</th>\n",
       "      <td>2882</td>\n",
       "      <td>191</td>\n",
       "      <td>AVItd ap4</td>\n",
       "      <td>0</td>\n",
       "      <td>57164</td>\n",
       "      <td>1</td>\n",
       "      <td>36.654466</td>\n",
       "      <td>0</td>\n",
       "      <td></td>\n",
       "      <td></td>\n",
       "      <td></td>\n",
       "    </tr>\n",
       "  </tbody>\n",
       "</table>\n",
       "</div>"
      ],
      "text/plain": [
       "   studyidk  measabstractnumber          name  meassequence  instanceidk  \\\n",
       "0      2882                 187     AVIts ap4             0        57164   \n",
       "1      2882                 188     DVIts ap4             0        57164   \n",
       "2      2882                 189   VTS(el-ps4)             0        57164   \n",
       "3      2882                 190  VTS(MDD-ps4)             0        57164   \n",
       "4      2882                 191     AVItd ap4             0        57164   \n",
       "\n",
       "   indexinmglist      value  howentered srinstanceidk imagesopinstanceuid  \\\n",
       "0              0  28.242271           0                                     \n",
       "1              0   7.897812           0                                     \n",
       "2              0  85.725750           0                                     \n",
       "3              0  87.190031           0                                     \n",
       "4              1  36.654466           0                                     \n",
       "\n",
       "  measurementuid  \n",
       "0                 \n",
       "1                 \n",
       "2                 \n",
       "3                 \n",
       "4                 "
      ]
     },
     "execution_count": 69,
     "metadata": {},
     "output_type": "execute_result"
    }
   ],
   "source": [
    "merge_df = measurement_abstract_rpt_df.merge(a_measgraphref_df, on=['studyidk', 'measabstractnumber'])\n",
    "print(merge_df.shape)\n",
    "merge_df.head()"
   ]
  },
  {
   "cell_type": "code",
   "execution_count": 71,
   "metadata": {},
   "outputs": [
    {
     "data": {
      "text/html": [
       "<div>\n",
       "<style scoped>\n",
       "    .dataframe tbody tr th:only-of-type {\n",
       "        vertical-align: middle;\n",
       "    }\n",
       "\n",
       "    .dataframe tbody tr th {\n",
       "        vertical-align: top;\n",
       "    }\n",
       "\n",
       "    .dataframe thead th {\n",
       "        text-align: right;\n",
       "    }\n",
       "</style>\n",
       "<table border=\"1\" class=\"dataframe\">\n",
       "  <thead>\n",
       "    <tr style=\"text-align: right;\">\n",
       "      <th></th>\n",
       "      <th>studyidk</th>\n",
       "      <th>instanceidk</th>\n",
       "      <th>indexinmglist</th>\n",
       "      <th>meassequence</th>\n",
       "      <th>name</th>\n",
       "      <th>value</th>\n",
       "      <th>howentered</th>\n",
       "    </tr>\n",
       "  </thead>\n",
       "  <tbody>\n",
       "    <tr>\n",
       "      <th>0</th>\n",
       "      <td>2882</td>\n",
       "      <td>57164</td>\n",
       "      <td>0</td>\n",
       "      <td>0</td>\n",
       "      <td>AVIts ap4</td>\n",
       "      <td>28.242271</td>\n",
       "      <td>0</td>\n",
       "    </tr>\n",
       "    <tr>\n",
       "      <th>1</th>\n",
       "      <td>2882</td>\n",
       "      <td>57164</td>\n",
       "      <td>0</td>\n",
       "      <td>0</td>\n",
       "      <td>DVIts ap4</td>\n",
       "      <td>7.897812</td>\n",
       "      <td>0</td>\n",
       "    </tr>\n",
       "    <tr>\n",
       "      <th>2</th>\n",
       "      <td>2882</td>\n",
       "      <td>57164</td>\n",
       "      <td>0</td>\n",
       "      <td>0</td>\n",
       "      <td>VTS(el-ps4)</td>\n",
       "      <td>85.725750</td>\n",
       "      <td>0</td>\n",
       "    </tr>\n",
       "    <tr>\n",
       "      <th>3</th>\n",
       "      <td>2882</td>\n",
       "      <td>57164</td>\n",
       "      <td>0</td>\n",
       "      <td>0</td>\n",
       "      <td>VTS(MDD-ps4)</td>\n",
       "      <td>87.190031</td>\n",
       "      <td>0</td>\n",
       "    </tr>\n",
       "    <tr>\n",
       "      <th>4</th>\n",
       "      <td>2882</td>\n",
       "      <td>57164</td>\n",
       "      <td>1</td>\n",
       "      <td>0</td>\n",
       "      <td>AVItd ap4</td>\n",
       "      <td>36.654466</td>\n",
       "      <td>0</td>\n",
       "    </tr>\n",
       "  </tbody>\n",
       "</table>\n",
       "</div>"
      ],
      "text/plain": [
       "   studyidk  instanceidk  indexinmglist  meassequence          name  \\\n",
       "0      2882        57164              0             0     AVIts ap4   \n",
       "1      2882        57164              0             0     DVIts ap4   \n",
       "2      2882        57164              0             0   VTS(el-ps4)   \n",
       "3      2882        57164              0             0  VTS(MDD-ps4)   \n",
       "4      2882        57164              1             0     AVItd ap4   \n",
       "\n",
       "       value  howentered  \n",
       "0  28.242271           0  \n",
       "1   7.897812           0  \n",
       "2  85.725750           0  \n",
       "3  87.190031           0  \n",
       "4  36.654466           0  "
      ]
     },
     "execution_count": 71,
     "metadata": {},
     "output_type": "execute_result"
    }
   ],
   "source": [
    "merge_df = merge_df[['studyidk', 'instanceidk', 'indexinmglist', 'meassequence', 'name', 'value', 'howentered']]\n",
    "merge_df.head()"
   ]
  },
  {
   "cell_type": "code",
   "execution_count": 72,
   "metadata": {},
   "outputs": [],
   "source": [
    "filter_df = merge_df"
   ]
  },
  {
   "cell_type": "code",
   "execution_count": 73,
   "metadata": {},
   "outputs": [
    {
     "name": "stdout",
     "output_type": "stream",
     "text": [
      "(1107, 7)\n"
     ]
    },
    {
     "data": {
      "text/html": [
       "<div>\n",
       "<style scoped>\n",
       "    .dataframe tbody tr th:only-of-type {\n",
       "        vertical-align: middle;\n",
       "    }\n",
       "\n",
       "    .dataframe tbody tr th {\n",
       "        vertical-align: top;\n",
       "    }\n",
       "\n",
       "    .dataframe thead th {\n",
       "        text-align: right;\n",
       "    }\n",
       "</style>\n",
       "<table border=\"1\" class=\"dataframe\">\n",
       "  <thead>\n",
       "    <tr style=\"text-align: right;\">\n",
       "      <th></th>\n",
       "      <th>studyidk</th>\n",
       "      <th>instanceidk</th>\n",
       "      <th>indexinmglist</th>\n",
       "      <th>meassequence</th>\n",
       "      <th>name</th>\n",
       "      <th>value</th>\n",
       "      <th>howentered</th>\n",
       "    </tr>\n",
       "  </thead>\n",
       "  <tbody>\n",
       "    <tr>\n",
       "      <th>29153</th>\n",
       "      <td>41874</td>\n",
       "      <td>16</td>\n",
       "      <td>-1</td>\n",
       "      <td>0</td>\n",
       "      <td>FE_3D-Vol.</td>\n",
       "      <td>53.268799</td>\n",
       "      <td>6</td>\n",
       "    </tr>\n",
       "    <tr>\n",
       "      <th>48083</th>\n",
       "      <td>49081</td>\n",
       "      <td>19</td>\n",
       "      <td>-1</td>\n",
       "      <td>0</td>\n",
       "      <td>FE_3D-Vol.</td>\n",
       "      <td>75.929565</td>\n",
       "      <td>6</td>\n",
       "    </tr>\n",
       "    <tr>\n",
       "      <th>64831</th>\n",
       "      <td>53772</td>\n",
       "      <td>16</td>\n",
       "      <td>-1</td>\n",
       "      <td>0</td>\n",
       "      <td>FE_3D-Vol.</td>\n",
       "      <td>69.825066</td>\n",
       "      <td>6</td>\n",
       "    </tr>\n",
       "    <tr>\n",
       "      <th>193292</th>\n",
       "      <td>72598</td>\n",
       "      <td>-1</td>\n",
       "      <td>-1</td>\n",
       "      <td>0</td>\n",
       "      <td>FE (Bi-Plane) (aCMQ)</td>\n",
       "      <td>66.199997</td>\n",
       "      <td>4</td>\n",
       "    </tr>\n",
       "    <tr>\n",
       "      <th>219184</th>\n",
       "      <td>74045</td>\n",
       "      <td>-1</td>\n",
       "      <td>-1</td>\n",
       "      <td>0</td>\n",
       "      <td>FE (Bi-Plane) (aCMQ)</td>\n",
       "      <td>63.299999</td>\n",
       "      <td>4</td>\n",
       "    </tr>\n",
       "  </tbody>\n",
       "</table>\n",
       "</div>"
      ],
      "text/plain": [
       "        studyidk  instanceidk  indexinmglist  meassequence  \\\n",
       "29153      41874           16             -1             0   \n",
       "48083      49081           19             -1             0   \n",
       "64831      53772           16             -1             0   \n",
       "193292     72598           -1             -1             0   \n",
       "219184     74045           -1             -1             0   \n",
       "\n",
       "                        name      value  howentered  \n",
       "29153             FE_3D-Vol.  53.268799           6  \n",
       "48083             FE_3D-Vol.  75.929565           6  \n",
       "64831             FE_3D-Vol.  69.825066           6  \n",
       "193292  FE (Bi-Plane) (aCMQ)  66.199997           4  \n",
       "219184  FE (Bi-Plane) (aCMQ)  63.299999           4  "
      ]
     },
     "execution_count": 73,
     "metadata": {},
     "output_type": "execute_result"
    }
   ],
   "source": [
    "filter_df = filter_df[filter_df['name'].str.contains('FE')]\n",
    "filter_df = filter_df[filter_df['value']>=0]\n",
    "print(filter_df.shape)\n",
    "filter_df.head()"
   ]
  },
  {
   "cell_type": "code",
   "execution_count": null,
   "metadata": {},
   "outputs": [],
   "source": [
    "filter_df['howentered'].value_counts()"
   ]
  },
  {
   "cell_type": "code",
   "execution_count": null,
   "metadata": {},
   "outputs": [],
   "source": []
  },
  {
   "cell_type": "code",
   "execution_count": 32,
   "metadata": {},
   "outputs": [
    {
     "data": {
      "text/html": [
       "<div>\n",
       "<style scoped>\n",
       "    .dataframe tbody tr th:only-of-type {\n",
       "        vertical-align: middle;\n",
       "    }\n",
       "\n",
       "    .dataframe tbody tr th {\n",
       "        vertical-align: top;\n",
       "    }\n",
       "\n",
       "    .dataframe thead th {\n",
       "        text-align: right;\n",
       "    }\n",
       "</style>\n",
       "<table border=\"1\" class=\"dataframe\">\n",
       "  <thead>\n",
       "    <tr style=\"text-align: right;\">\n",
       "      <th></th>\n",
       "      <th>studyidk</th>\n",
       "      <th>measabstractnumber</th>\n",
       "      <th>name</th>\n",
       "      <th>value</th>\n",
       "      <th>unitname</th>\n",
       "      <th>recommendation</th>\n",
       "    </tr>\n",
       "  </thead>\n",
       "  <tbody>\n",
       "    <tr>\n",
       "      <th>2</th>\n",
       "      <td>2882</td>\n",
       "      <td>43</td>\n",
       "      <td>FE(el-ps4)</td>\n",
       "      <td>37.032087</td>\n",
       "      <td>%</td>\n",
       "      <td>abnormal</td>\n",
       "    </tr>\n",
       "    <tr>\n",
       "      <th>3</th>\n",
       "      <td>2882</td>\n",
       "      <td>46</td>\n",
       "      <td>FE(MDD-ps4)</td>\n",
       "      <td>35.095355</td>\n",
       "      <td>%</td>\n",
       "      <td>abnormal</td>\n",
       "    </tr>\n",
       "    <tr>\n",
       "      <th>48</th>\n",
       "      <td>2966</td>\n",
       "      <td>43</td>\n",
       "      <td>FE(el-ps4)</td>\n",
       "      <td>42.469430</td>\n",
       "      <td>%</td>\n",
       "      <td>greyzone</td>\n",
       "    </tr>\n",
       "    <tr>\n",
       "      <th>49</th>\n",
       "      <td>2966</td>\n",
       "      <td>46</td>\n",
       "      <td>FE(MDD-ps4)</td>\n",
       "      <td>47.570583</td>\n",
       "      <td>%</td>\n",
       "      <td>greyzone</td>\n",
       "    </tr>\n",
       "    <tr>\n",
       "      <th>154</th>\n",
       "      <td>5898</td>\n",
       "      <td>51</td>\n",
       "      <td>FE(el-ps4)</td>\n",
       "      <td>29.178381</td>\n",
       "      <td>%</td>\n",
       "      <td>abnormal</td>\n",
       "    </tr>\n",
       "  </tbody>\n",
       "</table>\n",
       "</div>"
      ],
      "text/plain": [
       "     studyidk  measabstractnumber         name      value unitname  \\\n",
       "2        2882                  43   FE(el-ps4)  37.032087        %   \n",
       "3        2882                  46  FE(MDD-ps4)  35.095355        %   \n",
       "48       2966                  43   FE(el-ps4)  42.469430        %   \n",
       "49       2966                  46  FE(MDD-ps4)  47.570583        %   \n",
       "154      5898                  51   FE(el-ps4)  29.178381        %   \n",
       "\n",
       "    recommendation  \n",
       "2         abnormal  \n",
       "3         abnormal  \n",
       "48        greyzone  \n",
       "49        greyzone  \n",
       "154       abnormal  "
      ]
     },
     "execution_count": 32,
     "metadata": {},
     "output_type": "execute_result"
    }
   ],
   "source": [
    "filter_df.head()"
   ]
  }
 ],
 "metadata": {
  "kernelspec": {
   "display_name": "Environment (conda_yoni)",
   "language": "python",
   "name": "conda_yoni"
  },
  "language_info": {
   "codemirror_mode": {
    "name": "ipython",
    "version": 3
   },
   "file_extension": ".py",
   "mimetype": "text/x-python",
   "name": "python",
   "nbconvert_exporter": "python",
   "pygments_lexer": "ipython3",
   "version": "3.6.5"
  }
 },
 "nbformat": 4,
 "nbformat_minor": 2
}
