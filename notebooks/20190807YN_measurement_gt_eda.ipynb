{
 "cells": [
  {
   "cell_type": "code",
   "execution_count": 1,
   "metadata": {},
   "outputs": [],
   "source": [
    "%reload_ext autoreload\n",
    "%autoreload 2\n",
    "%matplotlib inline"
   ]
  },
  {
   "cell_type": "code",
   "execution_count": 2,
   "metadata": {},
   "outputs": [],
   "source": [
    "import numpy as np\n",
    "import pandas as pd\n",
    "import matplotlib.pyplot as plt"
   ]
  },
  {
   "cell_type": "code",
   "execution_count": 3,
   "metadata": {},
   "outputs": [],
   "source": [
    "import sys\n",
    "sys.path.append('../src')"
   ]
  },
  {
   "cell_type": "code",
   "execution_count": 4,
   "metadata": {},
   "outputs": [
    {
     "name": "stderr",
     "output_type": "stream",
     "text": [
      "/home/ubuntu/anaconda3/envs/yoni/lib/python3.6/site-packages/psycopg2/__init__.py:144: UserWarning: The psycopg2 wheel package will be renamed from release 2.8; in order to keep installing from binary please use \"pip install psycopg2-binary\" instead. For details see: <http://initd.org/psycopg/docs/install.html#binary-install-from-pypi>.\n",
      "  \"\"\")\n"
     ]
    }
   ],
   "source": [
    "from d00_utils.db_utils import dbReadWriteClean, dbReadWriteViews\n",
    "io_clean = dbReadWriteClean()\n",
    "io_views = dbReadWriteViews()"
   ]
  },
  {
   "cell_type": "code",
   "execution_count": 5,
   "metadata": {},
   "outputs": [],
   "source": [
    "def get_recommendation(row):\n",
    "    return 'normal' if row['value'] >= 60 else 'abnormal' if row['value'] <= 40 else 'greyzone'"
   ]
  },
  {
   "cell_type": "code",
   "execution_count": 6,
   "metadata": {},
   "outputs": [
    {
     "name": "stdout",
     "output_type": "stream",
     "text": [
      "(1568351, 5)\n"
     ]
    },
    {
     "data": {
      "text/html": [
       "<div>\n",
       "<style scoped>\n",
       "    .dataframe tbody tr th:only-of-type {\n",
       "        vertical-align: middle;\n",
       "    }\n",
       "\n",
       "    .dataframe tbody tr th {\n",
       "        vertical-align: top;\n",
       "    }\n",
       "\n",
       "    .dataframe thead th {\n",
       "        text-align: right;\n",
       "    }\n",
       "</style>\n",
       "<table border=\"1\" class=\"dataframe\">\n",
       "  <thead>\n",
       "    <tr style=\"text-align: right;\">\n",
       "      <th></th>\n",
       "      <th>studyidk</th>\n",
       "      <th>measabstractnumber</th>\n",
       "      <th>name</th>\n",
       "      <th>value</th>\n",
       "      <th>unitname</th>\n",
       "    </tr>\n",
       "  </thead>\n",
       "  <tbody>\n",
       "    <tr>\n",
       "      <th>0</th>\n",
       "      <td>2882</td>\n",
       "      <td>2</td>\n",
       "      <td>(P1/2t)AVM</td>\n",
       "      <td>2.491754</td>\n",
       "      <td>cm2</td>\n",
       "    </tr>\n",
       "    <tr>\n",
       "      <th>1</th>\n",
       "      <td>2882</td>\n",
       "      <td>12</td>\n",
       "      <td>Area TSVI</td>\n",
       "      <td>3.606348</td>\n",
       "      <td>cm2</td>\n",
       "    </tr>\n",
       "    <tr>\n",
       "      <th>2</th>\n",
       "      <td>2882</td>\n",
       "      <td>43</td>\n",
       "      <td>FE(el-ps4)</td>\n",
       "      <td>37.032087</td>\n",
       "      <td>%</td>\n",
       "    </tr>\n",
       "    <tr>\n",
       "      <th>3</th>\n",
       "      <td>2882</td>\n",
       "      <td>46</td>\n",
       "      <td>FE(MDD-ps4)</td>\n",
       "      <td>35.095355</td>\n",
       "      <td>%</td>\n",
       "    </tr>\n",
       "    <tr>\n",
       "      <th>4</th>\n",
       "      <td>2882</td>\n",
       "      <td>125</td>\n",
       "      <td>P1/2t VM</td>\n",
       "      <td>88.291224</td>\n",
       "      <td>ms</td>\n",
       "    </tr>\n",
       "  </tbody>\n",
       "</table>\n",
       "</div>"
      ],
      "text/plain": [
       "   studyidk  measabstractnumber         name      value unitname\n",
       "0      2882                   2   (P1/2t)AVM   2.491754      cm2\n",
       "1      2882                  12    Area TSVI   3.606348      cm2\n",
       "2      2882                  43   FE(el-ps4)  37.032087        %\n",
       "3      2882                  46  FE(MDD-ps4)  35.095355        %\n",
       "4      2882                 125     P1/2t VM  88.291224       ms"
      ]
     },
     "execution_count": 6,
     "metadata": {},
     "output_type": "execute_result"
    }
   ],
   "source": [
    "measurement_abstract_rpt_df = io_clean.get_table(\"measurement_abstract_rpt\")\n",
    "print(measurement_abstract_rpt_df.shape)\n",
    "measurement_abstract_rpt_df.head()"
   ]
  },
  {
   "cell_type": "code",
   "execution_count": 7,
   "metadata": {},
   "outputs": [
    {
     "data": {
      "text/plain": [
       "ASC                        22447\n",
       "Altura (unidad métrica)    21505\n",
       "Peso (unidad métrica)      21478\n",
       "IMC                        21447\n",
       "ASC (Haycock)              21438\n",
       "                           ...  \n",
       "Area VD td                     1\n",
       "E/A VT                         1\n",
       "Tmpo. R-R                      1\n",
       "GP med AP (completo)           1\n",
       "Tmsv 6-SD (%)                  1\n",
       "Name: name, Length: 362, dtype: int64"
      ]
     },
     "execution_count": 7,
     "metadata": {},
     "output_type": "execute_result"
    }
   ],
   "source": [
    "measurement_abstract_rpt_df['name'].value_counts()"
   ]
  },
  {
   "cell_type": "code",
   "execution_count": 8,
   "metadata": {},
   "outputs": [],
   "source": [
    "filter_df = measurement_abstract_rpt_df"
   ]
  },
  {
   "cell_type": "code",
   "execution_count": 9,
   "metadata": {},
   "outputs": [
    {
     "name": "stdout",
     "output_type": "stream",
     "text": [
      "(85719, 5)\n"
     ]
    },
    {
     "data": {
      "text/html": [
       "<div>\n",
       "<style scoped>\n",
       "    .dataframe tbody tr th:only-of-type {\n",
       "        vertical-align: middle;\n",
       "    }\n",
       "\n",
       "    .dataframe tbody tr th {\n",
       "        vertical-align: top;\n",
       "    }\n",
       "\n",
       "    .dataframe thead th {\n",
       "        text-align: right;\n",
       "    }\n",
       "</style>\n",
       "<table border=\"1\" class=\"dataframe\">\n",
       "  <thead>\n",
       "    <tr style=\"text-align: right;\">\n",
       "      <th></th>\n",
       "      <th>studyidk</th>\n",
       "      <th>measabstractnumber</th>\n",
       "      <th>name</th>\n",
       "      <th>value</th>\n",
       "      <th>unitname</th>\n",
       "    </tr>\n",
       "  </thead>\n",
       "  <tbody>\n",
       "    <tr>\n",
       "      <th>2</th>\n",
       "      <td>2882</td>\n",
       "      <td>43</td>\n",
       "      <td>FE(el-ps4)</td>\n",
       "      <td>37.032087</td>\n",
       "      <td>%</td>\n",
       "    </tr>\n",
       "    <tr>\n",
       "      <th>3</th>\n",
       "      <td>2882</td>\n",
       "      <td>46</td>\n",
       "      <td>FE(MDD-ps4)</td>\n",
       "      <td>35.095355</td>\n",
       "      <td>%</td>\n",
       "    </tr>\n",
       "    <tr>\n",
       "      <th>32</th>\n",
       "      <td>2915</td>\n",
       "      <td>42</td>\n",
       "      <td>FE(cúbico)</td>\n",
       "      <td>76.509059</td>\n",
       "      <td>%</td>\n",
       "    </tr>\n",
       "    <tr>\n",
       "      <th>33</th>\n",
       "      <td>2915</td>\n",
       "      <td>51</td>\n",
       "      <td>FE(Teich)</td>\n",
       "      <td>68.886942</td>\n",
       "      <td>%</td>\n",
       "    </tr>\n",
       "    <tr>\n",
       "      <th>48</th>\n",
       "      <td>2966</td>\n",
       "      <td>43</td>\n",
       "      <td>FE(el-ps4)</td>\n",
       "      <td>42.469430</td>\n",
       "      <td>%</td>\n",
       "    </tr>\n",
       "  </tbody>\n",
       "</table>\n",
       "</div>"
      ],
      "text/plain": [
       "    studyidk  measabstractnumber         name      value unitname\n",
       "2       2882                  43   FE(el-ps4)  37.032087        %\n",
       "3       2882                  46  FE(MDD-ps4)  35.095355        %\n",
       "32      2915                  42   FE(cúbico)  76.509059        %\n",
       "33      2915                  51    FE(Teich)  68.886942        %\n",
       "48      2966                  43   FE(el-ps4)  42.469430        %"
      ]
     },
     "execution_count": 9,
     "metadata": {},
     "output_type": "execute_result"
    }
   ],
   "source": [
    "filter_df = filter_df[filter_df['name'].str.contains('FE')]\n",
    "filter_df = filter_df[filter_df['value']>=0]\n",
    "print(filter_df.shape)\n",
    "filter_df.head()"
   ]
  },
  {
   "cell_type": "code",
   "execution_count": 10,
   "metadata": {},
   "outputs": [
    {
     "data": {
      "text/plain": [
       "0.05465549484777323"
      ]
     },
     "execution_count": 10,
     "metadata": {},
     "output_type": "execute_result"
    }
   ],
   "source": [
    "len(filter_df)/len(measurement_abstract_rpt_df)"
   ]
  },
  {
   "cell_type": "code",
   "execution_count": 11,
   "metadata": {},
   "outputs": [
    {
     "data": {
      "text/plain": [
       "FE(MDD-ps4)             17222\n",
       "FE(el-ps4)              16332\n",
       "FE(Teich)               11741\n",
       "FE(cúbico)              11736\n",
       "FE(MDD-ps2)              9476\n",
       "FE(el-ps2)               9107\n",
       "FE(MDD-bp)               8938\n",
       "FE (Bi-Plane) (aCMQ)      591\n",
       "FE A4C (aCMQ)             262\n",
       "FE (HM)_phl               250\n",
       "FEVI Bipl                  49\n",
       "FE(MDD-bp)esf              12\n",
       "FE_3D-Vol.                  3\n",
       "Name: name, dtype: int64"
      ]
     },
     "execution_count": 11,
     "metadata": {},
     "output_type": "execute_result"
    }
   ],
   "source": [
    "filter_df['name'].value_counts()"
   ]
  },
  {
   "cell_type": "code",
   "execution_count": 12,
   "metadata": {},
   "outputs": [
    {
     "name": "stdout",
     "output_type": "stream",
     "text": [
      "(33554, 5)\n"
     ]
    },
    {
     "data": {
      "text/html": [
       "<div>\n",
       "<style scoped>\n",
       "    .dataframe tbody tr th:only-of-type {\n",
       "        vertical-align: middle;\n",
       "    }\n",
       "\n",
       "    .dataframe tbody tr th {\n",
       "        vertical-align: top;\n",
       "    }\n",
       "\n",
       "    .dataframe thead th {\n",
       "        text-align: right;\n",
       "    }\n",
       "</style>\n",
       "<table border=\"1\" class=\"dataframe\">\n",
       "  <thead>\n",
       "    <tr style=\"text-align: right;\">\n",
       "      <th></th>\n",
       "      <th>studyidk</th>\n",
       "      <th>measabstractnumber</th>\n",
       "      <th>name</th>\n",
       "      <th>value</th>\n",
       "      <th>unitname</th>\n",
       "    </tr>\n",
       "  </thead>\n",
       "  <tbody>\n",
       "    <tr>\n",
       "      <th>2</th>\n",
       "      <td>2882</td>\n",
       "      <td>43</td>\n",
       "      <td>FE(el-ps4)</td>\n",
       "      <td>37.032087</td>\n",
       "      <td>%</td>\n",
       "    </tr>\n",
       "    <tr>\n",
       "      <th>3</th>\n",
       "      <td>2882</td>\n",
       "      <td>46</td>\n",
       "      <td>FE(MDD-ps4)</td>\n",
       "      <td>35.095355</td>\n",
       "      <td>%</td>\n",
       "    </tr>\n",
       "    <tr>\n",
       "      <th>48</th>\n",
       "      <td>2966</td>\n",
       "      <td>43</td>\n",
       "      <td>FE(el-ps4)</td>\n",
       "      <td>42.469430</td>\n",
       "      <td>%</td>\n",
       "    </tr>\n",
       "    <tr>\n",
       "      <th>49</th>\n",
       "      <td>2966</td>\n",
       "      <td>46</td>\n",
       "      <td>FE(MDD-ps4)</td>\n",
       "      <td>47.570583</td>\n",
       "      <td>%</td>\n",
       "    </tr>\n",
       "    <tr>\n",
       "      <th>154</th>\n",
       "      <td>5898</td>\n",
       "      <td>51</td>\n",
       "      <td>FE(el-ps4)</td>\n",
       "      <td>29.178381</td>\n",
       "      <td>%</td>\n",
       "    </tr>\n",
       "  </tbody>\n",
       "</table>\n",
       "</div>"
      ],
      "text/plain": [
       "     studyidk  measabstractnumber         name      value unitname\n",
       "2        2882                  43   FE(el-ps4)  37.032087        %\n",
       "3        2882                  46  FE(MDD-ps4)  35.095355        %\n",
       "48       2966                  43   FE(el-ps4)  42.469430        %\n",
       "49       2966                  46  FE(MDD-ps4)  47.570583        %\n",
       "154      5898                  51   FE(el-ps4)  29.178381        %"
      ]
     },
     "execution_count": 12,
     "metadata": {},
     "output_type": "execute_result"
    }
   ],
   "source": [
    "filter_df = filter_df[filter_df['name'].str.contains('ps4')]\n",
    "print(filter_df.shape)\n",
    "filter_df.head()"
   ]
  },
  {
   "cell_type": "code",
   "execution_count": 13,
   "metadata": {},
   "outputs": [
    {
     "data": {
      "text/plain": [
       "0.02139444550358944"
      ]
     },
     "execution_count": 13,
     "metadata": {},
     "output_type": "execute_result"
    }
   ],
   "source": [
    "len(filter_df)/len(measurement_abstract_rpt_df)"
   ]
  },
  {
   "cell_type": "code",
   "execution_count": 14,
   "metadata": {},
   "outputs": [
    {
     "name": "stdout",
     "output_type": "stream",
     "text": [
      "(464634, 9)\n"
     ]
    },
    {
     "data": {
      "text/html": [
       "<div>\n",
       "<style scoped>\n",
       "    .dataframe tbody tr th:only-of-type {\n",
       "        vertical-align: middle;\n",
       "    }\n",
       "\n",
       "    .dataframe tbody tr th {\n",
       "        vertical-align: top;\n",
       "    }\n",
       "\n",
       "    .dataframe thead th {\n",
       "        text-align: right;\n",
       "    }\n",
       "</style>\n",
       "<table border=\"1\" class=\"dataframe\">\n",
       "  <thead>\n",
       "    <tr style=\"text-align: right;\">\n",
       "      <th></th>\n",
       "      <th>instanceidk</th>\n",
       "      <th>indexinmglist</th>\n",
       "      <th>studyidk</th>\n",
       "      <th>frame</th>\n",
       "      <th>view_name</th>\n",
       "      <th>view_exists</th>\n",
       "      <th>view_only</th>\n",
       "      <th>ventricle_only</th>\n",
       "      <th>cycle_only</th>\n",
       "    </tr>\n",
       "  </thead>\n",
       "  <tbody>\n",
       "    <tr>\n",
       "      <th>0</th>\n",
       "      <td>57164</td>\n",
       "      <td>0</td>\n",
       "      <td>2882</td>\n",
       "      <td>8</td>\n",
       "      <td>a4c_ven_ed</td>\n",
       "      <td>f</td>\n",
       "      <td>a4c</td>\n",
       "      <td>ven</td>\n",
       "      <td>ed</td>\n",
       "    </tr>\n",
       "    <tr>\n",
       "      <th>1</th>\n",
       "      <td>57164</td>\n",
       "      <td>1</td>\n",
       "      <td>2882</td>\n",
       "      <td>15</td>\n",
       "      <td>a4c_ven_ed</td>\n",
       "      <td>t</td>\n",
       "      <td>a4c</td>\n",
       "      <td>ven</td>\n",
       "      <td>ed</td>\n",
       "    </tr>\n",
       "    <tr>\n",
       "      <th>2</th>\n",
       "      <td>58207</td>\n",
       "      <td>0</td>\n",
       "      <td>2966</td>\n",
       "      <td>1</td>\n",
       "      <td>a4c_ven_ed</td>\n",
       "      <td>f</td>\n",
       "      <td>a4c</td>\n",
       "      <td>ven</td>\n",
       "      <td>ed</td>\n",
       "    </tr>\n",
       "    <tr>\n",
       "      <th>3</th>\n",
       "      <td>58207</td>\n",
       "      <td>1</td>\n",
       "      <td>2966</td>\n",
       "      <td>8</td>\n",
       "      <td>a4c_ven_ed</td>\n",
       "      <td>t</td>\n",
       "      <td>a4c</td>\n",
       "      <td>ven</td>\n",
       "      <td>ed</td>\n",
       "    </tr>\n",
       "    <tr>\n",
       "      <th>4</th>\n",
       "      <td>102950</td>\n",
       "      <td>0</td>\n",
       "      <td>5898</td>\n",
       "      <td>17</td>\n",
       "      <td>a4c_ven_ed</td>\n",
       "      <td>t</td>\n",
       "      <td>a4c</td>\n",
       "      <td>ven</td>\n",
       "      <td>ed</td>\n",
       "    </tr>\n",
       "  </tbody>\n",
       "</table>\n",
       "</div>"
      ],
      "text/plain": [
       "   instanceidk  indexinmglist  studyidk  frame   view_name view_exists  \\\n",
       "0        57164              0      2882      8  a4c_ven_ed           f   \n",
       "1        57164              1      2882     15  a4c_ven_ed           t   \n",
       "2        58207              0      2966      1  a4c_ven_ed           f   \n",
       "3        58207              1      2966      8  a4c_ven_ed           t   \n",
       "4       102950              0      5898     17  a4c_ven_ed           t   \n",
       "\n",
       "  view_only ventricle_only cycle_only  \n",
       "0       a4c            ven         ed  \n",
       "1       a4c            ven         ed  \n",
       "2       a4c            ven         ed  \n",
       "3       a4c            ven         ed  \n",
       "4       a4c            ven         ed  "
      ]
     },
     "execution_count": 14,
     "metadata": {},
     "output_type": "execute_result"
    }
   ],
   "source": [
    "frames_by_volume_mask_df = io_views.get_table('frames_by_volume_mask')\n",
    "print(frames_by_volume_mask_df.shape)\n",
    "frames_by_volume_mask_df.head()"
   ]
  },
  {
   "cell_type": "code",
   "execution_count": 15,
   "metadata": {},
   "outputs": [
    {
     "name": "stdout",
     "output_type": "stream",
     "text": [
      "(13478, 5)\n"
     ]
    },
    {
     "data": {
      "text/html": [
       "<div>\n",
       "<style scoped>\n",
       "    .dataframe tbody tr th:only-of-type {\n",
       "        vertical-align: middle;\n",
       "    }\n",
       "\n",
       "    .dataframe tbody tr th {\n",
       "        vertical-align: top;\n",
       "    }\n",
       "\n",
       "    .dataframe thead th {\n",
       "        text-align: right;\n",
       "    }\n",
       "</style>\n",
       "<table border=\"1\" class=\"dataframe\">\n",
       "  <thead>\n",
       "    <tr style=\"text-align: right;\">\n",
       "      <th></th>\n",
       "      <th>sopinstanceuid</th>\n",
       "      <th>filename</th>\n",
       "      <th>instanceidk</th>\n",
       "      <th>view</th>\n",
       "      <th>studyidk</th>\n",
       "    </tr>\n",
       "  </thead>\n",
       "  <tbody>\n",
       "    <tr>\n",
       "      <th>1</th>\n",
       "      <td>1.2.840.113663.1500.1.365900332.3.7.20120703.9...</td>\n",
       "      <td>8Z0BWZGH</td>\n",
       "      <td>696112</td>\n",
       "      <td>a4c</td>\n",
       "      <td>39531</td>\n",
       "    </tr>\n",
       "    <tr>\n",
       "      <th>5</th>\n",
       "      <td>1.2.840.113663.1500.1.365900332.3.12.20120704....</td>\n",
       "      <td>8ZGVB5TY</td>\n",
       "      <td>696426</td>\n",
       "      <td>a4c</td>\n",
       "      <td>39552</td>\n",
       "    </tr>\n",
       "    <tr>\n",
       "      <th>6</th>\n",
       "      <td>1.2.840.113663.1500.1.365900332.3.16.20120704....</td>\n",
       "      <td>8ZGVB7C1</td>\n",
       "      <td>696430</td>\n",
       "      <td>a2c</td>\n",
       "      <td>39552</td>\n",
       "    </tr>\n",
       "    <tr>\n",
       "      <th>7</th>\n",
       "      <td>1.2.840.113663.1500.1.365900332.3.4.20120704.1...</td>\n",
       "      <td>8ZGVCN6C</td>\n",
       "      <td>696438</td>\n",
       "      <td>a4c</td>\n",
       "      <td>39553</td>\n",
       "    </tr>\n",
       "    <tr>\n",
       "      <th>8</th>\n",
       "      <td>1.2.840.113663.1500.1.365900332.3.16.20120704....</td>\n",
       "      <td>8ZGVCPFW</td>\n",
       "      <td>696467</td>\n",
       "      <td>a2c</td>\n",
       "      <td>39553</td>\n",
       "    </tr>\n",
       "  </tbody>\n",
       "</table>\n",
       "</div>"
      ],
      "text/plain": [
       "                                      sopinstanceuid  filename  instanceidk  \\\n",
       "1  1.2.840.113663.1500.1.365900332.3.7.20120703.9...  8Z0BWZGH       696112   \n",
       "5  1.2.840.113663.1500.1.365900332.3.12.20120704....  8ZGVB5TY       696426   \n",
       "6  1.2.840.113663.1500.1.365900332.3.16.20120704....  8ZGVB7C1       696430   \n",
       "7  1.2.840.113663.1500.1.365900332.3.4.20120704.1...  8ZGVCN6C       696438   \n",
       "8  1.2.840.113663.1500.1.365900332.3.16.20120704....  8ZGVCPFW       696467   \n",
       "\n",
       "  view  studyidk  \n",
       "1  a4c     39531  \n",
       "5  a4c     39552  \n",
       "6  a2c     39552  \n",
       "7  a4c     39553  \n",
       "8  a2c     39553  "
      ]
     },
     "execution_count": 15,
     "metadata": {},
     "output_type": "execute_result"
    }
   ],
   "source": [
    "instances_w_labels_df = io_views.get_table('instances_w_labels')\n",
    "instances_w_labels_df = instances_w_labels_df[(instances_w_labels_df['view']=='a2c') | (instances_w_labels_df['view']=='a4c')]\n",
    "print(instances_w_labels_df.shape)\n",
    "instances_w_labels_df.head()"
   ]
  },
  {
   "cell_type": "code",
   "execution_count": 16,
   "metadata": {},
   "outputs": [
    {
     "name": "stdout",
     "output_type": "stream",
     "text": [
      "(32814, 5)\n"
     ]
    }
   ],
   "source": [
    "filter_df = filter_df[filter_df['studyidk'].isin(frames_by_volume_mask_df['studyidk'].unique())]\n",
    "print(filter_df.shape)"
   ]
  },
  {
   "cell_type": "code",
   "execution_count": 17,
   "metadata": {},
   "outputs": [
    {
     "data": {
      "text/plain": [
       "0.020922612348893838"
      ]
     },
     "execution_count": 17,
     "metadata": {},
     "output_type": "execute_result"
    }
   ],
   "source": [
    "len(filter_df)/len(measurement_abstract_rpt_df)"
   ]
  },
  {
   "cell_type": "code",
   "execution_count": 18,
   "metadata": {},
   "outputs": [
    {
     "name": "stdout",
     "output_type": "stream",
     "text": [
      "(15569, 5)\n"
     ]
    }
   ],
   "source": [
    "filter_df = filter_df[filter_df['studyidk'].isin(instances_w_labels_df['studyidk'].unique())]\n",
    "print(filter_df.shape)"
   ]
  },
  {
   "cell_type": "code",
   "execution_count": 19,
   "metadata": {},
   "outputs": [
    {
     "data": {
      "text/plain": [
       "0.009926987007372712"
      ]
     },
     "execution_count": 19,
     "metadata": {},
     "output_type": "execute_result"
    }
   ],
   "source": [
    "len(filter_df)/len(measurement_abstract_rpt_df)"
   ]
  },
  {
   "cell_type": "code",
   "execution_count": 20,
   "metadata": {},
   "outputs": [
    {
     "data": {
      "text/plain": [
       "7806"
      ]
     },
     "execution_count": 20,
     "metadata": {},
     "output_type": "execute_result"
    }
   ],
   "source": [
    "len(filter_df['studyidk'].unique())"
   ]
  },
  {
   "cell_type": "code",
   "execution_count": 21,
   "metadata": {},
   "outputs": [],
   "source": [
    "filter_df['recommendation'] = filter_df.apply(get_recommendation, axis=1)"
   ]
  },
  {
   "cell_type": "code",
   "execution_count": 22,
   "metadata": {},
   "outputs": [
    {
     "data": {
      "image/png": "[encoded data removed]",
      "text/plain": [
       "<Figure size 432x288 with 1 Axes>"
      ]
     },
     "metadata": {},
     "output_type": "display_data"
    }
   ],
   "source": [
    "plt.title(f'Count of Reported Ejection Fraction Values')\n",
    "plt.xlabel('Value')\n",
    "plt.ylabel('Counts')\n",
    "plt.hist(filter_df['value'], bins=20);"
   ]
  },
  {
   "cell_type": "code",
   "execution_count": 23,
   "metadata": {},
   "outputs": [
    {
     "data": {
      "text/plain": [
       "normal      9047\n",
       "greyzone    5422\n",
       "abnormal    1100\n",
       "Name: recommendation, dtype: int64"
      ]
     },
     "execution_count": 23,
     "metadata": {},
     "output_type": "execute_result"
    }
   ],
   "source": [
    "filter_df['recommendation'].value_counts()"
   ]
  },
  {
   "cell_type": "code",
   "execution_count": 24,
   "metadata": {},
   "outputs": [
    {
     "data": {
      "text/html": [
       "<div>\n",
       "<style scoped>\n",
       "    .dataframe tbody tr th:only-of-type {\n",
       "        vertical-align: middle;\n",
       "    }\n",
       "\n",
       "    .dataframe tbody tr th {\n",
       "        vertical-align: top;\n",
       "    }\n",
       "\n",
       "    .dataframe thead th {\n",
       "        text-align: right;\n",
       "    }\n",
       "</style>\n",
       "<table border=\"1\" class=\"dataframe\">\n",
       "  <thead>\n",
       "    <tr style=\"text-align: right;\">\n",
       "      <th></th>\n",
       "      <th>studyidk</th>\n",
       "      <th>measabstractnumber</th>\n",
       "      <th>name</th>\n",
       "      <th>value</th>\n",
       "      <th>unitname</th>\n",
       "      <th>recommendation</th>\n",
       "    </tr>\n",
       "  </thead>\n",
       "  <tbody>\n",
       "    <tr>\n",
       "      <th>42924</th>\n",
       "      <td>39531</td>\n",
       "      <td>89</td>\n",
       "      <td>FE(el-ps4)</td>\n",
       "      <td>28.892011</td>\n",
       "      <td>%</td>\n",
       "      <td>abnormal</td>\n",
       "    </tr>\n",
       "    <tr>\n",
       "      <th>42925</th>\n",
       "      <td>39531</td>\n",
       "      <td>92</td>\n",
       "      <td>FE(MDD-ps4)</td>\n",
       "      <td>30.358275</td>\n",
       "      <td>%</td>\n",
       "      <td>abnormal</td>\n",
       "    </tr>\n",
       "    <tr>\n",
       "      <th>43176</th>\n",
       "      <td>39552</td>\n",
       "      <td>118</td>\n",
       "      <td>FE(el-ps4)</td>\n",
       "      <td>57.550646</td>\n",
       "      <td>%</td>\n",
       "      <td>greyzone</td>\n",
       "    </tr>\n",
       "    <tr>\n",
       "      <th>43179</th>\n",
       "      <td>39552</td>\n",
       "      <td>121</td>\n",
       "      <td>FE(MDD-ps4)</td>\n",
       "      <td>55.920676</td>\n",
       "      <td>%</td>\n",
       "      <td>greyzone</td>\n",
       "    </tr>\n",
       "    <tr>\n",
       "      <th>43215</th>\n",
       "      <td>39553</td>\n",
       "      <td>105</td>\n",
       "      <td>FE(el-ps4)</td>\n",
       "      <td>50.912022</td>\n",
       "      <td>%</td>\n",
       "      <td>greyzone</td>\n",
       "    </tr>\n",
       "  </tbody>\n",
       "</table>\n",
       "</div>"
      ],
      "text/plain": [
       "       studyidk  measabstractnumber         name      value unitname  \\\n",
       "42924     39531                  89   FE(el-ps4)  28.892011        %   \n",
       "42925     39531                  92  FE(MDD-ps4)  30.358275        %   \n",
       "43176     39552                 118   FE(el-ps4)  57.550646        %   \n",
       "43179     39552                 121  FE(MDD-ps4)  55.920676        %   \n",
       "43215     39553                 105   FE(el-ps4)  50.912022        %   \n",
       "\n",
       "      recommendation  \n",
       "42924       abnormal  \n",
       "42925       abnormal  \n",
       "43176       greyzone  \n",
       "43179       greyzone  \n",
       "43215       greyzone  "
      ]
     },
     "execution_count": 24,
     "metadata": {},
     "output_type": "execute_result"
    }
   ],
   "source": [
    "filter_df.head()"
   ]
  },
  {
   "cell_type": "code",
   "execution_count": null,
   "metadata": {},
   "outputs": [],
   "source": []
  },
  {
   "cell_type": "code",
   "execution_count": 25,
   "metadata": {},
   "outputs": [
    {
     "data": {
      "text/html": [
       "<div>\n",
       "<style scoped>\n",
       "    .dataframe tbody tr th:only-of-type {\n",
       "        vertical-align: middle;\n",
       "    }\n",
       "\n",
       "    .dataframe tbody tr th {\n",
       "        vertical-align: top;\n",
       "    }\n",
       "\n",
       "    .dataframe thead th {\n",
       "        text-align: right;\n",
       "    }\n",
       "</style>\n",
       "<table border=\"1\" class=\"dataframe\">\n",
       "  <thead>\n",
       "    <tr style=\"text-align: right;\">\n",
       "      <th></th>\n",
       "      <th>studyidk</th>\n",
       "      <th>measabstractnumber</th>\n",
       "      <th>name</th>\n",
       "    </tr>\n",
       "  </thead>\n",
       "  <tbody>\n",
       "    <tr>\n",
       "      <th>0</th>\n",
       "      <td>2882</td>\n",
       "      <td>2</td>\n",
       "      <td>(P1/2t)AVM</td>\n",
       "    </tr>\n",
       "    <tr>\n",
       "      <th>1</th>\n",
       "      <td>2882</td>\n",
       "      <td>12</td>\n",
       "      <td>Area TSVI</td>\n",
       "    </tr>\n",
       "    <tr>\n",
       "      <th>2</th>\n",
       "      <td>2882</td>\n",
       "      <td>43</td>\n",
       "      <td>FE(el-ps4)</td>\n",
       "    </tr>\n",
       "    <tr>\n",
       "      <th>3</th>\n",
       "      <td>2882</td>\n",
       "      <td>46</td>\n",
       "      <td>FE(MDD-ps4)</td>\n",
       "    </tr>\n",
       "    <tr>\n",
       "      <th>4</th>\n",
       "      <td>2882</td>\n",
       "      <td>125</td>\n",
       "      <td>P1/2t VM</td>\n",
       "    </tr>\n",
       "  </tbody>\n",
       "</table>\n",
       "</div>"
      ],
      "text/plain": [
       "   studyidk  measabstractnumber         name\n",
       "0      2882                   2   (P1/2t)AVM\n",
       "1      2882                  12    Area TSVI\n",
       "2      2882                  43   FE(el-ps4)\n",
       "3      2882                  46  FE(MDD-ps4)\n",
       "4      2882                 125     P1/2t VM"
      ]
     },
     "execution_count": 25,
     "metadata": {},
     "output_type": "execute_result"
    }
   ],
   "source": [
    "measurement_abstract_rpt_df = measurement_abstract_rpt_df[['studyidk', 'measabstractnumber', 'name']]\n",
    "measurement_abstract_rpt_df.head()"
   ]
  },
  {
   "cell_type": "code",
   "execution_count": 26,
   "metadata": {},
   "outputs": [
    {
     "name": "stderr",
     "output_type": "stream",
     "text": [
      "/home/ubuntu/anaconda3/envs/yoni/lib/python3.6/site-packages/IPython/core/interactiveshell.py:3249: DtypeWarning: Columns (8,9) have mixed types. Specify dtype option on import or set low_memory=False.\n",
      "  if (await self.run_code(code, result,  async_=asy)):\n"
     ]
    },
    {
     "name": "stdout",
     "output_type": "stream",
     "text": [
      "(858255, 10)\n"
     ]
    },
    {
     "data": {
      "text/html": [
       "<div>\n",
       "<style scoped>\n",
       "    .dataframe tbody tr th:only-of-type {\n",
       "        vertical-align: middle;\n",
       "    }\n",
       "\n",
       "    .dataframe tbody tr th {\n",
       "        vertical-align: top;\n",
       "    }\n",
       "\n",
       "    .dataframe thead th {\n",
       "        text-align: right;\n",
       "    }\n",
       "</style>\n",
       "<table border=\"1\" class=\"dataframe\">\n",
       "  <thead>\n",
       "    <tr style=\"text-align: right;\">\n",
       "      <th></th>\n",
       "      <th>studyidk</th>\n",
       "      <th>measabstractnumber</th>\n",
       "      <th>meassequence</th>\n",
       "      <th>instanceidk</th>\n",
       "      <th>indexinmglist</th>\n",
       "      <th>value</th>\n",
       "      <th>howentered</th>\n",
       "      <th>srinstanceidk</th>\n",
       "      <th>imagesopinstanceuid</th>\n",
       "      <th>measurementuid</th>\n",
       "    </tr>\n",
       "  </thead>\n",
       "  <tbody>\n",
       "    <tr>\n",
       "      <th>0</th>\n",
       "      <td>2882</td>\n",
       "      <td>187</td>\n",
       "      <td>0</td>\n",
       "      <td>57164</td>\n",
       "      <td>0</td>\n",
       "      <td>28.242271</td>\n",
       "      <td>0</td>\n",
       "      <td></td>\n",
       "      <td></td>\n",
       "      <td></td>\n",
       "    </tr>\n",
       "    <tr>\n",
       "      <th>1</th>\n",
       "      <td>2882</td>\n",
       "      <td>188</td>\n",
       "      <td>0</td>\n",
       "      <td>57164</td>\n",
       "      <td>0</td>\n",
       "      <td>7.897812</td>\n",
       "      <td>0</td>\n",
       "      <td></td>\n",
       "      <td></td>\n",
       "      <td></td>\n",
       "    </tr>\n",
       "    <tr>\n",
       "      <th>2</th>\n",
       "      <td>2882</td>\n",
       "      <td>189</td>\n",
       "      <td>0</td>\n",
       "      <td>57164</td>\n",
       "      <td>0</td>\n",
       "      <td>85.725750</td>\n",
       "      <td>0</td>\n",
       "      <td></td>\n",
       "      <td></td>\n",
       "      <td></td>\n",
       "    </tr>\n",
       "    <tr>\n",
       "      <th>3</th>\n",
       "      <td>2882</td>\n",
       "      <td>190</td>\n",
       "      <td>0</td>\n",
       "      <td>57164</td>\n",
       "      <td>0</td>\n",
       "      <td>87.190031</td>\n",
       "      <td>0</td>\n",
       "      <td></td>\n",
       "      <td></td>\n",
       "      <td></td>\n",
       "    </tr>\n",
       "    <tr>\n",
       "      <th>4</th>\n",
       "      <td>2882</td>\n",
       "      <td>191</td>\n",
       "      <td>0</td>\n",
       "      <td>57164</td>\n",
       "      <td>1</td>\n",
       "      <td>36.654466</td>\n",
       "      <td>0</td>\n",
       "      <td></td>\n",
       "      <td></td>\n",
       "      <td></td>\n",
       "    </tr>\n",
       "  </tbody>\n",
       "</table>\n",
       "</div>"
      ],
      "text/plain": [
       "   studyidk  measabstractnumber  meassequence  instanceidk  indexinmglist  \\\n",
       "0      2882                 187             0        57164              0   \n",
       "1      2882                 188             0        57164              0   \n",
       "2      2882                 189             0        57164              0   \n",
       "3      2882                 190             0        57164              0   \n",
       "4      2882                 191             0        57164              1   \n",
       "\n",
       "       value  howentered srinstanceidk imagesopinstanceuid measurementuid  \n",
       "0  28.242271           0                                                   \n",
       "1   7.897812           0                                                   \n",
       "2  85.725750           0                                                   \n",
       "3  87.190031           0                                                   \n",
       "4  36.654466           0                                                   "
      ]
     },
     "execution_count": 26,
     "metadata": {},
     "output_type": "execute_result"
    }
   ],
   "source": [
    "a_measgraphref_df = io_clean.get_table(\"a_measgraphref\")\n",
    "print(a_measgraphref_df.shape)\n",
    "a_measgraphref_df.head()"
   ]
  },
  {
   "cell_type": "code",
   "execution_count": 27,
   "metadata": {},
   "outputs": [
    {
     "name": "stdout",
     "output_type": "stream",
     "text": [
      "(858255, 11)\n"
     ]
    },
    {
     "data": {
      "text/html": [
       "<div>\n",
       "<style scoped>\n",
       "    .dataframe tbody tr th:only-of-type {\n",
       "        vertical-align: middle;\n",
       "    }\n",
       "\n",
       "    .dataframe tbody tr th {\n",
       "        vertical-align: top;\n",
       "    }\n",
       "\n",
       "    .dataframe thead th {\n",
       "        text-align: right;\n",
       "    }\n",
       "</style>\n",
       "<table border=\"1\" class=\"dataframe\">\n",
       "  <thead>\n",
       "    <tr style=\"text-align: right;\">\n",
       "      <th></th>\n",
       "      <th>studyidk</th>\n",
       "      <th>measabstractnumber</th>\n",
       "      <th>name</th>\n",
       "      <th>meassequence</th>\n",
       "      <th>instanceidk</th>\n",
       "      <th>indexinmglist</th>\n",
       "      <th>value</th>\n",
       "      <th>howentered</th>\n",
       "      <th>srinstanceidk</th>\n",
       "      <th>imagesopinstanceuid</th>\n",
       "      <th>measurementuid</th>\n",
       "    </tr>\n",
       "  </thead>\n",
       "  <tbody>\n",
       "    <tr>\n",
       "      <th>0</th>\n",
       "      <td>2882</td>\n",
       "      <td>187</td>\n",
       "      <td>AVIts ap4</td>\n",
       "      <td>0</td>\n",
       "      <td>57164</td>\n",
       "      <td>0</td>\n",
       "      <td>28.242271</td>\n",
       "      <td>0</td>\n",
       "      <td></td>\n",
       "      <td></td>\n",
       "      <td></td>\n",
       "    </tr>\n",
       "    <tr>\n",
       "      <th>1</th>\n",
       "      <td>2882</td>\n",
       "      <td>188</td>\n",
       "      <td>DVIts ap4</td>\n",
       "      <td>0</td>\n",
       "      <td>57164</td>\n",
       "      <td>0</td>\n",
       "      <td>7.897812</td>\n",
       "      <td>0</td>\n",
       "      <td></td>\n",
       "      <td></td>\n",
       "      <td></td>\n",
       "    </tr>\n",
       "    <tr>\n",
       "      <th>2</th>\n",
       "      <td>2882</td>\n",
       "      <td>189</td>\n",
       "      <td>VTS(el-ps4)</td>\n",
       "      <td>0</td>\n",
       "      <td>57164</td>\n",
       "      <td>0</td>\n",
       "      <td>85.725750</td>\n",
       "      <td>0</td>\n",
       "      <td></td>\n",
       "      <td></td>\n",
       "      <td></td>\n",
       "    </tr>\n",
       "    <tr>\n",
       "      <th>3</th>\n",
       "      <td>2882</td>\n",
       "      <td>190</td>\n",
       "      <td>VTS(MDD-ps4)</td>\n",
       "      <td>0</td>\n",
       "      <td>57164</td>\n",
       "      <td>0</td>\n",
       "      <td>87.190031</td>\n",
       "      <td>0</td>\n",
       "      <td></td>\n",
       "      <td></td>\n",
       "      <td></td>\n",
       "    </tr>\n",
       "    <tr>\n",
       "      <th>4</th>\n",
       "      <td>2882</td>\n",
       "      <td>191</td>\n",
       "      <td>AVItd ap4</td>\n",
       "      <td>0</td>\n",
       "      <td>57164</td>\n",
       "      <td>1</td>\n",
       "      <td>36.654466</td>\n",
       "      <td>0</td>\n",
       "      <td></td>\n",
       "      <td></td>\n",
       "      <td></td>\n",
       "    </tr>\n",
       "  </tbody>\n",
       "</table>\n",
       "</div>"
      ],
      "text/plain": [
       "   studyidk  measabstractnumber          name  meassequence  instanceidk  \\\n",
       "0      2882                 187     AVIts ap4             0        57164   \n",
       "1      2882                 188     DVIts ap4             0        57164   \n",
       "2      2882                 189   VTS(el-ps4)             0        57164   \n",
       "3      2882                 190  VTS(MDD-ps4)             0        57164   \n",
       "4      2882                 191     AVItd ap4             0        57164   \n",
       "\n",
       "   indexinmglist      value  howentered srinstanceidk imagesopinstanceuid  \\\n",
       "0              0  28.242271           0                                     \n",
       "1              0   7.897812           0                                     \n",
       "2              0  85.725750           0                                     \n",
       "3              0  87.190031           0                                     \n",
       "4              1  36.654466           0                                     \n",
       "\n",
       "  measurementuid  \n",
       "0                 \n",
       "1                 \n",
       "2                 \n",
       "3                 \n",
       "4                 "
      ]
     },
     "execution_count": 27,
     "metadata": {},
     "output_type": "execute_result"
    }
   ],
   "source": [
    "merge_df = measurement_abstract_rpt_df.merge(a_measgraphref_df, on=['studyidk', 'measabstractnumber'])\n",
    "print(merge_df.shape)\n",
    "merge_df.head()"
   ]
  },
  {
   "cell_type": "code",
   "execution_count": 28,
   "metadata": {},
   "outputs": [
    {
     "data": {
      "text/html": [
       "<div>\n",
       "<style scoped>\n",
       "    .dataframe tbody tr th:only-of-type {\n",
       "        vertical-align: middle;\n",
       "    }\n",
       "\n",
       "    .dataframe tbody tr th {\n",
       "        vertical-align: top;\n",
       "    }\n",
       "\n",
       "    .dataframe thead th {\n",
       "        text-align: right;\n",
       "    }\n",
       "</style>\n",
       "<table border=\"1\" class=\"dataframe\">\n",
       "  <thead>\n",
       "    <tr style=\"text-align: right;\">\n",
       "      <th></th>\n",
       "      <th>studyidk</th>\n",
       "      <th>instanceidk</th>\n",
       "      <th>indexinmglist</th>\n",
       "      <th>meassequence</th>\n",
       "      <th>name</th>\n",
       "      <th>value</th>\n",
       "      <th>howentered</th>\n",
       "    </tr>\n",
       "  </thead>\n",
       "  <tbody>\n",
       "    <tr>\n",
       "      <th>0</th>\n",
       "      <td>2882</td>\n",
       "      <td>57164</td>\n",
       "      <td>0</td>\n",
       "      <td>0</td>\n",
       "      <td>AVIts ap4</td>\n",
       "      <td>28.242271</td>\n",
       "      <td>0</td>\n",
       "    </tr>\n",
       "    <tr>\n",
       "      <th>1</th>\n",
       "      <td>2882</td>\n",
       "      <td>57164</td>\n",
       "      <td>0</td>\n",
       "      <td>0</td>\n",
       "      <td>DVIts ap4</td>\n",
       "      <td>7.897812</td>\n",
       "      <td>0</td>\n",
       "    </tr>\n",
       "    <tr>\n",
       "      <th>2</th>\n",
       "      <td>2882</td>\n",
       "      <td>57164</td>\n",
       "      <td>0</td>\n",
       "      <td>0</td>\n",
       "      <td>VTS(el-ps4)</td>\n",
       "      <td>85.725750</td>\n",
       "      <td>0</td>\n",
       "    </tr>\n",
       "    <tr>\n",
       "      <th>3</th>\n",
       "      <td>2882</td>\n",
       "      <td>57164</td>\n",
       "      <td>0</td>\n",
       "      <td>0</td>\n",
       "      <td>VTS(MDD-ps4)</td>\n",
       "      <td>87.190031</td>\n",
       "      <td>0</td>\n",
       "    </tr>\n",
       "    <tr>\n",
       "      <th>4</th>\n",
       "      <td>2882</td>\n",
       "      <td>57164</td>\n",
       "      <td>1</td>\n",
       "      <td>0</td>\n",
       "      <td>AVItd ap4</td>\n",
       "      <td>36.654466</td>\n",
       "      <td>0</td>\n",
       "    </tr>\n",
       "  </tbody>\n",
       "</table>\n",
       "</div>"
      ],
      "text/plain": [
       "   studyidk  instanceidk  indexinmglist  meassequence          name  \\\n",
       "0      2882        57164              0             0     AVIts ap4   \n",
       "1      2882        57164              0             0     DVIts ap4   \n",
       "2      2882        57164              0             0   VTS(el-ps4)   \n",
       "3      2882        57164              0             0  VTS(MDD-ps4)   \n",
       "4      2882        57164              1             0     AVItd ap4   \n",
       "\n",
       "       value  howentered  \n",
       "0  28.242271           0  \n",
       "1   7.897812           0  \n",
       "2  85.725750           0  \n",
       "3  87.190031           0  \n",
       "4  36.654466           0  "
      ]
     },
     "execution_count": 28,
     "metadata": {},
     "output_type": "execute_result"
    }
   ],
   "source": [
    "merge_df = merge_df[['studyidk', 'instanceidk', 'indexinmglist', 'meassequence', 'name', 'value', 'howentered']]\n",
    "merge_df.head()"
   ]
  },
  {
   "cell_type": "code",
   "execution_count": 29,
   "metadata": {},
   "outputs": [],
   "source": [
    "filter_df = merge_df"
   ]
  },
  {
   "cell_type": "code",
   "execution_count": 30,
   "metadata": {},
   "outputs": [
    {
     "name": "stdout",
     "output_type": "stream",
     "text": [
      "(728539, 7)\n"
     ]
    }
   ],
   "source": [
    "filter_df = filter_df[filter_df['studyidk'].isin(frames_by_volume_mask_df['studyidk'].unique())]\n",
    "print(filter_df.shape)"
   ]
  },
  {
   "cell_type": "code",
   "execution_count": 31,
   "metadata": {},
   "outputs": [
    {
     "data": {
      "text/plain": [
       "0.4645254793091598"
      ]
     },
     "execution_count": 31,
     "metadata": {},
     "output_type": "execute_result"
    }
   ],
   "source": [
    "len(filter_df)/len(measurement_abstract_rpt_df)"
   ]
  },
  {
   "cell_type": "code",
   "execution_count": 32,
   "metadata": {},
   "outputs": [
    {
     "name": "stdout",
     "output_type": "stream",
     "text": [
      "(335842, 7)\n"
     ]
    }
   ],
   "source": [
    "filter_df = filter_df[filter_df['studyidk'].isin(instances_w_labels_df['studyidk'].unique())]\n",
    "print(filter_df.shape)"
   ]
  },
  {
   "cell_type": "code",
   "execution_count": 33,
   "metadata": {},
   "outputs": [
    {
     "data": {
      "text/plain": [
       "0.21413701397199988"
      ]
     },
     "execution_count": 33,
     "metadata": {},
     "output_type": "execute_result"
    }
   ],
   "source": [
    "len(filter_df)/len(measurement_abstract_rpt_df)"
   ]
  },
  {
   "cell_type": "code",
   "execution_count": 34,
   "metadata": {},
   "outputs": [
    {
     "name": "stdout",
     "output_type": "stream",
     "text": [
      "(32424, 7)\n"
     ]
    },
    {
     "data": {
      "text/html": [
       "<div>\n",
       "<style scoped>\n",
       "    .dataframe tbody tr th:only-of-type {\n",
       "        vertical-align: middle;\n",
       "    }\n",
       "\n",
       "    .dataframe tbody tr th {\n",
       "        vertical-align: top;\n",
       "    }\n",
       "\n",
       "    .dataframe thead th {\n",
       "        text-align: right;\n",
       "    }\n",
       "</style>\n",
       "<table border=\"1\" class=\"dataframe\">\n",
       "  <thead>\n",
       "    <tr style=\"text-align: right;\">\n",
       "      <th></th>\n",
       "      <th>studyidk</th>\n",
       "      <th>instanceidk</th>\n",
       "      <th>indexinmglist</th>\n",
       "      <th>meassequence</th>\n",
       "      <th>name</th>\n",
       "      <th>value</th>\n",
       "      <th>howentered</th>\n",
       "    </tr>\n",
       "  </thead>\n",
       "  <tbody>\n",
       "    <tr>\n",
       "      <th>24843</th>\n",
       "      <td>39531</td>\n",
       "      <td>696112</td>\n",
       "      <td>0</td>\n",
       "      <td>0</td>\n",
       "      <td>VTS(el-ps4)</td>\n",
       "      <td>96.760478</td>\n",
       "      <td>0</td>\n",
       "    </tr>\n",
       "    <tr>\n",
       "      <th>24844</th>\n",
       "      <td>39531</td>\n",
       "      <td>696112</td>\n",
       "      <td>0</td>\n",
       "      <td>0</td>\n",
       "      <td>VTS(MDD-ps4)</td>\n",
       "      <td>96.121705</td>\n",
       "      <td>0</td>\n",
       "    </tr>\n",
       "    <tr>\n",
       "      <th>24847</th>\n",
       "      <td>39531</td>\n",
       "      <td>696112</td>\n",
       "      <td>1</td>\n",
       "      <td>0</td>\n",
       "      <td>VTD(el-ps4)</td>\n",
       "      <td>136.075395</td>\n",
       "      <td>0</td>\n",
       "    </tr>\n",
       "    <tr>\n",
       "      <th>24848</th>\n",
       "      <td>39531</td>\n",
       "      <td>696112</td>\n",
       "      <td>1</td>\n",
       "      <td>0</td>\n",
       "      <td>VTD(MDD-ps4)</td>\n",
       "      <td>138.023154</td>\n",
       "      <td>0</td>\n",
       "    </tr>\n",
       "    <tr>\n",
       "      <th>24989</th>\n",
       "      <td>39552</td>\n",
       "      <td>696426</td>\n",
       "      <td>0</td>\n",
       "      <td>0</td>\n",
       "      <td>VTD(el-ps4)</td>\n",
       "      <td>150.538057</td>\n",
       "      <td>0</td>\n",
       "    </tr>\n",
       "  </tbody>\n",
       "</table>\n",
       "</div>"
      ],
      "text/plain": [
       "       studyidk  instanceidk  indexinmglist  meassequence          name  \\\n",
       "24843     39531       696112              0             0   VTS(el-ps4)   \n",
       "24844     39531       696112              0             0  VTS(MDD-ps4)   \n",
       "24847     39531       696112              1             0   VTD(el-ps4)   \n",
       "24848     39531       696112              1             0  VTD(MDD-ps4)   \n",
       "24989     39552       696426              0             0   VTD(el-ps4)   \n",
       "\n",
       "            value  howentered  \n",
       "24843   96.760478           0  \n",
       "24844   96.121705           0  \n",
       "24847  136.075395           0  \n",
       "24848  138.023154           0  \n",
       "24989  150.538057           0  "
      ]
     },
     "execution_count": 34,
     "metadata": {},
     "output_type": "execute_result"
    }
   ],
   "source": [
    "filter_df = filter_df[filter_df['name'].str.contains('ps4')]\n",
    "print(filter_df.shape)\n",
    "filter_df.head()"
   ]
  },
  {
   "cell_type": "code",
   "execution_count": 35,
   "metadata": {},
   "outputs": [
    {
     "data": {
      "text/plain": [
       "0.03777898177115193"
      ]
     },
     "execution_count": 35,
     "metadata": {},
     "output_type": "execute_result"
    }
   ],
   "source": [
    "len(filter_df)/len(merge_df)"
   ]
  },
  {
   "cell_type": "code",
   "execution_count": 36,
   "metadata": {},
   "outputs": [
    {
     "name": "stdout",
     "output_type": "stream",
     "text": [
      "(32403, 7)\n"
     ]
    }
   ],
   "source": [
    "filter_df = filter_df[filter_df['name'].isin(['VTD(MDD-ps4)', 'VTS(MDD-ps4)', 'VTD(el-ps4)', 'VTS(el-ps4)'])]\n",
    "print(filter_df.shape)"
   ]
  },
  {
   "cell_type": "code",
   "execution_count": 37,
   "metadata": {},
   "outputs": [
    {
     "data": {
      "text/plain": [
       "0.037754513518709475"
      ]
     },
     "execution_count": 37,
     "metadata": {},
     "output_type": "execute_result"
    }
   ],
   "source": [
    "len(filter_df)/len(merge_df)"
   ]
  },
  {
   "cell_type": "code",
   "execution_count": 38,
   "metadata": {},
   "outputs": [
    {
     "data": {
      "text/plain": [
       "7969"
      ]
     },
     "execution_count": 38,
     "metadata": {},
     "output_type": "execute_result"
    }
   ],
   "source": [
    "len(filter_df['studyidk'].unique())"
   ]
  },
  {
   "cell_type": "code",
   "execution_count": 39,
   "metadata": {},
   "outputs": [
    {
     "data": {
      "text/plain": [
       "8178"
      ]
     },
     "execution_count": 39,
     "metadata": {},
     "output_type": "execute_result"
    }
   ],
   "source": [
    "len(filter_df['instanceidk'].unique())"
   ]
  },
  {
   "cell_type": "code",
   "execution_count": 40,
   "metadata": {},
   "outputs": [
    {
     "data": {
      "text/plain": [
       "8235"
      ]
     },
     "execution_count": 40,
     "metadata": {},
     "output_type": "execute_result"
    }
   ],
   "source": [
    "len((filter_df['studyidk'].astype(str) + '_' + filter_df['instanceidk'].astype(str)).unique())"
   ]
  },
  {
   "cell_type": "code",
   "execution_count": 41,
   "metadata": {},
   "outputs": [
    {
     "data": {
      "text/plain": [
       "VTD(MDD-ps4)    8237\n",
       "VTD(el-ps4)     8180\n",
       "VTS(MDD-ps4)    8022\n",
       "VTS(el-ps4)     7964\n",
       "Name: name, dtype: int64"
      ]
     },
     "execution_count": 41,
     "metadata": {},
     "output_type": "execute_result"
    }
   ],
   "source": [
    "filter_df['name'].value_counts()"
   ]
  },
  {
   "cell_type": "code",
   "execution_count": 42,
   "metadata": {},
   "outputs": [
    {
     "data": {
      "text/plain": [
       "0    32288\n",
       "4      115\n",
       "Name: howentered, dtype: int64"
      ]
     },
     "execution_count": 42,
     "metadata": {},
     "output_type": "execute_result"
    }
   ],
   "source": [
    "filter_df['howentered'].value_counts()"
   ]
  },
  {
   "cell_type": "code",
   "execution_count": 43,
   "metadata": {},
   "outputs": [
    {
     "data": {
      "text/html": [
       "<div>\n",
       "<style scoped>\n",
       "    .dataframe tbody tr th:only-of-type {\n",
       "        vertical-align: middle;\n",
       "    }\n",
       "\n",
       "    .dataframe tbody tr th {\n",
       "        vertical-align: top;\n",
       "    }\n",
       "\n",
       "    .dataframe thead th {\n",
       "        text-align: right;\n",
       "    }\n",
       "</style>\n",
       "<table border=\"1\" class=\"dataframe\">\n",
       "  <thead>\n",
       "    <tr style=\"text-align: right;\">\n",
       "      <th></th>\n",
       "      <th></th>\n",
       "      <th></th>\n",
       "      <th>name</th>\n",
       "    </tr>\n",
       "    <tr>\n",
       "      <th>studyidk</th>\n",
       "      <th>instanceidk</th>\n",
       "      <th>indexinmglist</th>\n",
       "      <th></th>\n",
       "    </tr>\n",
       "  </thead>\n",
       "  <tbody>\n",
       "    <tr>\n",
       "      <th rowspan=\"2\" valign=\"top\">39531</th>\n",
       "      <th rowspan=\"2\" valign=\"top\">696112</th>\n",
       "      <th>0</th>\n",
       "      <td>[VTS(el-ps4), VTS(MDD-ps4)]</td>\n",
       "    </tr>\n",
       "    <tr>\n",
       "      <th>1</th>\n",
       "      <td>[VTD(el-ps4), VTD(MDD-ps4)]</td>\n",
       "    </tr>\n",
       "    <tr>\n",
       "      <th rowspan=\"2\" valign=\"top\">39552</th>\n",
       "      <th rowspan=\"2\" valign=\"top\">696426</th>\n",
       "      <th>0</th>\n",
       "      <td>[VTD(el-ps4), VTD(MDD-ps4)]</td>\n",
       "    </tr>\n",
       "    <tr>\n",
       "      <th>1</th>\n",
       "      <td>[VTS(el-ps4), VTS(MDD-ps4)]</td>\n",
       "    </tr>\n",
       "    <tr>\n",
       "      <th rowspan=\"4\" valign=\"top\">39553</th>\n",
       "      <th rowspan=\"2\" valign=\"top\">696438</th>\n",
       "      <th>0</th>\n",
       "      <td>[VTD(el-ps4), VTD(MDD-ps4)]</td>\n",
       "    </tr>\n",
       "    <tr>\n",
       "      <th>1</th>\n",
       "      <td>[VTS(el-ps4), VTS(MDD-ps4)]</td>\n",
       "    </tr>\n",
       "    <tr>\n",
       "      <th rowspan=\"2\" valign=\"top\">696487</th>\n",
       "      <th>0</th>\n",
       "      <td>[VTD(el-ps4), VTD(MDD-ps4)]</td>\n",
       "    </tr>\n",
       "    <tr>\n",
       "      <th>1</th>\n",
       "      <td>[VTS(el-ps4), VTS(MDD-ps4)]</td>\n",
       "    </tr>\n",
       "    <tr>\n",
       "      <th rowspan=\"2\" valign=\"top\">39555</th>\n",
       "      <th rowspan=\"2\" valign=\"top\">696500</th>\n",
       "      <th>0</th>\n",
       "      <td>[VTD(el-ps4), VTD(MDD-ps4)]</td>\n",
       "    </tr>\n",
       "    <tr>\n",
       "      <th>1</th>\n",
       "      <td>[VTS(el-ps4), VTS(MDD-ps4)]</td>\n",
       "    </tr>\n",
       "    <tr>\n",
       "      <th rowspan=\"2\" valign=\"top\">39557</th>\n",
       "      <th rowspan=\"2\" valign=\"top\">696526</th>\n",
       "      <th>0</th>\n",
       "      <td>[VTD(el-ps4), VTD(MDD-ps4)]</td>\n",
       "    </tr>\n",
       "    <tr>\n",
       "      <th>1</th>\n",
       "      <td>[VTS(el-ps4), VTS(MDD-ps4)]</td>\n",
       "    </tr>\n",
       "    <tr>\n",
       "      <th rowspan=\"2\" valign=\"top\">40051</th>\n",
       "      <th>706175</th>\n",
       "      <th>0</th>\n",
       "      <td>[VTD(el-ps4), VTD(MDD-ps4)]</td>\n",
       "    </tr>\n",
       "    <tr>\n",
       "      <th>706177</th>\n",
       "      <th>0</th>\n",
       "      <td>[VTS(el-ps4), VTS(MDD-ps4)]</td>\n",
       "    </tr>\n",
       "    <tr>\n",
       "      <th rowspan=\"2\" valign=\"top\">40092</th>\n",
       "      <th rowspan=\"2\" valign=\"top\">707022</th>\n",
       "      <th>0</th>\n",
       "      <td>[VTD(el-ps4), VTD(MDD-ps4)]</td>\n",
       "    </tr>\n",
       "    <tr>\n",
       "      <th>1</th>\n",
       "      <td>[VTS(el-ps4), VTS(MDD-ps4)]</td>\n",
       "    </tr>\n",
       "    <tr>\n",
       "      <th rowspan=\"2\" valign=\"top\">40629</th>\n",
       "      <th rowspan=\"2\" valign=\"top\">717560</th>\n",
       "      <th>0</th>\n",
       "      <td>[VTD(el-ps4), VTD(MDD-ps4)]</td>\n",
       "    </tr>\n",
       "    <tr>\n",
       "      <th>1</th>\n",
       "      <td>[VTS(el-ps4), VTS(MDD-ps4)]</td>\n",
       "    </tr>\n",
       "    <tr>\n",
       "      <th rowspan=\"3\" valign=\"top\">41139</th>\n",
       "      <th rowspan=\"2\" valign=\"top\">726682</th>\n",
       "      <th>0</th>\n",
       "      <td>[VTD(el-ps4), VTD(MDD-ps4)]</td>\n",
       "    </tr>\n",
       "    <tr>\n",
       "      <th>1</th>\n",
       "      <td>[VTS(el-ps4), VTS(MDD-ps4)]</td>\n",
       "    </tr>\n",
       "    <tr>\n",
       "      <th>726686</th>\n",
       "      <th>0</th>\n",
       "      <td>[VTD(el-ps4), VTD(MDD-ps4)]</td>\n",
       "    </tr>\n",
       "    <tr>\n",
       "      <th rowspan=\"2\" valign=\"top\">41203</th>\n",
       "      <th rowspan=\"2\" valign=\"top\">728233</th>\n",
       "      <th>0</th>\n",
       "      <td>[VTD(el-ps4), VTD(MDD-ps4)]</td>\n",
       "    </tr>\n",
       "    <tr>\n",
       "      <th>1</th>\n",
       "      <td>[VTS(el-ps4), VTS(MDD-ps4)]</td>\n",
       "    </tr>\n",
       "    <tr>\n",
       "      <th rowspan=\"2\" valign=\"top\">41214</th>\n",
       "      <th rowspan=\"2\" valign=\"top\">728412</th>\n",
       "      <th>0</th>\n",
       "      <td>[VTS(el-ps4), VTS(MDD-ps4)]</td>\n",
       "    </tr>\n",
       "    <tr>\n",
       "      <th>1</th>\n",
       "      <td>[VTD(el-ps4), VTD(MDD-ps4)]</td>\n",
       "    </tr>\n",
       "    <tr>\n",
       "      <th rowspan=\"2\" valign=\"top\">41246</th>\n",
       "      <th rowspan=\"2\" valign=\"top\">729050</th>\n",
       "      <th>0</th>\n",
       "      <td>[VTD(el-ps4), VTD(MDD-ps4)]</td>\n",
       "    </tr>\n",
       "    <tr>\n",
       "      <th>1</th>\n",
       "      <td>[VTS(el-ps4), VTS(MDD-ps4)]</td>\n",
       "    </tr>\n",
       "    <tr>\n",
       "      <th rowspan=\"2\" valign=\"top\">41277</th>\n",
       "      <th rowspan=\"2\" valign=\"top\">729759</th>\n",
       "      <th>0</th>\n",
       "      <td>[VTD(el-ps4), VTD(MDD-ps4)]</td>\n",
       "    </tr>\n",
       "    <tr>\n",
       "      <th>1</th>\n",
       "      <td>[VTS(el-ps4), VTS(MDD-ps4)]</td>\n",
       "    </tr>\n",
       "    <tr>\n",
       "      <th>41283</th>\n",
       "      <th>729889</th>\n",
       "      <th>0</th>\n",
       "      <td>[VTD(el-ps4), VTD(MDD-ps4)]</td>\n",
       "    </tr>\n",
       "    <tr>\n",
       "      <th>...</th>\n",
       "      <th>...</th>\n",
       "      <th>...</th>\n",
       "      <td>...</td>\n",
       "    </tr>\n",
       "    <tr>\n",
       "      <th rowspan=\"2\" valign=\"top\">126741</th>\n",
       "      <th rowspan=\"2\" valign=\"top\">3003051</th>\n",
       "      <th>0</th>\n",
       "      <td>[VTD(el-ps4), VTD(MDD-ps4)]</td>\n",
       "    </tr>\n",
       "    <tr>\n",
       "      <th>1</th>\n",
       "      <td>[VTS(el-ps4), VTS(MDD-ps4)]</td>\n",
       "    </tr>\n",
       "    <tr>\n",
       "      <th rowspan=\"2\" valign=\"top\">126751</th>\n",
       "      <th rowspan=\"2\" valign=\"top\">3003299</th>\n",
       "      <th>0</th>\n",
       "      <td>[VTD(el-ps4), VTD(MDD-ps4)]</td>\n",
       "    </tr>\n",
       "    <tr>\n",
       "      <th>1</th>\n",
       "      <td>[VTS(el-ps4), VTS(MDD-ps4)]</td>\n",
       "    </tr>\n",
       "    <tr>\n",
       "      <th rowspan=\"2\" valign=\"top\">126753</th>\n",
       "      <th rowspan=\"2\" valign=\"top\">3003359</th>\n",
       "      <th>0</th>\n",
       "      <td>[VTD(el-ps4), VTD(MDD-ps4)]</td>\n",
       "    </tr>\n",
       "    <tr>\n",
       "      <th>1</th>\n",
       "      <td>[VTS(el-ps4), VTS(MDD-ps4)]</td>\n",
       "    </tr>\n",
       "    <tr>\n",
       "      <th rowspan=\"2\" valign=\"top\">126756</th>\n",
       "      <th rowspan=\"2\" valign=\"top\">3003403</th>\n",
       "      <th>0</th>\n",
       "      <td>[VTD(el-ps4), VTD(MDD-ps4)]</td>\n",
       "    </tr>\n",
       "    <tr>\n",
       "      <th>1</th>\n",
       "      <td>[VTS(el-ps4), VTS(MDD-ps4)]</td>\n",
       "    </tr>\n",
       "    <tr>\n",
       "      <th rowspan=\"2\" valign=\"top\">126759</th>\n",
       "      <th rowspan=\"2\" valign=\"top\">3003488</th>\n",
       "      <th>0</th>\n",
       "      <td>[VTD(el-ps4), VTD(MDD-ps4)]</td>\n",
       "    </tr>\n",
       "    <tr>\n",
       "      <th>1</th>\n",
       "      <td>[VTS(el-ps4), VTS(MDD-ps4)]</td>\n",
       "    </tr>\n",
       "    <tr>\n",
       "      <th rowspan=\"2\" valign=\"top\">126761</th>\n",
       "      <th rowspan=\"2\" valign=\"top\">3003555</th>\n",
       "      <th>0</th>\n",
       "      <td>[VTD(el-ps4), VTD(MDD-ps4)]</td>\n",
       "    </tr>\n",
       "    <tr>\n",
       "      <th>1</th>\n",
       "      <td>[VTS(el-ps4), VTS(MDD-ps4)]</td>\n",
       "    </tr>\n",
       "    <tr>\n",
       "      <th rowspan=\"2\" valign=\"top\">126763</th>\n",
       "      <th rowspan=\"2\" valign=\"top\">3003590</th>\n",
       "      <th>0</th>\n",
       "      <td>[VTD(el-ps4), VTD(MDD-ps4)]</td>\n",
       "    </tr>\n",
       "    <tr>\n",
       "      <th>1</th>\n",
       "      <td>[VTS(el-ps4), VTS(MDD-ps4)]</td>\n",
       "    </tr>\n",
       "    <tr>\n",
       "      <th rowspan=\"2\" valign=\"top\">126772</th>\n",
       "      <th rowspan=\"2\" valign=\"top\">3003810</th>\n",
       "      <th>0</th>\n",
       "      <td>[VTD(el-ps4), VTD(MDD-ps4)]</td>\n",
       "    </tr>\n",
       "    <tr>\n",
       "      <th>2</th>\n",
       "      <td>[VTS(el-ps4), VTS(MDD-ps4)]</td>\n",
       "    </tr>\n",
       "    <tr>\n",
       "      <th rowspan=\"2\" valign=\"top\">126780</th>\n",
       "      <th rowspan=\"2\" valign=\"top\">3003979</th>\n",
       "      <th>0</th>\n",
       "      <td>[VTD(el-ps4), VTD(MDD-ps4)]</td>\n",
       "    </tr>\n",
       "    <tr>\n",
       "      <th>1</th>\n",
       "      <td>[VTS(el-ps4), VTS(MDD-ps4)]</td>\n",
       "    </tr>\n",
       "    <tr>\n",
       "      <th rowspan=\"2\" valign=\"top\">126781</th>\n",
       "      <th rowspan=\"2\" valign=\"top\">3004026</th>\n",
       "      <th>0</th>\n",
       "      <td>[VTD(el-ps4), VTD(MDD-ps4)]</td>\n",
       "    </tr>\n",
       "    <tr>\n",
       "      <th>1</th>\n",
       "      <td>[VTS(el-ps4), VTS(MDD-ps4)]</td>\n",
       "    </tr>\n",
       "    <tr>\n",
       "      <th rowspan=\"2\" valign=\"top\">126784</th>\n",
       "      <th rowspan=\"2\" valign=\"top\">3004094</th>\n",
       "      <th>0</th>\n",
       "      <td>[VTD(MDD-ps4), VTD(el-ps4)]</td>\n",
       "    </tr>\n",
       "    <tr>\n",
       "      <th>1</th>\n",
       "      <td>[VTS(MDD-ps4), VTS(el-ps4)]</td>\n",
       "    </tr>\n",
       "    <tr>\n",
       "      <th rowspan=\"2\" valign=\"top\">126790</th>\n",
       "      <th rowspan=\"2\" valign=\"top\">3004237</th>\n",
       "      <th>0</th>\n",
       "      <td>[VTD(el-ps4), VTD(MDD-ps4)]</td>\n",
       "    </tr>\n",
       "    <tr>\n",
       "      <th>1</th>\n",
       "      <td>[VTS(el-ps4), VTS(MDD-ps4)]</td>\n",
       "    </tr>\n",
       "    <tr>\n",
       "      <th rowspan=\"2\" valign=\"top\">126794</th>\n",
       "      <th rowspan=\"2\" valign=\"top\">3004420</th>\n",
       "      <th>0</th>\n",
       "      <td>[VTD(el-ps4), VTD(MDD-ps4)]</td>\n",
       "    </tr>\n",
       "    <tr>\n",
       "      <th>1</th>\n",
       "      <td>[VTS(el-ps4), VTS(MDD-ps4)]</td>\n",
       "    </tr>\n",
       "    <tr>\n",
       "      <th rowspan=\"4\" valign=\"top\">126796</th>\n",
       "      <th rowspan=\"2\" valign=\"top\">3004494</th>\n",
       "      <th>0</th>\n",
       "      <td>[VTD(el-ps4), VTD(MDD-ps4)]</td>\n",
       "    </tr>\n",
       "    <tr>\n",
       "      <th>1</th>\n",
       "      <td>[VTS(el-ps4), VTS(MDD-ps4)]</td>\n",
       "    </tr>\n",
       "    <tr>\n",
       "      <th rowspan=\"2\" valign=\"top\">3004496</th>\n",
       "      <th>0</th>\n",
       "      <td>[VTD(el-ps4), VTD(MDD-ps4)]</td>\n",
       "    </tr>\n",
       "    <tr>\n",
       "      <th>1</th>\n",
       "      <td>[VTS(el-ps4), VTS(MDD-ps4)]</td>\n",
       "    </tr>\n",
       "  </tbody>\n",
       "</table>\n",
       "<p>16202 rows × 1 columns</p>\n",
       "</div>"
      ],
      "text/plain": [
       "                                                           name\n",
       "studyidk instanceidk indexinmglist                             \n",
       "39531    696112      0              [VTS(el-ps4), VTS(MDD-ps4)]\n",
       "                     1              [VTD(el-ps4), VTD(MDD-ps4)]\n",
       "39552    696426      0              [VTD(el-ps4), VTD(MDD-ps4)]\n",
       "                     1              [VTS(el-ps4), VTS(MDD-ps4)]\n",
       "39553    696438      0              [VTD(el-ps4), VTD(MDD-ps4)]\n",
       "...                                                         ...\n",
       "126794   3004420     1              [VTS(el-ps4), VTS(MDD-ps4)]\n",
       "126796   3004494     0              [VTD(el-ps4), VTD(MDD-ps4)]\n",
       "                     1              [VTS(el-ps4), VTS(MDD-ps4)]\n",
       "         3004496     0              [VTD(el-ps4), VTD(MDD-ps4)]\n",
       "                     1              [VTS(el-ps4), VTS(MDD-ps4)]\n",
       "\n",
       "[16202 rows x 1 columns]"
      ]
     },
     "execution_count": 43,
     "metadata": {},
     "output_type": "execute_result"
    }
   ],
   "source": [
    "filter_df.groupby(['studyidk', 'instanceidk', 'indexinmglist']).agg({'name': list})"
   ]
  },
  {
   "cell_type": "code",
   "execution_count": null,
   "metadata": {},
   "outputs": [],
   "source": []
  }
 ],
 "metadata": {
  "kernelspec": {
   "display_name": "Environment (conda_yoni)",
   "language": "python",
   "name": "conda_yoni"
  },
  "language_info": {
   "codemirror_mode": {
    "name": "ipython",
    "version": 3
   },
   "file_extension": ".py",
   "mimetype": "text/x-python",
   "name": "python",
   "nbconvert_exporter": "python",
   "pygments_lexer": "ipython3",
   "version": "3.6.5"
  }
 },
 "nbformat": 4,
 "nbformat_minor": 2
}
