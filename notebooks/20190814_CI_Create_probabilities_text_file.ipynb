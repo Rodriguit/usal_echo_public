{
 "cells": [
  {
   "cell_type": "code",
   "execution_count": 24,
   "metadata": {},
   "outputs": [
    {
     "name": "stdout",
     "output_type": "stream",
     "text": [
      "/home/ubuntu/courtney/usal_echo\n"
     ]
    }
   ],
   "source": [
    "import sys\n",
    "import os\n",
    "project_dir = os.path.dirname(os.getcwd())\n",
    "sys.path.append(project_dir) #notebooks can't look into source unless you append the parent project directory to the path\n",
    "print(project_dir)\n",
    "\n",
    "import datetime"
   ]
  },
  {
   "cell_type": "code",
   "execution_count": 25,
   "metadata": {},
   "outputs": [],
   "source": [
    "sys.path.append('../src')\n",
    "from d00_utils.db_utils import *"
   ]
  },
  {
   "cell_type": "code",
   "execution_count": 29,
   "metadata": {},
   "outputs": [
    {
     "name": "stdout",
     "output_type": "stream",
     "text": [
      "instance_list size: (1025, 5)\n"
     ]
    }
   ],
   "source": [
    "instances_w_labels_test_downsampleby5 = io_views.get_table(\"instances_w_labels_test_downsampleby5\")\n",
    "print('instance_list size: {}'.format(instances_w_labels_test_downsampleby5.shape))"
   ]
  },
  {
   "cell_type": "code",
   "execution_count": 30,
   "metadata": {},
   "outputs": [
    {
     "data": {
      "text/html": [
       "<div>\n",
       "<style scoped>\n",
       "    .dataframe tbody tr th:only-of-type {\n",
       "        vertical-align: middle;\n",
       "    }\n",
       "\n",
       "    .dataframe tbody tr th {\n",
       "        vertical-align: top;\n",
       "    }\n",
       "\n",
       "    .dataframe thead th {\n",
       "        text-align: right;\n",
       "    }\n",
       "</style>\n",
       "<table border=\"1\" class=\"dataframe\">\n",
       "  <thead>\n",
       "    <tr style=\"text-align: right;\">\n",
       "      <th></th>\n",
       "      <th>sopinstanceuid</th>\n",
       "      <th>filename</th>\n",
       "      <th>instanceidk</th>\n",
       "      <th>view</th>\n",
       "      <th>studyidk</th>\n",
       "    </tr>\n",
       "  </thead>\n",
       "  <tbody>\n",
       "    <tr>\n",
       "      <th>0</th>\n",
       "      <td>1.2.840.113663.1500.1.365900332.3.8.20130125.1...</td>\n",
       "      <td>1LHFYKEZ</td>\n",
       "      <td>779540</td>\n",
       "      <td>a4c</td>\n",
       "      <td>43763</td>\n",
       "    </tr>\n",
       "    <tr>\n",
       "      <th>1</th>\n",
       "      <td>1.2.840.113663.1500.1.365900332.3.1.20130321.1...</td>\n",
       "      <td>43IX4IH1</td>\n",
       "      <td>804660</td>\n",
       "      <td>plax</td>\n",
       "      <td>45076</td>\n",
       "    </tr>\n",
       "    <tr>\n",
       "      <th>2</th>\n",
       "      <td>1.2.840.113663.1500.1.365900332.3.11.20130611....</td>\n",
       "      <td>7SQZPLEJ</td>\n",
       "      <td>841585</td>\n",
       "      <td>a4c</td>\n",
       "      <td>46919</td>\n",
       "    </tr>\n",
       "    <tr>\n",
       "      <th>3</th>\n",
       "      <td>1.2.840.113663.1500.1.365900332.3.1.20131003.1...</td>\n",
       "      <td>CSTYB214</td>\n",
       "      <td>892588</td>\n",
       "      <td>plax</td>\n",
       "      <td>49268</td>\n",
       "    </tr>\n",
       "    <tr>\n",
       "      <th>4</th>\n",
       "      <td>1.2.840.113663.1500.1.365900332.3.8.20131120.1...</td>\n",
       "      <td>EAKXA40T</td>\n",
       "      <td>921901</td>\n",
       "      <td>a4c</td>\n",
       "      <td>50521</td>\n",
       "    </tr>\n",
       "  </tbody>\n",
       "</table>\n",
       "</div>"
      ],
      "text/plain": [
       "                                      sopinstanceuid  filename  instanceidk  \\\n",
       "0  1.2.840.113663.1500.1.365900332.3.8.20130125.1...  1LHFYKEZ       779540   \n",
       "1  1.2.840.113663.1500.1.365900332.3.1.20130321.1...  43IX4IH1       804660   \n",
       "2  1.2.840.113663.1500.1.365900332.3.11.20130611....  7SQZPLEJ       841585   \n",
       "3  1.2.840.113663.1500.1.365900332.3.1.20131003.1...  CSTYB214       892588   \n",
       "4  1.2.840.113663.1500.1.365900332.3.8.20131120.1...  EAKXA40T       921901   \n",
       "\n",
       "   view  studyidk  \n",
       "0   a4c     43763  \n",
       "1  plax     45076  \n",
       "2   a4c     46919  \n",
       "3  plax     49268  \n",
       "4   a4c     50521  "
      ]
     },
     "execution_count": 30,
     "metadata": {},
     "output_type": "execute_result"
    }
   ],
   "source": [
    "instances_w_labels_test_downsampleby5.head()"
   ]
  },
  {
   "cell_type": "code",
   "execution_count": 31,
   "metadata": {},
   "outputs": [
    {
     "data": {
      "text/plain": [
       "plax    503\n",
       "a4c     311\n",
       "a2c     211\n",
       "Name: view, dtype: int64"
      ]
     },
     "execution_count": 31,
     "metadata": {},
     "output_type": "execute_result"
    }
   ],
   "source": [
    "instances_w_labels_test_downsampleby5['view'].value_counts()"
   ]
  },
  {
   "cell_type": "code",
   "execution_count": 15,
   "metadata": {},
   "outputs": [],
   "source": [
    "# 3. Create the probabilities table\n",
    "prob_tb = pd.DataFrame(\n",
    "    columns=[\n",
    "        \"study\",\n",
    "        \"image\",\n",
    "        \"plax_far\",\n",
    "        \"plax_plax\",\n",
    "        \"plax_laz\",\n",
    "        \"psax_az\",\n",
    "        \"psax_mv\",\n",
    "        \"psax_pap\",\n",
    "        \"a2c_lvocc_s\",\n",
    "        \"a2c_laocc\",\n",
    "        \"a2c\",\n",
    "        \"a3c_lvocc_s\",\n",
    "        \"a3c_laocc\",\n",
    "        \"a3c\",\n",
    "        \"a4c_lvocc_s\",\n",
    "        \"a4c_laocc\",\n",
    "        \"a4c\",\n",
    "        \"a5c\",\n",
    "        \"other\",\n",
    "        \"rvinf\",\n",
    "        \"psax_avz\",\n",
    "        \"suprasternal\",\n",
    "        \"subcostal\",\n",
    "        \"plax_lac\",\n",
    "        \"psax_apex\",\n",
    "    ]\n",
    ")\n",
    "    "
   ]
  },
  {
   "cell_type": "code",
   "execution_count": 20,
   "metadata": {},
   "outputs": [],
   "source": [
    "for i in instances_w_labels_test_downsampleby5.index:\n",
    "    prob_tb.at[i, \"study\"] = \"/home/ubuntu/data/01_raw/test_downsampleby5\"\n",
    "    filename = instances_w_labels_test_downsampleby5.at[i, \"filename\"]\n",
    "    studyidk = instances_w_labels_test_downsampleby5.at[i, \"studyidk\"]\n",
    "    prob_tb.at[i, \"image\"] = (\n",
    "        \"a_\" + str(studyidk).strip() + \"_\" + str(filename).strip() + \".dcm\"\n",
    "    )\n",
    "    if instances_w_labels_test_downsampleby5.at[i, \"view\"] ==\"a4c\":\n",
    "        prob_tb.at[i, \"a4c\"] = 0.9898\n",
    "    elif instances_w_labels_test_downsampleby5.at[i, \"view\"] ==\"a2c\":\n",
    "        prob_tb.at[i, \"a2c\"] = 0.9898\n"
   ]
  },
  {
   "cell_type": "code",
   "execution_count": 23,
   "metadata": {},
   "outputs": [
    {
     "name": "stdout",
     "output_type": "stream",
     "text": [
      "df_3: (1025, 25)\n"
     ]
    }
   ],
   "source": [
    "df_3 = prob_tb.fillna(0)\n",
    "print('df_3: {}'.format(df_3.shape))\n",
    "\n",
    "# 5. Writes the probabilities textfile to data/d04_segmentation folder\n",
    "project_dir = os.path.dirname(os.getcwd())\n",
    "data_dir = os.path.join(project_dir, \"data\", \"d04_segmentation\")\n",
    "\n",
    "if not os.path.exists(data_dir):\n",
    "    os.makedirs(data_dir)\n",
    "\n",
    "time_stamp = datetime.date.today()\n",
    "file_name = \"view_probabilities_test\" + str(time_stamp) + \".txt\"\n",
    "data_path = os.path.join(data_dir, file_name)\n",
    "\n",
    "df_3.to_csv(data_path, index=None, header=True, sep=\"\\t\")\n"
   ]
  },
  {
   "cell_type": "code",
   "execution_count": null,
   "metadata": {},
   "outputs": [],
   "source": []
  }
 ],
 "metadata": {
  "kernelspec": {
   "display_name": "Environment (conda_usal_echo)",
   "language": "python",
   "name": "conda_usal_echo"
  },
  "language_info": {
   "codemirror_mode": {
    "name": "ipython",
    "version": 3
   },
   "file_extension": ".py",
   "mimetype": "text/x-python",
   "name": "python",
   "nbconvert_exporter": "python",
   "pygments_lexer": "ipython3",
   "version": "3.6.5"
  }
 },
 "nbformat": 4,
 "nbformat_minor": 2
}
