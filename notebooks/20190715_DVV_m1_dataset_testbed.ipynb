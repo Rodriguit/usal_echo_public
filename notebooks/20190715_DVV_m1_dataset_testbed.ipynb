{
 "cells": [
  {
   "cell_type": "code",
   "execution_count": 1,
   "metadata": {},
   "outputs": [],
   "source": [
    "import pandas as pd\n",
    "import sys\n",
    "import matplotlib.pyplot as plt\n",
    "\n",
    "sys.path.append('../src')\n",
    "\n",
    "from d00_utils.db_utils import dbReadWriteViews, dbReadWriteClean, dbReadWriteRaw"
   ]
  },
  {
   "cell_type": "code",
   "execution_count": 2,
   "metadata": {},
   "outputs": [],
   "source": [
    "# io_clean = dbReadWriteClean()\n",
    "# ddff = io_clean.get_table('a_measgraphref')\n",
    "# ddff.head()"
   ]
  },
  {
   "cell_type": "code",
   "execution_count": 3,
   "metadata": {},
   "outputs": [],
   "source": [
    "# '2961' in ddff.studyidk"
   ]
  },
  {
   "cell_type": "code",
   "execution_count": 4,
   "metadata": {},
   "outputs": [
    {
     "data": {
      "text/html": [
       "<div>\n",
       "<style scoped>\n",
       "    .dataframe tbody tr th:only-of-type {\n",
       "        vertical-align: middle;\n",
       "    }\n",
       "\n",
       "    .dataframe tbody tr th {\n",
       "        vertical-align: top;\n",
       "    }\n",
       "\n",
       "    .dataframe thead th {\n",
       "        text-align: right;\n",
       "    }\n",
       "</style>\n",
       "<table border=\"1\" class=\"dataframe\">\n",
       "  <thead>\n",
       "    <tr style=\"text-align: right;\">\n",
       "      <th></th>\n",
       "      <th>instanceidk</th>\n",
       "      <th>indexinmglist</th>\n",
       "      <th>studyidk</th>\n",
       "      <th>frame</th>\n",
       "      <th>is_end_diastolic</th>\n",
       "      <th>is_end_systolic</th>\n",
       "      <th>view</th>\n",
       "      <th>is_multiview</th>\n",
       "    </tr>\n",
       "  </thead>\n",
       "  <tbody>\n",
       "    <tr>\n",
       "      <th>0</th>\n",
       "      <td>57160</td>\n",
       "      <td>0</td>\n",
       "      <td>2882</td>\n",
       "      <td>0.0</td>\n",
       "      <td>False</td>\n",
       "      <td>False</td>\n",
       "      <td></td>\n",
       "      <td>False</td>\n",
       "    </tr>\n",
       "    <tr>\n",
       "      <th>1</th>\n",
       "      <td>57160</td>\n",
       "      <td>1</td>\n",
       "      <td>2882</td>\n",
       "      <td>0.0</td>\n",
       "      <td>False</td>\n",
       "      <td>False</td>\n",
       "      <td></td>\n",
       "      <td>False</td>\n",
       "    </tr>\n",
       "    <tr>\n",
       "      <th>2</th>\n",
       "      <td>57160</td>\n",
       "      <td>2</td>\n",
       "      <td>2882</td>\n",
       "      <td>0.0</td>\n",
       "      <td>False</td>\n",
       "      <td>False</td>\n",
       "      <td></td>\n",
       "      <td>False</td>\n",
       "    </tr>\n",
       "    <tr>\n",
       "      <th>3</th>\n",
       "      <td>57160</td>\n",
       "      <td>3</td>\n",
       "      <td>2882</td>\n",
       "      <td>0.0</td>\n",
       "      <td>False</td>\n",
       "      <td>False</td>\n",
       "      <td></td>\n",
       "      <td>False</td>\n",
       "    </tr>\n",
       "    <tr>\n",
       "      <th>4</th>\n",
       "      <td>57162</td>\n",
       "      <td>0</td>\n",
       "      <td>2882</td>\n",
       "      <td>5.0</td>\n",
       "      <td>False</td>\n",
       "      <td>False</td>\n",
       "      <td>plax</td>\n",
       "      <td>False</td>\n",
       "    </tr>\n",
       "  </tbody>\n",
       "</table>\n",
       "</div>"
      ],
      "text/plain": [
       "   instanceidk  indexinmglist  studyidk  frame  is_end_diastolic  \\\n",
       "0        57160              0      2882    0.0             False   \n",
       "1        57160              1      2882    0.0             False   \n",
       "2        57160              2      2882    0.0             False   \n",
       "3        57160              3      2882    0.0             False   \n",
       "4        57162              0      2882    5.0             False   \n",
       "\n",
       "   is_end_systolic  view  is_multiview  \n",
       "0            False               False  \n",
       "1            False               False  \n",
       "2            False               False  \n",
       "3            False               False  \n",
       "4            False  plax         False  "
      ]
     },
     "execution_count": 4,
     "metadata": {},
     "output_type": "execute_result"
    }
   ],
   "source": [
    "io_views = dbReadWriteViews()\n",
    "\n",
    "all_df = io_views.get_table('frames_sorted_by_views_temp')\n",
    "\n",
    "all_df.head()"
   ]
  },
  {
   "cell_type": "code",
   "execution_count": 5,
   "metadata": {
    "scrolled": true
   },
   "outputs": [
    {
     "data": {
      "text/plain": [
       "(486877, 8)"
      ]
     },
     "execution_count": 5,
     "metadata": {},
     "output_type": "execute_result"
    }
   ],
   "source": [
    "all_df.shape"
   ]
  },
  {
   "cell_type": "code",
   "execution_count": 6,
   "metadata": {},
   "outputs": [
    {
     "data": {
      "text/plain": [
       "False    141695\n",
       "True      35409\n",
       "Name: is_multiview, dtype: int64"
      ]
     },
     "execution_count": 6,
     "metadata": {},
     "output_type": "execute_result"
    }
   ],
   "source": [
    "# Drop all instances without labels\n",
    "df5 = all_df.drop(all_df[(all_df['view']=='')].index)\n",
    "df5['is_multiview'].value_counts()"
   ]
  },
  {
   "cell_type": "code",
   "execution_count": 7,
   "metadata": {},
   "outputs": [
    {
     "data": {
      "text/html": [
       "<div>\n",
       "<style scoped>\n",
       "    .dataframe tbody tr th:only-of-type {\n",
       "        vertical-align: middle;\n",
       "    }\n",
       "\n",
       "    .dataframe tbody tr th {\n",
       "        vertical-align: top;\n",
       "    }\n",
       "\n",
       "    .dataframe thead th {\n",
       "        text-align: right;\n",
       "    }\n",
       "</style>\n",
       "<table border=\"1\" class=\"dataframe\">\n",
       "  <thead>\n",
       "    <tr style=\"text-align: right;\">\n",
       "      <th></th>\n",
       "      <th>instanceidk</th>\n",
       "      <th>indexinmglist</th>\n",
       "      <th>studyidk</th>\n",
       "      <th>frame</th>\n",
       "      <th>is_end_diastolic</th>\n",
       "      <th>is_end_systolic</th>\n",
       "      <th>view</th>\n",
       "      <th>is_multiview</th>\n",
       "    </tr>\n",
       "  </thead>\n",
       "  <tbody>\n",
       "    <tr>\n",
       "      <th>4</th>\n",
       "      <td>57162</td>\n",
       "      <td>0</td>\n",
       "      <td>2882</td>\n",
       "      <td>5.0</td>\n",
       "      <td>False</td>\n",
       "      <td>False</td>\n",
       "      <td>plax</td>\n",
       "      <td>False</td>\n",
       "    </tr>\n",
       "    <tr>\n",
       "      <th>5</th>\n",
       "      <td>57164</td>\n",
       "      <td>0</td>\n",
       "      <td>2882</td>\n",
       "      <td>8.0</td>\n",
       "      <td>False</td>\n",
       "      <td>True</td>\n",
       "      <td>a4c</td>\n",
       "      <td>False</td>\n",
       "    </tr>\n",
       "    <tr>\n",
       "      <th>6</th>\n",
       "      <td>57164</td>\n",
       "      <td>1</td>\n",
       "      <td>2882</td>\n",
       "      <td>15.0</td>\n",
       "      <td>True</td>\n",
       "      <td>False</td>\n",
       "      <td>a4c</td>\n",
       "      <td>False</td>\n",
       "    </tr>\n",
       "    <tr>\n",
       "      <th>11</th>\n",
       "      <td>57571</td>\n",
       "      <td>0</td>\n",
       "      <td>2915</td>\n",
       "      <td>0.0</td>\n",
       "      <td>True</td>\n",
       "      <td>False</td>\n",
       "      <td>plax</td>\n",
       "      <td>False</td>\n",
       "    </tr>\n",
       "    <tr>\n",
       "      <th>12</th>\n",
       "      <td>57571</td>\n",
       "      <td>1</td>\n",
       "      <td>2915</td>\n",
       "      <td>0.0</td>\n",
       "      <td>False</td>\n",
       "      <td>True</td>\n",
       "      <td>plax</td>\n",
       "      <td>False</td>\n",
       "    </tr>\n",
       "  </tbody>\n",
       "</table>\n",
       "</div>"
      ],
      "text/plain": [
       "    instanceidk  indexinmglist  studyidk  frame  is_end_diastolic  \\\n",
       "4         57162              0      2882    5.0             False   \n",
       "5         57164              0      2882    8.0             False   \n",
       "6         57164              1      2882   15.0              True   \n",
       "11        57571              0      2915    0.0              True   \n",
       "12        57571              1      2915    0.0             False   \n",
       "\n",
       "    is_end_systolic  view  is_multiview  \n",
       "4             False  plax         False  \n",
       "5              True   a4c         False  \n",
       "6             False   a4c         False  \n",
       "11            False  plax         False  \n",
       "12             True  plax         False  "
      ]
     },
     "execution_count": 7,
     "metadata": {},
     "output_type": "execute_result"
    }
   ],
   "source": [
    "df5.head()"
   ]
  },
  {
   "cell_type": "code",
   "execution_count": 8,
   "metadata": {},
   "outputs": [
    {
     "data": {
      "text/html": [
       "<div>\n",
       "<style scoped>\n",
       "    .dataframe tbody tr th:only-of-type {\n",
       "        vertical-align: middle;\n",
       "    }\n",
       "\n",
       "    .dataframe tbody tr th {\n",
       "        vertical-align: top;\n",
       "    }\n",
       "\n",
       "    .dataframe thead th {\n",
       "        text-align: right;\n",
       "    }\n",
       "</style>\n",
       "<table border=\"1\" class=\"dataframe\">\n",
       "  <thead>\n",
       "    <tr style=\"text-align: right;\">\n",
       "      <th></th>\n",
       "      <th>instanceidk</th>\n",
       "      <th>studyidk</th>\n",
       "    </tr>\n",
       "  </thead>\n",
       "  <tbody>\n",
       "    <tr>\n",
       "      <th>0</th>\n",
       "      <td>58207</td>\n",
       "      <td>2966</td>\n",
       "    </tr>\n",
       "    <tr>\n",
       "      <th>1</th>\n",
       "      <td>110441</td>\n",
       "      <td>6363</td>\n",
       "    </tr>\n",
       "    <tr>\n",
       "      <th>2</th>\n",
       "      <td>117616</td>\n",
       "      <td>6852</td>\n",
       "    </tr>\n",
       "    <tr>\n",
       "      <th>3</th>\n",
       "      <td>119931</td>\n",
       "      <td>6996</td>\n",
       "    </tr>\n",
       "    <tr>\n",
       "      <th>4</th>\n",
       "      <td>124996</td>\n",
       "      <td>7331</td>\n",
       "    </tr>\n",
       "  </tbody>\n",
       "</table>\n",
       "</div>"
      ],
      "text/plain": [
       "   instanceidk  studyidk\n",
       "0        58207      2966\n",
       "1       110441      6363\n",
       "2       117616      6852\n",
       "3       119931      6996\n",
       "4       124996      7331"
      ]
     },
     "execution_count": 8,
     "metadata": {},
     "output_type": "execute_result"
    }
   ],
   "source": [
    "# Get db which contains all off-limits instances for other classes\n",
    "# e.g. is 'is_multiview'==True\n",
    "conflict_inst_df = df5.drop(df5[(df5['is_multiview']==False)].index)\n",
    "agg_functions_conflict = {'studyidk': 'first'}\n",
    "conflict_inst_df = conflict_inst_df.groupby(['instanceidk']).agg(agg_functions_conflict)\n",
    "conflict_inst_df.reset_index(inplace=True)\n",
    "conflict_inst_df.head()"
   ]
  },
  {
   "cell_type": "code",
   "execution_count": 9,
   "metadata": {},
   "outputs": [],
   "source": [
    "#io_views.save_to_db(conflict_inst_df, 'instances_with_conflicts')"
   ]
  },
  {
   "cell_type": "code",
   "execution_count": 10,
   "metadata": {},
   "outputs": [],
   "source": [
    "all_df = df5"
   ]
  },
  {
   "cell_type": "code",
   "execution_count": 11,
   "metadata": {},
   "outputs": [
    {
     "data": {
      "text/plain": [
       "(141695, 8)"
      ]
     },
     "execution_count": 11,
     "metadata": {},
     "output_type": "execute_result"
    }
   ],
   "source": [
    "# Remove instances with view conflicts\n",
    "conflict_sets = all_df[all_df['is_multiview']==True].groupby('instanceidk')#.agg({'view': lambda x: set(x)})\n",
    "\n",
    "conflict_list = []\n",
    "for instance in list(conflict_sets.instanceidk):\n",
    "    conflict_list.append(instance[0]) # get instanceidk for multidimn list\n",
    "    \n",
    "frames_without_conflicts_df = all_df[~all_df['instanceidk'].isin(conflict_list)]\n",
    "frames_without_conflicts_df.shape"
   ]
  },
  {
   "cell_type": "code",
   "execution_count": 12,
   "metadata": {},
   "outputs": [
    {
     "data": {
      "text/plain": [
       "False    141695\n",
       "Name: is_multiview, dtype: int64"
      ]
     },
     "execution_count": 12,
     "metadata": {},
     "output_type": "execute_result"
    }
   ],
   "source": [
    "# Check to make sure no view conflicts exist\n",
    "frames_without_conflicts_df['is_multiview'].value_counts()"
   ]
  },
  {
   "cell_type": "code",
   "execution_count": 13,
   "metadata": {},
   "outputs": [
    {
     "name": "stderr",
     "output_type": "stream",
     "text": [
      "/home/dave_van_veen/anaconda3/envs/dssg/lib/python3.7/site-packages/pandas/core/frame.py:3940: SettingWithCopyWarning: \n",
      "A value is trying to be set on a copy of a slice from a DataFrame\n",
      "\n",
      "See the caveats in the documentation: http://pandas.pydata.org/pandas-docs/stable/indexing.html#indexing-view-versus-copy\n",
      "  errors=errors)\n"
     ]
    },
    {
     "data": {
      "text/html": [
       "<div>\n",
       "<style scoped>\n",
       "    .dataframe tbody tr th:only-of-type {\n",
       "        vertical-align: middle;\n",
       "    }\n",
       "\n",
       "    .dataframe tbody tr th {\n",
       "        vertical-align: top;\n",
       "    }\n",
       "\n",
       "    .dataframe thead th {\n",
       "        text-align: right;\n",
       "    }\n",
       "</style>\n",
       "<table border=\"1\" class=\"dataframe\">\n",
       "  <thead>\n",
       "    <tr style=\"text-align: right;\">\n",
       "      <th></th>\n",
       "      <th>instanceidk</th>\n",
       "      <th>indexinmglist</th>\n",
       "      <th>studyidk</th>\n",
       "      <th>frame</th>\n",
       "      <th>is_end_diastolic</th>\n",
       "      <th>is_end_systolic</th>\n",
       "      <th>view</th>\n",
       "    </tr>\n",
       "  </thead>\n",
       "  <tbody>\n",
       "    <tr>\n",
       "      <th>4</th>\n",
       "      <td>57162</td>\n",
       "      <td>0</td>\n",
       "      <td>2882</td>\n",
       "      <td>5.0</td>\n",
       "      <td>False</td>\n",
       "      <td>False</td>\n",
       "      <td>plax</td>\n",
       "    </tr>\n",
       "    <tr>\n",
       "      <th>5</th>\n",
       "      <td>57164</td>\n",
       "      <td>0</td>\n",
       "      <td>2882</td>\n",
       "      <td>8.0</td>\n",
       "      <td>False</td>\n",
       "      <td>True</td>\n",
       "      <td>a4c</td>\n",
       "    </tr>\n",
       "    <tr>\n",
       "      <th>6</th>\n",
       "      <td>57164</td>\n",
       "      <td>1</td>\n",
       "      <td>2882</td>\n",
       "      <td>15.0</td>\n",
       "      <td>True</td>\n",
       "      <td>False</td>\n",
       "      <td>a4c</td>\n",
       "    </tr>\n",
       "    <tr>\n",
       "      <th>11</th>\n",
       "      <td>57571</td>\n",
       "      <td>0</td>\n",
       "      <td>2915</td>\n",
       "      <td>0.0</td>\n",
       "      <td>True</td>\n",
       "      <td>False</td>\n",
       "      <td>plax</td>\n",
       "    </tr>\n",
       "    <tr>\n",
       "      <th>12</th>\n",
       "      <td>57571</td>\n",
       "      <td>1</td>\n",
       "      <td>2915</td>\n",
       "      <td>0.0</td>\n",
       "      <td>False</td>\n",
       "      <td>True</td>\n",
       "      <td>plax</td>\n",
       "    </tr>\n",
       "  </tbody>\n",
       "</table>\n",
       "</div>"
      ],
      "text/plain": [
       "    instanceidk  indexinmglist  studyidk  frame  is_end_diastolic  \\\n",
       "4         57162              0      2882    5.0             False   \n",
       "5         57164              0      2882    8.0             False   \n",
       "6         57164              1      2882   15.0              True   \n",
       "11        57571              0      2915    0.0              True   \n",
       "12        57571              1      2915    0.0             False   \n",
       "\n",
       "    is_end_systolic  view  \n",
       "4             False  plax  \n",
       "5              True   a4c  \n",
       "6             False   a4c  \n",
       "11            False  plax  \n",
       "12             True  plax  "
      ]
     },
     "execution_count": 13,
     "metadata": {},
     "output_type": "execute_result"
    }
   ],
   "source": [
    "# Drop unnecessary column\n",
    "frames_without_conflicts_df.drop('is_multiview', axis=1, inplace=True)\n",
    "frames_without_conflicts_df.head()"
   ]
  },
  {
   "cell_type": "code",
   "execution_count": 14,
   "metadata": {},
   "outputs": [
    {
     "data": {
      "text/html": [
       "<div>\n",
       "<style scoped>\n",
       "    .dataframe tbody tr th:only-of-type {\n",
       "        vertical-align: middle;\n",
       "    }\n",
       "\n",
       "    .dataframe tbody tr th {\n",
       "        vertical-align: top;\n",
       "    }\n",
       "\n",
       "    .dataframe thead th {\n",
       "        text-align: right;\n",
       "    }\n",
       "</style>\n",
       "<table border=\"1\" class=\"dataframe\">\n",
       "  <thead>\n",
       "    <tr style=\"text-align: right;\">\n",
       "      <th></th>\n",
       "      <th>instanceidk</th>\n",
       "      <th>indexinmglist</th>\n",
       "      <th>studyidk</th>\n",
       "      <th>frame</th>\n",
       "      <th>is_end_diastolic</th>\n",
       "      <th>is_end_systolic</th>\n",
       "      <th>view</th>\n",
       "    </tr>\n",
       "  </thead>\n",
       "  <tbody>\n",
       "    <tr>\n",
       "      <th>4</th>\n",
       "      <td>57162</td>\n",
       "      <td>0</td>\n",
       "      <td>2882</td>\n",
       "      <td>5.0</td>\n",
       "      <td>False</td>\n",
       "      <td>False</td>\n",
       "      <td>plax</td>\n",
       "    </tr>\n",
       "    <tr>\n",
       "      <th>5</th>\n",
       "      <td>57164</td>\n",
       "      <td>0</td>\n",
       "      <td>2882</td>\n",
       "      <td>8.0</td>\n",
       "      <td>False</td>\n",
       "      <td>True</td>\n",
       "      <td>a4c</td>\n",
       "    </tr>\n",
       "    <tr>\n",
       "      <th>6</th>\n",
       "      <td>57164</td>\n",
       "      <td>1</td>\n",
       "      <td>2882</td>\n",
       "      <td>15.0</td>\n",
       "      <td>True</td>\n",
       "      <td>False</td>\n",
       "      <td>a4c</td>\n",
       "    </tr>\n",
       "    <tr>\n",
       "      <th>11</th>\n",
       "      <td>57571</td>\n",
       "      <td>0</td>\n",
       "      <td>2915</td>\n",
       "      <td>0.0</td>\n",
       "      <td>True</td>\n",
       "      <td>False</td>\n",
       "      <td>plax</td>\n",
       "    </tr>\n",
       "    <tr>\n",
       "      <th>12</th>\n",
       "      <td>57571</td>\n",
       "      <td>1</td>\n",
       "      <td>2915</td>\n",
       "      <td>0.0</td>\n",
       "      <td>False</td>\n",
       "      <td>True</td>\n",
       "      <td>plax</td>\n",
       "    </tr>\n",
       "  </tbody>\n",
       "</table>\n",
       "</div>"
      ],
      "text/plain": [
       "    instanceidk  indexinmglist  studyidk  frame  is_end_diastolic  \\\n",
       "4         57162              0      2882    5.0             False   \n",
       "5         57164              0      2882    8.0             False   \n",
       "6         57164              1      2882   15.0              True   \n",
       "11        57571              0      2915    0.0              True   \n",
       "12        57571              1      2915    0.0             False   \n",
       "\n",
       "    is_end_systolic  view  \n",
       "4             False  plax  \n",
       "5              True   a4c  \n",
       "6             False   a4c  \n",
       "11            False  plax  \n",
       "12             True  plax  "
      ]
     },
     "execution_count": 14,
     "metadata": {},
     "output_type": "execute_result"
    }
   ],
   "source": [
    "# Drop all instances without labels\n",
    "# df2 = frames_without_conflicts_df\n",
    "# labels_by_frame_df = df2.drop(df2[(df2['view']=='')].index)\n",
    "\n",
    "labels_by_frame_df = frames_without_conflicts_df\n",
    "labels_by_frame_df.head()"
   ]
  },
  {
   "cell_type": "code",
   "execution_count": 15,
   "metadata": {},
   "outputs": [],
   "source": [
    "#io_views.save_to_db(labels_by_frame_df, 'frames_with_labels')"
   ]
  },
  {
   "cell_type": "code",
   "execution_count": 16,
   "metadata": {},
   "outputs": [
    {
     "data": {
      "text/plain": [
       "(array([1.5617e+04, 1.2755e+04, 1.1700e+04, 7.8090e+03, 3.2840e+03,\n",
       "        1.9880e+03, 6.9900e+02, 7.2000e+01, 1.6000e+01, 1.3000e+01,\n",
       "        7.0000e+00, 1.0000e+00, 4.0000e+00]),\n",
       " array([ 1.        ,  1.92307692,  2.84615385,  3.76923077,  4.69230769,\n",
       "         5.61538462,  6.53846154,  7.46153846,  8.38461538,  9.30769231,\n",
       "        10.23076923, 11.15384615, 12.07692308, 13.        ]),\n",
       " <a list of 13 Patch objects>)"
      ]
     },
     "execution_count": 16,
     "metadata": {},
     "output_type": "execute_result"
    },
    {
     "data": {
      "image/png": "[encoded data removed]",
      "text/plain": [
       "<Figure size 432x288 with 1 Axes>"
      ]
     },
     "metadata": {
      "needs_background": "light"
     },
     "output_type": "display_data"
    }
   ],
   "source": [
    "# Histogram showing number of labeled frames from each instance\n",
    "plt.hist(labels_by_frame_df['instanceidk'].value_counts().values, bins=13)"
   ]
  },
  {
   "cell_type": "code",
   "execution_count": 17,
   "metadata": {},
   "outputs": [
    {
     "data": {
      "text/html": [
       "<div>\n",
       "<style scoped>\n",
       "    .dataframe tbody tr th:only-of-type {\n",
       "        vertical-align: middle;\n",
       "    }\n",
       "\n",
       "    .dataframe tbody tr th {\n",
       "        vertical-align: top;\n",
       "    }\n",
       "\n",
       "    .dataframe thead th {\n",
       "        text-align: right;\n",
       "    }\n",
       "</style>\n",
       "<table border=\"1\" class=\"dataframe\">\n",
       "  <thead>\n",
       "    <tr style=\"text-align: right;\">\n",
       "      <th></th>\n",
       "      <th>instanceidk</th>\n",
       "      <th>view</th>\n",
       "      <th>studyidk</th>\n",
       "    </tr>\n",
       "  </thead>\n",
       "  <tbody>\n",
       "    <tr>\n",
       "      <th>0</th>\n",
       "      <td>57162</td>\n",
       "      <td>plax</td>\n",
       "      <td>2882</td>\n",
       "    </tr>\n",
       "    <tr>\n",
       "      <th>1</th>\n",
       "      <td>57164</td>\n",
       "      <td>a4c</td>\n",
       "      <td>2882</td>\n",
       "    </tr>\n",
       "    <tr>\n",
       "      <th>2</th>\n",
       "      <td>57571</td>\n",
       "      <td>plax</td>\n",
       "      <td>2915</td>\n",
       "    </tr>\n",
       "    <tr>\n",
       "      <th>3</th>\n",
       "      <td>58204</td>\n",
       "      <td>plax</td>\n",
       "      <td>2966</td>\n",
       "    </tr>\n",
       "    <tr>\n",
       "      <th>4</th>\n",
       "      <td>58713</td>\n",
       "      <td>plax</td>\n",
       "      <td>3009</td>\n",
       "    </tr>\n",
       "  </tbody>\n",
       "</table>\n",
       "</div>"
      ],
      "text/plain": [
       "   instanceidk  view  studyidk\n",
       "0        57162  plax      2882\n",
       "1        57164   a4c      2882\n",
       "2        57571  plax      2915\n",
       "3        58204  plax      2966\n",
       "4        58713  plax      3009"
      ]
     },
     "execution_count": 17,
     "metadata": {},
     "output_type": "execute_result"
    }
   ],
   "source": [
    "# Group all frames of same instance, drop frame-specific columns\n",
    "agg_functions = {'view': 'first', 'studyidk': 'first'}\n",
    "labels_by_inst_df = labels_by_frame_df.groupby(['instanceidk']).agg(agg_functions)\n",
    "# labels_by_instance\n",
    "\n",
    "labels_by_inst_df = labels_by_inst_df.reset_index()\n",
    "labels_by_inst_df.head()"
   ]
  },
  {
   "cell_type": "code",
   "execution_count": 18,
   "metadata": {},
   "outputs": [
    {
     "data": {
      "text/plain": [
       "(53965, 3)"
      ]
     },
     "execution_count": 18,
     "metadata": {},
     "output_type": "execute_result"
    }
   ],
   "source": [
    "labels_by_inst_df.shape"
   ]
  },
  {
   "cell_type": "code",
   "execution_count": 19,
   "metadata": {},
   "outputs": [],
   "source": [
    "#io_views.save_to_db(labels_by_inst_df, 'instances_with_labels')"
   ]
  },
  {
   "cell_type": "code",
   "execution_count": 20,
   "metadata": {},
   "outputs": [],
   "source": [
    "#902k, interpolated 952k"
   ]
  },
  {
   "cell_type": "code",
   "execution_count": null,
   "metadata": {},
   "outputs": [],
   "source": []
  },
  {
   "cell_type": "code",
   "execution_count": null,
   "metadata": {},
   "outputs": [],
   "source": []
  },
  {
   "cell_type": "code",
   "execution_count": null,
   "metadata": {},
   "outputs": [],
   "source": []
  },
  {
   "cell_type": "code",
   "execution_count": 51,
   "metadata": {},
   "outputs": [
    {
     "data": {
      "text/html": [
       "<div>\n",
       "<style scoped>\n",
       "    .dataframe tbody tr th:only-of-type {\n",
       "        vertical-align: middle;\n",
       "    }\n",
       "\n",
       "    .dataframe tbody tr th {\n",
       "        vertical-align: top;\n",
       "    }\n",
       "\n",
       "    .dataframe thead th {\n",
       "        text-align: right;\n",
       "    }\n",
       "</style>\n",
       "<table border=\"1\" class=\"dataframe\">\n",
       "  <thead>\n",
       "    <tr style=\"text-align: right;\">\n",
       "      <th></th>\n",
       "      <th>instanceidk</th>\n",
       "      <th>instancefilename</th>\n",
       "      <th>sopinstanceuid</th>\n",
       "    </tr>\n",
       "  </thead>\n",
       "  <tbody>\n",
       "    <tr>\n",
       "      <th>0</th>\n",
       "      <td>57157</td>\n",
       "      <td>6RYXZNZW</td>\n",
       "      <td>1.2.840.113543.6.6.4.6.62554526370968849932129...</td>\n",
       "    </tr>\n",
       "    <tr>\n",
       "      <th>1</th>\n",
       "      <td>57158</td>\n",
       "      <td>6RYXZO03</td>\n",
       "      <td>1.2.840.113543.6.6.4.6.64175920513291079284612...</td>\n",
       "    </tr>\n",
       "    <tr>\n",
       "      <th>2</th>\n",
       "      <td>57159</td>\n",
       "      <td>6RYXZO0D</td>\n",
       "      <td>1.2.840.113543.6.6.4.6.63515355813678132433121...</td>\n",
       "    </tr>\n",
       "    <tr>\n",
       "      <th>3</th>\n",
       "      <td>57160</td>\n",
       "      <td>6RYXZO0K</td>\n",
       "      <td>1.2.840.113543.6.6.4.6.63385835434171778347132...</td>\n",
       "    </tr>\n",
       "    <tr>\n",
       "      <th>4</th>\n",
       "      <td>57161</td>\n",
       "      <td>6RYXZO0Y</td>\n",
       "      <td>1.2.840.113543.6.6.4.6.62250778798156715321013...</td>\n",
       "    </tr>\n",
       "  </tbody>\n",
       "</table>\n",
       "</div>"
      ],
      "text/plain": [
       "   instanceidk instancefilename  \\\n",
       "0        57157         6RYXZNZW   \n",
       "1        57158         6RYXZO03   \n",
       "2        57159         6RYXZO0D   \n",
       "3        57160         6RYXZO0K   \n",
       "4        57161         6RYXZO0Y   \n",
       "\n",
       "                                      sopinstanceuid  \n",
       "0  1.2.840.113543.6.6.4.6.62554526370968849932129...  \n",
       "1  1.2.840.113543.6.6.4.6.64175920513291079284612...  \n",
       "2  1.2.840.113543.6.6.4.6.63515355813678132433121...  \n",
       "3  1.2.840.113543.6.6.4.6.63385835434171778347132...  \n",
       "4  1.2.840.113543.6.6.4.6.62250778798156715321013...  "
      ]
     },
     "execution_count": 51,
     "metadata": {},
     "output_type": "execute_result"
    }
   ],
   "source": [
    "io_clean = dbReadWriteClean()\n",
    "\n",
    "filename_list_df = io_clean.get_table('instance_filename')\n",
    "filename_list_df.drop(labels=['row_id', 'seriesdbkey'], axis=1, inplace=True)\n",
    "filename_list_df.head()"
   ]
  },
  {
   "cell_type": "code",
   "execution_count": 52,
   "metadata": {},
   "outputs": [
    {
     "data": {
      "text/plain": [
       "(902577, 3)"
      ]
     },
     "execution_count": 52,
     "metadata": {},
     "output_type": "execute_result"
    }
   ],
   "source": [
    "filename_list_df.shape"
   ]
  },
  {
   "cell_type": "code",
   "execution_count": 53,
   "metadata": {},
   "outputs": [
    {
     "data": {
      "text/plain": [
       "(895206, 3)"
      ]
     },
     "execution_count": 53,
     "metadata": {},
     "output_type": "execute_result"
    }
   ],
   "source": [
    "# Drop all rows which have duplicate values in the following columns\n",
    "cols_drop_duplicates = ['sopinstanceuid', 'instanceidk', 'instancefilename']\n",
    "for col in cols_drop_duplicates:\n",
    "    filename_list_df.drop_duplicates(subset=col, keep=False, inplace=True)\n",
    "\n",
    "filename_list_df.shape"
   ]
  },
  {
   "cell_type": "code",
   "execution_count": 54,
   "metadata": {},
   "outputs": [],
   "source": [
    "# print(len(filename_list_df['sopinstanceuid'].unique().tolist()))"
   ]
  },
  {
   "cell_type": "code",
   "execution_count": 55,
   "metadata": {},
   "outputs": [
    {
     "data": {
      "text/html": [
       "<div>\n",
       "<style scoped>\n",
       "    .dataframe tbody tr th:only-of-type {\n",
       "        vertical-align: middle;\n",
       "    }\n",
       "\n",
       "    .dataframe tbody tr th {\n",
       "        vertical-align: top;\n",
       "    }\n",
       "\n",
       "    .dataframe thead th {\n",
       "        text-align: right;\n",
       "    }\n",
       "</style>\n",
       "<table border=\"1\" class=\"dataframe\">\n",
       "  <thead>\n",
       "    <tr style=\"text-align: right;\">\n",
       "      <th></th>\n",
       "      <th>instanceidk</th>\n",
       "      <th>studyseriesidk</th>\n",
       "      <th>sopinstanceuid</th>\n",
       "    </tr>\n",
       "  </thead>\n",
       "  <tbody>\n",
       "    <tr>\n",
       "      <th>0</th>\n",
       "      <td>57157</td>\n",
       "      <td>2912.0</td>\n",
       "      <td>1.2.840.113543.6.6.4.6.62554526370968849932129...</td>\n",
       "    </tr>\n",
       "    <tr>\n",
       "      <th>1</th>\n",
       "      <td>57158</td>\n",
       "      <td>2912.0</td>\n",
       "      <td>1.2.840.113543.6.6.4.6.64175920513291079284612...</td>\n",
       "    </tr>\n",
       "    <tr>\n",
       "      <th>2</th>\n",
       "      <td>57159</td>\n",
       "      <td>2912.0</td>\n",
       "      <td>1.2.840.113543.6.6.4.6.63515355813678132433121...</td>\n",
       "    </tr>\n",
       "    <tr>\n",
       "      <th>3</th>\n",
       "      <td>57160</td>\n",
       "      <td>2912.0</td>\n",
       "      <td>1.2.840.113543.6.6.4.6.63385835434171778347132...</td>\n",
       "    </tr>\n",
       "    <tr>\n",
       "      <th>4</th>\n",
       "      <td>57161</td>\n",
       "      <td>2912.0</td>\n",
       "      <td>1.2.840.113543.6.6.4.6.62250778798156715321013...</td>\n",
       "    </tr>\n",
       "  </tbody>\n",
       "</table>\n",
       "</div>"
      ],
      "text/plain": [
       "   instanceidk  studyseriesidk  \\\n",
       "0        57157          2912.0   \n",
       "1        57158          2912.0   \n",
       "2        57159          2912.0   \n",
       "3        57160          2912.0   \n",
       "4        57161          2912.0   \n",
       "\n",
       "                                      sopinstanceuid  \n",
       "0  1.2.840.113543.6.6.4.6.62554526370968849932129...  \n",
       "1  1.2.840.113543.6.6.4.6.64175920513291079284612...  \n",
       "2  1.2.840.113543.6.6.4.6.63515355813678132433121...  \n",
       "3  1.2.840.113543.6.6.4.6.63385835434171778347132...  \n",
       "4  1.2.840.113543.6.6.4.6.62250778798156715321013...  "
      ]
     },
     "execution_count": 55,
     "metadata": {},
     "output_type": "execute_result"
    }
   ],
   "source": [
    "io_raw  = dbReadWriteRaw()\n",
    "\n",
    "A_instance_df = io_raw.get_table('a_instance')\n",
    "A_instance_df['instanceidk'] = A_instance_df['instanceidk'].astype('int')\n",
    "# Drop unnecessary columns\n",
    "A_instance_df.drop(labels=['row_id', 'sopclassuid'], axis=1, inplace=True)\n",
    "\n",
    "A_instance_df.head()"
   ]
  },
  {
   "cell_type": "code",
   "execution_count": 56,
   "metadata": {},
   "outputs": [
    {
     "data": {
      "text/plain": [
       "(904178, 3)"
      ]
     },
     "execution_count": 56,
     "metadata": {},
     "output_type": "execute_result"
    }
   ],
   "source": [
    "A_instance_df.shape"
   ]
  },
  {
   "cell_type": "code",
   "execution_count": 57,
   "metadata": {},
   "outputs": [
    {
     "name": "stdout",
     "output_type": "stream",
     "text": [
      "898424\n",
      "904178\n"
     ]
    },
    {
     "data": {
      "text/plain": [
       "(895272, 3)"
      ]
     },
     "execution_count": 57,
     "metadata": {},
     "output_type": "execute_result"
    }
   ],
   "source": [
    "print(len(A_instance_df['sopinstanceuid'].unique().tolist()))\n",
    "print(len(A_instance_df['instanceidk'].unique().tolist()))\n",
    "\n",
    "# Drop all rows which have duplicate values in the following columns\n",
    "cols_drop_duplicates = ['sopinstanceuid', 'instanceidk']\n",
    "for col in cols_drop_duplicates:\n",
    "    A_instance_df.drop_duplicates(subset=col, keep=False, inplace=True)\n",
    "\n",
    "A_instance_df.shape"
   ]
  },
  {
   "cell_type": "code",
   "execution_count": 70,
   "metadata": {},
   "outputs": [
    {
     "data": {
      "text/html": [
       "<div>\n",
       "<style scoped>\n",
       "    .dataframe tbody tr th:only-of-type {\n",
       "        vertical-align: middle;\n",
       "    }\n",
       "\n",
       "    .dataframe tbody tr th {\n",
       "        vertical-align: top;\n",
       "    }\n",
       "\n",
       "    .dataframe thead th {\n",
       "        text-align: right;\n",
       "    }\n",
       "</style>\n",
       "<table border=\"1\" class=\"dataframe\">\n",
       "  <thead>\n",
       "    <tr style=\"text-align: right;\">\n",
       "      <th></th>\n",
       "      <th>studyseriesidk</th>\n",
       "      <th>studyinstanceidk</th>\n",
       "    </tr>\n",
       "  </thead>\n",
       "  <tbody>\n",
       "    <tr>\n",
       "      <th>0</th>\n",
       "      <td>2912.0</td>\n",
       "      <td>2882.0</td>\n",
       "    </tr>\n",
       "    <tr>\n",
       "      <th>1</th>\n",
       "      <td>2961.0</td>\n",
       "      <td>2915.0</td>\n",
       "    </tr>\n",
       "    <tr>\n",
       "      <th>2</th>\n",
       "      <td>3010.0</td>\n",
       "      <td>2965.0</td>\n",
       "    </tr>\n",
       "    <tr>\n",
       "      <th>3</th>\n",
       "      <td>3011.0</td>\n",
       "      <td>2966.0</td>\n",
       "    </tr>\n",
       "    <tr>\n",
       "      <th>4</th>\n",
       "      <td>3054.0</td>\n",
       "      <td>3009.0</td>\n",
       "    </tr>\n",
       "  </tbody>\n",
       "</table>\n",
       "</div>"
      ],
      "text/plain": [
       "   studyseriesidk  studyinstanceidk\n",
       "0          2912.0            2882.0\n",
       "1          2961.0            2915.0\n",
       "2          3010.0            2965.0\n",
       "3          3011.0            2966.0\n",
       "4          3054.0            3009.0"
      ]
     },
     "execution_count": 70,
     "metadata": {},
     "output_type": "execute_result"
    }
   ],
   "source": [
    "A_study_series_df = io_raw.get_table('a_studyseries')\n",
    "A_study_series_df.drop(labels=['row_id', 'studyseriesuid', 'modality'], axis=1, inplace=True)\n",
    "A_study_series_df.head()"
   ]
  },
  {
   "cell_type": "code",
   "execution_count": 71,
   "metadata": {},
   "outputs": [
    {
     "name": "stdout",
     "output_type": "stream",
     "text": [
      "(37195, 2)\n",
      "37195\n"
     ]
    }
   ],
   "source": [
    "print(A_study_series_df.shape)\n",
    "print(len(A_study_series_df['studyseriesidk'].unique().tolist()))"
   ]
  },
  {
   "cell_type": "code",
   "execution_count": 72,
   "metadata": {},
   "outputs": [
    {
     "data": {
      "text/html": [
       "<div>\n",
       "<style scoped>\n",
       "    .dataframe tbody tr th:only-of-type {\n",
       "        vertical-align: middle;\n",
       "    }\n",
       "\n",
       "    .dataframe tbody tr th {\n",
       "        vertical-align: top;\n",
       "    }\n",
       "\n",
       "    .dataframe thead th {\n",
       "        text-align: right;\n",
       "    }\n",
       "</style>\n",
       "<table border=\"1\" class=\"dataframe\">\n",
       "  <thead>\n",
       "    <tr style=\"text-align: right;\">\n",
       "      <th></th>\n",
       "      <th>instanceidk_x</th>\n",
       "      <th>studyseriesidk</th>\n",
       "      <th>sopinstanceuid</th>\n",
       "      <th>instanceidk_y</th>\n",
       "      <th>instancefilename</th>\n",
       "    </tr>\n",
       "  </thead>\n",
       "  <tbody>\n",
       "    <tr>\n",
       "      <th>0</th>\n",
       "      <td>57157</td>\n",
       "      <td>2912.0</td>\n",
       "      <td>1.2.840.113543.6.6.4.6.62554526370968849932129...</td>\n",
       "      <td>57157</td>\n",
       "      <td>6RYXZNZW</td>\n",
       "    </tr>\n",
       "    <tr>\n",
       "      <th>1</th>\n",
       "      <td>57158</td>\n",
       "      <td>2912.0</td>\n",
       "      <td>1.2.840.113543.6.6.4.6.64175920513291079284612...</td>\n",
       "      <td>57158</td>\n",
       "      <td>6RYXZO03</td>\n",
       "    </tr>\n",
       "    <tr>\n",
       "      <th>2</th>\n",
       "      <td>57159</td>\n",
       "      <td>2912.0</td>\n",
       "      <td>1.2.840.113543.6.6.4.6.63515355813678132433121...</td>\n",
       "      <td>57159</td>\n",
       "      <td>6RYXZO0D</td>\n",
       "    </tr>\n",
       "    <tr>\n",
       "      <th>3</th>\n",
       "      <td>57160</td>\n",
       "      <td>2912.0</td>\n",
       "      <td>1.2.840.113543.6.6.4.6.63385835434171778347132...</td>\n",
       "      <td>57160</td>\n",
       "      <td>6RYXZO0K</td>\n",
       "    </tr>\n",
       "    <tr>\n",
       "      <th>4</th>\n",
       "      <td>57161</td>\n",
       "      <td>2912.0</td>\n",
       "      <td>1.2.840.113543.6.6.4.6.62250778798156715321013...</td>\n",
       "      <td>57161</td>\n",
       "      <td>6RYXZO0Y</td>\n",
       "    </tr>\n",
       "  </tbody>\n",
       "</table>\n",
       "</div>"
      ],
      "text/plain": [
       "   instanceidk_x  studyseriesidk  \\\n",
       "0          57157          2912.0   \n",
       "1          57158          2912.0   \n",
       "2          57159          2912.0   \n",
       "3          57160          2912.0   \n",
       "4          57161          2912.0   \n",
       "\n",
       "                                      sopinstanceuid  instanceidk_y  \\\n",
       "0  1.2.840.113543.6.6.4.6.62554526370968849932129...          57157   \n",
       "1  1.2.840.113543.6.6.4.6.64175920513291079284612...          57158   \n",
       "2  1.2.840.113543.6.6.4.6.63515355813678132433121...          57159   \n",
       "3  1.2.840.113543.6.6.4.6.63385835434171778347132...          57160   \n",
       "4  1.2.840.113543.6.6.4.6.62250778798156715321013...          57161   \n",
       "\n",
       "  instancefilename  \n",
       "0         6RYXZNZW  \n",
       "1         6RYXZO03  \n",
       "2         6RYXZO0D  \n",
       "3         6RYXZO0K  \n",
       "4         6RYXZO0Y  "
      ]
     },
     "execution_count": 72,
     "metadata": {},
     "output_type": "execute_result"
    }
   ],
   "source": [
    "merge_df = A_instance_df.merge(filename_list_df, on='sopinstanceuid')\n",
    "merge_df.head()"
   ]
  },
  {
   "cell_type": "code",
   "execution_count": 73,
   "metadata": {},
   "outputs": [],
   "source": [
    "merge_df = merge_df[merge_df['instanceidk_x'] == merge_df['instanceidk_y']]\n",
    "merge_df['instanceidk'] = merge_df['instanceidk_x']"
   ]
  },
  {
   "cell_type": "code",
   "execution_count": 74,
   "metadata": {},
   "outputs": [
    {
     "data": {
      "text/html": [
       "<div>\n",
       "<style scoped>\n",
       "    .dataframe tbody tr th:only-of-type {\n",
       "        vertical-align: middle;\n",
       "    }\n",
       "\n",
       "    .dataframe tbody tr th {\n",
       "        vertical-align: top;\n",
       "    }\n",
       "\n",
       "    .dataframe thead th {\n",
       "        text-align: right;\n",
       "    }\n",
       "</style>\n",
       "<table border=\"1\" class=\"dataframe\">\n",
       "  <thead>\n",
       "    <tr style=\"text-align: right;\">\n",
       "      <th></th>\n",
       "      <th>studyseriesidk</th>\n",
       "      <th>sopinstanceuid</th>\n",
       "      <th>instancefilename</th>\n",
       "      <th>instanceidk</th>\n",
       "    </tr>\n",
       "  </thead>\n",
       "  <tbody>\n",
       "    <tr>\n",
       "      <th>0</th>\n",
       "      <td>2912.0</td>\n",
       "      <td>1.2.840.113543.6.6.4.6.62554526370968849932129...</td>\n",
       "      <td>6RYXZNZW</td>\n",
       "      <td>57157</td>\n",
       "    </tr>\n",
       "    <tr>\n",
       "      <th>1</th>\n",
       "      <td>2912.0</td>\n",
       "      <td>1.2.840.113543.6.6.4.6.64175920513291079284612...</td>\n",
       "      <td>6RYXZO03</td>\n",
       "      <td>57158</td>\n",
       "    </tr>\n",
       "    <tr>\n",
       "      <th>2</th>\n",
       "      <td>2912.0</td>\n",
       "      <td>1.2.840.113543.6.6.4.6.63515355813678132433121...</td>\n",
       "      <td>6RYXZO0D</td>\n",
       "      <td>57159</td>\n",
       "    </tr>\n",
       "    <tr>\n",
       "      <th>3</th>\n",
       "      <td>2912.0</td>\n",
       "      <td>1.2.840.113543.6.6.4.6.63385835434171778347132...</td>\n",
       "      <td>6RYXZO0K</td>\n",
       "      <td>57160</td>\n",
       "    </tr>\n",
       "    <tr>\n",
       "      <th>4</th>\n",
       "      <td>2912.0</td>\n",
       "      <td>1.2.840.113543.6.6.4.6.62250778798156715321013...</td>\n",
       "      <td>6RYXZO0Y</td>\n",
       "      <td>57161</td>\n",
       "    </tr>\n",
       "  </tbody>\n",
       "</table>\n",
       "</div>"
      ],
      "text/plain": [
       "   studyseriesidk                                     sopinstanceuid  \\\n",
       "0          2912.0  1.2.840.113543.6.6.4.6.62554526370968849932129...   \n",
       "1          2912.0  1.2.840.113543.6.6.4.6.64175920513291079284612...   \n",
       "2          2912.0  1.2.840.113543.6.6.4.6.63515355813678132433121...   \n",
       "3          2912.0  1.2.840.113543.6.6.4.6.63385835434171778347132...   \n",
       "4          2912.0  1.2.840.113543.6.6.4.6.62250778798156715321013...   \n",
       "\n",
       "  instancefilename  instanceidk  \n",
       "0         6RYXZNZW        57157  \n",
       "1         6RYXZO03        57158  \n",
       "2         6RYXZO0D        57159  \n",
       "3         6RYXZO0K        57160  \n",
       "4         6RYXZO0Y        57161  "
      ]
     },
     "execution_count": 74,
     "metadata": {},
     "output_type": "execute_result"
    }
   ],
   "source": [
    "cols_to_drop = ['instanceidk_x', 'instanceidk_y']\n",
    "merge_df.drop(labels=cols_to_drop, axis=1, inplace=True)\n",
    "\n",
    "merge_df.head()"
   ]
  },
  {
   "cell_type": "code",
   "execution_count": 75,
   "metadata": {},
   "outputs": [
    {
     "name": "stdout",
     "output_type": "stream",
     "text": [
      "(895167, 4)\n",
      "895167\n",
      "895167\n",
      "895167\n",
      "34665\n"
     ]
    }
   ],
   "source": [
    "print(merge_df.shape)\n",
    "print(len(merge_df['sopinstanceuid'].unique().tolist()))\n",
    "print(len(merge_df['instanceidk'].unique().tolist()))\n",
    "print(len(merge_df['instancefilename'].unique().tolist()))\n",
    "print(len(merge_df['studyseriesidk'].unique().tolist()))"
   ]
  },
  {
   "cell_type": "code",
   "execution_count": 76,
   "metadata": {},
   "outputs": [
    {
     "data": {
      "text/html": [
       "<div>\n",
       "<style scoped>\n",
       "    .dataframe tbody tr th:only-of-type {\n",
       "        vertical-align: middle;\n",
       "    }\n",
       "\n",
       "    .dataframe tbody tr th {\n",
       "        vertical-align: top;\n",
       "    }\n",
       "\n",
       "    .dataframe thead th {\n",
       "        text-align: right;\n",
       "    }\n",
       "</style>\n",
       "<table border=\"1\" class=\"dataframe\">\n",
       "  <thead>\n",
       "    <tr style=\"text-align: right;\">\n",
       "      <th></th>\n",
       "      <th>studyseriesidk</th>\n",
       "      <th>sopinstanceuid</th>\n",
       "      <th>instancefilename</th>\n",
       "      <th>instanceidk</th>\n",
       "      <th>studyinstanceidk</th>\n",
       "    </tr>\n",
       "  </thead>\n",
       "  <tbody>\n",
       "    <tr>\n",
       "      <th>0</th>\n",
       "      <td>2912.0</td>\n",
       "      <td>1.2.840.113543.6.6.4.6.62554526370968849932129...</td>\n",
       "      <td>6RYXZNZW</td>\n",
       "      <td>57157</td>\n",
       "      <td>2882.0</td>\n",
       "    </tr>\n",
       "    <tr>\n",
       "      <th>1</th>\n",
       "      <td>2912.0</td>\n",
       "      <td>1.2.840.113543.6.6.4.6.64175920513291079284612...</td>\n",
       "      <td>6RYXZO03</td>\n",
       "      <td>57158</td>\n",
       "      <td>2882.0</td>\n",
       "    </tr>\n",
       "    <tr>\n",
       "      <th>2</th>\n",
       "      <td>2912.0</td>\n",
       "      <td>1.2.840.113543.6.6.4.6.63515355813678132433121...</td>\n",
       "      <td>6RYXZO0D</td>\n",
       "      <td>57159</td>\n",
       "      <td>2882.0</td>\n",
       "    </tr>\n",
       "    <tr>\n",
       "      <th>3</th>\n",
       "      <td>2912.0</td>\n",
       "      <td>1.2.840.113543.6.6.4.6.63385835434171778347132...</td>\n",
       "      <td>6RYXZO0K</td>\n",
       "      <td>57160</td>\n",
       "      <td>2882.0</td>\n",
       "    </tr>\n",
       "    <tr>\n",
       "      <th>4</th>\n",
       "      <td>2912.0</td>\n",
       "      <td>1.2.840.113543.6.6.4.6.62250778798156715321013...</td>\n",
       "      <td>6RYXZO0Y</td>\n",
       "      <td>57161</td>\n",
       "      <td>2882.0</td>\n",
       "    </tr>\n",
       "  </tbody>\n",
       "</table>\n",
       "</div>"
      ],
      "text/plain": [
       "   studyseriesidk                                     sopinstanceuid  \\\n",
       "0          2912.0  1.2.840.113543.6.6.4.6.62554526370968849932129...   \n",
       "1          2912.0  1.2.840.113543.6.6.4.6.64175920513291079284612...   \n",
       "2          2912.0  1.2.840.113543.6.6.4.6.63515355813678132433121...   \n",
       "3          2912.0  1.2.840.113543.6.6.4.6.63385835434171778347132...   \n",
       "4          2912.0  1.2.840.113543.6.6.4.6.62250778798156715321013...   \n",
       "\n",
       "  instancefilename  instanceidk  studyinstanceidk  \n",
       "0         6RYXZNZW        57157            2882.0  \n",
       "1         6RYXZO03        57158            2882.0  \n",
       "2         6RYXZO0D        57159            2882.0  \n",
       "3         6RYXZO0K        57160            2882.0  \n",
       "4         6RYXZO0Y        57161            2882.0  "
      ]
     },
     "execution_count": 76,
     "metadata": {},
     "output_type": "execute_result"
    }
   ],
   "source": [
    "merge2_df = merge_df.merge(A_study_series_df, on = 'studyseriesidk')\n",
    "\n",
    "merge2_df.head()"
   ]
  },
  {
   "cell_type": "code",
   "execution_count": 69,
   "metadata": {},
   "outputs": [
    {
     "name": "stdout",
     "output_type": "stream",
     "text": [
      "(895167, 7)\n",
      "34665\n"
     ]
    }
   ],
   "source": [
    "print(merge2_df.shape)\n",
    "print(len(merge2_df['studyseriesidk'].unique().tolist()))"
   ]
  },
  {
   "cell_type": "code",
   "execution_count": 77,
   "metadata": {},
   "outputs": [],
   "source": [
    "merge2_df.drop(labels='studyseriesidk', axis=1, inplace=True)"
   ]
  },
  {
   "cell_type": "code",
   "execution_count": 80,
   "metadata": {},
   "outputs": [
    {
     "data": {
      "text/html": [
       "<div>\n",
       "<style scoped>\n",
       "    .dataframe tbody tr th:only-of-type {\n",
       "        vertical-align: middle;\n",
       "    }\n",
       "\n",
       "    .dataframe tbody tr th {\n",
       "        vertical-align: top;\n",
       "    }\n",
       "\n",
       "    .dataframe thead th {\n",
       "        text-align: right;\n",
       "    }\n",
       "</style>\n",
       "<table border=\"1\" class=\"dataframe\">\n",
       "  <thead>\n",
       "    <tr style=\"text-align: right;\">\n",
       "      <th></th>\n",
       "      <th>sopinstanceuid</th>\n",
       "      <th>instancefilename</th>\n",
       "      <th>instanceidk</th>\n",
       "      <th>studyinstanceidk</th>\n",
       "    </tr>\n",
       "  </thead>\n",
       "  <tbody>\n",
       "    <tr>\n",
       "      <th>0</th>\n",
       "      <td>1.2.840.113543.6.6.4.6.62554526370968849932129...</td>\n",
       "      <td>6RYXZNZW</td>\n",
       "      <td>57157</td>\n",
       "      <td>2882</td>\n",
       "    </tr>\n",
       "    <tr>\n",
       "      <th>1</th>\n",
       "      <td>1.2.840.113543.6.6.4.6.64175920513291079284612...</td>\n",
       "      <td>6RYXZO03</td>\n",
       "      <td>57158</td>\n",
       "      <td>2882</td>\n",
       "    </tr>\n",
       "    <tr>\n",
       "      <th>2</th>\n",
       "      <td>1.2.840.113543.6.6.4.6.63515355813678132433121...</td>\n",
       "      <td>6RYXZO0D</td>\n",
       "      <td>57159</td>\n",
       "      <td>2882</td>\n",
       "    </tr>\n",
       "    <tr>\n",
       "      <th>3</th>\n",
       "      <td>1.2.840.113543.6.6.4.6.63385835434171778347132...</td>\n",
       "      <td>6RYXZO0K</td>\n",
       "      <td>57160</td>\n",
       "      <td>2882</td>\n",
       "    </tr>\n",
       "    <tr>\n",
       "      <th>4</th>\n",
       "      <td>1.2.840.113543.6.6.4.6.62250778798156715321013...</td>\n",
       "      <td>6RYXZO0Y</td>\n",
       "      <td>57161</td>\n",
       "      <td>2882</td>\n",
       "    </tr>\n",
       "  </tbody>\n",
       "</table>\n",
       "</div>"
      ],
      "text/plain": [
       "                                      sopinstanceuid instancefilename  \\\n",
       "0  1.2.840.113543.6.6.4.6.62554526370968849932129...         6RYXZNZW   \n",
       "1  1.2.840.113543.6.6.4.6.64175920513291079284612...         6RYXZO03   \n",
       "2  1.2.840.113543.6.6.4.6.63515355813678132433121...         6RYXZO0D   \n",
       "3  1.2.840.113543.6.6.4.6.63385835434171778347132...         6RYXZO0K   \n",
       "4  1.2.840.113543.6.6.4.6.62250778798156715321013...         6RYXZO0Y   \n",
       "\n",
       "   instanceidk  studyinstanceidk  \n",
       "0        57157              2882  \n",
       "1        57158              2882  \n",
       "2        57159              2882  \n",
       "3        57160              2882  \n",
       "4        57161              2882  "
      ]
     },
     "execution_count": 80,
     "metadata": {},
     "output_type": "execute_result"
    }
   ],
   "source": [
    "merge2_df['studyinstanceidk'] = merge2_df['studyinstanceidk'].astype('int')\n",
    "merge2_df.head()"
   ]
  },
  {
   "cell_type": "code",
   "execution_count": 78,
   "metadata": {},
   "outputs": [
    {
     "name": "stdout",
     "output_type": "stream",
     "text": [
      "895167\n",
      "895167\n",
      "895167\n",
      "24997\n"
     ]
    }
   ],
   "source": [
    "print(len(merge2_df['sopinstanceuid'].unique().tolist()))\n",
    "print(len(merge2_df['instanceidk'].unique().tolist()))\n",
    "print(len(merge2_df['instancefilename'].unique().tolist()))\n",
    "print(len(merge2_df['studyinstanceidk'].unique().tolist()))"
   ]
  },
  {
   "cell_type": "code",
   "execution_count": 79,
   "metadata": {},
   "outputs": [],
   "source": [
    "io_views.save_to_db(merge2_df, 'instances_unique_master_list')"
   ]
  },
  {
   "cell_type": "code",
   "execution_count": null,
   "metadata": {},
   "outputs": [],
   "source": []
  },
  {
   "cell_type": "code",
   "execution_count": 26,
   "metadata": {},
   "outputs": [
    {
     "data": {
      "text/plain": [
       "(array([8.95246e+05, 1.52700e+03, 1.27300e+03, 0.00000e+00, 1.00000e+00,\n",
       "        0.00000e+00, 3.90000e+01, 6.00000e+00, 1.10000e+01, 1.00000e+00,\n",
       "        1.00000e+00, 1.00000e+00]),\n",
       " array([ 1.        ,  1.91666667,  2.83333333,  3.75      ,  4.66666667,\n",
       "         5.58333333,  6.5       ,  7.41666667,  8.33333333,  9.25      ,\n",
       "        10.16666667, 11.08333333, 12.        ]),\n",
       " <a list of 12 Patch objects>)"
      ]
     },
     "execution_count": 26,
     "metadata": {},
     "output_type": "execute_result"
    },
    {
     "data": {
      "image/png": "[encoded data removed]",
      "text/plain": [
       "<Figure size 432x288 with 1 Axes>"
      ]
     },
     "metadata": {
      "needs_background": "light"
     },
     "output_type": "display_data"
    }
   ],
   "source": [
    "# filename_list_df['sopinstanceuid'].value_counts()\n",
    "\n",
    "plt.hist(filename_list_df['instanceidk'].value_counts().values, bins=12)"
   ]
  },
  {
   "cell_type": "code",
   "execution_count": 27,
   "metadata": {},
   "outputs": [
    {
     "data": {
      "text/plain": [
       "(902577, 5)"
      ]
     },
     "execution_count": 27,
     "metadata": {},
     "output_type": "execute_result"
    }
   ],
   "source": [
    "filename_list_df.shape"
   ]
  },
  {
   "cell_type": "code",
   "execution_count": null,
   "metadata": {},
   "outputs": [],
   "source": [
    "# wnat to get list of studyidk, instanceidk"
   ]
  },
  {
   "cell_type": "code",
   "execution_count": 43,
   "metadata": {},
   "outputs": [],
   "source": [
    "import s3fs\n",
    "import os\n",
    "from json import load\n",
    "\n",
    "# aws s3 credentials, path\n",
    "with open('credentials_dave.json') as f:\n",
    "    credentials = load(f)\n",
    "s3 = s3fs.S3FileSystem(key=credentials['dssg']['aws_access_key_id'], secret=credentials['dssg']['aws_secret_access_key'])\n",
    "\n",
    "s3_path = 's3://cibercv/' # to which bucket\n",
    "s3_study_paths = s3.ls(s3_path)[1:-1] # list the content of a bucket"
   ]
  },
  {
   "cell_type": "code",
   "execution_count": 50,
   "metadata": {},
   "outputs": [],
   "source": [
    "len(s3_study_paths)\n",
    "study_paths = s3_study_paths[2:-2] #get rid of non-study paths in directory"
   ]
  },
  {
   "cell_type": "code",
   "execution_count": 51,
   "metadata": {
    "collapsed": true
   },
   "outputs": [
    {
     "name": "stdout",
     "output_type": "stream",
     "text": [
      "['cibercv/100000/a_6MI50JZH.dcm', 'cibercv/100000/a_6MI50JZR.dcm', 'cibercv/100000/a_6MI50K04.dcm', 'cibercv/100000/a_6MI50K0H.dcm', 'cibercv/100000/a_6MI50K10.dcm', 'cibercv/100000/a_6MI50K1D.dcm', 'cibercv/100000/a_6MI50K1K.dcm', 'cibercv/100000/a_6MI50K1M.dcm', 'cibercv/100000/a_6MI50K1W.dcm', 'cibercv/100000/a_6MI50K27.dcm', 'cibercv/100000/a_6MI50K2H.dcm', 'cibercv/100000/a_6MI50K2N.dcm', 'cibercv/100000/a_6MI50K2Y.dcm', 'cibercv/100000/a_6MI50K39.dcm', 'cibercv/100000/a_6MI50K3C.dcm', 'cibercv/100000/a_6MI50K3M.dcm', 'cibercv/100000/a_6MI50K3X.dcm', 'cibercv/100000/a_6MI50K47.dcm', 'cibercv/100000/a_6MI50K4E.dcm', 'cibercv/100000/a_6MI50K4H.dcm', 'cibercv/100000/a_6MI50K4J.dcm', 'cibercv/100000/a_6MI50K4M.dcm', 'cibercv/100000/a_6MI50K4O.dcm', 'cibercv/100000/a_6MI50K4R.dcm', 'cibercv/100000/a_6MI50K4T.dcm', 'cibercv/100000/a_6MI50K4V.dcm', 'cibercv/100000/a_6MI50K4X.dcm', 'cibercv/100000/a_6MI50K57.dcm', 'cibercv/100000/a_6MI50K5G.dcm', 'cibercv/100000/a_6MI50K5P.dcm']\n",
      "['cibercv/100009/a_6MI51CPT.dcm', 'cibercv/100009/a_6MI51CR4.dcm', 'cibercv/100009/a_6MI51CTG.dcm', 'cibercv/100009/a_6MI51CU8.dcm', 'cibercv/100009/a_6MI51DAB.dcm', 'cibercv/100009/a_6MI51DAU.dcm', 'cibercv/100009/a_6MI51DDY.dcm', 'cibercv/100009/a_6MI51DFL.dcm', 'cibercv/100009/a_6MI51DG5.dcm', 'cibercv/100009/a_6MI51DK3.dcm', 'cibercv/100009/a_6MI51DLE.dcm', 'cibercv/100009/a_6MI51DND.dcm', 'cibercv/100009/a_6MI51E0P.dcm', 'cibercv/100009/a_6MI51EAP.dcm', 'cibercv/100009/a_6MI51EB8.dcm', 'cibercv/100009/a_6MI51EEW.dcm', 'cibercv/100009/a_6MI51ERN.dcm', 'cibercv/100009/a_6MI51EWE.dcm', 'cibercv/100009/a_6MI51EXA.dcm', 'cibercv/100009/a_6MI51F2J.dcm', 'cibercv/100009/a_6MI51F39.dcm', 'cibercv/100009/a_6MI51F6U.dcm', 'cibercv/100009/a_6MI51FKS.dcm', 'cibercv/100009/a_6MI51FLN.dcm', 'cibercv/100009/a_6MI51FOC.dcm', 'cibercv/100009/a_6MI51FRY.dcm', 'cibercv/100009/a_6MI51FWR.dcm', 'cibercv/100009/a_6MI51GCL.dcm', 'cibercv/100009/a_6MI51GIF.dcm', 'cibercv/100009/a_6MI51GK2.dcm', 'cibercv/100009/a_6MI51GPX.dcm', 'cibercv/100009/a_6MI51H33.dcm', 'cibercv/100009/a_6MI51H4W.dcm', 'cibercv/100009/a_6MI51H9Z.dcm', 'cibercv/100009/a_6MI51HBQ.dcm', 'cibercv/100009/a_6MI51HGJ.dcm']\n",
      "['cibercv/100014/a_6MI52PGR.dcm', 'cibercv/100014/a_6MI52PWM.dcm', 'cibercv/100014/a_6MI52Q0T.dcm', 'cibercv/100014/a_6MI52Q11.dcm', 'cibercv/100014/a_6MI52Q6E.dcm', 'cibercv/100014/a_6MI52Q6U.dcm', 'cibercv/100014/a_6MI52QQ7.dcm', 'cibercv/100014/a_6MI52QU1.dcm', 'cibercv/100014/a_6MI52QWL.dcm', 'cibercv/100014/a_6MI52QYI.dcm', 'cibercv/100014/a_6MI52RHO.dcm', 'cibercv/100014/a_6MI52RI2.dcm', 'cibercv/100014/a_6MI52RLC.dcm', 'cibercv/100014/a_6MI52RO7.dcm', 'cibercv/100014/a_6MI52S5G.dcm', 'cibercv/100014/a_6MI52S5Z.dcm', 'cibercv/100014/a_6MI52SAD.dcm', 'cibercv/100014/a_6MI52SCD.dcm', 'cibercv/100014/a_6MI52SF3.dcm', 'cibercv/100014/a_6MI52SHB.dcm', 'cibercv/100014/a_6MI52SKF.dcm', 'cibercv/100014/a_6MI52SYB.dcm', 'cibercv/100014/a_6MI52T4O.dcm', 'cibercv/100014/a_6MI52TAZ.dcm', 'cibercv/100014/a_6MI52TBM.dcm', 'cibercv/100014/a_6MI52TPH.dcm', 'cibercv/100014/a_6MI52TSL.dcm', 'cibercv/100014/a_6MI52TWW.dcm', 'cibercv/100014/a_6MI52TYY.dcm', 'cibercv/100014/a_6MI52U1U.dcm', 'cibercv/100014/a_6MI52U4E.dcm', 'cibercv/100014/a_6MI52UH6.dcm', 'cibercv/100014/a_6MI52ULA.dcm', 'cibercv/100014/a_6MI52UO1.dcm', 'cibercv/100014/a_6MI52URM.dcm']\n",
      "['cibercv/100019/a_6MI533TF.dcm', 'cibercv/100019/a_6MI5340H.dcm', 'cibercv/100019/a_6MI534J1.dcm', 'cibercv/100019/a_6MI534K9.dcm', 'cibercv/100019/a_6MI534O9.dcm', 'cibercv/100019/a_6MI534XJ.dcm', 'cibercv/100019/a_6MI535CF.dcm', 'cibercv/100019/a_6MI535NT.dcm', 'cibercv/100019/a_6MI53682.dcm', 'cibercv/100019/a_6MI536DZ.dcm', 'cibercv/100019/a_6MI536HA.dcm', 'cibercv/100019/a_6MI536XG.dcm', 'cibercv/100019/a_6MI5373Q.dcm', 'cibercv/100019/a_6MI537PC.dcm', 'cibercv/100019/a_6MI537TQ.dcm', 'cibercv/100019/a_6MI537ZF.dcm', 'cibercv/100019/a_6MI539CW.dcm', 'cibercv/100019/a_6MI539J7.dcm', 'cibercv/100019/a_6MI53A1H.dcm', 'cibercv/100019/a_6MI53A1Y.dcm', 'cibercv/100019/a_6MI53A3Z.dcm', 'cibercv/100019/a_6MI53CZU.dcm', 'cibercv/100019/a_6MI53D74.dcm', 'cibercv/100019/a_6MI53D84.dcm', 'cibercv/100019/a_6MI53DDH.dcm', 'cibercv/100019/a_6MI53DQW.dcm', 'cibercv/100019/a_6MI53DSE.dcm', 'cibercv/100019/a_6MI53DSV.dcm', 'cibercv/100019/a_6MI53DWQ.dcm', 'cibercv/100019/a_6MI53E5N.dcm', 'cibercv/100019/a_6MI53E7E.dcm', 'cibercv/100019/a_6MI53EJJ.dcm', 'cibercv/100019/a_6MI53EMW.dcm', 'cibercv/100019/a_6MI53EO8.dcm', 'cibercv/100019/a_6MI53ESC.dcm', 'cibercv/100019/a_6MI53EXI.dcm', 'cibercv/100019/a_6MI53EYG.dcm', 'cibercv/100019/a_6MI53FB2.dcm', 'cibercv/100019/a_6MI53FDK.dcm', 'cibercv/100019/a_6MI53FHX.dcm', 'cibercv/100019/a_6MI53FJR.dcm', 'cibercv/100019/a_6MI53FLU.dcm', 'cibercv/100019/a_6MI53G3G.dcm', 'cibercv/100019/a_6MI53G67.dcm']\n",
      "['cibercv/100022/a_6MI53IDY.dcm', 'cibercv/100022/a_6MI53IE3.dcm', 'cibercv/100022/a_6MI53IE8.dcm', 'cibercv/100022/a_6MI53IEH.dcm', 'cibercv/100022/a_6MI53IEO.dcm', 'cibercv/100022/a_6MI53IEX.dcm', 'cibercv/100022/a_6MI53IF5.dcm', 'cibercv/100022/a_6MI53IFA.dcm', 'cibercv/100022/a_6MI53IFJ.dcm', 'cibercv/100022/a_6MI53IFR.dcm', 'cibercv/100022/a_6MI53IFU.dcm', 'cibercv/100022/a_6MI53IFX.dcm', 'cibercv/100022/a_6MI53IG5.dcm', 'cibercv/100022/a_6MI53IGB.dcm', 'cibercv/100022/a_6MI53IGF.dcm', 'cibercv/100022/a_6MI53IGJ.dcm', 'cibercv/100022/a_6MI53IGU.dcm', 'cibercv/100022/a_6MI53IGW.dcm', 'cibercv/100022/a_6MI53IGY.dcm', 'cibercv/100022/a_6MI53IH1.dcm', 'cibercv/100022/a_6MI53IH4.dcm', 'cibercv/100022/a_6MI53IHA.dcm', 'cibercv/100022/a_6MI53IHI.dcm', 'cibercv/100022/a_6MI53IHL.dcm', 'cibercv/100022/a_6MI53IHP.dcm', 'cibercv/100022/a_6MI53IHV.dcm', 'cibercv/100022/a_6MI53II2.dcm', 'cibercv/100022/a_6MI53II5.dcm', 'cibercv/100022/a_6MI53IIC.dcm', 'cibercv/100022/a_6MI53IIH.dcm', 'cibercv/100022/a_6MI53IIJ.dcm', 'cibercv/100022/a_6MI53IIU.dcm', 'cibercv/100022/a_6MI53IIZ.dcm', 'cibercv/100022/a_6MI53IJ6.dcm', 'cibercv/100022/a_6MI53IJ8.dcm', 'cibercv/100022/a_6MI53IJE.dcm']\n"
     ]
    }
   ],
   "source": [
    "for study in study_paths[0:5]:\n",
    "    file_list = s3.ls('s3://' + study)\n",
    "    print(file_list)"
   ]
  },
  {
   "cell_type": "code",
   "execution_count": 37,
   "metadata": {},
   "outputs": [
    {
     "data": {
      "text/plain": [
       "1"
      ]
     },
     "execution_count": 37,
     "metadata": {},
     "output_type": "execute_result"
    }
   ],
   "source": [
    "# cond = (filename_list_df['instanceidk'].value_counts() > 1)\n",
    "single = filename_list_df.drop_duplicates(subset='instanceidk')\n",
    "# inst_mult = filename_list_df[cond==True].index\n",
    "single['instanceidk'].value_counts().max()\n",
    "# ddf1 = filename_list_df.groupby(['instanceidk'])"
   ]
  },
  {
   "cell_type": "code",
   "execution_count": 39,
   "metadata": {},
   "outputs": [
    {
     "data": {
      "text/html": [
       "<div>\n",
       "<style scoped>\n",
       "    .dataframe tbody tr th:only-of-type {\n",
       "        vertical-align: middle;\n",
       "    }\n",
       "\n",
       "    .dataframe tbody tr th {\n",
       "        vertical-align: top;\n",
       "    }\n",
       "\n",
       "    .dataframe thead th {\n",
       "        text-align: right;\n",
       "    }\n",
       "</style>\n",
       "<table border=\"1\" class=\"dataframe\">\n",
       "  <thead>\n",
       "    <tr style=\"text-align: right;\">\n",
       "      <th></th>\n",
       "      <th>row_id</th>\n",
       "      <th>instanceidk</th>\n",
       "      <th>instancefilename</th>\n",
       "      <th>sopinstanceuid</th>\n",
       "      <th>seriesdbkey</th>\n",
       "    </tr>\n",
       "  </thead>\n",
       "  <tbody>\n",
       "    <tr>\n",
       "      <th>0</th>\n",
       "      <td>1</td>\n",
       "      <td>57157</td>\n",
       "      <td>6RYXZNZW</td>\n",
       "      <td>1.2.840.113543.6.6.4.6.62554526370968849932129...</td>\n",
       "      <td>2912</td>\n",
       "    </tr>\n",
       "    <tr>\n",
       "      <th>1</th>\n",
       "      <td>2</td>\n",
       "      <td>57158</td>\n",
       "      <td>6RYXZO03</td>\n",
       "      <td>1.2.840.113543.6.6.4.6.64175920513291079284612...</td>\n",
       "      <td>2912</td>\n",
       "    </tr>\n",
       "    <tr>\n",
       "      <th>2</th>\n",
       "      <td>3</td>\n",
       "      <td>57159</td>\n",
       "      <td>6RYXZO0D</td>\n",
       "      <td>1.2.840.113543.6.6.4.6.63515355813678132433121...</td>\n",
       "      <td>2912</td>\n",
       "    </tr>\n",
       "    <tr>\n",
       "      <th>3</th>\n",
       "      <td>4</td>\n",
       "      <td>57160</td>\n",
       "      <td>6RYXZO0K</td>\n",
       "      <td>1.2.840.113543.6.6.4.6.63385835434171778347132...</td>\n",
       "      <td>2912</td>\n",
       "    </tr>\n",
       "    <tr>\n",
       "      <th>4</th>\n",
       "      <td>5</td>\n",
       "      <td>57161</td>\n",
       "      <td>6RYXZO0Y</td>\n",
       "      <td>1.2.840.113543.6.6.4.6.62250778798156715321013...</td>\n",
       "      <td>2912</td>\n",
       "    </tr>\n",
       "  </tbody>\n",
       "</table>\n",
       "</div>"
      ],
      "text/plain": [
       "   row_id  instanceidk instancefilename  \\\n",
       "0       1        57157         6RYXZNZW   \n",
       "1       2        57158         6RYXZO03   \n",
       "2       3        57159         6RYXZO0D   \n",
       "3       4        57160         6RYXZO0K   \n",
       "4       5        57161         6RYXZO0Y   \n",
       "\n",
       "                                      sopinstanceuid  seriesdbkey  \n",
       "0  1.2.840.113543.6.6.4.6.62554526370968849932129...         2912  \n",
       "1  1.2.840.113543.6.6.4.6.64175920513291079284612...         2912  \n",
       "2  1.2.840.113543.6.6.4.6.63515355813678132433121...         2912  \n",
       "3  1.2.840.113543.6.6.4.6.63385835434171778347132...         2912  \n",
       "4  1.2.840.113543.6.6.4.6.62250778798156715321013...         2912  "
      ]
     },
     "execution_count": 39,
     "metadata": {},
     "output_type": "execute_result"
    }
   ],
   "source": [
    "single.head()"
   ]
  }
 ],
 "metadata": {
  "kernelspec": {
   "display_name": "dssg",
   "language": "python",
   "name": "dssg"
  },
  "language_info": {
   "codemirror_mode": {
    "name": "ipython",
    "version": 3
   },
   "file_extension": ".py",
   "mimetype": "text/x-python",
   "name": "python",
   "nbconvert_exporter": "python",
   "pygments_lexer": "ipython3",
   "version": "3.7.3"
  }
 },
 "nbformat": 4,
 "nbformat_minor": 2
}
