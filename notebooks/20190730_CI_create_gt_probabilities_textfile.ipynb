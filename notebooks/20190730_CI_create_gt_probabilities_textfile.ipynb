{
 "cells": [
  {
   "cell_type": "markdown",
   "metadata": {},
   "source": [
    "# Create gt probabilities textfile"
   ]
  },
  {
   "cell_type": "code",
   "execution_count": null,
   "metadata": {},
   "outputs": [],
   "source": [
    "import sys\n",
    "import os\n",
    "project_dir = os.path.dirname(os.getcwd())\n",
    "sys.path.append(project_dir) #notebooks can't look into source unless you append the parent project directory to the path\n",
    "print(project_dir)"
   ]
  },
  {
   "cell_type": "code",
   "execution_count": null,
   "metadata": {},
   "outputs": [],
   "source": [
    "import numpy as np\n",
    "import pandas as pd\n",
    "import matplotlib.pyplot as plt \n",
    "from scipy.misc import imresize\n",
    "import skimage"
   ]
  },
  {
   "cell_type": "code",
   "execution_count": null,
   "metadata": {},
   "outputs": [],
   "source": [
    "from src.d00_utils.db_utils import dbReadWriteViews"
   ]
  },
  {
   "cell_type": "code",
   "execution_count": null,
   "metadata": {},
   "outputs": [],
   "source": [
    "io_views = dbReadWriteViews()"
   ]
  },
  {
   "cell_type": "code",
   "execution_count": null,
   "metadata": {},
   "outputs": [],
   "source": [
    "table = io_views.get_table('frames_by_volume_mask')"
   ]
  },
  {
   "cell_type": "code",
   "execution_count": null,
   "metadata": {},
   "outputs": [],
   "source": [
    "print(table.shape)\n",
    "print(table.head())"
   ]
  },
  {
   "cell_type": "code",
   "execution_count": null,
   "metadata": {},
   "outputs": [],
   "source": [
    "file_lookup = io_views.get_table('instances_unique_master_list')\n",
    "file_lookup.head()"
   ]
  },
  {
   "cell_type": "code",
   "execution_count": null,
   "metadata": {},
   "outputs": [],
   "source": [
    "table_filenames = pd.merge(table, file_lookup, how='left', on =['instanceidk', 'studyidk'])\n",
    "print(table_filenames.shape)\n",
    "table_filenames.head()"
   ]
  },
  {
   "cell_type": "code",
   "execution_count": null,
   "metadata": {},
   "outputs": [],
   "source": [
    "instance_id_list = io_views.get_table('instances_with_labels_scrappy100') #this is the list of 100 study ids from Dave\n",
    "\n",
    "print(instance_id_list.shape)\n",
    "print(instance_id_list.view.value_counts())\n",
    "print(instance_id_list.head())\n",
    "\n",
    "print('check orginal number of instances in table with filenames')\n",
    "instance_id_list = instance_id_list.instanceidk\n",
    "print(table_filenames.instanceidk.nunique())"
   ]
  },
  {
   "cell_type": "code",
   "execution_count": null,
   "metadata": {},
   "outputs": [],
   "source": [
    "#Filter the table_filenames table to only include these 100 studies\n",
    "table_filenames_filtered_100 = table_filenames[table_filenames['instanceidk'].isin(instance_id_list)]"
   ]
  },
  {
   "cell_type": "code",
   "execution_count": null,
   "metadata": {},
   "outputs": [],
   "source": [
    "print(table_filenames_filtered_100.instanceidk.nunique())\n",
    "print(table_filenames_filtered_100.shape)\n",
    "table_filenames_filtered_100.head()"
   ]
  },
  {
   "cell_type": "code",
   "execution_count": null,
   "metadata": {},
   "outputs": [],
   "source": [
    "print(table_filenames_filtered_100.shape)\n",
    "table_filenames_filtered_100.view_name.value_counts()"
   ]
  },
  {
   "cell_type": "code",
   "execution_count": null,
   "metadata": {
    "scrolled": true
   },
   "outputs": [],
   "source": [
    "table_filenames_filtered_100['instanceidk'].count()"
   ]
  },
  {
   "cell_type": "markdown",
   "metadata": {},
   "source": [
    "# Creating probabilities table"
   ]
  },
  {
   "cell_type": "code",
   "execution_count": null,
   "metadata": {},
   "outputs": [],
   "source": [
    "probabilities_df = pd.DataFrame(columns=[\"study\", \"image\", \"plax_far\", \"plax_plax\", \"plax_laz\", \"psax_az\", \"psax_mv\"\n",
    "                                         , \"psax_pap\", \"a2c_lvocc_s\", \"a2c_laocc\", \"a2c\", \"a3c_lvocc_s\", \"a3c_laocc\"\n",
    "                                         , \"a3c\", \"a4c_lvocc_s\", \"a4c_laocc\", \"a4c\", \"a5c\", \"other\", \"rvinf\", \"psax_avz\"\n",
    "                                         , \"suprasternal\", \"subcostal\", \"plax_lac\", \"psax_apex\"])"
   ]
  },
  {
   "cell_type": "code",
   "execution_count": null,
   "metadata": {},
   "outputs": [],
   "source": [
    "for i in table_filenames_filtered_100_melt.index:\n",
    "    probabilities_df.at[i, \"study\"] = '/home/ubuntu/data/01_raw/dcm_sample_labelled'\n",
    "    probabilities_df.at[i, \"image\"] = table_filenames_filtered_100_melt.at[i, 'instancefilename']\n",
    "    if table_filenames_filtered_100_melt.at[i, 'view_only'] == 'a4c':\n",
    "        probabilities_df.at[i, \"a4c\"] = 1\n",
    "    elif table_filenames_filtered_100_melt.at[i, 'view_only'] == 'a2c':\n",
    "        probabilities_df.at[i, \"a2c\"] = 1       "
   ]
  },
  {
   "cell_type": "code",
   "execution_count": null,
   "metadata": {},
   "outputs": [],
   "source": [
    "probabilities_df = probabilities_df.fillna(0)\n",
    "probabilities_df.sum()"
   ]
  },
  {
   "cell_type": "code",
   "execution_count": null,
   "metadata": {},
   "outputs": [],
   "source": [
    "probabilities_df"
   ]
  },
  {
   "cell_type": "code",
   "execution_count": null,
   "metadata": {},
   "outputs": [],
   "source": [
    "#export_csv = probabilities_df.to_csv (r'C:\\Users\\Ron\\Desktop\\export_dataframe.csv', index = None, header=True) \n"
   ]
  }
 ],
 "metadata": {
  "kernelspec": {
   "display_name": "dssg",
   "language": "python",
   "name": "dssg"
  },
  "language_info": {
   "codemirror_mode": {
    "name": "ipython",
    "version": 3
   },
   "file_extension": ".py",
   "mimetype": "text/x-python",
   "name": "python",
   "nbconvert_exporter": "python",
   "pygments_lexer": "ipython3",
   "version": "3.7.3"
  }
 },
 "nbformat": 4,
 "nbformat_minor": 2
}
