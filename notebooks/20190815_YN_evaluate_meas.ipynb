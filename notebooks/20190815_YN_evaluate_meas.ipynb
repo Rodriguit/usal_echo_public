{
 "cells": [
  {
   "cell_type": "code",
   "execution_count": 1,
   "metadata": {},
   "outputs": [],
   "source": [
    "%reload_ext autoreload\n",
    "%autoreload 2"
   ]
  },
  {
   "cell_type": "code",
   "execution_count": 2,
   "metadata": {},
   "outputs": [],
   "source": [
    "import sys\n",
    "sys.path.append('../src')"
   ]
  },
  {
   "cell_type": "code",
   "execution_count": 3,
   "metadata": {},
   "outputs": [
    {
     "name": "stderr",
     "output_type": "stream",
     "text": [
      "/home/ubuntu/anaconda3/envs/usal_echo/lib/python3.6/site-packages/psycopg2/__init__.py:144: UserWarning: The psycopg2 wheel package will be renamed from release 2.8; in order to keep installing from binary please use \"pip install psycopg2-binary\" instead. For details see: <http://initd.org/psycopg/docs/install.html#binary-install-from-pypi>.\n",
      "  \"\"\")\n"
     ]
    },
    {
     "name": "stdout",
     "output_type": "stream",
     "text": [
      "937\n",
      "2088\n",
      "937\n",
      "347\n"
     ]
    },
    {
     "name": "stderr",
     "output_type": "stream",
     "text": [
      "/home/ubuntu/anaconda3/envs/usal_echo/lib/python3.6/site-packages/pandas/core/frame.py:7116: FutureWarning: Sorting because non-concatenation axis is not aligned. A future version\n",
      "of pandas will change to not sort by default.\n",
      "\n",
      "To accept the future behavior, pass 'sort=False'.\n",
      "\n",
      "To retain the current behavior and silence the warning, pass 'sort=True'.\n",
      "\n",
      "  sort=sort,\n"
     ]
    },
    {
     "name": "stdout",
     "output_type": "stream",
     "text": [
      "Confusion matrix, without normalization\n",
      "[[16 32  5]\n",
      " [ 4 15  9]\n",
      " [ 0  1  3]]\n",
      "Normalized confusion matrix\n",
      "[[0.30188679 0.60377358 0.09433962]\n",
      " [0.14285714 0.53571429 0.32142857]\n",
      " [0.         0.25       0.75      ]]\n"
     ]
    },
    {
     "data": {
      "text/html": [
       "<div>\n",
       "<style scoped>\n",
       "    .dataframe tbody tr th:only-of-type {\n",
       "        vertical-align: middle;\n",
       "    }\n",
       "\n",
       "    .dataframe tbody tr th {\n",
       "        vertical-align: top;\n",
       "    }\n",
       "\n",
       "    .dataframe thead th {\n",
       "        text-align: right;\n",
       "    }\n",
       "</style>\n",
       "<table border=\"1\" class=\"dataframe\">\n",
       "  <thead>\n",
       "    <tr style=\"text-align: right;\">\n",
       "      <th></th>\n",
       "      <th>Measurements</th>\n",
       "      <th>Number</th>\n",
       "      <th>Median Value (IQR)</th>\n",
       "      <th>Median Absolute Deviation (% of Manual)</th>\n",
       "    </tr>\n",
       "  </thead>\n",
       "  <tbody>\n",
       "    <tr>\n",
       "      <th>0</th>\n",
       "      <td>Left ventricular diastolic volume, mL</td>\n",
       "      <td>88</td>\n",
       "      <td>90 (69-121)</td>\n",
       "      <td>19 (0)</td>\n",
       "    </tr>\n",
       "    <tr>\n",
       "      <th>1</th>\n",
       "      <td>Left ventricular systolic volume, mL</td>\n",
       "      <td>89</td>\n",
       "      <td>32 (22-49)</td>\n",
       "      <td>18 (0)</td>\n",
       "    </tr>\n",
       "    <tr>\n",
       "      <th>2</th>\n",
       "      <td>Left ventricular ejection fraction, %</td>\n",
       "      <td>85</td>\n",
       "      <td>64 (55-68)</td>\n",
       "      <td>10 (0)</td>\n",
       "    </tr>\n",
       "  </tbody>\n",
       "</table>\n",
       "</div>"
      ],
      "text/plain": [
       "                            Measurements  Number Median Value (IQR)  \\\n",
       "0  Left ventricular diastolic volume, mL      88        90 (69-121)   \n",
       "1   Left ventricular systolic volume, mL      89         32 (22-49)   \n",
       "2  Left ventricular ejection fraction, %      85         64 (55-68)   \n",
       "\n",
       "  Median Absolute Deviation (% of Manual)  \n",
       "0                                  19 (0)  \n",
       "1                                  18 (0)  \n",
       "2                                  10 (0)  "
      ]
     },
     "execution_count": 3,
     "metadata": {},
     "output_type": "execute_result"
    }
   ],
   "source": [
    "from d05_measurement.evaluate_meas import evaluate_meas\n",
    "evaluate_meas('test_downsampleby5')"
   ]
  },
  {
   "cell_type": "markdown",
   "metadata": {},
   "source": [
    "### from d00_utils.db_utils import dbReadWriteMeasurement\n",
    "io_measurement = dbReadWriteMeasurement()\n",
    "evaluations_df = io_measurement.get_table('evaluations')\n",
    "print(evaluations_df.shape)\n",
    "evaluations_df.head()"
   ]
  }
 ],
 "metadata": {
  "kernelspec": {
   "display_name": "Environment (conda_usal_echo)",
   "language": "python",
   "name": "conda_usal_echo"
  },
  "language_info": {
   "codemirror_mode": {
    "name": "ipython",
    "version": 3
   },
   "file_extension": ".py",
   "mimetype": "text/x-python",
   "name": "python",
   "nbconvert_exporter": "python",
   "pygments_lexer": "ipython3",
   "version": "3.6.5"
  }
 },
 "nbformat": 4,
 "nbformat_minor": 2
}
