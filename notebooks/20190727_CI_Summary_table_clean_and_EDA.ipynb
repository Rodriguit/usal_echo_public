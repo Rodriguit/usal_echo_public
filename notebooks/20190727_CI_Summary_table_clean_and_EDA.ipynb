{
 "cells": [
  {
   "cell_type": "markdown",
   "metadata": {},
   "source": [
    "# Summary Table & Finding Codes EDA"
   ]
  },
  {
   "cell_type": "markdown",
   "metadata": {},
   "source": [
    "## Postgres Connections and Functions"
   ]
  },
  {
   "cell_type": "code",
   "execution_count": 7,
   "metadata": {},
   "outputs": [],
   "source": [
    "import sqlalchemy\n",
    "import numpy as np\n",
    "import pandas as pd\n",
    "import psycopg2\n",
    "import seaborn as sns\n",
    "import yaml\n",
    "\n",
    "import matplotlib.pyplot as plt\n",
    "%matplotlib inline"
   ]
  },
  {
   "cell_type": "code",
   "execution_count": 8,
   "metadata": {},
   "outputs": [],
   "source": [
    "#Read in config file\n",
    "with open(\"../conf/local/db.yaml\") as f:\n",
    "    conf=yaml.safe_load(f)"
   ]
  },
  {
   "cell_type": "code",
   "execution_count": 9,
   "metadata": {},
   "outputs": [],
   "source": [
    "# set up sqlalchemy engine\n",
    "host = conf['host']\n",
    "DB = conf['DB']\n",
    "user = conf['user']\n",
    "pw = conf['pw']\n",
    "\n",
    "connection_string = \"postgresql://{}:{}@{}/{}\".format(user, pw, host, DB)\n",
    "conn = sqlalchemy.create_engine(connection_string)"
   ]
  },
  {
   "cell_type": "code",
   "execution_count": 10,
   "metadata": {},
   "outputs": [
    {
     "data": {
      "text/html": [
       "<div>\n",
       "<style scoped>\n",
       "    .dataframe tbody tr th:only-of-type {\n",
       "        vertical-align: middle;\n",
       "    }\n",
       "\n",
       "    .dataframe tbody tr th {\n",
       "        vertical-align: top;\n",
       "    }\n",
       "\n",
       "    .dataframe thead th {\n",
       "        text-align: right;\n",
       "    }\n",
       "</style>\n",
       "<table border=\"1\" class=\"dataframe\">\n",
       "  <thead>\n",
       "    <tr style=\"text-align: right;\">\n",
       "      <th></th>\n",
       "      <th>row_id</th>\n",
       "      <th>studyidk</th>\n",
       "      <th>age</th>\n",
       "      <th>gender</th>\n",
       "      <th>patientweight</th>\n",
       "      <th>patientheight</th>\n",
       "      <th>findingcode</th>\n",
       "      <th>findingcodetext</th>\n",
       "      <th>conclusion</th>\n",
       "      <th>reasonforstudy</th>\n",
       "      <th>studylocation</th>\n",
       "      <th>modality</th>\n",
       "      <th>equipment</th>\n",
       "    </tr>\n",
       "  </thead>\n",
       "  <tbody>\n",
       "    <tr>\n",
       "      <th>0</th>\n",
       "      <td>1</td>\n",
       "      <td>118640</td>\n",
       "      <td>77</td>\n",
       "      <td>M</td>\n",
       "      <td>77</td>\n",
       "      <td>162</td>\n",
       "      <td>LV-0062, LV-0067, LV-0078, LV-0088, RV-0028, R...</td>\n",
       "      <td>Ventrículo izquierdo de dimensiones normales. ...</td>\n",
       "      <td>RS. Buena calidad. ....- VI de tamańo y FEVI n...</td>\n",
       "      <td>SVAo. BAV 2ş</td>\n",
       "      <td></td>\n",
       "      <td>US</td>\n",
       "      <td>EPIQ7-1</td>\n",
       "    </tr>\n",
       "    <tr>\n",
       "      <th>1</th>\n",
       "      <td>2</td>\n",
       "      <td>115777</td>\n",
       "      <td>82</td>\n",
       "      <td>F</td>\n",
       "      <td>45</td>\n",
       "      <td>157</td>\n",
       "      <td>LV-0063, LV-0069, LV-0078, LV-0086, LV-0087, L...</td>\n",
       "      <td>Cavidad del ventrículo izquierdo reducida. Com...</td>\n",
       "      <td>Estudio de buena calidad. Realizado en RS a 70...</td>\n",
       "      <td>Angina inestable</td>\n",
       "      <td></td>\n",
       "      <td>US</td>\n",
       "      <td>ECOEPIQ2</td>\n",
       "    </tr>\n",
       "    <tr>\n",
       "      <th>2</th>\n",
       "      <td>3</td>\n",
       "      <td>49414</td>\n",
       "      <td>67</td>\n",
       "      <td>M</td>\n",
       "      <td>69</td>\n",
       "      <td>168</td>\n",
       "      <td>LV-0077, MV-0108, AV-0087</td>\n",
       "      <td>La fracción de eyección del ventrículo izquier...</td>\n",
       "      <td>Seguimiento de P. con C. valvular e Isquemica....</td>\n",
       "      <td>Seguimiento de P. con C. valvular e Isquemica</td>\n",
       "      <td></td>\n",
       "      <td>SR, US</td>\n",
       "      <td>ECOIE33</td>\n",
       "    </tr>\n",
       "    <tr>\n",
       "      <th>3</th>\n",
       "      <td>4</td>\n",
       "      <td>79460</td>\n",
       "      <td>70</td>\n",
       "      <td>M</td>\n",
       "      <td>68</td>\n",
       "      <td>168</td>\n",
       "      <td>LV-0078, LV-0145, MV-0056, MV-0099, MV-0108, T...</td>\n",
       "      <td>La función sistólica ventricular izquierda es ...</td>\n",
       "      <td>Seguimiento de P.  con C. isquemica cronica  (...</td>\n",
       "      <td>Seguimiento de P.  con C. isquemica cronica  +...</td>\n",
       "      <td></td>\n",
       "      <td>SR, US</td>\n",
       "      <td>AFFINITI_1</td>\n",
       "    </tr>\n",
       "    <tr>\n",
       "      <th>4</th>\n",
       "      <td>5</td>\n",
       "      <td>118806</td>\n",
       "      <td>72</td>\n",
       "      <td>M</td>\n",
       "      <td>63</td>\n",
       "      <td>167</td>\n",
       "      <td>LV-0062, LV-0067, RV-0028, RV-0033, RV-0036, L...</td>\n",
       "      <td>Ventrículo izquierdo de dimensiones normales. ...</td>\n",
       "      <td>Estudio realizado en FA  80-90 . Mala ventana ...</td>\n",
       "      <td></td>\n",
       "      <td></td>\n",
       "      <td>SR, US</td>\n",
       "      <td>AFFINITI_2</td>\n",
       "    </tr>\n",
       "  </tbody>\n",
       "</table>\n",
       "</div>"
      ],
      "text/plain": [
       "  row_id studyidk age gender patientweight patientheight  \\\n",
       "0      1   118640  77      M            77           162   \n",
       "1      2   115777  82      F            45           157   \n",
       "2      3    49414  67      M            69           168   \n",
       "3      4    79460  70      M            68           168   \n",
       "4      5   118806  72      M            63           167   \n",
       "\n",
       "                                         findingcode  \\\n",
       "0  LV-0062, LV-0067, LV-0078, LV-0088, RV-0028, R...   \n",
       "1  LV-0063, LV-0069, LV-0078, LV-0086, LV-0087, L...   \n",
       "2                          LV-0077, MV-0108, AV-0087   \n",
       "3  LV-0078, LV-0145, MV-0056, MV-0099, MV-0108, T...   \n",
       "4  LV-0062, LV-0067, RV-0028, RV-0033, RV-0036, L...   \n",
       "\n",
       "                                     findingcodetext  \\\n",
       "0  Ventrículo izquierdo de dimensiones normales. ...   \n",
       "1  Cavidad del ventrículo izquierdo reducida. Com...   \n",
       "2  La fracción de eyección del ventrículo izquier...   \n",
       "3  La función sistólica ventricular izquierda es ...   \n",
       "4  Ventrículo izquierdo de dimensiones normales. ...   \n",
       "\n",
       "                                          conclusion  \\\n",
       "0  RS. Buena calidad. ....- VI de tamańo y FEVI n...   \n",
       "1  Estudio de buena calidad. Realizado en RS a 70...   \n",
       "2  Seguimiento de P. con C. valvular e Isquemica....   \n",
       "3  Seguimiento de P.  con C. isquemica cronica  (...   \n",
       "4  Estudio realizado en FA  80-90 . Mala ventana ...   \n",
       "\n",
       "                                      reasonforstudy studylocation modality  \\\n",
       "0                                       SVAo. BAV 2ş                     US   \n",
       "1                                   Angina inestable                     US   \n",
       "2      Seguimiento de P. con C. valvular e Isquemica                 SR, US   \n",
       "3  Seguimiento de P.  con C. isquemica cronica  +...                 SR, US   \n",
       "4                                                                    SR, US   \n",
       "\n",
       "    equipment  \n",
       "0     EPIQ7-1  \n",
       "1    ECOEPIQ2  \n",
       "2     ECOIE33  \n",
       "3  AFFINITI_1  \n",
       "4  AFFINITI_2  "
      ]
     },
     "execution_count": 10,
     "metadata": {},
     "output_type": "execute_result"
    }
   ],
   "source": [
    "# Get Summary Datatable\n",
    "query = \"\"\"\n",
    "select * \n",
    "from DM_Spain_VIEW_study_summary;\n",
    "\"\"\"\n",
    "\n",
    "sum_table = pd.read_sql(query, conn)\n",
    "sum_table.head()"
   ]
  },
  {
   "cell_type": "markdown",
   "metadata": {},
   "source": [
    "## Table Cleanup"
   ]
  },
  {
   "cell_type": "code",
   "execution_count": 11,
   "metadata": {},
   "outputs": [],
   "source": [
    "sum_table_clean = sum_table.copy()"
   ]
  },
  {
   "cell_type": "markdown",
   "metadata": {},
   "source": [
    "### Age"
   ]
  },
  {
   "cell_type": "code",
   "execution_count": 12,
   "metadata": {},
   "outputs": [
    {
     "name": "stdout",
     "output_type": "stream",
     "text": [
      "count    25064.000000\n",
      "mean        64.289180\n",
      "std         19.803252\n",
      "min          0.000000\n",
      "25%         55.000000\n",
      "50%         69.000000\n",
      "75%         79.000000\n",
      "max        115.000000\n",
      "Name: age, dtype: float64\n"
     ]
    },
    {
     "data": {
      "image/png": "[encoded data removed]",
      "text/plain": [
       "<Figure size 432x288 with 1 Axes>"
      ]
     },
     "metadata": {
      "needs_background": "light"
     },
     "output_type": "display_data"
    }
   ],
   "source": [
    "# Where value is blank, update value to '1'\n",
    "sum_table_clean['age'] = sum_table_clean['age'].replace('',1)\n",
    "sum_table_clean['age'] = sum_table_clean['age'].replace(np.nan, 1)\n",
    "sum_table_clean['age'] = sum_table_clean['age'].astype(int)\n",
    "\n",
    "# where age is more than 120, update value to '1'\n",
    "sum_table_clean['age'] = sum_table_clean['age'].apply(lambda x: x if x < 120 else 1)\n",
    "print(sum_table_clean['age'].describe())\n",
    "#sum_table_clean['age'].hist()\n",
    "sns.distplot(sum_table_clean['age'])\n",
    "plt.title('Distribution of Age: unknown values =1')\n",
    "plt.show()"
   ]
  },
  {
   "cell_type": "markdown",
   "metadata": {},
   "source": [
    "### Weight"
   ]
  },
  {
   "cell_type": "code",
   "execution_count": 13,
   "metadata": {},
   "outputs": [
    {
     "name": "stdout",
     "output_type": "stream",
     "text": [
      "count    25064.000000\n",
      "mean        65.157816\n",
      "std         26.264251\n",
      "min          0.080000\n",
      "25%         59.000000\n",
      "50%         70.000000\n",
      "75%         80.000000\n",
      "max        193.000000\n",
      "Name: patientweight, dtype: float64\n"
     ]
    },
    {
     "data": {
      "image/png": "[encoded data removed]",
      "text/plain": [
       "<Figure size 432x288 with 1 Axes>"
      ]
     },
     "metadata": {
      "needs_background": "light"
     },
     "output_type": "display_data"
    }
   ],
   "source": [
    "# Where value is blank, update value to '1'\n",
    "sum_table_clean['patientweight'] = sum_table_clean['patientweight'].replace('',1)\n",
    "sum_table_clean['patientweight'] = sum_table_clean['patientweight'].replace(np.nan, 1)\n",
    "sum_table_clean['patientweight'] = sum_table_clean['patientweight'].str.replace(',','.')\n",
    "sum_table_clean['patientweight'] = sum_table_clean['patientweight'].fillna(1)\n",
    "\n",
    "#Change commas to decimal points\n",
    "sum_table_clean['patientweight'] = sum_table_clean['patientweight'].astype(float)\n",
    "\n",
    "# where weigh is more than 440, update value to '1'\n",
    "sum_table_clean['patientweight'] = sum_table_clean['patientweight'].apply(lambda x: x if x < 440 else 1)\n",
    "print(sum_table_clean['patientweight'].describe())\n",
    "#sum_table_clean['patientweight'].hist()\n",
    "sns.distplot(sum_table_clean['patientweight'])\n",
    "plt.title('Distribution of Weight : unknown values = 1')\n",
    "plt.show()"
   ]
  },
  {
   "cell_type": "markdown",
   "metadata": {},
   "source": [
    "### Height"
   ]
  },
  {
   "cell_type": "code",
   "execution_count": 14,
   "metadata": {},
   "outputs": [
    {
     "name": "stdout",
     "output_type": "stream",
     "text": [
      "count    25064.000000\n",
      "mean       146.605724\n",
      "std         51.131713\n",
      "min          1.000000\n",
      "25%        155.000000\n",
      "50%        162.000000\n",
      "75%        170.000000\n",
      "max        200.000000\n",
      "Name: patientheight, dtype: float64\n"
     ]
    },
    {
     "data": {
      "image/png": "[encoded data removed]",
      "text/plain": [
       "<Figure size 432x288 with 1 Axes>"
      ]
     },
     "metadata": {
      "needs_background": "light"
     },
     "output_type": "display_data"
    }
   ],
   "source": [
    "# Where value is blank, update value to '1'\n",
    "sum_table_clean['patientheight'] = sum_table_clean['patientheight'].replace('',1)\n",
    "sum_table_clean['patientheight'] = sum_table_clean['patientheight'].replace(np.nan, 1)\n",
    "sum_table_clean['patientheight'] = sum_table_clean['patientheight'].str.replace(',','.').astype(float)\n",
    "sum_table_clean['patientheight'] = sum_table_clean['patientheight'].fillna(1)\n",
    "\n",
    "#Change commas to decimal points\n",
    "sum_table_clean['patientheight'] = sum_table_clean['patientheight'].astype(float)\n",
    "\n",
    "# where height is more than 250, update value to '1'\n",
    "sum_table_clean['patientheight'] = sum_table_clean['patientheight'].apply(lambda x: x if x < 250 else 1)\n",
    "print(sum_table_clean['patientheight'].describe())\n",
    "#sum_table_clean['patientheight'].hist()\n",
    "sns.distplot(sum_table_clean['patientheight'])\n",
    "plt.title('Distribution of Height : unknown values = 1')\n",
    "plt.show()"
   ]
  },
  {
   "cell_type": "markdown",
   "metadata": {},
   "source": [
    "## Create Features"
   ]
  },
  {
   "cell_type": "markdown",
   "metadata": {},
   "source": [
    "### BMI"
   ]
  },
  {
   "cell_type": "code",
   "execution_count": 15,
   "metadata": {},
   "outputs": [],
   "source": [
    "# Create BMI feature\n",
    "#https://www.cdc.gov/nccdphp/dnpao/growthcharts/training/bmiage/page5_1.html\n",
    "# [weight (kg) / height (cm) / height (cm)] x 10,000\n",
    "def calc_bmi(weight_kg, height_cm):\n",
    "    return ((weight_kg/height_cm/height_cm)*10000)"
   ]
  },
  {
   "cell_type": "code",
   "execution_count": 16,
   "metadata": {},
   "outputs": [],
   "source": [
    "# Create BMI Columns\n",
    "sum_table_clean['BMI'] = sum_table_clean.apply(lambda x: calc_bmi(x.patientweight, x.patientheight), axis=1)\n",
    "\n",
    "# where BMI is more than 45, update value to '1'\n",
    "sum_table_clean['BMI'] = sum_table_clean['BMI'].apply(lambda x: x if x < 45 else 1)\n",
    "# where BMI is less than 15, update value to '1'\n",
    "sum_table_clean['BMI'] = sum_table_clean['BMI'].apply(lambda x: x if x > 15 else 1)"
   ]
  },
  {
   "cell_type": "code",
   "execution_count": 17,
   "metadata": {},
   "outputs": [
    {
     "name": "stdout",
     "output_type": "stream",
     "text": [
      "count    25064.000000\n",
      "mean        23.771455\n",
      "std          9.233790\n",
      "min          1.000000\n",
      "25%         22.405877\n",
      "50%         25.677297\n",
      "75%         28.906250\n",
      "max         44.997166\n",
      "Name: BMI, dtype: float64\n"
     ]
    },
    {
     "data": {
      "image/png": "[encoded data removed]",
      "text/plain": [
       "<Figure size 432x288 with 1 Axes>"
      ]
     },
     "metadata": {
      "needs_background": "light"
     },
     "output_type": "display_data"
    }
   ],
   "source": [
    "print(sum_table_clean['BMI'].describe())\n",
    "#sum_table_clean['BMI'].hist()\n",
    "sns.distplot(sum_table_clean['BMI'])\n",
    "plt.title('Distribution of BMI: unknown values = 1')\n",
    "plt.show()"
   ]
  },
  {
   "cell_type": "markdown",
   "metadata": {},
   "source": [
    "### Finding Codes of Interest"
   ]
  },
  {
   "cell_type": "code",
   "execution_count": 18,
   "metadata": {},
   "outputs": [],
   "source": [
    "#codes for each of the pathologies\n",
    "pathologies_of_interest = {'LV-0068', 'LV-0144', 'LV-0069', 'LV-0070', 'LV-0065', 'LV-0062'\n",
    "                    ,'LV-0061', 'LV-0080','LV-0077','LV-0078'\n",
    "                    , 'LV-0061', 'LA-0016', 'LA-0013', 'SU-0032'}\n",
    "\n",
    "# Pathology dictonary\n",
    "pathdict = {\"LV-0062\": \"HC_F\"\n",
    "            ,\"SU-0032\": \"Norm\"\n",
    "            ,\"LV-0078\": \"RLVEF_F\"\n",
    "            ,\"LV-0077\": \"RLVEF_F\"\n",
    "            ,\"LV-0061\": \"RLVEF_F\"\n",
    "            ,\"LV-0080\": \"RLVEF_T\"\n",
    "            ,\"LV-0068\": \"HC_T\"\n",
    "            ,\"LA-0016\": \"DLA_T\"\n",
    "            ,\"LV-0065\": \"HC_F\"\n",
    "            ,\"LV-0144\": \"HC_T\"\n",
    "            ,\"LV-0070\": \"HC_C\"\n",
    "            ,\"LA-0013\": \"DLA_F\"\n",
    "            ,\"LV-0069\": \"HC_C\"\n",
    "           }\n",
    "\n",
    "# Pathology codes\n",
    "HC_T_codes = {'LV-0144', 'LV-0068'}\n",
    "HC_F_codes = {'LV-0062', 'LV-0065', 'LV-0061'}\n",
    "HC_C_codes = {'LV-0069', 'LV-0070'}\n",
    "\n",
    "RLVEF_T_codes = {'LV-0080'}\n",
    "RLVEF_F_codes = {'LV-0061', 'LV-0077', 'LV-0078'}\n",
    "\n",
    "DLA_T_codes = {'LA-0016'}\n",
    "DLA_F_codes = {'LA-0013'}\n",
    "\n",
    "Norm_codes = {'SU-0032'}"
   ]
  },
  {
   "cell_type": "code",
   "execution_count": 19,
   "metadata": {},
   "outputs": [],
   "source": [
    "def create_pathology_column(study_table, path_codes, path_name):\n",
    "    #puts the code of interest in a new column\n",
    "    study_table[path_name] = study_table.findingcode.apply(lambda x: intersection(x, path_codes)) \n",
    "    #replace the codes with 0 or 1 (NOTE: could return higher than 1 error?  needs to be handled)\n",
    "    study_table[path_name] = study_table[path_name].apply(lambda x : len(x))\n",
    "    \n",
    "    #Convert the code from a list to a string\n",
    "    #study_table[path_name] = study_table[path_name].apply(lambda x : ''.join(x))\n",
    "    # replace the codes with the pathology names\n",
    "    #study_table = study_table.replace({path_name: pathdict})\n",
    "    return study_table"
   ]
  },
  {
   "cell_type": "code",
   "execution_count": 20,
   "metadata": {},
   "outputs": [],
   "source": [
    "def intersection(lst1, lst2): \n",
    "#https://www.geeksforgeeks.org/python-intersection-of-multiple-lists/      \n",
    "    return [item for item in lst1 if item in lst2] "
   ]
  },
  {
   "cell_type": "code",
   "execution_count": 21,
   "metadata": {},
   "outputs": [],
   "source": [
    "# turn the findingcode column into a list\n",
    "sum_table_clean.findingcode = sum_table_clean.findingcode.apply(lambda x: x.split(\",\"))"
   ]
  },
  {
   "cell_type": "code",
   "execution_count": 22,
   "metadata": {},
   "outputs": [],
   "source": [
    "# adding pathology column\n",
    "sum_table_clean = create_pathology_column(sum_table_clean, HC_T_codes, \"HC_T\")\n",
    "sum_table_clean = create_pathology_column(sum_table_clean, HC_F_codes, \"HC_F\")\n",
    "sum_table_clean = create_pathology_column(sum_table_clean, HC_C_codes, \"HC_C\")\n",
    "sum_table_clean = create_pathology_column(sum_table_clean, RLVEF_T_codes, \"RLVEF_T\")\n",
    "sum_table_clean = create_pathology_column(sum_table_clean, RLVEF_F_codes, \"RLVEF_F\")\n",
    "sum_table_clean = create_pathology_column(sum_table_clean, DLA_T_codes, \"DLA_T\")\n",
    "sum_table_clean = create_pathology_column(sum_table_clean, DLA_F_codes, \"DLA_F\")\n",
    "sum_table_clean = create_pathology_column(sum_table_clean, Norm_codes, \"Norm\")"
   ]
  },
  {
   "cell_type": "code",
   "execution_count": 23,
   "metadata": {},
   "outputs": [
    {
     "data": {
      "text/html": [
       "<div>\n",
       "<style scoped>\n",
       "    .dataframe tbody tr th:only-of-type {\n",
       "        vertical-align: middle;\n",
       "    }\n",
       "\n",
       "    .dataframe tbody tr th {\n",
       "        vertical-align: top;\n",
       "    }\n",
       "\n",
       "    .dataframe thead th {\n",
       "        text-align: right;\n",
       "    }\n",
       "</style>\n",
       "<table border=\"1\" class=\"dataframe\">\n",
       "  <thead>\n",
       "    <tr style=\"text-align: right;\">\n",
       "      <th></th>\n",
       "      <th>row_id</th>\n",
       "      <th>studyidk</th>\n",
       "      <th>age</th>\n",
       "      <th>gender</th>\n",
       "      <th>patientweight</th>\n",
       "      <th>patientheight</th>\n",
       "      <th>findingcode</th>\n",
       "      <th>findingcodetext</th>\n",
       "      <th>conclusion</th>\n",
       "      <th>reasonforstudy</th>\n",
       "      <th>...</th>\n",
       "      <th>equipment</th>\n",
       "      <th>BMI</th>\n",
       "      <th>HC_T</th>\n",
       "      <th>HC_F</th>\n",
       "      <th>HC_C</th>\n",
       "      <th>RLVEF_T</th>\n",
       "      <th>RLVEF_F</th>\n",
       "      <th>DLA_T</th>\n",
       "      <th>DLA_F</th>\n",
       "      <th>Norm</th>\n",
       "    </tr>\n",
       "  </thead>\n",
       "  <tbody>\n",
       "    <tr>\n",
       "      <th>0</th>\n",
       "      <td>1</td>\n",
       "      <td>118640</td>\n",
       "      <td>77</td>\n",
       "      <td>M</td>\n",
       "      <td>77.0</td>\n",
       "      <td>162.0</td>\n",
       "      <td>[LV-0062,  LV-0067,  LV-0078,  LV-0088,  RV-00...</td>\n",
       "      <td>Ventrículo izquierdo de dimensiones normales. ...</td>\n",
       "      <td>RS. Buena calidad. ....- VI de tamańo y FEVI n...</td>\n",
       "      <td>SVAo. BAV 2ş</td>\n",
       "      <td>...</td>\n",
       "      <td>EPIQ7-1</td>\n",
       "      <td>29.340040</td>\n",
       "      <td>0</td>\n",
       "      <td>1</td>\n",
       "      <td>0</td>\n",
       "      <td>0</td>\n",
       "      <td>0</td>\n",
       "      <td>0</td>\n",
       "      <td>0</td>\n",
       "      <td>0</td>\n",
       "    </tr>\n",
       "    <tr>\n",
       "      <th>1</th>\n",
       "      <td>2</td>\n",
       "      <td>115777</td>\n",
       "      <td>82</td>\n",
       "      <td>F</td>\n",
       "      <td>45.0</td>\n",
       "      <td>157.0</td>\n",
       "      <td>[LV-0063,  LV-0069,  LV-0078,  LV-0086,  LV-00...</td>\n",
       "      <td>Cavidad del ventrículo izquierdo reducida. Com...</td>\n",
       "      <td>Estudio de buena calidad. Realizado en RS a 70...</td>\n",
       "      <td>Angina inestable</td>\n",
       "      <td>...</td>\n",
       "      <td>ECOEPIQ2</td>\n",
       "      <td>18.256319</td>\n",
       "      <td>0</td>\n",
       "      <td>0</td>\n",
       "      <td>0</td>\n",
       "      <td>0</td>\n",
       "      <td>0</td>\n",
       "      <td>0</td>\n",
       "      <td>0</td>\n",
       "      <td>0</td>\n",
       "    </tr>\n",
       "    <tr>\n",
       "      <th>2</th>\n",
       "      <td>3</td>\n",
       "      <td>49414</td>\n",
       "      <td>67</td>\n",
       "      <td>M</td>\n",
       "      <td>69.0</td>\n",
       "      <td>168.0</td>\n",
       "      <td>[LV-0077,  MV-0108,  AV-0087]</td>\n",
       "      <td>La fracción de eyección del ventrículo izquier...</td>\n",
       "      <td>Seguimiento de P. con C. valvular e Isquemica....</td>\n",
       "      <td>Seguimiento de P. con C. valvular e Isquemica</td>\n",
       "      <td>...</td>\n",
       "      <td>ECOIE33</td>\n",
       "      <td>24.447279</td>\n",
       "      <td>0</td>\n",
       "      <td>0</td>\n",
       "      <td>0</td>\n",
       "      <td>0</td>\n",
       "      <td>1</td>\n",
       "      <td>0</td>\n",
       "      <td>0</td>\n",
       "      <td>0</td>\n",
       "    </tr>\n",
       "    <tr>\n",
       "      <th>3</th>\n",
       "      <td>4</td>\n",
       "      <td>79460</td>\n",
       "      <td>70</td>\n",
       "      <td>M</td>\n",
       "      <td>68.0</td>\n",
       "      <td>168.0</td>\n",
       "      <td>[LV-0078,  LV-0145,  MV-0056,  MV-0099,  MV-01...</td>\n",
       "      <td>La función sistólica ventricular izquierda es ...</td>\n",
       "      <td>Seguimiento de P.  con C. isquemica cronica  (...</td>\n",
       "      <td>Seguimiento de P.  con C. isquemica cronica  +...</td>\n",
       "      <td>...</td>\n",
       "      <td>AFFINITI_1</td>\n",
       "      <td>24.092971</td>\n",
       "      <td>0</td>\n",
       "      <td>0</td>\n",
       "      <td>0</td>\n",
       "      <td>0</td>\n",
       "      <td>1</td>\n",
       "      <td>0</td>\n",
       "      <td>0</td>\n",
       "      <td>0</td>\n",
       "    </tr>\n",
       "    <tr>\n",
       "      <th>4</th>\n",
       "      <td>5</td>\n",
       "      <td>118806</td>\n",
       "      <td>72</td>\n",
       "      <td>M</td>\n",
       "      <td>63.0</td>\n",
       "      <td>167.0</td>\n",
       "      <td>[LV-0062,  LV-0067,  RV-0028,  RV-0033,  RV-00...</td>\n",
       "      <td>Ventrículo izquierdo de dimensiones normales. ...</td>\n",
       "      <td>Estudio realizado en FA  80-90 . Mala ventana ...</td>\n",
       "      <td></td>\n",
       "      <td>...</td>\n",
       "      <td>AFFINITI_2</td>\n",
       "      <td>22.589551</td>\n",
       "      <td>0</td>\n",
       "      <td>1</td>\n",
       "      <td>0</td>\n",
       "      <td>0</td>\n",
       "      <td>0</td>\n",
       "      <td>0</td>\n",
       "      <td>0</td>\n",
       "      <td>0</td>\n",
       "    </tr>\n",
       "  </tbody>\n",
       "</table>\n",
       "<p>5 rows × 22 columns</p>\n",
       "</div>"
      ],
      "text/plain": [
       "  row_id studyidk  age gender  patientweight  patientheight  \\\n",
       "0      1   118640   77      M           77.0          162.0   \n",
       "1      2   115777   82      F           45.0          157.0   \n",
       "2      3    49414   67      M           69.0          168.0   \n",
       "3      4    79460   70      M           68.0          168.0   \n",
       "4      5   118806   72      M           63.0          167.0   \n",
       "\n",
       "                                         findingcode  \\\n",
       "0  [LV-0062,  LV-0067,  LV-0078,  LV-0088,  RV-00...   \n",
       "1  [LV-0063,  LV-0069,  LV-0078,  LV-0086,  LV-00...   \n",
       "2                      [LV-0077,  MV-0108,  AV-0087]   \n",
       "3  [LV-0078,  LV-0145,  MV-0056,  MV-0099,  MV-01...   \n",
       "4  [LV-0062,  LV-0067,  RV-0028,  RV-0033,  RV-00...   \n",
       "\n",
       "                                     findingcodetext  \\\n",
       "0  Ventrículo izquierdo de dimensiones normales. ...   \n",
       "1  Cavidad del ventrículo izquierdo reducida. Com...   \n",
       "2  La fracción de eyección del ventrículo izquier...   \n",
       "3  La función sistólica ventricular izquierda es ...   \n",
       "4  Ventrículo izquierdo de dimensiones normales. ...   \n",
       "\n",
       "                                          conclusion  \\\n",
       "0  RS. Buena calidad. ....- VI de tamańo y FEVI n...   \n",
       "1  Estudio de buena calidad. Realizado en RS a 70...   \n",
       "2  Seguimiento de P. con C. valvular e Isquemica....   \n",
       "3  Seguimiento de P.  con C. isquemica cronica  (...   \n",
       "4  Estudio realizado en FA  80-90 . Mala ventana ...   \n",
       "\n",
       "                                      reasonforstudy  ...   equipment  \\\n",
       "0                                       SVAo. BAV 2ş  ...     EPIQ7-1   \n",
       "1                                   Angina inestable  ...    ECOEPIQ2   \n",
       "2      Seguimiento de P. con C. valvular e Isquemica  ...     ECOIE33   \n",
       "3  Seguimiento de P.  con C. isquemica cronica  +...  ...  AFFINITI_1   \n",
       "4                                                     ...  AFFINITI_2   \n",
       "\n",
       "         BMI HC_T  HC_F  HC_C  RLVEF_T  RLVEF_F  DLA_T  DLA_F  Norm  \n",
       "0  29.340040    0     1     0        0        0      0      0     0  \n",
       "1  18.256319    0     0     0        0        0      0      0     0  \n",
       "2  24.447279    0     0     0        0        1      0      0     0  \n",
       "3  24.092971    0     0     0        0        1      0      0     0  \n",
       "4  22.589551    0     1     0        0        0      0      0     0  \n",
       "\n",
       "[5 rows x 22 columns]"
      ]
     },
     "execution_count": 23,
     "metadata": {},
     "output_type": "execute_result"
    }
   ],
   "source": [
    "sum_table_clean.head()"
   ]
  },
  {
   "cell_type": "markdown",
   "metadata": {},
   "source": [
    "## Histograms: Pathologies by Demographics"
   ]
  },
  {
   "cell_type": "code",
   "execution_count": 24,
   "metadata": {},
   "outputs": [
    {
     "data": {
      "text/plain": [
       "100"
      ]
     },
     "execution_count": 24,
     "metadata": {},
     "output_type": "execute_result"
    }
   ],
   "source": [
    "sum_table_clean['HC_T'].sum()"
   ]
  },
  {
   "cell_type": "code",
   "execution_count": 25,
   "metadata": {},
   "outputs": [
    {
     "data": {
      "text/html": [
       "<div>\n",
       "<style scoped>\n",
       "    .dataframe tbody tr th:only-of-type {\n",
       "        vertical-align: middle;\n",
       "    }\n",
       "\n",
       "    .dataframe tbody tr th {\n",
       "        vertical-align: top;\n",
       "    }\n",
       "\n",
       "    .dataframe thead th {\n",
       "        text-align: right;\n",
       "    }\n",
       "</style>\n",
       "<table border=\"1\" class=\"dataframe\">\n",
       "  <thead>\n",
       "    <tr style=\"text-align: right;\">\n",
       "      <th></th>\n",
       "      <th>Findingcode diagnosing disease</th>\n",
       "      <th>Findingcode compatible with disease</th>\n",
       "      <th>Findingcode normal for this pathology</th>\n",
       "    </tr>\n",
       "  </thead>\n",
       "  <tbody>\n",
       "    <tr>\n",
       "      <th>Hypertrophic Cardiomyopathy</th>\n",
       "      <td>100</td>\n",
       "      <td>12</td>\n",
       "      <td>15447</td>\n",
       "    </tr>\n",
       "    <tr>\n",
       "      <th>Reduced Left Ventricle Ejection Fraction</th>\n",
       "      <td>415</td>\n",
       "      <td></td>\n",
       "      <td>1741</td>\n",
       "    </tr>\n",
       "    <tr>\n",
       "      <th>Dilated Left Atria</th>\n",
       "      <td>68</td>\n",
       "      <td></td>\n",
       "      <td>5</td>\n",
       "    </tr>\n",
       "    <tr>\n",
       "      <th>Normal study</th>\n",
       "      <td>1857</td>\n",
       "      <td></td>\n",
       "      <td></td>\n",
       "    </tr>\n",
       "  </tbody>\n",
       "</table>\n",
       "</div>"
      ],
      "text/plain": [
       "                                          Findingcode diagnosing disease  \\\n",
       "Hypertrophic Cardiomyopathy                                          100   \n",
       "Reduced Left Ventricle Ejection Fraction                             415   \n",
       "Dilated Left Atria                                                    68   \n",
       "Normal study                                                        1857   \n",
       "\n",
       "                                         Findingcode compatible with disease  \\\n",
       "Hypertrophic Cardiomyopathy                                               12   \n",
       "Reduced Left Ventricle Ejection Fraction                                       \n",
       "Dilated Left Atria                                                             \n",
       "Normal study                                                                   \n",
       "\n",
       "                                         Findingcode normal for this pathology  \n",
       "Hypertrophic Cardiomyopathy                                              15447  \n",
       "Reduced Left Ventricle Ejection Fraction                                  1741  \n",
       "Dilated Left Atria                                                           5  \n",
       "Normal study                                                                    "
      ]
     },
     "execution_count": 25,
     "metadata": {},
     "output_type": "execute_result"
    }
   ],
   "source": [
    "# Create a table of relevant findingcodes/pathologies\n",
    "\n",
    "columns = [\"Findingcode diagnosing disease\",\n",
    "           \"Findingcode compatible with disease\", \n",
    "           \"Findingcode normal for this pathology\"]\n",
    "rows = [\"Hypertrophic Cardiomyopathy\",\n",
    "        \"Reduced Left Ventricle Ejection Fraction\",\n",
    "       \"Dilated Left Atria\",\n",
    "       \"Normal study\"]\n",
    "data=[[sum_table_clean['HC_T'].sum(), sum_table_clean['HC_C'].sum(), sum_table_clean['HC_F'].sum()],\n",
    "     [sum_table_clean['RLVEF_T'].sum(), \" \", sum_table_clean['RLVEF_F'].sum()],\n",
    "     [sum_table_clean['DLA_T'].sum(), \" \", sum_table_clean['DLA_F'].sum()],\n",
    "     [sum_table_clean['Norm'].sum(), \" \", \" \"]]\n",
    "\n",
    "ResultsTable = pd.DataFrame(index=rows, columns=columns, data=data)\n",
    "\n",
    "ResultsTable\n"
   ]
  },
  {
   "cell_type": "markdown",
   "metadata": {},
   "source": [
    "## Pathologies present by age, weight, height and BMI"
   ]
  },
  {
   "cell_type": "code",
   "execution_count": 26,
   "metadata": {
    "scrolled": true
   },
   "outputs": [
    {
     "data": {
      "image/png": "[encoded data removed]",
      "text/plain": [
       "<Figure size 1296x864 with 12 Axes>"
      ]
     },
     "metadata": {
      "needs_background": "light"
     },
     "output_type": "display_data"
    }
   ],
   "source": [
    "HC_T_Table = sum_table_clean[sum_table_clean['HC_T'] == 1]\n",
    "RLVEF_T_Table = sum_table_clean[sum_table_clean['RLVEF_T'] == 1]\n",
    "DLA_T_Table = sum_table_clean[sum_table_clean['DLA_T'] == 1]\n",
    "\n",
    "# Age, weight, hieght, and BMI for HC_T\n",
    "plt.figure(figsize=(18, 12))\n",
    "\n",
    "plt.subplot(3, 4, 1)\n",
    "HC_T_Table.age.hist()\n",
    "plt.grid(b=None)\n",
    "plt.title('Hypertropic Cardiomypathy (by Age)')\n",
    "plt.xlabel('age (years)')\n",
    "plt.ylabel('Number of cases')\n",
    "\n",
    "plt.subplot(3, 4, 5)\n",
    "RLVEF_T_Table.age.hist(color='red')\n",
    "plt.grid(b=None)\n",
    "plt.title('Left Ventricle Ejection Fraction (by Age)')\n",
    "plt.xlabel('age (years)')\n",
    "plt.ylabel('Number of cases')\n",
    "\n",
    "plt.subplot(3, 4, 9)\n",
    "DLA_T_Table.age.hist(color='green')\n",
    "plt.grid(b=None)\n",
    "plt.title('Dilated Left Ventricle (by Age)')\n",
    "plt.xlabel('age (years)')\n",
    "plt.ylabel('Number of cases')\n",
    "\n",
    "plt.subplot(3, 4, 2)\n",
    "HC_T_Table.patientweight.hist()\n",
    "#plt.yticks(range(0, 4500, 500), fontsize=14) \n",
    "plt.grid(b=None)\n",
    "plt.title('Hypertropic Cardiomypathy (by Weight)')\n",
    "plt.xlabel('Weight (kg)')\n",
    "plt.ylabel('Number of cases')\n",
    "\n",
    "plt.subplot(3, 4, 6)\n",
    "RLVEF_T_Table.patientweight.hist(color='red')\n",
    "#plt.yticks(range(0, 4500, 500), fontsize=14) \n",
    "plt.grid(b=None)\n",
    "plt.title('Left Ventricle Ejection Fraction (by Weight)')\n",
    "plt.xlabel('Weight (kg)')\n",
    "plt.ylabel('Number of cases')\n",
    "\n",
    "plt.subplot(3, 4, 10)\n",
    "DLA_T_Table.patientweight.hist(color='green')\n",
    "#plt.yticks(range(0, 4500, 500), fontsize=14) \n",
    "plt.grid(b=None)\n",
    "plt.title('Dilated Left Ventricle (by Weight)')\n",
    "plt.xlabel('Weight (kg)')\n",
    "plt.ylabel('Number of cases')\n",
    "\n",
    "plt.subplot(3, 4, 3)\n",
    "HC_T_Table.patientheight.hist()\n",
    "#plt.yticks(range(0, 4500, 500), fontsize=14) \n",
    "plt.grid(b=None)\n",
    "plt.title('Hypertropic Cardiomypathy (by Height)')\n",
    "plt.xlabel('Height (cm)')\n",
    "plt.ylabel('Number of cases')\n",
    "\n",
    "plt.subplot(3, 4, 7)\n",
    "RLVEF_T_Table.patientheight.hist(color='red')\n",
    "#plt.yticks(range(0, 4500, 500), fontsize=14) \n",
    "plt.grid(b=None)\n",
    "plt.title('Left Ventricle Ejection Fraction (by Height)')\n",
    "plt.xlabel('Height (cm)')\n",
    "plt.ylabel('Number of cases')\n",
    "\n",
    "plt.subplot(3, 4, 11)\n",
    "DLA_T_Table.patientheight.hist(color='green')\n",
    "#plt.yticks(range(0, 4500, 500), fontsize=14) \n",
    "plt.grid(b=None)\n",
    "plt.title('Dilated Left Ventricle (by Height)')\n",
    "plt.xlabel('Height (cm)')\n",
    "plt.ylabel('Number of cases')\n",
    "\n",
    "plt.subplot(3, 4, 4)\n",
    "HC_T_Table.BMI.hist()\n",
    "#plt.yticks(range(0, 4500, 500), fontsize=14) \n",
    "plt.grid(b=None)\n",
    "plt.title('Hypertropic Cardiomypathy (by BMI)')\n",
    "plt.xlabel('BMI')\n",
    "plt.ylabel('Number of cases')\n",
    "\n",
    "plt.subplot(3, 4, 8)\n",
    "RLVEF_T_Table.BMI.hist(color='red')\n",
    "#plt.yticks(range(0, 4500, 500), fontsize=14) \n",
    "plt.grid(b=None)\n",
    "plt.title('Left Ventricle Ejection Fraction (by BMI)')\n",
    "plt.xlabel('BMI')\n",
    "plt.ylabel('Number of cases')\n",
    "\n",
    "plt.subplot(3, 4, 12)\n",
    "DLA_T_Table.BMI.hist(color='green')\n",
    "#plt.yticks(range(0, 4500, 500), fontsize=14) \n",
    "plt.grid(b=None)\n",
    "plt.title('Dilated Left Ventricle (by BMI)')\n",
    "plt.xlabel('BMI')\n",
    "plt.ylabel('Number of cases')\n",
    "\n",
    "plt.tight_layout()\n",
    "plt.show()"
   ]
  }
 ],
 "metadata": {
  "kernelspec": {
   "display_name": "dssg",
   "language": "python",
   "name": "dssg"
  },
  "language_info": {
   "codemirror_mode": {
    "name": "ipython",
    "version": 3
   },
   "file_extension": ".py",
   "mimetype": "text/x-python",
   "name": "python",
   "nbconvert_exporter": "python",
   "pygments_lexer": "ipython3",
   "version": "3.7.3"
  }
 },
 "nbformat": 4,
 "nbformat_minor": 2
}
