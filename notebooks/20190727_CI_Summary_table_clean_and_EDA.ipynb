{
 "cells": [
  {
   "cell_type": "markdown",
   "metadata": {},
   "source": [
    "# Summary Table & Finding Codes EDA"
   ]
  },
  {
   "cell_type": "markdown",
   "metadata": {},
   "source": [
    "## Postgres Connections and Functions"
   ]
  },
  {
   "cell_type": "code",
   "execution_count": 1,
   "metadata": {},
   "outputs": [
    {
     "ename": "ModuleNotFoundError",
     "evalue": "No module named 'yaml'",
     "output_type": "error",
     "traceback": [
      "\u001b[1;31m---------------------------------------------------------------------------\u001b[0m",
      "\u001b[1;31mModuleNotFoundError\u001b[0m                       Traceback (most recent call last)",
      "\u001b[1;32m<ipython-input-1-005ad2dec175>\u001b[0m in \u001b[0;36m<module>\u001b[1;34m\u001b[0m\n\u001b[0;32m      4\u001b[0m \u001b[1;32mimport\u001b[0m \u001b[0mpsycopg2\u001b[0m\u001b[1;33m\u001b[0m\u001b[1;33m\u001b[0m\u001b[0m\n\u001b[0;32m      5\u001b[0m \u001b[1;32mimport\u001b[0m \u001b[0mseaborn\u001b[0m \u001b[1;32mas\u001b[0m \u001b[0msns\u001b[0m\u001b[1;33m\u001b[0m\u001b[1;33m\u001b[0m\u001b[0m\n\u001b[1;32m----> 6\u001b[1;33m \u001b[1;32mimport\u001b[0m \u001b[0myaml\u001b[0m\u001b[1;33m\u001b[0m\u001b[1;33m\u001b[0m\u001b[0m\n\u001b[0m\u001b[0;32m      7\u001b[0m \u001b[1;33m\u001b[0m\u001b[0m\n\u001b[0;32m      8\u001b[0m \u001b[1;32mimport\u001b[0m \u001b[0mmatplotlib\u001b[0m\u001b[1;33m.\u001b[0m\u001b[0mpyplot\u001b[0m \u001b[1;32mas\u001b[0m \u001b[0mplt\u001b[0m\u001b[1;33m\u001b[0m\u001b[1;33m\u001b[0m\u001b[0m\n",
      "\u001b[1;31mModuleNotFoundError\u001b[0m: No module named 'yaml'"
     ]
    }
   ],
   "source": [
    "import sqlalchemy\n",
    "import numpy as np\n",
    "import pandas as pd\n",
    "import psycopg2\n",
    "import seaborn as sns\n",
    "import yaml\n",
    "\n",
    "import matplotlib.pyplot as plt\n",
    "%matplotlib inline"
   ]
  },
  {
   "cell_type": "code",
   "execution_count": null,
   "metadata": {},
   "outputs": [],
   "source": [
    "#Read in config file\n",
    "with open(\"../conf/local/db.yaml\") as f:\n",
    "    conf=yaml.safe_load(f)"
   ]
  },
  {
   "cell_type": "code",
   "execution_count": null,
   "metadata": {},
   "outputs": [],
   "source": [
    "# set up sqlalchemy engine\n",
    "host = conf['host']\n",
    "DB = conf['DB']\n",
    "user = conf['user']\n",
    "pw = conf['pw']\n",
    "\n",
    "connection_string = \"postgresql://{}:{}@{}/{}\".format(user, pw, host, DB)\n",
    "conn = sqlalchemy.create_engine(connection_string)"
   ]
  },
  {
   "cell_type": "code",
   "execution_count": null,
   "metadata": {},
   "outputs": [],
   "source": [
    "# Get Summary Datatable\n",
    "query = \"\"\"\n",
    "select * \n",
    "from DM_Spain_VIEW_study_summary;\n",
    "\"\"\"\n",
    "\n",
    "sum_table = pd.read_sql(query, conn)\n",
    "sum_table.head()"
   ]
  },
  {
   "cell_type": "markdown",
   "metadata": {},
   "source": [
    "## Table Cleanup"
   ]
  },
  {
   "cell_type": "code",
   "execution_count": null,
   "metadata": {},
   "outputs": [],
   "source": [
    "sum_table_clean = sum_table.copy()"
   ]
  },
  {
   "cell_type": "markdown",
   "metadata": {},
   "source": [
    "## Number of records in the database"
   ]
  },
  {
   "cell_type": "code",
   "execution_count": null,
   "metadata": {},
   "outputs": [],
   "source": [
    "[number_of_rows, number_of_columns] = sum_table_clean.shape\n",
    "print(\"number of rows\")\n",
    "print(number_of_rows)\n",
    "print(\"number of columns\")\n",
    "print(number_of_columns)\n",
    "print('number of unique studies')\n",
    "print(sum_table_clean.studyidk.nunique())"
   ]
  },
  {
   "cell_type": "markdown",
   "metadata": {},
   "source": [
    "### Blank fields in Database"
   ]
  },
  {
   "cell_type": "code",
   "execution_count": null,
   "metadata": {},
   "outputs": [],
   "source": [
    "sum_table_clean.isnull().sum()"
   ]
  },
  {
   "cell_type": "markdown",
   "metadata": {},
   "source": [
    "## Gender\n",
    "\n",
    "USAL has confirmed:\n",
    "- \"O\" stands for \"Other\"\n",
    "- \"U\" stands for \"Unknown\"\n",
    "- All blanks can be changed to \"U\" for unknown "
   ]
  },
  {
   "cell_type": "code",
   "execution_count": null,
   "metadata": {},
   "outputs": [],
   "source": [
    "sum_table_clean['gender'].value_counts()"
   ]
  },
  {
   "cell_type": "code",
   "execution_count": null,
   "metadata": {},
   "outputs": [],
   "source": [
    "sum_table_clean['gender'] = sum_table_clean['gender'].replace('', 'U')\n",
    "print(sum_table_clean['gender'].value_counts())"
   ]
  },
  {
   "cell_type": "markdown",
   "metadata": {},
   "source": [
    "## Age"
   ]
  },
  {
   "cell_type": "code",
   "execution_count": null,
   "metadata": {},
   "outputs": [],
   "source": [
    "print('Number of cells in the age column that are '' (blank)')\n",
    "print(sum_table_clean['age'][sum_table_clean['age']==''].count())\n",
    "\n",
    "print('Number of cells in the age column that are np.nan')\n",
    "print(sum_table_clean['age'][sum_table_clean['age']==np.nan].count())\n"
   ]
  },
  {
   "cell_type": "code",
   "execution_count": null,
   "metadata": {},
   "outputs": [],
   "source": [
    "# Clean up cells above by replacing them with 1\n",
    "sum_table_clean['age'] = sum_table_clean['age'].replace('',1)\n",
    "#sum_table_clean['age'] = sum_table_clean['age'].replace(np.nan, 1)\n",
    "sum_table_clean['age'] = sum_table_clean['age'].astype(int)"
   ]
  },
  {
   "cell_type": "code",
   "execution_count": null,
   "metadata": {},
   "outputs": [],
   "source": [
    "results = plt.boxplot(sum_table_clean['age'])\n",
    "plt.title('Distribution of Age (pre clean up)')\n",
    "plt.show()"
   ]
  },
  {
   "cell_type": "code",
   "execution_count": null,
   "metadata": {},
   "outputs": [],
   "source": [
    "#get_outlier_thresholds(results) Yoni\n"
   ]
  },
  {
   "cell_type": "code",
   "execution_count": null,
   "metadata": {},
   "outputs": [],
   "source": [
    "print('Highest 10 Ages in dataframe')\n",
    "print(sum_table_clean['age'].nlargest(10))\n",
    "print('Lowest 10 Ages in dataframe')\n",
    "print(sum_table_clean['age'].nsmallest(10))"
   ]
  },
  {
   "cell_type": "code",
   "execution_count": null,
   "metadata": {},
   "outputs": [],
   "source": [
    "# where age is more than 115, update value to '1'\n",
    "sum_table_clean['age'] = sum_table_clean['age'].apply(lambda x: x if x < 115 else 1)\n"
   ]
  },
  {
   "cell_type": "code",
   "execution_count": null,
   "metadata": {},
   "outputs": [],
   "source": [
    "print('Ages in database between 1 and 20 (age & count)')\n",
    "print(sum_table_clean['age'][(sum_table_clean['age'] > 1) & (sum_table_clean['age'] < 20)].value_counts())\n",
    "print('Sum of above')\n",
    "print(sum_table_clean['age'][(sum_table_clean['age'] > 1) & (sum_table_clean['age'] < 20)].count())"
   ]
  },
  {
   "cell_type": "code",
   "execution_count": null,
   "metadata": {},
   "outputs": [],
   "source": [
    "results = plt.boxplot(sum_table_clean['age'])\n",
    "plt.title('Distribution of Age (pre clean up)')\n",
    "plt.show()"
   ]
  },
  {
   "cell_type": "code",
   "execution_count": null,
   "metadata": {},
   "outputs": [],
   "source": [
    "print(sum_table_clean['age'].describe())\n",
    "#sum_table_clean['age'].hist()\n",
    "sns.distplot(sum_table_clean['age'])\n",
    "plt.title('Distribution of Age: unknown values =1')\n",
    "plt.show()"
   ]
  },
  {
   "cell_type": "markdown",
   "metadata": {},
   "source": [
    "### Weight"
   ]
  },
  {
   "cell_type": "code",
   "execution_count": null,
   "metadata": {},
   "outputs": [],
   "source": [
    "print('Number of cells in the weight column that are '' (blank)')\n",
    "print(sum_table_clean['patientweight'][sum_table_clean['patientweight']==''].count())\n",
    "\n",
    "print('Number of cells in the weigh column that are np.nan')\n",
    "print(sum_table_clean['patientweight'][sum_table_clean['patientweight']==np.nan].count())\n",
    "print(sum_table_clean['patientweight'].isna().sum())"
   ]
  },
  {
   "cell_type": "code",
   "execution_count": null,
   "metadata": {},
   "outputs": [],
   "source": [
    "# Where value is blank, update value to '1'\n",
    "sum_table_clean['patientweight'] = sum_table_clean['patientweight'].replace('',1)\n",
    "sum_table_clean['patientweight'] = sum_table_clean['patientweight'].replace(np.nan, 1)"
   ]
  },
  {
   "cell_type": "code",
   "execution_count": null,
   "metadata": {},
   "outputs": [],
   "source": [
    "print('Number of cells in the weight column that contain comma')\n",
    "print(sum_table_clean['patientweight'][sum_table_clean['patientweight'].str.contains(',', na=False)].count())"
   ]
  },
  {
   "cell_type": "code",
   "execution_count": null,
   "metadata": {},
   "outputs": [],
   "source": [
    "#Change commas to decimal points\n",
    "sum_table_clean['patientweight'] = sum_table_clean['patientweight'].str.replace(',','.')\n",
    "sum_table_clean['patientweight'] = sum_table_clean['patientweight'].astype(float)\n",
    "sum_table_clean['patientweight'] = sum_table_clean['patientweight'].fillna(1)\n",
    "print(sum_table_clean['patientweight'].dtype)"
   ]
  },
  {
   "cell_type": "code",
   "execution_count": null,
   "metadata": {},
   "outputs": [],
   "source": [
    "plt.boxplot(sum_table_clean['patientweight'])\n",
    "plt.title('Distribution of Weight (pre clean up)')\n",
    "plt.show()"
   ]
  },
  {
   "cell_type": "code",
   "execution_count": null,
   "metadata": {},
   "outputs": [],
   "source": [
    "print(\"Two clear outliers have been replaced with 1\")\n",
    "# where weigh is more than 2000, update value to '1'\n",
    "sum_table_clean['patientweight'] = sum_table_clean['patientweight'].apply(lambda x: x if x < 2000 else 1)\n",
    "plt.boxplot(sum_table_clean['patientweight'])\n",
    "plt.show()"
   ]
  },
  {
   "cell_type": "code",
   "execution_count": null,
   "metadata": {},
   "outputs": [],
   "source": [
    "print('Number of studies above 200kg (to be corrected)')\n",
    "print(sum_table_clean['patientweight'][sum_table_clean['patientweight'] > 200].count())\n",
    "print('Number of studies below 25kg (to be corrected)')\n",
    "print(sum_table_clean['patientweight'][(sum_table_clean['patientweight'] > 1) \n",
    "                                       & (sum_table_clean['patientweight'] < 25)].count())"
   ]
  },
  {
   "cell_type": "code",
   "execution_count": null,
   "metadata": {},
   "outputs": [],
   "source": [
    "print(\"0utliers above 200kg have been replaced with 1\")\n",
    "# where weigh is more than 200, update value to '1'\n",
    "sum_table_clean['patientweight'] = sum_table_clean['patientweight'].apply(lambda x: x if x < 200 else 1)\n",
    "sum_table_clean['patientweight'] = sum_table_clean['patientweight'].apply(lambda x: x if x > 25 else 1)\n",
    "plt.boxplot(sum_table_clean['patientweight'])\n",
    "plt.show()"
   ]
  },
  {
   "cell_type": "code",
   "execution_count": null,
   "metadata": {},
   "outputs": [],
   "source": [
    "print(sum_table_clean['patientweight'].describe())\n",
    "#sum_table_clean['patientweight'].hist()\n",
    "sns.distplot(sum_table_clean['patientweight'])\n",
    "plt.title('Distribution of Weight : unknown values = 1')\n",
    "plt.show()"
   ]
  },
  {
   "cell_type": "markdown",
   "metadata": {},
   "source": [
    "### Height"
   ]
  },
  {
   "cell_type": "code",
   "execution_count": null,
   "metadata": {},
   "outputs": [],
   "source": [
    "print('Number of cells in the weight column that are '' (blank)')\n",
    "print(sum_table_clean['patientheight'][sum_table_clean['patientheight']==''].count())\n",
    "\n",
    "print('Number of cells in the height column that are np.nan')\n",
    "print(sum_table_clean['patientheight'][sum_table_clean['patientheight']==np.nan].count())\n",
    "print(sum_table_clean['patientheight'].isna().sum())"
   ]
  },
  {
   "cell_type": "code",
   "execution_count": null,
   "metadata": {},
   "outputs": [],
   "source": [
    "# Where value is blank, update value to '1'\n",
    "sum_table_clean['patientheight'] = sum_table_clean['patientheight'].replace('',1)\n",
    "sum_table_clean['patientheight'] = sum_table_clean['patientheight'].replace(np.nan, 1)"
   ]
  },
  {
   "cell_type": "code",
   "execution_count": null,
   "metadata": {},
   "outputs": [],
   "source": [
    "print('Number of cells in the weight column that contain comma')\n",
    "print(sum_table_clean['patientheight'][sum_table_clean['patientheight'].str.contains(',', na=False)].count())"
   ]
  },
  {
   "cell_type": "code",
   "execution_count": null,
   "metadata": {},
   "outputs": [],
   "source": [
    "#Change commas to decimal points\n",
    "sum_table_clean['patientheight'] = sum_table_clean['patientheight'].str.replace(',','.').astype(float)\n",
    "sum_table_clean['patientheight'] = sum_table_clean['patientheight'].fillna(1)\n",
    "sum_table_clean['patientheight'] = sum_table_clean['patientheight'].astype(float)"
   ]
  },
  {
   "cell_type": "code",
   "execution_count": null,
   "metadata": {},
   "outputs": [],
   "source": [
    "plt.boxplot(sum_table_clean['patientheight'])\n",
    "plt.title('Distribution of Height (pre clean up)')\n",
    "plt.show()"
   ]
  },
  {
   "cell_type": "code",
   "execution_count": null,
   "metadata": {
    "scrolled": true
   },
   "outputs": [],
   "source": [
    "# where height is more than 300, or under 100, update value to '1'\n",
    "sum_table_clean['patientheight'] = sum_table_clean['patientheight'].apply(lambda x: x if x < 300 else 1)\n",
    "#sum_table_clean['patientheight'] = sum_table_clean['patientheight'].apply(lambda x: x if x > 100 else 1)\n",
    "plt.boxplot(sum_table_clean['patientheight'])\n",
    "plt.show()"
   ]
  },
  {
   "cell_type": "code",
   "execution_count": null,
   "metadata": {},
   "outputs": [],
   "source": [
    "print(sum_table_clean['patientheight'].describe())\n",
    "#sum_table_clean['patientheight'].hist()\n",
    "sns.distplot(sum_table_clean['patientheight'])\n",
    "plt.title('Distribution of Height : unknown values = 1')\n",
    "plt.show()"
   ]
  },
  {
   "cell_type": "code",
   "execution_count": null,
   "metadata": {},
   "outputs": [],
   "source": [
    "sum_table_clean.columns"
   ]
  },
  {
   "cell_type": "markdown",
   "metadata": {},
   "source": [
    "## Study location\n",
    "\n",
    "Unsure as to what this field intends to indicate.\n",
    "98% of fields have been left blank.\n"
   ]
  },
  {
   "cell_type": "code",
   "execution_count": null,
   "metadata": {},
   "outputs": [],
   "source": [
    "print('Number of unique locations in database')\n",
    "print(sum_table_clean['studylocation'].nunique())\n",
    "\n",
    "print('Percentage of field left blank')\n",
    "print(sum_table_clean['studylocation'][sum_table_clean['studylocation'] == ''].count()/number_of_rows)\n",
    "\n",
    "sum_table_clean['studylocation'].value_counts()"
   ]
  },
  {
   "cell_type": "markdown",
   "metadata": {},
   "source": [
    "## Machine"
   ]
  },
  {
   "cell_type": "markdown",
   "metadata": {},
   "source": [
    "There are 34 unqiue machines listed in the database.  \n",
    "\n",
    "Questions:\n",
    "- should I rename the blank ones as 'unknown'\n",
    "- why are there machines with less than 20 or 30 records associated with them?  Are these mistakes/duplicates? \n",
    "- does machine type give any indication of the time period when the scan was taken, or the location?"
   ]
  },
  {
   "cell_type": "code",
   "execution_count": null,
   "metadata": {},
   "outputs": [],
   "source": [
    "print('Number of unique machine types in database')\n",
    "print(sum_table_clean['equipment'].nunique())\n",
    "sum_table_clean['equipment'].value_counts()"
   ]
  },
  {
   "cell_type": "markdown",
   "metadata": {},
   "source": [
    "## Create Features"
   ]
  },
  {
   "cell_type": "markdown",
   "metadata": {},
   "source": [
    "### BMI"
   ]
  },
  {
   "cell_type": "code",
   "execution_count": null,
   "metadata": {},
   "outputs": [],
   "source": [
    "# Create BMI feature\n",
    "#https://www.cdc.gov/nccdphp/dnpao/growthcharts/training/bmiage/page5_1.html\n",
    "# [weight (kg) / height (cm) / height (cm)] x 10,000\n",
    "def calc_bmi(weight_kg, height_cm):\n",
    "    return ((weight_kg/height_cm/height_cm)*10000)"
   ]
  },
  {
   "cell_type": "code",
   "execution_count": null,
   "metadata": {},
   "outputs": [],
   "source": [
    "# Create BMI Columns\n",
    "sum_table_clean['BMI'] = sum_table_clean.apply(lambda x: calc_bmi(x.patientweight, x.patientheight), axis=1)"
   ]
  },
  {
   "cell_type": "code",
   "execution_count": null,
   "metadata": {},
   "outputs": [],
   "source": [
    "# where BMI is more than 45, update value to '1'\n",
    "sum_table_clean['BMI'] = sum_table_clean['BMI'].apply(lambda x: x if x < 45 else 1)\n",
    "# where BMI is less than 15, update value to '1'\n",
    "sum_table_clean['BMI'] = sum_table_clean['BMI'].apply(lambda x: x if x > 15 else 1)"
   ]
  },
  {
   "cell_type": "code",
   "execution_count": null,
   "metadata": {},
   "outputs": [],
   "source": [
    "plt.boxplot(sum_table_clean['BMI'])\n",
    "plt.show()"
   ]
  },
  {
   "cell_type": "code",
   "execution_count": null,
   "metadata": {},
   "outputs": [],
   "source": [
    "print(sum_table_clean['BMI'].describe())\n",
    "#sum_table_clean['BMI'].hist()\n",
    "sns.distplot(sum_table_clean['BMI'])\n",
    "plt.title('Distribution of BMI: unknown values = 1')\n",
    "plt.show()"
   ]
  },
  {
   "cell_type": "markdown",
   "metadata": {},
   "source": [
    "## Finding Codes"
   ]
  },
  {
   "cell_type": "code",
   "execution_count": null,
   "metadata": {},
   "outputs": [],
   "source": [
    "print()"
   ]
  },
  {
   "cell_type": "code",
   "execution_count": null,
   "metadata": {},
   "outputs": [],
   "source": [
    "#codes for each of the pathologies\n",
    "pathologies_of_interest = {'LV-0068', 'LV-0144', 'LV-0069', 'LV-0070', 'LV-0065', 'LV-0062'\n",
    "                    ,'LV-0061', 'LV-0080','LV-0077','LV-0078'\n",
    "                    , 'LV-0061', 'LA-0016', 'LA-0013', 'SU-0032'}\n",
    "\n",
    "# Pathology dictonary\n",
    "pathdict = {\"LV-0062\": \"HC_F\"\n",
    "            ,\"SU-0032\": \"Norm\"\n",
    "            ,\"LV-0078\": \"RLVEF_F\"\n",
    "            ,\"LV-0077\": \"RLVEF_F\"\n",
    "            ,\"LV-0061\": \"RLVEF_F\"\n",
    "            ,\"LV-0080\": \"RLVEF_T\"\n",
    "            ,\"LV-0068\": \"HC_T\"\n",
    "            ,\"LA-0016\": \"DLA_T\"\n",
    "            ,\"LV-0065\": \"HC_F\"\n",
    "            ,\"LV-0144\": \"HC_T\"\n",
    "            ,\"LV-0070\": \"HC_C\"\n",
    "            ,\"LA-0013\": \"DLA_F\"\n",
    "            ,\"LV-0069\": \"HC_C\"\n",
    "           }\n",
    "\n",
    "# Pathology codes\n",
    "HC_T_codes = {'LV-0144', 'LV-0068'}\n",
    "HC_F_codes = {'LV-0062', 'LV-0065', 'LV-0061'}\n",
    "HC_C_codes = {'LV-0069', 'LV-0070'}\n",
    "\n",
    "RLVEF_T_codes = {'LV-0080'}\n",
    "RLVEF_F_codes = {'LV-0061', 'LV-0077', 'LV-0078'}\n",
    "\n",
    "DLA_T_codes = {'LA-0016'}\n",
    "DLA_F_codes = {'LA-0013'}\n",
    "\n",
    "Norm_codes = {'SU-0032'}"
   ]
  },
  {
   "cell_type": "code",
   "execution_count": null,
   "metadata": {},
   "outputs": [],
   "source": [
    "def create_pathology_column(study_table, path_codes, path_name):\n",
    "    #puts the code of interest in a new column\n",
    "    study_table[path_name] = study_table.findingcode.apply(lambda x: intersection(x, path_codes)) \n",
    "    #replace the codes with 0 or 1 (NOTE: could return higher than 1 error?  needs to be handled)\n",
    "    study_table[path_name] = study_table[path_name].apply(lambda x : len(x))\n",
    "    \n",
    "    #Convert the code from a list to a string\n",
    "    #study_table[path_name] = study_table[path_name].apply(lambda x : ''.join(x))\n",
    "    # replace the codes with the pathology names\n",
    "    #study_table = study_table.replace({path_name: pathdict})\n",
    "    return study_table"
   ]
  },
  {
   "cell_type": "code",
   "execution_count": null,
   "metadata": {},
   "outputs": [],
   "source": [
    "def intersection(lst1, lst2): \n",
    "#https://www.geeksforgeeks.org/python-intersection-of-multiple-lists/      \n",
    "    return [item for item in lst1 if item in lst2] "
   ]
  },
  {
   "cell_type": "code",
   "execution_count": null,
   "metadata": {},
   "outputs": [],
   "source": [
    "# turn the findingcode column into a list\n",
    "sum_table_clean.findingcode = sum_table_clean.findingcode.apply(lambda x: x.split(\",\"))"
   ]
  },
  {
   "cell_type": "code",
   "execution_count": null,
   "metadata": {},
   "outputs": [],
   "source": [
    "sum_table_clean.head(1)"
   ]
  },
  {
   "cell_type": "code",
   "execution_count": null,
   "metadata": {},
   "outputs": [],
   "source": [
    "# Count instances \n",
    "db_finding_codes = sum_table_clean[['studyidk','findingcode']].copy()\n",
    "temp = db_finding_codes.apply(lambda x: pd.Series(x['findingcode']),axis=1).stack().reset_index(level=1, drop=True)\n",
    "temp.name = 'finding_code_del'\n",
    "db_finding_codes = db_finding_codes.drop('findingcode', axis=1).join(temp)\n",
    "db_finding_codes = db_finding_codes.reset_index(drop=True)\n",
    "db_finding_codes.head()"
   ]
  },
  {
   "cell_type": "code",
   "execution_count": null,
   "metadata": {},
   "outputs": [],
   "source": [
    "# Count of the unique number of finding codes present in the DB\n",
    "unique_finding_codes = db_finding_codes['finding_code_del'].nunique()\n",
    "print('number of unique finding codes in the database')\n",
    "print(unique_finding_codes)"
   ]
  },
  {
   "cell_type": "code",
   "execution_count": null,
   "metadata": {},
   "outputs": [],
   "source": [
    "# Quick histogram of the number of finding codes per study in the database\n",
    "axes = db_finding_codes['studyidk'].value_counts().hist(bins=50)\n",
    "plt.suptitle(\"Numbers of finding codes per study\")\n",
    "plt.show()"
   ]
  },
  {
   "cell_type": "code",
   "execution_count": null,
   "metadata": {},
   "outputs": [],
   "source": [
    "# adding pathology column\n",
    "sum_table_clean = create_pathology_column(sum_table_clean, HC_T_codes, \"HC_T\")\n",
    "sum_table_clean = create_pathology_column(sum_table_clean, HC_F_codes, \"HC_F\")\n",
    "sum_table_clean = create_pathology_column(sum_table_clean, HC_C_codes, \"HC_C\")\n",
    "sum_table_clean = create_pathology_column(sum_table_clean, RLVEF_T_codes, \"RLVEF_T\")\n",
    "sum_table_clean = create_pathology_column(sum_table_clean, RLVEF_F_codes, \"RLVEF_F\")\n",
    "sum_table_clean = create_pathology_column(sum_table_clean, DLA_T_codes, \"DLA_T\")\n",
    "sum_table_clean = create_pathology_column(sum_table_clean, DLA_F_codes, \"DLA_F\")\n",
    "sum_table_clean = create_pathology_column(sum_table_clean, Norm_codes, \"Norm\")"
   ]
  },
  {
   "cell_type": "code",
   "execution_count": null,
   "metadata": {},
   "outputs": [],
   "source": [
    "sum_table_clean.head()"
   ]
  },
  {
   "cell_type": "code",
   "execution_count": null,
   "metadata": {},
   "outputs": [],
   "source": []
  },
  {
   "cell_type": "markdown",
   "metadata": {},
   "source": [
    "## Histograms: Pathologies by Demographics"
   ]
  },
  {
   "cell_type": "code",
   "execution_count": null,
   "metadata": {},
   "outputs": [],
   "source": [
    "sum_table_clean['HC_T'].sum()"
   ]
  },
  {
   "cell_type": "code",
   "execution_count": null,
   "metadata": {},
   "outputs": [],
   "source": [
    "# Create a table of relevant findingcodes/pathologies\n",
    "\n",
    "columns = [\"Findingcode diagnosing disease\",\n",
    "           \"Findingcode compatible with disease\", \n",
    "           \"Findingcode normal for this pathology\"]\n",
    "rows = [\"Hypertrophic Cardiomyopathy\",\n",
    "        \"Reduced Left Ventricle Ejection Fraction\",\n",
    "       \"Dilated Left Atria\",\n",
    "       \"Normal study\"]\n",
    "data=[[sum_table_clean['HC_T'].sum(), sum_table_clean['HC_C'].sum(), sum_table_clean['HC_F'].sum()],\n",
    "     [sum_table_clean['RLVEF_T'].sum(), \" \", sum_table_clean['RLVEF_F'].sum()],\n",
    "     [sum_table_clean['DLA_T'].sum(), \" \", sum_table_clean['DLA_F'].sum()],\n",
    "     [sum_table_clean['Norm'].sum(), \" \", \" \"]]\n",
    "\n",
    "ResultsTable = pd.DataFrame(index=rows, columns=columns, data=data)\n",
    "\n",
    "ResultsTable\n"
   ]
  },
  {
   "cell_type": "markdown",
   "metadata": {},
   "source": [
    "## Pathologies present by age, weight, height and BMI"
   ]
  },
  {
   "cell_type": "code",
   "execution_count": null,
   "metadata": {
    "scrolled": true
   },
   "outputs": [],
   "source": [
    "HC_T_Table = sum_table_clean[sum_table_clean['HC_T'] == 1]\n",
    "RLVEF_T_Table = sum_table_clean[sum_table_clean['RLVEF_T'] == 1]\n",
    "DLA_T_Table = sum_table_clean[sum_table_clean['DLA_T'] == 1]\n",
    "\n",
    "# Age, weight, hieght, and BMI for HC_T\n",
    "plt.figure(figsize=(18, 12))\n",
    "\n",
    "plt.subplot(3, 4, 1)\n",
    "HC_T_Table.age.hist()\n",
    "plt.grid(b=None)\n",
    "plt.title('Hypertropic Cardiomypathy (by Age)')\n",
    "plt.xlabel('age (years)')\n",
    "plt.ylabel('Number of cases')\n",
    "\n",
    "plt.subplot(3, 4, 5)\n",
    "RLVEF_T_Table.age.hist(color='red')\n",
    "plt.grid(b=None)\n",
    "plt.title('Left Ventricle Ejection Fraction (by Age)')\n",
    "plt.xlabel('age (years)')\n",
    "plt.ylabel('Number of cases')\n",
    "\n",
    "plt.subplot(3, 4, 9)\n",
    "DLA_T_Table.age.hist(color='green')\n",
    "plt.grid(b=None)\n",
    "plt.title('Dilated Left Ventricle (by Age)')\n",
    "plt.xlabel('age (years)')\n",
    "plt.ylabel('Number of cases')\n",
    "\n",
    "plt.subplot(3, 4, 2)\n",
    "HC_T_Table.patientweight.hist()\n",
    "#plt.yticks(range(0, 4500, 500), fontsize=14) \n",
    "plt.grid(b=None)\n",
    "plt.title('Hypertropic Cardiomypathy (by Weight)')\n",
    "plt.xlabel('Weight (kg)')\n",
    "plt.ylabel('Number of cases')\n",
    "\n",
    "plt.subplot(3, 4, 6)\n",
    "RLVEF_T_Table.patientweight.hist(color='red')\n",
    "#plt.yticks(range(0, 4500, 500), fontsize=14) \n",
    "plt.grid(b=None)\n",
    "plt.title('Left Ventricle Ejection Fraction (by Weight)')\n",
    "plt.xlabel('Weight (kg)')\n",
    "plt.ylabel('Number of cases')\n",
    "\n",
    "plt.subplot(3, 4, 10)\n",
    "DLA_T_Table.patientweight.hist(color='green')\n",
    "#plt.yticks(range(0, 4500, 500), fontsize=14) \n",
    "plt.grid(b=None)\n",
    "plt.title('Dilated Left Ventricle (by Weight)')\n",
    "plt.xlabel('Weight (kg)')\n",
    "plt.ylabel('Number of cases')\n",
    "\n",
    "plt.subplot(3, 4, 3)\n",
    "HC_T_Table.patientheight.hist()\n",
    "#plt.yticks(range(0, 4500, 500), fontsize=14) \n",
    "plt.grid(b=None)\n",
    "plt.title('Hypertropic Cardiomypathy (by Height)')\n",
    "plt.xlabel('Height (cm)')\n",
    "plt.ylabel('Number of cases')\n",
    "\n",
    "plt.subplot(3, 4, 7)\n",
    "RLVEF_T_Table.patientheight.hist(color='red')\n",
    "#plt.yticks(range(0, 4500, 500), fontsize=14) \n",
    "plt.grid(b=None)\n",
    "plt.title('Left Ventricle Ejection Fraction (by Height)')\n",
    "plt.xlabel('Height (cm)')\n",
    "plt.ylabel('Number of cases')\n",
    "\n",
    "plt.subplot(3, 4, 11)\n",
    "DLA_T_Table.patientheight.hist(color='green')\n",
    "#plt.yticks(range(0, 4500, 500), fontsize=14) \n",
    "plt.grid(b=None)\n",
    "plt.title('Dilated Left Ventricle (by Height)')\n",
    "plt.xlabel('Height (cm)')\n",
    "plt.ylabel('Number of cases')\n",
    "\n",
    "plt.subplot(3, 4, 4)\n",
    "HC_T_Table.BMI.hist()\n",
    "#plt.yticks(range(0, 4500, 500), fontsize=14) \n",
    "plt.grid(b=None)\n",
    "plt.title('Hypertropic Cardiomypathy (by BMI)')\n",
    "plt.xlabel('BMI')\n",
    "plt.ylabel('Number of cases')\n",
    "\n",
    "plt.subplot(3, 4, 8)\n",
    "RLVEF_T_Table.BMI.hist(color='red')\n",
    "#plt.yticks(range(0, 4500, 500), fontsize=14) \n",
    "plt.grid(b=None)\n",
    "plt.title('Left Ventricle Ejection Fraction (by BMI)')\n",
    "plt.xlabel('BMI')\n",
    "plt.ylabel('Number of cases')\n",
    "\n",
    "plt.subplot(3, 4, 12)\n",
    "DLA_T_Table.BMI.hist(color='green')\n",
    "#plt.yticks(range(0, 4500, 500), fontsize=14) \n",
    "plt.grid(b=None)\n",
    "plt.title('Dilated Left Ventricle (by BMI)')\n",
    "plt.xlabel('BMI')\n",
    "plt.ylabel('Number of cases')\n",
    "\n",
    "plt.tight_layout()\n",
    "plt.show()"
   ]
  },
  {
   "cell_type": "markdown",
   "metadata": {},
   "source": [
    "# Import information on instances and views\n",
    "\n",
    "Import csv created by Yoni on breakdown of instances and views"
   ]
  },
  {
   "cell_type": "code",
   "execution_count": null,
   "metadata": {},
   "outputs": [],
   "source": [
    "tb_instances_views = pd.read_csv('../data/02_intermediate/frames_with_views.csv')\n",
    "tb_instances_views.head()"
   ]
  },
  {
   "cell_type": "code",
   "execution_count": null,
   "metadata": {},
   "outputs": [],
   "source": [
    "print(tb_instances_views.shape)\n",
    "print(tb_instances_views.dtypes)"
   ]
  },
  {
   "cell_type": "code",
   "execution_count": null,
   "metadata": {},
   "outputs": [],
   "source": [
    "sum_table_clean['studyidk'] = sum_table_clean.studyidk.astype(np.float64)\n",
    "print(sum_table_clean.shape)\n",
    "print(sum_table_clean.dtypes)"
   ]
  },
  {
   "cell_type": "markdown",
   "metadata": {},
   "source": [
    "## Join tables"
   ]
  },
  {
   "cell_type": "code",
   "execution_count": null,
   "metadata": {},
   "outputs": [],
   "source": [
    "tb_instances_views_studies = pd.merge(tb_instances_views, sum_table_clean, on='studyidk', how='left')\n",
    "print(tb_instances_views_studies.shape)"
   ]
  },
  {
   "cell_type": "code",
   "execution_count": null,
   "metadata": {},
   "outputs": [],
   "source": [
    "tb_instances_views_studies.head()"
   ]
  },
  {
   "cell_type": "code",
   "execution_count": null,
   "metadata": {},
   "outputs": [],
   "source": [
    "tb_instances_views_studies.columns"
   ]
  },
  {
   "cell_type": "markdown",
   "metadata": {},
   "source": [
    "# EDA on views"
   ]
  },
  {
   "cell_type": "code",
   "execution_count": null,
   "metadata": {},
   "outputs": [],
   "source": [
    "tb_is_plax = tb_instances_views_studies[tb_instances_views_studies['is_plax'] == True]\n",
    "print('Number of instances with parasternal axis view: {}'.format(tb_is_plax.shape[0]))\n",
    "print('Number of unique studies with parasternal axis view: {}'.format(tb_is_plax.studyidk.nunique()))\n",
    "\n",
    "tb_is_ac4 = tb_instances_views_studies[tb_instances_views_studies['is_a4c'] == True]\n",
    "print('Number of instances with apical four chambers view: {}'.format(tb_is_ac4.shape[0]))\n",
    "print('Number of unique studies with apical four chambers view: {}'.format(tb_is_ac4.studyidk.nunique()))\n",
    "\n",
    "tb_is_ac2 = tb_instances_views_studies[tb_instances_views_studies['is_a2c'] == True]\n",
    "print('Number of instances with apical two chambers view: {}'.format(tb_is_ac2.shape[0]))\n",
    "print('Number of unique studies with apical two chambers view: {}'.format(tb_is_ac2.studyidk.nunique()))"
   ]
  },
  {
   "cell_type": "code",
   "execution_count": null,
   "metadata": {},
   "outputs": [],
   "source": [
    "data = {'view_name': ['PLAX', 'AC4', 'AC2'],\n",
    "        'Numbers_of_studies': [tb_is_plax.studyidk.nunique(), tb_is_ac4.studyidk.nunique(), tb_is_ac2.studyidk.nunique()],\n",
    "        'Numbers_of_instances': [tb_is_plax.shape[0], tb_is_ac4.shape[0],tb_is_ac2.shape[0]]}\n",
    "\n",
    "study_view_numbers = pd.DataFrame(data, columns=['view_name', 'Numbers_of_studies', 'Numbers_of_instances'])\n",
    "study_view_numbers.head()"
   ]
  },
  {
   "cell_type": "code",
   "execution_count": null,
   "metadata": {},
   "outputs": [],
   "source": [
    "plt.figure(figsize=(18, 5))\n",
    "\n",
    "plt.subplot(1,2,1)\n",
    "sns.barplot(x=\"view_name\", y=\"Numbers_of_studies\", data =study_view_numbers).set_title('Numbers of unique studies with examples of each view')\n",
    "plt.ylim(5000, 40000)\n",
    "\n",
    "plt.subplot(1,2,2)\n",
    "sns.barplot(x=\"view_name\", y=\"Numbers_of_instances\", data =study_view_numbers).set_title('Numbers of instances with examples of each view')\n",
    "plt.ylim(5000, 40000)\n",
    "plt.show()"
   ]
  },
  {
   "cell_type": "code",
   "execution_count": null,
   "metadata": {},
   "outputs": [],
   "source": [
    "plt.figure(figsize=(18, 5))\n",
    "\n",
    "plt.subplot(1,3,1)\n",
    "sns.barplot(x=\"gender\", y=\"studyidk\", data=tb_is_plax).set_title('Parasternal Axis View: Gender by instance')\n",
    "plt.ylim(2000, 100000)\n",
    "\n",
    "plt.subplot(1,3,2)\n",
    "sns.barplot(x=\"gender\", y=\"studyidk\", data=tb_is_ac4).set_title('Apical Four Chambers View: Gender by instance')\n",
    "plt.ylim(2000, 100000)\n",
    "\n",
    "plt.subplot(1,3,3)\n",
    "sns.barplot(x=\"gender\", y=\"studyidk\", data=tb_is_ac2).set_title('Apical Two Chambers View: Gender by instance')\n",
    "plt.ylim(2000, 100000)\n",
    "plt.show()"
   ]
  },
  {
   "cell_type": "code",
   "execution_count": null,
   "metadata": {},
   "outputs": [],
   "source": [
    "plt.figure(figsize=(18, 5))\n",
    "\n",
    "plt.subplot(1,3,1)\n",
    "plt.hist(tb_is_plax.age)\n",
    "plt.title('Parasternal Axis View: Age by instance')\n",
    "plt.ylim(0, 12000)\n",
    "\n",
    "plt.subplot(1,3,2)\n",
    "plt.hist(tb_is_ac4.age)\n",
    "plt.title('Apical Four Chambers View: Age by instance')\n",
    "plt.ylim(0, 12000)\n",
    "\n",
    "plt.subplot(1,3,3)\n",
    "plt.hist(tb_is_ac2.age)\n",
    "plt.title('Apical Two Chambers View: Age by instance')\n",
    "plt.ylim(0, 12000)\n",
    "plt.show()"
   ]
  },
  {
   "cell_type": "code",
   "execution_count": null,
   "metadata": {},
   "outputs": [],
   "source": [
    "plt.figure(figsize=(18, 5))\n",
    "\n",
    "plt.subplot(1,3,1)\n",
    "plt.hist(tb_is_plax.BMI)\n",
    "plt.title('Parasternal Axis View: BMI by instance')\n",
    "plt.ylim(0, 15200)\n",
    "\n",
    "plt.subplot(1,3,2)\n",
    "plt.hist(tb_is_ac4.BMI)\n",
    "plt.title('Apical Four Chambers View: BMI by instance')\n",
    "plt.ylim(0, 15200)\n",
    "\n",
    "plt.subplot(1,3,3)\n",
    "plt.hist(tb_is_ac2.BMI)\n",
    "plt.title('Apical Two Chambers View: BMI by instance')\n",
    "plt.ylim(0, 15200)\n",
    "plt.show()"
   ]
  }
 ],
 "metadata": {
  "kernelspec": {
   "display_name": "Environment (conda_usal_echo)",
   "language": "python",
   "name": "conda_usal_echo"
  },
  "language_info": {
   "codemirror_mode": {
    "name": "ipython",
    "version": 3
   },
   "file_extension": ".py",
   "mimetype": "text/x-python",
   "name": "python",
   "nbconvert_exporter": "python",
   "pygments_lexer": "ipython3",
   "version": "3.6.5"
  }
 },
 "nbformat": 4,
 "nbformat_minor": 2
}
