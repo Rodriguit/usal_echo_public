{
 "cells": [
  {
   "cell_type": "markdown",
   "metadata": {},
   "source": [
    "# Data Download and Pre-processing"
   ]
  },
  {
   "cell_type": "code",
   "execution_count": null,
   "metadata": {},
   "outputs": [],
   "source": [
    "%reload_ext autoreload\n",
    "%autoreload 2\n",
    "%matplotlib inline\n",
    "\n",
    "import yaml\n",
    "import os"
   ]
  },
  {
   "cell_type": "code",
   "execution_count": null,
   "metadata": {},
   "outputs": [],
   "source": [
    "from usal_echo import bucket, dcm_dir, img_dir, segmentation_dir, model_dir, classification_model\n",
    "from usal_echo.d00_utils.db_utils import *\n",
    "from usal_echo.d01_data.ingestion_dcm import ingest_dcm\n",
    "from usal_echo.d01_data.ingestion_xtdb import ingest_xtdb\n",
    "from usal_echo.d02_intermediate.clean_dcm import clean_dcm_meta\n",
    "from usal_echo.d02_intermediate.clean_xtdb import clean_tables\n",
    "from usal_echo.d02_intermediate.filter_instances import filter_all\n",
    "from usal_echo.d02_intermediate.download_dcm import _downsample_train_test, s3_download_decomp_dcm, dcmdir_to_jpgs_for_classification"
   ]
  },
  {
   "cell_type": "markdown",
   "metadata": {},
   "source": [
    "## Ingest dicom metada and Xcelera csv files\n",
    "Retrieve data from s3 bucket. These functions write to database schema `.raw`."
   ]
  },
  {
   "cell_type": "code",
   "execution_count": null,
   "metadata": {},
   "outputs": [],
   "source": [
    "#ingest_dcm(bucket) # This function takes ~3 days to run. \n",
    "ingest_xtdb(bucket)"
   ]
  },
  {
   "cell_type": "markdown",
   "metadata": {},
   "source": [
    "## Clean dicom metadata and Xcelera database tables\n",
    "These functions write to database schema `.clean`."
   ]
  },
  {
   "cell_type": "code",
   "execution_count": null,
   "metadata": {},
   "outputs": [],
   "source": [
    "clean_dcm_meta()\n",
    "clean_tables()"
   ]
  },
  {
   "cell_type": "markdown",
   "metadata": {},
   "source": [
    "## Filter study instances\n",
    "Theis function writes to database schema `.views`.\n",
    "\n",
    "The following tables are created:  \n",
    "* **views.machines_all_bmi**: list of all studies in db; columns: studyidk, machine type and bmi  \n",
    "* **views.machines_new_bmi**: same as machines_all_bmi, but only includes studies with new machines (_i.e. machine types ECOEPIQ2, EPIQ7-1, ECOIE33, AFFINITI_1, AFFINITI_2_) \n",
    "* **views.instances_unique_master_list**, a list of unique instances in the database (_unique means that instances with naming conflicts (e.g. duplicate instanceidk's) have been removed_)\n",
    "* **views.frames_w_labels**: all frames with labels plax, a4c, a2c\n",
    "* **views.frames_sorted_by_views_temp**: intermediate table; used by other scripts\n",
    "* **views.instances_w_conflicts**: instances to avoid\n",
    "* **views.instances_w_labels**: all instances which are labeled plax, a4c, a2c   \n",
    "    Assumption: if a frame has a view label, other frames within that instance correspond to the same view. This discludes instances which have >1 frames with conflicting labels\n",
    "    \n",
    "<font color='red'>All subsequent processes use **views.instances_w_labels** which are the ground truths for classification.</font> "
   ]
  },
  {
   "cell_type": "code",
   "execution_count": null,
   "metadata": {},
   "outputs": [],
   "source": [
    "filter_all()"
   ]
  },
  {
   "cell_type": "markdown",
   "metadata": {},
   "source": [
    "## Check that tables have been created"
   ]
  },
  {
   "cell_type": "code",
   "execution_count": null,
   "metadata": {},
   "outputs": [],
   "source": [
    "io_raw = dbReadWriteRaw()\n",
    "io_raw.list_tables()"
   ]
  },
  {
   "cell_type": "code",
   "execution_count": null,
   "metadata": {},
   "outputs": [],
   "source": [
    "io_clean = dbReadWriteClean()\n",
    "io_clean.list_tables()"
   ]
  },
  {
   "cell_type": "code",
   "execution_count": null,
   "metadata": {},
   "outputs": [],
   "source": [
    "dm_spain_view_study_summary = io_clean.get_table('dm_spain_view_study_summary')\n",
    "dm_spain_view_study_summary[:2]"
   ]
  },
  {
   "cell_type": "code",
   "execution_count": null,
   "metadata": {},
   "outputs": [],
   "source": [
    "io_views = dbReadWriteViews()\n",
    "io_views.list_tables()"
   ]
  },
  {
   "cell_type": "code",
   "execution_count": null,
   "metadata": {},
   "outputs": [],
   "source": [
    "groundtruth_classification = io_views.get_table('instances_w_labels')\n",
    "groundtruth_classification.head()"
   ]
  },
  {
   "cell_type": "markdown",
   "metadata": {},
   "source": [
    "## Download and decompress dicom files"
   ]
  },
  {
   "cell_type": "code",
   "execution_count": null,
   "metadata": {},
   "outputs": [],
   "source": [
    "s3_download_decomp_dcm(train_test_ratio=0.5, downsample_ratio=0.0001, dcm_dir=dcm_dir, bucket=bucket)"
   ]
  }
 ],
 "metadata": {
  "kernelspec": {
   "display_name": "Environment (conda_usal_echo)",
   "language": "python",
   "name": "conda_usal_echo"
  },
  "language_info": {
   "codemirror_mode": {
    "name": "ipython",
    "version": 3
   },
   "file_extension": ".py",
   "mimetype": "text/x-python",
   "name": "python",
   "nbconvert_exporter": "python",
   "pygments_lexer": "ipython3",
   "version": "3.6.5"
  }
 },
 "nbformat": 4,
 "nbformat_minor": 2
}
