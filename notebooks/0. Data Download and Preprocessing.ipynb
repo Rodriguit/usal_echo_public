{
 "cells": [
  {
   "cell_type": "markdown",
   "metadata": {},
   "source": [
    "# Data Download and Pre-processing"
   ]
  },
  {
   "cell_type": "code",
   "execution_count": 1,
   "metadata": {},
   "outputs": [],
   "source": [
    "%reload_ext autoreload\n",
    "%autoreload 2\n",
    "\n",
    "import sys\n",
    "sys.path.append('./src')"
   ]
  },
  {
   "cell_type": "code",
   "execution_count": 3,
   "metadata": {},
   "outputs": [
    {
     "ename": "ModuleNotFoundError",
     "evalue": "No module named 'src'",
     "output_type": "error",
     "traceback": [
      "\u001b[0;31m---------------------------------------------------------------------------\u001b[0m",
      "\u001b[0;31mModuleNotFoundError\u001b[0m                       Traceback (most recent call last)",
      "\u001b[0;32m<ipython-input-3-93b961bb63d5>\u001b[0m in \u001b[0;36m<module>\u001b[0;34m\u001b[0m\n\u001b[0;32m----> 1\u001b[0;31m \u001b[0;32mfrom\u001b[0m \u001b[0msrc\u001b[0m\u001b[0;34m.\u001b[0m\u001b[0md01_data\u001b[0m\u001b[0;34m.\u001b[0m\u001b[0mingestion_dcm\u001b[0m \u001b[0;32mimport\u001b[0m \u001b[0mingest_dcm\u001b[0m\u001b[0;34m\u001b[0m\u001b[0;34m\u001b[0m\u001b[0m\n\u001b[0m\u001b[1;32m      2\u001b[0m \u001b[0;32mfrom\u001b[0m \u001b[0md01_data\u001b[0m\u001b[0;34m.\u001b[0m\u001b[0mingestion_xtdb\u001b[0m \u001b[0;32mimport\u001b[0m \u001b[0mingest_xtdb\u001b[0m\u001b[0;34m\u001b[0m\u001b[0;34m\u001b[0m\u001b[0m\n\u001b[1;32m      3\u001b[0m \u001b[0;32mfrom\u001b[0m \u001b[0md02_intermediate\u001b[0m\u001b[0;34m.\u001b[0m\u001b[0mclean_dcm\u001b[0m \u001b[0;32mimport\u001b[0m \u001b[0mclean_dcm_meta\u001b[0m\u001b[0;34m\u001b[0m\u001b[0;34m\u001b[0m\u001b[0m\n\u001b[1;32m      4\u001b[0m \u001b[0;32mfrom\u001b[0m \u001b[0md02_intermediate\u001b[0m\u001b[0;34m.\u001b[0m\u001b[0mclean_xtdb\u001b[0m \u001b[0;32mimport\u001b[0m \u001b[0mclean_tables\u001b[0m\u001b[0;34m\u001b[0m\u001b[0;34m\u001b[0m\u001b[0m\n\u001b[1;32m      5\u001b[0m \u001b[0;32mfrom\u001b[0m \u001b[0md02_intermediate\u001b[0m\u001b[0;34m.\u001b[0m\u001b[0mfilter_instances\u001b[0m \u001b[0;32mimport\u001b[0m \u001b[0mfilter_all\u001b[0m\u001b[0;34m\u001b[0m\u001b[0;34m\u001b[0m\u001b[0m\n",
      "\u001b[0;31mModuleNotFoundError\u001b[0m: No module named 'src'"
     ]
    }
   ],
   "source": [
    "from d01_data.ingestion_dcm import ingest_dcm\n",
    "from d01_data.ingestion_xtdb import ingest_xtdb\n",
    "from d02_intermediate.clean_dcm import clean_dcm_meta\n",
    "from d02_intermediate.clean_xtdb import clean_tables\n",
    "from d02_intermediate.filter_instances import filter_all\n",
    "from d02_intermediate.download_dcm import s3_download_decomp_dcm, dcmdir_to_jpgs_for_classification"
   ]
  },
  {
   "cell_type": "code",
   "execution_count": null,
   "metadata": {},
   "outputs": [],
   "source": [
    "with open(\"./conf/local/path_parameters.yml\") as f:\n",
    "    paths = yaml.safe_load(f)\n",
    "\n",
    "bucket = paths[\"bucket\"]\n",
    "dcm_dir = os.path.expanduser(paths[\"dcm_dir\"])"
   ]
  },
  {
   "cell_type": "markdown",
   "metadata": {},
   "source": [
    "## Ingest dicom metada and Xcelera csv files\n",
    "Retrieve data from s3 bucket. These functions write to database schema `.raw`."
   ]
  },
  {
   "cell_type": "code",
   "execution_count": null,
   "metadata": {},
   "outputs": [],
   "source": [
    "ingest_dcm(bucket) # This function takes a veeeery long time to run.\n",
    "ingest_xtdb(bucket)"
   ]
  },
  {
   "cell_type": "markdown",
   "metadata": {},
   "source": [
    "## Clean dicom metadata and Xcelera database tables\n",
    "These functions write to database schema `.clean`."
   ]
  },
  {
   "cell_type": "code",
   "execution_count": null,
   "metadata": {},
   "outputs": [],
   "source": [
    "clean_dcm_meta()\n",
    "clean_tables()"
   ]
  },
  {
   "cell_type": "markdown",
   "metadata": {},
   "source": [
    "## Filter study instances\n",
    "Theis function writes to database schema `.views`.\n",
    "\n",
    "The following tables are created:  \n",
    "* **views.machines_all_bmi**: list of all studies in db; columns: studyidk, machine type and bmi  \n",
    "* **views.machines_new_bmi**: same as machines_all_bmi, but only includes studies with new machines (_i.e. machine types ECOEPIQ2, EPIQ7-1, ECOIE33, AFFINITI_1, AFFINITI_2_) \n",
    "* **views.instances_unique_master_list**, a list of unique instances in the database (_unique means that instances with naming conflicts (e.g. duplicate instanceidk's) have been removed_)\n",
    "* **views.frames_w_labels**: all frames with labels plax, a4c, a2c\n",
    "* **views.frames_sorted_by_views_temp**: intermediate table; used by other scripts\n",
    "* **views.instances_w_conflicts**: instances to avoid\n",
    "* **views.instances_w_labels**: all instances which are labeled plax, a4c, a2c   \n",
    "    Assumption: if a frame has a view label, other frames within that instance correspond to the same view. This discludes instances which have >1 frames with conflicting labels\n",
    "    \n",
    "<font color='red'>All subsequent processes use **views.instances_w_labels** which are the ground truths for classification.</font> "
   ]
  },
  {
   "cell_type": "code",
   "execution_count": null,
   "metadata": {},
   "outputs": [],
   "source": [
    "filter_all()"
   ]
  },
  {
   "cell_type": "markdown",
   "metadata": {},
   "source": [
    "## Download and decompress dicom files"
   ]
  },
  {
   "cell_type": "code",
   "execution_count": null,
   "metadata": {},
   "outputs": [],
   "source": [
    "s3_download_decomp_dcm(train_test_ratio=0.5, downsample_ratio=0.001, dcm_dir, bucket=bucket)"
   ]
  }
 ],
 "metadata": {
  "kernelspec": {
   "display_name": "dssg",
   "language": "python",
   "name": "dssg"
  },
  "language_info": {
   "codemirror_mode": {
    "name": "ipython",
    "version": 3
   },
   "file_extension": ".py",
   "mimetype": "text/x-python",
   "name": "python",
   "nbconvert_exporter": "python",
   "pygments_lexer": "ipython3",
   "version": "3.7.3"
  }
 },
 "nbformat": 4,
 "nbformat_minor": 2
}
