{
 "cells": [
  {
   "cell_type": "code",
   "execution_count": 1,
   "metadata": {},
   "outputs": [],
   "source": [
    "import sys\n",
    "sys.path.append('../src/')\n",
    "from d00_utils.db_utils import dbReadWriteData"
   ]
  },
  {
   "cell_type": "code",
   "execution_count": 2,
   "metadata": {},
   "outputs": [
    {
     "name": "stderr",
     "output_type": "stream",
     "text": [
      "/home/ubuntu/anaconda3/envs/usal_echo/lib/python3.6/site-packages/psycopg2/__init__.py:144: UserWarning: The psycopg2 wheel package will be renamed from release 2.8; in order to keep installing from binary please use \"pip install psycopg2-binary\" instead. For details see: <http://initd.org/psycopg/docs/install.html#binary-install-from-pypi>.\n",
      "  \"\"\")\n"
     ]
    },
    {
     "data": {
      "text/html": [
       "<div>\n",
       "<style scoped>\n",
       "    .dataframe tbody tr th:only-of-type {\n",
       "        vertical-align: middle;\n",
       "    }\n",
       "\n",
       "    .dataframe tbody tr th {\n",
       "        vertical-align: top;\n",
       "    }\n",
       "\n",
       "    .dataframe thead th {\n",
       "        text-align: right;\n",
       "    }\n",
       "</style>\n",
       "<table border=\"1\" class=\"dataframe\">\n",
       "  <thead>\n",
       "    <tr style=\"text-align: right;\">\n",
       "      <th></th>\n",
       "      <th>sopinstanceuid</th>\n",
       "      <th>filename</th>\n",
       "      <th>instanceidk</th>\n",
       "      <th>view</th>\n",
       "      <th>studyidk</th>\n",
       "    </tr>\n",
       "  </thead>\n",
       "  <tbody>\n",
       "    <tr>\n",
       "      <th>0</th>\n",
       "      <td>1.2.840.113663.1500.1.365900332.3.4.20120703.9...</td>\n",
       "      <td>8Z0BWX0M</td>\n",
       "      <td>696109</td>\n",
       "      <td>plax</td>\n",
       "      <td>39531</td>\n",
       "    </tr>\n",
       "    <tr>\n",
       "      <th>1</th>\n",
       "      <td>1.2.840.113663.1500.1.365900332.3.7.20120703.9...</td>\n",
       "      <td>8Z0BWZGH</td>\n",
       "      <td>696112</td>\n",
       "      <td>a4c</td>\n",
       "      <td>39531</td>\n",
       "    </tr>\n",
       "    <tr>\n",
       "      <th>2</th>\n",
       "      <td>1.2.840.113663.1500.1.365900332.3.1.20120703.9...</td>\n",
       "      <td>8Z0BXKCB</td>\n",
       "      <td>696140</td>\n",
       "      <td>plax</td>\n",
       "      <td>39533</td>\n",
       "    </tr>\n",
       "    <tr>\n",
       "      <th>3</th>\n",
       "      <td>1.2.840.113663.1500.1.365900332.3.14.20120703....</td>\n",
       "      <td>8Z0BXYUW</td>\n",
       "      <td>696157</td>\n",
       "      <td>plax</td>\n",
       "      <td>39533</td>\n",
       "    </tr>\n",
       "    <tr>\n",
       "      <th>4</th>\n",
       "      <td>1.2.840.113663.1500.1.365900332.3.8.20120704.9...</td>\n",
       "      <td>8ZGVB44R</td>\n",
       "      <td>696422</td>\n",
       "      <td>plax</td>\n",
       "      <td>39552</td>\n",
       "    </tr>\n",
       "  </tbody>\n",
       "</table>\n",
       "</div>"
      ],
      "text/plain": [
       "                                      sopinstanceuid  filename  instanceidk  \\\n",
       "0  1.2.840.113663.1500.1.365900332.3.4.20120703.9...  8Z0BWX0M       696109   \n",
       "1  1.2.840.113663.1500.1.365900332.3.7.20120703.9...  8Z0BWZGH       696112   \n",
       "2  1.2.840.113663.1500.1.365900332.3.1.20120703.9...  8Z0BXKCB       696140   \n",
       "3  1.2.840.113663.1500.1.365900332.3.14.20120703....  8Z0BXYUW       696157   \n",
       "4  1.2.840.113663.1500.1.365900332.3.8.20120704.9...  8ZGVB44R       696422   \n",
       "\n",
       "   view  studyidk  \n",
       "0  plax     39531  \n",
       "1   a4c     39531  \n",
       "2  plax     39533  \n",
       "3  plax     39533  \n",
       "4  plax     39552  "
      ]
     },
     "execution_count": 2,
     "metadata": {},
     "output_type": "execute_result"
    }
   ],
   "source": [
    "io = dbReadWriteData()\n",
    "io.schema = 'views'\n",
    "\n",
    "df = io.get_table('instances_w_labels_train')\n",
    "df.head()"
   ]
  },
  {
   "cell_type": "code",
   "execution_count": 3,
   "metadata": {},
   "outputs": [
    {
     "data": {
      "text/html": [
       "<div>\n",
       "<style scoped>\n",
       "    .dataframe tbody tr th:only-of-type {\n",
       "        vertical-align: middle;\n",
       "    }\n",
       "\n",
       "    .dataframe tbody tr th {\n",
       "        vertical-align: top;\n",
       "    }\n",
       "\n",
       "    .dataframe thead th {\n",
       "        text-align: right;\n",
       "    }\n",
       "</style>\n",
       "<table border=\"1\" class=\"dataframe\">\n",
       "  <thead>\n",
       "    <tr style=\"text-align: right;\">\n",
       "      <th></th>\n",
       "      <th>sopinstanceuid</th>\n",
       "      <th>filename</th>\n",
       "      <th>instanceidk</th>\n",
       "      <th>view</th>\n",
       "      <th>studyidk</th>\n",
       "    </tr>\n",
       "  </thead>\n",
       "  <tbody>\n",
       "    <tr>\n",
       "      <th>0</th>\n",
       "      <td>1.2.840.113663.1500.1.365900332.3.4.20120703.9...</td>\n",
       "      <td>a_8Z0BWX0M</td>\n",
       "      <td>696109</td>\n",
       "      <td>plax</td>\n",
       "      <td>39531</td>\n",
       "    </tr>\n",
       "    <tr>\n",
       "      <th>1</th>\n",
       "      <td>1.2.840.113663.1500.1.365900332.3.7.20120703.9...</td>\n",
       "      <td>a_8Z0BWZGH</td>\n",
       "      <td>696112</td>\n",
       "      <td>a4c</td>\n",
       "      <td>39531</td>\n",
       "    </tr>\n",
       "    <tr>\n",
       "      <th>2</th>\n",
       "      <td>1.2.840.113663.1500.1.365900332.3.1.20120703.9...</td>\n",
       "      <td>a_8Z0BXKCB</td>\n",
       "      <td>696140</td>\n",
       "      <td>plax</td>\n",
       "      <td>39533</td>\n",
       "    </tr>\n",
       "    <tr>\n",
       "      <th>3</th>\n",
       "      <td>1.2.840.113663.1500.1.365900332.3.14.20120703....</td>\n",
       "      <td>a_8Z0BXYUW</td>\n",
       "      <td>696157</td>\n",
       "      <td>plax</td>\n",
       "      <td>39533</td>\n",
       "    </tr>\n",
       "    <tr>\n",
       "      <th>4</th>\n",
       "      <td>1.2.840.113663.1500.1.365900332.3.8.20120704.9...</td>\n",
       "      <td>a_8ZGVB44R</td>\n",
       "      <td>696422</td>\n",
       "      <td>plax</td>\n",
       "      <td>39552</td>\n",
       "    </tr>\n",
       "  </tbody>\n",
       "</table>\n",
       "</div>"
      ],
      "text/plain": [
       "                                      sopinstanceuid    filename  instanceidk  \\\n",
       "0  1.2.840.113663.1500.1.365900332.3.4.20120703.9...  a_8Z0BWX0M       696109   \n",
       "1  1.2.840.113663.1500.1.365900332.3.7.20120703.9...  a_8Z0BWZGH       696112   \n",
       "2  1.2.840.113663.1500.1.365900332.3.1.20120703.9...  a_8Z0BXKCB       696140   \n",
       "3  1.2.840.113663.1500.1.365900332.3.14.20120703....  a_8Z0BXYUW       696157   \n",
       "4  1.2.840.113663.1500.1.365900332.3.8.20120704.9...  a_8ZGVB44R       696422   \n",
       "\n",
       "   view  studyidk  \n",
       "0  plax     39531  \n",
       "1   a4c     39531  \n",
       "2  plax     39533  \n",
       "3  plax     39533  \n",
       "4  plax     39552  "
      ]
     },
     "execution_count": 3,
     "metadata": {},
     "output_type": "execute_result"
    }
   ],
   "source": [
    "df_new = df\n",
    "df_new['filename'] = 'a_' + df_new['filename'].astype(str)\n",
    "df_new.head()"
   ]
  },
  {
   "cell_type": "code",
   "execution_count": 4,
   "metadata": {},
   "outputs": [
    {
     "ename": "ProgrammingError",
     "evalue": "relation \"views.instances_w_labels_train_plusa\" does not exist\n",
     "output_type": "error",
     "traceback": [
      "\u001b[0;31m---------------------------------------------------------------------------\u001b[0m",
      "\u001b[0;31mProgrammingError\u001b[0m                          Traceback (most recent call last)",
      "\u001b[0;32m<ipython-input-4-93a2250a3992>\u001b[0m in \u001b[0;36m<module>\u001b[0;34m\u001b[0m\n\u001b[0;32m----> 1\u001b[0;31m \u001b[0mio\u001b[0m\u001b[0;34m.\u001b[0m\u001b[0msave_to_db\u001b[0m\u001b[0;34m(\u001b[0m\u001b[0mdf_new\u001b[0m\u001b[0;34m,\u001b[0m \u001b[0;34m'instances_w_labels_train_plusA'\u001b[0m\u001b[0;34m)\u001b[0m\u001b[0;34m\u001b[0m\u001b[0m\n\u001b[0m",
      "\u001b[0;32m~/dvv/usal_echo/src/d00_utils/db_utils.py\u001b[0m in \u001b[0;36msave_to_db\u001b[0;34m(self, df, db_table, if_exists)\u001b[0m\n\u001b[1;32m     88\u001b[0m             \u001b[0mnext\u001b[0m\u001b[0;34m(\u001b[0m\u001b[0mf\u001b[0m\u001b[0;34m)\u001b[0m  \u001b[0;31m# Skip the header row.\u001b[0m\u001b[0;34m\u001b[0m\u001b[0m\n\u001b[1;32m     89\u001b[0m             self.cursor.copy_from(\n\u001b[0;32m---> 90\u001b[0;31m                 \u001b[0mf\u001b[0m\u001b[0;34m,\u001b[0m \u001b[0;34m\"{}.{}\"\u001b[0m\u001b[0;34m.\u001b[0m\u001b[0mformat\u001b[0m\u001b[0;34m(\u001b[0m\u001b[0mself\u001b[0m\u001b[0;34m.\u001b[0m\u001b[0mschema\u001b[0m\u001b[0;34m,\u001b[0m \u001b[0mdb_table\u001b[0m\u001b[0;34m)\u001b[0m\u001b[0;34m,\u001b[0m \u001b[0msep\u001b[0m\u001b[0;34m=\u001b[0m\u001b[0;34m\"|\"\u001b[0m\u001b[0;34m,\u001b[0m \u001b[0msize\u001b[0m\u001b[0;34m=\u001b[0m\u001b[0;36m100000\u001b[0m\u001b[0;34m,\u001b[0m \u001b[0mnull\u001b[0m\u001b[0;34m=\u001b[0m\u001b[0;34m\"\"\u001b[0m\u001b[0;34m\u001b[0m\u001b[0m\n\u001b[0m\u001b[1;32m     91\u001b[0m             )\n\u001b[1;32m     92\u001b[0m             \u001b[0mself\u001b[0m\u001b[0;34m.\u001b[0m\u001b[0mraw_conn\u001b[0m\u001b[0;34m.\u001b[0m\u001b[0mcommit\u001b[0m\u001b[0;34m(\u001b[0m\u001b[0;34m)\u001b[0m\u001b[0;34m\u001b[0m\u001b[0m\n",
      "\u001b[0;31mProgrammingError\u001b[0m: relation \"views.instances_w_labels_train_plusa\" does not exist\n"
     ]
    }
   ],
   "source": [
    "io.save_to_db(df_new, 'instances_w_labels_train_plusA')"
   ]
  },
  {
   "cell_type": "code",
   "execution_count": null,
   "metadata": {},
   "outputs": [],
   "source": []
  }
 ],
 "metadata": {
  "kernelspec": {
   "display_name": "Python 3",
   "language": "python",
   "name": "python3"
  },
  "language_info": {
   "codemirror_mode": {
    "name": "ipython",
    "version": 3
   },
   "file_extension": ".py",
   "mimetype": "text/x-python",
   "name": "python",
   "nbconvert_exporter": "python",
   "pygments_lexer": "ipython3",
   "version": "3.6.5"
  }
 },
 "nbformat": 4,
 "nbformat_minor": 2
}
