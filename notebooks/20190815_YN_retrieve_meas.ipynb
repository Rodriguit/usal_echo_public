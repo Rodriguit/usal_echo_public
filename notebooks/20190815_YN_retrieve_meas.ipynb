{
 "cells": [
  {
   "cell_type": "code",
   "execution_count": 1,
   "metadata": {},
   "outputs": [],
   "source": [
    "%reload_ext autoreload\n",
    "%autoreload 2"
   ]
  },
  {
   "cell_type": "code",
   "execution_count": 2,
   "metadata": {},
   "outputs": [],
   "source": [
    "import sys\n",
    "sys.path.append('../src')"
   ]
  },
  {
   "cell_type": "code",
   "execution_count": 3,
   "metadata": {},
   "outputs": [
    {
     "name": "stderr",
     "output_type": "stream",
     "text": [
      "/home/ubuntu/anaconda3/envs/yoni/lib/python3.6/site-packages/psycopg2/__init__.py:144: UserWarning: The psycopg2 wheel package will be renamed from release 2.8; in order to keep installing from binary please use \"pip install psycopg2-binary\" instead. For details see: <http://initd.org/psycopg/docs/install.html#binary-install-from-pypi>.\n",
      "  \"\"\")\n",
      "/home/ubuntu/anaconda3/envs/yoni/lib/python3.6/site-packages/IPython/core/interactiveshell.py:3326: DtypeWarning: Columns (8,9) have mixed types. Specify dtype option on import or set low_memory=False.\n",
      "  exec(code_obj, self.user_global_ns, self.user_ns)\n"
     ]
    }
   ],
   "source": [
    "from d05_measurement.retrieve_meas import retrieve_meas\n",
    "retrieve_meas()"
   ]
  },
  {
   "cell_type": "code",
   "execution_count": 4,
   "metadata": {
    "scrolled": true
   },
   "outputs": [
    {
     "name": "stdout",
     "output_type": "stream",
     "text": [
      "(25109, 7)\n"
     ]
    },
    {
     "data": {
      "text/html": [
       "<div>\n",
       "<style scoped>\n",
       "    .dataframe tbody tr th:only-of-type {\n",
       "        vertical-align: middle;\n",
       "    }\n",
       "\n",
       "    .dataframe tbody tr th {\n",
       "        vertical-align: top;\n",
       "    }\n",
       "\n",
       "    .dataframe thead th {\n",
       "        text-align: right;\n",
       "    }\n",
       "</style>\n",
       "<table border=\"1\" class=\"dataframe\">\n",
       "  <thead>\n",
       "    <tr style=\"text-align: right;\">\n",
       "      <th></th>\n",
       "      <th>ground_truth_id</th>\n",
       "      <th>study_id</th>\n",
       "      <th>instance_id</th>\n",
       "      <th>file_name</th>\n",
       "      <th>measurement_name</th>\n",
       "      <th>measurement_unit</th>\n",
       "      <th>measurement_value</th>\n",
       "    </tr>\n",
       "  </thead>\n",
       "  <tbody>\n",
       "    <tr>\n",
       "      <th>0</th>\n",
       "      <td>50218</td>\n",
       "      <td>39531</td>\n",
       "      <td>696112</td>\n",
       "      <td>a_39531_8Z0BWZGH</td>\n",
       "      <td>VTD(MDD-ps4)</td>\n",
       "      <td>mL</td>\n",
       "      <td>138.023153580371</td>\n",
       "    </tr>\n",
       "    <tr>\n",
       "      <th>1</th>\n",
       "      <td>50219</td>\n",
       "      <td>39531</td>\n",
       "      <td>696112</td>\n",
       "      <td>a_39531_8Z0BWZGH</td>\n",
       "      <td>VTS(MDD-ps4)</td>\n",
       "      <td>mL</td>\n",
       "      <td>96.1217048828963</td>\n",
       "    </tr>\n",
       "    <tr>\n",
       "      <th>2</th>\n",
       "      <td>50220</td>\n",
       "      <td>39552</td>\n",
       "      <td>696426</td>\n",
       "      <td>a_39552_8ZGVB5TY</td>\n",
       "      <td>VTD(MDD-ps4)</td>\n",
       "      <td>mL</td>\n",
       "      <td>147.6939058118</td>\n",
       "    </tr>\n",
       "    <tr>\n",
       "      <th>3</th>\n",
       "      <td>50221</td>\n",
       "      <td>39552</td>\n",
       "      <td>696426</td>\n",
       "      <td>a_39552_8ZGVB5TY</td>\n",
       "      <td>VTS(MDD-ps4)</td>\n",
       "      <td>mL</td>\n",
       "      <td>65.1024746074442</td>\n",
       "    </tr>\n",
       "    <tr>\n",
       "      <th>4</th>\n",
       "      <td>50222</td>\n",
       "      <td>39553</td>\n",
       "      <td>696438</td>\n",
       "      <td>a_39553_8ZGVCN6C</td>\n",
       "      <td>VTD(MDD-ps4)</td>\n",
       "      <td>mL</td>\n",
       "      <td>122.502085154058</td>\n",
       "    </tr>\n",
       "  </tbody>\n",
       "</table>\n",
       "</div>"
      ],
      "text/plain": [
       "   ground_truth_id  study_id  instance_id         file_name measurement_name  \\\n",
       "0            50218     39531       696112  a_39531_8Z0BWZGH     VTD(MDD-ps4)   \n",
       "1            50219     39531       696112  a_39531_8Z0BWZGH     VTS(MDD-ps4)   \n",
       "2            50220     39552       696426  a_39552_8ZGVB5TY     VTD(MDD-ps4)   \n",
       "3            50221     39552       696426  a_39552_8ZGVB5TY     VTS(MDD-ps4)   \n",
       "4            50222     39553       696438  a_39553_8ZGVCN6C     VTD(MDD-ps4)   \n",
       "\n",
       "  measurement_unit measurement_value  \n",
       "0               mL  138.023153580371  \n",
       "1               mL  96.1217048828963  \n",
       "2               mL    147.6939058118  \n",
       "3               mL  65.1024746074442  \n",
       "4               mL  122.502085154058  "
      ]
     },
     "execution_count": 4,
     "metadata": {},
     "output_type": "execute_result"
    }
   ],
   "source": [
    "from d00_utils.db_utils import dbReadWriteMeasurement\n",
    "io_measurement = dbReadWriteMeasurement()\n",
    "ground_truths_df = io_measurement.get_table('ground_truths')\n",
    "print(ground_truths_df.shape)\n",
    "ground_truths_df.head()"
   ]
  }
 ],
 "metadata": {
  "kernelspec": {
   "display_name": "Environment (conda_yoni)",
   "language": "python",
   "name": "conda_yoni"
  },
  "language_info": {
   "codemirror_mode": {
    "name": "ipython",
    "version": 3
   },
   "file_extension": ".py",
   "mimetype": "text/x-python",
   "name": "python",
   "nbconvert_exporter": "python",
   "pygments_lexer": "ipython3",
   "version": "3.6.5"
  }
 },
 "nbformat": 4,
 "nbformat_minor": 2
}
