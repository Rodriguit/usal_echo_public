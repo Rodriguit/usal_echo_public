{
 "cells": [
  {
   "cell_type": "code",
   "execution_count": 1,
   "metadata": {},
   "outputs": [
    {
     "ename": "ModuleNotFoundError",
     "evalue": "No module named 'd00_utils'",
     "output_type": "error",
     "traceback": [
      "\u001b[0;31m---------------------------------------------------------------------------\u001b[0m",
      "\u001b[0;31mModuleNotFoundError\u001b[0m                       Traceback (most recent call last)",
      "\u001b[0;32m<ipython-input-1-39abd682c563>\u001b[0m in \u001b[0;36m<module>\u001b[0;34m\u001b[0m\n\u001b[1;32m      8\u001b[0m \u001b[0;32mfrom\u001b[0m \u001b[0mdb_utils\u001b[0m \u001b[0;32mimport\u001b[0m \u001b[0;34m*\u001b[0m\u001b[0;34m\u001b[0m\u001b[0;34m\u001b[0m\u001b[0m\n\u001b[1;32m      9\u001b[0m \u001b[0msys\u001b[0m\u001b[0;34m.\u001b[0m\u001b[0mpath\u001b[0m\u001b[0;34m.\u001b[0m\u001b[0mappend\u001b[0m\u001b[0;34m(\u001b[0m\u001b[0;34m'../src/d01_data'\u001b[0m\u001b[0;34m)\u001b[0m\u001b[0;34m\u001b[0m\u001b[0;34m\u001b[0m\u001b[0m\n\u001b[0;32m---> 10\u001b[0;31m \u001b[0;32mfrom\u001b[0m \u001b[0mingestion_xtdb\u001b[0m \u001b[0;32mimport\u001b[0m \u001b[0mingest_xtdb\u001b[0m\u001b[0;34m\u001b[0m\u001b[0;34m\u001b[0m\u001b[0m\n\u001b[0m\u001b[1;32m     11\u001b[0m \u001b[0msys\u001b[0m\u001b[0;34m.\u001b[0m\u001b[0mpath\u001b[0m\u001b[0;34m.\u001b[0m\u001b[0mappend\u001b[0m\u001b[0;34m(\u001b[0m\u001b[0;34m'../src/d02_intermediate'\u001b[0m\u001b[0;34m)\u001b[0m\u001b[0;34m\u001b[0m\u001b[0;34m\u001b[0m\u001b[0m\n\u001b[1;32m     12\u001b[0m \u001b[0;32mfrom\u001b[0m \u001b[0mclean_xtdb\u001b[0m \u001b[0;32mimport\u001b[0m \u001b[0;34m*\u001b[0m\u001b[0;34m\u001b[0m\u001b[0;34m\u001b[0m\u001b[0m\n",
      "\u001b[0;32m~/dicom_image_classification/src/d01_data/ingestion_xtdb.py\u001b[0m in \u001b[0;36m<module>\u001b[0;34m\u001b[0m\n\u001b[1;32m     10\u001b[0m \u001b[0;32mimport\u001b[0m \u001b[0mpandas\u001b[0m \u001b[0;32mas\u001b[0m \u001b[0mpd\u001b[0m\u001b[0;34m\u001b[0m\u001b[0;34m\u001b[0m\u001b[0m\n\u001b[1;32m     11\u001b[0m \u001b[0;34m\u001b[0m\u001b[0m\n\u001b[0;32m---> 12\u001b[0;31m \u001b[0;32mfrom\u001b[0m \u001b[0md00_utils\u001b[0m\u001b[0;34m.\u001b[0m\u001b[0ms3_utils\u001b[0m \u001b[0;32mimport\u001b[0m \u001b[0mget_matching_s3_keys\u001b[0m\u001b[0;34m\u001b[0m\u001b[0;34m\u001b[0m\u001b[0m\n\u001b[0m\u001b[1;32m     13\u001b[0m \u001b[0;32mfrom\u001b[0m \u001b[0md00_utils\u001b[0m\u001b[0;34m.\u001b[0m\u001b[0mdb_utils\u001b[0m \u001b[0;32mimport\u001b[0m \u001b[0mdbReadWriteRaw\u001b[0m\u001b[0;34m\u001b[0m\u001b[0;34m\u001b[0m\u001b[0m\n\u001b[1;32m     14\u001b[0m \u001b[0;34m\u001b[0m\u001b[0m\n",
      "\u001b[0;31mModuleNotFoundError\u001b[0m: No module named 'd00_utils'"
     ]
    }
   ],
   "source": [
    "import pandas as pandas\n",
    "import os\n",
    "import sys\n",
    "import json\n",
    "import psycopg2\n",
    "\n",
    "sys.path.append('../src/d00_utils')\n",
    "from db_utils import *\n",
    "sys.path.append('../src/d01_data')\n",
    "from ingestion_xtdb import ingest_xtdb\n",
    "sys.path.append('../src/d02_intermediate')\n",
    "from clean_xtdb import *"
   ]
  },
  {
   "cell_type": "code",
   "execution_count": null,
   "metadata": {},
   "outputs": [],
   "source": []
  },
  {
   "cell_type": "code",
   "execution_count": null,
   "metadata": {},
   "outputs": [],
   "source": [
    "io_raw = dbReadWriteRaw()\n",
    "\n"
   ]
  },
  {
   "cell_type": "code",
   "execution_count": 10,
   "metadata": {},
   "outputs": [],
   "source": [
    "# Define measurement names\n",
    "MEASUREMENTS_PARASTERNAL_LONG_AXIS_VIEW = ['Diám raíz Ao', \\\n",
    "    'Diám. Ao asc.', 'Diám TSVI', 'Dimensión AI']\n",
    "# POTENTIAL_MEASUREMENTS_PARASTERNAL_LONG_AXIS_VIEW = ['Diám TSVD', \\\n",
    "#      'DVItd', 'DVIts', 'SIVtd', 'PPVItd']\n",
    "# Note: Removed 'Diam TSVD' as a measurement which would classify\n",
    "# a view as PLAX as Antonio is unsure of this, 2019_09_07\n",
    "# This change disqualifies 650 frames from being considered PLAX\n",
    "POTENTIAL_MEASUREMENTS_PARASTERNAL_LONG_AXIS_VIEW = [ \\\n",
    "     'DVItd', 'DVIts', 'SIVtd', 'PPVItd']\n",
    "MEASUREMENTS_APICAL_4_CHAMBER_VIEW = ['AVItd ap4', 'VTD(el-ps4)', \\\n",
    "     'VTD(MDD-ps4)', 'VTD 4C', 'AVIts ap4', 'VTS(el-ps4)', \\\n",
    "     'VTS(MDD-ps4)', 'VTS 4C', 'Vol. AI (MOD-sp4)']\n",
    "MEASUREMENTS_APICAL_2_CHAMBER_VIEW = ['AVItd ap2', 'VTD(el-ps2)', \\\n",
    "    'VTD(MDD-ps2)', 'VTD 2C', 'AVIts ap2', 'VTS(el-ps2)', \\\n",
    "    'VTS(MDD-ps2)', 'VTS 2C', 'Vol. AI (MOD-sp2)']\n",
    "ALL_MEASUREMENTS = MEASUREMENTS_PARASTERNAL_LONG_AXIS_VIEW + \\\n",
    "    POTENTIAL_MEASUREMENTS_PARASTERNAL_LONG_AXIS_VIEW + \\\n",
    "    MEASUREMENTS_APICAL_4_CHAMBER_VIEW + MEASUREMENTS_APICAL_2_CHAMBER_VIEW\n",
    "MEASUREMENTS_END_DIASTOLIC = ['DVItd', 'SIVtd', 'PPVItd', \\\n",
    "'AVItd ap4', 'VTD(el-ps4)', 'VTD(MDD-ps4)', 'VTD 4C', 'AVItd ap2', \\\n",
    "'VTD(el-ps2)', 'VTD(MDD-ps2)', 'VTD 2C']\n",
    "MEASUREMENTS_END_SYSTOLIC = ['DVIts', 'AVIts ap4', 'VTS(el-ps4)', \\\n",
    "    'VTS(MDD-ps4)', 'VTS 4C', 'AVIts ap2', 'VTS(el-ps2)', \\\n",
    "    'VTS(MDD-ps2)', 'VTS 2C']"
   ]
  },
  {
   "cell_type": "code",
   "execution_count": 16,
   "metadata": {},
   "outputs": [
    {
     "data": {
      "text/plain": [
       "(0, 10)"
      ]
     },
     "execution_count": 16,
     "metadata": {},
     "output_type": "execute_result"
    }
   ],
   "source": [
    "io_clean = dbReadWriteClean()\n",
    "io_views = dbReadWriteViews()\n",
    "\n",
    "measurement_abstract_rpt_df = io_clean.get_table('measurement_abstract_rpt')\n",
    "measgraphref_df = io_clean.get_table('a_measgraphref')\n",
    "measgraphic_df = io_clean.get_table('a_measgraphic')\n",
    "\n",
    "\n",
    "\n",
    "#measurement_abstract_rpt_df.shape\n",
    "measgraphref_df.shape"
   ]
  },
  {
   "cell_type": "code",
   "execution_count": null,
   "metadata": {},
   "outputs": [],
   "source": [
    "# Filter out unnecessary columns in each table\n",
    "measgraphref_df = measgraphref_df[['studyidk', \\\n",
    "    'measabstractnumber', 'instanceidk', 'indexinmglist']]\n",
    "measgraphic_df = measgraphic_df[['instanceidk', \\\n",
    "    'indexinmglist', 'frame']]\n",
    "measurement_abstract_rpt_df = measurement_abstract_rpt_df[[\\\n",
    "    'studyid', 'measabstractnumber', 'name']]\n",
    "measurement_abstract_rpt_df = measurement_abstract_rpt_df.rename(\\\n",
    "    index=str, columns={\"studyid\": \"studyidk\"})\n",
    "\n",
    "# Merge individual dataframes into one\n",
    "merge_df = measgraphref_df.merge(measgraphic_df, on=[\\\n",
    "    'instanceidk', 'indexinmglist'])\n",
    "merge_df = merge_df.merge(measurement_abstract_rpt_df, on=[\\\n",
    "    'studyidk', 'measabstractnumber'])\n",
    "\n",
    "merge_df.shape"
   ]
  },
  {
   "cell_type": "code",
   "execution_count": null,
   "metadata": {},
   "outputs": [],
   "source": [
    "# df containing all frames for which we have measurements\n",
    "filter_df = merge_df#[merge_df.name.isin(ALL_MEASUREMENTS)].copy()\n",
    "\n",
    "filter_df['is_end_diastolic'] = filter_df['name'].isin(MEASUREMENTS_END_DIASTOLIC)\n",
    "filter_df['is_end_systolic'] = filter_df['name'].isin(MEASUREMENTS_END_SYSTOLIC)\n",
    "\n",
    "filter_df['is_plax'] = filter_df['name'].isin(MEASUREMENTS_PARASTERNAL_LONG_AXIS_VIEW)\n",
    "filter_df['maybe_plax'] = filter_df['name'].isin(POTENTIAL_MEASUREMENTS_PARASTERNAL_LONG_AXIS_VIEW)\n",
    "filter_df['is_a4c'] = filter_df['name'].isin(MEASUREMENTS_APICAL_4_CHAMBER_VIEW)\n",
    "filter_df['is_a2c'] = filter_df['name'].isin(MEASUREMENTS_APICAL_2_CHAMBER_VIEW)\n",
    "\n",
    "filter_df['view'] = ''\n",
    "filter_df.loc[filter_df['is_plax']==True, 'view'] = 'plax'\n",
    "filter_df.loc[filter_df['maybe_plax']==True, 'view'] = 'plax'\n",
    "filter_df.loc[filter_df['is_a4c']==True, 'view'] = 'a4c'\n",
    "filter_df.loc[filter_df['is_a2c']==True, 'view'] = 'a2c'\n",
    "\n",
    "filter_df.shape"
   ]
  },
  {
   "cell_type": "code",
   "execution_count": null,
   "metadata": {},
   "outputs": [],
   "source": [
    "group_df = filter_df.groupby(['instanceidk', 'indexinmglist']).first()\n",
    "group_df = group_df.drop(['measabstractnumber', 'name'], axis='columns')\n",
    "\n",
    "group_df = group_df.reset_index()\n",
    "(group_df.reset_index().groupby(['instanceidk', 'indexinmglist'])['view'].nunique().eq(1)==False).sum()\n",
    "(group_df.reset_index().groupby('instanceidk')['view'].nunique().eq(1)==False).sum()\n",
    "\n",
    "frames_with_views_df = group_df#.merge(is_instance_multiview, on='instanceidk')\n",
    "frames_with_views_df = frames_with_views_df.drop(['is_plax', 'maybe_plax', 'is_a4c', 'is_a2c'], axis=1)"
   ]
  },
  {
   "cell_type": "code",
   "execution_count": 8,
   "metadata": {},
   "outputs": [
    {
     "data": {
      "text/plain": [
       "(0, 7)"
      ]
     },
     "execution_count": 8,
     "metadata": {},
     "output_type": "execute_result"
    }
   ],
   "source": [
    "frames_with_views_df.shape"
   ]
  },
  {
   "cell_type": "code",
   "execution_count": null,
   "metadata": {},
   "outputs": [],
   "source": [
    "486877"
   ]
  },
  {
   "cell_type": "code",
   "execution_count": null,
   "metadata": {},
   "outputs": [],
   "source": []
  },
  {
   "cell_type": "code",
   "execution_count": null,
   "metadata": {},
   "outputs": [],
   "source": []
  },
  {
   "cell_type": "code",
   "execution_count": 57,
   "metadata": {},
   "outputs": [],
   "source": [
    "io = dbReadWriteData()\n",
    "\n",
    "# Read tables from postgres db, clean\n",
    "measurement_abstract_rpt_df = io.get_table('measurement_abstract_rpt')\n",
    "measgraphref_df = io.get_table('a_measgraphref')\n",
    "measgraphic_df = io.get_table('a_measgraphic')"
   ]
  },
  {
   "cell_type": "code",
   "execution_count": 58,
   "metadata": {},
   "outputs": [
    {
     "name": "stdout",
     "output_type": "stream",
     "text": [
      "Cleaning datatframe measurement_abstract_rpt_df\n",
      "Stripped string column name\n",
      "Stripped string column unitname\n",
      "Cleaning datatframe measgraphref_df\n",
      "Dropped 28264 rows with empty strings in column instanceidk, 829991 rows remaining\n",
      "Cast column instanceidk to int\n",
      "Cast column indexinmglist to int\n",
      "Dropped 6068 rows with negative values in column instanceidk, 823923 rows remaining\n",
      "Dropped 37 rows with negative values in column indexinmglist, 823886 rows remaining\n",
      "Dropped unknown column srinstanceidk\n",
      "Cleaning datatframe measgraphic_df\n",
      "Dropped unknown column graphictoolidk\n",
      "Dropped unknown column longaxisindex\n",
      "Dropped unknown column measidk\n",
      "Dropped unknown column loopidk\n",
      "Dropped unknown column instancerecordtype\n"
     ]
    }
   ],
   "source": [
    "measurement_abstract_rpt_df, measgraphref_df, measgraphic_df = \\\n",
    "    clean_measurement_datatframes(measurement_abstract_rpt_df, \\\n",
    "        measgraphref_df, measgraphic_df)"
   ]
  },
  {
   "cell_type": "code",
   "execution_count": 59,
   "metadata": {},
   "outputs": [
    {
     "data": {
      "text/html": [
       "<div>\n",
       "<style scoped>\n",
       "    .dataframe tbody tr th:only-of-type {\n",
       "        vertical-align: middle;\n",
       "    }\n",
       "\n",
       "    .dataframe tbody tr th {\n",
       "        vertical-align: top;\n",
       "    }\n",
       "\n",
       "    .dataframe thead th {\n",
       "        text-align: right;\n",
       "    }\n",
       "</style>\n",
       "<table border=\"1\" class=\"dataframe\">\n",
       "  <thead>\n",
       "    <tr style=\"text-align: right;\">\n",
       "      <th></th>\n",
       "      <th>instanceidk</th>\n",
       "      <th>studyidk</th>\n",
       "      <th>indexinmglist</th>\n",
       "      <th>is_end_diastolic</th>\n",
       "      <th>is_end_systolic</th>\n",
       "      <th>view</th>\n",
       "      <th>is_multiview</th>\n",
       "    </tr>\n",
       "  </thead>\n",
       "  <tbody>\n",
       "    <tr>\n",
       "      <th>0</th>\n",
       "      <td>57162</td>\n",
       "      <td>2882.0</td>\n",
       "      <td>0</td>\n",
       "      <td>False</td>\n",
       "      <td>False</td>\n",
       "      <td>plax</td>\n",
       "      <td>False</td>\n",
       "    </tr>\n",
       "    <tr>\n",
       "      <th>1</th>\n",
       "      <td>57164</td>\n",
       "      <td>2882.0</td>\n",
       "      <td>0</td>\n",
       "      <td>False</td>\n",
       "      <td>True</td>\n",
       "      <td>a4c</td>\n",
       "      <td>False</td>\n",
       "    </tr>\n",
       "    <tr>\n",
       "      <th>2</th>\n",
       "      <td>57164</td>\n",
       "      <td>2882.0</td>\n",
       "      <td>1</td>\n",
       "      <td>True</td>\n",
       "      <td>False</td>\n",
       "      <td>a4c</td>\n",
       "      <td>False</td>\n",
       "    </tr>\n",
       "    <tr>\n",
       "      <th>3</th>\n",
       "      <td>57571</td>\n",
       "      <td>2915.0</td>\n",
       "      <td>0</td>\n",
       "      <td>True</td>\n",
       "      <td>False</td>\n",
       "      <td>plax</td>\n",
       "      <td>False</td>\n",
       "    </tr>\n",
       "    <tr>\n",
       "      <th>4</th>\n",
       "      <td>58204</td>\n",
       "      <td>2966.0</td>\n",
       "      <td>0</td>\n",
       "      <td>False</td>\n",
       "      <td>False</td>\n",
       "      <td>plax</td>\n",
       "      <td>False</td>\n",
       "    </tr>\n",
       "  </tbody>\n",
       "</table>\n",
       "</div>"
      ],
      "text/plain": [
       "   instanceidk  studyidk  indexinmglist  is_end_diastolic  is_end_systolic  \\\n",
       "0        57162    2882.0              0             False            False   \n",
       "1        57164    2882.0              0             False             True   \n",
       "2        57164    2882.0              1              True            False   \n",
       "3        57571    2915.0              0              True            False   \n",
       "4        58204    2966.0              0             False            False   \n",
       "\n",
       "   view  is_multiview  \n",
       "0  plax         False  \n",
       "1   a4c         False  \n",
       "2   a4c         False  \n",
       "3  plax         False  \n",
       "4  plax         False  "
      ]
     },
     "execution_count": 59,
     "metadata": {},
     "output_type": "execute_result"
    }
   ],
   "source": [
    "'''\n",
    "Reads in the following tables from postgres database:\n",
    "    measurement_abstract_rpt, measgraphref, measgraphic\n",
    "Joins tables and filters out only frames that have view labels\n",
    "Each frame in csv output has the following attributes:\n",
    "    is_end_diastolic\n",
    "    is_end_systolic\n",
    "    view\n",
    "    is_multiview\n",
    "\n",
    "'''\n",
    "\n",
    "# Filter out unnecessary columns in each table\n",
    "measgraphref_df = measgraphref_df[['studyidk', \\\n",
    "    'measabstractnumber', 'instanceidk', 'indexinmglist']]\n",
    "measgraphic_df = measgraphic_df[['instanceidk', \\\n",
    "    'indexinmglist', 'frame']]\n",
    "measurement_abstract_rpt_df = measurement_abstract_rpt_df[[\\\n",
    "    'studyid', 'measabstractnumber', 'name']]\n",
    "measurement_abstract_rpt_df = measurement_abstract_rpt_df.rename(\\\n",
    "    index=str, columns={\"studyid\": \"studyidk\"})\n",
    "\n",
    "# Merge individual dataframes into one\n",
    "merge_df = measgraphref_df.merge(measgraphic_df, on=[\\\n",
    "    'instanceidk', 'indexinmglist'])\n",
    "merge_df = merge_df.merge(measurement_abstract_rpt_df, on=[\\\n",
    "    'studyidk', 'measabstractnumber'])\n",
    "\n",
    "# Define measurement names\n",
    "MEASUREMENTS_PARASTERNAL_LONG_AXIS_VIEW = ['Diám raíz Ao', \\\n",
    "    'Diám. Ao asc.', 'Diám TSVI', 'Dimensión AI']\n",
    "# POTENTIAL_MEASUREMENTS_PARASTERNAL_LONG_AXIS_VIEW = ['Diám TSVD', \\\n",
    "#      'DVItd', 'DVIts', 'SIVtd', 'PPVItd']\n",
    "# Note: Removed 'Diam TSVD' as a measurement which would classify\n",
    "# a view as PLAX as Antonio is unsure of this, 2019_09_07\n",
    "# This change disqualifies 650 frames from being considered PLAX\n",
    "POTENTIAL_MEASUREMENTS_PARASTERNAL_LONG_AXIS_VIEW = [ \\\n",
    "     'DVItd', 'DVIts', 'SIVtd', 'PPVItd']\n",
    "MEASUREMENTS_APICAL_4_CHAMBER_VIEW = ['AVItd ap4', 'VTD(el-ps4)', \\\n",
    "     'VTD(MDD-ps4)', 'VTD 4C', 'AVIts ap4', 'VTS(el-ps4)', \\\n",
    "     'VTS(MDD-ps4)', 'VTS 4C', 'Vol. AI (MOD-sp4)']\n",
    "MEASUREMENTS_APICAL_2_CHAMBER_VIEW = ['AVItd ap2', 'VTD(el-ps2)', \\\n",
    "    'VTD(MDD-ps2)', 'VTD 2C', 'AVIts ap2', 'VTS(el-ps2)', \\\n",
    "    'VTS(MDD-ps2)', 'VTS 2C', 'Vol. AI (MOD-sp2)']\n",
    "ALL_MEASUREMENTS = MEASUREMENTS_PARASTERNAL_LONG_AXIS_VIEW + \\\n",
    "    POTENTIAL_MEASUREMENTS_PARASTERNAL_LONG_AXIS_VIEW + \\\n",
    "    MEASUREMENTS_APICAL_4_CHAMBER_VIEW + MEASUREMENTS_APICAL_2_CHAMBER_VIEW\n",
    "MEASUREMENTS_END_DIASTOLIC = ['DVItd', 'SIVtd', 'PPVItd', \\\n",
    "'AVItd ap4', 'VTD(el-ps4)', 'VTD(MDD-ps4)', 'VTD 4C', 'AVItd ap2', \\\n",
    "'VTD(el-ps2)', 'VTD(MDD-ps2)', 'VTD 2C']\n",
    "MEASUREMENTS_END_SYSTOLIC = ['DVIts', 'AVIts ap4', 'VTS(el-ps4)', \\\n",
    "    'VTS(MDD-ps4)', 'VTS 4C', 'AVIts ap2', 'VTS(el-ps2)', \\\n",
    "    'VTS(MDD-ps2)', 'VTS 2C']\n",
    "\n",
    "# df containing all frames for which we have measurements\n",
    "filter_df = merge_df[merge_df.name.isin(ALL_MEASUREMENTS)].copy()\n",
    "\n",
    "filter_df['is_end_diastolic'] = filter_df['name'].isin(MEASUREMENTS_END_DIASTOLIC)\n",
    "filter_df['is_end_systolic'] = filter_df['name'].isin(MEASUREMENTS_END_SYSTOLIC)\n",
    "\n",
    "filter_df['is_plax'] = filter_df['name'].isin(MEASUREMENTS_PARASTERNAL_LONG_AXIS_VIEW)\n",
    "filter_df['maybe_plax'] = filter_df['name'].isin(POTENTIAL_MEASUREMENTS_PARASTERNAL_LONG_AXIS_VIEW)\n",
    "filter_df['is_a4c'] = filter_df['name'].isin(MEASUREMENTS_APICAL_4_CHAMBER_VIEW)\n",
    "filter_df['is_a2c'] = filter_df['name'].isin(MEASUREMENTS_APICAL_2_CHAMBER_VIEW)\n",
    "\n",
    "filter_df['view'] = ''\n",
    "filter_df.loc[filter_df['is_plax']==True, 'view'] = 'plax'\n",
    "filter_df.loc[filter_df['maybe_plax']==True, 'view'] = 'plax'\n",
    "filter_df.loc[filter_df['is_a4c']==True, 'view'] = 'a4c'\n",
    "filter_df.loc[filter_df['is_a2c']==True, 'view'] = 'a2c'\n",
    "\n",
    "group_df = filter_df.groupby(['instanceidk', 'frame']).first()\n",
    "group_df = group_df.drop(['measabstractnumber', 'name'], axis='columns')\n",
    "\n",
    "is_instance_multiview = (group_df.reset_index().groupby('instanceidk')['view'].nunique().eq(1)==False).reset_index()\n",
    "is_instance_multiview = is_instance_multiview.rename(index=str, columns={\"view\": \"is_multiview\"})\n",
    "\n",
    "frames_with_views_df = group_df.merge(is_instance_multiview, on='instanceidk')\n",
    "\n",
    "frames_with_views_df = frames_with_views_df.drop(['is_plax', 'maybe_plax', 'is_a4c', 'is_a2c'], axis=1)\n",
    "\n",
    "\n",
    "frames_with_views_df.head()"
   ]
  },
  {
   "cell_type": "code",
   "execution_count": 60,
   "metadata": {},
   "outputs": [],
   "source": [
    "io.save_to_db(frames_with_views_df, 'frames_sorted_by_views')"
   ]
  }
 ],
 "metadata": {
  "kernelspec": {
   "display_name": "dssg",
   "language": "python",
   "name": "dssg"
  },
  "language_info": {
   "codemirror_mode": {
    "name": "ipython",
    "version": 3
   },
   "file_extension": ".py",
   "mimetype": "text/x-python",
   "name": "python",
   "nbconvert_exporter": "python",
   "pygments_lexer": "ipython3",
   "version": "3.7.3"
  }
 },
 "nbformat": 4,
 "nbformat_minor": 2
}
