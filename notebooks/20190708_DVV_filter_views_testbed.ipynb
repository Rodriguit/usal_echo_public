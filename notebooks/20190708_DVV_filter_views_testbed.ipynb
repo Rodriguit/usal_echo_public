{
 "cells": [
  {
   "cell_type": "code",
   "execution_count": 2,
   "metadata": {},
   "outputs": [],
   "source": [
    "# Define measurement names\n",
    "MEASUREMENTS_PARASTERNAL_LONG_AXIS_VIEW = ['Diám raíz Ao', \\\n",
    "    'Diám. Ao asc.', 'Diám TSVI', 'Dimensión AI']\n",
    "# POTENTIAL_MEASUREMENTS_PARASTERNAL_LONG_AXIS_VIEW = ['Diám TSVD', \\\n",
    "#      'DVItd', 'DVIts', 'SIVtd', 'PPVItd']\n",
    "# Note: Removed 'Diam TSVD' as a measurement which would classify\n",
    "# a view as PLAX as Antonio is unsure of this, 2019_09_07\n",
    "# This change disqualifies 650 frames from being considered PLAX\n",
    "POTENTIAL_MEASUREMENTS_PARASTERNAL_LONG_AXIS_VIEW = [ \\\n",
    "     'DVItd', 'DVIts', 'SIVtd', 'PPVItd']\n",
    "MEASUREMENTS_APICAL_4_CHAMBER_VIEW = ['AVItd ap4', 'VTD(el-ps4)', \\\n",
    "     'VTD(MDD-ps4)', 'VTD 4C', 'AVIts ap4', 'VTS(el-ps4)', \\\n",
    "     'VTS(MDD-ps4)', 'VTS 4C', 'Vol. AI (MOD-sp4)']\n",
    "MEASUREMENTS_APICAL_2_CHAMBER_VIEW = ['AVItd ap2', 'VTD(el-ps2)', \\\n",
    "    'VTD(MDD-ps2)', 'VTD 2C', 'AVIts ap2', 'VTS(el-ps2)', \\\n",
    "    'VTS(MDD-ps2)', 'VTS 2C', 'Vol. AI (MOD-sp2)']\n",
    "ALL_MEASUREMENTS = MEASUREMENTS_PARASTERNAL_LONG_AXIS_VIEW + \\\n",
    "    POTENTIAL_MEASUREMENTS_PARASTERNAL_LONG_AXIS_VIEW + \\\n",
    "    MEASUREMENTS_APICAL_4_CHAMBER_VIEW + MEASUREMENTS_APICAL_2_CHAMBER_VIEW\n",
    "MEASUREMENTS_END_DIASTOLIC = ['DVItd', 'SIVtd', 'PPVItd', \\\n",
    "'AVItd ap4', 'VTD(el-ps4)', 'VTD(MDD-ps4)', 'VTD 4C', 'AVItd ap2', \\\n",
    "'VTD(el-ps2)', 'VTD(MDD-ps2)', 'VTD 2C']\n",
    "MEASUREMENTS_END_SYSTOLIC = ['DVIts', 'AVIts ap4', 'VTS(el-ps4)', \\\n",
    "    'VTS(MDD-ps4)', 'VTS 4C', 'AVIts ap2', 'VTS(el-ps2)', \\\n",
    "    'VTS(MDD-ps2)', 'VTS 2C']"
   ]
  },
  {
   "cell_type": "code",
   "execution_count": 3,
   "metadata": {},
   "outputs": [],
   "source": [
    "io_clean = dbReadWriteClean()\n",
    "io_views = dbReadWriteViews()\n",
    "\n",
    "measurement_abstract_rpt_df = io_clean.get_table('measurement_abstract_rpt')\n",
    "measgraphref_df = io_clean.get_table('a_measgraphref')\n",
    "measgraphic_df = io_clean.get_table('a_measgraphic')"
   ]
  },
  {
   "cell_type": "code",
   "execution_count": 4,
   "metadata": {},
   "outputs": [
    {
     "data": {
      "text/plain": [
       "(823833, 6)"
      ]
     },
     "execution_count": 4,
     "metadata": {},
     "output_type": "execute_result"
    }
   ],
   "source": [
    "# Filter out unnecessary columns in each table\n",
    "measgraphref_df = measgraphref_df[['studyidk', \\\n",
    "    'measabstractnumber', 'instanceidk', 'indexinmglist']]\n",
    "measgraphic_df = measgraphic_df[['instanceidk', \\\n",
    "    'indexinmglist', 'frame']]\n",
    "measurement_abstract_rpt_df = measurement_abstract_rpt_df[[\\\n",
    "    'studyidk', 'measabstractnumber', 'name']]\n",
    "\n",
    "# Merge individual dataframes into one\n",
    "merge_df = measgraphref_df.merge(measgraphic_df, on=[\\\n",
    "    'instanceidk', 'indexinmglist'])\n",
    "merge_df = merge_df.merge(measurement_abstract_rpt_df, on=[\\\n",
    "    'studyidk', 'measabstractnumber'])\n",
    "\n",
    "merge_df.shape"
   ]
  },
  {
   "cell_type": "code",
   "execution_count": 5,
   "metadata": {},
   "outputs": [
    {
     "data": {
      "text/plain": [
       "(823833, 13)"
      ]
     },
     "execution_count": 5,
     "metadata": {},
     "output_type": "execute_result"
    }
   ],
   "source": [
    "# df containing all frames for which we have measurements\n",
    "filter_df = merge_df#[merge_df.name.isin(ALL_MEASUREMENTS)].copy()\n",
    "\n",
    "filter_df['is_end_diastolic'] = filter_df['name'].isin(MEASUREMENTS_END_DIASTOLIC)\n",
    "filter_df['is_end_systolic'] = filter_df['name'].isin(MEASUREMENTS_END_SYSTOLIC)\n",
    "\n",
    "filter_df['is_plax'] = filter_df['name'].isin(MEASUREMENTS_PARASTERNAL_LONG_AXIS_VIEW)\n",
    "filter_df['maybe_plax'] = filter_df['name'].isin(POTENTIAL_MEASUREMENTS_PARASTERNAL_LONG_AXIS_VIEW)\n",
    "filter_df['is_a4c'] = filter_df['name'].isin(MEASUREMENTS_APICAL_4_CHAMBER_VIEW)\n",
    "filter_df['is_a2c'] = filter_df['name'].isin(MEASUREMENTS_APICAL_2_CHAMBER_VIEW)\n",
    "\n",
    "filter_df['view'] = ''\n",
    "filter_df.loc[filter_df['is_plax']==True, 'view'] = 'plax'\n",
    "filter_df.loc[filter_df['maybe_plax']==True, 'view'] = 'plax'\n",
    "filter_df.loc[filter_df['is_a4c']==True, 'view'] = 'a4c'\n",
    "filter_df.loc[filter_df['is_a2c']==True, 'view'] = 'a2c'\n",
    "\n",
    "filter_df.shape"
   ]
  },
  {
   "cell_type": "code",
   "execution_count": 6,
   "metadata": {},
   "outputs": [
    {
     "data": {
      "text/plain": [
       "13198"
      ]
     },
     "execution_count": 6,
     "metadata": {},
     "output_type": "execute_result"
    }
   ],
   "source": [
    "group_df = filter_df.groupby(['instanceidk', 'indexinmglist']).first()\n",
    "group_df = group_df.drop(['measabstractnumber', 'name'], axis='columns')\n",
    "\n",
    "group_df = group_df.reset_index()\n",
    "(group_df.reset_index().groupby(['instanceidk', 'indexinmglist'])['view'].nunique().eq(1)==False).sum()\n",
    "(group_df.reset_index().groupby('instanceidk')['view'].nunique().eq(1)==False).sum()"
   ]
  },
  {
   "cell_type": "code",
   "execution_count": 7,
   "metadata": {},
   "outputs": [],
   "source": [
    "is_instance_multiview = (group_df.reset_index().groupby('instanceidk')['view'].nunique().eq(1)==False).reset_index()"
   ]
  },
  {
   "cell_type": "code",
   "execution_count": 8,
   "metadata": {},
   "outputs": [],
   "source": [
    "is_instance_multiview = is_instance_multiview.rename(index=str, columns={\"view\": \"is_multiview\"})"
   ]
  },
  {
   "cell_type": "code",
   "execution_count": 9,
   "metadata": {},
   "outputs": [],
   "source": [
    "group_df = group_df.merge(is_instance_multiview, on='instanceidk')"
   ]
  },
  {
   "cell_type": "code",
   "execution_count": 10,
   "metadata": {},
   "outputs": [
    {
     "data": {
      "text/html": [
       "<div>\n",
       "<style scoped>\n",
       "    .dataframe tbody tr th:only-of-type {\n",
       "        vertical-align: middle;\n",
       "    }\n",
       "\n",
       "    .dataframe tbody tr th {\n",
       "        vertical-align: top;\n",
       "    }\n",
       "\n",
       "    .dataframe thead th {\n",
       "        text-align: right;\n",
       "    }\n",
       "</style>\n",
       "<table border=\"1\" class=\"dataframe\">\n",
       "  <thead>\n",
       "    <tr style=\"text-align: right;\">\n",
       "      <th></th>\n",
       "      <th>instanceidk</th>\n",
       "      <th>indexinmglist</th>\n",
       "      <th>studyidk</th>\n",
       "      <th>frame</th>\n",
       "      <th>is_end_diastolic</th>\n",
       "      <th>is_end_systolic</th>\n",
       "      <th>view</th>\n",
       "      <th>is_multiview</th>\n",
       "    </tr>\n",
       "  </thead>\n",
       "  <tbody>\n",
       "    <tr>\n",
       "      <th>0</th>\n",
       "      <td>57160</td>\n",
       "      <td>0</td>\n",
       "      <td>2882</td>\n",
       "      <td>0.0</td>\n",
       "      <td>False</td>\n",
       "      <td>False</td>\n",
       "      <td></td>\n",
       "      <td>False</td>\n",
       "    </tr>\n",
       "    <tr>\n",
       "      <th>1</th>\n",
       "      <td>57160</td>\n",
       "      <td>1</td>\n",
       "      <td>2882</td>\n",
       "      <td>0.0</td>\n",
       "      <td>False</td>\n",
       "      <td>False</td>\n",
       "      <td></td>\n",
       "      <td>False</td>\n",
       "    </tr>\n",
       "    <tr>\n",
       "      <th>2</th>\n",
       "      <td>57160</td>\n",
       "      <td>2</td>\n",
       "      <td>2882</td>\n",
       "      <td>0.0</td>\n",
       "      <td>False</td>\n",
       "      <td>False</td>\n",
       "      <td></td>\n",
       "      <td>False</td>\n",
       "    </tr>\n",
       "    <tr>\n",
       "      <th>3</th>\n",
       "      <td>57160</td>\n",
       "      <td>3</td>\n",
       "      <td>2882</td>\n",
       "      <td>0.0</td>\n",
       "      <td>False</td>\n",
       "      <td>False</td>\n",
       "      <td></td>\n",
       "      <td>False</td>\n",
       "    </tr>\n",
       "    <tr>\n",
       "      <th>4</th>\n",
       "      <td>57162</td>\n",
       "      <td>0</td>\n",
       "      <td>2882</td>\n",
       "      <td>5.0</td>\n",
       "      <td>False</td>\n",
       "      <td>False</td>\n",
       "      <td>plax</td>\n",
       "      <td>False</td>\n",
       "    </tr>\n",
       "  </tbody>\n",
       "</table>\n",
       "</div>"
      ],
      "text/plain": [
       "   instanceidk  indexinmglist  studyidk  frame  is_end_diastolic  \\\n",
       "0        57160              0      2882    0.0             False   \n",
       "1        57160              1      2882    0.0             False   \n",
       "2        57160              2      2882    0.0             False   \n",
       "3        57160              3      2882    0.0             False   \n",
       "4        57162              0      2882    5.0             False   \n",
       "\n",
       "   is_end_systolic  view  is_multiview  \n",
       "0            False               False  \n",
       "1            False               False  \n",
       "2            False               False  \n",
       "3            False               False  \n",
       "4            False  plax         False  "
      ]
     },
     "execution_count": 10,
     "metadata": {},
     "output_type": "execute_result"
    }
   ],
   "source": [
    "frames_with_views_df = group_df#.merge(is_instance_multiview, on='instanceidk')\n",
    "frames_with_views_df = frames_with_views_df.drop(['is_plax', 'maybe_plax', 'is_a4c', 'is_a2c'], axis=1)\n",
    "\n",
    "frames_with_views_df.head()"
   ]
  },
  {
   "cell_type": "code",
   "execution_count": 29,
   "metadata": {},
   "outputs": [
    {
     "data": {
      "text/plain": [
       "(486877, 8)"
      ]
     },
     "execution_count": 29,
     "metadata": {},
     "output_type": "execute_result"
    }
   ],
   "source": [
    "frames_with_views_df.shape"
   ]
  },
  {
   "cell_type": "code",
   "execution_count": 27,
   "metadata": {},
   "outputs": [
    {
     "data": {
      "text/plain": [
       "False    429469\n",
       "True      57408\n",
       "Name: is_multiview, dtype: int64"
      ]
     },
     "execution_count": 27,
     "metadata": {},
     "output_type": "execute_result"
    }
   ],
   "source": [
    "frames_with_views_df['is_multiview'].value_counts()\n",
    "# number of frames with conflicts"
   ]
  },
  {
   "cell_type": "code",
   "execution_count": 31,
   "metadata": {},
   "outputs": [
    {
     "data": {
      "text/plain": [
       "False    429469\n",
       "Name: is_multiview, dtype: int64"
      ]
     },
     "execution_count": 31,
     "metadata": {},
     "output_type": "execute_result"
    }
   ],
   "source": [
    "frames_with_single_views_df = df1.drop(df1[(df1['is_multiview']==True)].index)\n",
    "# here we drop all with multi_view\n",
    "\n",
    "frames_with_single_views_df['is_multiview'].value_counts()"
   ]
  },
  {
   "cell_type": "code",
   "execution_count": 22,
   "metadata": {},
   "outputs": [
    {
     "data": {
      "text/plain": [
       "        287774\n",
       "plax     94601\n",
       "a4c      28197\n",
       "a2c      18897\n",
       "Name: view, dtype: int64"
      ]
     },
     "execution_count": 22,
     "metadata": {},
     "output_type": "execute_result"
    }
   ],
   "source": [
    "frames_with_single_views_df['view'].value_counts()"
   ]
  }
 ],
 "metadata": {
  "kernelspec": {
   "display_name": "dssg",
   "language": "python",
   "name": "dssg"
  },
  "language_info": {
   "codemirror_mode": {
    "name": "ipython",
    "version": 3
   },
   "file_extension": ".py",
   "mimetype": "text/x-python",
   "name": "python",
   "nbconvert_exporter": "python",
   "pygments_lexer": "ipython3",
   "version": "3.7.3"
  }
 },
 "nbformat": 4,
 "nbformat_minor": 2
}
