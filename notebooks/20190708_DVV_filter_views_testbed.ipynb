{
 "cells": [
  {
   "cell_type": "code",
   "execution_count": 2,
   "metadata": {},
   "outputs": [],
   "source": [
    "import pandas as pandas\n",
    "import os\n",
    "import sys\n",
    "import json\n",
    "import psycopg2\n",
    "\n",
    "sys.path.append('../src')\n",
    "sys.path.append('../src/d00_utils')\n",
    "from db_utils import *\n",
    "sys.path.append('../src/d01_data')\n",
    "from ingestion_xtdb import ingest_xtdb\n",
    "sys.path.append('../src/d02_intermediate')\n",
    "from clean_xtdb import *"
   ]
  },
  {
   "cell_type": "code",
   "execution_count": 3,
   "metadata": {},
   "outputs": [],
   "source": [
    "# Define measurement names\n",
    "MEASUREMENTS_PARASTERNAL_LONG_AXIS_VIEW = ['Diám raíz Ao', \\\n",
    "    'Diám. Ao asc.', 'Diám TSVI', 'Dimensión AI']\n",
    "# POTENTIAL_MEASUREMENTS_PARASTERNAL_LONG_AXIS_VIEW = ['Diám TSVD', \\\n",
    "#      'DVItd', 'DVIts', 'SIVtd', 'PPVItd']\n",
    "# Note: Removed 'Diam TSVD' as a measurement which would classify\n",
    "# a view as PLAX as Antonio is unsure of this, 2019_09_07\n",
    "# This change disqualifies 650 frames from being considered PLAX\n",
    "POTENTIAL_MEASUREMENTS_PARASTERNAL_LONG_AXIS_VIEW = [ \\\n",
    "     'DVItd', 'DVIts', 'SIVtd', 'PPVItd']\n",
    "MEASUREMENTS_APICAL_4_CHAMBER_VIEW = ['AVItd ap4', 'VTD(el-ps4)', \\\n",
    "     'VTD(MDD-ps4)', 'VTD 4C', 'AVIts ap4', 'VTS(el-ps4)', \\\n",
    "     'VTS(MDD-ps4)', 'VTS 4C', 'Vol. AI (MOD-sp4)']\n",
    "MEASUREMENTS_APICAL_2_CHAMBER_VIEW = ['AVItd ap2', 'VTD(el-ps2)', \\\n",
    "    'VTD(MDD-ps2)', 'VTD 2C', 'AVIts ap2', 'VTS(el-ps2)', \\\n",
    "    'VTS(MDD-ps2)', 'VTS 2C', 'Vol. AI (MOD-sp2)']\n",
    "ALL_MEASUREMENTS = MEASUREMENTS_PARASTERNAL_LONG_AXIS_VIEW + \\\n",
    "    POTENTIAL_MEASUREMENTS_PARASTERNAL_LONG_AXIS_VIEW + \\\n",
    "    MEASUREMENTS_APICAL_4_CHAMBER_VIEW + MEASUREMENTS_APICAL_2_CHAMBER_VIEW\n",
    "MEASUREMENTS_END_DIASTOLIC = ['DVItd', 'SIVtd', 'PPVItd', \\\n",
    "'AVItd ap4', 'VTD(el-ps4)', 'VTD(MDD-ps4)', 'VTD 4C', 'AVItd ap2', \\\n",
    "'VTD(el-ps2)', 'VTD(MDD-ps2)', 'VTD 2C']\n",
    "MEASUREMENTS_END_SYSTOLIC = ['DVIts', 'AVIts ap4', 'VTS(el-ps4)', \\\n",
    "    'VTS(MDD-ps4)', 'VTS 4C', 'AVIts ap2', 'VTS(el-ps2)', \\\n",
    "    'VTS(MDD-ps2)', 'VTS 2C']"
   ]
  },
  {
   "cell_type": "code",
   "execution_count": 4,
   "metadata": {},
   "outputs": [],
   "source": [
    "io_clean = dbReadWriteClean()\n",
    "io_views = dbReadWriteViews()\n",
    "\n",
    "measurement_abstract_rpt_df = io_clean.get_table('measurement_abstract_rpt')\n",
    "measgraphref_df = io_clean.get_table('a_measgraphref')\n",
    "measgraphic_df = io_clean.get_table('a_measgraphic')"
   ]
  },
  {
   "cell_type": "code",
   "execution_count": 6,
   "metadata": {},
   "outputs": [
    {
     "data": {
      "text/plain": [
       "(823833, 6)"
      ]
     },
     "execution_count": 6,
     "metadata": {},
     "output_type": "execute_result"
    }
   ],
   "source": [
    "# Filter out unnecessary columns in each table\n",
    "measgraphref_df = measgraphref_df[['studyidk', \\\n",
    "    'measabstractnumber', 'instanceidk', 'indexinmglist']]\n",
    "measgraphic_df = measgraphic_df[['instanceidk', \\\n",
    "    'indexinmglist', 'frame']]\n",
    "measurement_abstract_rpt_df = measurement_abstract_rpt_df[[\\\n",
    "    'studyidk', 'measabstractnumber', 'name']]\n",
    "\n",
    "# Merge individual dataframes into one\n",
    "merge_df = measgraphref_df.merge(measgraphic_df, on=[\\\n",
    "    'instanceidk', 'indexinmglist'])\n",
    "merge_df = merge_df.merge(measurement_abstract_rpt_df, on=[\\\n",
    "    'studyidk', 'measabstractnumber'])\n",
    "\n",
    "merge_df.shape"
   ]
  },
  {
   "cell_type": "code",
   "execution_count": 7,
   "metadata": {},
   "outputs": [
    {
     "data": {
      "text/plain": [
       "(823833, 13)"
      ]
     },
     "execution_count": 7,
     "metadata": {},
     "output_type": "execute_result"
    }
   ],
   "source": [
    "# df containing all frames for which we have measurements\n",
    "filter_df = merge_df#[merge_df.name.isin(ALL_MEASUREMENTS)].copy()\n",
    "\n",
    "filter_df['is_end_diastolic'] = filter_df['name'].isin(MEASUREMENTS_END_DIASTOLIC)\n",
    "filter_df['is_end_systolic'] = filter_df['name'].isin(MEASUREMENTS_END_SYSTOLIC)\n",
    "\n",
    "filter_df['is_plax'] = filter_df['name'].isin(MEASUREMENTS_PARASTERNAL_LONG_AXIS_VIEW)\n",
    "filter_df['maybe_plax'] = filter_df['name'].isin(POTENTIAL_MEASUREMENTS_PARASTERNAL_LONG_AXIS_VIEW)\n",
    "filter_df['is_a4c'] = filter_df['name'].isin(MEASUREMENTS_APICAL_4_CHAMBER_VIEW)\n",
    "filter_df['is_a2c'] = filter_df['name'].isin(MEASUREMENTS_APICAL_2_CHAMBER_VIEW)\n",
    "\n",
    "filter_df['view'] = ''\n",
    "filter_df.loc[filter_df['is_plax']==True, 'view'] = 'plax'\n",
    "filter_df.loc[filter_df['maybe_plax']==True, 'view'] = 'plax'\n",
    "filter_df.loc[filter_df['is_a4c']==True, 'view'] = 'a4c'\n",
    "filter_df.loc[filter_df['is_a2c']==True, 'view'] = 'a2c'\n",
    "\n",
    "filter_df.shape"
   ]
  },
  {
   "cell_type": "code",
   "execution_count": 8,
   "metadata": {},
   "outputs": [],
   "source": [
    "group_df = filter_df.groupby(['instanceidk', 'indexinmglist']).first()\n",
    "group_df = group_df.drop(['measabstractnumber', 'name'], axis='columns')\n",
    "\n",
    "group_df = group_df.reset_index()\n",
    "(group_df.reset_index().groupby(['instanceidk', 'indexinmglist'])['view'].nunique().eq(1)==False).sum()\n",
    "(group_df.reset_index().groupby('instanceidk')['view'].nunique().eq(1)==False).sum()\n",
    "\n",
    "frames_with_views_df = group_df#.merge(is_instance_multiview, on='instanceidk')\n",
    "frames_with_views_df = frames_with_views_df.drop(['is_plax', 'maybe_plax', 'is_a4c', 'is_a2c'], axis=1)"
   ]
  },
  {
   "cell_type": "code",
   "execution_count": 9,
   "metadata": {},
   "outputs": [
    {
     "data": {
      "text/plain": [
       "(486877, 7)"
      ]
     },
     "execution_count": 9,
     "metadata": {},
     "output_type": "execute_result"
    }
   ],
   "source": [
    "frames_with_views_df.shape"
   ]
  }
 ],
 "metadata": {
  "kernelspec": {
   "display_name": "dssg",
   "language": "python",
   "name": "dssg"
  },
  "language_info": {
   "codemirror_mode": {
    "name": "ipython",
    "version": 3
   },
   "file_extension": ".py",
   "mimetype": "text/x-python",
   "name": "python",
   "nbconvert_exporter": "python",
   "pygments_lexer": "ipython3",
   "version": "3.7.3"
  }
 },
 "nbformat": 4,
 "nbformat_minor": 2
}
