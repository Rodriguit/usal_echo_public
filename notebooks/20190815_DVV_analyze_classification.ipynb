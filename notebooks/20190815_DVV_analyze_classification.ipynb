{
 "cells": [
  {
   "cell_type": "code",
   "execution_count": 14,
   "metadata": {},
   "outputs": [],
   "source": [
    "import pandas as pd\n",
    "import os, sys\n",
    "\n",
    "projectdir = os.path.dirname(os.getcwd())\n",
    "sys.path.append(os.path.join(projectdir, 'src'))\n",
    "\n",
    "from d00_utils.db_utils import dbReadWriteClassification, dbReadWriteViews"
   ]
  },
  {
   "cell_type": "code",
   "execution_count": 11,
   "metadata": {},
   "outputs": [
    {
     "name": "stdout",
     "output_type": "stream",
     "text": [
      "['evaluations', 'probabilities_frames', 'test1000_for_m1', 'probabilities_frames_test', 'test_probabilities_instances', 'test_probabilities_frames', 'ground_truths', 'test_predictions', 'test1000_for_m2_m3', 'probabilities_instances', 'evaluation', 'predictions']\n"
     ]
    }
   ],
   "source": [
    "io_class = dbReadWriteClassification()\n",
    "io_class.list_tables()"
   ]
  },
  {
   "cell_type": "code",
   "execution_count": 24,
   "metadata": {},
   "outputs": [
    {
     "name": "stdout",
     "output_type": "stream",
     "text": [
      "(25971, 2)\n"
     ]
    },
    {
     "data": {
      "text/html": [
       "<div>\n",
       "<style scoped>\n",
       "    .dataframe tbody tr th:only-of-type {\n",
       "        vertical-align: middle;\n",
       "    }\n",
       "\n",
       "    .dataframe tbody tr th {\n",
       "        vertical-align: top;\n",
       "    }\n",
       "\n",
       "    .dataframe thead th {\n",
       "        text-align: right;\n",
       "    }\n",
       "</style>\n",
       "<table border=\"1\" class=\"dataframe\">\n",
       "  <thead>\n",
       "    <tr style=\"text-align: right;\">\n",
       "      <th></th>\n",
       "      <th>view_true</th>\n",
       "      <th>file_name</th>\n",
       "    </tr>\n",
       "  </thead>\n",
       "  <tbody>\n",
       "    <tr>\n",
       "      <th>0</th>\n",
       "      <td>plax</td>\n",
       "      <td>a_39531_8Z0BWX0M</td>\n",
       "    </tr>\n",
       "    <tr>\n",
       "      <th>1</th>\n",
       "      <td>a4c</td>\n",
       "      <td>a_39531_8Z0BWZGH</td>\n",
       "    </tr>\n",
       "    <tr>\n",
       "      <th>2</th>\n",
       "      <td>plax</td>\n",
       "      <td>a_39533_8Z0BXKCB</td>\n",
       "    </tr>\n",
       "    <tr>\n",
       "      <th>3</th>\n",
       "      <td>plax</td>\n",
       "      <td>a_39533_8Z0BXYUW</td>\n",
       "    </tr>\n",
       "    <tr>\n",
       "      <th>4</th>\n",
       "      <td>plax</td>\n",
       "      <td>a_39552_8ZGVB44R</td>\n",
       "    </tr>\n",
       "  </tbody>\n",
       "</table>\n",
       "</div>"
      ],
      "text/plain": [
       "  view_true         file_name\n",
       "0      plax  a_39531_8Z0BWX0M\n",
       "1       a4c  a_39531_8Z0BWZGH\n",
       "2      plax  a_39533_8Z0BXKCB\n",
       "3      plax  a_39533_8Z0BXYUW\n",
       "4      plax  a_39552_8ZGVB44R"
      ]
     },
     "execution_count": 24,
     "metadata": {},
     "output_type": "execute_result"
    }
   ],
   "source": [
    "# df_true = io_class.get_table('ground_truths')\n",
    "\n",
    "# Load ground truth table instances_w_labels\n",
    "io_views = dbReadWriteViews()\n",
    "df_true = io_views.get_table('instances_w_labels')\n",
    "\n",
    "\n",
    "# Modify instances_w_labels in order to join w/ df_pred\n",
    "df_true['file_name'] = 'a_' + df_true['studyidk'].map(str) + '_' + df_true['filename']\n",
    "df_true.drop(columns=['studyidk', 'filename', 'sopinstanceuid', 'instanceidk'], inplace=True)\n",
    "df_true.rename(columns={'view': 'view_true'}, inplace=True)\n",
    "print(df_true.shape)\n",
    "df_true.head()"
   ]
  },
  {
   "cell_type": "code",
   "execution_count": 33,
   "metadata": {},
   "outputs": [
    {
     "name": "stdout",
     "output_type": "stream",
     "text": [
      "(2072, 9)\n"
     ]
    },
    {
     "data": {
      "text/html": [
       "<div>\n",
       "<style scoped>\n",
       "    .dataframe tbody tr th:only-of-type {\n",
       "        vertical-align: middle;\n",
       "    }\n",
       "\n",
       "    .dataframe tbody tr th {\n",
       "        vertical-align: top;\n",
       "    }\n",
       "\n",
       "    .dataframe thead th {\n",
       "        text-align: right;\n",
       "    }\n",
       "</style>\n",
       "<table border=\"1\" class=\"dataframe\">\n",
       "  <thead>\n",
       "    <tr style=\"text-align: right;\">\n",
       "      <th></th>\n",
       "      <th>study_id</th>\n",
       "      <th>file_name</th>\n",
       "      <th>model_name</th>\n",
       "      <th>date_run</th>\n",
       "      <th>img_dir</th>\n",
       "      <th>view23_pred</th>\n",
       "      <th>view4_dev</th>\n",
       "      <th>view4_seg</th>\n",
       "      <th>prediction_id</th>\n",
       "    </tr>\n",
       "  </thead>\n",
       "  <tbody>\n",
       "    <tr>\n",
       "      <th>2067</th>\n",
       "      <td>126772</td>\n",
       "      <td>a_126772_FDNHO33T</td>\n",
       "      <td>view_23_e5_class_11-Mar-2018</td>\n",
       "      <td>2019-08-15 15:38:48.380921</td>\n",
       "      <td>/home/ubuntu/data/02_intermediate/test_downsam...</td>\n",
       "      <td>other</td>\n",
       "      <td>other</td>\n",
       "      <td>other</td>\n",
       "      <td>2068</td>\n",
       "    </tr>\n",
       "    <tr>\n",
       "      <th>2068</th>\n",
       "      <td>126778</td>\n",
       "      <td>a_126778_FDNHPQ07</td>\n",
       "      <td>model.ckpt-6460</td>\n",
       "      <td>2019-08-15 15:46:05.448335</td>\n",
       "      <td>/home/ubuntu/data/02_intermediate/test_downsam...</td>\n",
       "      <td>plax_plax</td>\n",
       "      <td>plax</td>\n",
       "      <td>plax</td>\n",
       "      <td>2069</td>\n",
       "    </tr>\n",
       "    <tr>\n",
       "      <th>2069</th>\n",
       "      <td>126778</td>\n",
       "      <td>a_126778_FDNHPQ07</td>\n",
       "      <td>view_23_e5_class_11-Mar-2018</td>\n",
       "      <td>2019-08-15 15:38:48.380921</td>\n",
       "      <td>/home/ubuntu/data/02_intermediate/test_downsam...</td>\n",
       "      <td>other</td>\n",
       "      <td>other</td>\n",
       "      <td>other</td>\n",
       "      <td>2070</td>\n",
       "    </tr>\n",
       "    <tr>\n",
       "      <th>2070</th>\n",
       "      <td>126781</td>\n",
       "      <td>a_126781_FDNHQ1M9</td>\n",
       "      <td>model.ckpt-6460</td>\n",
       "      <td>2019-08-15 15:46:05.448335</td>\n",
       "      <td>/home/ubuntu/data/02_intermediate/test_downsam...</td>\n",
       "      <td>a4c</td>\n",
       "      <td>a4c</td>\n",
       "      <td>a4c</td>\n",
       "      <td>2071</td>\n",
       "    </tr>\n",
       "    <tr>\n",
       "      <th>2071</th>\n",
       "      <td>126781</td>\n",
       "      <td>a_126781_FDNHQ1M9</td>\n",
       "      <td>view_23_e5_class_11-Mar-2018</td>\n",
       "      <td>2019-08-15 15:38:48.380921</td>\n",
       "      <td>/home/ubuntu/data/02_intermediate/test_downsam...</td>\n",
       "      <td>a4c</td>\n",
       "      <td>a4c</td>\n",
       "      <td>a4c</td>\n",
       "      <td>2072</td>\n",
       "    </tr>\n",
       "  </tbody>\n",
       "</table>\n",
       "</div>"
      ],
      "text/plain": [
       "      study_id          file_name                    model_name  \\\n",
       "2067    126772  a_126772_FDNHO33T  view_23_e5_class_11-Mar-2018   \n",
       "2068    126778  a_126778_FDNHPQ07               model.ckpt-6460   \n",
       "2069    126778  a_126778_FDNHPQ07  view_23_e5_class_11-Mar-2018   \n",
       "2070    126781  a_126781_FDNHQ1M9               model.ckpt-6460   \n",
       "2071    126781  a_126781_FDNHQ1M9  view_23_e5_class_11-Mar-2018   \n",
       "\n",
       "                        date_run  \\\n",
       "2067  2019-08-15 15:38:48.380921   \n",
       "2068  2019-08-15 15:46:05.448335   \n",
       "2069  2019-08-15 15:38:48.380921   \n",
       "2070  2019-08-15 15:46:05.448335   \n",
       "2071  2019-08-15 15:38:48.380921   \n",
       "\n",
       "                                                img_dir view23_pred view4_dev  \\\n",
       "2067  /home/ubuntu/data/02_intermediate/test_downsam...       other     other   \n",
       "2068  /home/ubuntu/data/02_intermediate/test_downsam...   plax_plax      plax   \n",
       "2069  /home/ubuntu/data/02_intermediate/test_downsam...       other     other   \n",
       "2070  /home/ubuntu/data/02_intermediate/test_downsam...         a4c       a4c   \n",
       "2071  /home/ubuntu/data/02_intermediate/test_downsam...         a4c       a4c   \n",
       "\n",
       "     view4_seg  prediction_id  \n",
       "2067     other           2068  \n",
       "2068      plax           2069  \n",
       "2069     other           2070  \n",
       "2070       a4c           2071  \n",
       "2071       a4c           2072  "
      ]
     },
     "execution_count": 33,
     "metadata": {},
     "output_type": "execute_result"
    }
   ],
   "source": [
    "df_pred = io_class.get_table('predictions')\n",
    "print(df_pred.shape)\n",
    "df_pred.tail()"
   ]
  },
  {
   "cell_type": "code",
   "execution_count": 49,
   "metadata": {},
   "outputs": [
    {
     "name": "stdout",
     "output_type": "stream",
     "text": [
      "(2072, 9)\n"
     ]
    },
    {
     "data": {
      "text/html": [
       "<div>\n",
       "<style scoped>\n",
       "    .dataframe tbody tr th:only-of-type {\n",
       "        vertical-align: middle;\n",
       "    }\n",
       "\n",
       "    .dataframe tbody tr th {\n",
       "        vertical-align: top;\n",
       "    }\n",
       "\n",
       "    .dataframe thead th {\n",
       "        text-align: right;\n",
       "    }\n",
       "</style>\n",
       "<table border=\"1\" class=\"dataframe\">\n",
       "  <thead>\n",
       "    <tr style=\"text-align: right;\">\n",
       "      <th></th>\n",
       "      <th>x_dev</th>\n",
       "      <th>x_seg</th>\n",
       "      <th>view_true</th>\n",
       "      <th>view4_dev</th>\n",
       "      <th>view4_seg</th>\n",
       "      <th>view23_pred</th>\n",
       "      <th>model_name</th>\n",
       "      <th>prediction_id</th>\n",
       "      <th>file_name</th>\n",
       "    </tr>\n",
       "  </thead>\n",
       "  <tbody>\n",
       "    <tr>\n",
       "      <th>0</th>\n",
       "      <td>False</td>\n",
       "      <td>False</td>\n",
       "      <td>a4c</td>\n",
       "      <td>plax</td>\n",
       "      <td>plax</td>\n",
       "      <td>plax_plax</td>\n",
       "      <td>model.ckpt-6460</td>\n",
       "      <td>1</td>\n",
       "      <td>a_43763_1LHFYKEZ</td>\n",
       "    </tr>\n",
       "    <tr>\n",
       "      <th>1</th>\n",
       "      <td>True</td>\n",
       "      <td>True</td>\n",
       "      <td>a4c</td>\n",
       "      <td>a4c</td>\n",
       "      <td>a4c</td>\n",
       "      <td>a4c</td>\n",
       "      <td>view_23_e5_class_11-Mar-2018</td>\n",
       "      <td>2</td>\n",
       "      <td>a_43763_1LHFYKEZ</td>\n",
       "    </tr>\n",
       "    <tr>\n",
       "      <th>2</th>\n",
       "      <td>True</td>\n",
       "      <td>True</td>\n",
       "      <td>plax</td>\n",
       "      <td>plax</td>\n",
       "      <td>plax</td>\n",
       "      <td>plax_plax</td>\n",
       "      <td>model.ckpt-6460</td>\n",
       "      <td>3</td>\n",
       "      <td>a_45076_43IX4IH1</td>\n",
       "    </tr>\n",
       "    <tr>\n",
       "      <th>3</th>\n",
       "      <td>True</td>\n",
       "      <td>True</td>\n",
       "      <td>plax</td>\n",
       "      <td>plax</td>\n",
       "      <td>plax</td>\n",
       "      <td>plax_plax</td>\n",
       "      <td>view_23_e5_class_11-Mar-2018</td>\n",
       "      <td>4</td>\n",
       "      <td>a_45076_43IX4IH1</td>\n",
       "    </tr>\n",
       "    <tr>\n",
       "      <th>4</th>\n",
       "      <td>True</td>\n",
       "      <td>True</td>\n",
       "      <td>a4c</td>\n",
       "      <td>a4c</td>\n",
       "      <td>a4c</td>\n",
       "      <td>a4c</td>\n",
       "      <td>model.ckpt-6460</td>\n",
       "      <td>5</td>\n",
       "      <td>a_46919_7SQZPLEJ</td>\n",
       "    </tr>\n",
       "  </tbody>\n",
       "</table>\n",
       "</div>"
      ],
      "text/plain": [
       "   x_dev  x_seg view_true view4_dev view4_seg view23_pred  \\\n",
       "0  False  False       a4c      plax      plax   plax_plax   \n",
       "1   True   True       a4c       a4c       a4c         a4c   \n",
       "2   True   True      plax      plax      plax   plax_plax   \n",
       "3   True   True      plax      plax      plax   plax_plax   \n",
       "4   True   True       a4c       a4c       a4c         a4c   \n",
       "\n",
       "                     model_name  prediction_id         file_name  \n",
       "0               model.ckpt-6460              1  a_43763_1LHFYKEZ  \n",
       "1  view_23_e5_class_11-Mar-2018              2  a_43763_1LHFYKEZ  \n",
       "2               model.ckpt-6460              3  a_45076_43IX4IH1  \n",
       "3  view_23_e5_class_11-Mar-2018              4  a_45076_43IX4IH1  \n",
       "4               model.ckpt-6460              5  a_46919_7SQZPLEJ  "
      ]
     },
     "execution_count": 49,
     "metadata": {},
     "output_type": "execute_result"
    }
   ],
   "source": [
    "# merge tables, drop unnecessary cols\n",
    "df_merge = df_pred.merge(df_true, on='file_name')\n",
    "df_merge.drop(columns=['study_id', 'date_run', 'img_dir'], inplace=True)\n",
    "\n",
    "# add column to see if correct on M1, e.g. dev\n",
    "df_merge['x_dev'] = df_merge['view4_dev'] == df_merge['view_true']\n",
    "cols = df_merge.columns.tolist()\n",
    "#print(cols)\n",
    "cols_new = cols[-1:]  + cols[-2:-1] + cols[3:5] + cols[2:3] + cols[1:2] + cols[5:6] + cols[0:1]\n",
    "df_merge = df_merge[cols_new]\n",
    "\n",
    "# add column to see if correct on M2/M3, e.g. seg\n",
    "df_merge['x_seg'] = df_merge['view4_seg'] == df_merge['view_true']\n",
    "cols = df_merge.columns.tolist()\n",
    "#print(cols)\n",
    "cols_new = cols[0:1] + cols[-1:] + cols[1:-1]\n",
    "df_merge = df_merge[cols_new]\n",
    "\n",
    "print(df_merge.shape)\n",
    "df_merge.head()"
   ]
  },
  {
   "cell_type": "code",
   "execution_count": 75,
   "metadata": {},
   "outputs": [
    {
     "name": "stdout",
     "output_type": "stream",
     "text": [
      "Accuracy for M1 on zhang, model0\n",
      "True     754\n",
      "False    282\n",
      "Name: x_dev, dtype: int64\n",
      "True     1020\n",
      "False      16\n",
      "Name: x_dev, dtype: int64\n",
      "\n",
      "Accuracy for M2/M3 on zhang, model0\n",
      "False    532\n",
      "True     504\n",
      "Name: x_seg, dtype: int64\n",
      "True     1020\n",
      "False      16\n",
      "Name: x_seg, dtype: int64\n"
     ]
    }
   ],
   "source": [
    "modz_name = 'view_23_e5_class_11-Mar-2018'\n",
    "mod0_name = 'model.ckpt-6460'\n",
    "\n",
    "df = df_merge\n",
    "df_modz = df[df['model_name'] == modz_name]\n",
    "df_mod0 = df[df['model_name'] == mod0_name]\n",
    "\n",
    "print('Accuracy for M1 on zhang, model0')\n",
    "print(df_modz['x_dev'].value_counts())\n",
    "print(df_mod0['x_dev'].value_counts())\n",
    "\n",
    "print('\\nAccuracy for M2/M3 on zhang, model0')\n",
    "print(df_modz['x_seg'].value_counts())\n",
    "print(df_mod0['x_seg'].value_counts())"
   ]
  },
  {
   "cell_type": "code",
   "execution_count": 70,
   "metadata": {},
   "outputs": [
    {
     "name": "stdout",
     "output_type": "stream",
     "text": [
      "plax    525\n",
      "a4c     309\n",
      "a2c     202\n",
      "Name: view4_dev, dtype: int64\n"
     ]
    },
    {
     "data": {
      "text/html": [
       "<div>\n",
       "<style scoped>\n",
       "    .dataframe tbody tr th:only-of-type {\n",
       "        vertical-align: middle;\n",
       "    }\n",
       "\n",
       "    .dataframe tbody tr th {\n",
       "        vertical-align: top;\n",
       "    }\n",
       "\n",
       "    .dataframe thead tr th {\n",
       "        text-align: left;\n",
       "    }\n",
       "\n",
       "    .dataframe thead tr:last-of-type th {\n",
       "        text-align: right;\n",
       "    }\n",
       "</style>\n",
       "<table border=\"1\" class=\"dataframe\">\n",
       "  <thead>\n",
       "    <tr>\n",
       "      <th>view_true</th>\n",
       "      <th colspan=\"2\" halign=\"left\">a2c</th>\n",
       "      <th colspan=\"2\" halign=\"left\">a4c</th>\n",
       "      <th>plax</th>\n",
       "    </tr>\n",
       "    <tr>\n",
       "      <th>view4_dev</th>\n",
       "      <th>a2c</th>\n",
       "      <th>plax</th>\n",
       "      <th>a4c</th>\n",
       "      <th>plax</th>\n",
       "      <th>plax</th>\n",
       "    </tr>\n",
       "    <tr>\n",
       "      <th>x_dev</th>\n",
       "      <th></th>\n",
       "      <th></th>\n",
       "      <th></th>\n",
       "      <th></th>\n",
       "      <th></th>\n",
       "    </tr>\n",
       "  </thead>\n",
       "  <tbody>\n",
       "    <tr>\n",
       "      <th>False</th>\n",
       "      <td>0</td>\n",
       "      <td>9</td>\n",
       "      <td>0</td>\n",
       "      <td>7</td>\n",
       "      <td>0</td>\n",
       "    </tr>\n",
       "    <tr>\n",
       "      <th>True</th>\n",
       "      <td>202</td>\n",
       "      <td>0</td>\n",
       "      <td>309</td>\n",
       "      <td>0</td>\n",
       "      <td>509</td>\n",
       "    </tr>\n",
       "  </tbody>\n",
       "</table>\n",
       "</div>"
      ],
      "text/plain": [
       "view_true  a2c       a4c      plax\n",
       "view4_dev  a2c plax  a4c plax plax\n",
       "x_dev                             \n",
       "False        0    9    0    7    0\n",
       "True       202    0  309    0  509"
      ]
     },
     "execution_count": 70,
     "metadata": {},
     "output_type": "execute_result"
    }
   ],
   "source": [
    "print(df_mod0['view4_dev'].value_counts())\n",
    "\n",
    "df = df_mod0\n",
    "pd.crosstab(df['x_dev'], [df['view_true'], df['view4_dev']])"
   ]
  },
  {
   "cell_type": "code",
   "execution_count": 76,
   "metadata": {},
   "outputs": [],
   "source": [
    "# df_false = df_mod0[df_mod0['x_dev'] == False]\n",
    "# df_false.head(20)"
   ]
  },
  {
   "cell_type": "code",
   "execution_count": 68,
   "metadata": {},
   "outputs": [
    {
     "data": {
      "text/plain": [
       "<matplotlib.axes._subplots.AxesSubplot at 0x7fd420d6cf28>"
      ]
     },
     "execution_count": 68,
     "metadata": {},
     "output_type": "execute_result"
    },
    {
     "data": {
      "image/png": "[encoded data removed]",
      "text/plain": [
       "<Figure size 432x288 with 2 Axes>"
      ]
     },
     "metadata": {},
     "output_type": "display_data"
    }
   ],
   "source": [
    "from sklearn.metrics import confusion_matrix\n",
    "import seaborn as sns\n",
    "\n",
    "y_true = pd.Series(df['view_true'].tolist(), name='Actual')\n",
    "y_pred = pd.Series(df['view4_dev'].tolist(), name='Predicted')\n",
    "conf_matrix = pd.crosstab(y_true, y_pred)\n",
    "\n",
    "sns.heatmap(conf_matrix, annot=True, cmap='BuPu')"
   ]
  }
 ],
 "metadata": {
  "kernelspec": {
   "display_name": "Python 3",
   "language": "python",
   "name": "python3"
  },
  "language_info": {
   "codemirror_mode": {
    "name": "ipython",
    "version": 3
   },
   "file_extension": ".py",
   "mimetype": "text/x-python",
   "name": "python",
   "nbconvert_exporter": "python",
   "pygments_lexer": "ipython3",
   "version": "3.6.5"
  }
 },
 "nbformat": 4,
 "nbformat_minor": 2
}
