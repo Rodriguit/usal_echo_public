{
 "cells": [
  {
   "cell_type": "code",
   "execution_count": 1,
   "metadata": {},
   "outputs": [],
   "source": [
    "%reload_ext autoreload\n",
    "%autoreload 2\n",
    "%matplotlib inline"
   ]
  },
  {
   "cell_type": "code",
   "execution_count": 2,
   "metadata": {},
   "outputs": [],
   "source": [
    "import numpy as np\n",
    "import pandas as pd\n",
    "import matplotlib.pyplot as plt\n",
    "\n",
    "N_BINS = 20"
   ]
  },
  {
   "cell_type": "code",
   "execution_count": 3,
   "metadata": {},
   "outputs": [],
   "source": [
    "# Can't import the src package without these lines\n",
    "import sys\n",
    "sys.path.append(\"..\")"
   ]
  },
  {
   "cell_type": "code",
   "execution_count": 4,
   "metadata": {},
   "outputs": [],
   "source": [
    "from src.d01_data.db import read_table"
   ]
  },
  {
   "cell_type": "markdown",
   "metadata": {},
   "source": [
    "# 1. Read relevant tables into dataframes\n",
    "\n",
    "* `measurement_abstract_rpt`: 1,568,350 final (reported) study measurements (more than measured because some are automatically calculated)\n",
    "* `a_measgraphref`: 823,886 total (recorded) instance measurements (34,332 with bad `instanceidk` value, 37 with bad `indexinmglist` value)\n",
    "* `a_measgraphic`: 486,884 instance frames"
   ]
  },
  {
   "cell_type": "markdown",
   "metadata": {},
   "source": [
    "### `measurement_abstract_rpt`"
   ]
  },
  {
   "cell_type": "code",
   "execution_count": 5,
   "metadata": {},
   "outputs": [
    {
     "name": "stdout",
     "output_type": "stream",
     "text": [
      "(1568350, 6)\n"
     ]
    },
    {
     "data": {
      "text/html": [
       "<div>\n",
       "<style scoped>\n",
       "    .dataframe tbody tr th:only-of-type {\n",
       "        vertical-align: middle;\n",
       "    }\n",
       "\n",
       "    .dataframe tbody tr th {\n",
       "        vertical-align: top;\n",
       "    }\n",
       "\n",
       "    .dataframe thead th {\n",
       "        text-align: right;\n",
       "    }\n",
       "</style>\n",
       "<table border=\"1\" class=\"dataframe\">\n",
       "  <thead>\n",
       "    <tr style=\"text-align: right;\">\n",
       "      <th></th>\n",
       "      <th>row_id</th>\n",
       "      <th>studyid</th>\n",
       "      <th>measabstractnumber</th>\n",
       "      <th>name</th>\n",
       "      <th>value</th>\n",
       "      <th>unitname</th>\n",
       "    </tr>\n",
       "  </thead>\n",
       "  <tbody>\n",
       "    <tr>\n",
       "      <th>0</th>\n",
       "      <td>1.0</td>\n",
       "      <td>2882.0</td>\n",
       "      <td>2.0</td>\n",
       "      <td>(P1/2t)AVM</td>\n",
       "      <td>2.491754</td>\n",
       "      <td>cm2</td>\n",
       "    </tr>\n",
       "    <tr>\n",
       "      <th>1</th>\n",
       "      <td>2.0</td>\n",
       "      <td>2882.0</td>\n",
       "      <td>12.0</td>\n",
       "      <td>Area TSVI</td>\n",
       "      <td>3.606348</td>\n",
       "      <td>cm2</td>\n",
       "    </tr>\n",
       "    <tr>\n",
       "      <th>2</th>\n",
       "      <td>3.0</td>\n",
       "      <td>2882.0</td>\n",
       "      <td>43.0</td>\n",
       "      <td>FE(el-ps4)</td>\n",
       "      <td>37.032087</td>\n",
       "      <td>%</td>\n",
       "    </tr>\n",
       "    <tr>\n",
       "      <th>3</th>\n",
       "      <td>4.0</td>\n",
       "      <td>2882.0</td>\n",
       "      <td>46.0</td>\n",
       "      <td>FE(MDD-ps4)</td>\n",
       "      <td>35.095355</td>\n",
       "      <td>%</td>\n",
       "    </tr>\n",
       "    <tr>\n",
       "      <th>4</th>\n",
       "      <td>5.0</td>\n",
       "      <td>2882.0</td>\n",
       "      <td>125.0</td>\n",
       "      <td>P1/2t VM</td>\n",
       "      <td>88.291224</td>\n",
       "      <td>ms</td>\n",
       "    </tr>\n",
       "  </tbody>\n",
       "</table>\n",
       "</div>"
      ],
      "text/plain": [
       "   row_id  studyid  measabstractnumber                                 name  \\\n",
       "0     1.0   2882.0                 2.0  (P1/2t)AVM                            \n",
       "1     2.0   2882.0                12.0  Area TSVI                             \n",
       "2     3.0   2882.0                43.0  FE(el-ps4)                            \n",
       "3     4.0   2882.0                46.0  FE(MDD-ps4)                           \n",
       "4     5.0   2882.0               125.0  P1/2t VM                              \n",
       "\n",
       "       value          unitname  \n",
       "0   2.491754  cm2               \n",
       "1   3.606348  cm2               \n",
       "2  37.032087  %                 \n",
       "3  35.095355  %                 \n",
       "4  88.291224  ms                "
      ]
     },
     "execution_count": 5,
     "metadata": {},
     "output_type": "execute_result"
    }
   ],
   "source": [
    "measurement_abstract_rpt_df = read_table('measurement_abstract_rpt')\n",
    "print(measurement_abstract_rpt_df.shape)\n",
    "measurement_abstract_rpt_df.head()"
   ]
  },
  {
   "cell_type": "code",
   "execution_count": 6,
   "metadata": {},
   "outputs": [],
   "source": [
    "# Remove whitespace around measurement names to match with given measurements that correspond to views (fix units too)\n",
    "measurement_abstract_rpt_df['name'] = measurement_abstract_rpt_df['name'].str.strip()\n",
    "measurement_abstract_rpt_df['unitname'] = measurement_abstract_rpt_df['unitname'].str.strip()"
   ]
  },
  {
   "cell_type": "markdown",
   "metadata": {},
   "source": [
    "### `a_measgraphref`"
   ]
  },
  {
   "cell_type": "code",
   "execution_count": 7,
   "metadata": {},
   "outputs": [
    {
     "name": "stdout",
     "output_type": "stream",
     "text": [
      "(858255, 11)\n"
     ]
    },
    {
     "data": {
      "text/html": [
       "<div>\n",
       "<style scoped>\n",
       "    .dataframe tbody tr th:only-of-type {\n",
       "        vertical-align: middle;\n",
       "    }\n",
       "\n",
       "    .dataframe tbody tr th {\n",
       "        vertical-align: top;\n",
       "    }\n",
       "\n",
       "    .dataframe thead th {\n",
       "        text-align: right;\n",
       "    }\n",
       "</style>\n",
       "<table border=\"1\" class=\"dataframe\">\n",
       "  <thead>\n",
       "    <tr style=\"text-align: right;\">\n",
       "      <th></th>\n",
       "      <th>row_id</th>\n",
       "      <th>studyidk</th>\n",
       "      <th>measabstractnumber</th>\n",
       "      <th>meassequence</th>\n",
       "      <th>instanceidk</th>\n",
       "      <th>indexinmglist</th>\n",
       "      <th>value</th>\n",
       "      <th>howentered</th>\n",
       "      <th>srinstanceidk</th>\n",
       "      <th>imagesopinstanceuid</th>\n",
       "      <th>measurementuid</th>\n",
       "    </tr>\n",
       "  </thead>\n",
       "  <tbody>\n",
       "    <tr>\n",
       "      <th>0</th>\n",
       "      <td>1.0</td>\n",
       "      <td>2882.0</td>\n",
       "      <td>187.0</td>\n",
       "      <td>0.0</td>\n",
       "      <td>57164</td>\n",
       "      <td>0.0</td>\n",
       "      <td>28.242271</td>\n",
       "      <td>0.0</td>\n",
       "      <td></td>\n",
       "      <td></td>\n",
       "      <td></td>\n",
       "    </tr>\n",
       "    <tr>\n",
       "      <th>1</th>\n",
       "      <td>2.0</td>\n",
       "      <td>2882.0</td>\n",
       "      <td>188.0</td>\n",
       "      <td>0.0</td>\n",
       "      <td>57164</td>\n",
       "      <td>0.0</td>\n",
       "      <td>7.897812</td>\n",
       "      <td>0.0</td>\n",
       "      <td></td>\n",
       "      <td></td>\n",
       "      <td></td>\n",
       "    </tr>\n",
       "    <tr>\n",
       "      <th>2</th>\n",
       "      <td>3.0</td>\n",
       "      <td>2882.0</td>\n",
       "      <td>189.0</td>\n",
       "      <td>0.0</td>\n",
       "      <td>57164</td>\n",
       "      <td>0.0</td>\n",
       "      <td>85.725750</td>\n",
       "      <td>0.0</td>\n",
       "      <td></td>\n",
       "      <td></td>\n",
       "      <td></td>\n",
       "    </tr>\n",
       "    <tr>\n",
       "      <th>3</th>\n",
       "      <td>4.0</td>\n",
       "      <td>2882.0</td>\n",
       "      <td>190.0</td>\n",
       "      <td>0.0</td>\n",
       "      <td>57164</td>\n",
       "      <td>0.0</td>\n",
       "      <td>87.190031</td>\n",
       "      <td>0.0</td>\n",
       "      <td></td>\n",
       "      <td></td>\n",
       "      <td></td>\n",
       "    </tr>\n",
       "    <tr>\n",
       "      <th>4</th>\n",
       "      <td>5.0</td>\n",
       "      <td>2882.0</td>\n",
       "      <td>191.0</td>\n",
       "      <td>0.0</td>\n",
       "      <td>57164</td>\n",
       "      <td>1.0</td>\n",
       "      <td>36.654466</td>\n",
       "      <td>0.0</td>\n",
       "      <td></td>\n",
       "      <td></td>\n",
       "      <td></td>\n",
       "    </tr>\n",
       "  </tbody>\n",
       "</table>\n",
       "</div>"
      ],
      "text/plain": [
       "   row_id  studyidk  measabstractnumber  meassequence instanceidk  \\\n",
       "0     1.0    2882.0               187.0           0.0       57164   \n",
       "1     2.0    2882.0               188.0           0.0       57164   \n",
       "2     3.0    2882.0               189.0           0.0       57164   \n",
       "3     4.0    2882.0               190.0           0.0       57164   \n",
       "4     5.0    2882.0               191.0           0.0       57164   \n",
       "\n",
       "   indexinmglist      value  howentered srinstanceidk imagesopinstanceuid  \\\n",
       "0            0.0  28.242271         0.0                                     \n",
       "1            0.0   7.897812         0.0                                     \n",
       "2            0.0  85.725750         0.0                                     \n",
       "3            0.0  87.190031         0.0                                     \n",
       "4            1.0  36.654466         0.0                                     \n",
       "\n",
       "  measurementuid  \n",
       "0                 \n",
       "1                 \n",
       "2                 \n",
       "3                 \n",
       "4                 "
      ]
     },
     "execution_count": 7,
     "metadata": {},
     "output_type": "execute_result"
    }
   ],
   "source": [
    "measgraphref_df = read_table('a_measgraphref')\n",
    "print(measgraphref_df.shape)\n",
    "measgraphref_df.head()"
   ]
  },
  {
   "cell_type": "code",
   "execution_count": 8,
   "metadata": {},
   "outputs": [
    {
     "data": {
      "text/html": [
       "<div>\n",
       "<style scoped>\n",
       "    .dataframe tbody tr th:only-of-type {\n",
       "        vertical-align: middle;\n",
       "    }\n",
       "\n",
       "    .dataframe tbody tr th {\n",
       "        vertical-align: top;\n",
       "    }\n",
       "\n",
       "    .dataframe thead th {\n",
       "        text-align: right;\n",
       "    }\n",
       "</style>\n",
       "<table border=\"1\" class=\"dataframe\">\n",
       "  <thead>\n",
       "    <tr style=\"text-align: right;\">\n",
       "      <th></th>\n",
       "      <th>row_id</th>\n",
       "      <th>studyidk</th>\n",
       "      <th>measabstractnumber</th>\n",
       "      <th>meassequence</th>\n",
       "      <th>instanceidk</th>\n",
       "      <th>indexinmglist</th>\n",
       "      <th>value</th>\n",
       "      <th>howentered</th>\n",
       "      <th>imagesopinstanceuid</th>\n",
       "      <th>measurementuid</th>\n",
       "    </tr>\n",
       "  </thead>\n",
       "  <tbody>\n",
       "    <tr>\n",
       "      <th>0</th>\n",
       "      <td>1.0</td>\n",
       "      <td>2882.0</td>\n",
       "      <td>187.0</td>\n",
       "      <td>0.0</td>\n",
       "      <td>57164</td>\n",
       "      <td>0.0</td>\n",
       "      <td>28.242271</td>\n",
       "      <td>0.0</td>\n",
       "      <td></td>\n",
       "      <td></td>\n",
       "    </tr>\n",
       "    <tr>\n",
       "      <th>1</th>\n",
       "      <td>2.0</td>\n",
       "      <td>2882.0</td>\n",
       "      <td>188.0</td>\n",
       "      <td>0.0</td>\n",
       "      <td>57164</td>\n",
       "      <td>0.0</td>\n",
       "      <td>7.897812</td>\n",
       "      <td>0.0</td>\n",
       "      <td></td>\n",
       "      <td></td>\n",
       "    </tr>\n",
       "    <tr>\n",
       "      <th>2</th>\n",
       "      <td>3.0</td>\n",
       "      <td>2882.0</td>\n",
       "      <td>189.0</td>\n",
       "      <td>0.0</td>\n",
       "      <td>57164</td>\n",
       "      <td>0.0</td>\n",
       "      <td>85.725750</td>\n",
       "      <td>0.0</td>\n",
       "      <td></td>\n",
       "      <td></td>\n",
       "    </tr>\n",
       "    <tr>\n",
       "      <th>3</th>\n",
       "      <td>4.0</td>\n",
       "      <td>2882.0</td>\n",
       "      <td>190.0</td>\n",
       "      <td>0.0</td>\n",
       "      <td>57164</td>\n",
       "      <td>0.0</td>\n",
       "      <td>87.190031</td>\n",
       "      <td>0.0</td>\n",
       "      <td></td>\n",
       "      <td></td>\n",
       "    </tr>\n",
       "    <tr>\n",
       "      <th>4</th>\n",
       "      <td>5.0</td>\n",
       "      <td>2882.0</td>\n",
       "      <td>191.0</td>\n",
       "      <td>0.0</td>\n",
       "      <td>57164</td>\n",
       "      <td>1.0</td>\n",
       "      <td>36.654466</td>\n",
       "      <td>0.0</td>\n",
       "      <td></td>\n",
       "      <td></td>\n",
       "    </tr>\n",
       "  </tbody>\n",
       "</table>\n",
       "</div>"
      ],
      "text/plain": [
       "   row_id  studyidk  measabstractnumber  meassequence instanceidk  \\\n",
       "0     1.0    2882.0               187.0           0.0       57164   \n",
       "1     2.0    2882.0               188.0           0.0       57164   \n",
       "2     3.0    2882.0               189.0           0.0       57164   \n",
       "3     4.0    2882.0               190.0           0.0       57164   \n",
       "4     5.0    2882.0               191.0           0.0       57164   \n",
       "\n",
       "   indexinmglist      value  howentered imagesopinstanceuid measurementuid  \n",
       "0            0.0  28.242271         0.0                                     \n",
       "1            0.0   7.897812         0.0                                     \n",
       "2            0.0  85.725750         0.0                                     \n",
       "3            0.0  87.190031         0.0                                     \n",
       "4            1.0  36.654466         0.0                                     "
      ]
     },
     "execution_count": 8,
     "metadata": {},
     "output_type": "execute_result"
    }
   ],
   "source": [
    "# Drop fields with unknown descriptions in Xcelera documentation\n",
    "measgraphref_df = measgraphref_df.drop(\"srinstanceidk\", axis=\"columns\")\n",
    "measgraphref_df.head()"
   ]
  },
  {
   "cell_type": "code",
   "execution_count": 9,
   "metadata": {},
   "outputs": [],
   "source": [
    "BAD_INSTANCE_IDKS = [\"\", \"-1\"]"
   ]
  },
  {
   "cell_type": "code",
   "execution_count": 10,
   "metadata": {},
   "outputs": [
    {
     "data": {
      "text/plain": [
       "34332"
      ]
     },
     "execution_count": 10,
     "metadata": {},
     "output_type": "execute_result"
    }
   ],
   "source": [
    "len(measgraphref_df[measgraphref_df[\"instanceidk\"].isin(BAD_INSTANCE_IDKS)])"
   ]
  },
  {
   "cell_type": "code",
   "execution_count": 11,
   "metadata": {},
   "outputs": [
    {
     "data": {
      "text/plain": [
       "823923"
      ]
     },
     "execution_count": 11,
     "metadata": {},
     "output_type": "execute_result"
    }
   ],
   "source": [
    "# Drop bad instanceidk from dataframe and cast to int\n",
    "measgraphref_df = measgraphref_df[~measgraphref_df[\"instanceidk\"].isin(BAD_INSTANCE_IDKS)]\n",
    "measgraphref_df[\"instanceidk\"] = measgraphref_df[\"instanceidk\"].astype(int)\n",
    "len(measgraphref_df)"
   ]
  },
  {
   "cell_type": "code",
   "execution_count": 12,
   "metadata": {},
   "outputs": [
    {
     "data": {
      "text/plain": [
       "array([-1.,  0.,  1.,  2.,  3.,  4.,  5.,  6.,  7.,  8.,  9., 10., 11.,\n",
       "       12., 13., 14., 15.])"
      ]
     },
     "execution_count": 12,
     "metadata": {},
     "output_type": "execute_result"
    }
   ],
   "source": [
    "measgraphref_df['indexinmglist'].sort_values().unique()"
   ]
  },
  {
   "cell_type": "code",
   "execution_count": 13,
   "metadata": {},
   "outputs": [],
   "source": [
    "BAD_INDEX_IN_MG_LIST_VALUES = [-1]"
   ]
  },
  {
   "cell_type": "code",
   "execution_count": 14,
   "metadata": {},
   "outputs": [
    {
     "data": {
      "text/plain": [
       "37"
      ]
     },
     "execution_count": 14,
     "metadata": {},
     "output_type": "execute_result"
    }
   ],
   "source": [
    "len(measgraphref_df[measgraphref_df[\"indexinmglist\"].isin(BAD_INDEX_IN_MG_LIST_VALUES)])"
   ]
  },
  {
   "cell_type": "code",
   "execution_count": 15,
   "metadata": {},
   "outputs": [
    {
     "data": {
      "text/plain": [
       "823886"
      ]
     },
     "execution_count": 15,
     "metadata": {},
     "output_type": "execute_result"
    }
   ],
   "source": [
    "measgraphref_df = measgraphref_df[~measgraphref_df[\"indexinmglist\"].isin(BAD_INDEX_IN_MG_LIST_VALUES)]\n",
    "len(measgraphref_df)"
   ]
  },
  {
   "cell_type": "code",
   "execution_count": 16,
   "metadata": {},
   "outputs": [
    {
     "data": {
      "text/plain": [
       "array([0., 3., 5.])"
      ]
     },
     "execution_count": 16,
     "metadata": {},
     "output_type": "execute_result"
    }
   ],
   "source": [
    "measgraphref_df[\"howentered\"].unique()"
   ]
  },
  {
   "cell_type": "code",
   "execution_count": 17,
   "metadata": {},
   "outputs": [
    {
     "data": {
      "text/plain": [
       "5111"
      ]
     },
     "execution_count": 17,
     "metadata": {},
     "output_type": "execute_result"
    }
   ],
   "source": [
    "(measgraphref_df[\"imagesopinstanceuid\"] != \"\").sum()"
   ]
  },
  {
   "cell_type": "markdown",
   "metadata": {},
   "source": [
    "### `a_measgraphic`"
   ]
  },
  {
   "cell_type": "code",
   "execution_count": 18,
   "metadata": {},
   "outputs": [
    {
     "name": "stdout",
     "output_type": "stream",
     "text": [
      "(486884, 9)\n"
     ]
    },
    {
     "data": {
      "text/html": [
       "<div>\n",
       "<style scoped>\n",
       "    .dataframe tbody tr th:only-of-type {\n",
       "        vertical-align: middle;\n",
       "    }\n",
       "\n",
       "    .dataframe tbody tr th {\n",
       "        vertical-align: top;\n",
       "    }\n",
       "\n",
       "    .dataframe thead th {\n",
       "        text-align: right;\n",
       "    }\n",
       "</style>\n",
       "<table border=\"1\" class=\"dataframe\">\n",
       "  <thead>\n",
       "    <tr style=\"text-align: right;\">\n",
       "      <th></th>\n",
       "      <th>row_id</th>\n",
       "      <th>instanceidk</th>\n",
       "      <th>indexinmglist</th>\n",
       "      <th>frame</th>\n",
       "      <th>graphictoolidk</th>\n",
       "      <th>longaxisindex</th>\n",
       "      <th>measidk</th>\n",
       "      <th>loopidk</th>\n",
       "      <th>instancerecordtype</th>\n",
       "    </tr>\n",
       "  </thead>\n",
       "  <tbody>\n",
       "    <tr>\n",
       "      <th>0</th>\n",
       "      <td>1.0</td>\n",
       "      <td>57160.0</td>\n",
       "      <td>0.0</td>\n",
       "      <td>0.0</td>\n",
       "      <td>1.0</td>\n",
       "      <td>-1.0</td>\n",
       "      <td>0.0</td>\n",
       "      <td>0.0</td>\n",
       "      <td>False</td>\n",
       "    </tr>\n",
       "    <tr>\n",
       "      <th>1</th>\n",
       "      <td>2.0</td>\n",
       "      <td>57160.0</td>\n",
       "      <td>1.0</td>\n",
       "      <td>0.0</td>\n",
       "      <td>2.0</td>\n",
       "      <td>-1.0</td>\n",
       "      <td>0.0</td>\n",
       "      <td>0.0</td>\n",
       "      <td>False</td>\n",
       "    </tr>\n",
       "    <tr>\n",
       "      <th>2</th>\n",
       "      <td>3.0</td>\n",
       "      <td>57160.0</td>\n",
       "      <td>2.0</td>\n",
       "      <td>0.0</td>\n",
       "      <td>1.0</td>\n",
       "      <td>-1.0</td>\n",
       "      <td>0.0</td>\n",
       "      <td>0.0</td>\n",
       "      <td>False</td>\n",
       "    </tr>\n",
       "    <tr>\n",
       "      <th>3</th>\n",
       "      <td>4.0</td>\n",
       "      <td>57160.0</td>\n",
       "      <td>3.0</td>\n",
       "      <td>0.0</td>\n",
       "      <td>2.0</td>\n",
       "      <td>-1.0</td>\n",
       "      <td>0.0</td>\n",
       "      <td>0.0</td>\n",
       "      <td>False</td>\n",
       "    </tr>\n",
       "    <tr>\n",
       "      <th>4</th>\n",
       "      <td>5.0</td>\n",
       "      <td>57162.0</td>\n",
       "      <td>0.0</td>\n",
       "      <td>5.0</td>\n",
       "      <td>2.0</td>\n",
       "      <td>-1.0</td>\n",
       "      <td>0.0</td>\n",
       "      <td>0.0</td>\n",
       "      <td>False</td>\n",
       "    </tr>\n",
       "  </tbody>\n",
       "</table>\n",
       "</div>"
      ],
      "text/plain": [
       "   row_id  instanceidk  indexinmglist  frame  graphictoolidk  longaxisindex  \\\n",
       "0     1.0      57160.0            0.0    0.0             1.0           -1.0   \n",
       "1     2.0      57160.0            1.0    0.0             2.0           -1.0   \n",
       "2     3.0      57160.0            2.0    0.0             1.0           -1.0   \n",
       "3     4.0      57160.0            3.0    0.0             2.0           -1.0   \n",
       "4     5.0      57162.0            0.0    5.0             2.0           -1.0   \n",
       "\n",
       "   measidk  loopidk  instancerecordtype  \n",
       "0      0.0      0.0               False  \n",
       "1      0.0      0.0               False  \n",
       "2      0.0      0.0               False  \n",
       "3      0.0      0.0               False  \n",
       "4      0.0      0.0               False  "
      ]
     },
     "execution_count": 18,
     "metadata": {},
     "output_type": "execute_result"
    }
   ],
   "source": [
    "measgraphic_df = read_table('a_measgraphic')\n",
    "print(measgraphic_df.shape)\n",
    "measgraphic_df.head()"
   ]
  },
  {
   "cell_type": "code",
   "execution_count": 19,
   "metadata": {},
   "outputs": [
    {
     "data": {
      "text/html": [
       "<div>\n",
       "<style scoped>\n",
       "    .dataframe tbody tr th:only-of-type {\n",
       "        vertical-align: middle;\n",
       "    }\n",
       "\n",
       "    .dataframe tbody tr th {\n",
       "        vertical-align: top;\n",
       "    }\n",
       "\n",
       "    .dataframe thead th {\n",
       "        text-align: right;\n",
       "    }\n",
       "</style>\n",
       "<table border=\"1\" class=\"dataframe\">\n",
       "  <thead>\n",
       "    <tr style=\"text-align: right;\">\n",
       "      <th></th>\n",
       "      <th>row_id</th>\n",
       "      <th>instanceidk</th>\n",
       "      <th>indexinmglist</th>\n",
       "      <th>frame</th>\n",
       "    </tr>\n",
       "  </thead>\n",
       "  <tbody>\n",
       "    <tr>\n",
       "      <th>0</th>\n",
       "      <td>1.0</td>\n",
       "      <td>57160.0</td>\n",
       "      <td>0.0</td>\n",
       "      <td>0.0</td>\n",
       "    </tr>\n",
       "    <tr>\n",
       "      <th>1</th>\n",
       "      <td>2.0</td>\n",
       "      <td>57160.0</td>\n",
       "      <td>1.0</td>\n",
       "      <td>0.0</td>\n",
       "    </tr>\n",
       "    <tr>\n",
       "      <th>2</th>\n",
       "      <td>3.0</td>\n",
       "      <td>57160.0</td>\n",
       "      <td>2.0</td>\n",
       "      <td>0.0</td>\n",
       "    </tr>\n",
       "    <tr>\n",
       "      <th>3</th>\n",
       "      <td>4.0</td>\n",
       "      <td>57160.0</td>\n",
       "      <td>3.0</td>\n",
       "      <td>0.0</td>\n",
       "    </tr>\n",
       "    <tr>\n",
       "      <th>4</th>\n",
       "      <td>5.0</td>\n",
       "      <td>57162.0</td>\n",
       "      <td>0.0</td>\n",
       "      <td>5.0</td>\n",
       "    </tr>\n",
       "  </tbody>\n",
       "</table>\n",
       "</div>"
      ],
      "text/plain": [
       "   row_id  instanceidk  indexinmglist  frame\n",
       "0     1.0      57160.0            0.0    0.0\n",
       "1     2.0      57160.0            1.0    0.0\n",
       "2     3.0      57160.0            2.0    0.0\n",
       "3     4.0      57160.0            3.0    0.0\n",
       "4     5.0      57162.0            0.0    5.0"
      ]
     },
     "execution_count": 19,
     "metadata": {},
     "output_type": "execute_result"
    }
   ],
   "source": [
    "# Drop fields with unknown descriptions in Xcelera documentation\n",
    "measgraphic_df = measgraphic_df.drop([\"graphictoolidk\", \"longaxisindex\", \"measidk\", \"loopidk\", \"instancerecordtype\"], axis=\"columns\")\n",
    "measgraphic_df.head()"
   ]
  },
  {
   "cell_type": "markdown",
   "metadata": {},
   "source": [
    "# 2. Descriptive Statistics\n",
    "\n",
    "* 362 unique measurements\n",
    "* 24,912 unique studies with final (reported) measurements\n",
    "* 24,471 unique studies with total (recorded) measurements\n",
    "* 254,159 unique instances with total (recorded) measurements"
   ]
  },
  {
   "cell_type": "markdown",
   "metadata": {},
   "source": [
    "### What are the most/least common final (reported) measurements?"
   ]
  },
  {
   "cell_type": "code",
   "execution_count": 20,
   "metadata": {},
   "outputs": [
    {
     "data": {
      "text/plain": [
       "ASC                        22447\n",
       "Altura (unidad métrica)    21505\n",
       "Peso (unidad métrica)      21478\n",
       "IMC                        21447\n",
       "ASC (Haycock)              21438\n",
       "Vmáx V2 Ao                 20828\n",
       "GP máx Ao                  20827\n",
       "VTD(Teich)                 20623\n",
       "DVItd                      20623\n",
       "VTD(cúbico)                20613\n",
       "SIVtd                      20548\n",
       "PPVItd                     20430\n",
       "DSIV/DPPVI                 20309\n",
       "Masa VI(C)td               20297\n",
       "Vmáx E VM                  19978\n",
       "Masa VI (C)ltd             18560\n",
       "Grosor relativo pared      17856\n",
       "Vmáx A VM                  17617\n",
       "E/A VM                     17581\n",
       "VTD(MDD-ps4)               17547\n",
       "DVItd ap4                  17519\n",
       "VTS(MDD-ps4)               17239\n",
       "FE(MDD-ps4)                17228\n",
       "VS(MDD-ps4)                17224\n",
       "DVIts ap4                  17210\n",
       "VTD(el-ps4)                16665\n",
       "AVItd ap4                  16664\n",
       "VTS(el-ps4)                16354\n",
       "AVIts ap4                  16354\n",
       "FE(el-ps4)                 16338\n",
       "                           ...  \n",
       "Area VD ts                     1\n",
       "Tmsv 16-DIF (%)                1\n",
       "Tmsv 6-DIF (ms)                1\n",
       "Tmsv 12-SD (ms)                1\n",
       "Tmsv 6-SD (%)                  1\n",
       "Tmpo. R-R                      1\n",
       "E/A VT                         1\n",
       "Tmsv 12-DIF (ms)               1\n",
       "GP med AP (completo)           1\n",
       "Tmsv 6-SD (ms)                 1\n",
       "Excursión VI: DesvEst          1\n",
       "Area VD td                     1\n",
       "GC(VM 1 diám)                  1\n",
       "IC(VM 1 diám)                  1\n",
       "Excursión VI: media            1\n",
       "Tmsv 16-DIF (ms)               1\n",
       "AVP(I,D)                       1\n",
       "Diámetro de CIA                1\n",
       "RA ESA_phl                     1\n",
       "Tmsv 6-DIF (%)                 1\n",
       "IVC Diam_phl                   1\n",
       "FAC VD                         1\n",
       "AVP(I,A)                       1\n",
       "Tmsv 16-SD (%)                 1\n",
       "Excursión VI: mín              1\n",
       "Vmáx A VT                      1\n",
       "Vmáx E VT                      1\n",
       "Excursión VI: máx.             1\n",
       "RVIDd/LVIDd_phl                1\n",
       "Diám. TSVD proximal            1\n",
       "Name: name, Length: 362, dtype: int64"
      ]
     },
     "execution_count": 20,
     "metadata": {},
     "output_type": "execute_result"
    }
   ],
   "source": [
    "measurement_abstract_rpt_df['name'].value_counts()"
   ]
  },
  {
   "cell_type": "markdown",
   "metadata": {},
   "source": [
    "### What is the distribution of counts for final (reported) measurements?"
   ]
  },
  {
   "cell_type": "code",
   "execution_count": 21,
   "metadata": {},
   "outputs": [
    {
     "data": {
      "image/png": "[encoded data removed]",
      "text/plain": [
       "<Figure size 432x288 with 1 Axes>"
      ]
     },
     "metadata": {
      "needs_background": "light"
     },
     "output_type": "display_data"
    }
   ],
   "source": [
    "plt.title(\"Counts for Final Measurements\")\n",
    "final_measurement_counts = measurement_abstract_rpt_df['name'].value_counts().values\n",
    "plt.hist(final_measurement_counts, N_BINS);"
   ]
  },
  {
   "cell_type": "markdown",
   "metadata": {},
   "source": [
    "### What is the distribution of counts for final (reported) measurements per study?"
   ]
  },
  {
   "cell_type": "code",
   "execution_count": 22,
   "metadata": {
    "scrolled": true
   },
   "outputs": [
    {
     "data": {
      "text/plain": [
       "24912"
      ]
     },
     "execution_count": 22,
     "metadata": {},
     "output_type": "execute_result"
    }
   ],
   "source": [
    "final_measurement_counts_per_study = measurement_abstract_rpt_df.groupby(\"studyid\").size()\n",
    "len(final_measurement_counts_per_study)"
   ]
  },
  {
   "cell_type": "code",
   "execution_count": 23,
   "metadata": {
    "scrolled": true
   },
   "outputs": [
    {
     "data": {
      "text/plain": [
       "studyid\n",
       "2882.0    27\n",
       "2915.0    15\n",
       "2965.0     5\n",
       "2966.0    15\n",
       "3009.0    11\n",
       "dtype: int64"
      ]
     },
     "execution_count": 23,
     "metadata": {},
     "output_type": "execute_result"
    }
   ],
   "source": [
    "final_measurement_counts_per_study.head()"
   ]
  },
  {
   "cell_type": "code",
   "execution_count": 24,
   "metadata": {},
   "outputs": [
    {
     "data": {
      "text/plain": [
       "count    24912.000000\n",
       "mean        62.955604\n",
       "std         28.507135\n",
       "min          1.000000\n",
       "25%         42.000000\n",
       "50%         60.000000\n",
       "75%         84.000000\n",
       "max        146.000000\n",
       "dtype: float64"
      ]
     },
     "execution_count": 24,
     "metadata": {},
     "output_type": "execute_result"
    }
   ],
   "source": [
    "final_measurement_counts_per_study.describe()"
   ]
  },
  {
   "cell_type": "code",
   "execution_count": 25,
   "metadata": {
    "scrolled": false
   },
   "outputs": [
    {
     "data": {
      "image/png": "[encoded data removed]",
      "text/plain": [
       "<Figure size 432x288 with 1 Axes>"
      ]
     },
     "metadata": {
      "needs_background": "light"
     },
     "output_type": "display_data"
    }
   ],
   "source": [
    "plt.title(\"Counts for Final (Reported) Measurements Per Study\")\n",
    "plt.hist(final_measurement_counts_per_study.values, N_BINS);"
   ]
  },
  {
   "cell_type": "markdown",
   "metadata": {},
   "source": [
    "### What is the distribution of counts for total (recorded) measurements per study?"
   ]
  },
  {
   "cell_type": "code",
   "execution_count": 26,
   "metadata": {},
   "outputs": [
    {
     "data": {
      "text/plain": [
       "24471"
      ]
     },
     "execution_count": 26,
     "metadata": {},
     "output_type": "execute_result"
    }
   ],
   "source": [
    "total_measurement_counts_per_study = measgraphref_df.groupby(\"studyidk\").size()\n",
    "len(total_measurement_counts_per_study)"
   ]
  },
  {
   "cell_type": "code",
   "execution_count": 27,
   "metadata": {},
   "outputs": [
    {
     "data": {
      "text/plain": [
       "studyidk\n",
       "2882.0    20\n",
       "2915.0     3\n",
       "2965.0     5\n",
       "2966.0    10\n",
       "3009.0     2\n",
       "dtype: int64"
      ]
     },
     "execution_count": 27,
     "metadata": {},
     "output_type": "execute_result"
    }
   ],
   "source": [
    "total_measurement_counts_per_study.head()"
   ]
  },
  {
   "cell_type": "code",
   "execution_count": 28,
   "metadata": {},
   "outputs": [
    {
     "data": {
      "text/plain": [
       "count    24471.000000\n",
       "mean        33.667852\n",
       "std         15.882193\n",
       "min          1.000000\n",
       "25%         22.000000\n",
       "50%         33.000000\n",
       "75%         44.000000\n",
       "max        148.000000\n",
       "dtype: float64"
      ]
     },
     "execution_count": 28,
     "metadata": {},
     "output_type": "execute_result"
    }
   ],
   "source": [
    "total_measurement_counts_per_study.describe()"
   ]
  },
  {
   "cell_type": "code",
   "execution_count": 29,
   "metadata": {
    "scrolled": false
   },
   "outputs": [
    {
     "data": {
      "image/png": "[encoded data removed]",
      "text/plain": [
       "<Figure size 432x288 with 1 Axes>"
      ]
     },
     "metadata": {
      "needs_background": "light"
     },
     "output_type": "display_data"
    }
   ],
   "source": [
    "plt.title(\"Counts for Total (Recorded) Measurements Per Study\")\n",
    "plt.hist(total_measurement_counts_per_study.values, N_BINS);"
   ]
  },
  {
   "cell_type": "markdown",
   "metadata": {},
   "source": [
    "### What is the distribution of counts for total (recorded) measurements per instance?"
   ]
  },
  {
   "cell_type": "code",
   "execution_count": 30,
   "metadata": {},
   "outputs": [
    {
     "data": {
      "text/plain": [
       "254159"
      ]
     },
     "execution_count": 30,
     "metadata": {},
     "output_type": "execute_result"
    }
   ],
   "source": [
    "total_measurement_counts_per_instance = measgraphref_df.groupby(\"instanceidk\").size()\n",
    "len(total_measurement_counts_per_instance)"
   ]
  },
  {
   "cell_type": "code",
   "execution_count": 31,
   "metadata": {},
   "outputs": [
    {
     "data": {
      "text/plain": [
       "instanceidk\n",
       "57160    4\n",
       "57162    1\n",
       "57164    8\n",
       "57166    5\n",
       "57169    2\n",
       "dtype: int64"
      ]
     },
     "execution_count": 31,
     "metadata": {},
     "output_type": "execute_result"
    }
   ],
   "source": [
    "total_measurement_counts_per_instance.head()"
   ]
  },
  {
   "cell_type": "code",
   "execution_count": 32,
   "metadata": {},
   "outputs": [
    {
     "data": {
      "text/plain": [
       "count    254159.000000\n",
       "mean          3.241616\n",
       "std           2.722846\n",
       "min           1.000000\n",
       "25%           1.000000\n",
       "50%           2.000000\n",
       "75%           5.000000\n",
       "max          27.000000\n",
       "dtype: float64"
      ]
     },
     "execution_count": 32,
     "metadata": {},
     "output_type": "execute_result"
    }
   ],
   "source": [
    "total_measurement_counts_per_instance.describe()"
   ]
  },
  {
   "cell_type": "code",
   "execution_count": 33,
   "metadata": {},
   "outputs": [],
   "source": [
    "total_measurement_counts_per_instance = total_measurement_counts_per_instance.sort_values(ascending=False)"
   ]
  },
  {
   "cell_type": "code",
   "execution_count": 34,
   "metadata": {},
   "outputs": [
    {
     "data": {
      "image/png": "[encoded data removed]",
      "text/plain": [
       "<Figure size 432x288 with 1 Axes>"
      ]
     },
     "metadata": {
      "needs_background": "light"
     },
     "output_type": "display_data"
    }
   ],
   "source": [
    "plt.title(\"Counts for Total (Recorded) Measurements Per Instance\")\n",
    "plt.hist(total_measurement_counts_per_instance.values, N_BINS);"
   ]
  },
  {
   "cell_type": "code",
   "execution_count": 35,
   "metadata": {},
   "outputs": [
    {
     "data": {
      "image/png": "[encoded data removed]",
      "text/plain": [
       "<Figure size 432x288 with 1 Axes>"
      ]
     },
     "metadata": {
      "needs_background": "light"
     },
     "output_type": "display_data"
    }
   ],
   "source": [
    "plt.title(\"Counts for Total (Recorded) Measurements Per Instance Above 75%\")\n",
    "plt.hist(total_measurement_counts_per_instance[total_measurement_counts_per_instance>total_measurement_counts_per_instance.describe()['75%']].values, N_BINS);"
   ]
  },
  {
   "cell_type": "markdown",
   "metadata": {},
   "source": [
    "### What is the distribution of counts for instances per study?"
   ]
  },
  {
   "cell_type": "code",
   "execution_count": 36,
   "metadata": {},
   "outputs": [
    {
     "data": {
      "text/plain": [
       "254159"
      ]
     },
     "execution_count": 36,
     "metadata": {},
     "output_type": "execute_result"
    }
   ],
   "source": [
    "frame_counts_per_study_and_instance = measgraphref_df.groupby([\"studyidk\", \"instanceidk\"]).size()\n",
    "len(frame_counts_per_study_and_instance)"
   ]
  },
  {
   "cell_type": "code",
   "execution_count": 37,
   "metadata": {},
   "outputs": [
    {
     "data": {
      "text/plain": [
       "studyidk  instanceidk\n",
       "2882.0    57160          4\n",
       "          57162          1\n",
       "          57164          8\n",
       "          57166          5\n",
       "          57169          2\n",
       "dtype: int64"
      ]
     },
     "execution_count": 37,
     "metadata": {},
     "output_type": "execute_result"
    }
   ],
   "source": [
    "frame_counts_per_study_and_instance.head()"
   ]
  },
  {
   "cell_type": "code",
   "execution_count": 38,
   "metadata": {},
   "outputs": [
    {
     "data": {
      "text/plain": [
       "24471"
      ]
     },
     "execution_count": 38,
     "metadata": {},
     "output_type": "execute_result"
    }
   ],
   "source": [
    "instance_counts_per_study = frame_counts_per_study_and_instance.reset_index().groupby('studyidk').size()\n",
    "len(instance_counts_per_study)"
   ]
  },
  {
   "cell_type": "code",
   "execution_count": 39,
   "metadata": {},
   "outputs": [
    {
     "data": {
      "text/plain": [
       "studyidk\n",
       "2882.0    5\n",
       "2915.0    2\n",
       "2965.0    1\n",
       "2966.0    2\n",
       "3009.0    1\n",
       "dtype: int64"
      ]
     },
     "execution_count": 39,
     "metadata": {},
     "output_type": "execute_result"
    }
   ],
   "source": [
    "instance_counts_per_study.head()"
   ]
  },
  {
   "cell_type": "code",
   "execution_count": 40,
   "metadata": {},
   "outputs": [
    {
     "data": {
      "text/plain": [
       "count    24471.000000\n",
       "mean        10.386131\n",
       "std          4.299754\n",
       "min          1.000000\n",
       "25%          7.000000\n",
       "50%         11.000000\n",
       "75%         13.000000\n",
       "max         33.000000\n",
       "dtype: float64"
      ]
     },
     "execution_count": 40,
     "metadata": {},
     "output_type": "execute_result"
    }
   ],
   "source": [
    "instance_counts_per_study.describe()"
   ]
  },
  {
   "cell_type": "code",
   "execution_count": 41,
   "metadata": {},
   "outputs": [
    {
     "data": {
      "image/png": "[encoded data removed]",
      "text/plain": [
       "<Figure size 432x288 with 1 Axes>"
      ]
     },
     "metadata": {
      "needs_background": "light"
     },
     "output_type": "display_data"
    }
   ],
   "source": [
    "plt.title(\"Counts for Instances Per Study\")\n",
    "plt.hist(instance_counts_per_study.values, N_BINS);"
   ]
  },
  {
   "cell_type": "code",
   "execution_count": 42,
   "metadata": {},
   "outputs": [
    {
     "data": {
      "image/png": "[encoded data removed]",
      "text/plain": [
       "<Figure size 432x288 with 1 Axes>"
      ]
     },
     "metadata": {
      "needs_background": "light"
     },
     "output_type": "display_data"
    }
   ],
   "source": [
    "plt.title(\"Counts for Instances Per Study Above 75%\")\n",
    "plt.hist(instance_counts_per_study[instance_counts_per_study>instance_counts_per_study.describe()['75%']].values, N_BINS);"
   ]
  },
  {
   "cell_type": "markdown",
   "metadata": {},
   "source": [
    "### What is the distribution of counts for frames per instance?"
   ]
  },
  {
   "cell_type": "code",
   "execution_count": 43,
   "metadata": {},
   "outputs": [
    {
     "data": {
      "text/plain": [
       "254159"
      ]
     },
     "execution_count": 43,
     "metadata": {},
     "output_type": "execute_result"
    }
   ],
   "source": [
    "frame_counts_per_instance = measgraphref_df.groupby([\"instanceidk\", \"indexinmglist\"]).size().reset_index().groupby('instanceidk').size()\n",
    "len(frame_counts_per_instance)"
   ]
  },
  {
   "cell_type": "code",
   "execution_count": 44,
   "metadata": {},
   "outputs": [
    {
     "data": {
      "text/plain": [
       "instanceidk\n",
       "57160    4\n",
       "57162    1\n",
       "57164    2\n",
       "57166    2\n",
       "57169    1\n",
       "dtype: int64"
      ]
     },
     "execution_count": 44,
     "metadata": {},
     "output_type": "execute_result"
    }
   ],
   "source": [
    "frame_counts_per_instance.head()"
   ]
  },
  {
   "cell_type": "code",
   "execution_count": 45,
   "metadata": {},
   "outputs": [
    {
     "data": {
      "text/plain": [
       "count    254159.000000\n",
       "mean          1.915765\n",
       "std           1.327393\n",
       "min           1.000000\n",
       "25%           1.000000\n",
       "50%           1.000000\n",
       "75%           2.000000\n",
       "max          16.000000\n",
       "dtype: float64"
      ]
     },
     "execution_count": 45,
     "metadata": {},
     "output_type": "execute_result"
    }
   ],
   "source": [
    "frame_counts_per_instance.describe()"
   ]
  },
  {
   "cell_type": "code",
   "execution_count": 46,
   "metadata": {
    "scrolled": true
   },
   "outputs": [
    {
     "data": {
      "image/png": "[encoded data removed]",
      "text/plain": [
       "<Figure size 432x288 with 1 Axes>"
      ]
     },
     "metadata": {
      "needs_background": "light"
     },
     "output_type": "display_data"
    }
   ],
   "source": [
    "plt.title(\"Counts for Frames Per Instance\")\n",
    "plt.hist(frame_counts_per_instance.values, N_BINS);"
   ]
  },
  {
   "cell_type": "code",
   "execution_count": 47,
   "metadata": {},
   "outputs": [
    {
     "data": {
      "image/png": "[encoded data removed]",
      "text/plain": [
       "<Figure size 432x288 with 1 Axes>"
      ]
     },
     "metadata": {
      "needs_background": "light"
     },
     "output_type": "display_data"
    }
   ],
   "source": [
    "plt.title(\"Counts for Frames Per Instance Above 75%\")\n",
    "plt.hist(frame_counts_per_instance[frame_counts_per_instance>frame_counts_per_instance.describe()['75%']].values, N_BINS);"
   ]
  },
  {
   "cell_type": "markdown",
   "metadata": {},
   "source": [
    "### What is the distribution of counts for measurements per frame?"
   ]
  },
  {
   "cell_type": "code",
   "execution_count": 48,
   "metadata": {},
   "outputs": [
    {
     "data": {
      "text/plain": [
       "486909"
      ]
     },
     "execution_count": 48,
     "metadata": {},
     "output_type": "execute_result"
    }
   ],
   "source": [
    "measurement_counts_per_frame = measgraphref_df.groupby([\"instanceidk\", \"indexinmglist\"]).size()\n",
    "len(measurement_counts_per_frame)"
   ]
  },
  {
   "cell_type": "code",
   "execution_count": 49,
   "metadata": {},
   "outputs": [
    {
     "data": {
      "text/plain": [
       "instanceidk  indexinmglist\n",
       "57160        0.0              1\n",
       "             1.0              1\n",
       "             2.0              1\n",
       "             3.0              1\n",
       "57162        0.0              1\n",
       "dtype: int64"
      ]
     },
     "execution_count": 49,
     "metadata": {},
     "output_type": "execute_result"
    }
   ],
   "source": [
    "measurement_counts_per_frame.head()"
   ]
  },
  {
   "cell_type": "code",
   "execution_count": 50,
   "metadata": {},
   "outputs": [
    {
     "data": {
      "text/plain": [
       "count    486909.000000\n",
       "mean          1.692074\n",
       "std           1.044359\n",
       "min           1.000000\n",
       "25%           1.000000\n",
       "50%           1.000000\n",
       "75%           2.000000\n",
       "max           5.000000\n",
       "dtype: float64"
      ]
     },
     "execution_count": 50,
     "metadata": {},
     "output_type": "execute_result"
    }
   ],
   "source": [
    "measurement_counts_per_frame.describe()"
   ]
  },
  {
   "cell_type": "code",
   "execution_count": 51,
   "metadata": {},
   "outputs": [
    {
     "data": {
      "image/png": "[encoded data removed]",
      "text/plain": [
       "<Figure size 432x288 with 1 Axes>"
      ]
     },
     "metadata": {
      "needs_background": "light"
     },
     "output_type": "display_data"
    }
   ],
   "source": [
    "plt.title(\"Counts for Measurements Per Frame\")\n",
    "plt.hist(measurement_counts_per_frame.values, N_BINS);"
   ]
  },
  {
   "cell_type": "markdown",
   "metadata": {},
   "source": [
    "# 3. View groundtruth from measurements\n",
    "\n",
    "* 823,886 total (recorded) instance measurements with frames\n",
    "* 295,962 total (recorded) instance measurements with frames for measurements we care about\n",
    "* 23,327 unique studies with total (recorded) measurements for measurements we care about\n",
    "* 69,185 unique instancs with total (recorded) measurements for measurements we care about\n",
    "* 162 instances frames with more than one views\n",
    "* 27,838 instances frames with PLAX view\n",
    "* 26,014 instances frames with PLAX view potentially\n",
    "* 38,880 instances frames with A4C view\n",
    "* 20,908 instances frames with A2C view"
   ]
  },
  {
   "cell_type": "code",
   "execution_count": 52,
   "metadata": {},
   "outputs": [
    {
     "data": {
      "text/html": [
       "<div>\n",
       "<style scoped>\n",
       "    .dataframe tbody tr th:only-of-type {\n",
       "        vertical-align: middle;\n",
       "    }\n",
       "\n",
       "    .dataframe tbody tr th {\n",
       "        vertical-align: top;\n",
       "    }\n",
       "\n",
       "    .dataframe thead th {\n",
       "        text-align: right;\n",
       "    }\n",
       "</style>\n",
       "<table border=\"1\" class=\"dataframe\">\n",
       "  <thead>\n",
       "    <tr style=\"text-align: right;\">\n",
       "      <th></th>\n",
       "      <th>row_id</th>\n",
       "      <th>studyidk</th>\n",
       "      <th>measabstractnumber</th>\n",
       "      <th>meassequence</th>\n",
       "      <th>instanceidk</th>\n",
       "      <th>indexinmglist</th>\n",
       "      <th>value</th>\n",
       "      <th>howentered</th>\n",
       "      <th>imagesopinstanceuid</th>\n",
       "      <th>measurementuid</th>\n",
       "    </tr>\n",
       "  </thead>\n",
       "  <tbody>\n",
       "    <tr>\n",
       "      <th>0</th>\n",
       "      <td>1.0</td>\n",
       "      <td>2882.0</td>\n",
       "      <td>187.0</td>\n",
       "      <td>0.0</td>\n",
       "      <td>57164</td>\n",
       "      <td>0.0</td>\n",
       "      <td>28.242271</td>\n",
       "      <td>0.0</td>\n",
       "      <td></td>\n",
       "      <td></td>\n",
       "    </tr>\n",
       "    <tr>\n",
       "      <th>1</th>\n",
       "      <td>2.0</td>\n",
       "      <td>2882.0</td>\n",
       "      <td>188.0</td>\n",
       "      <td>0.0</td>\n",
       "      <td>57164</td>\n",
       "      <td>0.0</td>\n",
       "      <td>7.897812</td>\n",
       "      <td>0.0</td>\n",
       "      <td></td>\n",
       "      <td></td>\n",
       "    </tr>\n",
       "    <tr>\n",
       "      <th>2</th>\n",
       "      <td>3.0</td>\n",
       "      <td>2882.0</td>\n",
       "      <td>189.0</td>\n",
       "      <td>0.0</td>\n",
       "      <td>57164</td>\n",
       "      <td>0.0</td>\n",
       "      <td>85.725750</td>\n",
       "      <td>0.0</td>\n",
       "      <td></td>\n",
       "      <td></td>\n",
       "    </tr>\n",
       "    <tr>\n",
       "      <th>3</th>\n",
       "      <td>4.0</td>\n",
       "      <td>2882.0</td>\n",
       "      <td>190.0</td>\n",
       "      <td>0.0</td>\n",
       "      <td>57164</td>\n",
       "      <td>0.0</td>\n",
       "      <td>87.190031</td>\n",
       "      <td>0.0</td>\n",
       "      <td></td>\n",
       "      <td></td>\n",
       "    </tr>\n",
       "    <tr>\n",
       "      <th>4</th>\n",
       "      <td>5.0</td>\n",
       "      <td>2882.0</td>\n",
       "      <td>191.0</td>\n",
       "      <td>0.0</td>\n",
       "      <td>57164</td>\n",
       "      <td>1.0</td>\n",
       "      <td>36.654466</td>\n",
       "      <td>0.0</td>\n",
       "      <td></td>\n",
       "      <td></td>\n",
       "    </tr>\n",
       "  </tbody>\n",
       "</table>\n",
       "</div>"
      ],
      "text/plain": [
       "   row_id  studyidk  measabstractnumber  meassequence  instanceidk  \\\n",
       "0     1.0    2882.0               187.0           0.0        57164   \n",
       "1     2.0    2882.0               188.0           0.0        57164   \n",
       "2     3.0    2882.0               189.0           0.0        57164   \n",
       "3     4.0    2882.0               190.0           0.0        57164   \n",
       "4     5.0    2882.0               191.0           0.0        57164   \n",
       "\n",
       "   indexinmglist      value  howentered imagesopinstanceuid measurementuid  \n",
       "0            0.0  28.242271         0.0                                     \n",
       "1            0.0   7.897812         0.0                                     \n",
       "2            0.0  85.725750         0.0                                     \n",
       "3            0.0  87.190031         0.0                                     \n",
       "4            1.0  36.654466         0.0                                     "
      ]
     },
     "execution_count": 52,
     "metadata": {},
     "output_type": "execute_result"
    }
   ],
   "source": [
    "measgraphref_df.head()"
   ]
  },
  {
   "cell_type": "code",
   "execution_count": 53,
   "metadata": {},
   "outputs": [
    {
     "data": {
      "text/html": [
       "<div>\n",
       "<style scoped>\n",
       "    .dataframe tbody tr th:only-of-type {\n",
       "        vertical-align: middle;\n",
       "    }\n",
       "\n",
       "    .dataframe tbody tr th {\n",
       "        vertical-align: top;\n",
       "    }\n",
       "\n",
       "    .dataframe thead th {\n",
       "        text-align: right;\n",
       "    }\n",
       "</style>\n",
       "<table border=\"1\" class=\"dataframe\">\n",
       "  <thead>\n",
       "    <tr style=\"text-align: right;\">\n",
       "      <th></th>\n",
       "      <th>studyidk</th>\n",
       "      <th>measabstractnumber</th>\n",
       "      <th>instanceidk</th>\n",
       "      <th>indexinmglist</th>\n",
       "    </tr>\n",
       "  </thead>\n",
       "  <tbody>\n",
       "    <tr>\n",
       "      <th>0</th>\n",
       "      <td>2882.0</td>\n",
       "      <td>187.0</td>\n",
       "      <td>57164</td>\n",
       "      <td>0.0</td>\n",
       "    </tr>\n",
       "    <tr>\n",
       "      <th>1</th>\n",
       "      <td>2882.0</td>\n",
       "      <td>188.0</td>\n",
       "      <td>57164</td>\n",
       "      <td>0.0</td>\n",
       "    </tr>\n",
       "    <tr>\n",
       "      <th>2</th>\n",
       "      <td>2882.0</td>\n",
       "      <td>189.0</td>\n",
       "      <td>57164</td>\n",
       "      <td>0.0</td>\n",
       "    </tr>\n",
       "    <tr>\n",
       "      <th>3</th>\n",
       "      <td>2882.0</td>\n",
       "      <td>190.0</td>\n",
       "      <td>57164</td>\n",
       "      <td>0.0</td>\n",
       "    </tr>\n",
       "    <tr>\n",
       "      <th>4</th>\n",
       "      <td>2882.0</td>\n",
       "      <td>191.0</td>\n",
       "      <td>57164</td>\n",
       "      <td>1.0</td>\n",
       "    </tr>\n",
       "  </tbody>\n",
       "</table>\n",
       "</div>"
      ],
      "text/plain": [
       "   studyidk  measabstractnumber  instanceidk  indexinmglist\n",
       "0    2882.0               187.0        57164            0.0\n",
       "1    2882.0               188.0        57164            0.0\n",
       "2    2882.0               189.0        57164            0.0\n",
       "3    2882.0               190.0        57164            0.0\n",
       "4    2882.0               191.0        57164            1.0"
      ]
     },
     "execution_count": 53,
     "metadata": {},
     "output_type": "execute_result"
    }
   ],
   "source": [
    "measgraphref_df = measgraphref_df[['studyidk', 'measabstractnumber', 'instanceidk', 'indexinmglist']]\n",
    "measgraphref_df.head()"
   ]
  },
  {
   "cell_type": "code",
   "execution_count": 54,
   "metadata": {},
   "outputs": [
    {
     "data": {
      "text/html": [
       "<div>\n",
       "<style scoped>\n",
       "    .dataframe tbody tr th:only-of-type {\n",
       "        vertical-align: middle;\n",
       "    }\n",
       "\n",
       "    .dataframe tbody tr th {\n",
       "        vertical-align: top;\n",
       "    }\n",
       "\n",
       "    .dataframe thead th {\n",
       "        text-align: right;\n",
       "    }\n",
       "</style>\n",
       "<table border=\"1\" class=\"dataframe\">\n",
       "  <thead>\n",
       "    <tr style=\"text-align: right;\">\n",
       "      <th></th>\n",
       "      <th>row_id</th>\n",
       "      <th>instanceidk</th>\n",
       "      <th>indexinmglist</th>\n",
       "      <th>frame</th>\n",
       "    </tr>\n",
       "  </thead>\n",
       "  <tbody>\n",
       "    <tr>\n",
       "      <th>0</th>\n",
       "      <td>1.0</td>\n",
       "      <td>57160.0</td>\n",
       "      <td>0.0</td>\n",
       "      <td>0.0</td>\n",
       "    </tr>\n",
       "    <tr>\n",
       "      <th>1</th>\n",
       "      <td>2.0</td>\n",
       "      <td>57160.0</td>\n",
       "      <td>1.0</td>\n",
       "      <td>0.0</td>\n",
       "    </tr>\n",
       "    <tr>\n",
       "      <th>2</th>\n",
       "      <td>3.0</td>\n",
       "      <td>57160.0</td>\n",
       "      <td>2.0</td>\n",
       "      <td>0.0</td>\n",
       "    </tr>\n",
       "    <tr>\n",
       "      <th>3</th>\n",
       "      <td>4.0</td>\n",
       "      <td>57160.0</td>\n",
       "      <td>3.0</td>\n",
       "      <td>0.0</td>\n",
       "    </tr>\n",
       "    <tr>\n",
       "      <th>4</th>\n",
       "      <td>5.0</td>\n",
       "      <td>57162.0</td>\n",
       "      <td>0.0</td>\n",
       "      <td>5.0</td>\n",
       "    </tr>\n",
       "  </tbody>\n",
       "</table>\n",
       "</div>"
      ],
      "text/plain": [
       "   row_id  instanceidk  indexinmglist  frame\n",
       "0     1.0      57160.0            0.0    0.0\n",
       "1     2.0      57160.0            1.0    0.0\n",
       "2     3.0      57160.0            2.0    0.0\n",
       "3     4.0      57160.0            3.0    0.0\n",
       "4     5.0      57162.0            0.0    5.0"
      ]
     },
     "execution_count": 54,
     "metadata": {},
     "output_type": "execute_result"
    }
   ],
   "source": [
    "measgraphic_df.head()"
   ]
  },
  {
   "cell_type": "code",
   "execution_count": 55,
   "metadata": {},
   "outputs": [
    {
     "data": {
      "text/html": [
       "<div>\n",
       "<style scoped>\n",
       "    .dataframe tbody tr th:only-of-type {\n",
       "        vertical-align: middle;\n",
       "    }\n",
       "\n",
       "    .dataframe tbody tr th {\n",
       "        vertical-align: top;\n",
       "    }\n",
       "\n",
       "    .dataframe thead th {\n",
       "        text-align: right;\n",
       "    }\n",
       "</style>\n",
       "<table border=\"1\" class=\"dataframe\">\n",
       "  <thead>\n",
       "    <tr style=\"text-align: right;\">\n",
       "      <th></th>\n",
       "      <th>instanceidk</th>\n",
       "      <th>indexinmglist</th>\n",
       "      <th>frame</th>\n",
       "    </tr>\n",
       "  </thead>\n",
       "  <tbody>\n",
       "    <tr>\n",
       "      <th>0</th>\n",
       "      <td>57160.0</td>\n",
       "      <td>0.0</td>\n",
       "      <td>0.0</td>\n",
       "    </tr>\n",
       "    <tr>\n",
       "      <th>1</th>\n",
       "      <td>57160.0</td>\n",
       "      <td>1.0</td>\n",
       "      <td>0.0</td>\n",
       "    </tr>\n",
       "    <tr>\n",
       "      <th>2</th>\n",
       "      <td>57160.0</td>\n",
       "      <td>2.0</td>\n",
       "      <td>0.0</td>\n",
       "    </tr>\n",
       "    <tr>\n",
       "      <th>3</th>\n",
       "      <td>57160.0</td>\n",
       "      <td>3.0</td>\n",
       "      <td>0.0</td>\n",
       "    </tr>\n",
       "    <tr>\n",
       "      <th>4</th>\n",
       "      <td>57162.0</td>\n",
       "      <td>0.0</td>\n",
       "      <td>5.0</td>\n",
       "    </tr>\n",
       "  </tbody>\n",
       "</table>\n",
       "</div>"
      ],
      "text/plain": [
       "   instanceidk  indexinmglist  frame\n",
       "0      57160.0            0.0    0.0\n",
       "1      57160.0            1.0    0.0\n",
       "2      57160.0            2.0    0.0\n",
       "3      57160.0            3.0    0.0\n",
       "4      57162.0            0.0    5.0"
      ]
     },
     "execution_count": 55,
     "metadata": {},
     "output_type": "execute_result"
    }
   ],
   "source": [
    "measgraphic_df = measgraphic_df[['instanceidk', 'indexinmglist', 'frame']]\n",
    "measgraphic_df.head()"
   ]
  },
  {
   "cell_type": "code",
   "execution_count": 56,
   "metadata": {},
   "outputs": [
    {
     "data": {
      "text/html": [
       "<div>\n",
       "<style scoped>\n",
       "    .dataframe tbody tr th:only-of-type {\n",
       "        vertical-align: middle;\n",
       "    }\n",
       "\n",
       "    .dataframe tbody tr th {\n",
       "        vertical-align: top;\n",
       "    }\n",
       "\n",
       "    .dataframe thead th {\n",
       "        text-align: right;\n",
       "    }\n",
       "</style>\n",
       "<table border=\"1\" class=\"dataframe\">\n",
       "  <thead>\n",
       "    <tr style=\"text-align: right;\">\n",
       "      <th></th>\n",
       "      <th>row_id</th>\n",
       "      <th>studyid</th>\n",
       "      <th>measabstractnumber</th>\n",
       "      <th>name</th>\n",
       "      <th>value</th>\n",
       "      <th>unitname</th>\n",
       "    </tr>\n",
       "  </thead>\n",
       "  <tbody>\n",
       "    <tr>\n",
       "      <th>0</th>\n",
       "      <td>1.0</td>\n",
       "      <td>2882.0</td>\n",
       "      <td>2.0</td>\n",
       "      <td>(P1/2t)AVM</td>\n",
       "      <td>2.491754</td>\n",
       "      <td>cm2</td>\n",
       "    </tr>\n",
       "    <tr>\n",
       "      <th>1</th>\n",
       "      <td>2.0</td>\n",
       "      <td>2882.0</td>\n",
       "      <td>12.0</td>\n",
       "      <td>Area TSVI</td>\n",
       "      <td>3.606348</td>\n",
       "      <td>cm2</td>\n",
       "    </tr>\n",
       "    <tr>\n",
       "      <th>2</th>\n",
       "      <td>3.0</td>\n",
       "      <td>2882.0</td>\n",
       "      <td>43.0</td>\n",
       "      <td>FE(el-ps4)</td>\n",
       "      <td>37.032087</td>\n",
       "      <td>%</td>\n",
       "    </tr>\n",
       "    <tr>\n",
       "      <th>3</th>\n",
       "      <td>4.0</td>\n",
       "      <td>2882.0</td>\n",
       "      <td>46.0</td>\n",
       "      <td>FE(MDD-ps4)</td>\n",
       "      <td>35.095355</td>\n",
       "      <td>%</td>\n",
       "    </tr>\n",
       "    <tr>\n",
       "      <th>4</th>\n",
       "      <td>5.0</td>\n",
       "      <td>2882.0</td>\n",
       "      <td>125.0</td>\n",
       "      <td>P1/2t VM</td>\n",
       "      <td>88.291224</td>\n",
       "      <td>ms</td>\n",
       "    </tr>\n",
       "  </tbody>\n",
       "</table>\n",
       "</div>"
      ],
      "text/plain": [
       "   row_id  studyid  measabstractnumber         name      value unitname\n",
       "0     1.0   2882.0                 2.0   (P1/2t)AVM   2.491754      cm2\n",
       "1     2.0   2882.0                12.0    Area TSVI   3.606348      cm2\n",
       "2     3.0   2882.0                43.0   FE(el-ps4)  37.032087        %\n",
       "3     4.0   2882.0                46.0  FE(MDD-ps4)  35.095355        %\n",
       "4     5.0   2882.0               125.0     P1/2t VM  88.291224       ms"
      ]
     },
     "execution_count": 56,
     "metadata": {},
     "output_type": "execute_result"
    }
   ],
   "source": [
    "measurement_abstract_rpt_df.head()"
   ]
  },
  {
   "cell_type": "code",
   "execution_count": 57,
   "metadata": {},
   "outputs": [
    {
     "data": {
      "text/html": [
       "<div>\n",
       "<style scoped>\n",
       "    .dataframe tbody tr th:only-of-type {\n",
       "        vertical-align: middle;\n",
       "    }\n",
       "\n",
       "    .dataframe tbody tr th {\n",
       "        vertical-align: top;\n",
       "    }\n",
       "\n",
       "    .dataframe thead th {\n",
       "        text-align: right;\n",
       "    }\n",
       "</style>\n",
       "<table border=\"1\" class=\"dataframe\">\n",
       "  <thead>\n",
       "    <tr style=\"text-align: right;\">\n",
       "      <th></th>\n",
       "      <th>studyidk</th>\n",
       "      <th>measabstractnumber</th>\n",
       "      <th>name</th>\n",
       "    </tr>\n",
       "  </thead>\n",
       "  <tbody>\n",
       "    <tr>\n",
       "      <th>0</th>\n",
       "      <td>2882.0</td>\n",
       "      <td>2.0</td>\n",
       "      <td>(P1/2t)AVM</td>\n",
       "    </tr>\n",
       "    <tr>\n",
       "      <th>1</th>\n",
       "      <td>2882.0</td>\n",
       "      <td>12.0</td>\n",
       "      <td>Area TSVI</td>\n",
       "    </tr>\n",
       "    <tr>\n",
       "      <th>2</th>\n",
       "      <td>2882.0</td>\n",
       "      <td>43.0</td>\n",
       "      <td>FE(el-ps4)</td>\n",
       "    </tr>\n",
       "    <tr>\n",
       "      <th>3</th>\n",
       "      <td>2882.0</td>\n",
       "      <td>46.0</td>\n",
       "      <td>FE(MDD-ps4)</td>\n",
       "    </tr>\n",
       "    <tr>\n",
       "      <th>4</th>\n",
       "      <td>2882.0</td>\n",
       "      <td>125.0</td>\n",
       "      <td>P1/2t VM</td>\n",
       "    </tr>\n",
       "  </tbody>\n",
       "</table>\n",
       "</div>"
      ],
      "text/plain": [
       "   studyidk  measabstractnumber         name\n",
       "0    2882.0                 2.0   (P1/2t)AVM\n",
       "1    2882.0                12.0    Area TSVI\n",
       "2    2882.0                43.0   FE(el-ps4)\n",
       "3    2882.0                46.0  FE(MDD-ps4)\n",
       "4    2882.0               125.0     P1/2t VM"
      ]
     },
     "execution_count": 57,
     "metadata": {},
     "output_type": "execute_result"
    }
   ],
   "source": [
    "measurement_abstract_rpt_df = measurement_abstract_rpt_df[['studyid', 'measabstractnumber', 'name']]\n",
    "measurement_abstract_rpt_df = measurement_abstract_rpt_df.rename(index=str, columns={\"studyid\": \"studyidk\"})\n",
    "measurement_abstract_rpt_df.head()"
   ]
  },
  {
   "cell_type": "code",
   "execution_count": 58,
   "metadata": {},
   "outputs": [
    {
     "name": "stdout",
     "output_type": "stream",
     "text": [
      "(823833, 5)\n"
     ]
    },
    {
     "data": {
      "text/html": [
       "<div>\n",
       "<style scoped>\n",
       "    .dataframe tbody tr th:only-of-type {\n",
       "        vertical-align: middle;\n",
       "    }\n",
       "\n",
       "    .dataframe tbody tr th {\n",
       "        vertical-align: top;\n",
       "    }\n",
       "\n",
       "    .dataframe thead th {\n",
       "        text-align: right;\n",
       "    }\n",
       "</style>\n",
       "<table border=\"1\" class=\"dataframe\">\n",
       "  <thead>\n",
       "    <tr style=\"text-align: right;\">\n",
       "      <th></th>\n",
       "      <th>studyidk</th>\n",
       "      <th>measabstractnumber</th>\n",
       "      <th>instanceidk</th>\n",
       "      <th>indexinmglist</th>\n",
       "      <th>frame</th>\n",
       "    </tr>\n",
       "  </thead>\n",
       "  <tbody>\n",
       "    <tr>\n",
       "      <th>0</th>\n",
       "      <td>2882.0</td>\n",
       "      <td>187.0</td>\n",
       "      <td>57164</td>\n",
       "      <td>0.0</td>\n",
       "      <td>8.0</td>\n",
       "    </tr>\n",
       "    <tr>\n",
       "      <th>1</th>\n",
       "      <td>2882.0</td>\n",
       "      <td>188.0</td>\n",
       "      <td>57164</td>\n",
       "      <td>0.0</td>\n",
       "      <td>8.0</td>\n",
       "    </tr>\n",
       "    <tr>\n",
       "      <th>2</th>\n",
       "      <td>2882.0</td>\n",
       "      <td>189.0</td>\n",
       "      <td>57164</td>\n",
       "      <td>0.0</td>\n",
       "      <td>8.0</td>\n",
       "    </tr>\n",
       "    <tr>\n",
       "      <th>3</th>\n",
       "      <td>2882.0</td>\n",
       "      <td>190.0</td>\n",
       "      <td>57164</td>\n",
       "      <td>0.0</td>\n",
       "      <td>8.0</td>\n",
       "    </tr>\n",
       "    <tr>\n",
       "      <th>4</th>\n",
       "      <td>2882.0</td>\n",
       "      <td>191.0</td>\n",
       "      <td>57164</td>\n",
       "      <td>1.0</td>\n",
       "      <td>15.0</td>\n",
       "    </tr>\n",
       "  </tbody>\n",
       "</table>\n",
       "</div>"
      ],
      "text/plain": [
       "   studyidk  measabstractnumber  instanceidk  indexinmglist  frame\n",
       "0    2882.0               187.0        57164            0.0    8.0\n",
       "1    2882.0               188.0        57164            0.0    8.0\n",
       "2    2882.0               189.0        57164            0.0    8.0\n",
       "3    2882.0               190.0        57164            0.0    8.0\n",
       "4    2882.0               191.0        57164            1.0   15.0"
      ]
     },
     "execution_count": 58,
     "metadata": {},
     "output_type": "execute_result"
    }
   ],
   "source": [
    "merge_df = measgraphref_df.merge(measgraphic_df, on=['instanceidk', 'indexinmglist'])\n",
    "print(merge_df.shape)\n",
    "merge_df.head()"
   ]
  },
  {
   "cell_type": "code",
   "execution_count": 59,
   "metadata": {},
   "outputs": [
    {
     "name": "stdout",
     "output_type": "stream",
     "text": [
      "(823832, 6)\n"
     ]
    },
    {
     "data": {
      "text/html": [
       "<div>\n",
       "<style scoped>\n",
       "    .dataframe tbody tr th:only-of-type {\n",
       "        vertical-align: middle;\n",
       "    }\n",
       "\n",
       "    .dataframe tbody tr th {\n",
       "        vertical-align: top;\n",
       "    }\n",
       "\n",
       "    .dataframe thead th {\n",
       "        text-align: right;\n",
       "    }\n",
       "</style>\n",
       "<table border=\"1\" class=\"dataframe\">\n",
       "  <thead>\n",
       "    <tr style=\"text-align: right;\">\n",
       "      <th></th>\n",
       "      <th>studyidk</th>\n",
       "      <th>measabstractnumber</th>\n",
       "      <th>instanceidk</th>\n",
       "      <th>indexinmglist</th>\n",
       "      <th>frame</th>\n",
       "      <th>name</th>\n",
       "    </tr>\n",
       "  </thead>\n",
       "  <tbody>\n",
       "    <tr>\n",
       "      <th>0</th>\n",
       "      <td>2882.0</td>\n",
       "      <td>187.0</td>\n",
       "      <td>57164</td>\n",
       "      <td>0.0</td>\n",
       "      <td>8.0</td>\n",
       "      <td>AVIts ap4</td>\n",
       "    </tr>\n",
       "    <tr>\n",
       "      <th>1</th>\n",
       "      <td>2882.0</td>\n",
       "      <td>188.0</td>\n",
       "      <td>57164</td>\n",
       "      <td>0.0</td>\n",
       "      <td>8.0</td>\n",
       "      <td>DVIts ap4</td>\n",
       "    </tr>\n",
       "    <tr>\n",
       "      <th>2</th>\n",
       "      <td>2882.0</td>\n",
       "      <td>189.0</td>\n",
       "      <td>57164</td>\n",
       "      <td>0.0</td>\n",
       "      <td>8.0</td>\n",
       "      <td>VTS(el-ps4)</td>\n",
       "    </tr>\n",
       "    <tr>\n",
       "      <th>3</th>\n",
       "      <td>2882.0</td>\n",
       "      <td>190.0</td>\n",
       "      <td>57164</td>\n",
       "      <td>0.0</td>\n",
       "      <td>8.0</td>\n",
       "      <td>VTS(MDD-ps4)</td>\n",
       "    </tr>\n",
       "    <tr>\n",
       "      <th>4</th>\n",
       "      <td>2882.0</td>\n",
       "      <td>191.0</td>\n",
       "      <td>57164</td>\n",
       "      <td>1.0</td>\n",
       "      <td>15.0</td>\n",
       "      <td>AVItd ap4</td>\n",
       "    </tr>\n",
       "  </tbody>\n",
       "</table>\n",
       "</div>"
      ],
      "text/plain": [
       "   studyidk  measabstractnumber  instanceidk  indexinmglist  frame  \\\n",
       "0    2882.0               187.0        57164            0.0    8.0   \n",
       "1    2882.0               188.0        57164            0.0    8.0   \n",
       "2    2882.0               189.0        57164            0.0    8.0   \n",
       "3    2882.0               190.0        57164            0.0    8.0   \n",
       "4    2882.0               191.0        57164            1.0   15.0   \n",
       "\n",
       "           name  \n",
       "0     AVIts ap4  \n",
       "1     DVIts ap4  \n",
       "2   VTS(el-ps4)  \n",
       "3  VTS(MDD-ps4)  \n",
       "4     AVItd ap4  "
      ]
     },
     "execution_count": 59,
     "metadata": {},
     "output_type": "execute_result"
    }
   ],
   "source": [
    "merge_df = merge_df.merge(measurement_abstract_rpt_df, on=['studyidk', 'measabstractnumber'])\n",
    "print(merge_df.shape)\n",
    "merge_df.head()"
   ]
  },
  {
   "cell_type": "code",
   "execution_count": 60,
   "metadata": {},
   "outputs": [],
   "source": [
    "MEASUREMENTS_PARASTERNAL_LONG_AXIS_VIEW = ['Diám raíz Ao', 'Diám. Ao asc.', 'Diám TSVI', 'Dimensión AI']\n",
    "POTENTIAL_MEASUREMENTS_PARASTERNAL_LONG_AXIS_VIEW = ['Diám TSVD', 'DVItd', 'DVIts', 'SIVtd', 'PPVItd']\n",
    "MEASUREMENTS_APICAL_4_CHAMBER_VIEW = ['AVItd ap4', 'VTD(el-ps4)', 'VTD(MDD-ps4)', 'VTD 4C', 'AVIts ap4', 'VTS(el-ps4)', 'VTS(MDD-ps4)', 'VTS 4C', 'Vol. AI (MOD-sp4)']\n",
    "MEASUREMENTS_APICAL_2_CHAMBER_VIEW = ['AVItd ap2', 'VTD(el-ps2)', 'VTD(MDD-ps2)', 'VTD 2C', 'AVIts ap2', 'VTS(el-ps2)', 'VTS(MDD-ps2)', 'VTS 2C', 'Vol. AI (MOD-sp2)']\n",
    "ALL_MEASUREMENTS = MEASUREMENTS_PARASTERNAL_LONG_AXIS_VIEW + POTENTIAL_MEASUREMENTS_PARASTERNAL_LONG_AXIS_VIEW + MEASUREMENTS_APICAL_4_CHAMBER_VIEW + MEASUREMENTS_APICAL_2_CHAMBER_VIEW"
   ]
  },
  {
   "cell_type": "code",
   "execution_count": 61,
   "metadata": {},
   "outputs": [
    {
     "name": "stdout",
     "output_type": "stream",
     "text": [
      "(295962, 6)\n"
     ]
    },
    {
     "data": {
      "text/html": [
       "<div>\n",
       "<style scoped>\n",
       "    .dataframe tbody tr th:only-of-type {\n",
       "        vertical-align: middle;\n",
       "    }\n",
       "\n",
       "    .dataframe tbody tr th {\n",
       "        vertical-align: top;\n",
       "    }\n",
       "\n",
       "    .dataframe thead th {\n",
       "        text-align: right;\n",
       "    }\n",
       "</style>\n",
       "<table border=\"1\" class=\"dataframe\">\n",
       "  <thead>\n",
       "    <tr style=\"text-align: right;\">\n",
       "      <th></th>\n",
       "      <th>studyidk</th>\n",
       "      <th>measabstractnumber</th>\n",
       "      <th>instanceidk</th>\n",
       "      <th>indexinmglist</th>\n",
       "      <th>frame</th>\n",
       "      <th>name</th>\n",
       "    </tr>\n",
       "  </thead>\n",
       "  <tbody>\n",
       "    <tr>\n",
       "      <th>0</th>\n",
       "      <td>2882.0</td>\n",
       "      <td>187.0</td>\n",
       "      <td>57164</td>\n",
       "      <td>0.0</td>\n",
       "      <td>8.0</td>\n",
       "      <td>AVIts ap4</td>\n",
       "    </tr>\n",
       "    <tr>\n",
       "      <th>2</th>\n",
       "      <td>2882.0</td>\n",
       "      <td>189.0</td>\n",
       "      <td>57164</td>\n",
       "      <td>0.0</td>\n",
       "      <td>8.0</td>\n",
       "      <td>VTS(el-ps4)</td>\n",
       "    </tr>\n",
       "    <tr>\n",
       "      <th>3</th>\n",
       "      <td>2882.0</td>\n",
       "      <td>190.0</td>\n",
       "      <td>57164</td>\n",
       "      <td>0.0</td>\n",
       "      <td>8.0</td>\n",
       "      <td>VTS(MDD-ps4)</td>\n",
       "    </tr>\n",
       "    <tr>\n",
       "      <th>4</th>\n",
       "      <td>2882.0</td>\n",
       "      <td>191.0</td>\n",
       "      <td>57164</td>\n",
       "      <td>1.0</td>\n",
       "      <td>15.0</td>\n",
       "      <td>AVItd ap4</td>\n",
       "    </tr>\n",
       "    <tr>\n",
       "      <th>6</th>\n",
       "      <td>2882.0</td>\n",
       "      <td>193.0</td>\n",
       "      <td>57164</td>\n",
       "      <td>1.0</td>\n",
       "      <td>15.0</td>\n",
       "      <td>VTD(el-ps4)</td>\n",
       "    </tr>\n",
       "  </tbody>\n",
       "</table>\n",
       "</div>"
      ],
      "text/plain": [
       "   studyidk  measabstractnumber  instanceidk  indexinmglist  frame  \\\n",
       "0    2882.0               187.0        57164            0.0    8.0   \n",
       "2    2882.0               189.0        57164            0.0    8.0   \n",
       "3    2882.0               190.0        57164            0.0    8.0   \n",
       "4    2882.0               191.0        57164            1.0   15.0   \n",
       "6    2882.0               193.0        57164            1.0   15.0   \n",
       "\n",
       "           name  \n",
       "0     AVIts ap4  \n",
       "2   VTS(el-ps4)  \n",
       "3  VTS(MDD-ps4)  \n",
       "4     AVItd ap4  \n",
       "6   VTD(el-ps4)  "
      ]
     },
     "execution_count": 61,
     "metadata": {},
     "output_type": "execute_result"
    }
   ],
   "source": [
    "filter_df = merge_df[merge_df.name.isin(ALL_MEASUREMENTS)].copy()\n",
    "print(filter_df.shape)\n",
    "filter_df.head()"
   ]
  },
  {
   "cell_type": "code",
   "execution_count": 62,
   "metadata": {},
   "outputs": [
    {
     "data": {
      "text/plain": [
       "DVItd                21102\n",
       "SIVtd                21007\n",
       "PPVItd               20776\n",
       "AVItd ap4            17215\n",
       "VTD(el-ps4)          17214\n",
       "VTD(MDD-ps4)         17213\n",
       "AVIts ap4            16778\n",
       "VTS(el-ps4)          16777\n",
       "VTS(MDD-ps4)         16776\n",
       "Diám raíz Ao         15916\n",
       "Dimensión AI         13149\n",
       "Vol. AI (MOD-sp4)    12255\n",
       "DVIts                11594\n",
       "AVItd ap2             9370\n",
       "VTD(el-ps2)           9369\n",
       "VTD(MDD-ps2)          9368\n",
       "AVIts ap2             9238\n",
       "VTS(el-ps2)           9237\n",
       "VTS(MDD-ps2)          9236\n",
       "Vol. AI (MOD-sp2)     7625\n",
       "Diám TSVI             6899\n",
       "Diám. Ao asc.         5078\n",
       "Diám TSVD             2559\n",
       "VTD 4C                  55\n",
       "VTS 2C                  53\n",
       "VTD 2C                  52\n",
       "VTS 4C                  51\n",
       "Name: name, dtype: int64"
      ]
     },
     "execution_count": 62,
     "metadata": {},
     "output_type": "execute_result"
    }
   ],
   "source": [
    "filtered_measurements = filter_df['name']\n",
    "filtered_measurements.value_counts()"
   ]
  },
  {
   "cell_type": "code",
   "execution_count": 63,
   "metadata": {},
   "outputs": [
    {
     "data": {
      "image/png": "[encoded data removed]",
      "text/plain": [
       "<Figure size 432x288 with 1 Axes>"
      ]
     },
     "metadata": {
      "needs_background": "light"
     },
     "output_type": "display_data"
    }
   ],
   "source": [
    "plt.title(\"Counts for Filtered Measurements\")\n",
    "plt.hist(filtered_measurements.value_counts().values, N_BINS);"
   ]
  },
  {
   "cell_type": "code",
   "execution_count": 64,
   "metadata": {},
   "outputs": [
    {
     "data": {
      "text/plain": [
       "23327"
      ]
     },
     "execution_count": 64,
     "metadata": {},
     "output_type": "execute_result"
    }
   ],
   "source": [
    "len(filter_df.groupby(['studyidk']).size())"
   ]
  },
  {
   "cell_type": "code",
   "execution_count": 65,
   "metadata": {},
   "outputs": [
    {
     "data": {
      "text/plain": [
       "69185"
      ]
     },
     "execution_count": 65,
     "metadata": {},
     "output_type": "execute_result"
    }
   ],
   "source": [
    "len(filter_df.groupby(['instanceidk']).size())"
   ]
  },
  {
   "cell_type": "code",
   "execution_count": 66,
   "metadata": {},
   "outputs": [],
   "source": [
    "filter_df['is_plax'] = filter_df['name'].isin(MEASUREMENTS_PARASTERNAL_LONG_AXIS_VIEW)\n",
    "filter_df['maybe_plax'] = filter_df['name'].isin(POTENTIAL_MEASUREMENTS_PARASTERNAL_LONG_AXIS_VIEW)\n",
    "filter_df['is_a4c'] = filter_df['name'].isin(MEASUREMENTS_APICAL_4_CHAMBER_VIEW)\n",
    "filter_df['is_a2c'] = filter_df['name'].isin(MEASUREMENTS_APICAL_2_CHAMBER_VIEW)"
   ]
  },
  {
   "cell_type": "code",
   "execution_count": 67,
   "metadata": {},
   "outputs": [],
   "source": [
    "filter_df['view'] = ''\n",
    "filter_df.loc[filter_df['is_plax']==True, 'view'] = 'plax'\n",
    "filter_df.loc[filter_df['maybe_plax']==True, 'view'] = 'plax'\n",
    "filter_df.loc[filter_df['is_a4c']==True, 'view'] = 'a4c'\n",
    "filter_df.loc[filter_df['is_a2c']==True, 'view'] = 'a2c'"
   ]
  },
  {
   "cell_type": "code",
   "execution_count": 68,
   "metadata": {},
   "outputs": [
    {
     "name": "stdout",
     "output_type": "stream",
     "text": [
      "(113640, 7)\n"
     ]
    },
    {
     "data": {
      "text/html": [
       "<div>\n",
       "<style scoped>\n",
       "    .dataframe tbody tr th:only-of-type {\n",
       "        vertical-align: middle;\n",
       "    }\n",
       "\n",
       "    .dataframe tbody tr th {\n",
       "        vertical-align: top;\n",
       "    }\n",
       "\n",
       "    .dataframe thead th {\n",
       "        text-align: right;\n",
       "    }\n",
       "</style>\n",
       "<table border=\"1\" class=\"dataframe\">\n",
       "  <thead>\n",
       "    <tr style=\"text-align: right;\">\n",
       "      <th></th>\n",
       "      <th></th>\n",
       "      <th>studyidk</th>\n",
       "      <th>indexinmglist</th>\n",
       "      <th>is_plax</th>\n",
       "      <th>maybe_plax</th>\n",
       "      <th>is_a4c</th>\n",
       "      <th>is_a2c</th>\n",
       "      <th>view</th>\n",
       "    </tr>\n",
       "    <tr>\n",
       "      <th>instanceidk</th>\n",
       "      <th>frame</th>\n",
       "      <th></th>\n",
       "      <th></th>\n",
       "      <th></th>\n",
       "      <th></th>\n",
       "      <th></th>\n",
       "      <th></th>\n",
       "      <th></th>\n",
       "    </tr>\n",
       "  </thead>\n",
       "  <tbody>\n",
       "    <tr>\n",
       "      <th>57162</th>\n",
       "      <th>5.0</th>\n",
       "      <td>2882.0</td>\n",
       "      <td>0.0</td>\n",
       "      <td>True</td>\n",
       "      <td>False</td>\n",
       "      <td>False</td>\n",
       "      <td>False</td>\n",
       "      <td>plax</td>\n",
       "    </tr>\n",
       "    <tr>\n",
       "      <th rowspan=\"2\" valign=\"top\">57164</th>\n",
       "      <th>8.0</th>\n",
       "      <td>2882.0</td>\n",
       "      <td>0.0</td>\n",
       "      <td>False</td>\n",
       "      <td>False</td>\n",
       "      <td>True</td>\n",
       "      <td>False</td>\n",
       "      <td>a4c</td>\n",
       "    </tr>\n",
       "    <tr>\n",
       "      <th>15.0</th>\n",
       "      <td>2882.0</td>\n",
       "      <td>1.0</td>\n",
       "      <td>False</td>\n",
       "      <td>False</td>\n",
       "      <td>True</td>\n",
       "      <td>False</td>\n",
       "      <td>a4c</td>\n",
       "    </tr>\n",
       "    <tr>\n",
       "      <th>57571</th>\n",
       "      <th>0.0</th>\n",
       "      <td>2915.0</td>\n",
       "      <td>0.0</td>\n",
       "      <td>False</td>\n",
       "      <td>True</td>\n",
       "      <td>False</td>\n",
       "      <td>False</td>\n",
       "      <td>plax</td>\n",
       "    </tr>\n",
       "    <tr>\n",
       "      <th>58204</th>\n",
       "      <th>18.0</th>\n",
       "      <td>2966.0</td>\n",
       "      <td>0.0</td>\n",
       "      <td>True</td>\n",
       "      <td>False</td>\n",
       "      <td>False</td>\n",
       "      <td>False</td>\n",
       "      <td>plax</td>\n",
       "    </tr>\n",
       "  </tbody>\n",
       "</table>\n",
       "</div>"
      ],
      "text/plain": [
       "                   studyidk  indexinmglist  is_plax  maybe_plax  is_a4c  \\\n",
       "instanceidk frame                                                         \n",
       "57162       5.0      2882.0            0.0     True       False   False   \n",
       "57164       8.0      2882.0            0.0    False       False    True   \n",
       "            15.0     2882.0            1.0    False       False    True   \n",
       "57571       0.0      2915.0            0.0    False        True   False   \n",
       "58204       18.0     2966.0            0.0     True       False   False   \n",
       "\n",
       "                   is_a2c  view  \n",
       "instanceidk frame                \n",
       "57162       5.0     False  plax  \n",
       "57164       8.0     False   a4c  \n",
       "            15.0    False   a4c  \n",
       "57571       0.0     False  plax  \n",
       "58204       18.0    False  plax  "
      ]
     },
     "execution_count": 68,
     "metadata": {},
     "output_type": "execute_result"
    }
   ],
   "source": [
    "group_df = filter_df.groupby(['instanceidk', 'frame']).first()\n",
    "group_df = group_df.drop(['measabstractnumber', 'name'], axis='columns')\n",
    "print(group_df.shape)\n",
    "group_df.head()"
   ]
  },
  {
   "cell_type": "code",
   "execution_count": 69,
   "metadata": {},
   "outputs": [
    {
     "data": {
      "text/plain": [
       "0"
      ]
     },
     "execution_count": 69,
     "metadata": {},
     "output_type": "execute_result"
    }
   ],
   "source": [
    "(group_df.reset_index().groupby(['instanceidk', 'indexinmglist'])['view'].nunique().eq(1)==False).sum()"
   ]
  },
  {
   "cell_type": "code",
   "execution_count": 70,
   "metadata": {},
   "outputs": [
    {
     "data": {
      "text/plain": [
       "162"
      ]
     },
     "execution_count": 70,
     "metadata": {},
     "output_type": "execute_result"
    }
   ],
   "source": [
    "(group_df.reset_index().groupby('instanceidk')['view'].nunique().eq(1)==False).sum()"
   ]
  },
  {
   "cell_type": "code",
   "execution_count": 71,
   "metadata": {},
   "outputs": [],
   "source": [
    "is_instance_multiview = (group_df.reset_index().groupby('instanceidk')['view'].nunique().eq(1)==False).reset_index()\n",
    "is_instance_multiview = is_instance_multiview.rename(index=str, columns={\"view\": \"is_multiview\"})"
   ]
  },
  {
   "cell_type": "code",
   "execution_count": 72,
   "metadata": {},
   "outputs": [],
   "source": [
    "group_df = group_df.merge(is_instance_multiview, on='instanceidk')"
   ]
  },
  {
   "cell_type": "code",
   "execution_count": 73,
   "metadata": {},
   "outputs": [
    {
     "data": {
      "text/plain": [
       "27838"
      ]
     },
     "execution_count": 73,
     "metadata": {},
     "output_type": "execute_result"
    }
   ],
   "source": [
    "group_df['is_plax'].sum()"
   ]
  },
  {
   "cell_type": "code",
   "execution_count": 74,
   "metadata": {},
   "outputs": [
    {
     "data": {
      "text/plain": [
       "26014"
      ]
     },
     "execution_count": 74,
     "metadata": {},
     "output_type": "execute_result"
    }
   ],
   "source": [
    "group_df['maybe_plax'].sum()"
   ]
  },
  {
   "cell_type": "code",
   "execution_count": 75,
   "metadata": {},
   "outputs": [
    {
     "data": {
      "text/plain": [
       "38880"
      ]
     },
     "execution_count": 75,
     "metadata": {},
     "output_type": "execute_result"
    }
   ],
   "source": [
    "group_df['is_a4c'].sum()"
   ]
  },
  {
   "cell_type": "code",
   "execution_count": 76,
   "metadata": {},
   "outputs": [
    {
     "data": {
      "text/plain": [
       "20908"
      ]
     },
     "execution_count": 76,
     "metadata": {},
     "output_type": "execute_result"
    }
   ],
   "source": [
    "group_df['is_a2c'].sum()"
   ]
  },
  {
   "cell_type": "code",
   "execution_count": 77,
   "metadata": {},
   "outputs": [],
   "source": [
    "frames_with_views_df = group_df\n",
    "frames_with_views_df.to_csv('frames_with_views.csv')"
   ]
  },
  {
   "cell_type": "code",
   "execution_count": null,
   "metadata": {},
   "outputs": [],
   "source": []
  }
 ],
 "metadata": {
  "kernelspec": {
   "display_name": "dssg",
   "language": "python",
   "name": "dssg"
  },
  "language_info": {
   "codemirror_mode": {
    "name": "ipython",
    "version": 3
   },
   "file_extension": ".py",
   "mimetype": "text/x-python",
   "name": "python",
   "nbconvert_exporter": "python",
   "pygments_lexer": "ipython3",
   "version": "3.7.3"
  }
 },
 "nbformat": 4,
 "nbformat_minor": 2
}
