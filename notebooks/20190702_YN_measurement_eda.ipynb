{
 "cells": [
  {
   "cell_type": "code",
   "execution_count": 1,
   "metadata": {},
   "outputs": [],
   "source": [
    "%reload_ext autoreload\n",
    "%autoreload 2\n",
    "%matplotlib inline"
   ]
  },
  {
   "cell_type": "code",
   "execution_count": 2,
   "metadata": {},
   "outputs": [],
   "source": [
    "import pandas as pd\n",
    "import matplotlib.pyplot as plt"
   ]
  },
  {
   "cell_type": "code",
   "execution_count": 3,
   "metadata": {},
   "outputs": [],
   "source": [
    "import sys\n",
    "sys.path.append(\"../src\")"
   ]
  },
  {
   "cell_type": "code",
   "execution_count": 4,
   "metadata": {},
   "outputs": [],
   "source": [
    "from d01_data.db import get_db_config_path, get_db_config, get_sqlalchemy_connection, read_table"
   ]
  },
  {
   "cell_type": "code",
   "execution_count": 5,
   "metadata": {},
   "outputs": [],
   "source": [
    "path = get_db_config_path()\n",
    "conf = get_db_config(path)\n",
    "conn = get_sqlalchemy_connection(conf)"
   ]
  },
  {
   "cell_type": "code",
   "execution_count": 6,
   "metadata": {},
   "outputs": [],
   "source": [
    "N_BINS = 20"
   ]
  },
  {
   "cell_type": "code",
   "execution_count": null,
   "metadata": {},
   "outputs": [],
   "source": [
    "measurement_abstract_rpt_df = read_table(conn, 'measurement_abstract_rpt')\n",
    "measurement_abstract_rpt_df.head()"
   ]
  },
  {
   "cell_type": "markdown",
   "metadata": {},
   "source": [
    "# 1. Read relevant tables into dataframes\n",
    "\n",
    "* `measurement_abstract_rpt`: 1,568,350 final (reported) study measurements (more than measured because some are automatically calculated)\n",
    "* `a_measgraphref`: 823,886 total (recorded) instance measurements (34,332 with bad `instanceidk` value, 37 with bad `indexinmglist` value)\n",
    "* `a_measgraphic`: 486,884 instance frames"
   ]
  },
  {
   "cell_type": "code",
   "execution_count": null,
   "metadata": {},
   "outputs": [],
   "source": [
    "# Remove whitespace around measurement names to match with given measurements that correspond to views (fix units too)\n",
    "measurement_abstract_rpt_df['name'] = measurement_abstract_rpt_df['name'].str.strip()\n",
    "measurement_abstract_rpt_df['unitname'] = measurement_abstract_rpt_df['unitname'].str.strip()"
   ]
  },
  {
   "cell_type": "markdown",
   "metadata": {},
   "source": [
    "### `a_measgraphref`"
   ]
  },
  {
   "cell_type": "code",
   "execution_count": null,
   "metadata": {},
   "outputs": [],
   "source": [
    "measgraphref_df = read_table(conn, 'a_measgraphref')\n",
    "measgraphref_df.head()"
   ]
  },
  {
   "cell_type": "code",
   "execution_count": null,
   "metadata": {},
   "outputs": [],
   "source": [
    "# Drop fields with unknown descriptions in Xcelera documentation\n",
    "measgraphref_df = measgraphref_df.drop(\"srinstanceidk\", axis=\"columns\")\n",
    "measgraphref_df.head()"
   ]
  },
  {
   "cell_type": "code",
   "execution_count": null,
   "metadata": {},
   "outputs": [],
   "source": [
    "BAD_INSTANCE_IDKS = [\"\", \"-1\"]"
   ]
  },
  {
   "cell_type": "code",
   "execution_count": null,
   "metadata": {},
   "outputs": [],
   "source": [
    "len(measgraphref_df[measgraphref_df[\"instanceidk\"].isin(BAD_INSTANCE_IDKS)])"
   ]
  },
  {
   "cell_type": "code",
   "execution_count": null,
   "metadata": {},
   "outputs": [],
   "source": [
    "# Drop bad instanceidk from dataframe and cast to int\n",
    "measgraphref_df = measgraphref_df[~measgraphref_df[\"instanceidk\"].isin(BAD_INSTANCE_IDKS)]\n",
    "measgraphref_df[\"instanceidk\"] = measgraphref_df[\"instanceidk\"].astype(int)\n",
    "len(measgraphref_df)"
   ]
  },
  {
   "cell_type": "code",
   "execution_count": null,
   "metadata": {},
   "outputs": [],
   "source": [
    "measgraphref_df['indexinmglist'].sort_values().unique()"
   ]
  },
  {
   "cell_type": "code",
   "execution_count": null,
   "metadata": {},
   "outputs": [],
   "source": [
    "BAD_INDEX_IN_MG_LIST_VALUES = [-1]"
   ]
  },
  {
   "cell_type": "code",
   "execution_count": null,
   "metadata": {},
   "outputs": [],
   "source": [
    "len(measgraphref_df[measgraphref_df[\"indexinmglist\"].isin(BAD_INDEX_IN_MG_LIST_VALUES)])"
   ]
  },
  {
   "cell_type": "code",
   "execution_count": null,
   "metadata": {},
   "outputs": [],
   "source": [
    "measgraphref_df = measgraphref_df[~measgraphref_df[\"indexinmglist\"].isin(BAD_INDEX_IN_MG_LIST_VALUES)]\n",
    "len(measgraphref_df)"
   ]
  },
  {
   "cell_type": "code",
   "execution_count": null,
   "metadata": {},
   "outputs": [],
   "source": [
    "measgraphref_df[\"howentered\"].unique()"
   ]
  },
  {
   "cell_type": "code",
   "execution_count": null,
   "metadata": {},
   "outputs": [],
   "source": [
    "(measgraphref_df[\"imagesopinstanceuid\"] != \"\").sum()"
   ]
  },
  {
   "cell_type": "code",
   "execution_count": null,
   "metadata": {},
   "outputs": [],
   "source": [
    "(measgraphref_df.groupby(\"instanceidk\").first()[\"imagesopinstanceuid\"] != \"\").sum()"
   ]
  },
  {
   "cell_type": "markdown",
   "metadata": {},
   "source": [
    "### `a_measgraphic`"
   ]
  },
  {
   "cell_type": "code",
   "execution_count": null,
   "metadata": {},
   "outputs": [],
   "source": [
    "measgraphic_df = read_table(conn, 'a_measgraphic')\n",
    "measgraphic_df.head()"
   ]
  },
  {
   "cell_type": "code",
   "execution_count": null,
   "metadata": {},
   "outputs": [],
   "source": [
    "# Drop fields with unknown descriptions in Xcelera documentation\n",
    "measgraphic_df = measgraphic_df.drop([\"graphictoolidk\", \"longaxisindex\", \"measidk\", \"loopidk\", \"instancerecordtype\"], axis=\"columns\")\n",
    "measgraphic_df.head()"
   ]
  },
  {
   "cell_type": "markdown",
   "metadata": {},
   "source": [
    "# 2. Descriptive Statistics\n",
    "\n",
    "* 362 unique measurements\n",
    "* 24,912 unique studies with final (reported) measurements\n",
    "* 24,471 unique studies with total (recorded) measurements\n",
    "    * 128 outliers based on instances per study)\n",
    "* 254,159 unique instances with total (recorded) measurements\n",
    "    * 2,357 outliers based on measurements per instance\n",
    "    * 31,877 outliers based on frame counts per instance)"
   ]
  },
  {
   "cell_type": "markdown",
   "metadata": {},
   "source": [
    "### What are the most/least common final (reported) measurements?"
   ]
  },
  {
   "cell_type": "code",
   "execution_count": null,
   "metadata": {},
   "outputs": [],
   "source": [
    "counts = measurement_abstract_rpt_df['name'].value_counts()\n",
    "counts"
   ]
  },
  {
   "cell_type": "markdown",
   "metadata": {},
   "source": [
    "### How many measurements appear once/in single digits?"
   ]
  },
  {
   "cell_type": "code",
   "execution_count": null,
   "metadata": {},
   "outputs": [],
   "source": [
    "len(counts[counts==1].index)"
   ]
  },
  {
   "cell_type": "code",
   "execution_count": null,
   "metadata": {},
   "outputs": [],
   "source": [
    "len(counts[counts<10].index)"
   ]
  },
  {
   "cell_type": "markdown",
   "metadata": {},
   "source": [
    "### What is the distribution of counts for final (reported) measurements?"
   ]
  },
  {
   "cell_type": "code",
   "execution_count": null,
   "metadata": {},
   "outputs": [],
   "source": [
    "plt.title(\"Counts for Final Measurements\")\n",
    "final_measurement_counts = measurement_abstract_rpt_df['name'].value_counts().values\n",
    "plt.hist(final_measurement_counts, N_BINS);"
   ]
  },
  {
   "cell_type": "markdown",
   "metadata": {},
   "source": [
    "### What is the distribution of counts for final (reported) measurements per study?"
   ]
  },
  {
   "cell_type": "code",
   "execution_count": null,
   "metadata": {
    "scrolled": true
   },
   "outputs": [],
   "source": [
    "final_measurement_counts_per_study = measurement_abstract_rpt_df.groupby(\"studyid\").size()\n",
    "len(final_measurement_counts_per_study)"
   ]
  },
  {
   "cell_type": "code",
   "execution_count": null,
   "metadata": {
    "scrolled": true
   },
   "outputs": [],
   "source": [
    "final_measurement_counts_per_study.head()"
   ]
  },
  {
   "cell_type": "code",
   "execution_count": null,
   "metadata": {},
   "outputs": [],
   "source": [
    "final_measurement_counts_per_study.describe()"
   ]
  },
  {
   "cell_type": "code",
   "execution_count": null,
   "metadata": {
    "scrolled": false
   },
   "outputs": [],
   "source": [
    "plt.title(\"Counts for Final (Reported) Measurements Per Study\")\n",
    "plt.hist(final_measurement_counts_per_study.values, N_BINS);"
   ]
  },
  {
   "cell_type": "markdown",
   "metadata": {},
   "source": [
    "### What is the distribution of counts for total (recorded) measurements per study?"
   ]
  },
  {
   "cell_type": "code",
   "execution_count": null,
   "metadata": {},
   "outputs": [],
   "source": [
    "total_measurement_counts_per_study = measgraphref_df.groupby(\"studyidk\").size()\n",
    "len(total_measurement_counts_per_study)"
   ]
  },
  {
   "cell_type": "code",
   "execution_count": null,
   "metadata": {},
   "outputs": [],
   "source": [
    "total_measurement_counts_per_study.head()"
   ]
  },
  {
   "cell_type": "code",
   "execution_count": null,
   "metadata": {},
   "outputs": [],
   "source": [
    "total_measurement_counts_per_study.describe()"
   ]
  },
  {
   "cell_type": "code",
   "execution_count": null,
   "metadata": {
    "scrolled": false
   },
   "outputs": [],
   "source": [
    "plt.title(\"Counts for Total (Recorded) Measurements Per Study\")\n",
    "plt.hist(total_measurement_counts_per_study.values, N_BINS);"
   ]
  },
  {
   "cell_type": "markdown",
   "metadata": {},
   "source": [
    "### What is the distribution of counts for total (recorded) measurements per instance?"
   ]
  },
  {
   "cell_type": "code",
   "execution_count": null,
   "metadata": {},
   "outputs": [],
   "source": [
    "total_measurement_counts_per_instance = measgraphref_df.groupby(\"instanceidk\").size()\n",
    "len(total_measurement_counts_per_instance)"
   ]
  },
  {
   "cell_type": "code",
   "execution_count": null,
   "metadata": {},
   "outputs": [],
   "source": [
    "total_measurement_counts_per_instance.head()"
   ]
  },
  {
   "cell_type": "code",
   "execution_count": null,
   "metadata": {},
   "outputs": [],
   "source": [
    "total_measurement_counts_per_instance.describe()"
   ]
  },
  {
   "cell_type": "code",
   "execution_count": null,
   "metadata": {},
   "outputs": [],
   "source": [
    "total_measurement_counts_per_instance = total_measurement_counts_per_instance.sort_values(ascending=False)"
   ]
  },
  {
   "cell_type": "code",
   "execution_count": null,
   "metadata": {},
   "outputs": [],
   "source": [
    "plt.title(\"Counts for Total (Recorded) Measurements Per Instance\")\n",
    "plt.hist(total_measurement_counts_per_instance.values, N_BINS);"
   ]
  },
  {
   "cell_type": "code",
   "execution_count": null,
   "metadata": {},
   "outputs": [],
   "source": [
    "plt.title(\"Boxplot for Total (Recorded) Measurements Per Instance\")\n",
    "result = plt.boxplot(total_measurement_counts_per_instance)"
   ]
  },
  {
   "cell_type": "code",
   "execution_count": null,
   "metadata": {},
   "outputs": [],
   "source": [
    "def get_outlier_thresholds(result):\n",
    "    outlier_min, outlier_max = [item.get_ydata()[0] for item in result['caps']]\n",
    "    return outlier_min, outlier_max"
   ]
  },
  {
   "cell_type": "code",
   "execution_count": null,
   "metadata": {},
   "outputs": [],
   "source": [
    "outlier_min, outlier_max = get_outlier_thresholds(result)\n",
    "outlier_min, outlier_max"
   ]
  },
  {
   "cell_type": "code",
   "execution_count": null,
   "metadata": {},
   "outputs": [],
   "source": [
    "# TODO: filter outliers?\n",
    "num_outliers = ((total_measurement_counts_per_instance < outlier_min) | (total_measurement_counts_per_instance > outlier_max)).sum()\n",
    "num_outliers"
   ]
  },
  {
   "cell_type": "markdown",
   "metadata": {},
   "source": [
    "### What is the distribution of counts for instances per study?"
   ]
  },
  {
   "cell_type": "code",
   "execution_count": null,
   "metadata": {},
   "outputs": [],
   "source": [
    "frame_counts_per_study_and_instance = measgraphref_df.groupby([\"studyidk\", \"instanceidk\"]).size()\n",
    "len(frame_counts_per_study_and_instance)"
   ]
  },
  {
   "cell_type": "code",
   "execution_count": null,
   "metadata": {},
   "outputs": [],
   "source": [
    "frame_counts_per_study_and_instance.head()"
   ]
  },
  {
   "cell_type": "code",
   "execution_count": null,
   "metadata": {},
   "outputs": [],
   "source": [
    "instance_counts_per_study = frame_counts_per_study_and_instance.reset_index().groupby('studyidk').size()\n",
    "len(instance_counts_per_study)"
   ]
  },
  {
   "cell_type": "code",
   "execution_count": null,
   "metadata": {},
   "outputs": [],
   "source": [
    "instance_counts_per_study.head()"
   ]
  },
  {
   "cell_type": "code",
   "execution_count": null,
   "metadata": {},
   "outputs": [],
   "source": [
    "instance_counts_per_study.describe()"
   ]
  },
  {
   "cell_type": "code",
   "execution_count": null,
   "metadata": {},
   "outputs": [],
   "source": [
    "plt.title(\"Counts for Instances Per Study\")\n",
    "plt.hist(instance_counts_per_study.values, N_BINS);"
   ]
  },
  {
   "cell_type": "code",
   "execution_count": null,
   "metadata": {},
   "outputs": [],
   "source": [
    "plt.title(\"Boxplot for Instances Per Study\")\n",
    "result = plt.boxplot(instance_counts_per_study)"
   ]
  },
  {
   "cell_type": "code",
   "execution_count": null,
   "metadata": {},
   "outputs": [],
   "source": [
    "outlier_min, outlier_max = get_outlier_thresholds(result)\n",
    "outlier_min, outlier_max"
   ]
  },
  {
   "cell_type": "code",
   "execution_count": null,
   "metadata": {},
   "outputs": [],
   "source": [
    "# TODO: filter outliers?\n",
    "num_outliers = ((instance_counts_per_study < outlier_min) | (instance_counts_per_study > outlier_max)).sum()\n",
    "num_outliers"
   ]
  },
  {
   "cell_type": "markdown",
   "metadata": {},
   "source": [
    "### What is the distribution of counts for frames per instance?"
   ]
  },
  {
   "cell_type": "code",
   "execution_count": null,
   "metadata": {},
   "outputs": [],
   "source": [
    "frame_counts_per_instance = measgraphref_df.groupby([\"instanceidk\", \"indexinmglist\"]).size().reset_index().groupby('instanceidk').size()\n",
    "len(frame_counts_per_instance)"
   ]
  },
  {
   "cell_type": "code",
   "execution_count": null,
   "metadata": {},
   "outputs": [],
   "source": [
    "frame_counts_per_instance.head()"
   ]
  },
  {
   "cell_type": "code",
   "execution_count": null,
   "metadata": {},
   "outputs": [],
   "source": [
    "frame_counts_per_instance.describe()"
   ]
  },
  {
   "cell_type": "code",
   "execution_count": null,
   "metadata": {
    "scrolled": true
   },
   "outputs": [],
   "source": [
    "plt.title(\"Counts for Frames Per Instance\")\n",
    "plt.hist(frame_counts_per_instance.values, N_BINS);"
   ]
  },
  {
   "cell_type": "code",
   "execution_count": null,
   "metadata": {},
   "outputs": [],
   "source": [
    "plt.title(\"Boxplot for Frames Per Instance\")\n",
    "result = plt.boxplot(frame_counts_per_instance)"
   ]
  },
  {
   "cell_type": "code",
   "execution_count": null,
   "metadata": {},
   "outputs": [],
   "source": [
    "outlier_min, outlier_max = get_outlier_thresholds(result)\n",
    "outlier_min, outlier_max"
   ]
  },
  {
   "cell_type": "code",
   "execution_count": null,
   "metadata": {},
   "outputs": [],
   "source": [
    "# TODO: filter outliers?\n",
    "num_outliers = ((frame_counts_per_instance < outlier_min) | (frame_counts_per_instance > outlier_max)).sum()\n",
    "num_outliers"
   ]
  },
  {
   "cell_type": "markdown",
   "metadata": {},
   "source": [
    "### What is the distribution of counts for measurements per frame?"
   ]
  },
  {
   "cell_type": "code",
   "execution_count": null,
   "metadata": {},
   "outputs": [],
   "source": [
    "measurement_counts_per_frame = measgraphref_df.groupby([\"instanceidk\", \"indexinmglist\"]).size()\n",
    "len(measurement_counts_per_frame)"
   ]
  },
  {
   "cell_type": "code",
   "execution_count": null,
   "metadata": {},
   "outputs": [],
   "source": [
    "measurement_counts_per_frame.head()"
   ]
  },
  {
   "cell_type": "code",
   "execution_count": null,
   "metadata": {},
   "outputs": [],
   "source": [
    "measurement_counts_per_frame.describe()"
   ]
  },
  {
   "cell_type": "code",
   "execution_count": null,
   "metadata": {},
   "outputs": [],
   "source": [
    "plt.title(\"Counts for Measurements Per Frame\")\n",
    "plt.hist(measurement_counts_per_frame.values, N_BINS);"
   ]
  },
  {
   "cell_type": "markdown",
   "metadata": {},
   "source": [
    "# 3. View groundtruth from measurements\n",
    "\n",
    "* 823,886 total (recorded) instance measurements with frames\n",
    "* 295,962 total (recorded) instance measurements with frames for measurements we care about\n",
    "* 23,327 unique studies with total (recorded) measurements for measurements we care about\n",
    "* 69,185 unique instancs with total (recorded) measurements for measurements we care about\n",
    "* 162 frames with conflicting views\n",
    "    * 113 A4C & A2C\n",
    "    * 49 A4C & PLAX\n",
    "* 53,852 instances (potentially) witht PLAX view\n",
    "    * 27,838 instances frames with PLAX view\n",
    "    * 26,014 instances frames with PLAX view potentially\n",
    "* 38,880 instances frames with A4C view\n",
    "* 20,908 instances frames with A2C view\n",
    "* 45,782 instances frames \n",
    "* 113,640 total frames from all views"
   ]
  },
  {
   "cell_type": "code",
   "execution_count": null,
   "metadata": {},
   "outputs": [],
   "source": [
    "measgraphref_df.head()"
   ]
  },
  {
   "cell_type": "code",
   "execution_count": null,
   "metadata": {},
   "outputs": [],
   "source": [
    "measgraphref_df = measgraphref_df[['studyidk', 'measabstractnumber', 'instanceidk', 'indexinmglist']]\n",
    "measgraphref_df.head()"
   ]
  },
  {
   "cell_type": "code",
   "execution_count": null,
   "metadata": {},
   "outputs": [],
   "source": [
    "measgraphic_df.head()"
   ]
  },
  {
   "cell_type": "code",
   "execution_count": null,
   "metadata": {},
   "outputs": [],
   "source": [
    "measgraphic_df = measgraphic_df[['instanceidk', 'indexinmglist', 'frame']]\n",
    "measgraphic_df.head()"
   ]
  },
  {
   "cell_type": "code",
   "execution_count": null,
   "metadata": {},
   "outputs": [],
   "source": [
    "measurement_abstract_rpt_df.head()"
   ]
  },
  {
   "cell_type": "code",
   "execution_count": null,
   "metadata": {},
   "outputs": [],
   "source": [
    "measurement_abstract_rpt_df = measurement_abstract_rpt_df[['studyid', 'measabstractnumber', 'name']]\n",
    "measurement_abstract_rpt_df = measurement_abstract_rpt_df.rename(index=str, columns={\"studyid\": \"studyidk\"})\n",
    "measurement_abstract_rpt_df.head()"
   ]
  },
  {
   "cell_type": "code",
   "execution_count": null,
   "metadata": {},
   "outputs": [],
   "source": [
    "merge_df = measgraphref_df.merge(measgraphic_df, on=['instanceidk', 'indexinmglist'])\n",
    "print(merge_df.shape)\n",
    "merge_df.head()"
   ]
  },
  {
   "cell_type": "code",
   "execution_count": null,
   "metadata": {},
   "outputs": [],
   "source": [
    "merge_df = merge_df.merge(measurement_abstract_rpt_df, on=['studyidk', 'measabstractnumber'])\n",
    "print(merge_df.shape)\n",
    "merge_df.head()"
   ]
  },
  {
   "cell_type": "code",
   "execution_count": null,
   "metadata": {},
   "outputs": [],
   "source": [
    "MEASUREMENTS_PARASTERNAL_LONG_AXIS_VIEW = ['Diám raíz Ao', 'Diám. Ao asc.', 'Diám TSVI', 'Dimensión AI']\n",
    "POTENTIAL_MEASUREMENTS_PARASTERNAL_LONG_AXIS_VIEW = ['Diám TSVD', 'DVItd', 'DVIts', 'SIVtd', 'PPVItd']\n",
    "MEASUREMENTS_APICAL_4_CHAMBER_VIEW = ['AVItd ap4', 'VTD(el-ps4)', 'VTD(MDD-ps4)', 'VTD 4C', 'AVIts ap4', 'VTS(el-ps4)', 'VTS(MDD-ps4)', 'VTS 4C', 'Vol. AI (MOD-sp4)']\n",
    "MEASUREMENTS_APICAL_2_CHAMBER_VIEW = ['AVItd ap2', 'VTD(el-ps2)', 'VTD(MDD-ps2)', 'VTD 2C', 'AVIts ap2', 'VTS(el-ps2)', 'VTS(MDD-ps2)', 'VTS 2C', 'Vol. AI (MOD-sp2)']\n",
    "ALL_MEASUREMENTS = MEASUREMENTS_PARASTERNAL_LONG_AXIS_VIEW + POTENTIAL_MEASUREMENTS_PARASTERNAL_LONG_AXIS_VIEW + MEASUREMENTS_APICAL_4_CHAMBER_VIEW + MEASUREMENTS_APICAL_2_CHAMBER_VIEW"
   ]
  },
  {
   "cell_type": "code",
   "execution_count": null,
   "metadata": {},
   "outputs": [],
   "source": [
    "filter_df = merge_df[merge_df.name.isin(ALL_MEASUREMENTS)].copy()\n",
    "print(filter_df.shape)\n",
    "filter_df.head()"
   ]
  },
  {
   "cell_type": "code",
   "execution_count": null,
   "metadata": {},
   "outputs": [],
   "source": [
    "filtered_measurements = filter_df['name']\n",
    "filtered_measurements.value_counts()"
   ]
  },
  {
   "cell_type": "code",
   "execution_count": null,
   "metadata": {},
   "outputs": [],
   "source": [
    "plt.title(\"Counts for Filtered Measurements\")\n",
    "plt.hist(filtered_measurements.value_counts().values, N_BINS);"
   ]
  },
  {
   "cell_type": "code",
   "execution_count": null,
   "metadata": {},
   "outputs": [],
   "source": [
    "len(filter_df.groupby(['studyidk']).size())"
   ]
  },
  {
   "cell_type": "code",
   "execution_count": null,
   "metadata": {},
   "outputs": [],
   "source": [
    "len(filter_df.groupby(['instanceidk']).size())"
   ]
  },
  {
   "cell_type": "code",
   "execution_count": null,
   "metadata": {},
   "outputs": [],
   "source": [
    "MEASUREMENTS_END_DIASTOLIC = ['DVItd', 'SIVtd', 'PPVItd', 'AVItd ap4', 'VTD(el-ps4)', 'VTD(MDD-ps4)', 'VTD 4C', 'AVItd ap2', 'VTD(el-ps2)', 'VTD(MDD-ps2)', 'VTD 2C']\n",
    "MEASUREMENTS_END_SYSTOLIC = ['DVIts', 'AVIts ap4', 'VTS(el-ps4)', 'VTS(MDD-ps4)', 'VTS 4C', 'AVIts ap2', 'VTS(el-ps2)', 'VTS(MDD-ps2)', 'VTS 2C']"
   ]
  },
  {
   "cell_type": "code",
   "execution_count": null,
   "metadata": {},
   "outputs": [],
   "source": [
    "filter_df['is_end_diastolic'] = filter_df['name'].isin(MEASUREMENTS_END_DIASTOLIC)\n",
    "filter_df['is_end_systolic'] = filter_df['name'].isin(MEASUREMENTS_END_SYSTOLIC)"
   ]
  },
  {
   "cell_type": "code",
   "execution_count": null,
   "metadata": {},
   "outputs": [],
   "source": [
    "(filter_df['is_end_diastolic'] & filter_df['is_end_systolic']).sum()"
   ]
  },
  {
   "cell_type": "code",
   "execution_count": null,
   "metadata": {},
   "outputs": [],
   "source": [
    "filter_df['is_plax'] = filter_df['name'].isin(MEASUREMENTS_PARASTERNAL_LONG_AXIS_VIEW)\n",
    "filter_df['maybe_plax'] = filter_df['name'].isin(POTENTIAL_MEASUREMENTS_PARASTERNAL_LONG_AXIS_VIEW)\n",
    "filter_df['is_a4c'] = filter_df['name'].isin(MEASUREMENTS_APICAL_4_CHAMBER_VIEW)\n",
    "filter_df['is_a2c'] = filter_df['name'].isin(MEASUREMENTS_APICAL_2_CHAMBER_VIEW)"
   ]
  },
  {
   "cell_type": "code",
   "execution_count": null,
   "metadata": {},
   "outputs": [],
   "source": [
    "filter_df['view'] = ''\n",
    "filter_df.loc[filter_df['is_plax']==True, 'view'] = 'plax'\n",
    "filter_df.loc[filter_df['maybe_plax']==True, 'view'] = 'plax'\n",
    "filter_df.loc[filter_df['is_a4c']==True, 'view'] = 'a4c'\n",
    "filter_df.loc[filter_df['is_a2c']==True, 'view'] = 'a2c'"
   ]
  },
  {
   "cell_type": "code",
   "execution_count": null,
   "metadata": {},
   "outputs": [],
   "source": [
    "group_df = filter_df.groupby(['instanceidk', 'frame']).first()\n",
    "group_df = group_df.drop(['measabstractnumber', 'name'], axis='columns')\n",
    "print(group_df.shape)\n",
    "group_df.head()"
   ]
  },
  {
   "cell_type": "code",
   "execution_count": null,
   "metadata": {},
   "outputs": [],
   "source": [
    "(group_df.reset_index().groupby(['instanceidk', 'indexinmglist'])['view'].nunique().eq(1)==False).sum()"
   ]
  },
  {
   "cell_type": "code",
   "execution_count": null,
   "metadata": {},
   "outputs": [],
   "source": [
    "(group_df.reset_index().groupby('instanceidk')['view'].nunique().eq(1)==False).sum()"
   ]
  },
  {
   "cell_type": "code",
   "execution_count": null,
   "metadata": {},
   "outputs": [],
   "source": [
    "is_instance_multiview = (group_df.reset_index().groupby('instanceidk')['view'].nunique().eq(1)==False).reset_index()\n",
    "is_instance_multiview = is_instance_multiview.rename(index=str, columns={\"view\": \"is_multiview\"})"
   ]
  },
  {
   "cell_type": "code",
   "execution_count": null,
   "metadata": {},
   "outputs": [],
   "source": [
    "group_df = group_df.merge(is_instance_multiview, on='instanceidk')"
   ]
  },
  {
   "cell_type": "code",
   "execution_count": null,
   "metadata": {},
   "outputs": [],
   "source": [
    "frames_with_views_df = group_df\n",
    "frames_with_views_df.head()"
   ]
  },
  {
   "cell_type": "code",
   "execution_count": null,
   "metadata": {},
   "outputs": [],
   "source": [
    "conflict_sets = frames_with_views_df[frames_with_views_df['is_multiview']==True].groupby('instanceidk').agg({'view': lambda x: set(x)})\n",
    "conflict_sets.head()"
   ]
  },
  {
   "cell_type": "code",
   "execution_count": null,
   "metadata": {},
   "outputs": [],
   "source": [
    "conflict_sets['view'].value_counts()"
   ]
  },
  {
   "cell_type": "code",
   "execution_count": null,
   "metadata": {},
   "outputs": [],
   "source": [
    "from collections import defaultdict\n",
    "\n",
    "def get_view_counts(df):\n",
    "    d = defaultdict(dict)\n",
    "    d['plax'] = df['is_plax'].sum()\n",
    "    d['plax_maybe'] = df['maybe_plax'].sum()\n",
    "    d['plax_total'] = d['plax'] + d['plax_maybe']\n",
    "    d['a4c'] = df['is_a4c'].sum()\n",
    "    d['a2c'] = df['is_a2c'].sum()\n",
    "    d['total'] = d['plax_total'] + d['a4c'] + d['a2c']\n",
    "    return d"
   ]
  },
  {
   "cell_type": "code",
   "execution_count": null,
   "metadata": {},
   "outputs": [],
   "source": [
    "results = defaultdict(dict)\n",
    "results['end_diastolic'] = get_view_counts(frames_with_views_df[frames_with_views_df['is_end_diastolic']])\n",
    "results['end_systolic'] = get_view_counts(frames_with_views_df[frames_with_views_df['is_end_systolic']])\n",
    "results['neither'] = get_view_counts(frames_with_views_df[(~frames_with_views_df['is_end_diastolic']) & (~frames_with_views_df['is_end_systolic'])])\n",
    "results['total'] = get_view_counts(frames_with_views_df)"
   ]
  },
  {
   "cell_type": "code",
   "execution_count": null,
   "metadata": {},
   "outputs": [],
   "source": [
    "results_df = pd.DataFrame.from_dict(results)\n",
    "results_df = results_df.transpose()\n",
    "results_df.head()"
   ]
  },
  {
   "cell_type": "code",
   "execution_count": null,
   "metadata": {},
   "outputs": [],
   "source": [
    "frames_with_views_df.to_csv('../data/02_intermediate/frames_with_views.csv')"
   ]
  }
 ],
 "metadata": {
  "kernelspec": {
   "display_name": "dssg",
   "language": "python",
   "name": "dssg"
  },
  "language_info": {
   "codemirror_mode": {
    "name": "ipython",
    "version": 3
   },
   "file_extension": ".py",
   "mimetype": "text/x-python",
   "name": "python",
   "nbconvert_exporter": "python",
   "pygments_lexer": "ipython3",
   "version": "3.7.3"
  }
 },
 "nbformat": 4,
 "nbformat_minor": 2
}
