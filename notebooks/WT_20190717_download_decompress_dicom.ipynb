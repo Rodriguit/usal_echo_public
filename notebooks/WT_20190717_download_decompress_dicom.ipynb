{
 "cells": [
  {
   "cell_type": "code",
   "execution_count": 2,
   "metadata": {},
   "outputs": [],
   "source": [
    "import os\n",
    "import sys\n",
    "import pandas as pd\n",
    "import numpy as np\n",
    "import boto3\n",
    "import feather\n",
    "import tempfile\n",
    "from time import time\n",
    "\n",
    "projectdir = os.path.dirname(os.getcwd())\n",
    "sys.path.append(os.path.join(projectdir,'src'))\n",
    "\n",
    "from d01_data.ingestion_xtdb import ingest_xtdb\n",
    "from d02_intermediate.clean_xtdb import *\n",
    "from d00_utils.db_utils import *\n",
    "from d00_utils.s3_utils import *\n",
    "\n",
    "db_table = 'metadata'\n",
    "credentials_file = os.path.join(os.path.expanduser('~'), '.psql_credentials.json')"
   ]
  },
  {
   "cell_type": "code",
   "execution_count": 3,
   "metadata": {},
   "outputs": [
    {
     "name": "stdout",
     "output_type": "stream",
     "text": [
      "['meta_lite', 'measurement_abstract_rpt', 'a_measgraphref', 'a_measgraphic', 'dm_spain_view_study_summary', 'a_modvolume', 'instance_filename']\n"
     ]
    }
   ],
   "source": [
    "io_clean = dbReadWriteClean()\n",
    "io_clean.list_tables()"
   ]
  },
  {
   "cell_type": "code",
   "execution_count": 4,
   "metadata": {},
   "outputs": [
    {
     "name": "stderr",
     "output_type": "stream",
     "text": [
      "/home/wiebke_toussaint/anaconda3/envs/dssg/lib/python3.7/site-packages/IPython/core/interactiveshell.py:3248: DtypeWarning: Columns (0) have mixed types. Specify dtype option on import or set low_memory=False.\n",
      "  if (await self.run_code(code, result,  async_=asy)):\n"
     ]
    },
    {
     "name": "stdout",
     "output_type": "stream",
     "text": [
      "29.501980781555176\n"
     ]
    }
   ],
   "source": [
    "t1 = time()\n",
    "meta_lite = io_clean.get_table('meta_lite')\n",
    "print(time() - t1)"
   ]
  },
  {
   "cell_type": "code",
   "execution_count": 47,
   "metadata": {},
   "outputs": [],
   "source": [
    "s3keys = get_matching_s3_keys('cibercv','100000/a_6MI50JZH')"
   ]
  },
  {
   "cell_type": "code",
   "execution_count": 48,
   "metadata": {},
   "outputs": [
    {
     "name": "stdout",
     "output_type": "stream",
     "text": [
      "a_6MI50JZH.dcm_raw\n"
     ]
    }
   ],
   "source": [
    "for k in s3keys: print(k.split('/')[1]+'_raw')"
   ]
  },
  {
   "cell_type": "code",
   "execution_count": 42,
   "metadata": {},
   "outputs": [
    {
     "data": {
      "text/plain": [
       "['100000', 'a_6MI50JZH']"
      ]
     },
     "execution_count": 42,
     "metadata": {},
     "output_type": "execute_result"
    }
   ],
   "source": [
    "'100000/a_6MI50JZH'.split('/')"
   ]
  },
  {
   "cell_type": "code",
   "execution_count": 51,
   "metadata": {},
   "outputs": [],
   "source": [
    "def extract_imgs_from_dicom(bucket, prefix='', suffix='.dcm'):\n",
    "    \"\"\"\n",
    "    Get all the keys with a specific suffix from a s3 bucket.\n",
    "\n",
    "    :param bucket: Name of the S3 bucket.\n",
    "    :param prefix: Only fetch objects whose key starts with this prefix (optional).\n",
    "    :param suffix: Only fetch objects whose keys end with this suffix, default='dcm'\n",
    "    :return: list of keys\n",
    "    \"\"\"\n",
    "    s3 = boto3.client('s3')\n",
    "\n",
    "    keys = []\n",
    "    kwargs = {'Bucket': bucket}\n",
    "\n",
    "    data_dir = os.path.join(projectdir, 'data', '01_raw','dicom_images')\n",
    "    os.makedirs(data_dir, exist_ok=True)\n",
    "\n",
    "    if isinstance(prefix, str):\n",
    "        kwargs['Prefix'] = prefix\n",
    "\n",
    "    while True:\n",
    "        resp = s3.list_objects_v2(**kwargs)\n",
    "        for obj in resp['Contents']:\n",
    "            if obj['Key'].startswith(prefix) and obj['Key'].endswith(suffix):\n",
    "                keys.append(obj['Key'])\n",
    "\n",
    "                outrawfilename = prefix.split('/')[1]+'_raw'\n",
    "\n",
    "                # Download and convert dicom file to raw format\n",
    "                tmp = tempfile.NamedTemporaryFile()\n",
    "                s3.download_file(bucket, obj['Key'], tmp.name)\n",
    "                os.system('gdcmconv -w ' + tmp.name + \" \" + os.path.join(data_dir, outrawfilename))\n",
    "\n",
    "        try:\n",
    "            kwargs['ContinuationToken'] = resp['NextContinuationToken']\n",
    "        except KeyError:\n",
    "            break\n",
    "\n",
    "    return keys"
   ]
  },
  {
   "cell_type": "code",
   "execution_count": 52,
   "metadata": {},
   "outputs": [
    {
     "ename": "TypeError",
     "evalue": "makedirs() missing 1 required positional argument: 'name'",
     "output_type": "error",
     "traceback": [
      "\u001b[0;31m---------------------------------------------------------------------------\u001b[0m",
      "\u001b[0;31mTypeError\u001b[0m                                 Traceback (most recent call last)",
      "\u001b[0;32m<ipython-input-52-c793b5c1223a>\u001b[0m in \u001b[0;36m<module>\u001b[0;34m\u001b[0m\n\u001b[0;32m----> 1\u001b[0;31m \u001b[0mextract_imgs_from_dicom\u001b[0m\u001b[0;34m(\u001b[0m\u001b[0;34m'cibercv'\u001b[0m\u001b[0;34m,\u001b[0m\u001b[0;34m'100000/a_6MI50JZH'\u001b[0m\u001b[0;34m)\u001b[0m\u001b[0;34m\u001b[0m\u001b[0;34m\u001b[0m\u001b[0m\n\u001b[0m",
      "\u001b[0;32m<ipython-input-51-3836ded21c12>\u001b[0m in \u001b[0;36mextract_imgs_from_dicom\u001b[0;34m(bucket, prefix, suffix)\u001b[0m\n\u001b[1;32m     14\u001b[0m \u001b[0;34m\u001b[0m\u001b[0m\n\u001b[1;32m     15\u001b[0m     \u001b[0mdata_dir\u001b[0m \u001b[0;34m=\u001b[0m \u001b[0mos\u001b[0m\u001b[0;34m.\u001b[0m\u001b[0mpath\u001b[0m\u001b[0;34m.\u001b[0m\u001b[0mjoin\u001b[0m\u001b[0;34m(\u001b[0m\u001b[0mprojectdir\u001b[0m\u001b[0;34m,\u001b[0m \u001b[0;34m'data'\u001b[0m\u001b[0;34m,\u001b[0m \u001b[0;34m'01_raw'\u001b[0m\u001b[0;34m,\u001b[0m\u001b[0;34m'dicom_images'\u001b[0m\u001b[0;34m)\u001b[0m\u001b[0;34m\u001b[0m\u001b[0;34m\u001b[0m\u001b[0m\n\u001b[0;32m---> 16\u001b[0;31m     \u001b[0mos\u001b[0m\u001b[0;34m.\u001b[0m\u001b[0mmakedirs\u001b[0m\u001b[0;34m(\u001b[0m\u001b[0mexist_ok\u001b[0m\u001b[0;34m=\u001b[0m\u001b[0;32mTrue\u001b[0m\u001b[0;34m)\u001b[0m\u001b[0;34m\u001b[0m\u001b[0;34m\u001b[0m\u001b[0m\n\u001b[0m\u001b[1;32m     17\u001b[0m \u001b[0;34m\u001b[0m\u001b[0m\n\u001b[1;32m     18\u001b[0m     \u001b[0;32mif\u001b[0m \u001b[0misinstance\u001b[0m\u001b[0;34m(\u001b[0m\u001b[0mprefix\u001b[0m\u001b[0;34m,\u001b[0m \u001b[0mstr\u001b[0m\u001b[0;34m)\u001b[0m\u001b[0;34m:\u001b[0m\u001b[0;34m\u001b[0m\u001b[0;34m\u001b[0m\u001b[0m\n",
      "\u001b[0;31mTypeError\u001b[0m: makedirs() missing 1 required positional argument: 'name'"
     ]
    }
   ],
   "source": [
    "extract_imgs_from_dicom('cibercv','100000/a_6MI50JZH')"
   ]
  },
  {
   "cell_type": "code",
   "execution_count": null,
   "metadata": {},
   "outputs": [],
   "source": []
  }
 ],
 "metadata": {
  "kernelspec": {
   "display_name": "dssg",
   "language": "python",
   "name": "dssg"
  },
  "language_info": {
   "codemirror_mode": {
    "name": "ipython",
    "version": 3
   },
   "file_extension": ".py",
   "mimetype": "text/x-python",
   "name": "python",
   "nbconvert_exporter": "python",
   "pygments_lexer": "ipython3",
   "version": "3.7.3"
  }
 },
 "nbformat": 4,
 "nbformat_minor": 2
}
