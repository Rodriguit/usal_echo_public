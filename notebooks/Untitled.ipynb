{
<<<<<<< HEAD
 "cells": [
  {
   "cell_type": "code",
   "execution_count": null,
   "metadata": {},
   "outputs": [],
   "source": []
  }
 ],
 "metadata": {
  "kernelspec": {
   "display_name": "Environment (conda_usal_echo)",
   "language": "python",
   "name": "conda_usal_echo"
  }
 },
=======
 "cells": [],
 "metadata": {},
>>>>>>> ae36e050ff62bf005deca2802e4776a64e8b2298
 "nbformat": 4,
 "nbformat_minor": 2
}
