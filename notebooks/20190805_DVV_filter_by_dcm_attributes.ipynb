{
 "cells": [
  {
   "cell_type": "code",
   "execution_count": 1,
   "metadata": {},
   "outputs": [],
   "source": [
    "import sys\n",
    "\n",
    "sys.path.append('../src/d00_utils/')\n",
    "from db_utils import dbReadWriteClean, dbReadWriteViews"
   ]
  },
  {
   "cell_type": "code",
   "execution_count": 2,
   "metadata": {},
   "outputs": [
    {
     "name": "stderr",
     "output_type": "stream",
     "text": [
      "/home/ubuntu/anaconda3/envs/usal_echo/lib/python3.6/site-packages/psycopg2/__init__.py:144: UserWarning: The psycopg2 wheel package will be renamed from release 2.8; in order to keep installing from binary please use \"pip install psycopg2-binary\" instead. For details see: <http://initd.org/psycopg/docs/install.html#binary-install-from-pypi>.\n",
      "  \"\"\")\n",
      "/home/ubuntu/anaconda3/envs/usal_echo/lib/python3.6/site-packages/IPython/core/interactiveshell.py:2903: DtypeWarning: Columns (0) have mixed types. Specify dtype option on import or set low_memory=False.\n",
      "  if self.run_code(code, result):\n"
     ]
    },
    {
     "data": {
      "text/html": [
       "<div>\n",
       "<style scoped>\n",
       "    .dataframe tbody tr th:only-of-type {\n",
       "        vertical-align: middle;\n",
       "    }\n",
       "\n",
       "    .dataframe tbody tr th {\n",
       "        vertical-align: top;\n",
       "    }\n",
       "\n",
       "    .dataframe thead th {\n",
       "        text-align: right;\n",
       "    }\n",
       "</style>\n",
       "<table border=\"1\" class=\"dataframe\">\n",
       "  <thead>\n",
       "    <tr style=\"text-align: right;\">\n",
       "      <th></th>\n",
       "      <th>dirname</th>\n",
       "      <th>filename</th>\n",
       "      <th>tag1</th>\n",
       "      <th>tag2</th>\n",
       "      <th>value</th>\n",
       "      <th>tags</th>\n",
       "    </tr>\n",
       "  </thead>\n",
       "  <tbody>\n",
       "    <tr>\n",
       "      <th>0</th>\n",
       "      <td>44919</td>\n",
       "      <td>a_40B5SAIG</td>\n",
       "      <td>18</td>\n",
       "      <td>6024</td>\n",
       "      <td>3</td>\n",
       "      <td>('0018', '6024')</td>\n",
       "    </tr>\n",
       "    <tr>\n",
       "      <th>1</th>\n",
       "      <td>44919</td>\n",
       "      <td>a_40B5SAIG</td>\n",
       "      <td>18</td>\n",
       "      <td>6026</td>\n",
       "      <td>3</td>\n",
       "      <td>('0018', '6026')</td>\n",
       "    </tr>\n",
       "    <tr>\n",
       "      <th>2</th>\n",
       "      <td>44919</td>\n",
       "      <td>a_40B5SAIG</td>\n",
       "      <td>18</td>\n",
       "      <td>602c</td>\n",
       "      <td>0.0754717</td>\n",
       "      <td>('0018', '602c')</td>\n",
       "    </tr>\n",
       "    <tr>\n",
       "      <th>3</th>\n",
       "      <td>44919</td>\n",
       "      <td>a_40B5SAIG</td>\n",
       "      <td>18</td>\n",
       "      <td>602e</td>\n",
       "      <td>0.0754717</td>\n",
       "      <td>('0018', '602e')</td>\n",
       "    </tr>\n",
       "    <tr>\n",
       "      <th>4</th>\n",
       "      <td>44919</td>\n",
       "      <td>a_40B5SAIG</td>\n",
       "      <td>28</td>\n",
       "      <td>0004</td>\n",
       "      <td>YBR_FULL_422</td>\n",
       "      <td>('0028', '0004')</td>\n",
       "    </tr>\n",
       "  </tbody>\n",
       "</table>\n",
       "</div>"
      ],
      "text/plain": [
       "  dirname    filename  tag1  tag2         value              tags\n",
       "0   44919  a_40B5SAIG    18  6024             3  ('0018', '6024')\n",
       "1   44919  a_40B5SAIG    18  6026             3  ('0018', '6026')\n",
       "2   44919  a_40B5SAIG    18  602c     0.0754717  ('0018', '602c')\n",
       "3   44919  a_40B5SAIG    18  602e     0.0754717  ('0018', '602e')\n",
       "4   44919  a_40B5SAIG    28  0004  YBR_FULL_422  ('0028', '0004')"
      ]
     },
     "execution_count": 2,
     "metadata": {},
     "output_type": "execute_result"
    }
   ],
   "source": [
    "io_clean = dbReadWriteClean()\n",
    "df_dcm = io_clean.get_table('meta_lite')\n",
    "df_dcm.head()"
   ]
  },
  {
   "cell_type": "code",
   "execution_count": 5,
   "metadata": {},
   "outputs": [
    {
     "name": "stdout",
     "output_type": "stream",
     "text": [
      "(18831851, 6)\n"
     ]
    }
   ],
   "source": [
    "print(df_dcm.shape)"
   ]
  },
  {
   "cell_type": "code",
   "execution_count": 6,
   "metadata": {},
   "outputs": [
    {
     "name": "stdout",
     "output_type": "stream",
     "text": [
      "(32554, 5)\n"
     ]
    },
    {
     "data": {
      "text/html": [
       "<div>\n",
       "<style scoped>\n",
       "    .dataframe tbody tr th:only-of-type {\n",
       "        vertical-align: middle;\n",
       "    }\n",
       "\n",
       "    .dataframe tbody tr th {\n",
       "        vertical-align: top;\n",
       "    }\n",
       "\n",
       "    .dataframe thead th {\n",
       "        text-align: right;\n",
       "    }\n",
       "</style>\n",
       "<table border=\"1\" class=\"dataframe\">\n",
       "  <thead>\n",
       "    <tr style=\"text-align: right;\">\n",
       "      <th></th>\n",
       "      <th>sopinstanceuid</th>\n",
       "      <th>filename</th>\n",
       "      <th>instanceidk</th>\n",
       "      <th>view</th>\n",
       "      <th>studyidk</th>\n",
       "    </tr>\n",
       "  </thead>\n",
       "  <tbody>\n",
       "    <tr>\n",
       "      <th>0</th>\n",
       "      <td>1.2.840.113663.1500.1.365900332.3.3.20120703.9...</td>\n",
       "      <td>a_8Z0BWWL5</td>\n",
       "      <td>696108</td>\n",
       "      <td>plax</td>\n",
       "      <td>39531</td>\n",
       "    </tr>\n",
       "    <tr>\n",
       "      <th>1</th>\n",
       "      <td>1.2.840.113663.1500.1.365900332.3.4.20120703.9...</td>\n",
       "      <td>a_8Z0BWX0M</td>\n",
       "      <td>696109</td>\n",
       "      <td>plax</td>\n",
       "      <td>39531</td>\n",
       "    </tr>\n",
       "    <tr>\n",
       "      <th>2</th>\n",
       "      <td>1.2.840.113663.1500.1.365900332.3.7.20120703.9...</td>\n",
       "      <td>a_8Z0BWZGH</td>\n",
       "      <td>696112</td>\n",
       "      <td>a4c</td>\n",
       "      <td>39531</td>\n",
       "    </tr>\n",
       "    <tr>\n",
       "      <th>3</th>\n",
       "      <td>1.2.840.113663.1500.1.365900332.3.1.20120703.9...</td>\n",
       "      <td>a_8Z0BXKCB</td>\n",
       "      <td>696140</td>\n",
       "      <td>plax</td>\n",
       "      <td>39533</td>\n",
       "    </tr>\n",
       "    <tr>\n",
       "      <th>4</th>\n",
       "      <td>1.2.840.113663.1500.1.365900332.3.14.20120703....</td>\n",
       "      <td>a_8Z0BXYUW</td>\n",
       "      <td>696157</td>\n",
       "      <td>plax</td>\n",
       "      <td>39533</td>\n",
       "    </tr>\n",
       "  </tbody>\n",
       "</table>\n",
       "</div>"
      ],
      "text/plain": [
       "                                      sopinstanceuid    filename  instanceidk  \\\n",
       "0  1.2.840.113663.1500.1.365900332.3.3.20120703.9...  a_8Z0BWWL5       696108   \n",
       "1  1.2.840.113663.1500.1.365900332.3.4.20120703.9...  a_8Z0BWX0M       696109   \n",
       "2  1.2.840.113663.1500.1.365900332.3.7.20120703.9...  a_8Z0BWZGH       696112   \n",
       "3  1.2.840.113663.1500.1.365900332.3.1.20120703.9...  a_8Z0BXKCB       696140   \n",
       "4  1.2.840.113663.1500.1.365900332.3.14.20120703....  a_8Z0BXYUW       696157   \n",
       "\n",
       "   view  studyidk  \n",
       "0  plax     39531  \n",
       "1  plax     39531  \n",
       "2   a4c     39531  \n",
       "3  plax     39533  \n",
       "4  plax     39533  "
      ]
     },
     "execution_count": 6,
     "metadata": {},
     "output_type": "execute_result"
    }
   ],
   "source": [
    "io_views = dbReadWriteViews()\n",
    "df_inst_all = io_views.get_table('instances_w_labels')\n",
    "\n",
    "# Dataframe edits to match with other table\n",
    "df_inst = df_inst_all\n",
    "df_inst.rename(columns={\"instancefilename\": \"filename\"}, inplace=True)\n",
    "df_inst[\"filename\"] = df_inst['filename'].str.rstrip()\n",
    "df_inst[\"filename\"] = df_inst['filename'].str.slice_replace(stop=0,repl='a_')\n",
    "print(df_inst.shape)\n",
    "df_inst.head()"
   ]
  },
  {
   "cell_type": "code",
   "execution_count": 8,
   "metadata": {},
   "outputs": [
    {
     "name": "stdout",
     "output_type": "stream",
     "text": [
      "32470\n"
     ]
    }
   ],
   "source": [
    "# # Check to see how many instancefilenames match up\n",
    "fn_list = df_inst['filename'].tolist()\n",
    "# fn_list = [s.rstrip() for s in fn_list]\n",
    "# fn_list_a = ['a_' + s for s in fn_list]\n",
    "\n",
    "fn_list_dcm = df_dcm['filename'].tolist()\n",
    "print(len(set(fn_list) & set(fn_list_dcm)))"
   ]
  },
  {
   "cell_type": "code",
   "execution_count": 9,
   "metadata": {},
   "outputs": [
    {
     "name": "stdout",
     "output_type": "stream",
     "text": [
      "12701\n"
     ]
    }
   ],
   "source": [
    "# Check to see how many studies line up; note - not unique!\n",
    "dir_list = df_dcm['dirname'].tolist()\n",
    "study_list = df_inst['studyidk'].tolist()\n",
    "print(len(set(dir_list) & set(study_list)))"
   ]
  },
  {
   "cell_type": "code",
   "execution_count": 10,
   "metadata": {},
   "outputs": [
    {
     "name": "stdout",
     "output_type": "stream",
     "text": [
      "(643837, 7)\n"
     ]
    },
    {
     "data": {
      "text/html": [
       "<div>\n",
       "<style scoped>\n",
       "    .dataframe tbody tr th:only-of-type {\n",
       "        vertical-align: middle;\n",
       "    }\n",
       "\n",
       "    .dataframe tbody tr th {\n",
       "        vertical-align: top;\n",
       "    }\n",
       "\n",
       "    .dataframe thead th {\n",
       "        text-align: right;\n",
       "    }\n",
       "</style>\n",
       "<table border=\"1\" class=\"dataframe\">\n",
       "  <thead>\n",
       "    <tr style=\"text-align: right;\">\n",
       "      <th></th>\n",
       "      <th>filename</th>\n",
       "      <th>instanceidk</th>\n",
       "      <th>view</th>\n",
       "      <th>studyidk</th>\n",
       "      <th>tag1</th>\n",
       "      <th>tag2</th>\n",
       "      <th>value</th>\n",
       "    </tr>\n",
       "  </thead>\n",
       "  <tbody>\n",
       "    <tr>\n",
       "      <th>0</th>\n",
       "      <td>a_8Z0BWWL5</td>\n",
       "      <td>696108</td>\n",
       "      <td>plax</td>\n",
       "      <td>39531</td>\n",
       "      <td>2</td>\n",
       "      <td>0010</td>\n",
       "      <td>1.2.840.10008.1.2.5</td>\n",
       "    </tr>\n",
       "    <tr>\n",
       "      <th>1</th>\n",
       "      <td>a_8Z0BWWL5</td>\n",
       "      <td>696108</td>\n",
       "      <td>plax</td>\n",
       "      <td>39531</td>\n",
       "      <td>8</td>\n",
       "      <td>0012</td>\n",
       "      <td>20120703</td>\n",
       "    </tr>\n",
       "    <tr>\n",
       "      <th>2</th>\n",
       "      <td>a_8Z0BWWL5</td>\n",
       "      <td>696108</td>\n",
       "      <td>plax</td>\n",
       "      <td>39531</td>\n",
       "      <td>8</td>\n",
       "      <td>0016</td>\n",
       "      <td>1.2.840.10008.5.1.4.1.1.6.1</td>\n",
       "    </tr>\n",
       "    <tr>\n",
       "      <th>3</th>\n",
       "      <td>a_8Z0BWWL5</td>\n",
       "      <td>696108</td>\n",
       "      <td>plax</td>\n",
       "      <td>39531</td>\n",
       "      <td>8</td>\n",
       "      <td>002a</td>\n",
       "      <td>20120703090118</td>\n",
       "    </tr>\n",
       "    <tr>\n",
       "      <th>4</th>\n",
       "      <td>a_8Z0BWWL5</td>\n",
       "      <td>696108</td>\n",
       "      <td>plax</td>\n",
       "      <td>39531</td>\n",
       "      <td>8</td>\n",
       "      <td>1090</td>\n",
       "      <td>iE33</td>\n",
       "    </tr>\n",
       "  </tbody>\n",
       "</table>\n",
       "</div>"
      ],
      "text/plain": [
       "     filename  instanceidk  view  studyidk  tag1  tag2  \\\n",
       "0  a_8Z0BWWL5       696108  plax     39531     2  0010   \n",
       "1  a_8Z0BWWL5       696108  plax     39531     8  0012   \n",
       "2  a_8Z0BWWL5       696108  plax     39531     8  0016   \n",
       "3  a_8Z0BWWL5       696108  plax     39531     8  002a   \n",
       "4  a_8Z0BWWL5       696108  plax     39531     8  1090   \n",
       "\n",
       "                         value  \n",
       "0          1.2.840.10008.1.2.5  \n",
       "1                     20120703  \n",
       "2  1.2.840.10008.5.1.4.1.1.6.1  \n",
       "3               20120703090118  \n",
       "4                         iE33  "
      ]
     },
     "execution_count": 10,
     "metadata": {},
     "output_type": "execute_result"
    }
   ],
   "source": [
    "merge_df = df_inst.merge(df_dcm, on ='filename')\n",
    "merge_df.drop(columns=['sopinstanceuid', 'dirname', 'tags'], inplace=True)\n",
    "print(merge_df.shape)\n",
    "merge_df.head()"
   ]
  },
  {
   "cell_type": "code",
   "execution_count": 45,
   "metadata": {},
   "outputs": [
    {
     "name": "stdout",
     "output_type": "stream",
     "text": [
      "(27580, 7)\n"
     ]
    },
    {
     "data": {
      "text/html": [
       "<div>\n",
       "<style scoped>\n",
       "    .dataframe tbody tr th:only-of-type {\n",
       "        vertical-align: middle;\n",
       "    }\n",
       "\n",
       "    .dataframe tbody tr th {\n",
       "        vertical-align: top;\n",
       "    }\n",
       "\n",
       "    .dataframe thead th {\n",
       "        text-align: right;\n",
       "    }\n",
       "</style>\n",
       "<table border=\"1\" class=\"dataframe\">\n",
       "  <thead>\n",
       "    <tr style=\"text-align: right;\">\n",
       "      <th></th>\n",
       "      <th>filename</th>\n",
       "      <th>instanceidk</th>\n",
       "      <th>view</th>\n",
       "      <th>studyidk</th>\n",
       "      <th>tag1</th>\n",
       "      <th>tag2</th>\n",
       "      <th>value</th>\n",
       "    </tr>\n",
       "  </thead>\n",
       "  <tbody>\n",
       "    <tr>\n",
       "      <th>37</th>\n",
       "      <td>a_8Z0BWX0M</td>\n",
       "      <td>696109</td>\n",
       "      <td>plax</td>\n",
       "      <td>39531</td>\n",
       "      <td>28</td>\n",
       "      <td>0008</td>\n",
       "      <td>69</td>\n",
       "    </tr>\n",
       "    <tr>\n",
       "      <th>57</th>\n",
       "      <td>a_8Z0BWZGH</td>\n",
       "      <td>696112</td>\n",
       "      <td>a4c</td>\n",
       "      <td>39531</td>\n",
       "      <td>28</td>\n",
       "      <td>0008</td>\n",
       "      <td>23</td>\n",
       "    </tr>\n",
       "    <tr>\n",
       "      <th>76</th>\n",
       "      <td>a_8Z0BXKCB</td>\n",
       "      <td>696140</td>\n",
       "      <td>plax</td>\n",
       "      <td>39533</td>\n",
       "      <td>28</td>\n",
       "      <td>0008</td>\n",
       "      <td>52</td>\n",
       "    </tr>\n",
       "    <tr>\n",
       "      <th>95</th>\n",
       "      <td>a_8Z0BXYUW</td>\n",
       "      <td>696157</td>\n",
       "      <td>plax</td>\n",
       "      <td>39533</td>\n",
       "      <td>28</td>\n",
       "      <td>0008</td>\n",
       "      <td>40</td>\n",
       "    </tr>\n",
       "    <tr>\n",
       "      <th>136</th>\n",
       "      <td>a_8ZGVB44R</td>\n",
       "      <td>696422</td>\n",
       "      <td>plax</td>\n",
       "      <td>39552</td>\n",
       "      <td>28</td>\n",
       "      <td>0008</td>\n",
       "      <td>72</td>\n",
       "    </tr>\n",
       "  </tbody>\n",
       "</table>\n",
       "</div>"
      ],
      "text/plain": [
       "       filename  instanceidk  view  studyidk tag1  tag2 value\n",
       "37   a_8Z0BWX0M       696109  plax     39531   28  0008    69\n",
       "57   a_8Z0BWZGH       696112   a4c     39531   28  0008    23\n",
       "76   a_8Z0BXKCB       696140  plax     39533   28  0008    52\n",
       "95   a_8Z0BXYUW       696157  plax     39533   28  0008    40\n",
       "136  a_8ZGVB44R       696422  plax     39552   28  0008    72"
      ]
     },
     "execution_count": 45,
     "metadata": {},
     "output_type": "execute_result"
    }
   ],
   "source": [
    "df = merge_df\n",
    "\n",
    "df_num_frames_t = df.loc[(df['value'] != '1') & (df['tag2'] == '0008')] \n",
    "print(df_num_frames_t.shape)\n",
    "df_num_frames_t.head()"
   ]
  },
  {
   "cell_type": "code",
   "execution_count": 75,
   "metadata": {},
   "outputs": [],
   "source": [
    "# Get only tags that we care about\n",
    "df = merge_df\n",
    "df['tag1'] = df['tag1'].astype(str) # consistency with tag2\n",
    "\n",
    "# Region Spatial Format: (0018,6012) - no values entered throughout db\n",
    "df_region_sfa = df.loc[(df['tag1'] == '18') & (df['tag2'] == '6012')] \n",
    "df_num_frames = df.loc[(df['tag1'] == '28') & (df['tag2'] == '0008')] \n",
    "df_ultra_color = df.loc[(df['tag1'] == '28') & (df['tag2'] == '0014')]"
   ]
  },
  {
   "cell_type": "code",
   "execution_count": 50,
   "metadata": {},
   "outputs": [
    {
     "name": "stdout",
     "output_type": "stream",
     "text": [
      "(27580, 7)\n"
     ]
    }
   ],
   "source": [
    "print(df_num_frames.shape)\n",
    "# df_num_frames.head()"
   ]
  },
  {
   "cell_type": "code",
   "execution_count": 73,
   "metadata": {},
   "outputs": [
    {
     "name": "stdout",
     "output_type": "stream",
     "text": [
      "(27580, 7)\n",
      "(27563, 7)\n"
     ]
    }
   ],
   "source": [
    "# Remove any instances with less than ten frames\n",
    "# Number of Frames (0028,0008) should be >1\n",
    "frame_nums_str = df_num_frames['value'].tolist()\n",
    "frame_nums_int = list(map(int, frame_nums_str))\n",
    "frame_nums_int = sorted(list(set(frame_nums_int)))\n",
    "\n",
    "frame_nums_final = []\n",
    "for elem in frame_nums_int:\n",
    "    if elem >= 10:\n",
    "        frame_nums_final.append(elem)\n",
    "frame_nums_final = list(map(str, frame_nums_final))\n",
    "\n",
    "df = df_num_frames\n",
    "df_num_frames_filt = df[df['value'].isin(frame_nums_final)] "
   ]
  },
  {
   "cell_type": "code",
   "execution_count": 76,
   "metadata": {},
   "outputs": [
    {
     "name": "stdout",
     "output_type": "stream",
     "text": [
      "0         30843\n",
      "1          1627\n",
      "(US) 0        1\n",
      "Name: value, dtype: int64\n",
      "(32471, 7)\n",
      "(30843, 7)\n"
     ]
    }
   ],
   "source": [
    "##################################################\n",
    "# Ultrasound Color (0028,0014) should be '0'\n",
    "## WAITING ON: new meta_lite from WT\n",
    "#print(df_ultra_color['value'].value_counts())\n",
    "df_ultra_color_filt = df_ultra_color[df_ultra_color['value'] == '0']"
   ]
  },
  {
   "cell_type": "code",
   "execution_count": 77,
   "metadata": {},
   "outputs": [
    {
     "name": "stdout",
     "output_type": "stream",
     "text": [
      "(34957, 7)\n",
      "1         32470\n",
      "2          2484\n",
      "3             1\n",
      "(US) 2        1\n",
      "(US) 1        1\n",
      "Name: value, dtype: int64\n",
      "(32470, 7)\n"
     ]
    }
   ],
   "source": [
    "##########################################\n",
    "# Filter out tag values we are not interested in, e.g.\n",
    "# Region SFA (0018,6012) should be 1\n",
    "\n",
    "print(df_region_sfa.shape)\n",
    "print(df_region_sfa['value'].value_counts())\n",
    "\n",
    "df_region_sfa_filt = df_region_sfa[df_region_sfa['value'] == '1']\n",
    "print(df_region_sfa_filt.shape)"
   ]
  },
  {
   "cell_type": "code",
   "execution_count": 79,
   "metadata": {
    "scrolled": true
   },
   "outputs": [
    {
     "name": "stdout",
     "output_type": "stream",
     "text": [
      "32470\n",
      "27563\n",
      "30843\n",
      "25971\n"
     ]
    }
   ],
   "source": [
    "# Get instances that passed each filtering step\n",
    "inst_1 = df_region_sfa_filt['instanceidk'].tolist()\n",
    "inst_2 = df_num_frames_filt['instanceidk'].tolist()\n",
    "inst_3 = df_ultra_color_filt['instanceidk'].tolist()\n",
    "\n",
    "# Get instances that passed all filtering steps\n",
    "inst_final = list(set(inst_1) & set(inst_2) & set(inst_3))\n",
    "print(len(inst_1))\n",
    "print(len(inst_2))\n",
    "print(len(inst_3))\n",
    "print(len(inst_final))"
   ]
  },
  {
   "cell_type": "code",
   "execution_count": 84,
   "metadata": {},
   "outputs": [
    {
     "name": "stderr",
     "output_type": "stream",
     "text": [
      "/home/ubuntu/anaconda3/envs/usal_echo/lib/python3.6/site-packages/ipykernel_launcher.py:8: SettingWithCopyWarning: \n",
      "A value is trying to be set on a copy of a slice from a DataFrame.\n",
      "Try using .loc[row_indexer,col_indexer] = value instead\n",
      "\n",
      "See the caveats in the documentation: http://pandas.pydata.org/pandas-docs/stable/user_guide/indexing.html#returning-a-view-versus-a-copy\n",
      "  \n"
     ]
    },
    {
     "data": {
      "text/html": [
       "<div>\n",
       "<style scoped>\n",
       "    .dataframe tbody tr th:only-of-type {\n",
       "        vertical-align: middle;\n",
       "    }\n",
       "\n",
       "    .dataframe tbody tr th {\n",
       "        vertical-align: top;\n",
       "    }\n",
       "\n",
       "    .dataframe thead th {\n",
       "        text-align: right;\n",
       "    }\n",
       "</style>\n",
       "<table border=\"1\" class=\"dataframe\">\n",
       "  <thead>\n",
       "    <tr style=\"text-align: right;\">\n",
       "      <th></th>\n",
       "      <th>sopinstanceuid</th>\n",
       "      <th>filename</th>\n",
       "      <th>instanceidk</th>\n",
       "      <th>view</th>\n",
       "      <th>studyidk</th>\n",
       "    </tr>\n",
       "  </thead>\n",
       "  <tbody>\n",
       "    <tr>\n",
       "      <th>1</th>\n",
       "      <td>1.2.840.113663.1500.1.365900332.3.4.20120703.9...</td>\n",
       "      <td>8Z0BWX0M</td>\n",
       "      <td>696109</td>\n",
       "      <td>plax</td>\n",
       "      <td>39531</td>\n",
       "    </tr>\n",
       "    <tr>\n",
       "      <th>2</th>\n",
       "      <td>1.2.840.113663.1500.1.365900332.3.7.20120703.9...</td>\n",
       "      <td>8Z0BWZGH</td>\n",
       "      <td>696112</td>\n",
       "      <td>a4c</td>\n",
       "      <td>39531</td>\n",
       "    </tr>\n",
       "    <tr>\n",
       "      <th>3</th>\n",
       "      <td>1.2.840.113663.1500.1.365900332.3.1.20120703.9...</td>\n",
       "      <td>8Z0BXKCB</td>\n",
       "      <td>696140</td>\n",
       "      <td>plax</td>\n",
       "      <td>39533</td>\n",
       "    </tr>\n",
       "    <tr>\n",
       "      <th>4</th>\n",
       "      <td>1.2.840.113663.1500.1.365900332.3.14.20120703....</td>\n",
       "      <td>8Z0BXYUW</td>\n",
       "      <td>696157</td>\n",
       "      <td>plax</td>\n",
       "      <td>39533</td>\n",
       "    </tr>\n",
       "    <tr>\n",
       "      <th>6</th>\n",
       "      <td>1.2.840.113663.1500.1.365900332.3.8.20120704.9...</td>\n",
       "      <td>8ZGVB44R</td>\n",
       "      <td>696422</td>\n",
       "      <td>plax</td>\n",
       "      <td>39552</td>\n",
       "    </tr>\n",
       "  </tbody>\n",
       "</table>\n",
       "</div>"
      ],
      "text/plain": [
       "                                      sopinstanceuid  filename  instanceidk  \\\n",
       "1  1.2.840.113663.1500.1.365900332.3.4.20120703.9...  8Z0BWX0M       696109   \n",
       "2  1.2.840.113663.1500.1.365900332.3.7.20120703.9...  8Z0BWZGH       696112   \n",
       "3  1.2.840.113663.1500.1.365900332.3.1.20120703.9...  8Z0BXKCB       696140   \n",
       "4  1.2.840.113663.1500.1.365900332.3.14.20120703....  8Z0BXYUW       696157   \n",
       "6  1.2.840.113663.1500.1.365900332.3.8.20120704.9...  8ZGVB44R       696422   \n",
       "\n",
       "   view  studyidk  \n",
       "1  plax     39531  \n",
       "2   a4c     39531  \n",
       "3  plax     39533  \n",
       "4  plax     39533  \n",
       "6  plax     39552  "
      ]
     },
     "execution_count": 84,
     "metadata": {},
     "output_type": "execute_result"
    }
   ],
   "source": [
    "# Now we have df_tags, which is all instances filtered by tag values\n",
    "# Use this to keep desired rows in original instances_w_labels table\n",
    "# good_instances = list(set(df_tags['instanceidk'].tolist()))\n",
    "# print('Number of good instances: ' + str(len(good_instances)))\n",
    "\n",
    "df = df_inst_all\n",
    "df = df[df['instanceidk'].isin(inst_final)]\n",
    "df['filename'] = df['filename'].str.lstrip('a_')\n",
    "\n",
    "df.head()"
   ]
  },
  {
   "cell_type": "code",
   "execution_count": null,
   "metadata": {},
   "outputs": [],
   "source": [
    "#io_views.save_to_db(df, 'instances_w_labels')\n",
    "# ^^^ Note this overwrites original instances_w_labels\n",
    "# When done with nb, add this script at end of filter_views.py"
   ]
  }
 ],
 "metadata": {
  "kernelspec": {
   "display_name": "Python 3",
   "language": "python",
   "name": "python3"
  },
  "language_info": {
   "codemirror_mode": {
    "name": "ipython",
    "version": 3
   },
   "file_extension": ".py",
   "mimetype": "text/x-python",
   "name": "python",
   "nbconvert_exporter": "python",
   "pygments_lexer": "ipython3",
   "version": "3.6.5"
  }
 },
 "nbformat": 4,
 "nbformat_minor": 2
}
