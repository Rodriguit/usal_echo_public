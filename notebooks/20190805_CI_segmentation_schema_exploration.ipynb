{
 "cells": [
  {
   "cell_type": "markdown",
   "metadata": {},
   "source": [
    "# Exploring segmentation schema"
   ]
  },
  {
   "cell_type": "code",
   "execution_count": 1,
   "metadata": {},
   "outputs": [
    {
     "name": "stdout",
     "output_type": "stream",
     "text": [
      "/home/ubuntu/courtney/usal_echo\n"
     ]
    }
   ],
   "source": [
    "import sys\n",
    "import os\n",
    "project_dir = os.path.dirname(os.getcwd())\n",
    "sys.path.append(project_dir) #notebooks can't look into source unless you append the parent project directory to the path\n",
    "print(project_dir)"
   ]
  },
  {
   "cell_type": "code",
   "execution_count": 2,
   "metadata": {},
   "outputs": [],
   "source": [
    "import sqlalchemy\n",
    "import numpy as np\n",
    "import pandas as pd"
   ]
  },
  {
   "cell_type": "code",
   "execution_count": 3,
   "metadata": {},
   "outputs": [
    {
     "name": "stderr",
     "output_type": "stream",
     "text": [
      "/home/ubuntu/anaconda3/envs/usal_echo/lib/python3.6/site-packages/psycopg2/__init__.py:144: UserWarning: The psycopg2 wheel package will be renamed from release 2.8; in order to keep installing from binary please use \"pip install psycopg2-binary\" instead. For details see: <http://initd.org/psycopg/docs/install.html#binary-install-from-pypi>.\n",
      "  \"\"\")\n"
     ]
    }
   ],
   "source": [
    "sys.path.append('../src')\n",
    "from d00_utils.db_utils import *"
   ]
  },
  {
   "cell_type": "code",
   "execution_count": 4,
   "metadata": {},
   "outputs": [],
   "source": [
    "io_views = dbReadWriteViews()\n",
    "io_segmentation = dbReadWriteSegmentation()"
   ]
  },
  {
   "cell_type": "code",
   "execution_count": null,
   "metadata": {},
   "outputs": [],
   "source": [
    "io_views.list_tables()"
   ]
  },
  {
   "cell_type": "code",
   "execution_count": null,
   "metadata": {},
   "outputs": [],
   "source": [
    "io_segmentation.list_tables()"
   ]
  },
  {
   "cell_type": "code",
   "execution_count": null,
   "metadata": {},
   "outputs": [],
   "source": [
    "instances_unique_master_list = io_views.get_table('instances_unique_master_list')\n",
    "print(instances_unique_master_list.tail())"
   ]
  },
  {
   "cell_type": "code",
   "execution_count": null,
   "metadata": {},
   "outputs": [],
   "source": [
    "instances_unique_master_list.dtypes"
   ]
  },
  {
   "cell_type": "code",
   "execution_count": null,
   "metadata": {},
   "outputs": [],
   "source": [
    "instance_id_dict = instances_unique_master_list.set_index('instancefilename')['instanceidk'].to_dict()\n",
    "study_id_dict = instances_unique_master_list.set_index('instancefilename')['studyidk'].to_dict()"
   ]
  },
  {
   "cell_type": "code",
   "execution_count": null,
   "metadata": {},
   "outputs": [],
   "source": [
    "key_filename='a_63712_45TXWHPP.dcm'\n",
    "\n",
    "#in one cell\n",
    "instances_unique_master_list = io_views.get_table('instances_unique_master_list')\n",
    "instancefilename = key_filename.split('_')[2].split('.')[0] #split from 'a_63712_45TXWHPP.dcm' to '45TXWHPP'\n",
    "#below cleans the filename field\n",
    "instances_unique_master_list['instancefilename'] = instances_unique_master_list['instancefilename'].apply(lambda x: str(x).strip())\n",
    "#below filters to just the record of interest\n",
    "df = instances_unique_master_list.loc[(instances_unique_master_list['instancefilename']==instancefilename) & (instances_unique_master_list['studyidk']==studyidk)]\n",
    "df = df.reset_index()\n",
    "instance id = df.at[0, 'instanceidk']\n",
    "study id = df.at[0, 'studyidk']\n",
    "\n",
    "\n"
   ]
  },
  {
   "cell_type": "code",
   "execution_count": null,
   "metadata": {},
   "outputs": [],
   "source": [
    "key_filename='a_63712_45TXWHPP.dcm'\n",
    "print(key_filename.split('_')[2].split('.')[0])\n",
    "instancefilename = key_filename.split('_')[2].split('.')[0]\n",
    "new_key = instancefilename\n",
    "print(type(instancefilename))\n",
    "print(instancefilename)\n",
    "studyidk = int(key_filename.split('_')[1])\n",
    "print(type(studyidk))\n",
    "print(studyidk)\n",
    "\n",
    "instances_unique_master_list['instancefilename'] = instances_unique_master_list['instancefilename'].apply(lambda x: str(x).strip())"
   ]
  },
  {
   "cell_type": "code",
   "execution_count": null,
   "metadata": {},
   "outputs": [],
   "source": [
    "df = instances_unique_master_list.loc[(instances_unique_master_list['instancefilename']==instancefilename) & (instances_unique_master_list['studyidk']==studyidk)]\n"
   ]
  },
  {
   "cell_type": "code",
   "execution_count": null,
   "metadata": {},
   "outputs": [],
   "source": [
    "df = df.reset_index()"
   ]
  },
  {
   "cell_type": "code",
   "execution_count": null,
   "metadata": {},
   "outputs": [],
   "source": [
    "print(df)"
   ]
  },
  {
   "cell_type": "code",
   "execution_count": null,
   "metadata": {},
   "outputs": [],
   "source": [
    "#print(df)\n",
    "print('instance id: {}'.format(df.at[0, 'instanceidk']))\n",
    "print('study id: {}'.format(df.at[0, 'studyidk']))\n",
    "\n",
    "\n",
    "#print(df[['instanceidk']])\n",
    "#print(df[['studyidk']])\n",
    "\n",
    "#studyid = instance_id_dict.get(new_key)\n",
    "#print(studyid)\n",
    "#instanceid = study_id_dict.get(key_filename)\n",
    "#print(instanceid)"
   ]
  },
  {
   "cell_type": "code",
   "execution_count": null,
   "metadata": {},
   "outputs": [],
   "source": [
    "ground_truths = io_segmentation.get_table('ground_truths')\n",
    "ground_truths"
   ]
  },
  {
   "cell_type": "markdown",
   "metadata": {},
   "source": [
    "This table is created during the pre-process step; by a function based on the code developed by Yoni.\n",
    "\n",
    "The fields are:\n",
    "Ground_truth_id: automatically filled out serial number?\n",
    "Indentifying "
   ]
  },
  {
   "cell_type": "code",
   "execution_count": 5,
   "metadata": {},
   "outputs": [
    {
     "data": {
      "text/html": [
       "<div>\n",
       "<style scoped>\n",
       "    .dataframe tbody tr th:only-of-type {\n",
       "        vertical-align: middle;\n",
       "    }\n",
       "\n",
       "    .dataframe tbody tr th {\n",
       "        vertical-align: top;\n",
       "    }\n",
       "\n",
       "    .dataframe thead th {\n",
       "        text-align: right;\n",
       "    }\n",
       "</style>\n",
       "<table border=\"1\" class=\"dataframe\">\n",
       "  <thead>\n",
       "    <tr style=\"text-align: right;\">\n",
       "      <th></th>\n",
       "      <th>evaluation_id</th>\n",
       "      <th>instance_id</th>\n",
       "      <th>frame</th>\n",
       "      <th>chamber</th>\n",
       "      <th>study_id</th>\n",
       "      <th>score_type</th>\n",
       "      <th>score_value</th>\n",
       "    </tr>\n",
       "  </thead>\n",
       "  <tbody>\n",
       "  </tbody>\n",
       "</table>\n",
       "</div>"
      ],
      "text/plain": [
       "Empty DataFrame\n",
       "Columns: [evaluation_id, instance_id, frame, chamber, study_id, score_type, score_value]\n",
       "Index: []"
      ]
     },
     "execution_count": 5,
     "metadata": {},
     "output_type": "execute_result"
    }
   ],
   "source": [
    "evaluations = io_segmentation.get_table('evaluations')\n",
    "evaluations"
   ]
  },
  {
   "cell_type": "code",
   "execution_count": null,
   "metadata": {},
   "outputs": [],
   "source": [
    "predictions = io_segmentation.get_segmentation_table('predictions')\n",
    "#predictions = io_segmentation.get_numpy_array_from_db('*', 'predictions')"
   ]
  },
  {
   "cell_type": "code",
   "execution_count": null,
   "metadata": {},
   "outputs": [],
   "source": [
    "predictions"
   ]
  },
  {
   "cell_type": "code",
   "execution_count": null,
   "metadata": {},
   "outputs": [],
   "source": [
    "binary_array_to_unpack = predictions.at[2, 'output_np_lv']\n",
    "print(binary_array_to_unpack)                                    \n",
    "frame_for_binary_array = predictions.at[2, 'frame']\n",
    "print(frame_for_binary_array)"
   ]
  },
  {
   "cell_type": "code",
   "execution_count": null,
   "metadata": {},
   "outputs": [],
   "source": [
    "def convert_to_np(x, frame):\n",
    "            return np.reshape(np.frombuffer(x, dtype='Int8'), (frame,384,384))"
   ]
  },
  {
   "cell_type": "code",
   "execution_count": null,
   "metadata": {},
   "outputs": [],
   "source": [
    "array = io_segmentation.convert_to_np(binary_array_to_unpack, frame_for_binary_array)"
   ]
  },
  {
   "cell_type": "code",
   "execution_count": null,
   "metadata": {},
   "outputs": [],
   "source": [
    "array"
   ]
  },
  {
   "cell_type": "code",
   "execution_count": null,
   "metadata": {},
   "outputs": [],
   "source": []
  }
 ],
 "metadata": {
  "kernelspec": {
   "display_name": "Environment (conda_usal_echo)",
   "language": "python",
   "name": "conda_usal_echo"
  },
  "language_info": {
   "codemirror_mode": {
    "name": "ipython",
    "version": 3
   },
   "file_extension": ".py",
   "mimetype": "text/x-python",
   "name": "python",
   "nbconvert_exporter": "python",
   "pygments_lexer": "ipython3",
   "version": "3.6.5"
  }
 },
 "nbformat": 4,
 "nbformat_minor": 2
}
