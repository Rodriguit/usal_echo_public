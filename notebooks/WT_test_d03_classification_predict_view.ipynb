{
 "cells": [
  {
   "cell_type": "markdown",
   "metadata": {},
   "source": [
    "# Noteboook for testing view classification"
   ]
  },
  {
   "cell_type": "code",
   "execution_count": null,
   "metadata": {},
   "outputs": [],
   "source": [
    "import sys\n",
    "import os\n",
    "import pandas as pd\n",
    "\n",
    "projectdir = os.path.dirname(os.getcwd())\n",
    "sys.path.append(os.path.join(projectdir, 'src'))\n"
   ]
  },
  {
   "cell_type": "code",
   "execution_count": null,
   "metadata": {},
   "outputs": [],
   "source": [
    "import random\n",
    "import sys\n",
    "\n",
    "import os\n",
    "import subprocess\n",
    "import time\n",
    "import cv2\n",
    "import pydicom\n",
    "from optparse import OptionParser\n",
    "from shutil import rmtree\n",
    "\n",
    "import tensorflow as tf\n",
    "import numpy as np\n",
    "from scipy.misc import imread\n",
    "\n",
    "from d00_utils.dcm_utils import dcmdir_to_jpgs_for_classification\n"
   ]
  },
  {
   "cell_type": "code",
   "execution_count": null,
   "metadata": {},
   "outputs": [],
   "source": [
    "directory = os.path.expanduser('~/data/01_raw/test')"
   ]
  },
  {
   "cell_type": "code",
   "execution_count": null,
   "metadata": {},
   "outputs": [],
   "source": [
    "imagedict = {}\n",
    "predictions = {}\n",
    "for filename in os.listdir(directory):\n",
    "    if \"jpg\" in filename:\n",
    "        image = imread(directory + filename, flatten=True).astype(\"uint8\")\n",
    "        imagedict[filename] = [image.reshape((224, 224, 1))]\n",
    "\n",
    "tf.reset_default_graph()\n",
    "sess = tf.Session()\n",
    "model = vgg.Network(0.0, 0.0, feature_dim, label_dim, False)\n",
    "sess.run(tf.global_variables_initializer())\n",
    "\n",
    "saver = tf.train.Saver()\n",
    "saver.restore(sess, model_name)\n",
    "\n",
    "for filename in imagedict:\n",
    "    predictions[filename] = np.around(\n",
    "        model.probabilities(sess, imagedict[filename]), decimals=3\n",
    "    )\n",
    "\n",
    "return predictions\n"
   ]
  },
  {
   "cell_type": "code",
   "execution_count": null,
   "metadata": {},
   "outputs": [],
   "source": []
  }
 ],
 "metadata": {
  "kernelspec": {
   "display_name": "Environment (conda_usal_echo)",
   "language": "python",
   "name": "conda_usal_echo"
  },
  "language_info": {
   "codemirror_mode": {
    "name": "ipython",
    "version": 3
   },
   "file_extension": ".py",
   "mimetype": "text/x-python",
   "name": "python",
   "nbconvert_exporter": "python",
   "pygments_lexer": "ipython3",
   "version": "3.6.5"
  }
 },
 "nbformat": 4,
 "nbformat_minor": 2
}
