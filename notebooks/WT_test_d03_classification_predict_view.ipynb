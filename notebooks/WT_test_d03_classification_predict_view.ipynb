{
 "cells": [
  {
   "cell_type": "markdown",
   "metadata": {},
   "source": [
    "# Noteboook for testing view classification"
   ]
  },
  {
   "cell_type": "code",
   "execution_count": 2,
   "metadata": {},
   "outputs": [],
   "source": [
    "import sys\n",
    "import os\n",
    "import pandas as pd\n",
    "\n",
    "projectdir = os.path.dirname(os.getcwd())\n",
    "sys.path.append(os.path.join(projectdir, 'src'))\n"
   ]
  },
  {
   "cell_type": "code",
   "execution_count": 4,
   "metadata": {},
   "outputs": [],
   "source": [
    "import random\n",
    "import sys\n",
    "\n",
    "import os\n",
    "import subprocess\n",
    "import time\n",
    "import cv2\n",
    "import pydicom\n",
    "from optparse import OptionParser\n",
    "from shutil import rmtree\n",
    "\n",
    "import tensorflow as tf\n",
    "import numpy as np\n",
    "from scipy.misc import imread\n",
    "\n",
    "from d00_utils.dcm_utils import dcmdir_to_jpgs_for_classification\n"
   ]
  },
  {
   "cell_type": "code",
   "execution_count": 5,
   "metadata": {},
   "outputs": [
    {
     "ename": "SyntaxError",
     "evalue": "invalid syntax (<ipython-input-5-b1d1d5a8ed7e>, line 10)",
     "output_type": "error",
     "traceback": [
      "\u001b[0;36m  File \u001b[0;32m\"<ipython-input-5-b1d1d5a8ed7e>\"\u001b[0;36m, line \u001b[0;32m10\u001b[0m\n\u001b[0;31m    SELECT COLUMN_NAME, DATA_TYPE\u001b[0m\n\u001b[0m                     ^\u001b[0m\n\u001b[0;31mSyntaxError\u001b[0m\u001b[0;31m:\u001b[0m invalid syntax\n"
     ]
    }
   ],
   "source": [
    "import pandas as pd\n",
    "import os\n",
    "from json import load\n",
    "from sqlalchemy import create_engine\n",
    "from sqlalchemy.schema import CreateSchema\n",
    "from sqlalchemy import inspect\n",
    "import tempfile\n",
    "import gc\n",
    "\n",
    "query = \"SELECT COLUMN_NAME, DATA_TYPE \\\n",
    "            FROM INFORMATION_SCHEMA.COLUMNS \\\n",
    "            WHERE \\\n",
    "            TABLE_NAME = 'meta_lite';\"\"\n"
   ]
  },
  {
   "cell_type": "code",
   "execution_count": null,
   "metadata": {},
   "outputs": [],
   "source": []
  }
 ],
 "metadata": {
  "kernelspec": {
   "display_name": "Environment (conda_usal_echo)",
   "language": "python",
   "name": "conda_usal_echo"
  },
  "language_info": {
   "codemirror_mode": {
    "name": "ipython",
    "version": 3
   },
   "file_extension": ".py",
   "mimetype": "text/x-python",
   "name": "python",
   "nbconvert_exporter": "python",
   "pygments_lexer": "ipython3",
   "version": "3.6.5"
  }
 },
 "nbformat": 4,
 "nbformat_minor": 2
}
