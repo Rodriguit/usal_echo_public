{
 "cells": [
  {
   "cell_type": "markdown",
   "metadata": {},
   "source": [
    "# Noteboook for testing view classification"
   ]
  },
  {
   "cell_type": "code",
   "execution_count": null,
   "metadata": {},
   "outputs": [],
   "source": [
    "import sys\n",
    "import os\n",
    "import pandas as pd\n",
    "\n",
    "projectdir = os.path.dirname(os.getcwd())\n",
    "sys.path.append(os.path.join(projectdir, 'src'))\n",
    "\n",
    "from d02_intermediate.download_dcm import s3_download_decomp_dcm\n",
    "from d02_intermediate.dcm_utils import dcmdir_to_jpgs_for_classification\n",
    "from d03_classification.predict_view import run_classify"
   ]
  },
  {
   "cell_type": "code",
   "execution_count": null,
   "metadata": {},
   "outputs": [],
   "source": [
    "dcm_dir_suffix = s3_download_decomp_dcm(0.001, 0.5, 'instances_w_labels')"
   ]
  },
  {
   "cell_type": "code",
   "execution_count": null,
   "metadata": {},
   "outputs": [],
   "source": [
    "dcm_dir = os.path.join(os.path.expanduser('~/data/01_raw/'), dcm_dir_suffix)\n",
    "img_dir = os.path.join(os.path.expanduser('~/data/02_intermediate/'), dcm_dir_suffix)"
   ]
  },
  {
   "cell_type": "code",
   "execution_count": null,
   "metadata": {},
   "outputs": [],
   "source": [
    "dcmdir_to_jpgs_for_classification(dcm_dir, img_dir)"
   ]
  },
  {
   "cell_type": "code",
   "execution_count": null,
   "metadata": {},
   "outputs": [],
   "source": [
    "model_path = '/home/ubuntu/models/view_23_e5_class_11-Mar-2018'\n",
    "predictions = run_classify(img_dir, 1, model_path)"
   ]
  },
  {
   "cell_type": "code",
   "execution_count": null,
   "metadata": {},
   "outputs": [],
   "source": [
    "pred_columns = ['output_' + x for x in view_classes]\n",
    "df = pd.DataFrame.from_dict(predictions, columns=pred_columns, \n",
    "                            orient='index').rename_axis('file_name').reset_index()"
   ]
  },
  {
   "cell_type": "code",
   "execution_count": null,
   "metadata": {},
   "outputs": [],
   "source": [
    "df['file_name'] = df['file_name'].apply(lambda x: x.split('.')[0])\n",
    "df['study_id'] = df['file_name'].apply(lambda x: x.split('_')[1])\n",
    "df['model_name'] = model_name\n",
    "df['date_run'] = datetime.datetime.now()\n",
    "cols = list(df.columns)\n",
    "cols = cols[-2:] + cols[0:-2]\n",
    "df = df[cols]"
   ]
  },
  {
   "cell_type": "code",
   "execution_count": null,
   "metadata": {},
   "outputs": [],
   "source": [
    "df.tail()"
   ]
  },
  {
   "cell_type": "code",
   "execution_count": null,
   "metadata": {},
   "outputs": [],
   "source": [
    "view_classes = [\n",
    "    \"plax_far\",\n",
    "    \"plax_plax\",\n",
    "    \"plax_laz\",\n",
    "    \"psax_az\",\n",
    "    \"psax_mv\",\n",
    "    \"psax_pap\",\n",
    "    \"a2c_lvocc_s\",\n",
    "    \"a2c_laocc\",\n",
    "    \"a2c\",\n",
    "    \"a3c_lvocc_s\",\n",
    "    \"a3c_laocc\",\n",
    "    \"a3c\",\n",
    "    \"a4c_lvocc_s\",\n",
    "    \"a4c_laocc\",\n",
    "    \"a4c\",\n",
    "    \"a5c\",\n",
    "    \"other\",\n",
    "    \"rvinf\",\n",
    "    \"psax_avz\",\n",
    "    \"suprasternal\",\n",
    "    \"subcostal\",\n",
    "    \"plax_lac\",\n",
    "    \"psax_apex\",\n",
    "]"
   ]
  },
  {
   "cell_type": "code",
   "execution_count": null,
   "metadata": {},
   "outputs": [],
   "source": [
    "import datetime\n",
    "datetime.datetime.now()"
   ]
  },
  {
   "cell_type": "code",
   "execution_count": null,
   "metadata": {},
   "outputs": [],
   "source": []
  }
 ],
 "metadata": {
  "kernelspec": {
   "display_name": "Environment (conda_usal_echo)",
   "language": "python",
   "name": "conda_usal_echo"
  },
  "language_info": {
   "codemirror_mode": {
    "name": "ipython",
    "version": 3
   },
   "file_extension": ".py",
   "mimetype": "text/x-python",
   "name": "python",
   "nbconvert_exporter": "python",
   "pygments_lexer": "ipython3",
   "version": "3.6.5"
  }
 },
 "nbformat": 4,
 "nbformat_minor": 2
}
