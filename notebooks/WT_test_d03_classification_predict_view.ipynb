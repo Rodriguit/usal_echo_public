{
 "cells": [
  {
   "cell_type": "markdown",
   "metadata": {},
   "source": [
    "# Noteboook for testing view classification"
   ]
  },
  {
   "cell_type": "code",
   "execution_count": null,
   "metadata": {},
   "outputs": [],
   "source": [
    "import sys\n",
    "import os\n",
    "import pandas as pd\n",
    "import datetime\n",
    "\n",
    "projectdir = os.path.dirname(os.getcwd())\n",
    "sys.path.append(os.path.join(projectdir, 'src'))\n",
    "\n",
    "from d00_utils.db_utils import dbReadWriteClassification\n",
    "from d02_intermediate.download_dcm import s3_download_decomp_dcm\n",
    "from d02_intermediate.dcm_utils import dcmdir_to_jpgs_for_classification\n",
    "import d03_classification.predict_view as predict_view"
   ]
  },
  {
   "cell_type": "code",
   "execution_count": null,
   "metadata": {},
   "outputs": [],
   "source": [
    "dcm_dir_suffix = s3_download_decomp_dcm(0.001, 0.5, 'instances_w_labels')"
   ]
  },
  {
   "cell_type": "code",
   "execution_count": null,
   "metadata": {},
   "outputs": [],
   "source": [
    "dcm_dir = os.path.join(os.path.expanduser('~/data/01_raw/'), dcm_dir_suffix)\n",
    "img_dir = os.path.join(os.path.expanduser('~/data/02_intermediate/'), dcm_dir_suffix)"
   ]
  },
  {
   "cell_type": "code",
   "execution_count": null,
   "metadata": {},
   "outputs": [],
   "source": [
    "dcmdir_to_jpgs_for_classification(dcm_dir, img_dir)"
   ]
  },
  {
   "cell_type": "code",
   "execution_count": null,
   "metadata": {},
   "outputs": [],
   "source": [
    "model_path = '/home/ubuntu/models/view_23_e5_class_11-Mar-2018'\n",
    "feature_dim = 1"
   ]
  },
  {
   "cell_type": "code",
   "execution_count": null,
   "metadata": {},
   "outputs": [],
   "source": [
    "predictions = predict_view.run_classify(img_dir, 1, model_path)"
   ]
  },
  {
   "cell_type": "code",
   "execution_count": null,
   "metadata": {},
   "outputs": [],
   "source": [
    "label_dim = len(predict_view.view_classes)\n",
    "model_name = os.path.basename(model_path)\n",
    "img_dir_basename = os.path.basename(img_dir)\n",
    "\n",
    "predictions = predict_view.classify(img_dir, feature_dim, label_dim, model_path)\n",
    "\n",
    "df_columns = [\"output_\" + x for x in predict_view.view_classes]\n",
    "df = (\n",
    "    pd.DataFrame.from_dict(predictions, columns=df_columns, orient=\"index\")\n",
    "    .rename_axis(\"file_name\")\n",
    "    .reset_index()\n",
    ")\n",
    "df[\"file_name\"] = df[\"file_name\"].apply(lambda x: x.split(\".\")[0])\n",
    "df[\"study_id\"] = df[\"file_name\"].apply(lambda x: x.split(\"_\")[1])\n",
    "df[\"model_name\"] = model_name\n",
    "df[\"date_run\"] = datetime.datetime.now()\n",
    "cols = [\"study_id\", \"file_name\", \"model_name\", \"date_run\"] + df_columns\n",
    "df = df[cols]"
   ]
  },
  {
   "cell_type": "code",
   "execution_count": null,
   "metadata": {},
   "outputs": [],
   "source": [
    "df.tail()"
   ]
  },
  {
   "cell_type": "code",
   "execution_count": null,
   "metadata": {},
   "outputs": [],
   "source": [
    "io_classification = dbReadWriteClassification()"
   ]
  },
  {
   "cell_type": "code",
   "execution_count": null,
   "metadata": {},
   "outputs": [],
   "source": [
    "io_classification.list_tables()"
   ]
  },
  {
   "cell_type": "code",
   "execution_count": null,
   "metadata": {},
   "outputs": [],
   "source": [
    "io_classification.get_table('predictions')"
   ]
  },
  {
   "cell_type": "code",
   "execution_count": null,
   "metadata": {},
   "outputs": [],
   "source": [
    "io_classification.save_to_db(df[:0], \"predictions\", if_exists=\"replace\")"
   ]
  },
  {
   "cell_type": "code",
   "execution_count": null,
   "metadata": {},
   "outputs": [],
   "source": []
  }
 ],
 "metadata": {
  "kernelspec": {
   "display_name": "Environment (conda_usal_echo)",
   "language": "python",
   "name": "conda_usal_echo"
  },
  "language_info": {
   "codemirror_mode": {
    "name": "ipython",
    "version": 3
   },
   "file_extension": ".py",
   "mimetype": "text/x-python",
   "name": "python",
   "nbconvert_exporter": "python",
   "pygments_lexer": "ipython3",
   "version": "3.6.5"
  }
 },
 "nbformat": 4,
 "nbformat_minor": 2
}
