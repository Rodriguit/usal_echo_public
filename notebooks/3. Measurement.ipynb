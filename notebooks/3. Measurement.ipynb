{
 "cells": [
  {
   "cell_type": "markdown",
   "metadata": {},
   "source": [
    "# Measurement"
   ]
  },
  {
   "cell_type": "code",
   "execution_count": null,
   "metadata": {},
   "outputs": [],
   "source": [
    "%reload_ext autoreload\n",
    "%autoreload 2\n",
    "%matplotlib inline"
   ]
  },
  {
   "cell_type": "code",
   "execution_count": null,
   "metadata": {},
   "outputs": [],
   "source": [
    "from usal_echo.d05_measurement.retrieve_meas import retrieve_meas\n",
    "from usal_echo.d05_measurement.calculate_meas import calculate_meas\n",
    "from usal_echo.d05_measurement.evaluate_meas import evaluate_meas"
   ]
  },
  {
   "cell_type": "code",
   "execution_count": null,
   "metadata": {},
   "outputs": [],
   "source": [
    "with open(\"./conf/local/path_parameters.yml\") as f:\n",
    "    paths = yaml.safe_load(f)\n",
    "\n",
    "bucket = paths[\"bucket\"]\n",
    "dcm_dir = os.path.expanduser(paths[\"dcm_dir\"])\n",
    "img_dir = os.path.expanduser(paths[\"img_dir\"])\n",
    "model_dir = os.path.expanduser(paths[\"model_dir\"])\n",
    "classification_model = paths[\"classification_model\"]"
   ]
  },
  {
   "cell_type": "markdown",
   "metadata": {},
   "source": [
    "<font color='red'>Update the name of the image/dicom directory.</font> "
   ]
  },
  {
   "cell_type": "code",
   "execution_count": null,
   "metadata": {},
   "outputs": [],
   "source": [
    "dir_name = \"specify name of directory with images\""
   ]
  },
  {
   "cell_type": "code",
   "execution_count": null,
   "metadata": {},
   "outputs": [],
   "source": [
    "retrieve_meas()\n",
    "calculate_meas(dir_name)"
   ]
  },
  {
   "cell_type": "code",
   "execution_count": null,
   "metadata": {},
   "outputs": [],
   "source": [
    "evaluate_meas(dir_name)"
   ]
  }
 ],
 "metadata": {
  "kernelspec": {
   "display_name": "Environment (conda_usal_echo)",
   "language": "python",
   "name": "conda_usal_echo"
  },
  "language_info": {
   "codemirror_mode": {
    "name": "ipython",
    "version": 3
   },
   "file_extension": ".py",
   "mimetype": "text/x-python",
   "name": "python",
   "nbconvert_exporter": "python",
   "pygments_lexer": "ipython3",
   "version": "3.6.5"
  }
 },
 "nbformat": 4,
 "nbformat_minor": 2
}
