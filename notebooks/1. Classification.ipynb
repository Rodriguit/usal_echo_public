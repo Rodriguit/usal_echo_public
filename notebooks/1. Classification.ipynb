{
 "cells": [
  {
   "cell_type": "markdown",
   "metadata": {},
   "source": [
    "# Classification"
   ]
  },
  {
   "cell_type": "code",
   "execution_count": null,
   "metadata": {},
   "outputs": [],
   "source": [
    "%reload_ext autoreload\n",
    "%autoreload 2\n",
    "%matplotlib inline"
   ]
  },
  {
   "cell_type": "code",
   "execution_count": null,
   "metadata": {},
   "outputs": [],
   "source": [
    "from usal_echo.d03_classification.predict_views import run_classify, agg_probabilities, predict_views\n",
    "from usal_echo.d03_classification.evaluate_views import evaluate_views"
   ]
  },
  {
   "cell_type": "code",
   "execution_count": null,
   "metadata": {},
   "outputs": [],
   "source": [
    "with open(\"./conf/local/path_parameters.yml\") as f:\n",
    "    paths = yaml.safe_load(f)\n",
    "\n",
    "dcm_dir = os.path.expanduser(paths[\"dcm_dir\"])\n",
    "img_dir = os.path.expanduser(paths[\"img_dir\"])\n",
    "model_dir = os.path.expanduser(paths[\"model_dir\"])\n",
    "classification_model = paths[\"classification_model\"]"
   ]
  },
  {
   "cell_type": "markdown",
   "metadata": {},
   "source": [
    "<font color='red'>Update the name of the image/dicom directory.</font> "
   ]
  },
  {
   "cell_type": "code",
   "execution_count": null,
   "metadata": {},
   "outputs": [],
   "source": [
    "dir_name = \"specify name of directory with images\""
   ]
  },
  {
   "cell_type": "code",
   "execution_count": null,
   "metadata": {},
   "outputs": [],
   "source": [
    "img_dir_path = os.path.join(img_dir, dir_name)\n",
    "dcmdir_to_jpgs_for_classification(dcm_dir, img_dir_path)"
   ]
  },
  {
   "cell_type": "code",
   "execution_count": null,
   "metadata": {},
   "outputs": [],
   "source": [
    "run_classify(img_dir_path, os.path.join(model_dir, classification_model))\n",
    "agg_probabilities()\n",
    "predict_views()"
   ]
  },
  {
   "cell_type": "code",
   "execution_count": null,
   "metadata": {},
   "outputs": [],
   "source": [
    "evaluate_views(img_dir_path, classification_model)"
   ]
  }
 ],
 "metadata": {
  "kernelspec": {
   "display_name": "Environment (conda_usal_echo)",
   "language": "python",
   "name": "conda_usal_echo"
  },
  "language_info": {
   "codemirror_mode": {
    "name": "ipython",
    "version": 3
   },
   "file_extension": ".py",
   "mimetype": "text/x-python",
   "name": "python",
   "nbconvert_exporter": "python",
   "pygments_lexer": "ipython3",
   "version": "3.6.5"
  }
 },
 "nbformat": 4,
 "nbformat_minor": 2
}
