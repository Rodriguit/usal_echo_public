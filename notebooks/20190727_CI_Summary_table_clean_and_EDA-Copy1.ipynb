{
 "cells": [
  {
   "cell_type": "markdown",
   "metadata": {},
   "source": [
    "# Summary Table & Finding Codes EDA"
   ]
  },
  {
   "cell_type": "markdown",
   "metadata": {},
   "source": [
    "## Postgres Connections and Functions"
   ]
  },
  {
   "cell_type": "code",
   "execution_count": 1,
   "metadata": {},
   "outputs": [],
   "source": [
    "import sqlalchemy\n",
    "import numpy as np\n",
    "import pandas as pd\n",
    "import psycopg2\n",
    "import seaborn as sns\n",
    "import yaml\n",
    "\n",
    "import matplotlib.pyplot as plt\n",
    "%matplotlib inline"
   ]
  },
  {
   "cell_type": "code",
   "execution_count": 2,
   "metadata": {},
   "outputs": [],
   "source": [
    "#Read in config file\n",
    "with open(\"../conf/local/db.yaml\") as f:\n",
    "    conf=yaml.safe_load(f)"
   ]
  },
  {
   "cell_type": "code",
   "execution_count": 3,
   "metadata": {},
   "outputs": [],
   "source": [
    "# set up sqlalchemy engine\n",
    "host = conf['host']\n",
    "DB = conf['DB']\n",
    "user = conf['user']\n",
    "pw = conf['pw']\n",
    "\n",
    "connection_string = \"postgresql://{}:{}@{}/{}\".format(user, pw, host, DB)\n",
    "conn = sqlalchemy.create_engine(connection_string)"
   ]
  },
  {
   "cell_type": "code",
   "execution_count": 4,
   "metadata": {},
   "outputs": [
    {
     "data": {
      "text/html": [
       "<div>\n",
       "<style scoped>\n",
       "    .dataframe tbody tr th:only-of-type {\n",
       "        vertical-align: middle;\n",
       "    }\n",
       "\n",
       "    .dataframe tbody tr th {\n",
       "        vertical-align: top;\n",
       "    }\n",
       "\n",
       "    .dataframe thead th {\n",
       "        text-align: right;\n",
       "    }\n",
       "</style>\n",
       "<table border=\"1\" class=\"dataframe\">\n",
       "  <thead>\n",
       "    <tr style=\"text-align: right;\">\n",
       "      <th></th>\n",
       "      <th>row_id</th>\n",
       "      <th>studyidk</th>\n",
       "      <th>age</th>\n",
       "      <th>gender</th>\n",
       "      <th>patientweight</th>\n",
       "      <th>patientheight</th>\n",
       "      <th>findingcode</th>\n",
       "      <th>findingcodetext</th>\n",
       "      <th>conclusion</th>\n",
       "      <th>reasonforstudy</th>\n",
       "      <th>studylocation</th>\n",
       "      <th>modality</th>\n",
       "      <th>equipment</th>\n",
       "    </tr>\n",
       "  </thead>\n",
       "  <tbody>\n",
       "    <tr>\n",
       "      <th>0</th>\n",
       "      <td>1</td>\n",
       "      <td>118640</td>\n",
       "      <td>77</td>\n",
       "      <td>M</td>\n",
       "      <td>77</td>\n",
       "      <td>162</td>\n",
       "      <td>LV-0062, LV-0067, LV-0078, LV-0088, RV-0028, R...</td>\n",
       "      <td>Ventrículo izquierdo de dimensiones normales. ...</td>\n",
       "      <td>RS. Buena calidad. ....- VI de tamańo y FEVI n...</td>\n",
       "      <td>SVAo. BAV 2ş</td>\n",
       "      <td></td>\n",
       "      <td>US</td>\n",
       "      <td>EPIQ7-1</td>\n",
       "    </tr>\n",
       "    <tr>\n",
       "      <th>1</th>\n",
       "      <td>2</td>\n",
       "      <td>115777</td>\n",
       "      <td>82</td>\n",
       "      <td>F</td>\n",
       "      <td>45</td>\n",
       "      <td>157</td>\n",
       "      <td>LV-0063, LV-0069, LV-0078, LV-0086, LV-0087, L...</td>\n",
       "      <td>Cavidad del ventrículo izquierdo reducida. Com...</td>\n",
       "      <td>Estudio de buena calidad. Realizado en RS a 70...</td>\n",
       "      <td>Angina inestable</td>\n",
       "      <td></td>\n",
       "      <td>US</td>\n",
       "      <td>ECOEPIQ2</td>\n",
       "    </tr>\n",
       "    <tr>\n",
       "      <th>2</th>\n",
       "      <td>3</td>\n",
       "      <td>49414</td>\n",
       "      <td>67</td>\n",
       "      <td>M</td>\n",
       "      <td>69</td>\n",
       "      <td>168</td>\n",
       "      <td>LV-0077, MV-0108, AV-0087</td>\n",
       "      <td>La fracción de eyección del ventrículo izquier...</td>\n",
       "      <td>Seguimiento de P. con C. valvular e Isquemica....</td>\n",
       "      <td>Seguimiento de P. con C. valvular e Isquemica</td>\n",
       "      <td></td>\n",
       "      <td>SR, US</td>\n",
       "      <td>ECOIE33</td>\n",
       "    </tr>\n",
       "    <tr>\n",
       "      <th>3</th>\n",
       "      <td>4</td>\n",
       "      <td>79460</td>\n",
       "      <td>70</td>\n",
       "      <td>M</td>\n",
       "      <td>68</td>\n",
       "      <td>168</td>\n",
       "      <td>LV-0078, LV-0145, MV-0056, MV-0099, MV-0108, T...</td>\n",
       "      <td>La función sistólica ventricular izquierda es ...</td>\n",
       "      <td>Seguimiento de P.  con C. isquemica cronica  (...</td>\n",
       "      <td>Seguimiento de P.  con C. isquemica cronica  +...</td>\n",
       "      <td></td>\n",
       "      <td>SR, US</td>\n",
       "      <td>AFFINITI_1</td>\n",
       "    </tr>\n",
       "    <tr>\n",
       "      <th>4</th>\n",
       "      <td>5</td>\n",
       "      <td>118806</td>\n",
       "      <td>72</td>\n",
       "      <td>M</td>\n",
       "      <td>63</td>\n",
       "      <td>167</td>\n",
       "      <td>LV-0062, LV-0067, RV-0028, RV-0033, RV-0036, L...</td>\n",
       "      <td>Ventrículo izquierdo de dimensiones normales. ...</td>\n",
       "      <td>Estudio realizado en FA  80-90 . Mala ventana ...</td>\n",
       "      <td></td>\n",
       "      <td></td>\n",
       "      <td>SR, US</td>\n",
       "      <td>AFFINITI_2</td>\n",
       "    </tr>\n",
       "  </tbody>\n",
       "</table>\n",
       "</div>"
      ],
      "text/plain": [
       "  row_id studyidk age gender patientweight patientheight  \\\n",
       "0      1   118640  77      M            77           162   \n",
       "1      2   115777  82      F            45           157   \n",
       "2      3    49414  67      M            69           168   \n",
       "3      4    79460  70      M            68           168   \n",
       "4      5   118806  72      M            63           167   \n",
       "\n",
       "                                         findingcode  \\\n",
       "0  LV-0062, LV-0067, LV-0078, LV-0088, RV-0028, R...   \n",
       "1  LV-0063, LV-0069, LV-0078, LV-0086, LV-0087, L...   \n",
       "2                          LV-0077, MV-0108, AV-0087   \n",
       "3  LV-0078, LV-0145, MV-0056, MV-0099, MV-0108, T...   \n",
       "4  LV-0062, LV-0067, RV-0028, RV-0033, RV-0036, L...   \n",
       "\n",
       "                                     findingcodetext  \\\n",
       "0  Ventrículo izquierdo de dimensiones normales. ...   \n",
       "1  Cavidad del ventrículo izquierdo reducida. Com...   \n",
       "2  La fracción de eyección del ventrículo izquier...   \n",
       "3  La función sistólica ventricular izquierda es ...   \n",
       "4  Ventrículo izquierdo de dimensiones normales. ...   \n",
       "\n",
       "                                          conclusion  \\\n",
       "0  RS. Buena calidad. ....- VI de tamańo y FEVI n...   \n",
       "1  Estudio de buena calidad. Realizado en RS a 70...   \n",
       "2  Seguimiento de P. con C. valvular e Isquemica....   \n",
       "3  Seguimiento de P.  con C. isquemica cronica  (...   \n",
       "4  Estudio realizado en FA  80-90 . Mala ventana ...   \n",
       "\n",
       "                                      reasonforstudy studylocation modality  \\\n",
       "0                                       SVAo. BAV 2ş                     US   \n",
       "1                                   Angina inestable                     US   \n",
       "2      Seguimiento de P. con C. valvular e Isquemica                 SR, US   \n",
       "3  Seguimiento de P.  con C. isquemica cronica  +...                 SR, US   \n",
       "4                                                                    SR, US   \n",
       "\n",
       "    equipment  \n",
       "0     EPIQ7-1  \n",
       "1    ECOEPIQ2  \n",
       "2     ECOIE33  \n",
       "3  AFFINITI_1  \n",
       "4  AFFINITI_2  "
      ]
     },
     "execution_count": 4,
     "metadata": {},
     "output_type": "execute_result"
    }
   ],
   "source": [
    "# Get Summary Datatable\n",
    "query = \"\"\"\n",
    "select * \n",
    "from DM_Spain_VIEW_study_summary;\n",
    "\"\"\"\n",
    "\n",
    "sum_table = pd.read_sql(query, conn)\n",
    "sum_table.head()"
   ]
  },
  {
   "cell_type": "markdown",
   "metadata": {},
   "source": [
    "## Table Cleanup"
   ]
  },
  {
   "cell_type": "code",
   "execution_count": 5,
   "metadata": {},
   "outputs": [],
   "source": [
    "sum_table_clean = sum_table.copy()"
   ]
  },
  {
   "cell_type": "markdown",
   "metadata": {},
   "source": [
    "## Number of records in the database"
   ]
  },
  {
   "cell_type": "code",
   "execution_count": 6,
   "metadata": {},
   "outputs": [
    {
     "name": "stdout",
     "output_type": "stream",
     "text": [
      "number of rows\n",
      "25064\n",
      "number of columns\n",
      "13\n"
     ]
    }
   ],
   "source": [
    "[number_of_rows, number_of_columns] = sum_table_clean.shape\n",
    "print(\"number of rows\")\n",
    "print(number_of_rows)\n",
    "print(\"number of columns\")\n",
    "print(number_of_columns)"
   ]
  },
  {
   "cell_type": "markdown",
   "metadata": {},
   "source": [
    "### Blank fields in Database"
   ]
  },
  {
   "cell_type": "code",
   "execution_count": 7,
   "metadata": {},
   "outputs": [
    {
     "data": {
      "text/plain": [
       "row_id             0\n",
       "studyidk           0\n",
       "age                0\n",
       "gender             0\n",
       "patientweight      0\n",
       "patientheight      0\n",
       "findingcode        0\n",
       "findingcodetext    0\n",
       "conclusion         0\n",
       "reasonforstudy     0\n",
       "studylocation      0\n",
       "modality           0\n",
       "equipment          0\n",
       "dtype: int64"
      ]
     },
     "execution_count": 7,
     "metadata": {},
     "output_type": "execute_result"
    }
   ],
   "source": [
    "sum_table_clean.isnull().sum()"
   ]
  },
  {
   "cell_type": "markdown",
   "metadata": {},
   "source": [
    "## Gender\n",
    "\n",
    "USAL has confirmed:\n",
    "- \"O\" stands for \"Other\"\n",
    "- \"U\" stands for \"Unknown\"\n",
    "- All blanks can be changed to \"U\" for unknown "
   ]
  },
  {
   "cell_type": "code",
   "execution_count": 8,
   "metadata": {},
   "outputs": [
    {
     "data": {
      "text/plain": [
       "M    12438\n",
       "F    10120\n",
       "      1976\n",
       "O      508\n",
       "U       22\n",
       "Name: gender, dtype: int64"
      ]
     },
     "execution_count": 8,
     "metadata": {},
     "output_type": "execute_result"
    }
   ],
   "source": [
    "sum_table_clean['gender'].value_counts()"
   ]
  },
  {
   "cell_type": "code",
   "execution_count": 9,
   "metadata": {},
   "outputs": [
    {
     "data": {
      "text/plain": [
       "M    12438\n",
       "F    10120\n",
       "U     1998\n",
       "O      508\n",
       "Name: gender, dtype: int64"
      ]
     },
     "execution_count": 9,
     "metadata": {},
     "output_type": "execute_result"
    }
   ],
   "source": [
    "sum_table_clean['gender'] = sum_table_clean['gender'].replace('', 'U')\n",
    "sum_table_clean['gender'].value_counts()"
   ]
  },
  {
   "cell_type": "markdown",
   "metadata": {},
   "source": [
    "## Age"
   ]
  },
  {
   "cell_type": "code",
   "execution_count": 10,
   "metadata": {},
   "outputs": [
    {
     "name": "stdout",
     "output_type": "stream",
     "text": [
      "Number of cells in the age column that are  (blank)\n",
      "743\n",
      "Number of cells in the age column that are np.nan\n",
      "0\n"
     ]
    }
   ],
   "source": [
    "print('Number of cells in the age column that are '' (blank)')\n",
    "print(sum_table_clean['age'][sum_table_clean['age']==''].count())\n",
    "\n",
    "print('Number of cells in the age column that are np.nan')\n",
    "print(sum_table_clean['age'][sum_table_clean['age']==np.nan].count())\n"
   ]
  },
  {
   "cell_type": "code",
   "execution_count": 11,
   "metadata": {},
   "outputs": [],
   "source": [
    "# Clean up cells above by replacing them with 1\n",
    "sum_table_clean['age'] = sum_table_clean['age'].replace('',1)\n",
    "#sum_table_clean['age'] = sum_table_clean['age'].replace(np.nan, 1)\n",
    "sum_table_clean['age'] = sum_table_clean['age'].astype(int)"
   ]
  },
  {
   "cell_type": "code",
   "execution_count": 12,
   "metadata": {},
   "outputs": [
    {
     "data": {
      "image/png": "[encoded data removed]",
      "text/plain": [
       "<Figure size 432x288 with 1 Axes>"
      ]
     },
     "metadata": {
      "needs_background": "light"
     },
     "output_type": "display_data"
    }
   ],
   "source": [
    "results = plt.boxplot(sum_table_clean['age'])\n",
    "plt.title('Distribution of Age (pre clean up)')\n",
    "plt.show()"
   ]
  },
  {
   "cell_type": "code",
   "execution_count": 13,
   "metadata": {},
   "outputs": [],
   "source": [
    "#get_outlier_thresholds(results) Yoni\n"
   ]
  },
  {
   "cell_type": "code",
   "execution_count": 14,
   "metadata": {},
   "outputs": [
    {
     "name": "stdout",
     "output_type": "stream",
     "text": [
      "Highest 10 Ages in dataframe\n",
      "18739    158\n",
      "8055     155\n",
      "12146    115\n",
      "12151    102\n",
      "7725     100\n",
      "10488    100\n",
      "11956    100\n",
      "15745    100\n",
      "20225    100\n",
      "14613     99\n",
      "Name: age, dtype: int64\n",
      "Lowest 10 Ages in dataframe\n",
      "9677     0\n",
      "22075    0\n",
      "22568    0\n",
      "23898    0\n",
      "24299    0\n",
      "24479    0\n",
      "24525    0\n",
      "24727    0\n",
      "88       1\n",
      "194      1\n",
      "Name: age, dtype: int64\n"
     ]
    }
   ],
   "source": [
    "print('Highest 10 Ages in dataframe')\n",
    "print(sum_table_clean['age'].nlargest(10))\n",
    "print('Lowest 10 Ages in dataframe')\n",
    "print(sum_table_clean['age'].nsmallest(10))"
   ]
  },
  {
   "cell_type": "code",
   "execution_count": 15,
   "metadata": {},
   "outputs": [],
   "source": [
    "# where age is more than 115, update value to '1'\n",
    "sum_table_clean['age'] = sum_table_clean['age'].apply(lambda x: x if x < 115 else 1)\n"
   ]
  },
  {
   "cell_type": "code",
   "execution_count": 16,
   "metadata": {},
   "outputs": [
    {
     "name": "stdout",
     "output_type": "stream",
     "text": [
      "Ages in database between 1 and 20 (age & count)\n",
      "17    55\n",
      "19    53\n",
      "18    52\n",
      "16    43\n",
      "15    33\n",
      "14    17\n",
      "13     6\n",
      "11     2\n",
      "8      2\n",
      "12     1\n",
      "10     1\n",
      "Name: age, dtype: int64\n",
      "Sum of above\n",
      "265\n"
     ]
    }
   ],
   "source": [
    "print('Ages in database between 1 and 20 (age & count)')\n",
    "print(sum_table_clean['age'][(sum_table_clean['age'] > 1) & (sum_table_clean['age'] < 20)].value_counts())\n",
    "print('Sum of above')\n",
    "print(sum_table_clean['age'][(sum_table_clean['age'] > 1) & (sum_table_clean['age'] < 20)].count())"
   ]
  },
  {
   "cell_type": "code",
   "execution_count": 17,
   "metadata": {},
   "outputs": [
    {
     "data": {
      "image/png": "[encoded data removed]",
      "text/plain": [
       "<Figure size 432x288 with 1 Axes>"
      ]
     },
     "metadata": {
      "needs_background": "light"
     },
     "output_type": "display_data"
    }
   ],
   "source": [
    "results = plt.boxplot(sum_table_clean['age'])\n",
    "plt.title('Distribution of Age (pre clean up)')\n",
    "plt.show()"
   ]
  },
  {
   "cell_type": "code",
   "execution_count": 18,
   "metadata": {},
   "outputs": [
    {
     "name": "stdout",
     "output_type": "stream",
     "text": [
      "count    25064.000000\n",
      "mean        64.284631\n",
      "std         19.804696\n",
      "min          0.000000\n",
      "25%         55.000000\n",
      "50%         69.000000\n",
      "75%         79.000000\n",
      "max        102.000000\n",
      "Name: age, dtype: float64\n"
     ]
    },
    {
     "data": {
      "image/png": "[encoded data removed]",
      "text/plain": [
       "<Figure size 432x288 with 1 Axes>"
      ]
     },
     "metadata": {
      "needs_background": "light"
     },
     "output_type": "display_data"
    }
   ],
   "source": [
    "print(sum_table_clean['age'].describe())\n",
    "#sum_table_clean['age'].hist()\n",
    "sns.distplot(sum_table_clean['age'])\n",
    "plt.title('Distribution of Age: unknown values =1')\n",
    "plt.show()"
   ]
  },
  {
   "cell_type": "markdown",
   "metadata": {},
   "source": [
    "### Weight"
   ]
  },
  {
   "cell_type": "code",
   "execution_count": 19,
   "metadata": {},
   "outputs": [
    {
     "name": "stdout",
     "output_type": "stream",
     "text": [
      "Number of cells in the weight column that are  (blank)\n",
      "2582\n",
      "Number of cells in the weigh column that are np.nan\n",
      "0\n",
      "0\n"
     ]
    }
   ],
   "source": [
    "print('Number of cells in the weight column that are '' (blank)')\n",
    "print(sum_table_clean['patientweight'][sum_table_clean['patientweight']==''].count())\n",
    "\n",
    "print('Number of cells in the weigh column that are np.nan')\n",
    "print(sum_table_clean['patientweight'][sum_table_clean['patientweight']==np.nan].count())\n",
    "print(sum_table_clean['patientweight'].isna().sum())"
   ]
  },
  {
   "cell_type": "code",
   "execution_count": 20,
   "metadata": {},
   "outputs": [],
   "source": [
    "# Where value is blank, update value to '1'\n",
    "sum_table_clean['patientweight'] = sum_table_clean['patientweight'].replace('',1)\n",
    "sum_table_clean['patientweight'] = sum_table_clean['patientweight'].replace(np.nan, 1)"
   ]
  },
  {
   "cell_type": "code",
   "execution_count": 21,
   "metadata": {},
   "outputs": [
    {
     "name": "stdout",
     "output_type": "stream",
     "text": [
      "Number of cells in the weight column that contain comma\n",
      "133\n"
     ]
    }
   ],
   "source": [
    "print('Number of cells in the weight column that contain comma')\n",
    "print(sum_table_clean['patientweight'][sum_table_clean['patientweight'].str.contains(',', na=False)].count())"
   ]
  },
  {
   "cell_type": "code",
   "execution_count": 22,
   "metadata": {},
   "outputs": [
    {
     "name": "stdout",
     "output_type": "stream",
     "text": [
      "float64\n"
     ]
    }
   ],
   "source": [
    "#Change commas to decimal points\n",
    "sum_table_clean['patientweight'] = sum_table_clean['patientweight'].str.replace(',','.')\n",
    "sum_table_clean['patientweight'] = sum_table_clean['patientweight'].astype(float)\n",
    "sum_table_clean['patientweight'] = sum_table_clean['patientweight'].fillna(1)\n",
    "print(sum_table_clean['patientweight'].dtype)"
   ]
  },
  {
   "cell_type": "code",
   "execution_count": 23,
   "metadata": {},
   "outputs": [
    {
     "data": {
      "image/png": "[encoded data removed]",
      "text/plain": [
       "<Figure size 432x288 with 1 Axes>"
      ]
     },
     "metadata": {
      "needs_background": "light"
     },
     "output_type": "display_data"
    }
   ],
   "source": [
    "plt.boxplot(sum_table_clean['patientweight'])\n",
    "plt.show()"
   ]
  },
  {
   "cell_type": "code",
   "execution_count": 24,
   "metadata": {},
   "outputs": [
    {
     "name": "stdout",
     "output_type": "stream",
     "text": [
      "Two clear outliers have been replaced with 1\n"
     ]
    },
    {
     "data": {
      "image/png": "[encoded data removed]",
      "text/plain": [
       "<Figure size 432x288 with 1 Axes>"
      ]
     },
     "metadata": {
      "needs_background": "light"
     },
     "output_type": "display_data"
    }
   ],
   "source": [
    "print(\"Two clear outliers have been replaced with 1\")\n",
    "# where weigh is more than 2000, update value to '1'\n",
    "sum_table_clean['patientweight'] = sum_table_clean['patientweight'].apply(lambda x: x if x < 2000 else 1)\n",
    "plt.boxplot(sum_table_clean['patientweight'])\n",
    "plt.show()"
   ]
  },
  {
   "cell_type": "code",
   "execution_count": 25,
   "metadata": {},
   "outputs": [
    {
     "name": "stdout",
     "output_type": "stream",
     "text": [
      "Number of studies above 200kg (to be corrected)\n",
      "11\n",
      "Number of studies below 25kg (to be corrected)\n",
      "19\n"
     ]
    }
   ],
   "source": [
    "print('Number of studies above 200kg (to be corrected)')\n",
    "print(sum_table_clean['patientweight'][sum_table_clean['patientweight'] > 200].count())\n",
    "print('Number of studies below 25kg (to be corrected)')\n",
    "print(sum_table_clean['patientweight'][(sum_table_clean['patientweight'] > 1) \n",
    "                                       & (sum_table_clean['patientweight'] < 25)].count())"
   ]
  },
  {
   "cell_type": "code",
   "execution_count": 26,
   "metadata": {},
   "outputs": [
    {
     "name": "stdout",
     "output_type": "stream",
     "text": [
      "0utliers above 200kg have been replaced with 1\n"
     ]
    },
    {
     "data": {
      "image/png": "[encoded data removed]",
      "text/plain": [
       "<Figure size 432x288 with 1 Axes>"
      ]
     },
     "metadata": {
      "needs_background": "light"
     },
     "output_type": "display_data"
    }
   ],
   "source": [
    "print(\"0utliers above 200kg have been replaced with 1\")\n",
    "# where weigh is more than 200, update value to '1'\n",
    "sum_table_clean['patientweight'] = sum_table_clean['patientweight'].apply(lambda x: x if x < 200 else 1)\n",
    "sum_table_clean['patientweight'] = sum_table_clean['patientweight'].apply(lambda x: x if x > 25 else 1)\n",
    "plt.boxplot(sum_table_clean['patientweight'])\n",
    "plt.show()"
   ]
  },
  {
   "cell_type": "code",
   "execution_count": 27,
   "metadata": {},
   "outputs": [
    {
     "name": "stdout",
     "output_type": "stream",
     "text": [
      "count    25064.000000\n",
      "mean        65.147603\n",
      "std         26.285559\n",
      "min          1.000000\n",
      "25%         59.000000\n",
      "50%         70.000000\n",
      "75%         80.000000\n",
      "max        193.000000\n",
      "Name: patientweight, dtype: float64\n"
     ]
    },
    {
     "data": {
      "image/png": "[encoded data removed]",
      "text/plain": [
       "<Figure size 432x288 with 1 Axes>"
      ]
     },
     "metadata": {
      "needs_background": "light"
     },
     "output_type": "display_data"
    }
   ],
   "source": [
    "print(sum_table_clean['patientweight'].describe())\n",
    "#sum_table_clean['patientweight'].hist()\n",
    "sns.distplot(sum_table_clean['patientweight'])\n",
    "plt.title('Distribution of Weight : unknown values = 1')\n",
    "plt.show()"
   ]
  },
  {
   "cell_type": "markdown",
   "metadata": {},
   "source": [
    "### Height"
   ]
  },
  {
   "cell_type": "code",
   "execution_count": 28,
   "metadata": {},
   "outputs": [
    {
     "name": "stdout",
     "output_type": "stream",
     "text": [
      "Number of cells in the weight column that are  (blank)\n",
      "2558\n",
      "Number of cells in the height column that are np.nan\n",
      "0\n",
      "0\n"
     ]
    }
   ],
   "source": [
    "print('Number of cells in the weight column that are '' (blank)')\n",
    "print(sum_table_clean['patientheight'][sum_table_clean['patientheight']==''].count())\n",
    "\n",
    "print('Number of cells in the height column that are np.nan')\n",
    "print(sum_table_clean['patientheight'][sum_table_clean['patientheight']==np.nan].count())\n",
    "print(sum_table_clean['patientheight'].isna().sum())"
   ]
  },
  {
   "cell_type": "code",
   "execution_count": 29,
   "metadata": {},
   "outputs": [],
   "source": [
    "# Where value is blank, update value to '1'\n",
    "sum_table_clean['patientheight'] = sum_table_clean['patientheight'].replace('',1)\n",
    "sum_table_clean['patientheight'] = sum_table_clean['patientheight'].replace(np.nan, 1)"
   ]
  },
  {
   "cell_type": "code",
   "execution_count": 30,
   "metadata": {},
   "outputs": [
    {
     "name": "stdout",
     "output_type": "stream",
     "text": [
      "Number of cells in the weight column that contain comma\n",
      "63\n"
     ]
    }
   ],
   "source": [
    "print('Number of cells in the weight column that contain comma')\n",
    "print(sum_table_clean['patientheight'][sum_table_clean['patientheight'].str.contains(',', na=False)].count())"
   ]
  },
  {
   "cell_type": "code",
   "execution_count": 31,
   "metadata": {},
   "outputs": [],
   "source": [
    "#Change commas to decimal points\n",
    "sum_table_clean['patientheight'] = sum_table_clean['patientheight'].str.replace(',','.').astype(float)\n",
    "sum_table_clean['patientheight'] = sum_table_clean['patientheight'].fillna(1)\n",
    "sum_table_clean['patientheight'] = sum_table_clean['patientheight'].astype(float)"
   ]
  },
  {
   "cell_type": "code",
   "execution_count": 32,
   "metadata": {},
   "outputs": [
    {
     "data": {
      "image/png": "[encoded data removed]",
      "text/plain": [
       "<Figure size 432x288 with 1 Axes>"
      ]
     },
     "metadata": {
      "needs_background": "light"
     },
     "output_type": "display_data"
    }
   ],
   "source": [
    "plt.boxplot(sum_table_clean['patientheight'])\n",
    "plt.show()"
   ]
  },
  {
   "cell_type": "code",
   "execution_count": 33,
   "metadata": {
    "scrolled": true
   },
   "outputs": [
    {
     "data": {
      "image/png": "[encoded data removed]",
      "text/plain": [
       "<Figure size 432x288 with 1 Axes>"
      ]
     },
     "metadata": {
      "needs_background": "light"
     },
     "output_type": "display_data"
    }
   ],
   "source": [
    "# where height is more than 300, or under 100, update value to '1'\n",
    "sum_table_clean['patientheight'] = sum_table_clean['patientheight'].apply(lambda x: x if x < 300 else 1)\n",
    "#sum_table_clean['patientheight'] = sum_table_clean['patientheight'].apply(lambda x: x if x > 100 else 1)\n",
    "plt.boxplot(sum_table_clean['patientheight'])\n",
    "plt.show()"
   ]
  },
  {
   "cell_type": "code",
   "execution_count": 34,
   "metadata": {},
   "outputs": [
    {
     "name": "stdout",
     "output_type": "stream",
     "text": [
      "count    25064.000000\n",
      "mean       146.605724\n",
      "std         51.131713\n",
      "min          1.000000\n",
      "25%        155.000000\n",
      "50%        162.000000\n",
      "75%        170.000000\n",
      "max        200.000000\n",
      "Name: patientheight, dtype: float64\n"
     ]
    },
    {
     "data": {
      "image/png": "[encoded data removed]",
      "text/plain": [
       "<Figure size 432x288 with 1 Axes>"
      ]
     },
     "metadata": {
      "needs_background": "light"
     },
     "output_type": "display_data"
    }
   ],
   "source": [
    "print(sum_table_clean['patientheight'].describe())\n",
    "#sum_table_clean['patientheight'].hist()\n",
    "sns.distplot(sum_table_clean['patientheight'])\n",
    "plt.title('Distribution of Height : unknown values = 1')\n",
    "plt.show()"
   ]
  },
  {
   "cell_type": "code",
   "execution_count": 35,
   "metadata": {},
   "outputs": [
    {
     "data": {
      "text/plain": [
       "Index(['row_id', 'studyidk', 'age', 'gender', 'patientweight', 'patientheight',\n",
       "       'findingcode', 'findingcodetext', 'conclusion', 'reasonforstudy',\n",
       "       'studylocation', 'modality', 'equipment'],\n",
       "      dtype='object')"
      ]
     },
     "execution_count": 35,
     "metadata": {},
     "output_type": "execute_result"
    }
   ],
   "source": [
    "sum_table_clean.columns"
   ]
  },
  {
   "cell_type": "markdown",
   "metadata": {},
   "source": [
    "## Study location\n",
    "\n",
    "Unsure as to what this field intends to indicate.\n",
    "98% of fields have been left blank.\n"
   ]
  },
  {
   "cell_type": "code",
   "execution_count": 36,
   "metadata": {},
   "outputs": [
    {
     "name": "stdout",
     "output_type": "stream",
     "text": [
      "Number of unique locations in database\n",
      "42\n",
      "Percentage of field left blank\n",
      "0.9890280880944782\n"
     ]
    },
    {
     "data": {
      "text/plain": [
       "                                                                    24789\n",
       "Cardiologia                                                           123\n",
       "Medicina interna                                                       31\n",
       "Cardiología                                                            17\n",
       "Neumologia                                                             10\n",
       "Hematologia                                                            10\n",
       "NEFROLOGIA                                                              9\n",
       "Neurologia                                                              8\n",
       "CONSULTA CARDIOLOGIA                                                    7\n",
       "Cardiolgia                                                              6\n",
       "Cirugia Cardiaca                                                        5\n",
       "HEMATOLOGÍA                                                             4\n",
       "CIR CARDIACA                                                            4\n",
       "REUMATOLOGIA                                                            3\n",
       "Cardiopatias familiares                                                 3\n",
       "Endocrinologia                                                          2\n",
       "consulta de cardiología                                                 2\n",
       "ENDOCRINO                                                               2\n",
       "Ingresado                                                               2\n",
       "Infecciosos                                                             2\n",
       "Medicina intrna                                                         2\n",
       "Digestivo                                                               2\n",
       "consulta                                                                2\n",
       "Hospital Clinico Universitario                                          1\n",
       "Oncología                                                               1\n",
       "Unidad de HTA                                                           1\n",
       "planta de cardiologia                                                   1\n",
       "VEGA                                                                    1\n",
       "Cirugia toracica                                                        1\n",
       "Oncologia                                                               1\n",
       "Hosp. UNIVERSITARIO SALAMANCA                                           1\n",
       "Neurología                                                              1\n",
       "Enfermedades infecciosas                                                1\n",
       "No trae hoja de peticion, ni informes                                   1\n",
       "Radioterapia                                                            1\n",
       "Consulta de cardiologia                                                 1\n",
       "Cirugía cardiaca                                                        1\n",
       "Cirugia torácica                                                        1\n",
       "Neumología                                                              1\n",
       "Cirugia cardiaca postoperado con protesis mitral y aortica biolo        1\n",
       "nefrología                                                              1\n",
       "Urgencias                                                               1\n",
       "Name: studylocation, dtype: int64"
      ]
     },
     "execution_count": 36,
     "metadata": {},
     "output_type": "execute_result"
    }
   ],
   "source": [
    "print('Number of unique locations in database')\n",
    "print(sum_table_clean['studylocation'].nunique())\n",
    "\n",
    "print('Percentage of field left blank')\n",
    "print(sum_table_clean['studylocation'][sum_table_clean['studylocation'] == ''].count()/number_of_rows)\n",
    "\n",
    "sum_table_clean['studylocation'].value_counts()"
   ]
  },
  {
   "cell_type": "markdown",
   "metadata": {},
   "source": [
    "## Machine"
   ]
  },
  {
   "cell_type": "markdown",
   "metadata": {},
   "source": [
    "There are 34 unqiue machines listed in the database.  \n",
    "\n",
    "Questions:\n",
    "- should I rename the blank ones as 'unknown'\n",
    "- why are there machines with less than 20 or 30 records associated with them?  Are these mistakes/duplicates? \n",
    "- does machine type give any indication of the time period when the scan was taken, or the location?"
   ]
  },
  {
   "cell_type": "code",
   "execution_count": 37,
   "metadata": {},
   "outputs": [
    {
     "name": "stdout",
     "output_type": "stream",
     "text": [
      "Number of unique machine types in database\n",
      "34\n"
     ]
    },
    {
     "data": {
      "text/plain": [
       "AFFINITI_1          3383\n",
       "ECOEPIQ2            3094\n",
       "EPIQ7-1             2776\n",
       "ECOIE33             2716\n",
       "AFFINITI_2          2593\n",
       "ECOCX50             2171\n",
       "VIVID7-009324       2171\n",
       "VIVID7-011509       1955\n",
       "ECOCX50_2           1877\n",
       "ECOEPIQ1             874\n",
       "HD11_1_AE            517\n",
       "                     322\n",
       "PHILIPSHD15          111\n",
       "VIVID7-CRODRIGO      111\n",
       "QSTATION1             83\n",
       "VIEWER_STORE_SCU      63\n",
       "Vivide                47\n",
       "37001403CARUS003      40\n",
       "37001403CARUS006      32\n",
       "ECOTOSHIBA            22\n",
       "37001403CARUS002      22\n",
       "VIVID7-BEJAR          15\n",
       "ENVISOR               13\n",
       "37001403CARUS005      10\n",
       "HD11                  10\n",
       "EPIQ 7-1               8\n",
       "37001403CARUS001       7\n",
       "VIVIDS70-000030        6\n",
       "PORTATIL-UCIC          4\n",
       "VT8-435431WX2          3\n",
       "INTURISPRO_SCP         3\n",
       "AFFINITI               2\n",
       "37001403CARUS004       2\n",
       "37001403CARARC01       1\n",
       "Name: equipment, dtype: int64"
      ]
     },
     "execution_count": 37,
     "metadata": {},
     "output_type": "execute_result"
    }
   ],
   "source": [
    "print('Number of unique machine types in database')\n",
    "print(sum_table_clean['equipment'].nunique())\n",
    "sum_table_clean['equipment'].value_counts()"
   ]
  },
  {
   "cell_type": "markdown",
   "metadata": {},
   "source": [
    "## Create Features"
   ]
  },
  {
   "cell_type": "markdown",
   "metadata": {},
   "source": [
    "### BMI"
   ]
  },
  {
   "cell_type": "code",
   "execution_count": 38,
   "metadata": {},
   "outputs": [],
   "source": [
    "# Create BMI feature\n",
    "#https://www.cdc.gov/nccdphp/dnpao/growthcharts/training/bmiage/page5_1.html\n",
    "# [weight (kg) / height (cm) / height (cm)] x 10,000\n",
    "def calc_bmi(weight_kg, height_cm):\n",
    "    return ((weight_kg/height_cm/height_cm)*10000)"
   ]
  },
  {
   "cell_type": "code",
   "execution_count": 39,
   "metadata": {},
   "outputs": [],
   "source": [
    "# Create BMI Columns\n",
    "sum_table_clean['BMI'] = sum_table_clean.apply(lambda x: calc_bmi(x.patientweight, x.patientheight), axis=1)"
   ]
  },
  {
   "cell_type": "code",
   "execution_count": 40,
   "metadata": {},
   "outputs": [],
   "source": [
    "# where BMI is more than 45, update value to '1'\n",
    "sum_table_clean['BMI'] = sum_table_clean['BMI'].apply(lambda x: x if x < 45 else 1)\n",
    "# where BMI is less than 15, update value to '1'\n",
    "sum_table_clean['BMI'] = sum_table_clean['BMI'].apply(lambda x: x if x > 15 else 1)"
   ]
  },
  {
   "cell_type": "code",
   "execution_count": 41,
   "metadata": {},
   "outputs": [
    {
     "data": {
      "image/png": "[encoded data removed]",
      "text/plain": [
       "<Figure size 432x288 with 1 Axes>"
      ]
     },
     "metadata": {
      "needs_background": "light"
     },
     "output_type": "display_data"
    }
   ],
   "source": [
    "plt.boxplot(sum_table_clean['BMI'])\n",
    "plt.show()"
   ]
  },
  {
   "cell_type": "code",
   "execution_count": 42,
   "metadata": {},
   "outputs": [
    {
     "name": "stdout",
     "output_type": "stream",
     "text": [
      "count    25064.000000\n",
      "mean        23.770520\n",
      "std          9.234910\n",
      "min          1.000000\n",
      "25%         22.405877\n",
      "50%         25.677297\n",
      "75%         28.906250\n",
      "max         44.997166\n",
      "Name: BMI, dtype: float64\n"
     ]
    },
    {
     "data": {
      "image/png": "[encoded data removed]",
      "text/plain": [
       "<Figure size 432x288 with 1 Axes>"
      ]
     },
     "metadata": {
      "needs_background": "light"
     },
     "output_type": "display_data"
    }
   ],
   "source": [
    "print(sum_table_clean['BMI'].describe())\n",
    "#sum_table_clean['BMI'].hist()\n",
    "sns.distplot(sum_table_clean['BMI'])\n",
    "plt.title('Distribution of BMI: unknown values = 1')\n",
    "plt.show()"
   ]
  },
  {
   "cell_type": "markdown",
   "metadata": {},
   "source": [
    "## Finding Codes"
   ]
  },
  {
   "cell_type": "code",
   "execution_count": 43,
   "metadata": {},
   "outputs": [
    {
     "name": "stdout",
     "output_type": "stream",
     "text": [
      "\n"
     ]
    }
   ],
   "source": [
    "print()"
   ]
  },
  {
   "cell_type": "code",
   "execution_count": 44,
   "metadata": {},
   "outputs": [],
   "source": [
    "#codes for each of the pathologies\n",
    "pathologies_of_interest = {'LV-0068', 'LV-0144', 'LV-0069', 'LV-0070', 'LV-0065', 'LV-0062'\n",
    "                    ,'LV-0061', 'LV-0080','LV-0077','LV-0078'\n",
    "                    , 'LV-0061', 'LA-0016', 'LA-0013', 'SU-0032'}\n",
    "\n",
    "# Pathology dictonary\n",
    "pathdict = {\"LV-0062\": \"HC_F\"\n",
    "            ,\"SU-0032\": \"Norm\"\n",
    "            ,\"LV-0078\": \"RLVEF_F\"\n",
    "            ,\"LV-0077\": \"RLVEF_F\"\n",
    "            ,\"LV-0061\": \"RLVEF_F\"\n",
    "            ,\"LV-0080\": \"RLVEF_T\"\n",
    "            ,\"LV-0068\": \"HC_T\"\n",
    "            ,\"LA-0016\": \"DLA_T\"\n",
    "            ,\"LV-0065\": \"HC_F\"\n",
    "            ,\"LV-0144\": \"HC_T\"\n",
    "            ,\"LV-0070\": \"HC_C\"\n",
    "            ,\"LA-0013\": \"DLA_F\"\n",
    "            ,\"LV-0069\": \"HC_C\"\n",
    "           }\n",
    "\n",
    "# Pathology codes\n",
    "HC_T_codes = {'LV-0144', 'LV-0068'}\n",
    "HC_F_codes = {'LV-0062', 'LV-0065', 'LV-0061'}\n",
    "HC_C_codes = {'LV-0069', 'LV-0070'}\n",
    "\n",
    "RLVEF_T_codes = {'LV-0080'}\n",
    "RLVEF_F_codes = {'LV-0061', 'LV-0077', 'LV-0078'}\n",
    "\n",
    "DLA_T_codes = {'LA-0016'}\n",
    "DLA_F_codes = {'LA-0013'}\n",
    "\n",
    "Norm_codes = {'SU-0032'}"
   ]
  },
  {
   "cell_type": "code",
   "execution_count": 45,
   "metadata": {},
   "outputs": [],
   "source": [
    "def create_pathology_column(study_table, path_codes, path_name):\n",
    "    #puts the code of interest in a new column\n",
    "    study_table[path_name] = study_table.findingcode.apply(lambda x: intersection(x, path_codes)) \n",
    "    #replace the codes with 0 or 1 (NOTE: could return higher than 1 error?  needs to be handled)\n",
    "    study_table[path_name] = study_table[path_name].apply(lambda x : len(x))\n",
    "    \n",
    "    #Convert the code from a list to a string\n",
    "    #study_table[path_name] = study_table[path_name].apply(lambda x : ''.join(x))\n",
    "    # replace the codes with the pathology names\n",
    "    #study_table = study_table.replace({path_name: pathdict})\n",
    "    return study_table"
   ]
  },
  {
   "cell_type": "code",
   "execution_count": 46,
   "metadata": {},
   "outputs": [],
   "source": [
    "def intersection(lst1, lst2): \n",
    "#https://www.geeksforgeeks.org/python-intersection-of-multiple-lists/      \n",
    "    return [item for item in lst1 if item in lst2] "
   ]
  },
  {
   "cell_type": "code",
   "execution_count": 47,
   "metadata": {},
   "outputs": [],
   "source": [
    "# turn the findingcode column into a list\n",
    "sum_table_clean.findingcode = sum_table_clean.findingcode.apply(lambda x: x.split(\",\"))"
   ]
  },
  {
   "cell_type": "code",
   "execution_count": 48,
   "metadata": {},
   "outputs": [
    {
     "data": {
      "text/html": [
       "<div>\n",
       "<style scoped>\n",
       "    .dataframe tbody tr th:only-of-type {\n",
       "        vertical-align: middle;\n",
       "    }\n",
       "\n",
       "    .dataframe tbody tr th {\n",
       "        vertical-align: top;\n",
       "    }\n",
       "\n",
       "    .dataframe thead th {\n",
       "        text-align: right;\n",
       "    }\n",
       "</style>\n",
       "<table border=\"1\" class=\"dataframe\">\n",
       "  <thead>\n",
       "    <tr style=\"text-align: right;\">\n",
       "      <th></th>\n",
       "      <th>row_id</th>\n",
       "      <th>studyidk</th>\n",
       "      <th>age</th>\n",
       "      <th>gender</th>\n",
       "      <th>patientweight</th>\n",
       "      <th>patientheight</th>\n",
       "      <th>findingcode</th>\n",
       "      <th>findingcodetext</th>\n",
       "      <th>conclusion</th>\n",
       "      <th>reasonforstudy</th>\n",
       "      <th>studylocation</th>\n",
       "      <th>modality</th>\n",
       "      <th>equipment</th>\n",
       "      <th>BMI</th>\n",
       "    </tr>\n",
       "  </thead>\n",
       "  <tbody>\n",
       "    <tr>\n",
       "      <th>0</th>\n",
       "      <td>1</td>\n",
       "      <td>118640</td>\n",
       "      <td>77</td>\n",
       "      <td>M</td>\n",
       "      <td>77.0</td>\n",
       "      <td>162.0</td>\n",
       "      <td>[LV-0062,  LV-0067,  LV-0078,  LV-0088,  RV-00...</td>\n",
       "      <td>Ventrículo izquierdo de dimensiones normales. ...</td>\n",
       "      <td>RS. Buena calidad. ....- VI de tamańo y FEVI n...</td>\n",
       "      <td>SVAo. BAV 2ş</td>\n",
       "      <td></td>\n",
       "      <td>US</td>\n",
       "      <td>EPIQ7-1</td>\n",
       "      <td>29.34004</td>\n",
       "    </tr>\n",
       "  </tbody>\n",
       "</table>\n",
       "</div>"
      ],
      "text/plain": [
       "  row_id studyidk  age gender  patientweight  patientheight  \\\n",
       "0      1   118640   77      M           77.0          162.0   \n",
       "\n",
       "                                         findingcode  \\\n",
       "0  [LV-0062,  LV-0067,  LV-0078,  LV-0088,  RV-00...   \n",
       "\n",
       "                                     findingcodetext  \\\n",
       "0  Ventrículo izquierdo de dimensiones normales. ...   \n",
       "\n",
       "                                          conclusion reasonforstudy  \\\n",
       "0  RS. Buena calidad. ....- VI de tamańo y FEVI n...   SVAo. BAV 2ş   \n",
       "\n",
       "  studylocation modality equipment       BMI  \n",
       "0                     US   EPIQ7-1  29.34004  "
      ]
     },
     "execution_count": 48,
     "metadata": {},
     "output_type": "execute_result"
    }
   ],
   "source": [
    "sum_table_clean.head(1)"
   ]
  },
  {
   "cell_type": "code",
   "execution_count": 49,
   "metadata": {},
   "outputs": [
    {
     "data": {
      "text/html": [
       "<div>\n",
       "<style scoped>\n",
       "    .dataframe tbody tr th:only-of-type {\n",
       "        vertical-align: middle;\n",
       "    }\n",
       "\n",
       "    .dataframe tbody tr th {\n",
       "        vertical-align: top;\n",
       "    }\n",
       "\n",
       "    .dataframe thead th {\n",
       "        text-align: right;\n",
       "    }\n",
       "</style>\n",
       "<table border=\"1\" class=\"dataframe\">\n",
       "  <thead>\n",
       "    <tr style=\"text-align: right;\">\n",
       "      <th></th>\n",
       "      <th>studyidk</th>\n",
       "      <th>finding_code_del</th>\n",
       "    </tr>\n",
       "  </thead>\n",
       "  <tbody>\n",
       "    <tr>\n",
       "      <th>0</th>\n",
       "      <td>118640</td>\n",
       "      <td>LV-0062</td>\n",
       "    </tr>\n",
       "    <tr>\n",
       "      <th>1</th>\n",
       "      <td>118640</td>\n",
       "      <td>LV-0067</td>\n",
       "    </tr>\n",
       "    <tr>\n",
       "      <th>2</th>\n",
       "      <td>118640</td>\n",
       "      <td>LV-0078</td>\n",
       "    </tr>\n",
       "    <tr>\n",
       "      <th>3</th>\n",
       "      <td>118640</td>\n",
       "      <td>LV-0088</td>\n",
       "    </tr>\n",
       "    <tr>\n",
       "      <th>4</th>\n",
       "      <td>118640</td>\n",
       "      <td>RV-0028</td>\n",
       "    </tr>\n",
       "  </tbody>\n",
       "</table>\n",
       "</div>"
      ],
      "text/plain": [
       "  studyidk finding_code_del\n",
       "0   118640          LV-0062\n",
       "1   118640          LV-0067\n",
       "2   118640          LV-0078\n",
       "3   118640          LV-0088\n",
       "4   118640          RV-0028"
      ]
     },
     "execution_count": 49,
     "metadata": {},
     "output_type": "execute_result"
    }
   ],
   "source": [
    "# Count instances \n",
    "db_finding_codes = sum_table_clean[['studyidk','findingcode']].copy()\n",
    "temp = db_finding_codes.apply(lambda x: pd.Series(x['findingcode']),axis=1).stack().reset_index(level=1, drop=True)\n",
    "temp.name = 'finding_code_del'\n",
    "db_finding_codes = db_finding_codes.drop('findingcode', axis=1).join(temp)\n",
    "db_finding_codes = db_finding_codes.reset_index(drop=True)\n",
    "db_finding_codes.head()"
   ]
  },
  {
   "cell_type": "code",
   "execution_count": 50,
   "metadata": {},
   "outputs": [
    {
     "name": "stdout",
     "output_type": "stream",
     "text": [
      "number of unique finding codes in the database\n",
      "618\n"
     ]
    }
   ],
   "source": [
    "# Count of the unique number of finding codes present in the DB\n",
    "unique_finding_codes = db_finding_codes['finding_code_del'].nunique()\n",
    "print('number of unique finding codes in the database')\n",
    "print(unique_finding_codes)"
   ]
  },
  {
   "cell_type": "code",
   "execution_count": 51,
   "metadata": {},
   "outputs": [
    {
     "data": {
      "image/png": "[encoded data removed]",
      "text/plain": [
       "<Figure size 432x288 with 1 Axes>"
      ]
     },
     "metadata": {
      "needs_background": "light"
     },
     "output_type": "display_data"
    }
   ],
   "source": [
    "# Quick histogram of the number of finding codes per study in the database\n",
    "axes = db_finding_codes['studyidk'].value_counts().hist(bins=50)\n",
    "plt.suptitle(\"Numbers of finding codes per study\")\n",
    "plt.show()"
   ]
  },
  {
   "cell_type": "code",
   "execution_count": 52,
   "metadata": {},
   "outputs": [],
   "source": [
    "# adding pathology column\n",
    "sum_table_clean = create_pathology_column(sum_table_clean, HC_T_codes, \"HC_T\")\n",
    "sum_table_clean = create_pathology_column(sum_table_clean, HC_F_codes, \"HC_F\")\n",
    "sum_table_clean = create_pathology_column(sum_table_clean, HC_C_codes, \"HC_C\")\n",
    "sum_table_clean = create_pathology_column(sum_table_clean, RLVEF_T_codes, \"RLVEF_T\")\n",
    "sum_table_clean = create_pathology_column(sum_table_clean, RLVEF_F_codes, \"RLVEF_F\")\n",
    "sum_table_clean = create_pathology_column(sum_table_clean, DLA_T_codes, \"DLA_T\")\n",
    "sum_table_clean = create_pathology_column(sum_table_clean, DLA_F_codes, \"DLA_F\")\n",
    "sum_table_clean = create_pathology_column(sum_table_clean, Norm_codes, \"Norm\")"
   ]
  },
  {
   "cell_type": "code",
   "execution_count": 53,
   "metadata": {},
   "outputs": [
    {
     "data": {
      "text/html": [
       "<div>\n",
       "<style scoped>\n",
       "    .dataframe tbody tr th:only-of-type {\n",
       "        vertical-align: middle;\n",
       "    }\n",
       "\n",
       "    .dataframe tbody tr th {\n",
       "        vertical-align: top;\n",
       "    }\n",
       "\n",
       "    .dataframe thead th {\n",
       "        text-align: right;\n",
       "    }\n",
       "</style>\n",
       "<table border=\"1\" class=\"dataframe\">\n",
       "  <thead>\n",
       "    <tr style=\"text-align: right;\">\n",
       "      <th></th>\n",
       "      <th>row_id</th>\n",
       "      <th>studyidk</th>\n",
       "      <th>age</th>\n",
       "      <th>gender</th>\n",
       "      <th>patientweight</th>\n",
       "      <th>patientheight</th>\n",
       "      <th>findingcode</th>\n",
       "      <th>findingcodetext</th>\n",
       "      <th>conclusion</th>\n",
       "      <th>reasonforstudy</th>\n",
       "      <th>...</th>\n",
       "      <th>equipment</th>\n",
       "      <th>BMI</th>\n",
       "      <th>HC_T</th>\n",
       "      <th>HC_F</th>\n",
       "      <th>HC_C</th>\n",
       "      <th>RLVEF_T</th>\n",
       "      <th>RLVEF_F</th>\n",
       "      <th>DLA_T</th>\n",
       "      <th>DLA_F</th>\n",
       "      <th>Norm</th>\n",
       "    </tr>\n",
       "  </thead>\n",
       "  <tbody>\n",
       "    <tr>\n",
       "      <th>0</th>\n",
       "      <td>1</td>\n",
       "      <td>118640</td>\n",
       "      <td>77</td>\n",
       "      <td>M</td>\n",
       "      <td>77.0</td>\n",
       "      <td>162.0</td>\n",
       "      <td>[LV-0062,  LV-0067,  LV-0078,  LV-0088,  RV-00...</td>\n",
       "      <td>Ventrículo izquierdo de dimensiones normales. ...</td>\n",
       "      <td>RS. Buena calidad. ....- VI de tamańo y FEVI n...</td>\n",
       "      <td>SVAo. BAV 2ş</td>\n",
       "      <td>...</td>\n",
       "      <td>EPIQ7-1</td>\n",
       "      <td>29.340040</td>\n",
       "      <td>0</td>\n",
       "      <td>1</td>\n",
       "      <td>0</td>\n",
       "      <td>0</td>\n",
       "      <td>0</td>\n",
       "      <td>0</td>\n",
       "      <td>0</td>\n",
       "      <td>0</td>\n",
       "    </tr>\n",
       "    <tr>\n",
       "      <th>1</th>\n",
       "      <td>2</td>\n",
       "      <td>115777</td>\n",
       "      <td>82</td>\n",
       "      <td>F</td>\n",
       "      <td>45.0</td>\n",
       "      <td>157.0</td>\n",
       "      <td>[LV-0063,  LV-0069,  LV-0078,  LV-0086,  LV-00...</td>\n",
       "      <td>Cavidad del ventrículo izquierdo reducida. Com...</td>\n",
       "      <td>Estudio de buena calidad. Realizado en RS a 70...</td>\n",
       "      <td>Angina inestable</td>\n",
       "      <td>...</td>\n",
       "      <td>ECOEPIQ2</td>\n",
       "      <td>18.256319</td>\n",
       "      <td>0</td>\n",
       "      <td>0</td>\n",
       "      <td>0</td>\n",
       "      <td>0</td>\n",
       "      <td>0</td>\n",
       "      <td>0</td>\n",
       "      <td>0</td>\n",
       "      <td>0</td>\n",
       "    </tr>\n",
       "    <tr>\n",
       "      <th>2</th>\n",
       "      <td>3</td>\n",
       "      <td>49414</td>\n",
       "      <td>67</td>\n",
       "      <td>M</td>\n",
       "      <td>69.0</td>\n",
       "      <td>168.0</td>\n",
       "      <td>[LV-0077,  MV-0108,  AV-0087]</td>\n",
       "      <td>La fracción de eyección del ventrículo izquier...</td>\n",
       "      <td>Seguimiento de P. con C. valvular e Isquemica....</td>\n",
       "      <td>Seguimiento de P. con C. valvular e Isquemica</td>\n",
       "      <td>...</td>\n",
       "      <td>ECOIE33</td>\n",
       "      <td>24.447279</td>\n",
       "      <td>0</td>\n",
       "      <td>0</td>\n",
       "      <td>0</td>\n",
       "      <td>0</td>\n",
       "      <td>1</td>\n",
       "      <td>0</td>\n",
       "      <td>0</td>\n",
       "      <td>0</td>\n",
       "    </tr>\n",
       "    <tr>\n",
       "      <th>3</th>\n",
       "      <td>4</td>\n",
       "      <td>79460</td>\n",
       "      <td>70</td>\n",
       "      <td>M</td>\n",
       "      <td>68.0</td>\n",
       "      <td>168.0</td>\n",
       "      <td>[LV-0078,  LV-0145,  MV-0056,  MV-0099,  MV-01...</td>\n",
       "      <td>La función sistólica ventricular izquierda es ...</td>\n",
       "      <td>Seguimiento de P.  con C. isquemica cronica  (...</td>\n",
       "      <td>Seguimiento de P.  con C. isquemica cronica  +...</td>\n",
       "      <td>...</td>\n",
       "      <td>AFFINITI_1</td>\n",
       "      <td>24.092971</td>\n",
       "      <td>0</td>\n",
       "      <td>0</td>\n",
       "      <td>0</td>\n",
       "      <td>0</td>\n",
       "      <td>1</td>\n",
       "      <td>0</td>\n",
       "      <td>0</td>\n",
       "      <td>0</td>\n",
       "    </tr>\n",
       "    <tr>\n",
       "      <th>4</th>\n",
       "      <td>5</td>\n",
       "      <td>118806</td>\n",
       "      <td>72</td>\n",
       "      <td>M</td>\n",
       "      <td>63.0</td>\n",
       "      <td>167.0</td>\n",
       "      <td>[LV-0062,  LV-0067,  RV-0028,  RV-0033,  RV-00...</td>\n",
       "      <td>Ventrículo izquierdo de dimensiones normales. ...</td>\n",
       "      <td>Estudio realizado en FA  80-90 . Mala ventana ...</td>\n",
       "      <td></td>\n",
       "      <td>...</td>\n",
       "      <td>AFFINITI_2</td>\n",
       "      <td>22.589551</td>\n",
       "      <td>0</td>\n",
       "      <td>1</td>\n",
       "      <td>0</td>\n",
       "      <td>0</td>\n",
       "      <td>0</td>\n",
       "      <td>0</td>\n",
       "      <td>0</td>\n",
       "      <td>0</td>\n",
       "    </tr>\n",
       "  </tbody>\n",
       "</table>\n",
       "<p>5 rows × 22 columns</p>\n",
       "</div>"
      ],
      "text/plain": [
       "  row_id studyidk  age gender  patientweight  patientheight  \\\n",
       "0      1   118640   77      M           77.0          162.0   \n",
       "1      2   115777   82      F           45.0          157.0   \n",
       "2      3    49414   67      M           69.0          168.0   \n",
       "3      4    79460   70      M           68.0          168.0   \n",
       "4      5   118806   72      M           63.0          167.0   \n",
       "\n",
       "                                         findingcode  \\\n",
       "0  [LV-0062,  LV-0067,  LV-0078,  LV-0088,  RV-00...   \n",
       "1  [LV-0063,  LV-0069,  LV-0078,  LV-0086,  LV-00...   \n",
       "2                      [LV-0077,  MV-0108,  AV-0087]   \n",
       "3  [LV-0078,  LV-0145,  MV-0056,  MV-0099,  MV-01...   \n",
       "4  [LV-0062,  LV-0067,  RV-0028,  RV-0033,  RV-00...   \n",
       "\n",
       "                                     findingcodetext  \\\n",
       "0  Ventrículo izquierdo de dimensiones normales. ...   \n",
       "1  Cavidad del ventrículo izquierdo reducida. Com...   \n",
       "2  La fracción de eyección del ventrículo izquier...   \n",
       "3  La función sistólica ventricular izquierda es ...   \n",
       "4  Ventrículo izquierdo de dimensiones normales. ...   \n",
       "\n",
       "                                          conclusion  \\\n",
       "0  RS. Buena calidad. ....- VI de tamańo y FEVI n...   \n",
       "1  Estudio de buena calidad. Realizado en RS a 70...   \n",
       "2  Seguimiento de P. con C. valvular e Isquemica....   \n",
       "3  Seguimiento de P.  con C. isquemica cronica  (...   \n",
       "4  Estudio realizado en FA  80-90 . Mala ventana ...   \n",
       "\n",
       "                                      reasonforstudy  ...   equipment  \\\n",
       "0                                       SVAo. BAV 2ş  ...     EPIQ7-1   \n",
       "1                                   Angina inestable  ...    ECOEPIQ2   \n",
       "2      Seguimiento de P. con C. valvular e Isquemica  ...     ECOIE33   \n",
       "3  Seguimiento de P.  con C. isquemica cronica  +...  ...  AFFINITI_1   \n",
       "4                                                     ...  AFFINITI_2   \n",
       "\n",
       "         BMI HC_T  HC_F  HC_C  RLVEF_T  RLVEF_F  DLA_T  DLA_F  Norm  \n",
       "0  29.340040    0     1     0        0        0      0      0     0  \n",
       "1  18.256319    0     0     0        0        0      0      0     0  \n",
       "2  24.447279    0     0     0        0        1      0      0     0  \n",
       "3  24.092971    0     0     0        0        1      0      0     0  \n",
       "4  22.589551    0     1     0        0        0      0      0     0  \n",
       "\n",
       "[5 rows x 22 columns]"
      ]
     },
     "execution_count": 53,
     "metadata": {},
     "output_type": "execute_result"
    }
   ],
   "source": [
    "sum_table_clean.head()"
   ]
  },
  {
   "cell_type": "code",
   "execution_count": 55,
   "metadata": {},
   "outputs": [],
   "source": [
    "sum_table_clean.to_csv('clean_summary_table.csv', index=False)"
   ]
  },
  {
   "cell_type": "markdown",
   "metadata": {},
   "source": [
    "## Histograms: Pathologies by Demographics"
   ]
  },
  {
   "cell_type": "code",
   "execution_count": null,
   "metadata": {},
   "outputs": [],
   "source": [
    "sum_table_clean['HC_T'].sum()"
   ]
  },
  {
   "cell_type": "code",
   "execution_count": null,
   "metadata": {},
   "outputs": [],
   "source": [
    "# Create a table of relevant findingcodes/pathologies\n",
    "\n",
    "columns = [\"Findingcode diagnosing disease\",\n",
    "           \"Findingcode compatible with disease\", \n",
    "           \"Findingcode normal for this pathology\"]\n",
    "rows = [\"Hypertrophic Cardiomyopathy\",\n",
    "        \"Reduced Left Ventricle Ejection Fraction\",\n",
    "       \"Dilated Left Atria\",\n",
    "       \"Normal study\"]\n",
    "data=[[sum_table_clean['HC_T'].sum(), sum_table_clean['HC_C'].sum(), sum_table_clean['HC_F'].sum()],\n",
    "     [sum_table_clean['RLVEF_T'].sum(), \" \", sum_table_clean['RLVEF_F'].sum()],\n",
    "     [sum_table_clean['DLA_T'].sum(), \" \", sum_table_clean['DLA_F'].sum()],\n",
    "     [sum_table_clean['Norm'].sum(), \" \", \" \"]]\n",
    "\n",
    "ResultsTable = pd.DataFrame(index=rows, columns=columns, data=data)\n",
    "\n",
    "ResultsTable\n"
   ]
  },
  {
   "cell_type": "markdown",
   "metadata": {},
   "source": [
    "## Pathologies present by age, weight, height and BMI"
   ]
  },
  {
   "cell_type": "code",
   "execution_count": null,
   "metadata": {
    "scrolled": true
   },
   "outputs": [],
   "source": [
    "HC_T_Table = sum_table_clean[sum_table_clean['HC_T'] == 1]\n",
    "RLVEF_T_Table = sum_table_clean[sum_table_clean['RLVEF_T'] == 1]\n",
    "DLA_T_Table = sum_table_clean[sum_table_clean['DLA_T'] == 1]\n",
    "\n",
    "# Age, weight, hieght, and BMI for HC_T\n",
    "plt.figure(figsize=(18, 12))\n",
    "\n",
    "plt.subplot(3, 4, 1)\n",
    "HC_T_Table.age.hist()\n",
    "plt.grid(b=None)\n",
    "plt.title('Hypertropic Cardiomypathy (by Age)')\n",
    "plt.xlabel('age (years)')\n",
    "plt.ylabel('Number of cases')\n",
    "\n",
    "plt.subplot(3, 4, 5)\n",
    "RLVEF_T_Table.age.hist(color='red')\n",
    "plt.grid(b=None)\n",
    "plt.title('Left Ventricle Ejection Fraction (by Age)')\n",
    "plt.xlabel('age (years)')\n",
    "plt.ylabel('Number of cases')\n",
    "\n",
    "plt.subplot(3, 4, 9)\n",
    "DLA_T_Table.age.hist(color='green')\n",
    "plt.grid(b=None)\n",
    "plt.title('Dilated Left Ventricle (by Age)')\n",
    "plt.xlabel('age (years)')\n",
    "plt.ylabel('Number of cases')\n",
    "\n",
    "plt.subplot(3, 4, 2)\n",
    "HC_T_Table.patientweight.hist()\n",
    "#plt.yticks(range(0, 4500, 500), fontsize=14) \n",
    "plt.grid(b=None)\n",
    "plt.title('Hypertropic Cardiomypathy (by Weight)')\n",
    "plt.xlabel('Weight (kg)')\n",
    "plt.ylabel('Number of cases')\n",
    "\n",
    "plt.subplot(3, 4, 6)\n",
    "RLVEF_T_Table.patientweight.hist(color='red')\n",
    "#plt.yticks(range(0, 4500, 500), fontsize=14) \n",
    "plt.grid(b=None)\n",
    "plt.title('Left Ventricle Ejection Fraction (by Weight)')\n",
    "plt.xlabel('Weight (kg)')\n",
    "plt.ylabel('Number of cases')\n",
    "\n",
    "plt.subplot(3, 4, 10)\n",
    "DLA_T_Table.patientweight.hist(color='green')\n",
    "#plt.yticks(range(0, 4500, 500), fontsize=14) \n",
    "plt.grid(b=None)\n",
    "plt.title('Dilated Left Ventricle (by Weight)')\n",
    "plt.xlabel('Weight (kg)')\n",
    "plt.ylabel('Number of cases')\n",
    "\n",
    "plt.subplot(3, 4, 3)\n",
    "HC_T_Table.patientheight.hist()\n",
    "#plt.yticks(range(0, 4500, 500), fontsize=14) \n",
    "plt.grid(b=None)\n",
    "plt.title('Hypertropic Cardiomypathy (by Height)')\n",
    "plt.xlabel('Height (cm)')\n",
    "plt.ylabel('Number of cases')\n",
    "\n",
    "plt.subplot(3, 4, 7)\n",
    "RLVEF_T_Table.patientheight.hist(color='red')\n",
    "#plt.yticks(range(0, 4500, 500), fontsize=14) \n",
    "plt.grid(b=None)\n",
    "plt.title('Left Ventricle Ejection Fraction (by Height)')\n",
    "plt.xlabel('Height (cm)')\n",
    "plt.ylabel('Number of cases')\n",
    "\n",
    "plt.subplot(3, 4, 11)\n",
    "DLA_T_Table.patientheight.hist(color='green')\n",
    "#plt.yticks(range(0, 4500, 500), fontsize=14) \n",
    "plt.grid(b=None)\n",
    "plt.title('Dilated Left Ventricle (by Height)')\n",
    "plt.xlabel('Height (cm)')\n",
    "plt.ylabel('Number of cases')\n",
    "\n",
    "plt.subplot(3, 4, 4)\n",
    "HC_T_Table.BMI.hist()\n",
    "#plt.yticks(range(0, 4500, 500), fontsize=14) \n",
    "plt.grid(b=None)\n",
    "plt.title('Hypertropic Cardiomypathy (by BMI)')\n",
    "plt.xlabel('BMI')\n",
    "plt.ylabel('Number of cases')\n",
    "\n",
    "plt.subplot(3, 4, 8)\n",
    "RLVEF_T_Table.BMI.hist(color='red')\n",
    "#plt.yticks(range(0, 4500, 500), fontsize=14) \n",
    "plt.grid(b=None)\n",
    "plt.title('Left Ventricle Ejection Fraction (by BMI)')\n",
    "plt.xlabel('BMI')\n",
    "plt.ylabel('Number of cases')\n",
    "\n",
    "plt.subplot(3, 4, 12)\n",
    "DLA_T_Table.BMI.hist(color='green')\n",
    "#plt.yticks(range(0, 4500, 500), fontsize=14) \n",
    "plt.grid(b=None)\n",
    "plt.title('Dilated Left Ventricle (by BMI)')\n",
    "plt.xlabel('BMI')\n",
    "plt.ylabel('Number of cases')\n",
    "\n",
    "plt.tight_layout()\n",
    "plt.show()"
   ]
  },
  {
   "cell_type": "markdown",
   "metadata": {},
   "source": [
    "# Import information on instances and views\n",
    "\n",
    "Import csv created by Yoni on breakdown of instances and views"
   ]
  },
  {
   "cell_type": "code",
   "execution_count": null,
   "metadata": {},
   "outputs": [],
   "source": [
    "tb_instances_views = pd.read_csv('../data/02_intermediate/frames_with_views.csv')\n",
    "tb_instances_views.head()"
   ]
  },
  {
   "cell_type": "code",
   "execution_count": null,
   "metadata": {},
   "outputs": [],
   "source": [
    "print(tb_instances_views.shape)\n",
    "print(tb_instances_views.dtypes)"
   ]
  },
  {
   "cell_type": "code",
   "execution_count": null,
   "metadata": {},
   "outputs": [],
   "source": [
    "sum_table_clean['studyidk'] = sum_table_clean.studyidk.astype(np.float64)\n",
    "print(sum_table_clean.shape)\n",
    "print(sum_table_clean.dtypes)"
   ]
  },
  {
   "cell_type": "markdown",
   "metadata": {},
   "source": [
    "## Join tables"
   ]
  },
  {
   "cell_type": "code",
   "execution_count": null,
   "metadata": {},
   "outputs": [],
   "source": [
    "tb_instances_views_studies = pd.merge(tb_instances_views, sum_table_clean, on='studyidk', how='left')\n",
    "print(tb_instances_views_studies.shape)"
   ]
  },
  {
   "cell_type": "code",
   "execution_count": null,
   "metadata": {},
   "outputs": [],
   "source": [
    "tb_instances_views_studies.head()"
   ]
  },
  {
   "cell_type": "code",
   "execution_count": null,
   "metadata": {},
   "outputs": [],
   "source": [
    "tb_instances_views_studies.columns"
   ]
  },
  {
   "cell_type": "markdown",
   "metadata": {},
   "source": [
    "# EDA on views"
   ]
  },
  {
   "cell_type": "code",
   "execution_count": null,
   "metadata": {},
   "outputs": [],
   "source": [
    "tb_is_plax = tb_instances_views_studies[tb_instances_views_studies['is_plax'] == True]\n",
    "print('Number of instances with parasternal axis view: {}'.format(tb_is_plax.shape[0]))\n",
    "print('Number of unique studies with parasternal axis view: {}'.format(tb_is_plax.studyidk.nunique()))\n",
    "\n",
    "tb_is_ac4 = tb_instances_views_studies[tb_instances_views_studies['is_a4c'] == True]\n",
    "print('Number of instances with apical four chambers view: {}'.format(tb_is_ac4.shape[0]))\n",
    "print('Number of unique studies with apical four chambers view: {}'.format(tb_is_ac4.studyidk.nunique()))\n",
    "\n",
    "tb_is_ac2 = tb_instances_views_studies[tb_instances_views_studies['is_a2c'] == True]\n",
    "print('Number of instances with apical two chambers view: {}'.format(tb_is_ac2.shape[0]))\n",
    "print('Number of unique studies with apical two chambers view: {}'.format(tb_is_ac2.studyidk.nunique()))"
   ]
  },
  {
   "cell_type": "code",
   "execution_count": null,
   "metadata": {},
   "outputs": [],
   "source": [
    "data = {'view_name': ['PLAX', 'AC4', 'AC2'],\n",
    "        'Numbers_of_studies': [tb_is_plax.studyidk.nunique(), tb_is_ac4.studyidk.nunique(), tb_is_ac2.studyidk.nunique()],\n",
    "        'Numbers_of_instances': [tb_is_plax.shape[0], tb_is_ac4.shape[0],tb_is_ac2.shape[0]]}\n",
    "\n",
    "study_view_numbers = pd.DataFrame(data, columns=['view_name', 'Numbers_of_studies', 'Numbers_of_instances'])\n",
    "study_view_numbers.head()"
   ]
  },
  {
   "cell_type": "code",
   "execution_count": null,
   "metadata": {},
   "outputs": [],
   "source": [
    "plt.figure(figsize=(18, 5))\n",
    "\n",
    "plt.subplot(1,2,1)\n",
    "sns.barplot(x=\"view_name\", y=\"Numbers_of_studies\", data =study_view_numbers).set_title('Numbers of unique studies with examples of each view')\n",
    "plt.ylim(5000, 40000)\n",
    "\n",
    "plt.subplot(1,2,2)\n",
    "sns.barplot(x=\"view_name\", y=\"Numbers_of_instances\", data =study_view_numbers).set_title('Numbers of instances with examples of each view')\n",
    "plt.ylim(5000, 40000)\n",
    "plt.show()"
   ]
  },
  {
   "cell_type": "code",
   "execution_count": null,
   "metadata": {},
   "outputs": [],
   "source": [
    "plt.figure(figsize=(18, 5))\n",
    "\n",
    "plt.subplot(1,3,1)\n",
    "sns.barplot(x=\"gender\", y=\"studyidk\", data=tb_is_plax).set_title('Parasternal Axis View: Gender by instance')\n",
    "plt.ylim(2000, 100000)\n",
    "\n",
    "plt.subplot(1,3,2)\n",
    "sns.barplot(x=\"gender\", y=\"studyidk\", data=tb_is_ac4).set_title('Apical Four Chambers View: Gender by instance')\n",
    "plt.ylim(2000, 100000)\n",
    "\n",
    "plt.subplot(1,3,3)\n",
    "sns.barplot(x=\"gender\", y=\"studyidk\", data=tb_is_ac2).set_title('Apical Two Chambers View: Gender by instance')\n",
    "plt.ylim(2000, 100000)\n",
    "plt.show()"
   ]
  },
  {
   "cell_type": "code",
   "execution_count": null,
   "metadata": {},
   "outputs": [],
   "source": [
    "plt.figure(figsize=(18, 5))\n",
    "\n",
    "plt.subplot(1,3,1)\n",
    "plt.hist(tb_is_plax.age)\n",
    "plt.title('Parasternal Axis View: Age by instance')\n",
    "plt.ylim(0, 12000)\n",
    "\n",
    "plt.subplot(1,3,2)\n",
    "plt.hist(tb_is_ac4.age)\n",
    "plt.title('Apical Four Chambers View: Age by instance')\n",
    "plt.ylim(0, 12000)\n",
    "\n",
    "plt.subplot(1,3,3)\n",
    "plt.hist(tb_is_ac2.age)\n",
    "plt.title('Apical Two Chambers View: Age by instance')\n",
    "plt.ylim(0, 12000)\n",
    "plt.show()"
   ]
  },
  {
   "cell_type": "code",
   "execution_count": null,
   "metadata": {},
   "outputs": [],
   "source": [
    "plt.figure(figsize=(18, 5))\n",
    "\n",
    "plt.subplot(1,3,1)\n",
    "plt.hist(tb_is_plax.BMI)\n",
    "plt.title('Parasternal Axis View: BMI by instance')\n",
    "plt.ylim(0, 15200)\n",
    "\n",
    "plt.subplot(1,3,2)\n",
    "plt.hist(tb_is_ac4.BMI)\n",
    "plt.title('Apical Four Chambers View: BMI by instance')\n",
    "plt.ylim(0, 15200)\n",
    "\n",
    "plt.subplot(1,3,3)\n",
    "plt.hist(tb_is_ac2.BMI)\n",
    "plt.title('Apical Two Chambers View: BMI by instance')\n",
    "plt.ylim(0, 15200)\n",
    "plt.show()"
   ]
  }
 ],
 "metadata": {
  "kernelspec": {
   "display_name": "dssg",
   "language": "python",
   "name": "dssg"
  },
  "language_info": {
   "codemirror_mode": {
    "name": "ipython",
    "version": 3
   },
   "file_extension": ".py",
   "mimetype": "text/x-python",
   "name": "python",
   "nbconvert_exporter": "python",
   "pygments_lexer": "ipython3",
   "version": "3.7.3"
  }
 },
 "nbformat": 4,
 "nbformat_minor": 2
}
