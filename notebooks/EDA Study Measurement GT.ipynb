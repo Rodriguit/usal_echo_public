{
 "cells": [
  {
   "cell_type": "code",
   "execution_count": null,
   "metadata": {},
   "outputs": [],
   "source": [
    "%reload_ext autoreload\n",
    "%autoreload 2\n",
    "%matplotlib inline"
   ]
  },
  {
   "cell_type": "code",
   "execution_count": null,
   "metadata": {},
   "outputs": [],
   "source": [
    "import matplotlib as mpl\n",
    "mpl.rcParams['figure.dpi'] = 300"
   ]
  },
  {
   "cell_type": "code",
   "execution_count": null,
   "metadata": {},
   "outputs": [],
   "source": [
    "import numpy as np\n",
    "import pandas as pd\n",
    "import matplotlib.pyplot as plt"
   ]
  },
  {
   "cell_type": "code",
   "execution_count": null,
   "metadata": {},
   "outputs": [],
   "source": [
    "import sys\n",
    "sys.path.append('../src')"
   ]
  },
  {
   "cell_type": "code",
   "execution_count": null,
   "metadata": {},
   "outputs": [],
   "source": [
    "from usal_echo.d00_utils.db_utils import dbReadWriteClean, dbReadWriteViews\n",
    "io_clean = dbReadWriteClean()\n",
    "io_views = dbReadWriteViews()"
   ]
  },
  {
   "cell_type": "code",
   "execution_count": null,
   "metadata": {},
   "outputs": [],
   "source": [
    "measurement_abstract_rpt_df = io_clean.get_table(\"measurement_abstract_rpt\")\n",
    "print(measurement_abstract_rpt_df.shape)\n",
    "measurement_abstract_rpt_df.head()"
   ]
  },
  {
   "cell_type": "code",
   "execution_count": null,
   "metadata": {},
   "outputs": [],
   "source": [
    "instances_w_labels_test_df = io_views.get_table('instances_w_labels_test')\n",
    "instances_w_labels_test_df = instances_w_labels_test_df[(instances_w_labels_test_df['view']=='a2c') | (instances_w_labels_test_df['view']=='a4c')]\n",
    "print(instances_w_labels_test_df.shape)\n",
    "instances_w_labels_test_df.head()"
   ]
  },
  {
   "cell_type": "code",
   "execution_count": null,
   "metadata": {},
   "outputs": [],
   "source": [
    "instances_w_labels_test_downsampleby5_df = io_views.get_table('instances_w_labels_test_downsampleby5')\n",
    "instances_w_labels_test_downsampleby5_df = instances_w_labels_test_downsampleby5_df[(instances_w_labels_test_downsampleby5_df['view']=='a2c') | (instances_w_labels_test_downsampleby5_df['view']=='a4c')]\n",
    "print(instances_w_labels_test_downsampleby5_df.shape)\n",
    "instances_w_labels_test_downsampleby5_df.head()"
   ]
  },
  {
   "cell_type": "code",
   "execution_count": null,
   "metadata": {},
   "outputs": [],
   "source": [
    "a_measgraphref_df = io_clean.get_table(\"a_measgraphref\")\n",
    "print(a_measgraphref_df.shape)\n",
    "a_measgraphref_df.head()"
   ]
  },
  {
   "cell_type": "code",
   "execution_count": null,
   "metadata": {},
   "outputs": [],
   "source": [
    "def get_recommendation(row):\n",
    "    return 'normal' if row['value'] >= 60 else 'abnormal' if row['value'] < 40 else 'greyzone'"
   ]
  },
  {
   "cell_type": "code",
   "execution_count": null,
   "metadata": {},
   "outputs": [],
   "source": [
    "start_df = measurement_abstract_rpt_df\n",
    "filter_df = start_df"
   ]
  },
  {
   "cell_type": "code",
   "execution_count": null,
   "metadata": {},
   "outputs": [],
   "source": [
    "filter_df = filter_df[filter_df['name'].str.contains('FE')]\n",
    "filter_df = filter_df[filter_df['value']>=0]\n",
    "print(len(start_df))\n",
    "print(len(filter_df))\n",
    "print(len(filter_df)/len(start_df))"
   ]
  },
  {
   "cell_type": "code",
   "execution_count": null,
   "metadata": {},
   "outputs": [],
   "source": [
    "filter_df['name'].value_counts()"
   ]
  },
  {
   "cell_type": "code",
   "execution_count": null,
   "metadata": {},
   "outputs": [],
   "source": [
    "filter_df = filter_df[filter_df['name'].str.contains('ps4')]\n",
    "print(len(start_df))\n",
    "print(len(filter_df))\n",
    "print(len(filter_df)/len(start_df))"
   ]
  },
  {
   "cell_type": "code",
   "execution_count": null,
   "metadata": {},
   "outputs": [],
   "source": [
    "filter_df['name'].value_counts()"
   ]
  },
  {
   "cell_type": "code",
   "execution_count": null,
   "metadata": {},
   "outputs": [],
   "source": [
    "filter_df = filter_df[filter_df['name'].str.contains('MDD')]\n",
    "print(len(start_df))\n",
    "print(len(filter_df))\n",
    "print(len(filter_df)/len(start_df))"
   ]
  },
  {
   "cell_type": "code",
   "execution_count": null,
   "metadata": {},
   "outputs": [],
   "source": [
    "filter_df.head()"
   ]
  },
  {
   "cell_type": "code",
   "execution_count": null,
   "metadata": {},
   "outputs": [],
   "source": [
    "filter_df['value'].describe()"
   ]
  },
  {
   "cell_type": "code",
   "execution_count": null,
   "metadata": {},
   "outputs": [],
   "source": [
    "plt.title(f'Count of All Reported Ejection Fraction Values')\n",
    "plt.xlabel('Value')\n",
    "plt.ylabel('Counts')\n",
    "plt.hist(filter_df['value'], bins=20);"
   ]
  },
  {
   "cell_type": "code",
   "execution_count": null,
   "metadata": {},
   "outputs": [],
   "source": [
    "filter_df['recommendation'] = filter_df.apply(get_recommendation, axis=1)"
   ]
  },
  {
   "cell_type": "code",
   "execution_count": null,
   "metadata": {},
   "outputs": [],
   "source": [
    "filter_df['recommendation'].value_counts()"
   ]
  },
  {
   "cell_type": "code",
   "execution_count": null,
   "metadata": {},
   "outputs": [],
   "source": [
    "filter_df['recommendation'].value_counts()/filter_df['recommendation'].value_counts().sum()"
   ]
  },
  {
   "cell_type": "code",
   "execution_count": null,
   "metadata": {},
   "outputs": [],
   "source": [
    "# filter_df = filter_df[filter_df['studyidk'].isin(instances_w_labels_test_df['studyidk'].unique())]\n",
    "# print(len(start_df))\n",
    "# print(len(filter_df))\n",
    "# print(len(filter_df)/len(start_df))"
   ]
  },
  {
   "cell_type": "code",
   "execution_count": null,
   "metadata": {},
   "outputs": [],
   "source": [
    "filter_df = filter_df[filter_df['studyidk'].isin(instances_w_labels_test_downsampleby5_df['studyidk'].unique())]\n",
    "print(len(start_df))\n",
    "print(len(filter_df))\n",
    "print(len(filter_df)/len(start_df))"
   ]
  },
  {
   "cell_type": "code",
   "execution_count": null,
   "metadata": {},
   "outputs": [],
   "source": [
    "filter_df = filter_df[filter_df['studyidk'].isin(a_measgraphref_df['studyidk'].unique())]\n",
    "print(len(start_df))\n",
    "print(len(filter_df))\n",
    "print(len(filter_df)/len(start_df))"
   ]
  },
  {
   "cell_type": "code",
   "execution_count": null,
   "metadata": {},
   "outputs": [],
   "source": [
    "filter_df['value'].describe()"
   ]
  },
  {
   "cell_type": "code",
   "execution_count": null,
   "metadata": {},
   "outputs": [],
   "source": [
    "plt.title(f'Count of Filtered Reported Ejection Fraction Values')\n",
    "plt.xlabel('Value')\n",
    "plt.ylabel('Counts')\n",
    "plt.hist(filter_df['value'], bins=20);"
   ]
  },
  {
   "cell_type": "code",
   "execution_count": null,
   "metadata": {},
   "outputs": [],
   "source": [
    "filter_df['recommendation'].value_counts()"
   ]
  },
  {
   "cell_type": "code",
   "execution_count": null,
   "metadata": {},
   "outputs": [],
   "source": [
    "filter_df['recommendation'].value_counts()/filter_df['recommendation'].value_counts().sum()"
   ]
  },
  {
   "cell_type": "code",
   "execution_count": null,
   "metadata": {},
   "outputs": [],
   "source": [
    "filter_df.head()"
   ]
  }
 ],
 "metadata": {
  "kernelspec": {
   "display_name": "Environment (conda_usal_echo)",
   "language": "python",
   "name": "conda_usal_echo"
  },
  "language_info": {
   "codemirror_mode": {
    "name": "ipython",
    "version": 3
   },
   "file_extension": ".py",
   "mimetype": "text/x-python",
   "name": "python",
   "nbconvert_exporter": "python",
   "pygments_lexer": "ipython3",
   "version": "3.6.5"
  }
 },
 "nbformat": 4,
 "nbformat_minor": 2
}
