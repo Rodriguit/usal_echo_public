{
 "cells": [
  {
   "cell_type": "code",
   "execution_count": 6,
   "metadata": {},
   "outputs": [],
   "source": [
    "import sys\n",
    "import pandas as pd\n",
    "\n",
    "sys.path.append('../src/')\n",
    "from d00_utils.db_utils import dbReadWriteData"
   ]
  },
  {
   "cell_type": "code",
   "execution_count": 3,
   "metadata": {},
   "outputs": [
    {
     "name": "stderr",
     "output_type": "stream",
     "text": [
      "/home/ubuntu/anaconda3/envs/usal_echo/lib/python3.6/site-packages/psycopg2/__init__.py:144: UserWarning: The psycopg2 wheel package will be renamed from release 2.8; in order to keep installing from binary please use \"pip install psycopg2-binary\" instead. For details see: <http://initd.org/psycopg/docs/install.html#binary-install-from-pypi>.\n",
      "  \"\"\")\n"
     ]
    }
   ],
   "source": [
    "io = dbReadWriteData()\n",
    "io.schema = 'classification'"
   ]
  },
  {
   "cell_type": "code",
   "execution_count": 7,
   "metadata": {},
   "outputs": [
    {
     "name": "stdout",
     "output_type": "stream",
     "text": [
      "t    748\n",
      "f     20\n",
      "Name: correct, dtype: int64\n"
     ]
    },
    {
     "data": {
      "text/html": [
       "<div>\n",
       "<style scoped>\n",
       "    .dataframe tbody tr th:only-of-type {\n",
       "        vertical-align: middle;\n",
       "    }\n",
       "\n",
       "    .dataframe tbody tr th {\n",
       "        vertical-align: top;\n",
       "    }\n",
       "\n",
       "    .dataframe thead tr th {\n",
       "        text-align: left;\n",
       "    }\n",
       "\n",
       "    .dataframe thead tr:last-of-type th {\n",
       "        text-align: right;\n",
       "    }\n",
       "</style>\n",
       "<table border=\"1\" class=\"dataframe\">\n",
       "  <thead>\n",
       "    <tr>\n",
       "      <th>view_true</th>\n",
       "      <th colspan=\"2\" halign=\"left\">a2c</th>\n",
       "      <th colspan=\"2\" halign=\"left\">a4c</th>\n",
       "      <th colspan=\"2\" halign=\"left\">plax</th>\n",
       "    </tr>\n",
       "    <tr>\n",
       "      <th>view4_pred</th>\n",
       "      <th>a2c</th>\n",
       "      <th>a4c</th>\n",
       "      <th>a2c</th>\n",
       "      <th>a4c</th>\n",
       "      <th>a4c</th>\n",
       "      <th>plax</th>\n",
       "    </tr>\n",
       "    <tr>\n",
       "      <th>correct</th>\n",
       "      <th></th>\n",
       "      <th></th>\n",
       "      <th></th>\n",
       "      <th></th>\n",
       "      <th></th>\n",
       "      <th></th>\n",
       "    </tr>\n",
       "  </thead>\n",
       "  <tbody>\n",
       "    <tr>\n",
       "      <th>f</th>\n",
       "      <td>0</td>\n",
       "      <td>8</td>\n",
       "      <td>10</td>\n",
       "      <td>0</td>\n",
       "      <td>2</td>\n",
       "      <td>0</td>\n",
       "    </tr>\n",
       "    <tr>\n",
       "      <th>t</th>\n",
       "      <td>152</td>\n",
       "      <td>0</td>\n",
       "      <td>0</td>\n",
       "      <td>243</td>\n",
       "      <td>0</td>\n",
       "      <td>353</td>\n",
       "    </tr>\n",
       "  </tbody>\n",
       "</table>\n",
       "</div>"
      ],
      "text/plain": [
       "view_true   a2c     a4c      plax     \n",
       "view4_pred  a2c a4c a2c  a4c  a4c plax\n",
       "correct                               \n",
       "f             0   8  10    0    2    0\n",
       "t           152   0   0  243    0  353"
      ]
     },
     "execution_count": 7,
     "metadata": {},
     "output_type": "execute_result"
    }
   ],
   "source": [
    "### EVALUATION WITH LOOSE MAPPING, e.g. subsets of a2c are a2c\n",
    "\n",
    "df = io.get_table('test1000_for_m1')\n",
    "\n",
    "df = df[df['view4_pred'] != 'other']\n",
    "print(df['correct'].value_counts())\n",
    "# 768 / 1025 = 75% of all instances are NOT predicted as other\n",
    "# On those instances, accuracy of 748 / 768 = 97%\n",
    "\n",
    "pd.crosstab(df['correct'], [df['view_true']])\n",
    "# X/Y on [true view]\n",
    "# 353/355 on plax, 243/253 on a4c, 152/160 on a2c\n",
    "\n",
    "pd.crosstab(df['correct'], [df['view_true'], df['view4_pred']])"
   ]
  },
  {
   "cell_type": "code",
   "execution_count": 8,
   "metadata": {},
   "outputs": [
    {
     "name": "stdout",
     "output_type": "stream",
     "text": [
      "t    500\n",
      "f      8\n",
      "Name: correct, dtype: int64\n"
     ]
    },
    {
     "data": {
      "text/html": [
       "<div>\n",
       "<style scoped>\n",
       "    .dataframe tbody tr th:only-of-type {\n",
       "        vertical-align: middle;\n",
       "    }\n",
       "\n",
       "    .dataframe tbody tr th {\n",
       "        vertical-align: top;\n",
       "    }\n",
       "\n",
       "    .dataframe thead tr th {\n",
       "        text-align: left;\n",
       "    }\n",
       "\n",
       "    .dataframe thead tr:last-of-type th {\n",
       "        text-align: right;\n",
       "    }\n",
       "</style>\n",
       "<table border=\"1\" class=\"dataframe\">\n",
       "  <thead>\n",
       "    <tr>\n",
       "      <th>view_true</th>\n",
       "      <th colspan=\"2\" halign=\"left\">a2c</th>\n",
       "      <th colspan=\"2\" halign=\"left\">a4c</th>\n",
       "      <th>plax</th>\n",
       "    </tr>\n",
       "    <tr>\n",
       "      <th>view4_pred</th>\n",
       "      <th>a2c</th>\n",
       "      <th>a4c</th>\n",
       "      <th>a2c</th>\n",
       "      <th>a4c</th>\n",
       "      <th>plax</th>\n",
       "    </tr>\n",
       "    <tr>\n",
       "      <th>correct</th>\n",
       "      <th></th>\n",
       "      <th></th>\n",
       "      <th></th>\n",
       "      <th></th>\n",
       "      <th></th>\n",
       "    </tr>\n",
       "  </thead>\n",
       "  <tbody>\n",
       "    <tr>\n",
       "      <th>f</th>\n",
       "      <td>0</td>\n",
       "      <td>3</td>\n",
       "      <td>5</td>\n",
       "      <td>0</td>\n",
       "      <td>0</td>\n",
       "    </tr>\n",
       "    <tr>\n",
       "      <th>t</th>\n",
       "      <td>81</td>\n",
       "      <td>0</td>\n",
       "      <td>0</td>\n",
       "      <td>145</td>\n",
       "      <td>274</td>\n",
       "    </tr>\n",
       "  </tbody>\n",
       "</table>\n",
       "</div>"
      ],
      "text/plain": [
       "view_true  a2c     a4c      plax\n",
       "view4_pred a2c a4c a2c  a4c plax\n",
       "correct                         \n",
       "f            0   3   5    0    0\n",
       "t           81   0   0  145  274"
      ]
     },
     "execution_count": 8,
     "metadata": {},
     "output_type": "execute_result"
    }
   ],
   "source": [
    "### EVALUATION WITH STRICT MAPPING, e.g. only a2c are a2c\n",
    "\n",
    "df = io.get_table('test1000_for_m2_m3')\n",
    "\n",
    "df = df[df['view4_pred'] != 'other']\n",
    "print(df['correct'].value_counts())\n",
    "# 508 / 1025 = 50% of all instances are NOT predicted as other\n",
    "# On those instances, accuracy of 500/508 = 97%\n",
    "\n",
    "pd.crosstab(df['correct'], [df['view_true']])\n",
    "# X/Y on [true view]\n",
    "# 274274 on plax, 145/149 on a4c, 81/84 on a2c\n",
    "\n",
    "pd.crosstab(df['correct'], [df['view_true'], df['view4_pred']])"
   ]
  }
 ],
 "metadata": {
  "kernelspec": {
   "display_name": "Python 3",
   "language": "python",
   "name": "python3"
  },
  "language_info": {
   "codemirror_mode": {
    "name": "ipython",
    "version": 3
   },
   "file_extension": ".py",
   "mimetype": "text/x-python",
   "name": "python",
   "nbconvert_exporter": "python",
   "pygments_lexer": "ipython3",
   "version": "3.6.5"
  }
 },
 "nbformat": 4,
 "nbformat_minor": 2
}
