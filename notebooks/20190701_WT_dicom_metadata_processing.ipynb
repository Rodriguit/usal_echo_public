{
 "cells": [
  {
   "cell_type": "code",
   "execution_count": null,
   "metadata": {},
   "outputs": [],
   "source": [
    "import pandas as pd\n",
    "import os\n",
    "from sqlalchemy import create_engine"
   ]
  },
  {
   "cell_type": "code",
   "execution_count": null,
   "metadata": {},
   "outputs": [],
   "source": [
    "connection_str =  \"postgresql://{}:{}@{}/{}\".format(credentials['user'],\n",
    "                                                        credentials['password'],\n",
    "                                                        credentials['host'],\n",
    "                                                        credentials['database'])\n",
    "conn = create_engine(connection_str)"
   ]
  },
  {
   "cell_type": "code",
   "execution_count": null,
   "metadata": {},
   "outputs": [],
   "source": [
    "projectdir = os.path.dirname(os.getcwd())\n",
    "datadir = os.path.join(projectdir, 'data')\n",
    "metadata_path = os.path.join(datadir, '02_intermediate','dicom_metadata.csv')"
   ]
  },
  {
   "cell_type": "markdown",
   "metadata": {},
   "source": [
    "Get dicom tags that are of interest"
   ]
  },
  {
   "cell_type": "code",
   "execution_count": null,
   "metadata": {},
   "outputs": [],
   "source": [
    "dicom_tags = dict(\n",
    "    sop_instance_uid=('0008','0018'),\n",
    "    rows=('0028','0010'), #in metadata\n",
    "    columns=('0028','0011'), #in metadata\n",
    "    number_of_frames=('0028','0008'), #in metadata\n",
    "    cine_rate=('0018','0040'), #in metadata\n",
    "    sequence_of_ultrasound_regions=('0018','6011'), #in metadata\n",
    "    region_location_min_x0=('0018','6018'), #in metadata\n",
    "    region_location_min_y0=('0018','601A'),\n",
    "    region_location_max_x1=('0018','601C'), \n",
    "    region_location_max_y1=('0018','601E'),\n",
    "    physical_delta_x=('0018','602C'),\n",
    "    physical_delta_y=('0018','602E'),\n",
    "    physical_units_x_direction=('0018','6024'), #in metadata\n",
    "    physical_units_y_direction=('0018','6026'), #in metadata\n",
    "    region_spatial_format=('0018','6012'), #in metadata\n",
    "    heart_rate=('0018', '1088'), #in metadata\n",
    "    pixel_data=('7FE0','0010'),\n",
    "    transfer_syntax_uid=('0002','0010'), #in metadata\n",
    "    photometric_interpretation=('0028','0004'), #in metadata\n",
    "    ultrasound_color_data_present=('0028','0014'), #in metadata\n",
    "    acquisition_datetime=('0008', '002a'), #in metadata\n",
    "    institution_name=('0008', '0080'),\n",
    "    manufacturers_model_name=('0008', '1090') #in metadata\n",
    ")"
   ]
  },
  {
   "cell_type": "code",
   "execution_count": null,
   "metadata": {},
   "outputs": [],
   "source": [
    "dicom_tags.values()"
   ]
  },
  {
   "cell_type": "markdown",
   "metadata": {},
   "source": [
    "Read metadata in chunks to avoid kernel crashing due to large data volume."
   ]
  },
  {
   "cell_type": "code",
   "execution_count": null,
   "metadata": {},
   "outputs": [],
   "source": [
    "datalist = []\n",
    "for chunk in pd.read_csv(metadata_path, chunksize=1000000):\n",
    "    chunk['tags'] = list(zip(chunk['tag1'],chunk['tag2']))\n",
    "    filtered_chunk = chunk[chunk['tags'].isin(dicom_tags.values())]\n",
    "    datalist.append(filtered_chunk)"
   ]
  },
  {
   "cell_type": "code",
   "execution_count": null,
   "metadata": {},
   "outputs": [],
   "source": [
    "dp = datalist[0].unstack()#pivot(index=['dirname','filename'], columns=['tag1','tag2'], values='value')"
   ]
  },
  {
   "cell_type": "code",
   "execution_count": null,
   "metadata": {},
   "outputs": [],
   "source": [
    "datalist[0].tags.unique()"
   ]
  },
  {
   "cell_type": "code",
   "execution_count": null,
   "metadata": {},
   "outputs": [],
   "source": [
    "chunk[chunk.tag1==('0010')]"
   ]
  },
  {
   "cell_type": "code",
   "execution_count": null,
   "metadata": {
    "scrolled": true
   },
   "outputs": [],
   "source": [
    "stackdf = datalist[0].set_index(['dirname','filename'])#,'tag1','tag2'])\n",
    "stackdf['tag_tuple'] = list(zip(stackdf['tag1'],stackdf['tag2']))\n",
    "stackdf[stackdf.tag_tuple==('0008','0018')]"
   ]
  },
  {
   "cell_type": "code",
   "execution_count": null,
   "metadata": {},
   "outputs": [],
   "source": [
    "datachunks = pd.read_csv(metadata_path, chunksize=100000, dtype={'dirname':'category', 'filename':'category',\n",
    "                                                                 'tag1':'category','tag2':'category'})"
   ]
  },
  {
   "cell_type": "code",
   "execution_count": null,
   "metadata": {},
   "outputs": [],
   "source": [
    "chunklist = []\n",
    "for chunk in datachunks:\n",
    "    chunk.set_index(['dirname','filename'], inplace=True)\n",
    "    chunklist.append(chunk)"
   ]
  },
  {
   "cell_type": "code",
   "execution_count": null,
   "metadata": {},
   "outputs": [],
   "source": [
    "chunklist[2].memory_usage()"
   ]
  },
  {
   "cell_type": "code",
   "execution_count": null,
   "metadata": {},
   "outputs": [],
   "source": [
    "chunklist[2].head()"
   ]
  },
  {
   "cell_type": "code",
   "execution_count": null,
   "metadata": {},
   "outputs": [],
   "source": [
    "df = pd.concat(chunklist)"
   ]
  },
  {
   "cell_type": "code",
   "execution_count": null,
   "metadata": {},
   "outputs": [],
   "source": [
    "dindexed = df.set_index(['dirname','filename'])"
   ]
  },
  {
   "cell_type": "code",
   "execution_count": null,
   "metadata": {},
   "outputs": [],
   "source": [
    "for col in df.columns[:-1]:\n",
    "    df[col] = df[col].astype('category')"
   ]
  },
  {
   "cell_type": "code",
   "execution_count": null,
   "metadata": {},
   "outputs": [],
   "source": [
    "chunklist[0].dtypes"
   ]
  },
  {
   "cell_type": "code",
   "execution_count": null,
   "metadata": {},
   "outputs": [],
   "source": []
  }
 ],
 "metadata": {
  "kernelspec": {
   "display_name": "dssg",
   "language": "python",
   "name": "dssg"
  },
  "language_info": {
   "codemirror_mode": {
    "name": "ipython",
    "version": 3
   },
   "file_extension": ".py",
   "mimetype": "text/x-python",
   "name": "python",
   "nbconvert_exporter": "python",
   "pygments_lexer": "ipython3",
   "version": "3.7.3"
  }
 },
 "nbformat": 4,
 "nbformat_minor": 2
}
