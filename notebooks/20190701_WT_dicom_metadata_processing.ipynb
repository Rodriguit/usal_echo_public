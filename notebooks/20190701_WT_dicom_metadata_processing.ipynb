{
 "cells": [
  {
   "cell_type": "markdown",
   "metadata": {},
   "source": [
    "# Processing Raw Dicom Metadata\n",
    "*author: Wiebke Toussaint*  \n",
    "\n",
    "This notebook performs the steps that are required to add the relevant dicom tags from the raw metadata csv to a postgres database."
   ]
  },
  {
   "cell_type": "code",
   "execution_count": null,
   "metadata": {},
   "outputs": [],
   "source": [
    "import os\n",
    "import sys\n",
    "import pandas as pd\n",
    "from sqlalchemy import create_engine\n",
    "from json import load\n",
    "import psycopg2"
   ]
  },
  {
   "cell_type": "markdown",
   "metadata": {},
   "source": [
    "#### Specify paths and import project modules"
   ]
  },
  {
   "cell_type": "code",
   "execution_count": null,
   "metadata": {},
   "outputs": [],
   "source": [
    "projectdir = os.path.dirname(os.getcwd())\n",
    "sys.path.append(projectdir) # to use project modules in notebook\n",
    "datadir = os.path.join(projectdir, 'data')\n",
    "metadata_path = os.path.join(datadir, '02_intermediate','dicom_metadata.csv')\n",
    "\n",
    "from src.d01_data import dicom_metadata\n",
    "from src.d00_utils.s3_utils import get_matching_s3_keys\n",
    "from src.d00_utils.db_utils import save_to_db"
   ]
  },
  {
   "cell_type": "markdown",
   "metadata": {},
   "source": [
    "#### Functions to add metadata table to database"
   ]
  },
  {
   "cell_type": "code",
   "execution_count": null,
   "metadata": {},
   "outputs": [],
   "source": [
    "def dbtable_to_df(db_table, credentials_file):\n",
    "    credentials = _load_db_credentials(credentials_file)\n",
    "    connection_str =  \"postgresql://{}:{}@{}/{}\".format(credentials['user'],\n",
    "                                                         credentials['psswd'],\n",
    "                                                         credentials['host'],\n",
    "                                                         credentials['database'])\n",
    "    conn = create_engine(connection_str)\n",
    "    df = pd.read_sql_query('select * from \"'+ db_table +'\"', con=conn, chunksize=100000)\n",
    "    return df"
   ]
  },
  {
   "cell_type": "code",
   "execution_count": null,
   "metadata": {},
   "outputs": [],
   "source": [
    "def get_meta_lite(dicom_tags, save_to_db=False, credentials_file=None, db_table=None):\n",
    "    \n",
    "    # Read metadata in chunks to avoid kernel crashing due to large data volume.\n",
    "    \n",
    "    datalist = []\n",
    "    for chunk in pd.read_csv(metadata_path, chunksize=1000000, dtype={'dirname':'category','filename':'category',\n",
    "                                                                      'tag1':'category','tag2':'category'}):\n",
    "        chunk['tags'] = list(zip(chunk['tag1'],chunk['tag2']))\n",
    "        filtered_chunk = chunk[chunk['tags'].isin(dicom_tags.values())]\n",
    "        if save_to_db is True:\n",
    "            try:\n",
    "                save_to_db(filtered_chunk, db_table, credentials_file)\n",
    "            except:\n",
    "                raise\n",
    "            print('saved chunks to db')\n",
    "        datalist.append(filtered_chunk)\n",
    "    \n",
    "    meta = pd.concat(datalist)\n",
    "    \n",
    "    return meta"
   ]
  },
  {
   "cell_type": "markdown",
   "metadata": {},
   "source": [
    "### Generate sample metadata tags"
   ]
  },
  {
   "cell_type": "code",
   "execution_count": null,
   "metadata": {},
   "outputs": [],
   "source": [
    "test_files_keys = get_matching_s3_keys('cibercv','99966','.dcm')\n",
    "test_files = []\n",
    "for key in test_files_keys:\n",
    "    test_files.append(key)\n",
    "\n",
    "if os.path.exists(os.path.join(datadir,'02_intermediate','dicom_metadata_sample.csv')) is True:\n",
    "    sample = pd.read_csv(os.path.join(datadir, '02_intermediate','dicom_metadata_sample.csv'))\n",
    "else:\n",
    "    for file in test_files:\n",
    "        df_sample = dicom_metadata.get_dicom_metadata('cibercv', file)\n",
    "        dicom_metadata.write_dicom_metadata(df_sample, 'sample')\n",
    "    sample = pd.read_csv(os.path.join(datadir, '02_intermediate','dicom_metadata_sample.csv'))\n",
    "    \n",
    "if os.path.exists(os.path.join(datadir,'02_intermediate','dicom_metadata_tag_descriptions.csv')) is True:\n",
    "    tag_descriptions = pd.read_csv(os.path.join(datadir, '02_intermediate','dicom_metadata_tag_descriptions.csv'))\n",
    "else:\n",
    "    for file in test_files:\n",
    "        df_desc = dicom_metadata.get_dicom_metadata('cibercv', file, description=True)\n",
    "        dicom_metadata.write_dicom_metadata(df_desc, 'tag_descriptions')\n",
    "    tag_descriptions = pd.read_csv(os.path.join(datadir, '02_intermediate','dicom_metadata_tag_descriptions.csv'))"
   ]
  },
  {
   "cell_type": "code",
   "execution_count": null,
   "metadata": {},
   "outputs": [],
   "source": [
    "tag_descriptions.rename(columns={'value':'description'}, inplace=True)\n",
    "all_tags = sample.merge(tag_descriptions, how='left')\n",
    "all_tags.drop_duplicates(subset=['tag1','tag2'], inplace=True)\n",
    "all_tags.dropna(inplace=True)"
   ]
  },
  {
   "cell_type": "markdown",
   "metadata": {},
   "source": [
    "#### Search sample metadata tag descriptions"
   ]
  },
  {
   "cell_type": "code",
   "execution_count": null,
   "metadata": {},
   "outputs": [],
   "source": [
    "all_tags[all_tags['description'].str.contains('UID')]"
   ]
  },
  {
   "cell_type": "code",
   "execution_count": null,
   "metadata": {},
   "outputs": [],
   "source": [
    "all_tags[all_tags['description'].str.contains('Time|Date')]"
   ]
  },
  {
   "cell_type": "markdown",
   "metadata": {},
   "source": [
    "### Get dicom tags that are of interest"
   ]
  },
  {
   "cell_type": "code",
   "execution_count": null,
   "metadata": {},
   "outputs": [],
   "source": [
    "dicom_tags = dict(\n",
    "    sop_class_uid=('0008','0016'),\n",
    "    rows=('0028','0010'),\n",
    "    columns=('0028','0011'), \n",
    "    number_of_frames=('0028','0008'), \n",
    "    cine_rate=('0018','0040'),\n",
    "    sequence_of_ultrasound_regions=('0018','6011'), \n",
    "    region_location_min_x0=('0018','6018'), \n",
    "    physical_units_x_direction=('0018','6024'),\n",
    "    physical_units_y_direction=('0018','6026'),\n",
    "    region_spatial_format=('0018','6012'), \n",
    "    heart_rate=('0018', '1088'), \n",
    "    transfer_syntax_uid=('0002','0010'),\n",
    "    photometric_interpretation=('0028','0004'),\n",
    "#    ultrasound_color_data_present=('0028','0014'), seems to be an incorrect tag\n",
    "    acquisition_datetime=('0008', '002a'),\n",
    "    manufacturers_model_name=('0008', '1090'), \n",
    "    instance_creation_date=('0008','0012'),\n",
    ")"
   ]
  },
  {
   "cell_type": "code",
   "execution_count": null,
   "metadata": {},
   "outputs": [],
   "source": [
    "credentials_file = os.path.join(os.path.expanduser('~'),'.psql_credentials.json')"
   ]
  },
  {
   "cell_type": "markdown",
   "metadata": {},
   "source": [
    "Getting the metadata lite takes several minutes."
   ]
  },
  {
   "cell_type": "code",
   "execution_count": null,
   "metadata": {},
   "outputs": [],
   "source": [
    "meta = dicom_metadata.get_meta_lite(dicom_tags)"
   ]
  },
  {
   "cell_type": "code",
   "execution_count": null,
   "metadata": {},
   "outputs": [],
   "source": [
    "print(len(meta))\n",
    "meta.head()"
   ]
  },
  {
   "cell_type": "markdown",
   "metadata": {},
   "source": [
    "#### Get frequency of unique tag values"
   ]
  },
  {
   "cell_type": "code",
   "execution_count": null,
   "metadata": {},
   "outputs": [],
   "source": [
    "# photometric_interpretation values\n",
    "meta.loc[meta['tags']==('0028','0004'),'value'].value_counts()"
   ]
  },
  {
   "cell_type": "code",
   "execution_count": null,
   "metadata": {},
   "outputs": [],
   "source": [
    "# transfer_syntax_uid\n",
    "meta.loc[meta['tags']==('0002','0010'),'value'].value_counts()"
   ]
  },
  {
   "cell_type": "code",
   "execution_count": null,
   "metadata": {},
   "outputs": [],
   "source": [
    "# number_of_frames\n",
    "number_of_frames = meta.loc[meta['tags']==('0028','0008'),'value'].astype('int')\n",
    "number_of_frames.value_counts(bins=20)"
   ]
  },
  {
   "cell_type": "code",
   "execution_count": null,
   "metadata": {},
   "outputs": [],
   "source": [
    "#region_spatial_format\n",
    "meta.loc[meta['tags']==('0018','6012'),'value'].value_counts()"
   ]
  }
 ],
 "metadata": {
  "kernelspec": {
   "display_name": "dssg",
   "language": "python",
   "name": "dssg"
  },
  "language_info": {
   "codemirror_mode": {
    "name": "ipython",
    "version": 3
   },
   "file_extension": ".py",
   "mimetype": "text/x-python",
   "name": "python",
   "nbconvert_exporter": "python",
   "pygments_lexer": "ipython3",
   "version": "3.7.3"
  }
 },
 "nbformat": 4,
 "nbformat_minor": 2
}
