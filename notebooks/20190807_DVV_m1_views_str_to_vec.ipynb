{
 "cells": [
  {
   "cell_type": "code",
   "execution_count": 3,
   "metadata": {},
   "outputs": [],
   "source": [
    "import sys\n",
    "\n",
    "sys.path.append('../src')\n",
    "\n",
    "from d00_utils.db_utils import dbReadWriteViews"
   ]
  },
  {
   "cell_type": "code",
   "execution_count": 8,
   "metadata": {},
   "outputs": [
    {
     "data": {
      "text/html": [
       "<div>\n",
       "<style scoped>\n",
       "    .dataframe tbody tr th:only-of-type {\n",
       "        vertical-align: middle;\n",
       "    }\n",
       "\n",
       "    .dataframe tbody tr th {\n",
       "        vertical-align: top;\n",
       "    }\n",
       "\n",
       "    .dataframe thead th {\n",
       "        text-align: right;\n",
       "    }\n",
       "</style>\n",
       "<table border=\"1\" class=\"dataframe\">\n",
       "  <thead>\n",
       "    <tr style=\"text-align: right;\">\n",
       "      <th></th>\n",
       "      <th>sopinstanceuid</th>\n",
       "      <th>filename</th>\n",
       "      <th>instanceidk</th>\n",
       "      <th>view</th>\n",
       "      <th>studyidk</th>\n",
       "    </tr>\n",
       "  </thead>\n",
       "  <tbody>\n",
       "    <tr>\n",
       "      <th>0</th>\n",
       "      <td>1.2.840.113663.1500.1.365900332.3.4.20120703.9...</td>\n",
       "      <td>8Z0BWX0M</td>\n",
       "      <td>696109</td>\n",
       "      <td>plax</td>\n",
       "      <td>39531</td>\n",
       "    </tr>\n",
       "    <tr>\n",
       "      <th>1</th>\n",
       "      <td>1.2.840.113663.1500.1.365900332.3.7.20120703.9...</td>\n",
       "      <td>8Z0BWZGH</td>\n",
       "      <td>696112</td>\n",
       "      <td>a4c</td>\n",
       "      <td>39531</td>\n",
       "    </tr>\n",
       "    <tr>\n",
       "      <th>2</th>\n",
       "      <td>1.2.840.113663.1500.1.365900332.3.1.20120703.9...</td>\n",
       "      <td>8Z0BXKCB</td>\n",
       "      <td>696140</td>\n",
       "      <td>plax</td>\n",
       "      <td>39533</td>\n",
       "    </tr>\n",
       "    <tr>\n",
       "      <th>3</th>\n",
       "      <td>1.2.840.113663.1500.1.365900332.3.14.20120703....</td>\n",
       "      <td>8Z0BXYUW</td>\n",
       "      <td>696157</td>\n",
       "      <td>plax</td>\n",
       "      <td>39533</td>\n",
       "    </tr>\n",
       "    <tr>\n",
       "      <th>4</th>\n",
       "      <td>1.2.840.113663.1500.1.365900332.3.8.20120704.9...</td>\n",
       "      <td>8ZGVB44R</td>\n",
       "      <td>696422</td>\n",
       "      <td>plax</td>\n",
       "      <td>39552</td>\n",
       "    </tr>\n",
       "  </tbody>\n",
       "</table>\n",
       "</div>"
      ],
      "text/plain": [
       "                                      sopinstanceuid  filename  instanceidk  \\\n",
       "0  1.2.840.113663.1500.1.365900332.3.4.20120703.9...  8Z0BWX0M       696109   \n",
       "1  1.2.840.113663.1500.1.365900332.3.7.20120703.9...  8Z0BWZGH       696112   \n",
       "2  1.2.840.113663.1500.1.365900332.3.1.20120703.9...  8Z0BXKCB       696140   \n",
       "3  1.2.840.113663.1500.1.365900332.3.14.20120703....  8Z0BXYUW       696157   \n",
       "4  1.2.840.113663.1500.1.365900332.3.8.20120704.9...  8ZGVB44R       696422   \n",
       "\n",
       "   view  studyidk  \n",
       "0  plax     39531  \n",
       "1   a4c     39531  \n",
       "2  plax     39533  \n",
       "3  plax     39533  \n",
       "4  plax     39552  "
      ]
     },
     "execution_count": 8,
     "metadata": {},
     "output_type": "execute_result"
    }
   ],
   "source": [
    "io_views = dbReadWriteViews()\n",
    "\n",
    "df = io_views.get_table('instances_w_labels')\n",
    "df.head()"
   ]
  },
  {
   "cell_type": "code",
   "execution_count": 25,
   "metadata": {},
   "outputs": [],
   "source": [
    "## want a function which, given filename, returns one-hot vector\n",
    "# first need to strip filename string to get only \"filename\"\n",
    "# from that, get view\n",
    "# from that, make one-hot encoded vector (mapping?)\n",
    "\n",
    "def get_onehot_vector(filename_str):\n",
    "\n",
    "    filename = filename_str.split('_')[2].split('.')[0]\n",
    "    filename = '8Z0BWX0M' # TODO: delete this line!\n",
    "    df_row = df[df['filename']==filename]\n",
    "    label = df_row['view'].tolist()[0]\n",
    "\n",
    "    vec = [0] * 23\n",
    "    mapping = {'plax': 1, 'a2c': 8, 'a4c': 14}\n",
    "    idx = mapping[label]\n",
    "    vec[idx] = 1\n",
    "    \n",
    "    return vec"
   ]
  },
  {
   "cell_type": "code",
   "execution_count": 26,
   "metadata": {},
   "outputs": [
    {
     "name": "stdout",
     "output_type": "stream",
     "text": [
      "[0, 1, 0, 0, 0, 0, 0, 0, 0, 0, 0, 0, 0, 0, 0, 0, 0, 0, 0, 0, 0, 0, 0]\n"
     ]
    }
   ],
   "source": [
    "get_onehot_vector(test_str)"
   ]
  },
  {
   "cell_type": "code",
   "execution_count": null,
   "metadata": {},
   "outputs": [],
   "source": []
  }
 ],
 "metadata": {
  "kernelspec": {
   "display_name": "Python 3",
   "language": "python",
   "name": "python3"
  },
  "language_info": {
   "codemirror_mode": {
    "name": "ipython",
    "version": 3
   },
   "file_extension": ".py",
   "mimetype": "text/x-python",
   "name": "python",
   "nbconvert_exporter": "python",
   "pygments_lexer": "ipython3",
   "version": "3.6.5"
  }
 },
 "nbformat": 4,
 "nbformat_minor": 2
}
