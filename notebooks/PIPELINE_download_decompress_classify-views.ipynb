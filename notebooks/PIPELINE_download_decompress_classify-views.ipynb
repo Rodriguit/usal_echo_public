{
 "cells": [
  {
   "cell_type": "markdown",
   "metadata": {},
   "source": [
    "# Manual pipeline for DCM download, decompress and classification of views"
   ]
  },
  {
   "cell_type": "code",
   "execution_count": 1,
   "metadata": {},
   "outputs": [],
   "source": [
    "import os\n",
    "import sys\n",
    "import pandas as pd\n",
    "\n",
    "projectdir = os.path.dirname(os.getcwd())\n",
    "sys.path.append(os.path.join(projectdir, 'src'))\n",
    "\n",
    "import d00_utils.db_utils as db\n",
    "from d02_intermediate.download_dcm import s3_download_decomp_dcm, dcmdir_to_jpgs_for_classification\n",
    "from d03_classification.predict_views import run_classify, agg_probabilities, predict_views"
   ]
  },
  {
   "cell_type": "code",
   "execution_count": 2,
   "metadata": {},
   "outputs": [],
   "source": [
    "table_name='instances_w_labels'\n",
    "train_test_ratio=0.5 \n",
    "downsample_ratio=0.001\n",
    "train=False\n",
    "#to get train_split100, set configs 1.0, 0.05, train=True\n",
    "\n",
    "dcm_path = os.path.join(os.path.expanduser('~/data'),'01_raw')\n",
    "\n",
    "#model_path = os.path.join(os.path.expanduser('~/models'), 'view_23_e5_class_11-Mar-2018')\n",
    "new_mod_direc = '~/dvv/usal_echo/src/d03_classification/echo_deeplearning/models/vgg_13/m1_usal/train/0'\n",
    "new_mod_name = 'model.ckpt-3200'\n",
    "model_path = os.path.join(os.path.expanduser(new_mod_direc), new_mod_name)"
   ]
  },
  {
   "cell_type": "code",
   "execution_count": 3,
   "metadata": {},
   "outputs": [],
   "source": [
    "#dir_name = s3_download_decomp_dcm(dcm_path, table_name, train_test_ratio, downsample_ratio, train)\n",
    "\n",
    "dir_name = 'test_downsampleby5/'\n",
    "#dir_name = 'test_split50_downsampleby1000'"
   ]
  },
  {
   "cell_type": "code",
   "execution_count": 4,
   "metadata": {},
   "outputs": [],
   "source": [
    "dcm_dir = os.path.join(dcm_path, dir_name)\n",
    "img_dir = os.path.join(os.path.expanduser('~/data'),'02_intermediate', dir_name)\n",
    "\n",
    "dcmdir_to_jpgs_for_classification(dcm_dir, img_dir)"
   ]
  },
  {
   "cell_type": "code",
   "execution_count": 5,
   "metadata": {},
   "outputs": [
    {
     "name": "stdout",
     "output_type": "stream",
     "text": [
      "\n",
      "WARNING: The TensorFlow contrib module will not be included in TensorFlow 2.0.\n",
      "For more information, please see:\n",
      "  * https://github.com/tensorflow/community/blob/master/rfcs/20180907-contrib-sunset.md\n",
      "  * https://github.com/tensorflow/addons\n",
      "If you depend on functionality not listed there, please file an issue.\n",
      "\n",
      "INFO:tensorflow:Scale of 0 disables regularizer.\n",
      "WARNING:tensorflow:From /home/ubuntu/anaconda3/envs/usal_echo/lib/python3.6/site-packages/tensorflow/python/framework/op_def_library.py:263: colocate_with (from tensorflow.python.framework.ops) is deprecated and will be removed in a future version.\n",
      "Instructions for updating:\n",
      "Colocations handled automatically by placer.\n",
      "INFO:tensorflow:Scale of 0 disables regularizer.\n",
      "INFO:tensorflow:Scale of 0 disables regularizer.\n",
      "INFO:tensorflow:Scale of 0 disables regularizer.\n",
      "INFO:tensorflow:Scale of 0 disables regularizer.\n",
      "INFO:tensorflow:Scale of 0 disables regularizer.\n",
      "INFO:tensorflow:Scale of 0 disables regularizer.\n",
      "INFO:tensorflow:Scale of 0 disables regularizer.\n",
      "INFO:tensorflow:Scale of 0 disables regularizer.\n",
      "INFO:tensorflow:Scale of 0 disables regularizer.\n",
      "INFO:tensorflow:Scale of 0 disables regularizer.\n",
      "INFO:tensorflow:Scale of 0 disables regularizer.\n",
      "INFO:tensorflow:Scale of 0 disables regularizer.\n",
      "WARNING:tensorflow:From /home/ubuntu/anaconda3/envs/usal_echo/lib/python3.6/site-packages/tensorflow/contrib/layers/python/layers/layers.py:1624: flatten (from tensorflow.python.layers.core) is deprecated and will be removed in a future version.\n",
      "Instructions for updating:\n",
      "Use keras.layers.flatten instead.\n",
      "INFO:tensorflow:Scale of 0 disables regularizer.\n",
      "WARNING:tensorflow:From /home/ubuntu/dvv/usal_echo/src/d03_classification/nn.py:125: calling dropout (from tensorflow.python.ops.nn_ops) with keep_prob is deprecated and will be removed in a future version.\n",
      "Instructions for updating:\n",
      "Please use `rate` instead of `keep_prob`. Rate should be set to `rate = 1 - keep_prob`.\n",
      "INFO:tensorflow:Scale of 0 disables regularizer.\n",
      "INFO:tensorflow:Scale of 0 disables regularizer.\n",
      "WARNING:tensorflow:From /home/ubuntu/dvv/usal_echo/src/d03_classification/vgg.py:24: softmax_cross_entropy_with_logits (from tensorflow.python.ops.nn_ops) is deprecated and will be removed in a future version.\n",
      "Instructions for updating:\n",
      "\n",
      "Future major versions of TensorFlow will allow gradients to flow\n",
      "into the labels input on backprop by default.\n",
      "\n",
      "See `tf.nn.softmax_cross_entropy_with_logits_v2`.\n",
      "\n",
      "INFO:tensorflow:Scale of 0 disables regularizer.\n",
      "INFO:tensorflow:Scale of 0 disables regularizer.\n",
      "INFO:tensorflow:Scale of 0 disables regularizer.\n",
      "INFO:tensorflow:Scale of 0 disables regularizer.\n",
      "INFO:tensorflow:Scale of 0 disables regularizer.\n",
      "INFO:tensorflow:Scale of 0 disables regularizer.\n",
      "INFO:tensorflow:Scale of 0 disables regularizer.\n",
      "INFO:tensorflow:Scale of 0 disables regularizer.\n",
      "INFO:tensorflow:Scale of 0 disables regularizer.\n",
      "INFO:tensorflow:Scale of 0 disables regularizer.\n",
      "INFO:tensorflow:Scale of 0 disables regularizer.\n",
      "INFO:tensorflow:Scale of 0 disables regularizer.\n",
      "INFO:tensorflow:Scale of 0 disables regularizer.\n",
      "INFO:tensorflow:Scale of 0 disables regularizer.\n",
      "INFO:tensorflow:Scale of 0 disables regularizer.\n",
      "INFO:tensorflow:Scale of 0 disables regularizer.\n",
      "INFO:tensorflow:Scale of 0 disables regularizer.\n",
      "INFO:tensorflow:Scale of 0 disables regularizer.\n",
      "INFO:tensorflow:Scale of 0 disables regularizer.\n",
      "INFO:tensorflow:Scale of 0 disables regularizer.\n",
      "INFO:tensorflow:Scale of 0 disables regularizer.\n",
      "INFO:tensorflow:Scale of 0 disables regularizer.\n",
      "INFO:tensorflow:Scale of 0 disables regularizer.\n",
      "INFO:tensorflow:Scale of 0 disables regularizer.\n",
      "INFO:tensorflow:Scale of 0 disables regularizer.\n",
      "INFO:tensorflow:Scale of 0 disables regularizer.\n",
      "INFO:tensorflow:Scale of 0 disables regularizer.\n",
      "INFO:tensorflow:Scale of 0 disables regularizer.\n",
      "INFO:tensorflow:Scale of 0 disables regularizer.\n",
      "INFO:tensorflow:Scale of 0 disables regularizer.\n",
      "INFO:tensorflow:Scale of 0 disables regularizer.\n",
      "INFO:tensorflow:Scale of 0 disables regularizer.\n",
      "INFO:tensorflow:Scale of 0 disables regularizer.\n",
      "INFO:tensorflow:Scale of 0 disables regularizer.\n",
      "INFO:tensorflow:Scale of 0 disables regularizer.\n",
      "INFO:tensorflow:Scale of 0 disables regularizer.\n",
      "INFO:tensorflow:Scale of 0 disables regularizer.\n",
      "INFO:tensorflow:Scale of 0 disables regularizer.\n",
      "INFO:tensorflow:Scale of 0 disables regularizer.\n",
      "INFO:tensorflow:Scale of 0 disables regularizer.\n",
      "INFO:tensorflow:Scale of 0 disables regularizer.\n",
      "INFO:tensorflow:Scale of 0 disables regularizer.\n",
      "INFO:tensorflow:Scale of 0 disables regularizer.\n",
      "INFO:tensorflow:Scale of 0 disables regularizer.\n",
      "INFO:tensorflow:Scale of 0 disables regularizer.\n",
      "INFO:tensorflow:Scale of 0 disables regularizer.\n",
      "INFO:tensorflow:Scale of 0 disables regularizer.\n",
      "INFO:tensorflow:Scale of 0 disables regularizer.\n",
      "WARNING:tensorflow:From /home/ubuntu/anaconda3/envs/usal_echo/lib/python3.6/site-packages/tensorflow/python/training/saver.py:1272: checkpoint_exists (from tensorflow.python.training.checkpoint_management) is deprecated and will be removed in a future version.\n",
      "Instructions for updating:\n",
      "Use standard file APIs to check for files with this prefix.\n",
      "INFO:tensorflow:Restoring parameters from /home/ubuntu/models/view_23_e5_class_11-Mar-2018\n"
     ]
    },
    {
     "name": "stderr",
     "output_type": "stream",
     "text": [
      "/home/ubuntu/anaconda3/envs/usal_echo/lib/python3.6/site-packages/psycopg2/__init__.py:144: UserWarning: The psycopg2 wheel package will be renamed from release 2.8; in order to keep installing from binary please use \"pip install psycopg2-binary\" instead. For details see: <http://initd.org/psycopg/docs/install.html#binary-install-from-pypi>.\n",
      "  \"\"\")\n"
     ]
    }
   ],
   "source": [
    "run_classify(img_dir, model_path, if_exists='replace', feature_dim=1)"
   ]
  },
  {
   "cell_type": "code",
   "execution_count": 6,
   "metadata": {},
   "outputs": [],
   "source": [
    "agg_probabilities(if_exists='replace')"
   ]
  },
  {
   "cell_type": "code",
   "execution_count": 7,
   "metadata": {},
   "outputs": [],
   "source": [
    "predict_views(if_exists='replace')"
   ]
  },
  {
   "cell_type": "code",
   "execution_count": 8,
   "metadata": {},
   "outputs": [
    {
     "name": "stdout",
     "output_type": "stream",
     "text": [
      "['probabilities_frames', 'predictions', 'probabilities_instances', 'test1000_for_m1', 'evaluations', 'ground_truths', 'test1000_for_m2_m3']\n"
     ]
    }
   ],
   "source": [
    "io_class = db.dbReadWriteClassification()\n",
    "io_class.list_tables()"
   ]
  },
  {
   "cell_type": "code",
   "execution_count": 9,
   "metadata": {},
   "outputs": [
    {
     "name": "stdout",
     "output_type": "stream",
     "text": [
      "(1036, 8)\n"
     ]
    },
    {
     "data": {
      "text/html": [
       "<div>\n",
       "<style scoped>\n",
       "    .dataframe tbody tr th:only-of-type {\n",
       "        vertical-align: middle;\n",
       "    }\n",
       "\n",
       "    .dataframe tbody tr th {\n",
       "        vertical-align: top;\n",
       "    }\n",
       "\n",
       "    .dataframe thead th {\n",
       "        text-align: right;\n",
       "    }\n",
       "</style>\n",
       "<table border=\"1\" class=\"dataframe\">\n",
       "  <thead>\n",
       "    <tr style=\"text-align: right;\">\n",
       "      <th></th>\n",
       "      <th>study_id</th>\n",
       "      <th>file_name</th>\n",
       "      <th>model_name</th>\n",
       "      <th>date_run</th>\n",
       "      <th>view23_pred</th>\n",
       "      <th>view4_dev</th>\n",
       "      <th>view4_seg</th>\n",
       "      <th>prediction_id</th>\n",
       "    </tr>\n",
       "  </thead>\n",
       "  <tbody>\n",
       "    <tr>\n",
       "      <th>0</th>\n",
       "      <td>43763</td>\n",
       "      <td>a_43763_1LHFYKEZ</td>\n",
       "      <td>view_23_e5_class_11-Mar-2018</td>\n",
       "      <td>2019-08-14 14:06:23.830776</td>\n",
       "      <td>a4c</td>\n",
       "      <td>a4c</td>\n",
       "      <td>a4c</td>\n",
       "      <td>1</td>\n",
       "    </tr>\n",
       "    <tr>\n",
       "      <th>1</th>\n",
       "      <td>45076</td>\n",
       "      <td>a_45076_43IX4IH1</td>\n",
       "      <td>view_23_e5_class_11-Mar-2018</td>\n",
       "      <td>2019-08-14 14:06:23.830776</td>\n",
       "      <td>plax_plax</td>\n",
       "      <td>plax</td>\n",
       "      <td>plax</td>\n",
       "      <td>2</td>\n",
       "    </tr>\n",
       "    <tr>\n",
       "      <th>2</th>\n",
       "      <td>46919</td>\n",
       "      <td>a_46919_7SQZPLEJ</td>\n",
       "      <td>view_23_e5_class_11-Mar-2018</td>\n",
       "      <td>2019-08-14 14:06:23.830776</td>\n",
       "      <td>a4c</td>\n",
       "      <td>a4c</td>\n",
       "      <td>a4c</td>\n",
       "      <td>3</td>\n",
       "    </tr>\n",
       "    <tr>\n",
       "      <th>3</th>\n",
       "      <td>49268</td>\n",
       "      <td>a_49268_CSTYB214</td>\n",
       "      <td>view_23_e5_class_11-Mar-2018</td>\n",
       "      <td>2019-08-14 14:06:23.830776</td>\n",
       "      <td>plax_plax</td>\n",
       "      <td>plax</td>\n",
       "      <td>plax</td>\n",
       "      <td>4</td>\n",
       "    </tr>\n",
       "    <tr>\n",
       "      <th>4</th>\n",
       "      <td>50521</td>\n",
       "      <td>a_50521_EAKXA40T</td>\n",
       "      <td>view_23_e5_class_11-Mar-2018</td>\n",
       "      <td>2019-08-14 14:06:23.830776</td>\n",
       "      <td>a4c</td>\n",
       "      <td>a4c</td>\n",
       "      <td>a4c</td>\n",
       "      <td>5</td>\n",
       "    </tr>\n",
       "  </tbody>\n",
       "</table>\n",
       "</div>"
      ],
      "text/plain": [
       "   study_id         file_name                    model_name  \\\n",
       "0     43763  a_43763_1LHFYKEZ  view_23_e5_class_11-Mar-2018   \n",
       "1     45076  a_45076_43IX4IH1  view_23_e5_class_11-Mar-2018   \n",
       "2     46919  a_46919_7SQZPLEJ  view_23_e5_class_11-Mar-2018   \n",
       "3     49268  a_49268_CSTYB214  view_23_e5_class_11-Mar-2018   \n",
       "4     50521  a_50521_EAKXA40T  view_23_e5_class_11-Mar-2018   \n",
       "\n",
       "                     date_run view23_pred view4_dev view4_seg  prediction_id  \n",
       "0  2019-08-14 14:06:23.830776         a4c       a4c       a4c              1  \n",
       "1  2019-08-14 14:06:23.830776   plax_plax      plax      plax              2  \n",
       "2  2019-08-14 14:06:23.830776         a4c       a4c       a4c              3  \n",
       "3  2019-08-14 14:06:23.830776   plax_plax      plax      plax              4  \n",
       "4  2019-08-14 14:06:23.830776         a4c       a4c       a4c              5  "
      ]
     },
     "execution_count": 9,
     "metadata": {},
     "output_type": "execute_result"
    }
   ],
   "source": [
    "df = io_class.get_table('predictions')\n",
    "print(df.shape)\n",
    "df.head()"
   ]
  },
  {
   "cell_type": "code",
   "execution_count": null,
   "metadata": {},
   "outputs": [],
   "source": []
  }
 ],
 "metadata": {
  "kernelspec": {
   "display_name": "Environment (conda_usal_echo)",
   "language": "python",
   "name": "conda_usal_echo"
  },
  "language_info": {
   "codemirror_mode": {
    "name": "ipython",
    "version": 3
   },
   "file_extension": ".py",
   "mimetype": "text/x-python",
   "name": "python",
   "nbconvert_exporter": "python",
   "pygments_lexer": "ipython3",
   "version": "3.6.5"
  }
 },
 "nbformat": 4,
 "nbformat_minor": 2
}
