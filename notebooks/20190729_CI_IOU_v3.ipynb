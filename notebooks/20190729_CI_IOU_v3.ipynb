{
 "cells": [
  {
   "cell_type": "markdown",
   "metadata": {},
   "source": [
    "# Development of the IOU functionality "
   ]
  },
  {
   "cell_type": "code",
   "execution_count": null,
   "metadata": {},
   "outputs": [],
   "source": [
    "import sys\n",
    "import os\n",
    "project_dir = os.path.dirname(os.getcwd())\n",
    "sys.path.append(project_dir) #notebooks can't look into source unless you append the parent project directory to the path\n",
    "print(project_dir)"
   ]
  },
  {
   "cell_type": "code",
   "execution_count": null,
   "metadata": {},
   "outputs": [],
   "source": [
    "def calc_iou(gt, pred):\n",
    "    gt_bool = np.array(gt, dtype=bool)\n",
    "    pred_bool = np.array(pred, dtype=bool)\n",
    "\n",
    "    overlap = gt_bool*pred_bool # Logical AND\n",
    "    union = gt_bool + pred_bool # Logical OR\n",
    "\n",
    "    IOU = float(overlap.sum())/float(union.sum())\n",
    "    \n",
    "    return IOU"
   ]
  },
  {
   "cell_type": "code",
   "execution_count": null,
   "metadata": {},
   "outputs": [],
   "source": [
    "import numpy as np\n",
    "import pandas as pd\n",
    "import datetime\n",
    "import matplotlib.pyplot as plt \n",
    "from scipy.misc import imresize\n",
    "import skimage"
   ]
  },
  {
   "cell_type": "code",
   "execution_count": null,
   "metadata": {},
   "outputs": [],
   "source": [
    "from src.d00_utils.db_utils import dbReadWriteViews"
   ]
  },
  {
   "cell_type": "code",
   "execution_count": null,
   "metadata": {},
   "outputs": [],
   "source": [
    "io_views = dbReadWriteViews()"
   ]
  },
  {
   "cell_type": "code",
   "execution_count": null,
   "metadata": {},
   "outputs": [],
   "source": [
    "table = io_views.get_table('frames_by_volume_mask')"
   ]
  },
  {
   "cell_type": "code",
   "execution_count": null,
   "metadata": {},
   "outputs": [],
   "source": [
    "file_lookup = io_views.get_table('instances_unique_master_list')\n",
    "file_lookup.head()"
   ]
  },
  {
   "cell_type": "code",
   "execution_count": null,
   "metadata": {},
   "outputs": [],
   "source": [
    "table_filenames = pd.merge(table, file_lookup, how='left', on =['instanceidk', 'studyidk'])\n",
    "table_filenames.head()"
   ]
  },
  {
   "cell_type": "code",
   "execution_count": null,
   "metadata": {},
   "outputs": [],
   "source": [
    "instance_id_list = io_views.get_table('instances_with_labels_scrappy100') #this is the list of 100 study ids from Dave\n",
    "instance_id_list = instance_id_list.instanceidk\n",
    "print(instance_id_list.shape)\n",
    "\n",
    "print('check orginal number of instances in table with filenames')\n",
    "print(table_filenames.instanceidk.nunique())"
   ]
  },
  {
   "cell_type": "code",
   "execution_count": null,
   "metadata": {},
   "outputs": [],
   "source": [
    "#Filter the table_filenames table to only include these 100 studies\n",
    "table_filenames_filtered_100 = table_filenames[table_filenames['instanceidk'].isin(instance_id_list)]"
   ]
  },
  {
   "cell_type": "code",
   "execution_count": null,
   "metadata": {},
   "outputs": [],
   "source": [
    "table_filenames_filtered_100 = table_filenames_filtered_100[table_filenames_filtered_100.view_exists == True]"
   ]
  },
  {
   "cell_type": "code",
   "execution_count": null,
   "metadata": {},
   "outputs": [],
   "source": [
    "print(table_filenames_filtered_100.instanceidk.nunique())\n",
    "print(table_filenames_filtered_100.shape)\n",
    "table_filenames_filtered_100.head()"
   ]
  },
  {
   "cell_type": "code",
   "execution_count": null,
   "metadata": {},
   "outputs": [],
   "source": [
    "print(table_filenames_filtered_100.shape)\n",
    "table_filenames_filtered_100.view_name.value_counts()"
   ]
  },
  {
   "cell_type": "code",
   "execution_count": null,
   "metadata": {
    "scrolled": true
   },
   "outputs": [],
   "source": [
    "table_filenames_filtered_100['instanceidk'].count()"
   ]
  },
  {
   "cell_type": "code",
   "execution_count": null,
   "metadata": {},
   "outputs": [],
   "source": [
    "# go through each of the views and select the:\n",
    "# gt file (think about convention)\n",
    "# match to pred file frame chamber\n",
    "\n",
    "table_filenames_filtered_100['iou_score'] = ''\n",
    "\n",
    "for i in table_filenames_filtered_100.index:\n",
    "    #ground truth\n",
    "    fileno = str(table_filenames_filtered_100.at[i, 'instancefilename'])\n",
    "    frame = table_filenames_filtered_100.at[i, 'frame']\n",
    "    view = table_filenames_filtered_100.at[i, 'view_only']\n",
    "    chamber = table_filenames_filtered_100.at[i, 'ventricle_only']\n",
    "    instance = table_filenames_filtered_100.at[i, 'instanceidk']\n",
    "    study = table_filenames_filtered_100.at[i, 'studyidk']\n",
    "       \n",
    "    #convert chamber to the right format\n",
    "    if chamber == 'ven':\n",
    "        chamber = 'lv'\n",
    "    if chamber == 'atr':\n",
    "        chamber = 'la'\n",
    "        \n",
    "    gt_filename = str('a_' + str(fileno) + '.dcm_'+ str(frame) + '_' + chamber + '_gt.npy')\n",
    "    gt_path = str('/home/yoni_nachmany/dicom_image_classification/notebooks/masks/{}'.format(gt_filename))\n",
    "    \n",
    "    gt = np.load(gt_path)\n",
    "    gt = skimage.transform.resize(gt, (384,384))\n",
    "    \n",
    "    #find corresponding prediction\n",
    "    pred_filename = str('a_' + str(study) + '_' + str(fileno) + '.dcm_' + chamber + '.npy')\n",
    "    pred_path = str('/home/courtney_irwin/dicom_image_classification/notebooks/segments/{}/{}'.format(view, pred_filename))\n",
    "\n",
    "    try:\n",
    "        pred = np.load(pred_path)\n",
    "        pred_frame = pred[frame,:,:] # selecting only the frame with the relevant gt\n",
    "        score = calc_iou(gt, pred_frame)\n",
    "        table_filenames_filtered_100.at[i, 'iou_score'] = score\n",
    "        print('IOU score added: {}'.format(score))\n",
    "        \n",
    "        plt.figure()\n",
    "        plt.subplot(1, 2, 1)\n",
    "        plt.imshow(gt)\n",
    "        plt.title('GT {} {}'.format(view, chamber))\n",
    "        plt.subplot(1, 2, 2)\n",
    "        plt.imshow(pred_frame)\n",
    "        plt.title('Pred {} {} IOU Score {}'.format(view, chamber, round(score,2)))\n",
    "    except:\n",
    "        print(\"Oops!\",sys.exc_info()[0],\"occured.  File {} doesn't exist\".format(pred_path))\n",
    "        print()"
   ]
  },
  {
   "cell_type": "code",
   "execution_count": null,
   "metadata": {},
   "outputs": [],
   "source": [
    "table_filenames_filtered_100.iou_score = table_filenames_filtered_100.iou_score.replace('', np.nan)\n",
    "\n",
    "print(\"Number of files tested: {}\".format(table_filenames_filtered_100.instanceidk.count()))\n",
    "print(\"Number of files found: {}\" .format(table_filenames_filtered_100.iou_score.count()))\n",
    "print(\"Average IOU: {}\".format(round(table_filenames_filtered_100.iou_score.mean(), 2)))"
   ]
  },
  {
   "cell_type": "code",
   "execution_count": null,
   "metadata": {},
   "outputs": [],
   "source": [
    "table_filenames_filtered_100"
   ]
  },
  {
   "cell_type": "code",
   "execution_count": null,
   "metadata": {},
   "outputs": [],
   "source": [
    "# for now, write out a csv with results\n",
    "project_dir = os.path.dirname(os.getcwd())\n",
    "data_dir = os.path.join(project_dir, \"notebooks\", \"seg_testing\")\n",
    "\n",
    "if not os.path.exists(data_dir):\n",
    "    os.makedirs(data_dir)\n",
    "\n",
    "time_stamp = datetime.date.today()\n",
    "file_name = 'scappy_100_w_mdl_probs_test' + str(time_stamp) + '.txt'\n",
    "data_path = os.path.join(data_dir, file_name)\n",
    "\n",
    "table_filenames_filtered_100.to_csv (data_path, index = None, header=True) "
   ]
  },
  {
   "cell_type": "code",
   "execution_count": null,
   "metadata": {},
   "outputs": [],
   "source": []
  }
 ],
 "metadata": {
  "kernelspec": {
   "display_name": "dssg",
   "language": "python",
   "name": "dssg"
  },
  "language_info": {
   "codemirror_mode": {
    "name": "ipython",
    "version": 3
   },
   "file_extension": ".py",
   "mimetype": "text/x-python",
   "name": "python",
   "nbconvert_exporter": "python",
   "pygments_lexer": "ipython3",
   "version": "3.7.3"
  }
 },
 "nbformat": 4,
 "nbformat_minor": 2
}
