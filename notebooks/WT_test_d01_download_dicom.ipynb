{
 "cells": [
  {
   "cell_type": "markdown",
   "metadata": {},
   "source": [
    "# Notebook to test download of dicom images\n",
    "*author: Wiebke Toussaint*"
   ]
  },
  {
   "cell_type": "code",
   "execution_count": null,
   "metadata": {},
   "outputs": [],
   "source": [
    "import os\n",
    "import sys\n",
    "import pandas as pd\n",
    "import numpy as np\n",
    "import boto3\n",
    "import tempfile\n",
    "from time import time\n",
    "\n",
    "projectdir = os.path.dirname(os.getcwd())\n",
    "sys.path.append(os.path.join(projectdir,'src'))\n",
    "\n",
    "from d01_data.ingestion_xtdb import ingest_xtdb\n",
    "from d02_intermediate.clean_xtdb import *\n",
    "from d00_utils.db_utils import *\n",
    "from d00_utils.s3_utils import *\n",
    "from d00_utils.dcm_utils import decompress_dcm\n",
    "\n",
    "db_table = 'metadata'\n",
    "credentials_file = os.path.join(os.path.expanduser('~'), '.psql_credentials.json')"
   ]
  },
  {
   "cell_type": "code",
   "execution_count": null,
   "metadata": {},
   "outputs": [],
   "source": [
    "io_views = dbReadWriteViews()\n",
    "io_views.list_tables()"
   ]
  },
  {
   "cell_type": "code",
   "execution_count": null,
   "metadata": {},
   "outputs": [],
   "source": [
    "def extract_imgs_from_dicom(bucket, prefix='', suffix='.dcm', outdir=None):\n",
    "    \"\"\"\n",
    "    Get all the keys with a specific suffix from a s3 bucket.\n",
    "\n",
    "    :param bucket: Name of the S3 bucket.\n",
    "    :param prefix: Only fetch objects whose key starts with this prefix (optional).\n",
    "    :param suffix: Only fetch objects whose keys end with this suffix, default='dcm'\n",
    "    :return: list of keys\n",
    "    \"\"\"\n",
    "    s3 = boto3.client('s3')\n",
    "\n",
    "    keys = []\n",
    "    kwargs = {'Bucket': bucket}\n",
    "\n",
    "    os.makedirs(outdir, exist_ok=True)\n",
    "\n",
    "    if isinstance(prefix, str):\n",
    "        kwargs['Prefix'] = prefix\n",
    "\n",
    "    while True:\n",
    "        resp = s3.list_objects_v2(**kwargs)\n",
    "        try:\n",
    "            for obj in resp['Contents']:\n",
    "                if obj['Key'].startswith(prefix) and obj['Key'].endswith(suffix):\n",
    "                    keys.append(obj['Key'])\n",
    "                    s3.download_file(bucket, obj['Key'], os.path.join(outdir, 'a_' + ''.join(prefix.split('/a')) + '.dcm'))\n",
    "        except:\n",
    "            print(prefix, 'DOWNLOAD ERROR')\n",
    "        \n",
    "        try:\n",
    "            kwargs['ContinuationToken'] = resp['NextContinuationToken']\n",
    "        \n",
    "        except KeyError:\n",
    "            break\n",
    "\n",
    "    return"
   ]
  },
  {
   "cell_type": "markdown",
   "metadata": {},
   "source": [
    "### Download Sample Dicom Images"
   ]
  },
  {
   "cell_type": "code",
   "execution_count": null,
   "metadata": {},
   "outputs": [],
   "source": [
    "instances = io_views.get_table('instances_w_labels_test_downsampleby5')\n",
    "prefix = instances['studyidk'].astype(str) + '/a_' + instances['filename'].astype(str)\n",
    "filenames = 'a_' + instances['studyidk'].astype(str) + '_' + instances['filename'].astype(str) + '.dcm'\n",
    "download_dict = dict(zip(prefix, filenames))\n",
    "datadir = os.path.expanduser('/home/ubuntu/data/01_raw/test_downsampleby5')\n",
    "raw_datadir = os.path.join(datadir, 'raw')"
   ]
  },
  {
   "cell_type": "code",
   "execution_count": null,
   "metadata": {},
   "outputs": [],
   "source": [
    "for p in list(download_dict.keys()):\n",
    "    tmpfile = extract_imgs_from_dicom('cibercv', prefix=p, suffix='.dcm', outdir=datadir)\n",
    "    dcm_filepath=os.path.join(datadir, download_dict[p])\n",
    "    dcm_rawfilepath=os.path.join(raw_datadir,download_dict[p]+'_raw')\n",
    "    decompress_dcm(dcm_filepath, dcm_rawfilepath)"
   ]
  },
  {
   "cell_type": "code",
   "execution_count": null,
   "metadata": {
    "scrolled": false
   },
   "outputs": [],
   "source": [
    "s3 = boto3.client('s3')\n",
    "\n",
    "keys = []\n",
    "kwargs = {'Bucket': 'cibercv'}\n",
    "\n",
    "tmp = tempfile.NamedTemporaryFile()\n",
    "\n",
    "# os.makedirs(outdir, exist_ok=True)\n",
    "\n",
    "if isinstance(prefix, str):\n",
    "    kwargs['Prefix'] = p\n",
    "while True:\n",
    "    resp = s3.list_objects_v2(**kwargs)\n",
    "    try:\n",
    "        for obj in resp['Contents']:\n",
    "            if obj['Key'].startswith(p) and obj['Key'].endswith(suffix):\n",
    "                print(obj['Key'])\n",
    "                keys.append(obj['Key'])\n",
    "                s3.download_file(bucket, obj['Key'], tmp.name) #os.path.join(outdir, 'a_' + ''.join(prefix.split('/a')) + '.dcm'))\n",
    "    except:\n",
    "        print(p, 'DOWNLOAD ERROR')\n",
    "\n",
    "    try:\n",
    "        kwargs['ContinuationToken'] = resp['NextContinuationToken']\n",
    "\n",
    "    except KeyError:\n",
    "        break\n",
    "\n",
    "tmp.name"
   ]
  },
  {
   "cell_type": "code",
   "execution_count": null,
   "metadata": {},
   "outputs": [],
   "source": []
  }
 ],
 "metadata": {
  "kernelspec": {
   "display_name": "Environment (conda_usal_echo)",
   "language": "python",
   "name": "conda_usal_echo"
  },
  "language_info": {
   "codemirror_mode": {
    "name": "ipython",
    "version": 3
   },
   "file_extension": ".py",
   "mimetype": "text/x-python",
   "name": "python",
   "nbconvert_exporter": "python",
   "pygments_lexer": "ipython3",
   "version": "3.6.5"
  }
 },
 "nbformat": 4,
 "nbformat_minor": 2
}
