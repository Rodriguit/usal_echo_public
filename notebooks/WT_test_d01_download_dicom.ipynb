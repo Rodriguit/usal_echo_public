{
 "cells": [
  {
   "cell_type": "markdown",
   "metadata": {},
   "source": [
    "# Notebook to test download of dicom images\n",
    "*author: Wiebke Toussaint*"
   ]
  },
  {
   "cell_type": "code",
   "execution_count": null,
   "metadata": {},
   "outputs": [],
   "source": [
    "import os\n",
    "import sys\n",
    "import pandas as pd\n",
    "import numpy as np\n",
    "import boto3\n",
    "import tempfile\n",
    "from time import time\n",
    "\n",
    "projectdir = os.path.dirname(os.getcwd())\n",
    "sys.path.append(os.path.join(projectdir,'src'))\n",
    "\n",
    "from d01_data.ingestion_xtdb import ingest_xtdb\n",
    "from d02_intermediate.clean_xtdb import *\n",
    "#from d00_utils.db_utils import *\n",
    "#from d00_utils.s3_utils import *\n",
    "from d02_intermediate.dcm_utils import decompress_dcm\n",
    "from d00_utils.log_utils import get_logs\n",
    "\n",
    "db_table = 'metadata'\n",
    "credentials_file = os.path.join(os.path.expanduser('~'), '.psql_credentials.json')"
   ]
  },
  {
   "cell_type": "code",
   "execution_count": null,
   "metadata": {},
   "outputs": [],
   "source": [
    "io_views = dbReadWriteViews()\n",
    "io_views.list_tables()"
   ]
  },
  {
   "cell_type": "markdown",
   "metadata": {},
   "source": [
    "### Download Sample Dicom Images"
   ]
  },
  {
   "cell_type": "code",
   "execution_count": null,
   "metadata": {},
   "outputs": [],
   "source": [
    "instances = io_views.get_table('instances_w_labels_test_downsampleby5')\n",
    "prefix = instances['studyidk'].astype(str) + '/a_' + instances['filename'].astype(str)\n",
    "filenames = 'a_' + instances['studyidk'].astype(str) + '_' + instances['filename'].astype(str) + '.dcm'\n",
    "\n",
    "download_dict = dict(zip(prefix, filenames))"
   ]
  },
  {
   "cell_type": "code",
   "execution_count": null,
   "metadata": {},
   "outputs": [],
   "source": [
    "datadir = os.path.expanduser('/home/ubuntu/data/01_raw/test_downsampleby5')\n",
    "raw_datadir = os.path.join(datadir, 'raw')\n",
    "\n",
    "for p in list(download_dict.keys()):\n",
    "    dcm_filepath=os.path.join(datadir, download_dict[p])\n",
    "    dcm_rawfilepath=os.path.join(raw_datadir, download_dict[p]+'_raw')\n",
    "   \n",
    "    download_s3_objects('cibercv', outfile=dcm_filepath, prefix=p, suffix='.dcm') \n",
    "    decompress_dcm(dcm_filepath, dcm_rawfilepath)"
   ]
  },
  {
   "cell_type": "code",
   "execution_count": null,
   "metadata": {},
   "outputs": [],
   "source": [
    "get_logs('d01_data', 'ERROR')"
   ]
  },
  {
   "cell_type": "code",
   "execution_count": null,
   "metadata": {},
   "outputs": [],
   "source": [
    "def download_dcm_images():"
   ]
  }
 ],
 "metadata": {
  "kernelspec": {
   "display_name": "Environment (conda_usal_echo)",
   "language": "python",
   "name": "conda_usal_echo"
  },
  "language_info": {
   "codemirror_mode": {
    "name": "ipython",
    "version": 3
   },
   "file_extension": ".py",
   "mimetype": "text/x-python",
   "name": "python",
   "nbconvert_exporter": "python",
   "pygments_lexer": "ipython3",
   "version": "3.6.5"
  }
 },
 "nbformat": 4,
 "nbformat_minor": 2
}
