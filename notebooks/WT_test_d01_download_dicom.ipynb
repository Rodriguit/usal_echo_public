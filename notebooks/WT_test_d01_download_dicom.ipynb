{
 "cells": [
  {
   "cell_type": "markdown",
   "metadata": {},
   "source": [
    "# Notebook to test download of dicom images\n",
    "*author: Wiebke Toussaint*"
   ]
  },
  {
   "cell_type": "code",
   "execution_count": null,
   "metadata": {},
   "outputs": [],
   "source": [
    "import os\n",
    "import sys\n",
    "import pandas as pd\n",
    "import numpy as np\n",
    "import boto3\n",
    "import tempfile\n",
    "from time import time\n",
    "\n",
    "projectdir = os.path.dirname(os.getcwd())\n",
    "sys.path.append(os.path.join(projectdir,'src'))\n",
    "\n",
    "from d01_data.ingestion_xtdb import ingest_xtdb\n",
    "from d02_intermediate.clean_xtdb import *\n",
    "from d00_utils.db_utils import *\n",
    "from d00_utils.s3_utils import *\n",
    "\n",
    "db_table = 'metadata'\n",
    "credentials_file = os.path.join(os.path.expanduser('~'), '.psql_credentials.json')"
   ]
  },
  {
   "cell_type": "code",
   "execution_count": null,
   "metadata": {},
   "outputs": [],
   "source": [
    "io_views = dbReadWriteViews()\n",
    "io_views.list_tables()"
   ]
  },
  {
   "cell_type": "code",
   "execution_count": null,
   "metadata": {},
   "outputs": [],
   "source": [
    "def extract_imgs_from_dicom(bucket, prefix='', suffix='.dcm', outdir=None):\n",
    "    \"\"\"\n",
    "    Get all the keys with a specific suffix from a s3 bucket.\n",
    "\n",
    "    :param bucket: Name of the S3 bucket.\n",
    "    :param prefix: Only fetch objects whose key starts with this prefix (optional).\n",
    "    :param suffix: Only fetch objects whose keys end with this suffix, default='dcm'\n",
    "    :return: list of keys\n",
    "    \"\"\"\n",
    "    s3 = boto3.client('s3')\n",
    "\n",
    "    keys = []\n",
    "    kwargs = {'Bucket': bucket}\n",
    "\n",
    "    os.makedirs(outdir, exist_ok=True)\n",
    "\n",
    "    if isinstance(prefix, str):\n",
    "        kwargs['Prefix'] = prefix\n",
    "\n",
    "    while True:\n",
    "        resp = s3.list_objects_v2(**kwargs)\n",
    "        try:\n",
    "            for obj in resp['Contents']:\n",
    "                if obj['Key'].startswith(prefix) and obj['Key'].endswith(suffix):\n",
    "                    keys.append(obj['Key'])\n",
    "                    s3.download_file(bucket, obj['Key'], os.path.join(outdir, \n",
    "                                                                      'a_' + ''.join(p.split('/a')) + '.dcm'))\n",
    "        except:\n",
    "            print(prefix, 'DOWNLOAD ERROR')\n",
    "        \n",
    "        try:\n",
    "            kwargs['ContinuationToken'] = resp['NextContinuationToken']\n",
    "        \n",
    "        except KeyError:\n",
    "            break\n",
    "\n",
    "    return keys"
   ]
  },
  {
   "cell_type": "markdown",
   "metadata": {},
   "source": [
    "### Download Sample Dicom Images"
   ]
  },
  {
   "cell_type": "code",
   "execution_count": null,
   "metadata": {},
   "outputs": [],
   "source": [
    "instances_with_labels_scrappy100 = io_views.get_table('instances_with_labels_scrappy100')\n",
    "instances_labeled_other_scrappy100 = io_views.get_table('instances_labeled_other_scrappy100')\n",
    "\n",
    "prefix_labelled = instances_with_labels_scrappy100['studyidk'].astype(str) + '/a_' + instances_with_labels_scrappy100['instancefilename'].astype(str)\n",
    "prefix_other = instances_labeled_other_scrappy100['studyidk'].astype(str) + '/a_' + instances_labeled_other_scrappy100['instancefilename'].astype(str)\n",
    "\n",
    "lablelled_datadir = os.path.expanduser('/home/ubuntu/data/01_raw/dcm_sample_labelled')\n",
    "other_datadir = os.path.expanduser('/home/ubuntu/data/01_raw/dcm_sample_other')"
   ]
  },
  {
   "cell_type": "code",
   "execution_count": null,
   "metadata": {},
   "outputs": [],
   "source": [
    "for p in prefix_labelled.values:\n",
    "    extract_imgs_from_dicom('cibercv', prefix=p, suffix='.dcm', outdir=lablelled_datadir)\n",
    "    \n",
    "for p in prefix_other.values:\n",
    "    extract_imgs_from_dicom('cibercv', prefix=p, suffix='.dcm', outdir=other_datadir)"
   ]
  }
 ],
 "metadata": {
  "kernelspec": {
   "display_name": "Environment (conda_usal_echo)",
   "language": "python",
   "name": "conda_usal_echo"
  },
  "language_info": {
   "codemirror_mode": {
    "name": "ipython",
    "version": 3
   },
   "file_extension": ".py",
   "mimetype": "text/x-python",
   "name": "python",
   "nbconvert_exporter": "python",
   "pygments_lexer": "ipython3",
   "version": "3.6.5"
  }
 },
 "nbformat": 4,
 "nbformat_minor": 2
}
