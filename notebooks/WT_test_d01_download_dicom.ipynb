{
 "cells": [
  {
   "cell_type": "code",
   "execution_count": null,
   "metadata": {},
   "outputs": [],
   "source": [
    "import os\n",
    "import sys\n",
    "import pandas as pd\n",
    "import numpy as np\n",
    "import boto3\n",
    "import tempfile\n",
    "from time import time\n",
    "\n",
    "projectdir = os.path.dirname(os.getcwd())\n",
    "sys.path.append(os.path.join(projectdir,'src'))\n",
    "\n",
    "from d01_data.ingestion_xtdb import ingest_xtdb\n",
    "from d02_intermediate.clean_xtdb import *\n",
    "from d00_utils.db_utils import *\n",
    "from d00_utils.s3_utils import *\n",
    "\n",
    "db_table = 'metadata'\n",
    "credentials_file = os.path.join(os.path.expanduser('~'), '.psql_credentials.json')"
   ]
  },
  {
   "cell_type": "code",
   "execution_count": null,
   "metadata": {},
   "outputs": [],
   "source": [
    "io_views = dbReadWriteViews()\n",
    "io_views.list_tables()"
   ]
  },
  {
   "cell_type": "code",
   "execution_count": null,
   "metadata": {},
   "outputs": [],
   "source": [
    "instances_with_labels_scrappy100 = io_views.get_table('instances_with_labels_scrappy100')\n",
    "instances_with_labels_scrappy100.head()"
   ]
  },
  {
   "cell_type": "code",
   "execution_count": null,
   "metadata": {},
   "outputs": [],
   "source": [
    "instances_labeled_other_scrappy100 = io_views.get_table('instances_labeled_other_scrappy100')\n",
    "instances_labeled_other_scrappy100.head()"
   ]
  },
  {
   "cell_type": "code",
   "execution_count": null,
   "metadata": {},
   "outputs": [],
   "source": [
    "prefix_labelled = instances_with_labels_scrappy100['studyidk'].astype(str) + '/a_' + instances_with_labels_scrappy100['instancefilename'].astype(str)"
   ]
  },
  {
   "cell_type": "code",
   "execution_count": null,
   "metadata": {},
   "outputs": [],
   "source": [
    "prefix_other = instances_labeled_other_scrappy100['studyidk'].astype(str) + '/a_' + instances_labeled_other_scrappy100['instancefilename'].astype(str)"
   ]
  },
  {
   "cell_type": "code",
   "execution_count": null,
   "metadata": {},
   "outputs": [],
   "source": [
    "def extract_imgs_from_dicom(bucket, prefix='', suffix='.dcm', outdir=None):\n",
    "    \"\"\"\n",
    "    Get all the keys with a specific suffix from a s3 bucket.\n",
    "\n",
    "    :param bucket: Name of the S3 bucket.\n",
    "    :param prefix: Only fetch objects whose key starts with this prefix (optional).\n",
    "    :param suffix: Only fetch objects whose keys end with this suffix, default='dcm'\n",
    "    :return: list of keys\n",
    "    \"\"\"\n",
    "    s3 = boto3.client('s3')\n",
    "\n",
    "    keys = []\n",
    "    kwargs = {'Bucket': bucket}\n",
    "\n",
    "#    data_dir = os.path.join(projectdir, 'data', '01_raw','dicom_images')\n",
    "#    os.makedirs(data_dir, exist_ok=True)\n",
    "    os.makedirs(outdir, exist_ok=True)\n",
    "\n",
    "    if isinstance(prefix, str):\n",
    "        kwargs['Prefix'] = prefix\n",
    "\n",
    "    while True:\n",
    "        resp = s3.list_objects_v2(**kwargs)\n",
    "        try:\n",
    "            for obj in resp['Contents']:\n",
    "                if obj['Key'].startswith(prefix) and obj['Key'].endswith(suffix):\n",
    "                    keys.append(obj['Key'])\n",
    "\n",
    "    #                outrawfilename = prefix.split('/')[1]+'_raw'\n",
    "\n",
    "                    # Download and convert dicom file to raw format\n",
    "    #                tmp = tempfile.NamedTemporaryFile()\n",
    "    #                s3.download_file(bucket, obj['Key'], tmp.name)\n",
    "    #                os.system('gdcmconv -w ' + tmp.name + \" \" + os.path.join(data_dir, outrawfilename))\n",
    "\n",
    "                    s3.download_file(bucket, obj['Key'], os.path.join(lablelled_datadir, \n",
    "                                                                      'a_' + ''.join(p.split('/a')) + '.dcm'))\n",
    "        except:\n",
    "            print(prefix, 'DOWNLOAD ERROR')\n",
    "        \n",
    "        try:\n",
    "            kwargs['ContinuationToken'] = resp['NextContinuationToken']\n",
    "        except KeyError:\n",
    "            break\n",
    "\n",
    "    return keys"
   ]
  },
  {
   "cell_type": "code",
   "execution_count": null,
   "metadata": {},
   "outputs": [],
   "source": [
    "lablelled_datadir = os.path.expanduser('/home/ubuntu/data/01_raw/dcm_sample_labelled')\n",
    "lablelled_datadir"
   ]
  },
  {
   "cell_type": "code",
   "execution_count": null,
   "metadata": {},
   "outputs": [],
   "source": [
    "other_datadir = os.path.expanduser('/home/ubuntu/data/01_raw/dcm_sample_other')"
   ]
  },
  {
   "cell_type": "code",
   "execution_count": null,
   "metadata": {},
   "outputs": [],
   "source": [
    "for p in prefix_labelled.values:\n",
    "    print(os.path.join(lablelled_datadir,  'a_' + ''.join(p.split('/a')) + '.dcm'))\n",
    "    extract_imgs_from_dicom('cibercv', prefix=p, suffix='.dcm', outdir=lablelled_datadir)"
   ]
  },
  {
   "cell_type": "code",
   "execution_count": null,
   "metadata": {},
   "outputs": [],
   "source": [
    "for p in prefix_other.values:\n",
    "    print(os.path.join(other_datadir, 'a_' + ''.join(p.split('/a')) + '.dcm'))\n",
    "    extract_imgs_from_dicom('cibercv', prefix=p, suffix='.dcm', outdir=other_datadir)"
   ]
  },
  {
   "cell_type": "code",
   "execution_count": null,
   "metadata": {},
   "outputs": [],
   "source": [
    "for f in get_matching_s3_keys('cibercv', '81864'): print(f)"
   ]
  },
  {
   "cell_type": "code",
   "execution_count": null,
   "metadata": {},
   "outputs": [],
   "source": []
  }
 ],
 "metadata": {
  "kernelspec": {
   "display_name": "dssg",
   "language": "python",
   "name": "dssg"
  },
  "language_info": {
   "codemirror_mode": {
    "name": "ipython",
    "version": 3
   },
   "file_extension": ".py",
   "mimetype": "text/x-python",
   "name": "python",
   "nbconvert_exporter": "python",
   "pygments_lexer": "ipython3",
   "version": "3.7.3"
  }
 },
 "nbformat": 4,
 "nbformat_minor": 2
}
