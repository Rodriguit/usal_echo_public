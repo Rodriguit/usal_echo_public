{
 "cells": [
  {
   "cell_type": "markdown",
   "metadata": {},
   "source": [
    "# Noteboook for testing view classification"
   ]
  },
  {
   "cell_type": "code",
   "execution_count": null,
   "metadata": {},
   "outputs": [],
   "source": [
    "import sys\n",
    "import os\n",
    "import pandas as pd\n",
    "import datetime\n",
    "import numpy as np\n",
    "\n",
    "projectdir = os.path.dirname(os.getcwd())\n",
    "sys.path.append(os.path.join(projectdir, 'src'))\n",
    "\n",
    "from d00_utils.db_utils import dbReadWriteClassification, dbReadWriteViews\n",
    "import d02_intermediate.download_dcm as download_dcm\n",
    "from d02_intermediate.dcm_utils import dcmdir_to_jpgs_for_classification\n",
    "import d03_classification.predict_views as predict_views\n",
    "\n",
    "\n",
    "import random\n",
    "\n",
    "from d00_utils.db_utils import dbReadWriteViews\n",
    "from d00_utils.s3_utils import download_s3_objects\n",
    "from d02_intermediate.dcm_utils import decompress_dcm\n",
    "from d00_utils.log_utils import setup_logging\n",
    "logger = setup_logging(__name__, __name__)\n"
   ]
  },
  {
   "cell_type": "code",
   "execution_count": null,
   "metadata": {},
   "outputs": [],
   "source": [
    "downsample_ratio = 0.05\n",
    "train_test_ratio = 0\n",
    "table_name = 'instances_w_labels_train'\n",
    "train = False"
   ]
  },
  {
   "cell_type": "code",
   "execution_count": null,
   "metadata": {},
   "outputs": [],
   "source": [
    "dcm_dir_suffix = download_dcm.s3_download_decomp_dcm(table_name, train_test_ratio, downsample_ratio, train)"
   ]
  },
  {
   "cell_type": "code",
   "execution_count": null,
   "metadata": {},
   "outputs": [],
   "source": [
    "dcm_dir = os.path.join(os.path.expanduser('~/data/01_raw/'), dcm_dir_suffix)\n",
    "img_dir = os.path.join(os.path.expanduser('~/data/02_intermediate/'), dcm_dir_suffix)\n",
    "#dcmdir_to_jpgs_for_classification(dcm_dir, img_dir)"
   ]
  },
  {
   "cell_type": "code",
   "execution_count": null,
   "metadata": {},
   "outputs": [],
   "source": [
    "model_path = '/home/ubuntu/models/view_23_e5_class_11-Mar-2018'\n",
    "feature_dim = 1\n",
    "if_exists='replace'\n",
    "predictions = predict_views.run_classify(img_dir, model_path, if_exists, feature_dim)"
   ]
  },
  {
   "cell_type": "code",
   "execution_count": null,
   "metadata": {},
   "outputs": [],
   "source": [
    "io_classification = dbReadWriteClassification()\n",
    "io_classification.list_tables()"
   ]
  },
  {
   "cell_type": "code",
   "execution_count": null,
   "metadata": {},
   "outputs": [],
   "source": [
    "df = io_classification.get_table('predictions')\n",
    "df.head()"
   ]
  },
  {
   "cell_type": "code",
   "execution_count": null,
   "metadata": {},
   "outputs": [],
   "source": [
    "predict_views.agg_predictions()"
   ]
  },
  {
   "cell_type": "code",
   "execution_count": null,
   "metadata": {},
   "outputs": [],
   "source": [
    "#to overwrite existing predictions table\n",
    "#io_classification.save_to_db(df.iloc[:0,:-1], \"predictions\", if_exists=\"replace\")"
   ]
  },
  {
   "cell_type": "code",
   "execution_count": null,
   "metadata": {},
   "outputs": [],
   "source": [
    "io_classification.raw_conn.rollback() #to reset after error"
   ]
  },
  {
   "cell_type": "code",
   "execution_count": null,
   "metadata": {},
   "outputs": [],
   "source": []
  }
 ],
 "metadata": {
  "kernelspec": {
   "display_name": "Environment (conda_usal_echo)",
   "language": "python",
   "name": "conda_usal_echo"
  },
  "language_info": {
   "codemirror_mode": {
    "name": "ipython",
    "version": 3
   },
   "file_extension": ".py",
   "mimetype": "text/x-python",
   "name": "python",
   "nbconvert_exporter": "python",
   "pygments_lexer": "ipython3",
   "version": "3.6.5"
  }
 },
 "nbformat": 4,
 "nbformat_minor": 2
}
