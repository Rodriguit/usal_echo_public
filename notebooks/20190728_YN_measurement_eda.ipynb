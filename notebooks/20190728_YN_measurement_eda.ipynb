{
 "cells": [
  {
   "cell_type": "code",
   "execution_count": 1,
   "metadata": {},
   "outputs": [],
   "source": [
    "%reload_ext autoreload\n",
    "%autoreload 2\n",
    "%matplotlib inline"
   ]
  },
  {
   "cell_type": "code",
   "execution_count": 2,
   "metadata": {},
   "outputs": [],
   "source": [
    "import numpy as np\n",
    "import pandas as pd\n",
    "import matplotlib.pyplot as plt"
   ]
  },
  {
   "cell_type": "code",
   "execution_count": 3,
   "metadata": {},
   "outputs": [],
   "source": [
    "import sys\n",
    "sys.path.append('../src')"
   ]
  },
  {
   "cell_type": "code",
   "execution_count": 4,
   "metadata": {},
   "outputs": [],
   "source": [
    "from d00_utils.db_utils import dbReadWriteClean\n",
    "io_clean = dbReadWriteClean()"
   ]
  },
  {
   "cell_type": "code",
   "execution_count": 5,
   "metadata": {},
   "outputs": [],
   "source": [
    "def plot_group_by_size_histogram(df, column, name):\n",
    "    counts = df.groupby(column).size()\n",
    "    print(counts.describe())\n",
    "    plt.title(f'Counts of {name}')\n",
    "    plt.xlabel('Number')\n",
    "    plt.ylabel('Counts')\n",
    "    counts = plt.hist(counts.values, bins=20)\n",
    "    return counts[0]"
   ]
  },
  {
   "cell_type": "code",
   "execution_count": 6,
   "metadata": {},
   "outputs": [
    {
     "name": "stdout",
     "output_type": "stream",
     "text": [
      "(1568351, 5)\n"
     ]
    },
    {
     "data": {
      "text/html": [
       "<div>\n",
       "<style scoped>\n",
       "    .dataframe tbody tr th:only-of-type {\n",
       "        vertical-align: middle;\n",
       "    }\n",
       "\n",
       "    .dataframe tbody tr th {\n",
       "        vertical-align: top;\n",
       "    }\n",
       "\n",
       "    .dataframe thead th {\n",
       "        text-align: right;\n",
       "    }\n",
       "</style>\n",
       "<table border=\"1\" class=\"dataframe\">\n",
       "  <thead>\n",
       "    <tr style=\"text-align: right;\">\n",
       "      <th></th>\n",
       "      <th>studyidk</th>\n",
       "      <th>measabstractnumber</th>\n",
       "      <th>name</th>\n",
       "      <th>value</th>\n",
       "      <th>unitname</th>\n",
       "    </tr>\n",
       "  </thead>\n",
       "  <tbody>\n",
       "    <tr>\n",
       "      <th>0</th>\n",
       "      <td>2882</td>\n",
       "      <td>2</td>\n",
       "      <td>(P1/2t)AVM</td>\n",
       "      <td>2.491754</td>\n",
       "      <td>cm2</td>\n",
       "    </tr>\n",
       "    <tr>\n",
       "      <th>1</th>\n",
       "      <td>2882</td>\n",
       "      <td>12</td>\n",
       "      <td>Area TSVI</td>\n",
       "      <td>3.606348</td>\n",
       "      <td>cm2</td>\n",
       "    </tr>\n",
       "    <tr>\n",
       "      <th>2</th>\n",
       "      <td>2882</td>\n",
       "      <td>43</td>\n",
       "      <td>FE(el-ps4)</td>\n",
       "      <td>37.032087</td>\n",
       "      <td>%</td>\n",
       "    </tr>\n",
       "    <tr>\n",
       "      <th>3</th>\n",
       "      <td>2882</td>\n",
       "      <td>46</td>\n",
       "      <td>FE(MDD-ps4)</td>\n",
       "      <td>35.095355</td>\n",
       "      <td>%</td>\n",
       "    </tr>\n",
       "    <tr>\n",
       "      <th>4</th>\n",
       "      <td>2882</td>\n",
       "      <td>125</td>\n",
       "      <td>P1/2t VM</td>\n",
       "      <td>88.291224</td>\n",
       "      <td>ms</td>\n",
       "    </tr>\n",
       "  </tbody>\n",
       "</table>\n",
       "</div>"
      ],
      "text/plain": [
       "   studyidk  measabstractnumber         name      value unitname\n",
       "0      2882                   2   (P1/2t)AVM   2.491754      cm2\n",
       "1      2882                  12    Area TSVI   3.606348      cm2\n",
       "2      2882                  43   FE(el-ps4)  37.032087        %\n",
       "3      2882                  46  FE(MDD-ps4)  35.095355        %\n",
       "4      2882                 125     P1/2t VM  88.291224       ms"
      ]
     },
     "execution_count": 6,
     "metadata": {},
     "output_type": "execute_result"
    }
   ],
   "source": [
    "measurement_abstract_rpt_df = io_clean.get_table('measurement_abstract_rpt')\n",
    "print(measurement_abstract_rpt_df.shape)\n",
    "measurement_abstract_rpt_df.head()"
   ]
  },
  {
   "cell_type": "code",
   "execution_count": 7,
   "metadata": {},
   "outputs": [
    {
     "data": {
      "text/plain": [
       "ASC                        22447\n",
       "Altura (unidad métrica)    21505\n",
       "Peso (unidad métrica)      21478\n",
       "IMC                        21447\n",
       "ASC (Haycock)              21438\n",
       "Vmáx V2 Ao                 20828\n",
       "GP máx Ao                  20827\n",
       "DVItd                      20623\n",
       "VTD(Teich)                 20623\n",
       "VTD(cúbico)                20613\n",
       "SIVtd                      20548\n",
       "PPVItd                     20430\n",
       "DSIV/DPPVI                 20309\n",
       "Masa VI(C)td               20297\n",
       "Vmáx E VM                  19978\n",
       "Masa VI (C)ltd             18560\n",
       "Grosor relativo pared      17856\n",
       "Vmáx A VM                  17617\n",
       "E/A VM                     17581\n",
       "VTD(MDD-ps4)               17547\n",
       "DVItd ap4                  17519\n",
       "VTS(MDD-ps4)               17239\n",
       "FE(MDD-ps4)                17228\n",
       "VS(MDD-ps4)                17224\n",
       "DVIts ap4                  17211\n",
       "VTD(el-ps4)                16665\n",
       "AVItd ap4                  16664\n",
       "AVIts ap4                  16354\n",
       "VTS(el-ps4)                16354\n",
       "VS(el-ps4)                 16338\n",
       "                           ...  \n",
       "Tmsv 6-DIF (ms)                1\n",
       "IC(VM 1 diám)                  1\n",
       "Tmsv 6-DIF (%)                 1\n",
       "E/A VT                         1\n",
       "Area VD td                     1\n",
       "Tmsv 16-DIF (ms)               1\n",
       "FAC VD                         1\n",
       "Tmsv 6-SD (ms)                 1\n",
       "GC(VM 1 diám)                  1\n",
       "Excursión VI: mín              1\n",
       "GP med AP (completo)           1\n",
       "Vmáx E VT                      1\n",
       "Tmsv 12-SD (ms)                1\n",
       "Tmsv 12-SD (%)                 1\n",
       "Diámetro de CIA                1\n",
       "Excursión VI: media            1\n",
       "Excursión VI: máx.             1\n",
       "Diám. TSVD proximal            1\n",
       "IVC Diam_phl                   1\n",
       "LA Length_phl                  1\n",
       "RA ESA_phl                     1\n",
       "RVIDd/LVIDd_phl                1\n",
       "Tmsv 6-SD (%)                  1\n",
       "Tmsv 16-SD (ms)                1\n",
       "Excursión VI: DesvEst          1\n",
       "Area VD ts                     1\n",
       "Tmsv 16-DIF (%)                1\n",
       "Vmáx A VT                      1\n",
       "Tmsv 12-DIF (ms)               1\n",
       "Tmsv 16-SD (%)                 1\n",
       "Name: name, Length: 362, dtype: int64"
      ]
     },
     "execution_count": 7,
     "metadata": {},
     "output_type": "execute_result"
    }
   ],
   "source": [
    "counts = measurement_abstract_rpt_df['name'].value_counts()\n",
    "counts"
   ]
  },
  {
   "cell_type": "code",
   "execution_count": 8,
   "metadata": {},
   "outputs": [
    {
     "data": {
      "text/plain": [
       "34"
      ]
     },
     "execution_count": 8,
     "metadata": {},
     "output_type": "execute_result"
    }
   ],
   "source": [
    "len(counts[counts==1])"
   ]
  },
  {
   "cell_type": "code",
   "execution_count": 9,
   "metadata": {},
   "outputs": [
    {
     "data": {
      "text/plain": [
       "70"
      ]
     },
     "execution_count": 9,
     "metadata": {},
     "output_type": "execute_result"
    }
   ],
   "source": [
    "len(counts[counts<10])"
   ]
  },
  {
   "cell_type": "code",
   "execution_count": 10,
   "metadata": {},
   "outputs": [
    {
     "name": "stdout",
     "output_type": "stream",
     "text": [
      "count    24912.000000\n",
      "mean        62.955644\n",
      "std         28.507088\n",
      "min          1.000000\n",
      "25%         42.000000\n",
      "50%         60.000000\n",
      "75%         84.000000\n",
      "max        146.000000\n",
      "dtype: float64\n"
     ]
    },
    {
     "data": {
      "text/plain": [
       "array([ 572.,  412.,  670., 1103., 2135., 2246., 2522., 2280., 2243.,\n",
       "       1826., 1757., 1723., 1715., 1138.,  873.,  901.,  558.,  177.,\n",
       "         46.,   15.])"
      ]
     },
     "execution_count": 10,
     "metadata": {},
     "output_type": "execute_result"
    },
    {
     "data": {
      "image/png": "[encoded data removed]",
      "text/plain": [
       "<Figure size 432x288 with 1 Axes>"
      ]
     },
     "metadata": {
      "needs_background": "light"
     },
     "output_type": "display_data"
    }
   ],
   "source": [
    "plot_group_by_size_histogram(measurement_abstract_rpt_df, 'studyidk', 'Reported Measurements Per Study')"
   ]
  },
  {
   "cell_type": "code",
   "execution_count": 11,
   "metadata": {},
   "outputs": [
    {
     "name": "stderr",
     "output_type": "stream",
     "text": [
      "/home/yoni_nachmany/.pyenv/versions/dssg/lib/python3.7/site-packages/IPython/core/interactiveshell.py:3214: DtypeWarning: Columns (8,9) have mixed types. Specify dtype option on import or set low_memory=False.\n",
      "  if (yield from self.run_code(code, result)):\n"
     ]
    },
    {
     "name": "stdout",
     "output_type": "stream",
     "text": [
      "(858255, 10)\n"
     ]
    },
    {
     "data": {
      "text/html": [
       "<div>\n",
       "<style scoped>\n",
       "    .dataframe tbody tr th:only-of-type {\n",
       "        vertical-align: middle;\n",
       "    }\n",
       "\n",
       "    .dataframe tbody tr th {\n",
       "        vertical-align: top;\n",
       "    }\n",
       "\n",
       "    .dataframe thead th {\n",
       "        text-align: right;\n",
       "    }\n",
       "</style>\n",
       "<table border=\"1\" class=\"dataframe\">\n",
       "  <thead>\n",
       "    <tr style=\"text-align: right;\">\n",
       "      <th></th>\n",
       "      <th>studyidk</th>\n",
       "      <th>measabstractnumber</th>\n",
       "      <th>meassequence</th>\n",
       "      <th>instanceidk</th>\n",
       "      <th>indexinmglist</th>\n",
       "      <th>value</th>\n",
       "      <th>howentered</th>\n",
       "      <th>srinstanceidk</th>\n",
       "      <th>imagesopinstanceuid</th>\n",
       "      <th>measurementuid</th>\n",
       "    </tr>\n",
       "  </thead>\n",
       "  <tbody>\n",
       "    <tr>\n",
       "      <th>0</th>\n",
       "      <td>2882</td>\n",
       "      <td>187</td>\n",
       "      <td>0</td>\n",
       "      <td>57164</td>\n",
       "      <td>0</td>\n",
       "      <td>28.242271</td>\n",
       "      <td>0</td>\n",
       "      <td></td>\n",
       "      <td></td>\n",
       "      <td></td>\n",
       "    </tr>\n",
       "    <tr>\n",
       "      <th>1</th>\n",
       "      <td>2882</td>\n",
       "      <td>188</td>\n",
       "      <td>0</td>\n",
       "      <td>57164</td>\n",
       "      <td>0</td>\n",
       "      <td>7.897812</td>\n",
       "      <td>0</td>\n",
       "      <td></td>\n",
       "      <td></td>\n",
       "      <td></td>\n",
       "    </tr>\n",
       "    <tr>\n",
       "      <th>2</th>\n",
       "      <td>2882</td>\n",
       "      <td>189</td>\n",
       "      <td>0</td>\n",
       "      <td>57164</td>\n",
       "      <td>0</td>\n",
       "      <td>85.725750</td>\n",
       "      <td>0</td>\n",
       "      <td></td>\n",
       "      <td></td>\n",
       "      <td></td>\n",
       "    </tr>\n",
       "    <tr>\n",
       "      <th>3</th>\n",
       "      <td>2882</td>\n",
       "      <td>190</td>\n",
       "      <td>0</td>\n",
       "      <td>57164</td>\n",
       "      <td>0</td>\n",
       "      <td>87.190031</td>\n",
       "      <td>0</td>\n",
       "      <td></td>\n",
       "      <td></td>\n",
       "      <td></td>\n",
       "    </tr>\n",
       "    <tr>\n",
       "      <th>4</th>\n",
       "      <td>2882</td>\n",
       "      <td>191</td>\n",
       "      <td>0</td>\n",
       "      <td>57164</td>\n",
       "      <td>1</td>\n",
       "      <td>36.654466</td>\n",
       "      <td>0</td>\n",
       "      <td></td>\n",
       "      <td></td>\n",
       "      <td></td>\n",
       "    </tr>\n",
       "  </tbody>\n",
       "</table>\n",
       "</div>"
      ],
      "text/plain": [
       "   studyidk  measabstractnumber  meassequence  instanceidk  indexinmglist  \\\n",
       "0      2882                 187             0        57164              0   \n",
       "1      2882                 188             0        57164              0   \n",
       "2      2882                 189             0        57164              0   \n",
       "3      2882                 190             0        57164              0   \n",
       "4      2882                 191             0        57164              1   \n",
       "\n",
       "       value  howentered srinstanceidk imagesopinstanceuid measurementuid  \n",
       "0  28.242271           0                                                   \n",
       "1   7.897812           0                                                   \n",
       "2  85.725750           0                                                   \n",
       "3  87.190031           0                                                   \n",
       "4  36.654466           0                                                   "
      ]
     },
     "execution_count": 11,
     "metadata": {},
     "output_type": "execute_result"
    }
   ],
   "source": [
    "measgraphref_df = io_clean.get_table('a_measgraphref')\n",
    "print(measgraphref_df.shape)\n",
    "measgraphref_df.head()"
   ]
  },
  {
   "cell_type": "code",
   "execution_count": 12,
   "metadata": {},
   "outputs": [
    {
     "data": {
      "text/plain": [
       "(823886, 10)"
      ]
     },
     "execution_count": 12,
     "metadata": {},
     "output_type": "execute_result"
    }
   ],
   "source": [
    "filtered_measgraphref_df = measgraphref_df[(measgraphref_df[\"instanceidk\"]!=-1) & (measgraphref_df[\"indexinmglist\"]!=-1)]\n",
    "filtered_measgraphref_df.shape"
   ]
  },
  {
   "cell_type": "code",
   "execution_count": 13,
   "metadata": {},
   "outputs": [
    {
     "data": {
      "text/plain": [
       "array([ 0,  1,  2,  3,  4,  5,  6,  7,  8,  9, 10, 11, 12, 14, 13, 15])"
      ]
     },
     "execution_count": 13,
     "metadata": {},
     "output_type": "execute_result"
    }
   ],
   "source": [
    "filtered_measgraphref_df['indexinmglist'].unique()"
   ]
  },
  {
   "cell_type": "code",
   "execution_count": 14,
   "metadata": {},
   "outputs": [
    {
     "data": {
      "text/plain": [
       "array([0, 3, 5])"
      ]
     },
     "execution_count": 14,
     "metadata": {},
     "output_type": "execute_result"
    }
   ],
   "source": [
    "filtered_measgraphref_df['howentered'].unique()"
   ]
  },
  {
   "cell_type": "code",
   "execution_count": 15,
   "metadata": {},
   "outputs": [
    {
     "data": {
      "text/plain": [
       "srinstanceidk          1885\n",
       "imagesopinstanceuid    1995\n",
       "measurementuid            0\n",
       "dtype: int64"
      ]
     },
     "execution_count": 15,
     "metadata": {},
     "output_type": "execute_result"
    }
   ],
   "source": [
    "(filtered_measgraphref_df.groupby('instanceidk').first()[['srinstanceidk', 'imagesopinstanceuid', 'measurementuid']]!=\"\").sum()"
   ]
  },
  {
   "cell_type": "code",
   "execution_count": 16,
   "metadata": {},
   "outputs": [
    {
     "name": "stdout",
     "output_type": "stream",
     "text": [
      "count    24471.000000\n",
      "mean        33.667852\n",
      "std         15.882193\n",
      "min          1.000000\n",
      "25%         22.000000\n",
      "50%         33.000000\n",
      "75%         44.000000\n",
      "max        148.000000\n",
      "dtype: float64\n"
     ]
    },
    {
     "data": {
      "text/plain": [
       "array([9.290e+02, 2.070e+03, 3.916e+03, 4.053e+03, 3.992e+03, 4.075e+03,\n",
       "       2.592e+03, 1.534e+03, 7.870e+02, 2.470e+02, 1.150e+02, 8.200e+01,\n",
       "       2.700e+01, 2.000e+01, 1.600e+01, 6.000e+00, 2.000e+00, 4.000e+00,\n",
       "       2.000e+00, 2.000e+00])"
      ]
     },
     "execution_count": 16,
     "metadata": {},
     "output_type": "execute_result"
    },
    {
     "data": {
      "image/png": "[encoded data removed]",
      "text/plain": [
       "<Figure size 432x288 with 1 Axes>"
      ]
     },
     "metadata": {
      "needs_background": "light"
     },
     "output_type": "display_data"
    }
   ],
   "source": [
    "plot_group_by_size_histogram(filtered_measgraphref_df, \"studyidk\", \"Graphical Measurements Per Study\")"
   ]
  },
  {
   "cell_type": "code",
   "execution_count": 17,
   "metadata": {},
   "outputs": [
    {
     "name": "stdout",
     "output_type": "stream",
     "text": [
      "count    254159.000000\n",
      "mean          3.241616\n",
      "std           2.722846\n",
      "min           1.000000\n",
      "25%           1.000000\n",
      "50%           2.000000\n",
      "75%           5.000000\n",
      "max          27.000000\n",
      "dtype: float64\n"
     ]
    },
    {
     "data": {
      "text/plain": [
       "array([1.50143e+05, 1.61750e+04, 1.69980e+04, 3.63450e+04, 4.61400e+03,\n",
       "       1.14700e+04, 1.51050e+04, 9.52000e+02, 4.71000e+02, 6.15000e+02,\n",
       "       9.30000e+02, 9.50000e+01, 9.00000e+01, 7.80000e+01, 7.00000e+01,\n",
       "       3.00000e+00, 4.00000e+00, 0.00000e+00, 0.00000e+00, 1.00000e+00])"
      ]
     },
     "execution_count": 17,
     "metadata": {},
     "output_type": "execute_result"
    },
    {
     "data": {
      "image/png": "[encoded data removed]",
      "text/plain": [
       "<Figure size 432x288 with 1 Axes>"
      ]
     },
     "metadata": {
      "needs_background": "light"
     },
     "output_type": "display_data"
    }
   ],
   "source": [
    "plot_group_by_size_histogram(filtered_measgraphref_df, \"instanceidk\", \"Graphical Measurements Per Instance\")"
   ]
  },
  {
   "cell_type": "code",
   "execution_count": 18,
   "metadata": {},
   "outputs": [],
   "source": [
    "grouped_measgraphref_df = filtered_measgraphref_df.groupby([\"studyidk\", \"instanceidk\"]).size().reset_index()"
   ]
  },
  {
   "cell_type": "code",
   "execution_count": 19,
   "metadata": {},
   "outputs": [
    {
     "name": "stdout",
     "output_type": "stream",
     "text": [
      "count    24471.000000\n",
      "mean        10.386131\n",
      "std          4.299754\n",
      "min          1.000000\n",
      "25%          7.000000\n",
      "50%         11.000000\n",
      "75%         13.000000\n",
      "max         33.000000\n",
      "dtype: float64\n"
     ]
    },
    {
     "data": {
      "text/plain": [
       "array([8.050e+02, 1.621e+03, 1.099e+03, 2.754e+03, 1.691e+03, 4.037e+03,\n",
       "       4.727e+03, 2.082e+03, 3.117e+03, 9.250e+02, 9.270e+02, 3.950e+02,\n",
       "       1.010e+02, 1.100e+02, 3.300e+01, 2.600e+01, 1.200e+01, 1.000e+00,\n",
       "       2.000e+00, 6.000e+00])"
      ]
     },
     "execution_count": 19,
     "metadata": {},
     "output_type": "execute_result"
    },
    {
     "data": {
      "image/png": "[encoded data removed]",
      "text/plain": [
       "<Figure size 432x288 with 1 Axes>"
      ]
     },
     "metadata": {
      "needs_background": "light"
     },
     "output_type": "display_data"
    }
   ],
   "source": [
    "plot_group_by_size_histogram(grouped_measgraphref_df, \"studyidk\", \"Instances Per Study\")"
   ]
  },
  {
   "cell_type": "code",
   "execution_count": 20,
   "metadata": {},
   "outputs": [],
   "source": [
    "grouped_measgraphref_df = filtered_measgraphref_df.groupby([\"instanceidk\", \"indexinmglist\"]).size().reset_index()"
   ]
  },
  {
   "cell_type": "code",
   "execution_count": 21,
   "metadata": {},
   "outputs": [
    {
     "name": "stdout",
     "output_type": "stream",
     "text": [
      "count    254159.000000\n",
      "mean          1.915765\n",
      "std           1.327393\n",
      "min           1.000000\n",
      "25%           1.000000\n",
      "50%           1.000000\n",
      "75%           2.000000\n",
      "max          16.000000\n",
      "dtype: float64\n"
     ]
    },
    {
     "data": {
      "text/plain": [
       "array([1.33315e+05, 6.56660e+04, 2.33010e+04, 0.00000e+00, 1.92670e+04,\n",
       "       5.57400e+03, 3.84800e+03, 0.00000e+00, 1.84400e+03, 9.43000e+02,\n",
       "       2.52000e+02, 0.00000e+00, 8.00000e+01, 3.80000e+01, 1.70000e+01,\n",
       "       0.00000e+00, 9.00000e+00, 2.00000e+00, 2.00000e+00, 1.00000e+00])"
      ]
     },
     "execution_count": 21,
     "metadata": {},
     "output_type": "execute_result"
    },
    {
     "data": {
      "image/png": "[encoded data removed]",
      "text/plain": [
       "<Figure size 432x288 with 1 Axes>"
      ]
     },
     "metadata": {
      "needs_background": "light"
     },
     "output_type": "display_data"
    }
   ],
   "source": [
    "plot_group_by_size_histogram(grouped_measgraphref_df, \"instanceidk\", \"Frames Per Instance\")"
   ]
  }
 ],
 "metadata": {
  "kernelspec": {
   "display_name": "dssg",
   "language": "python",
   "name": "dssg"
  },
  "language_info": {
   "codemirror_mode": {
    "name": "ipython",
    "version": 3
   },
   "file_extension": ".py",
   "mimetype": "text/x-python",
   "name": "python",
   "nbconvert_exporter": "python",
   "pygments_lexer": "ipython3",
   "version": "3.7.3"
  }
 },
 "nbformat": 4,
 "nbformat_minor": 2
}
