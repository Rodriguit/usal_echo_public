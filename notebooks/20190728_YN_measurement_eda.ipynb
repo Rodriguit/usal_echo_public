{
 "cells": [
  {
   "cell_type": "code",
   "execution_count": 1,
   "metadata": {},
   "outputs": [],
   "source": [
    "%reload_ext autoreload\n",
    "%autoreload 2\n",
    "%matplotlib inline"
   ]
  },
  {
   "cell_type": "code",
   "execution_count": 2,
   "metadata": {},
   "outputs": [],
   "source": [
    "import numpy as np\n",
    "import pandas as pd\n",
    "import matplotlib.pyplot as plt"
   ]
  },
  {
   "cell_type": "code",
   "execution_count": 3,
   "metadata": {},
   "outputs": [],
   "source": [
    "import sys\n",
    "sys.path.append('../src')"
   ]
  },
  {
   "cell_type": "code",
   "execution_count": 4,
   "metadata": {},
   "outputs": [],
   "source": [
    "from d00_utils.db_utils import dbReadWriteClean\n",
    "io_clean = dbReadWriteClean()"
   ]
  },
  {
   "cell_type": "code",
   "execution_count": 5,
   "metadata": {},
   "outputs": [],
   "source": [
    "def plot_group_by_size_histogram(df, column, name):\n",
    "    counts = df.groupby(column).size()\n",
    "    print(counts.describe())\n",
    "    plt.title(f'Counts of {name}')\n",
    "    plt.xlabel('Number')\n",
    "    plt.ylabel('Counts')\n",
    "    counts = plt.hist(counts.values, bins=20)\n",
    "    return counts[0]"
   ]
  },
  {
   "cell_type": "code",
   "execution_count": 6,
   "metadata": {},
   "outputs": [
    {
     "name": "stdout",
     "output_type": "stream",
     "text": [
      "(1568351, 5)\n"
     ]
    },
    {
     "data": {
      "text/html": [
       "<div>\n",
       "<style scoped>\n",
       "    .dataframe tbody tr th:only-of-type {\n",
       "        vertical-align: middle;\n",
       "    }\n",
       "\n",
       "    .dataframe tbody tr th {\n",
       "        vertical-align: top;\n",
       "    }\n",
       "\n",
       "    .dataframe thead th {\n",
       "        text-align: right;\n",
       "    }\n",
       "</style>\n",
       "<table border=\"1\" class=\"dataframe\">\n",
       "  <thead>\n",
       "    <tr style=\"text-align: right;\">\n",
       "      <th></th>\n",
       "      <th>studyidk</th>\n",
       "      <th>measabstractnumber</th>\n",
       "      <th>name</th>\n",
       "      <th>value</th>\n",
       "      <th>unitname</th>\n",
       "    </tr>\n",
       "  </thead>\n",
       "  <tbody>\n",
       "    <tr>\n",
       "      <th>0</th>\n",
       "      <td>2882</td>\n",
       "      <td>2</td>\n",
       "      <td>(P1/2t)AVM</td>\n",
       "      <td>2.491754</td>\n",
       "      <td>cm2</td>\n",
       "    </tr>\n",
       "    <tr>\n",
       "      <th>1</th>\n",
       "      <td>2882</td>\n",
       "      <td>12</td>\n",
       "      <td>Area TSVI</td>\n",
       "      <td>3.606348</td>\n",
       "      <td>cm2</td>\n",
       "    </tr>\n",
       "    <tr>\n",
       "      <th>2</th>\n",
       "      <td>2882</td>\n",
       "      <td>43</td>\n",
       "      <td>FE(el-ps4)</td>\n",
       "      <td>37.032087</td>\n",
       "      <td>%</td>\n",
       "    </tr>\n",
       "    <tr>\n",
       "      <th>3</th>\n",
       "      <td>2882</td>\n",
       "      <td>46</td>\n",
       "      <td>FE(MDD-ps4)</td>\n",
       "      <td>35.095355</td>\n",
       "      <td>%</td>\n",
       "    </tr>\n",
       "    <tr>\n",
       "      <th>4</th>\n",
       "      <td>2882</td>\n",
       "      <td>125</td>\n",
       "      <td>P1/2t VM</td>\n",
       "      <td>88.291224</td>\n",
       "      <td>ms</td>\n",
       "    </tr>\n",
       "  </tbody>\n",
       "</table>\n",
       "</div>"
      ],
      "text/plain": [
       "   studyidk  measabstractnumber         name      value unitname\n",
       "0      2882                   2   (P1/2t)AVM   2.491754      cm2\n",
       "1      2882                  12    Area TSVI   3.606348      cm2\n",
       "2      2882                  43   FE(el-ps4)  37.032087        %\n",
       "3      2882                  46  FE(MDD-ps4)  35.095355        %\n",
       "4      2882                 125     P1/2t VM  88.291224       ms"
      ]
     },
     "execution_count": 6,
     "metadata": {},
     "output_type": "execute_result"
    }
   ],
   "source": [
    "measurement_abstract_rpt_df = io_clean.get_table('measurement_abstract_rpt')\n",
    "print(measurement_abstract_rpt_df.shape)\n",
    "measurement_abstract_rpt_df.head()"
   ]
  },
  {
   "cell_type": "code",
   "execution_count": 7,
   "metadata": {},
   "outputs": [
    {
     "data": {
      "text/plain": [
       "ASC                        22447\n",
       "Altura (unidad métrica)    21505\n",
       "Peso (unidad métrica)      21478\n",
       "IMC                        21447\n",
       "ASC (Haycock)              21438\n",
       "Vmáx V2 Ao                 20828\n",
       "GP máx Ao                  20827\n",
       "DVItd                      20623\n",
       "VTD(Teich)                 20623\n",
       "VTD(cúbico)                20613\n",
       "SIVtd                      20548\n",
       "PPVItd                     20430\n",
       "DSIV/DPPVI                 20309\n",
       "Masa VI(C)td               20297\n",
       "Vmáx E VM                  19978\n",
       "Masa VI (C)ltd             18560\n",
       "Grosor relativo pared      17856\n",
       "Vmáx A VM                  17617\n",
       "E/A VM                     17581\n",
       "VTD(MDD-ps4)               17547\n",
       "DVItd ap4                  17519\n",
       "VTS(MDD-ps4)               17239\n",
       "FE(MDD-ps4)                17228\n",
       "VS(MDD-ps4)                17224\n",
       "DVIts ap4                  17211\n",
       "VTD(el-ps4)                16665\n",
       "AVItd ap4                  16664\n",
       "AVIts ap4                  16354\n",
       "VTS(el-ps4)                16354\n",
       "FE(el-ps4)                 16338\n",
       "                           ...  \n",
       "Tmsv 12-SD (%)                 1\n",
       "GC(VM 1 diám)                  1\n",
       "Tmsv 6-SD (ms)                 1\n",
       "E/A VT                         1\n",
       "FAC VD                         1\n",
       "Tmsv 16-SD (ms)                1\n",
       "Tmsv 16-DIF (ms)               1\n",
       "Vmáx E VT                      1\n",
       "Tmsv 12-SD (ms)                1\n",
       "Tmsv 6-SD (%)                  1\n",
       "Tmsv 12-DIF (%)                1\n",
       "IC(VM 1 diám)                  1\n",
       "RA ESA_phl                     1\n",
       "Excursión VI: DesvEst          1\n",
       "GP med AP (completo)           1\n",
       "Diám. TSVD proximal            1\n",
       "Tmsv 6-DIF (ms)                1\n",
       "AVP(I,D)                       1\n",
       "Diámetro de CIA                1\n",
       "Vmáx A VT                      1\n",
       "IVC Diam_phl                   1\n",
       "Tmsv 16-DIF (%)                1\n",
       "Tmsv 16-SD (%)                 1\n",
       "RVIDd/LVIDd_phl                1\n",
       "Excursión VI: mín              1\n",
       "Area VD td                     1\n",
       "Area VD ts                     1\n",
       "Tmsv 12-DIF (ms)               1\n",
       "Tmsv 6-DIF (%)                 1\n",
       "Excursión VI: máx.             1\n",
       "Name: name, Length: 362, dtype: int64"
      ]
     },
     "execution_count": 7,
     "metadata": {},
     "output_type": "execute_result"
    }
   ],
   "source": [
    "counts = measurement_abstract_rpt_df['name'].value_counts()\n",
    "counts"
   ]
  },
  {
   "cell_type": "code",
   "execution_count": 8,
   "metadata": {},
   "outputs": [
    {
     "data": {
      "text/plain": [
       "34"
      ]
     },
     "execution_count": 8,
     "metadata": {},
     "output_type": "execute_result"
    }
   ],
   "source": [
    "len(counts[counts==1])"
   ]
  },
  {
   "cell_type": "code",
   "execution_count": 9,
   "metadata": {},
   "outputs": [
    {
     "data": {
      "text/plain": [
       "70"
      ]
     },
     "execution_count": 9,
     "metadata": {},
     "output_type": "execute_result"
    }
   ],
   "source": [
    "len(counts[counts<10])"
   ]
  },
  {
   "cell_type": "code",
   "execution_count": 10,
   "metadata": {},
   "outputs": [
    {
     "name": "stdout",
     "output_type": "stream",
     "text": [
      "count    24912.000000\n",
      "mean        62.955644\n",
      "std         28.507088\n",
      "min          1.000000\n",
      "25%         42.000000\n",
      "50%         60.000000\n",
      "75%         84.000000\n",
      "max        146.000000\n",
      "dtype: float64\n"
     ]
    },
    {
     "data": {
      "text/plain": [
       "array([ 572.,  412.,  670., 1103., 2135., 2246., 2522., 2280., 2243.,\n",
       "       1826., 1757., 1723., 1715., 1138.,  873.,  901.,  558.,  177.,\n",
       "         46.,   15.])"
      ]
     },
     "execution_count": 10,
     "metadata": {},
     "output_type": "execute_result"
    },
    {
     "data": {
      "image/png": "[encoded data removed]",
      "text/plain": [
       "<Figure size 432x288 with 1 Axes>"
      ]
     },
     "metadata": {
      "needs_background": "light"
     },
     "output_type": "display_data"
    }
   ],
   "source": [
    "plot_group_by_size_histogram(measurement_abstract_rpt_df, 'studyidk', 'Reported Measurements Per Study')"
   ]
  },
  {
   "cell_type": "code",
   "execution_count": null,
   "metadata": {},
   "outputs": [],
   "source": [
    "measgraphref_df = io_clean.get_table('a_measgraphref')\n",
    "print(measgraphref_df.shape)\n",
    "measgraphref_df.head()"
   ]
  },
  {
   "cell_type": "code",
   "execution_count": null,
   "metadata": {},
   "outputs": [],
   "source": [
    "filtered_measgraphref_df = measgraphref_df[(measgraphref_df[\"instanceidk\"]!=-1) & (measgraphref_df[\"indexinmglist\"]!=-1)]\n",
    "filtered_measgraphref_df.shape"
   ]
  },
  {
   "cell_type": "code",
   "execution_count": null,
   "metadata": {},
   "outputs": [],
   "source": [
    "filtered_measgraphref_df['indexinmglist'].unique()"
   ]
  },
  {
   "cell_type": "code",
   "execution_count": null,
   "metadata": {},
   "outputs": [],
   "source": [
    "filtered_measgraphref_df['howentered'].unique()"
   ]
  },
  {
   "cell_type": "code",
   "execution_count": null,
   "metadata": {},
   "outputs": [],
   "source": [
    "(filtered_measgraphref_df.groupby('instanceidk').first()[['srinstanceidk', 'imagesopinstanceuid', 'measurementuid']]!=\"\").sum()"
   ]
  },
  {
   "cell_type": "code",
   "execution_count": null,
   "metadata": {},
   "outputs": [],
   "source": [
    "plot_group_by_size_histogram(filtered_measgraphref_df, \"studyidk\", \"Graphical Measurements Per Study\")"
   ]
  },
  {
   "cell_type": "code",
   "execution_count": null,
   "metadata": {},
   "outputs": [],
   "source": [
    "plot_group_by_size_histogram(filtered_measgraphref_df, \"instanceidk\", \"Graphical Measurements Per Instance\")"
   ]
  },
  {
   "cell_type": "code",
   "execution_count": null,
   "metadata": {},
   "outputs": [],
   "source": [
    "grouped_measgraphref_df = filtered_measgraphref_df.groupby([\"studyidk\", \"instanceidk\"]).size().reset_index()"
   ]
  },
  {
   "cell_type": "code",
   "execution_count": null,
   "metadata": {},
   "outputs": [],
   "source": [
    "plot_group_by_size_histogram(grouped_measgraphref_df, \"studyidk\", \"Instances Per Study\")"
   ]
  },
  {
   "cell_type": "code",
   "execution_count": null,
   "metadata": {},
   "outputs": [],
   "source": [
    "grouped_measgraphref_df = filtered_measgraphref_df.groupby([\"instanceidk\", \"indexinmglist\"]).size().reset_index()"
   ]
  },
  {
   "cell_type": "code",
   "execution_count": null,
   "metadata": {},
   "outputs": [],
   "source": [
    "plot_group_by_size_histogram(grouped_measgraphref_df, \"instanceidk\", \"Frames Per Instance\")"
   ]
  }
 ],
 "metadata": {
  "kernelspec": {
   "display_name": "dssg",
   "language": "python",
   "name": "dssg"
  },
  "language_info": {
   "codemirror_mode": {
    "name": "ipython",
    "version": 3
   },
   "file_extension": ".py",
   "mimetype": "text/x-python",
   "name": "python",
   "nbconvert_exporter": "python",
   "pygments_lexer": "ipython3",
   "version": "3.7.3"
  }
 },
 "nbformat": 4,
 "nbformat_minor": 2
}
