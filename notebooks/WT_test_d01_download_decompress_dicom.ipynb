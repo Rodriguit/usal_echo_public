{
 "cells": [
  {
   "cell_type": "markdown",
   "metadata": {},
   "source": [
    "# Notebook for testing the decompression and processing of dicom files"
   ]
  },
  {
   "cell_type": "code",
   "execution_count": null,
   "metadata": {},
   "outputs": [],
   "source": [
    "import os\n",
    "import sys\n",
    "import pandas as pd\n",
    "import numpy as np\n",
    "import boto3\n",
    "import tempfile\n",
    "from time import time\n",
    "\n",
    "projectdir = os.path.dirname(os.getcwd())\n",
    "datadir = os.path.expanduser('/home/ubuntu/data/')\n",
    "sys.path.append(os.path.join(projectdir,'src'))\n",
    "\n",
    "import d00_utils.dcm_utils as dcm_utils\n",
    "from d00_utils.echocv_utils_v0 import *"
   ]
  },
  {
   "cell_type": "code",
   "execution_count": null,
   "metadata": {},
   "outputs": [],
   "source": [
    "# update these\n",
    "dcm_dir = os.path.join(datadir, '01_raw','test')\n",
    "img_dir = os.path.join(datadir, '02_intermediate','test_images')"
   ]
  },
  {
   "cell_type": "code",
   "execution_count": null,
   "metadata": {},
   "outputs": [],
   "source": [
    "paths = []\n",
    "for f in os.listdir(dcm_dir): \n",
    "    print(f)\n",
    "    paths.append(os.path.join(dcm_dir, f))"
   ]
  },
  {
   "cell_type": "code",
   "execution_count": null,
   "metadata": {},
   "outputs": [],
   "source": [
    "dcm_utils.dcmdir_to_jpgs_for_classification(dcm_dir, img_dir)"
   ]
  },
  {
   "cell_type": "code",
   "execution_count": null,
   "metadata": {},
   "outputs": [],
   "source": [
    "images, orig_images = dcm_utils.dcmdir_to_jpgs_for_segmentation(dcm_dir, '/home/ubuntu/data/01_raw/test/raw/a_113150_2WD5N6AS.dcm')"
   ]
  },
  {
   "cell_type": "code",
   "execution_count": null,
   "metadata": {},
   "outputs": [],
   "source": []
  }
 ],
 "metadata": {
  "kernelspec": {
   "display_name": "Environment (conda_yoni)",
   "language": "python",
   "name": "conda_yoni"
  },
  "language_info": {
   "codemirror_mode": {
    "name": "ipython",
    "version": 3
   },
   "file_extension": ".py",
   "mimetype": "text/x-python",
   "name": "python",
   "nbconvert_exporter": "python",
   "pygments_lexer": "ipython3",
   "version": "3.6.5"
  }
 },
 "nbformat": 4,
 "nbformat_minor": 2
}
