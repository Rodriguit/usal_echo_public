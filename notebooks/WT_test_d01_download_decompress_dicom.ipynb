{
 "cells": [
  {
   "cell_type": "markdown",
   "metadata": {},
   "source": [
    "# Notebook for testing the decompression and processing of dicom files"
   ]
  },
  {
   "cell_type": "code",
   "execution_count": 1,
   "metadata": {},
   "outputs": [],
   "source": [
    "import os\n",
    "import sys\n",
    "import pandas as pd\n",
    "import numpy as np\n",
    "import boto3\n",
    "import tempfile\n",
    "from time import time\n",
    "\n",
    "projectdir = os.path.dirname(os.getcwd())\n",
    "datadir = os.path.expanduser('/home/ubuntu/data/')\n",
    "sys.path.append(os.path.join(projectdir,'src'))\n",
    "\n",
    "import d02_intermediate.dcm_utils as dcm_utils\n",
    "from d02_intermediate.download_dcm import s3_download_decomp_dcm"
   ]
  },
  {
   "cell_type": "code",
   "execution_count": null,
   "metadata": {},
   "outputs": [],
   "source": [
    "dcm_dir = os.path.join(datadir, '01_raw','test_downsampleby5')\n",
    "img_dir = os.path.join(datadir, '02_intermediate','test_downsampleby5')"
   ]
  },
  {
   "cell_type": "code",
   "execution_count": null,
   "metadata": {},
   "outputs": [],
   "source": [
    "dcm_utils.dcmdir_to_jpgs_for_classification(dcm_dir, img_dir)"
   ]
  },
  {
   "cell_type": "code",
   "execution_count": null,
   "metadata": {},
   "outputs": [],
   "source": [
    "# paths = []\n",
    "# for f in os.listdir(dcm_dir): \n",
    "#     print(f)\n",
    "#     paths.append(os.path.join(dcm_dir, f))"
   ]
  },
  {
   "cell_type": "code",
   "execution_count": null,
   "metadata": {},
   "outputs": [],
   "source": [
    "# images, orig_images = dcm_utils.dcmdir_to_jpgs_for_segmentation(dcm_dir, '/home/ubuntu/data/01_raw/test/raw/a_113150_2WD5N6AS.dcm')"
   ]
  },
  {
   "cell_type": "code",
   "execution_count": 2,
   "metadata": {},
   "outputs": [
    {
     "name": "stderr",
     "output_type": "stream",
     "text": [
      "/home/ubuntu/anaconda3/envs/yoni/lib/python3.6/site-packages/psycopg2/__init__.py:144: UserWarning: The psycopg2 wheel package will be renamed from release 2.8; in order to keep installing from binary please use \"pip install psycopg2-binary\" instead. For details see: <http://initd.org/psycopg/docs/install.html#binary-install-from-pypi>.\n",
      "  \"\"\")\n"
     ]
    },
    {
     "data": {
      "text/plain": [
       "'test_split50_downsampleby1000'"
      ]
     },
     "execution_count": 2,
     "metadata": {},
     "output_type": "execute_result"
    }
   ],
   "source": [
    "s3_download_decomp_dcm(0.001)"
   ]
  },
  {
   "cell_type": "code",
   "execution_count": null,
   "metadata": {},
   "outputs": [],
   "source": []
  }
 ],
 "metadata": {
  "kernelspec": {
   "display_name": "Environment (conda_yoni)",
   "language": "python",
   "name": "conda_yoni"
  },
  "language_info": {
   "codemirror_mode": {
    "name": "ipython",
    "version": 3
   },
   "file_extension": ".py",
   "mimetype": "text/x-python",
   "name": "python",
   "nbconvert_exporter": "python",
   "pygments_lexer": "ipython3",
   "version": "3.6.5"
  }
 },
 "nbformat": 4,
 "nbformat_minor": 2
}
