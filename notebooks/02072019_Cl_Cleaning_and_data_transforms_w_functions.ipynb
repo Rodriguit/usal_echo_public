{
 "cells": [
  {
   "cell_type": "markdown",
   "metadata": {},
   "source": [
    "# Functions for data pipline "
   ]
  },
  {
   "cell_type": "markdown",
   "metadata": {},
   "source": [
    "## Import Statements"
   ]
  },
  {
   "cell_type": "code",
   "execution_count": null,
   "metadata": {},
   "outputs": [],
   "source": [
    "import sqlalchemy\n",
    "import numpy as np\n",
    "import pandas as pd\n",
    "import psycopg2\n",
    "import seaborn as sns\n",
    "import yaml\n",
    "\n",
    "import matplotlib.pyplot as plt\n",
    "%matplotlib inline"
   ]
  },
  {
   "cell_type": "markdown",
   "metadata": {},
   "source": [
    "# Functions from Yoni (to be replaced with calls to util functions)"
   ]
  },
  {
   "cell_type": "code",
   "execution_count": null,
   "metadata": {},
   "outputs": [],
   "source": [
    "# List of functions\n",
    "\n",
    "def open_config_file():\n",
    "    #Read in config file\n",
    "    with open(\"../conf/local/db.yaml\") as f:\n",
    "        conf=yaml.safe_load(f)\n",
    "    return conf\n",
    "\n",
    "def create_connection(conf):\n",
    "    # set up sqlalchemy engine\n",
    "    host = conf['host']\n",
    "    DB = conf['DB']\n",
    "    user = conf['user']\n",
    "    pw = conf['pw']\n",
    "    connection_string = \"postgresql://{}:{}@{}/{}\".format(user, pw, host, DB)\n",
    "    conn = sqlalchemy.create_engine(connection_string)\n",
    "    return conn\n",
    "\n",
    "def get_outlier_thresholds(boxplot):\n",
    "    outlier_min, outlier_max = [item.get_ydata()[0] for item in boxplot['caps']]\n",
    "    return outlier_min, outlier_max"
   ]
  },
  {
   "cell_type": "markdown",
   "metadata": {},
   "source": [
    "# Functions to merge"
   ]
  },
  {
   "cell_type": "code",
   "execution_count": null,
   "metadata": {},
   "outputs": [],
   "source": [
    "def get_sql_table(table_name, connection):\n",
    "    '''\n",
    "    Fetches a sql table from the postgres database\n",
    "    :param table_name: name of postgres database to return\n",
    "    :param connection: sql alchemy engine connection \n",
    "    :return: a pandas dataframe of the sql table\n",
    "    '''\n",
    "    query = (\"\"\"\n",
    "    select * \n",
    "    from {};\n",
    "    \"\"\").format(table_name)\n",
    "\n",
    "    sql_table = pd.read_sql(query, connection)\n",
    "    return sql_table "
   ]
  },
  {
   "cell_type": "code",
   "execution_count": null,
   "metadata": {},
   "outputs": [],
   "source": [
    "def replace_all_in_column(df_column, what_to_replace, replace_with):\n",
    "    '''\n",
    "    replaces all dataframe column values with a standard value\n",
    "    :param df_column: a one column dataframe\n",
    "    :param what_to_replace: value you would like replaced eg. ''\n",
    "    :param replace_with: value you would like to replace with eg. '1'\n",
    "    :return replaced_df_column: a pandas dataframe column with replaced values\n",
    "    '''\n",
    "    replaced_df_column = df_column.replace(what_to_replace, replace_with)\n",
    "    return replaced_df_column"
   ]
  },
  {
   "cell_type": "code",
   "execution_count": null,
   "metadata": {},
   "outputs": [],
   "source": [
    "def convert_column(df_column, type_to_convert_to):\n",
    "    '''\n",
    "    Converts a dataframe column to the specified type\n",
    "    :param df_column: a one column dataframe\n",
    "    :param type_to_convert_to: datatype, eg 'int', 'float64'\n",
    "    :return converted_df_column: a converted pandas dataframe column\n",
    "    '''\n",
    "    \n",
    "    #error handling required!!\n",
    "    converted_df_column = df_column.astype(type_to_convert_to)\n",
    "    return converted_df_column"
   ]
  },
  {
   "cell_type": "code",
   "execution_count": null,
   "metadata": {},
   "outputs": [],
   "source": [
    "def create_boxplot(df_column, boxplot_title):\n",
    "    '''\n",
    "    creates and displays a boxplot\n",
    "    :param df_column: a one column dataframe\n",
    "    :param boxplot_title: a string for the boxplot heading\n",
    "    :return resulting_boxplot\n",
    "    '''\n",
    "    resulting_boxplot = plt.boxplot(df_column)\n",
    "    plt.title(boxplot_title)\n",
    "    plt.show() #might turn this off?\n",
    "    return resulting_boxplot"
   ]
  },
  {
   "cell_type": "code",
   "execution_count": null,
   "metadata": {},
   "outputs": [],
   "source": [
    "def replace_outliers(df_column, outlier_min, outlier_max, replace_with):\n",
    "    '''\n",
    "    creates and displays a boxplot\n",
    "    :param df_column: a one column dataframe\n",
    "    :param outlier_min, outlier_max: figures derived from a boxplot\n",
    "    :param replace_with: value you would like to replace with eg. '1'\n",
    "    :return replaced_df_column: a pandas dataframe column with replaced values\n",
    "    '''\n",
    "    replaced_df_column= df_column.apply(lambda x: replace_with if x > outlier_max else x)\n",
    "    replaced_df_column= replaced_df_column.apply(lambda x: replace_with if x < outlier_min else x)\n",
    "    return replaced_df_column"
   ]
  },
  {
   "cell_type": "code",
   "execution_count": null,
   "metadata": {},
   "outputs": [],
   "source": [
    "def calc_bmi(weight_kg, height_cm):\n",
    "    '''\n",
    "    calculates BMI based on formula: [weight (kg) / height (cm) / height (cm)] x 10,000\n",
    "    formula from https://www.cdc.gov/nccdphp/dnpao/growthcharts/training/bmiage/page5_1.html\n",
    "    :param weight_kg: weight in kilos\n",
    "    :param height_cm: height in centimenters\n",
    "    :return BMI\n",
    "    '''\n",
    "    return ((weight_kg/height_cm/height_cm)*10000)"
   ]
  },
  {
   "cell_type": "code",
   "execution_count": null,
   "metadata": {},
   "outputs": [],
   "source": [
    "def create_BMI_column(df):\n",
    "    '''\n",
    "    creates a BMI column based on the results from the calc_bmi function\n",
    "    :param df: dataframe where you would like the BMI column\n",
    "    :return df: a dataframe with a BMI column\n",
    "    '''\n",
    "    # Create BMI Columns\n",
    "    df['BMI'] = df.apply(lambda x: calc_bmi(x.patientweight, x.patientheight), axis=1)\n",
    "    return df"
   ]
  },
  {
   "cell_type": "code",
   "execution_count": null,
   "metadata": {},
   "outputs": [],
   "source": [
    "def report_column_cleaning_required(df_name, df_column_name, desired_data_type):\n",
    "    '''\n",
    "    this function takes a numerical column and prints out the statistics demonstrating the amount of cleaning required\n",
    "    \n",
    "    #Doesn't report on outliers?\n",
    "    \n",
    "    \n",
    "    :param df_name: a one column dataframe\n",
    "    :param df_column_name:\n",
    "    :param: desired data type\n",
    "    :return nothing\n",
    "    '''\n",
    "    #Check how many are blank\n",
    "    print('Number of cells in the {} column that are blank'.format(df_column_name))\n",
    "    print(df_name[df_column_name][df_name[df_column_name]==''].count())\n",
    "    print('Number of cells in the {} column that are np.nan'.format(df_column_name))\n",
    "    print(df_name[df_column_name][df_name[df_column_name]==np.nan].count())\n",
    "    \n",
    "    #Check how many cells contain commas\n",
    "    print('Number of cells in the {} column that contain comma'.format(df_column_name))\n",
    "    print(df_name[df_column_name][df_name[df_column_name].str.contains(',', na=False)].count())\n",
    "    \n",
    "    #Doesn't report on outliers?"
   ]
  },
  {
   "cell_type": "code",
   "execution_count": null,
   "metadata": {},
   "outputs": [],
   "source": [
    "def clean_numerical_column(df_name, df_column_name, desired_data_type, replace_with):\n",
    "    '''\n",
    "    this function takes a numerical column returns a cleaned version with the following\n",
    "    - blank and NaN cells replaced with specified replace_with value\n",
    "    - cells containing commas replaced with decimals\n",
    "    - remove outliers based on a boxplot\n",
    "    \n",
    "    Intended for use on the age, weight, height and BMI columns in the study summary table\n",
    "    \n",
    "    :param df_name: a one column dataframe\n",
    "    :param df_column_name:\n",
    "    :param: desired data type\n",
    "    :param replace_with: value you would like to replace with eg. '1'\n",
    "    :return: cleaned_column\n",
    "    '''\n",
    "\n",
    "    #Replace blanks in the column with 1\n",
    "    df_name[df_column_name] = replace_all_in_column(df_name[df_column_name], '', replace_with)\n",
    "    \n",
    "    #Replace comma in the column with decimal points\n",
    "    df_name[df_column_name] = df_name[df_column_name].str.replace(',','.')\n",
    "    \n",
    "    #Fill NA\n",
    "    df_name[df_column_name] = df_name[df_column_name].fillna(replace_with)\n",
    "\n",
    "    #convert column to desired data type\n",
    "    df_name[df_column_name] = convert_column(df_name[df_column_name], desired_data_type) \n",
    "    # NEED ERROR HANDLING HERE (or in function?)!!!\n",
    "\n",
    "    #Remove outliers\n",
    "    boxplot = create_boxplot(df_name[df_column_name], 'Distribution of {} (pre-removal of outliers)'.format(df_column_name))\n",
    "    outlier_min, outlier_max = get_outlier_thresholds(boxplot)\n",
    "    df_name[df_column_name] = replace_outliers(df_name[df_column_name], outlier_min, outlier_max, replace_with)\n",
    "    boxplot = create_boxplot(df_name[df_column_name], 'Distribution of {} (post-removal of outliers)'.format(df_column_name))\n",
    "    \n",
    "    return df_name[df_column_name]   "
   ]
  },
  {
   "cell_type": "code",
   "execution_count": null,
   "metadata": {},
   "outputs": [],
   "source": [
    "def convert_comma_sep_str_column_to_list_column(df_column):\n",
    "    df_column = df_column.apply(lambda x: x.split(\",\"))\n",
    "    return df_column"
   ]
  },
  {
   "cell_type": "code",
   "execution_count": null,
   "metadata": {},
   "outputs": [],
   "source": [
    "def create_single_pathology_column(study_table, path_codes, path_name):\n",
    "    #puts the code of interest in a new column\n",
    "    study_table[path_name] = study_table.findingcode.apply(lambda x: intersection_two_lists(x, path_codes)) \n",
    "    #replace the codes with 0 or 1 (NOTE: could return higher than 1 error?  needs to be handled)\n",
    "    study_table[path_name] = study_table[path_name].apply(lambda x : len(x))\n",
    "    return study_table"
   ]
  },
  {
   "cell_type": "code",
   "execution_count": null,
   "metadata": {},
   "outputs": [],
   "source": [
    "def intersection_two_lists(lst1, lst2): \n",
    "#https://www.geeksforgeeks.org/python-intersection-of-multiple-lists/      \n",
    "    return [item for item in lst1 if item in lst2] "
   ]
  },
  {
   "cell_type": "markdown",
   "metadata": {},
   "source": [
    "def deliminate_list_to_many_to_many_table(df, df_row_id_colum_name, df_list_colum_name):\n",
    "    '''\n",
    "    From a two column dataframe; containing one an row_id and another containing a list, produce a new \n",
    "    table with a row for every item of the list, linked to the row_id\n",
    "    :param df: a dataframe containing columns labelled with the \n",
    "    :param df_row_id_colum_name:\n",
    "    :param df_list_colum_name:\n",
    "    :return many_to_many_table\n",
    "    '''\n",
    "    many_to_many_table = df[[df_row_id_colum_name, df_list_colum_name]].copy()\n",
    "    temp = many_to_many_table.apply(lambda x: pd.Series(x[df_list_colum_name]),axis=1).stack().reset_index(level=1, drop=True)\n",
    "    temp.name = ('{}_deliminated'.format(df_list_colum_name))\n",
    "    many_to_many_table = many_to_many_table.drop(df_list_colum_name, axis=1).join(temp)\n",
    "    many_to_many_table = many_to_many_table.reset_index(drop=True)\n",
    "    print(many_to_many_table.head())\n",
    "    \n",
    "    return many_to_many_table"
   ]
  },
  {
   "cell_type": "code",
   "execution_count": null,
   "metadata": {},
   "outputs": [],
   "source": [
    "# Pathology codes variables - how do i merge these?\n",
    "HC_T_codes = {'LV-0144', 'LV-0068'}\n",
    "HC_F_codes = {'LV-0062', 'LV-0065', 'LV-0061'}\n",
    "HC_C_codes = {'LV-0069', 'LV-0070'}\n",
    "\n",
    "RLVEF_T_codes = {'LV-0080'}\n",
    "RLVEF_F_codes = {'LV-0061', 'LV-0077', 'LV-0078'}\n",
    "\n",
    "DLA_T_codes = {'LA-0016'}\n",
    "DLA_F_codes = {'LA-0013'}\n",
    "\n",
    "Norm_codes = {'SU-0032'}"
   ]
  },
  {
   "cell_type": "markdown",
   "metadata": {},
   "source": [
    "# Script to run functions above"
   ]
  },
  {
   "cell_type": "code",
   "execution_count": null,
   "metadata": {},
   "outputs": [],
   "source": [
    "sql_table_name ='DM_Spain_VIEW_study_summary'"
   ]
  },
  {
   "cell_type": "code",
   "execution_count": null,
   "metadata": {},
   "outputs": [],
   "source": [
    "# Open config file and create connections\n",
    "configuration = open_config_file()\n",
    "connection = create_connection(configuration);"
   ]
  },
  {
   "cell_type": "code",
   "execution_count": null,
   "metadata": {},
   "outputs": [],
   "source": [
    "# Get summary table from sql database\n",
    "summary_table = get_sql_table(sql_table_name, connection)\n",
    "print('Got Summary Table')\n",
    "#print(sum_table.head(2))"
   ]
  },
  {
   "cell_type": "code",
   "execution_count": null,
   "metadata": {},
   "outputs": [],
   "source": [
    "#Make a version of the summary table for cleaned values\n",
    "summary_table_cleaned = summary_table.copy()"
   ]
  },
  {
   "cell_type": "code",
   "execution_count": null,
   "metadata": {},
   "outputs": [],
   "source": [
    "#Clean gender column: USAL confirmed that all blank gender values can be coded as 'U' for \"Unsure\"\n",
    "print(summary_table['gender'].value_counts())\n",
    "summary_table_cleaned['gender'] = replace_all_in_column(summary_table['gender'], '', 'U')\n",
    "print(summary_table_cleaned['gender'].value_counts())\n",
    "print(\"Gender column clean\")"
   ]
  },
  {
   "cell_type": "code",
   "execution_count": null,
   "metadata": {},
   "outputs": [],
   "source": [
    "report_column_cleaning_required(summary_table_cleaned, 'age', 'int')\n",
    "report_column_cleaning_required(summary_table_cleaned, 'patientweight', 'float')\n",
    "report_column_cleaning_required(summary_table_cleaned, 'patientheight', 'float')"
   ]
  },
  {
   "cell_type": "code",
   "execution_count": null,
   "metadata": {},
   "outputs": [],
   "source": [
    "clean_numerical_column(summary_table_cleaned, 'age', 'int', 1)\n",
    "clean_numerical_column(summary_table_cleaned, 'patientweight', 'float', 1)\n",
    "clean_numerical_column(summary_table_cleaned, 'patientheight', 'float', 1)"
   ]
  },
  {
   "cell_type": "code",
   "execution_count": null,
   "metadata": {},
   "outputs": [],
   "source": [
    "summary_table_cleaned = create_BMI_column(summary_table_cleaned)\n",
    "print(summary_table_cleaned.head(2))"
   ]
  },
  {
   "cell_type": "code",
   "execution_count": null,
   "metadata": {},
   "outputs": [],
   "source": [
    "# convert finding codes from string to a list\n",
    "summary_table_cleaned['findingcode'] = convert_comma_sep_str_column_to_list_column(summary_table_cleaned['findingcode'])\n",
    "summary_table_cleaned.head(1)"
   ]
  },
  {
   "cell_type": "code",
   "execution_count": null,
   "metadata": {},
   "outputs": [],
   "source": [
    "# Create the pathology columns\n",
    "summary_table_cleaned = create_single_pathology_column(summary_table_cleaned, HC_T_codes, \"HC_T\")\n",
    "summary_table_cleaned = create_single_pathology_column(summary_table_cleaned, HC_F_codes, \"HC_F\")\n",
    "summary_table_cleaned = create_single_pathology_column(summary_table_cleaned, HC_C_codes, \"HC_C\")\n",
    "summary_table_cleaned = create_single_pathology_column(summary_table_cleaned, RLVEF_T_codes, \"RLVEF_T\")\n",
    "summary_table_cleaned = create_single_pathology_column(summary_table_cleaned, RLVEF_F_codes, \"RLVEF_F\")\n",
    "summary_table_cleaned = create_single_pathology_column(summary_table_cleaned, DLA_T_codes, \"DLA_T\")\n",
    "summary_table_cleaned = create_single_pathology_column(summary_table_cleaned, DLA_F_codes, \"DLA_F\")\n",
    "summary_table_cleaned = create_single_pathology_column(summary_table_cleaned, Norm_codes, \"Norm\")\n",
    "summary_table_cleaned.head()"
   ]
  },
  {
   "cell_type": "code",
   "execution_count": null,
   "metadata": {},
   "outputs": [],
   "source": [
    "#Write table to csv\n",
    "summary_table_cleaned.to_csv('clean_summary_table.csv')"
   ]
  }
 ],
 "metadata": {
  "kernelspec": {
   "display_name": "dssg",
   "language": "python",
   "name": "dssg"
  },
  "language_info": {
   "codemirror_mode": {
    "name": "ipython",
    "version": 3
   },
   "file_extension": ".py",
   "mimetype": "text/x-python",
   "name": "python",
   "nbconvert_exporter": "python",
   "pygments_lexer": "ipython3",
   "version": "3.7.3"
  }
 },
 "nbformat": 4,
 "nbformat_minor": 2
}
