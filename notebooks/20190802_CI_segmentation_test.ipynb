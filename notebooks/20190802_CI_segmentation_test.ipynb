{
 "cells": [
  {
   "cell_type": "code",
   "execution_count": 1,
   "metadata": {},
   "outputs": [
    {
     "name": "stdout",
     "output_type": "stream",
     "text": [
      "/home/ubuntu/courtney/usal_echo\n"
     ]
    }
   ],
   "source": [
    "import sys\n",
    "import os\n",
    "project_dir = os.path.dirname(os.getcwd())\n",
    "sys.path.append(project_dir) #notebooks can't look into source unless you append the parent project directory to the path\n",
    "print(project_dir)"
   ]
  },
  {
   "cell_type": "code",
   "execution_count": 2,
   "metadata": {},
   "outputs": [
    {
     "name": "stderr",
     "output_type": "stream",
     "text": [
      "/home/ubuntu/anaconda3/envs/usal_echo/lib/python3.6/site-packages/psycopg2/__init__.py:144: UserWarning: The psycopg2 wheel package will be renamed from release 2.8; in order to keep installing from binary please use \"pip install psycopg2-binary\" instead. For details see: <http://initd.org/psycopg/docs/install.html#binary-install-from-pypi>.\n",
      "  \"\"\")\n"
     ]
    }
   ],
   "source": [
    "from src.d04_segmentation.create_probabilities_textfile_testing import create_probabilities_textfile_testing"
   ]
  },
  {
   "cell_type": "code",
   "execution_count": 3,
   "metadata": {},
   "outputs": [],
   "source": [
    "from src.d00_utils.db_utils import dbReadWriteViews"
   ]
  },
  {
   "cell_type": "code",
   "execution_count": 4,
   "metadata": {},
   "outputs": [],
   "source": [
    "io_views = dbReadWriteViews()"
   ]
  },
  {
   "cell_type": "code",
   "execution_count": 5,
   "metadata": {},
   "outputs": [
    {
     "name": "stdout",
     "output_type": "stream",
     "text": [
      "['machines_all_bmi', 'instances_with_labels_scrappy100', 'machines_new_bmi', 'instances_unlabeled', 'frames_sorted_by_views_temp', 'frames_w_labels', 'instances_unique_master_list', 'instances_w_labels_train', 'instances_w_conflicts', 'instances_w_labels_test', 'instances_w_labels', 'instances_w_labels_train_downsampleby5', 'instances_w_labels_test_downsampleby5', 'chords_by_volume_mask', 'frames_by_volume_mask']\n"
     ]
    }
   ],
   "source": [
    "io_views.list_tables()"
   ]
  },
  {
   "cell_type": "code",
   "execution_count": 6,
   "metadata": {},
   "outputs": [],
   "source": [
    "instance_id_list = io_views.get_table('instances_w_labels_test_downsampleby5') "
   ]
  },
  {
   "cell_type": "code",
   "execution_count": 7,
   "metadata": {},
   "outputs": [
    {
     "name": "stdout",
     "output_type": "stream",
     "text": [
      "                                         sopinstanceuid  filename  \\\n",
      "0     1.2.840.113663.1500.1.365900332.3.8.20130125.1...  1LHFYKEZ   \n",
      "1     1.2.840.113663.1500.1.365900332.3.1.20130321.1...  43IX4IH1   \n",
      "2     1.2.840.113663.1500.1.365900332.3.11.20130611....  7SQZPLEJ   \n",
      "3     1.2.840.113663.1500.1.365900332.3.1.20131003.1...  CSTYB214   \n",
      "4     1.2.840.113663.1500.1.365900332.3.8.20131120.1...  EAKXA40T   \n",
      "...                                                 ...       ...   \n",
      "1020  1.2.840.113663.1500.1.402357036.3.1.20181130.1...  EF74LO2Z   \n",
      "1021  1.2.840.113663.1500.1.365900332.3.8.20181205.1...  FDNHKCYK   \n",
      "1022  1.2.840.113663.1500.1.406830382.3.10.20181205....  FDNHO33T   \n",
      "1023  1.2.840.113663.1500.1.402357036.3.1.20181205.1...  FDNHPQ07   \n",
      "1024  1.2.840.113663.1500.1.365900332.3.7.20181205.1...  FDNHQ1M9   \n",
      "\n",
      "      instanceidk  view  studyidk  \n",
      "0          779540   a4c     43763  \n",
      "1          804660  plax     45076  \n",
      "2          841585   a4c     46919  \n",
      "3          892588  plax     49268  \n",
      "4          921901   a4c     50521  \n",
      "...           ...   ...       ...  \n",
      "1020      2997463  plax    126557  \n",
      "1021      3003299   a4c    126751  \n",
      "1022      3003810   a4c    126772  \n",
      "1023      3003930  plax    126778  \n",
      "1024      3004026   a4c    126781  \n",
      "\n",
      "[1025 rows x 5 columns]\n"
     ]
    }
   ],
   "source": [
    "print(instance_id_list)"
   ]
  },
  {
   "cell_type": "code",
   "execution_count": 8,
   "metadata": {},
   "outputs": [
    {
     "name": "stdout",
     "output_type": "stream",
     "text": [
      "instance_list size: (1025, 5)\n",
      "df_1: (72527, 12)\n",
      "df_2: (1157, 12)\n",
      "df_3: (1157, 25)\n"
     ]
    }
   ],
   "source": [
    "create_probabilities_textfile_testing(instance_id_list['instanceidk'])"
   ]
  },
  {
   "cell_type": "code",
   "execution_count": null,
   "metadata": {},
   "outputs": [],
   "source": []
  }
 ],
 "metadata": {
  "kernelspec": {
   "display_name": "Environment (conda_usal_echo)",
   "language": "python",
   "name": "conda_usal_echo"
  },
  "language_info": {
   "codemirror_mode": {
    "name": "ipython",
    "version": 3
   },
   "file_extension": ".py",
   "mimetype": "text/x-python",
   "name": "python",
   "nbconvert_exporter": "python",
   "pygments_lexer": "ipython3",
   "version": "3.6.5"
  }
 },
 "nbformat": 4,
 "nbformat_minor": 2
}
