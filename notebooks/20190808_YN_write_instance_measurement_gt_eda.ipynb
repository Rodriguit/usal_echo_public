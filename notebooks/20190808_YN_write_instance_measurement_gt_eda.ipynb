{
 "cells": [
  {
   "cell_type": "code",
   "execution_count": 1,
   "metadata": {},
   "outputs": [],
   "source": [
    "%reload_ext autoreload\n",
    "%autoreload 2"
   ]
  },
  {
   "cell_type": "code",
   "execution_count": 2,
   "metadata": {},
   "outputs": [],
   "source": [
    "import sys\n",
    "sys.path.append('../src')"
   ]
  },
  {
   "cell_type": "code",
   "execution_count": 3,
   "metadata": {},
   "outputs": [],
   "source": [
    "import pandas as pd"
   ]
  },
  {
   "cell_type": "code",
   "execution_count": 4,
   "metadata": {},
   "outputs": [
    {
     "name": "stderr",
     "output_type": "stream",
     "text": [
      "/home/ubuntu/anaconda3/envs/usal_echo/lib/python3.6/site-packages/psycopg2/__init__.py:144: UserWarning: The psycopg2 wheel package will be renamed from release 2.8; in order to keep installing from binary please use \"pip install psycopg2-binary\" instead. For details see: <http://initd.org/psycopg/docs/install.html#binary-install-from-pypi>.\n",
      "  \"\"\")\n"
     ]
    }
   ],
   "source": [
    "from d00_utils.db_utils import dbReadWriteClean, dbReadWriteViews, dbReadWriteSegmentation\n",
    "io_clean = dbReadWriteClean()\n",
    "io_views = dbReadWriteViews()\n",
    "io_segmentation = dbReadWriteSegmentation()"
   ]
  },
  {
   "cell_type": "code",
   "execution_count": 5,
   "metadata": {},
   "outputs": [
    {
     "name": "stdout",
     "output_type": "stream",
     "text": [
      "522\n"
     ]
    }
   ],
   "source": [
    "# PARAM\n",
    "instances_w_labels_test_downsampleby5_df = io_views.get_table('instances_w_labels_test_downsampleby5')\n",
    "instances_w_labels_test_downsampleby5_df = instances_w_labels_test_downsampleby5_df[(instances_w_labels_test_downsampleby5_df['view']=='a2c') | (instances_w_labels_test_downsampleby5_df['view']=='a4c')]\n",
    "instances_w_labels_test_downsampleby5_df = instances_w_labels_test_downsampleby5_df[['studyidk', 'instanceidk', 'filename']]\n",
    "instances = instances_w_labels_test_downsampleby5_df['instanceidk'].unique()\n",
    "print(len(instances))"
   ]
  },
  {
   "cell_type": "code",
   "execution_count": 6,
   "metadata": {},
   "outputs": [],
   "source": [
    "def get_recommendation(row):\n",
    "    return 'normal' if row['ef'] >= 60 else 'abnormal' if row['ef'] < 40 else 'greyzone'"
   ]
  },
  {
   "cell_type": "code",
   "execution_count": 7,
   "metadata": {},
   "outputs": [
    {
     "name": "stderr",
     "output_type": "stream",
     "text": [
      "/home/ubuntu/anaconda3/envs/usal_echo/lib/python3.6/site-packages/IPython/core/interactiveshell.py:3249: DtypeWarning: Columns (8,9) have mixed types. Specify dtype option on import or set low_memory=False.\n",
      "  if (await self.run_code(code, result,  async_=asy)):\n"
     ]
    }
   ],
   "source": [
    "measurement_abstract_rpt_df = io_clean.get_table(\"measurement_abstract_rpt\")\n",
    "measurement_abstract_rpt_df = measurement_abstract_rpt_df.drop(['value'], axis=1)\n",
    "\n",
    "a_measgraphref_df = io_clean.get_table(\"a_measgraphref\")\n",
    "a_measgraphref_df = a_measgraphref_df.drop(['srinstanceidk', 'imagesopinstanceuid', 'measurementuid'], axis=1)\n",
    "\n",
    "instances_w_labels_df = io_views.get_table('instances_w_labels')\n",
    "instances_w_labels_df = instances_w_labels_df[(instances_w_labels_df['view']!='plax')]\n",
    "instances_w_labels_df = instances_w_labels_df[['studyidk', 'instanceidk', 'filename']]"
   ]
  },
  {
   "cell_type": "code",
   "execution_count": 8,
   "metadata": {},
   "outputs": [],
   "source": [
    "merge_df = measurement_abstract_rpt_df.merge(a_measgraphref_df, on=['studyidk', 'measabstractnumber'])\n",
    "merge_df = merge_df.merge(instances_w_labels_df, on=['studyidk', 'instanceidk'])"
   ]
  },
  {
   "cell_type": "code",
   "execution_count": 9,
   "metadata": {},
   "outputs": [],
   "source": [
    "filter_df = merge_df[merge_df['name'].isin(['VTD(MDD-ps4)', 'VTS(MDD-ps4)'])]\n",
    "filter_df = filter_df[filter_df['value']>0]\n",
    "filter_df = filter_df[filter_df['instanceidk'].isin(instances)]"
   ]
  },
  {
   "cell_type": "code",
   "execution_count": 10,
   "metadata": {},
   "outputs": [
    {
     "name": "stdout",
     "output_type": "stream",
     "text": [
      "(472, 7)\n"
     ]
    },
    {
     "data": {
      "text/html": [
       "<div>\n",
       "<style scoped>\n",
       "    .dataframe tbody tr th:only-of-type {\n",
       "        vertical-align: middle;\n",
       "    }\n",
       "\n",
       "    .dataframe tbody tr th {\n",
       "        vertical-align: top;\n",
       "    }\n",
       "\n",
       "    .dataframe thead th {\n",
       "        text-align: right;\n",
       "    }\n",
       "</style>\n",
       "<table border=\"1\" class=\"dataframe\">\n",
       "  <thead>\n",
       "    <tr style=\"text-align: right;\">\n",
       "      <th></th>\n",
       "      <th>study_id</th>\n",
       "      <th>instance_id</th>\n",
       "      <th>file_name</th>\n",
       "      <th>measurement_name</th>\n",
       "      <th>measurement_unit</th>\n",
       "      <th>measurement_value</th>\n",
       "      <th>indexinmglist</th>\n",
       "    </tr>\n",
       "  </thead>\n",
       "  <tbody>\n",
       "    <tr>\n",
       "      <th>247</th>\n",
       "      <td>43763</td>\n",
       "      <td>779540</td>\n",
       "      <td>1LHFYKEZ</td>\n",
       "      <td>VTD(MDD-ps4)</td>\n",
       "      <td>mL</td>\n",
       "      <td>45.964351</td>\n",
       "      <td>0</td>\n",
       "    </tr>\n",
       "    <tr>\n",
       "      <th>251</th>\n",
       "      <td>43763</td>\n",
       "      <td>779540</td>\n",
       "      <td>1LHFYKEZ</td>\n",
       "      <td>VTS(MDD-ps4)</td>\n",
       "      <td>mL</td>\n",
       "      <td>17.993407</td>\n",
       "      <td>1</td>\n",
       "    </tr>\n",
       "    <tr>\n",
       "      <th>471</th>\n",
       "      <td>46919</td>\n",
       "      <td>841585</td>\n",
       "      <td>7SQZPLEJ</td>\n",
       "      <td>VTD(MDD-ps4)</td>\n",
       "      <td>mL</td>\n",
       "      <td>124.449981</td>\n",
       "      <td>0</td>\n",
       "    </tr>\n",
       "    <tr>\n",
       "      <th>475</th>\n",
       "      <td>46919</td>\n",
       "      <td>841585</td>\n",
       "      <td>7SQZPLEJ</td>\n",
       "      <td>VTS(MDD-ps4)</td>\n",
       "      <td>mL</td>\n",
       "      <td>60.740148</td>\n",
       "      <td>1</td>\n",
       "    </tr>\n",
       "    <tr>\n",
       "      <th>655</th>\n",
       "      <td>50521</td>\n",
       "      <td>921901</td>\n",
       "      <td>EAKXA40T</td>\n",
       "      <td>VTD(MDD-ps4)</td>\n",
       "      <td>mL</td>\n",
       "      <td>91.569690</td>\n",
       "      <td>0</td>\n",
       "    </tr>\n",
       "  </tbody>\n",
       "</table>\n",
       "</div>"
      ],
      "text/plain": [
       "     study_id  instance_id file_name measurement_name measurement_unit  \\\n",
       "247     43763       779540  1LHFYKEZ     VTD(MDD-ps4)               mL   \n",
       "251     43763       779540  1LHFYKEZ     VTS(MDD-ps4)               mL   \n",
       "471     46919       841585  7SQZPLEJ     VTD(MDD-ps4)               mL   \n",
       "475     46919       841585  7SQZPLEJ     VTS(MDD-ps4)               mL   \n",
       "655     50521       921901  EAKXA40T     VTD(MDD-ps4)               mL   \n",
       "\n",
       "     measurement_value  indexinmglist  \n",
       "247          45.964351              0  \n",
       "251          17.993407              1  \n",
       "471         124.449981              0  \n",
       "475          60.740148              1  \n",
       "655          91.569690              0  "
      ]
     },
     "execution_count": 10,
     "metadata": {},
     "output_type": "execute_result"
    }
   ],
   "source": [
    "volume_df = filter_df[['studyidk', 'instanceidk', 'filename', 'name', 'unitname', 'value', 'indexinmglist']]\n",
    "volume_df = volume_df.rename(\n",
    "    columns={'studyidk': 'study_id', 'instanceidk': 'instance_id', 'filename': 'file_name', 'name': 'measurement_name', 'value': 'measurement_value', 'unitname': 'measurement_unit'})\n",
    "print(volume_df.shape)\n",
    "volume_df.head()"
   ]
  },
  {
   "cell_type": "code",
   "execution_count": 11,
   "metadata": {},
   "outputs": [
    {
     "name": "stdout",
     "output_type": "stream",
     "text": [
      "(471, 6)\n"
     ]
    },
    {
     "data": {
      "text/html": [
       "<div>\n",
       "<style scoped>\n",
       "    .dataframe tbody tr th:only-of-type {\n",
       "        vertical-align: middle;\n",
       "    }\n",
       "\n",
       "    .dataframe tbody tr th {\n",
       "        vertical-align: top;\n",
       "    }\n",
       "\n",
       "    .dataframe thead th {\n",
       "        text-align: right;\n",
       "    }\n",
       "</style>\n",
       "<table border=\"1\" class=\"dataframe\">\n",
       "  <thead>\n",
       "    <tr style=\"text-align: right;\">\n",
       "      <th></th>\n",
       "      <th>study_id</th>\n",
       "      <th>instance_id</th>\n",
       "      <th>file_name</th>\n",
       "      <th>measurement_name</th>\n",
       "      <th>measurement_value</th>\n",
       "      <th>measurement_unit</th>\n",
       "    </tr>\n",
       "  </thead>\n",
       "  <tbody>\n",
       "    <tr>\n",
       "      <th>0</th>\n",
       "      <td>43763</td>\n",
       "      <td>779540</td>\n",
       "      <td>1LHFYKEZ</td>\n",
       "      <td>VTD(MDD-ps4)</td>\n",
       "      <td>45.964351</td>\n",
       "      <td>mL</td>\n",
       "    </tr>\n",
       "    <tr>\n",
       "      <th>1</th>\n",
       "      <td>43763</td>\n",
       "      <td>779540</td>\n",
       "      <td>1LHFYKEZ</td>\n",
       "      <td>VTS(MDD-ps4)</td>\n",
       "      <td>17.993407</td>\n",
       "      <td>mL</td>\n",
       "    </tr>\n",
       "    <tr>\n",
       "      <th>2</th>\n",
       "      <td>46919</td>\n",
       "      <td>841585</td>\n",
       "      <td>7SQZPLEJ</td>\n",
       "      <td>VTD(MDD-ps4)</td>\n",
       "      <td>124.449981</td>\n",
       "      <td>mL</td>\n",
       "    </tr>\n",
       "    <tr>\n",
       "      <th>3</th>\n",
       "      <td>46919</td>\n",
       "      <td>841585</td>\n",
       "      <td>7SQZPLEJ</td>\n",
       "      <td>VTS(MDD-ps4)</td>\n",
       "      <td>60.740148</td>\n",
       "      <td>mL</td>\n",
       "    </tr>\n",
       "    <tr>\n",
       "      <th>4</th>\n",
       "      <td>50521</td>\n",
       "      <td>921901</td>\n",
       "      <td>EAKXA40T</td>\n",
       "      <td>VTD(MDD-ps4)</td>\n",
       "      <td>91.569690</td>\n",
       "      <td>mL</td>\n",
       "    </tr>\n",
       "  </tbody>\n",
       "</table>\n",
       "</div>"
      ],
      "text/plain": [
       "   study_id  instance_id file_name measurement_name  measurement_value  \\\n",
       "0     43763       779540  1LHFYKEZ     VTD(MDD-ps4)          45.964351   \n",
       "1     43763       779540  1LHFYKEZ     VTS(MDD-ps4)          17.993407   \n",
       "2     46919       841585  7SQZPLEJ     VTD(MDD-ps4)         124.449981   \n",
       "3     46919       841585  7SQZPLEJ     VTS(MDD-ps4)          60.740148   \n",
       "4     50521       921901  EAKXA40T     VTD(MDD-ps4)          91.569690   \n",
       "\n",
       "  measurement_unit  \n",
       "0               mL  \n",
       "1               mL  \n",
       "2               mL  \n",
       "3               mL  \n",
       "4               mL  "
      ]
     },
     "execution_count": 11,
     "metadata": {},
     "output_type": "execute_result"
    }
   ],
   "source": [
    "agg_dict = {\"measurement_value\": pd.Series.median, \"measurement_unit\": pd.Series.unique}\n",
    "volume_df = volume_df.groupby(['study_id', 'instance_id', 'file_name', 'measurement_name', 'indexinmglist']).agg(agg_dict).reset_index()\n",
    "volume_df = volume_df.groupby(['study_id', 'instance_id', 'file_name', 'measurement_name']).agg(agg_dict).reset_index()\n",
    "print(volume_df.shape)\n",
    "volume_df.head()"
   ]
  },
  {
   "cell_type": "code",
   "execution_count": 12,
   "metadata": {},
   "outputs": [
    {
     "name": "stdout",
     "output_type": "stream",
     "text": [
      "(238, 6)\n"
     ]
    }
   ],
   "source": [
    "diastole_df = volume_df[volume_df['measurement_name'].str.contains('VTD')]\n",
    "systole_df = volume_df[volume_df['measurement_name'].str.contains('VTS')]\n",
    "print(diastole_df.shape)"
   ]
  },
  {
   "cell_type": "code",
   "execution_count": 13,
   "metadata": {},
   "outputs": [
    {
     "name": "stdout",
     "output_type": "stream",
     "text": [
      "(233, 6)\n"
     ]
    }
   ],
   "source": [
    "diastole_df = diastole_df[diastole_df['instance_id'].isin(systole_df['instance_id'].unique())]\n",
    "systole_df = systole_df[systole_df['instance_id'].isin(diastole_df['instance_id'].unique())]\n",
    "print(diastole_df.shape)"
   ]
  },
  {
   "cell_type": "code",
   "execution_count": 14,
   "metadata": {},
   "outputs": [],
   "source": [
    "diastole_df = diastole_df.drop(['measurement_name', 'measurement_unit'], axis=1)\n",
    "systole_df = systole_df.drop(['measurement_name', 'measurement_unit'], axis=1)"
   ]
  },
  {
   "cell_type": "code",
   "execution_count": 15,
   "metadata": {},
   "outputs": [
    {
     "data": {
      "text/html": [
       "<div>\n",
       "<style scoped>\n",
       "    .dataframe tbody tr th:only-of-type {\n",
       "        vertical-align: middle;\n",
       "    }\n",
       "\n",
       "    .dataframe tbody tr th {\n",
       "        vertical-align: top;\n",
       "    }\n",
       "\n",
       "    .dataframe thead th {\n",
       "        text-align: right;\n",
       "    }\n",
       "</style>\n",
       "<table border=\"1\" class=\"dataframe\">\n",
       "  <thead>\n",
       "    <tr style=\"text-align: right;\">\n",
       "      <th></th>\n",
       "      <th>study_id</th>\n",
       "      <th>instance_id</th>\n",
       "      <th>file_name</th>\n",
       "      <th>measurement_value</th>\n",
       "    </tr>\n",
       "  </thead>\n",
       "  <tbody>\n",
       "    <tr>\n",
       "      <th>0</th>\n",
       "      <td>43763</td>\n",
       "      <td>779540</td>\n",
       "      <td>1LHFYKEZ</td>\n",
       "      <td>45.964351</td>\n",
       "    </tr>\n",
       "    <tr>\n",
       "      <th>2</th>\n",
       "      <td>46919</td>\n",
       "      <td>841585</td>\n",
       "      <td>7SQZPLEJ</td>\n",
       "      <td>124.449981</td>\n",
       "    </tr>\n",
       "    <tr>\n",
       "      <th>4</th>\n",
       "      <td>50521</td>\n",
       "      <td>921901</td>\n",
       "      <td>EAKXA40T</td>\n",
       "      <td>91.569690</td>\n",
       "    </tr>\n",
       "    <tr>\n",
       "      <th>6</th>\n",
       "      <td>57515</td>\n",
       "      <td>1078635</td>\n",
       "      <td>AFUJWQM9</td>\n",
       "      <td>73.781595</td>\n",
       "    </tr>\n",
       "    <tr>\n",
       "      <th>8</th>\n",
       "      <td>60906</td>\n",
       "      <td>1168238</td>\n",
       "      <td>FONQVY2N</td>\n",
       "      <td>132.222893</td>\n",
       "    </tr>\n",
       "  </tbody>\n",
       "</table>\n",
       "</div>"
      ],
      "text/plain": [
       "   study_id  instance_id file_name  measurement_value\n",
       "0     43763       779540  1LHFYKEZ          45.964351\n",
       "2     46919       841585  7SQZPLEJ         124.449981\n",
       "4     50521       921901  EAKXA40T          91.569690\n",
       "6     57515      1078635  AFUJWQM9          73.781595\n",
       "8     60906      1168238  FONQVY2N         132.222893"
      ]
     },
     "execution_count": 15,
     "metadata": {},
     "output_type": "execute_result"
    }
   ],
   "source": [
    "diastole_df.head()"
   ]
  },
  {
   "cell_type": "code",
   "execution_count": 16,
   "metadata": {},
   "outputs": [
    {
     "name": "stdout",
     "output_type": "stream",
     "text": [
      "(233, 6)\n"
     ]
    },
    {
     "data": {
      "text/html": [
       "<div>\n",
       "<style scoped>\n",
       "    .dataframe tbody tr th:only-of-type {\n",
       "        vertical-align: middle;\n",
       "    }\n",
       "\n",
       "    .dataframe tbody tr th {\n",
       "        vertical-align: top;\n",
       "    }\n",
       "\n",
       "    .dataframe thead th {\n",
       "        text-align: right;\n",
       "    }\n",
       "</style>\n",
       "<table border=\"1\" class=\"dataframe\">\n",
       "  <thead>\n",
       "    <tr style=\"text-align: right;\">\n",
       "      <th></th>\n",
       "      <th>study_id</th>\n",
       "      <th>instance_id</th>\n",
       "      <th>file_name_diastole</th>\n",
       "      <th>measurement_value_diastole</th>\n",
       "      <th>file_name_systole</th>\n",
       "      <th>measurement_value_systole</th>\n",
       "    </tr>\n",
       "  </thead>\n",
       "  <tbody>\n",
       "    <tr>\n",
       "      <th>0</th>\n",
       "      <td>43763</td>\n",
       "      <td>779540</td>\n",
       "      <td>1LHFYKEZ</td>\n",
       "      <td>45.964351</td>\n",
       "      <td>1LHFYKEZ</td>\n",
       "      <td>17.993407</td>\n",
       "    </tr>\n",
       "    <tr>\n",
       "      <th>1</th>\n",
       "      <td>46919</td>\n",
       "      <td>841585</td>\n",
       "      <td>7SQZPLEJ</td>\n",
       "      <td>124.449981</td>\n",
       "      <td>7SQZPLEJ</td>\n",
       "      <td>60.740148</td>\n",
       "    </tr>\n",
       "    <tr>\n",
       "      <th>2</th>\n",
       "      <td>50521</td>\n",
       "      <td>921901</td>\n",
       "      <td>EAKXA40T</td>\n",
       "      <td>91.569690</td>\n",
       "      <td>EAKXA40T</td>\n",
       "      <td>40.583427</td>\n",
       "    </tr>\n",
       "    <tr>\n",
       "      <th>3</th>\n",
       "      <td>57515</td>\n",
       "      <td>1078635</td>\n",
       "      <td>AFUJWQM9</td>\n",
       "      <td>73.781595</td>\n",
       "      <td>AFUJWQM9</td>\n",
       "      <td>31.494208</td>\n",
       "    </tr>\n",
       "    <tr>\n",
       "      <th>4</th>\n",
       "      <td>60906</td>\n",
       "      <td>1168238</td>\n",
       "      <td>FONQVY2N</td>\n",
       "      <td>132.222893</td>\n",
       "      <td>FONQVY2N</td>\n",
       "      <td>57.683639</td>\n",
       "    </tr>\n",
       "  </tbody>\n",
       "</table>\n",
       "</div>"
      ],
      "text/plain": [
       "   study_id  instance_id file_name_diastole  measurement_value_diastole  \\\n",
       "0     43763       779540           1LHFYKEZ                   45.964351   \n",
       "1     46919       841585           7SQZPLEJ                  124.449981   \n",
       "2     50521       921901           EAKXA40T                   91.569690   \n",
       "3     57515      1078635           AFUJWQM9                   73.781595   \n",
       "4     60906      1168238           FONQVY2N                  132.222893   \n",
       "\n",
       "  file_name_systole  measurement_value_systole  \n",
       "0          1LHFYKEZ                  17.993407  \n",
       "1          7SQZPLEJ                  60.740148  \n",
       "2          EAKXA40T                  40.583427  \n",
       "3          AFUJWQM9                  31.494208  \n",
       "4          FONQVY2N                  57.683639  "
      ]
     },
     "execution_count": 16,
     "metadata": {},
     "output_type": "execute_result"
    }
   ],
   "source": [
    "ef_df = diastole_df.merge(systole_df, on=['study_id', 'instance_id'], suffixes=['_diastole', '_systole'])\n",
    "ef_df = ef_df[ef_df['measurement_value_diastole']>=ef_df['measurement_value_systole']]\n",
    "print(ef_df.shape)\n",
    "ef_df.head()"
   ]
  },
  {
   "cell_type": "code",
   "execution_count": 17,
   "metadata": {},
   "outputs": [
    {
     "data": {
      "text/html": [
       "<div>\n",
       "<style scoped>\n",
       "    .dataframe tbody tr th:only-of-type {\n",
       "        vertical-align: middle;\n",
       "    }\n",
       "\n",
       "    .dataframe tbody tr th {\n",
       "        vertical-align: top;\n",
       "    }\n",
       "\n",
       "    .dataframe thead th {\n",
       "        text-align: right;\n",
       "    }\n",
       "</style>\n",
       "<table border=\"1\" class=\"dataframe\">\n",
       "  <thead>\n",
       "    <tr style=\"text-align: right;\">\n",
       "      <th></th>\n",
       "      <th>study_id</th>\n",
       "      <th>instance_id</th>\n",
       "      <th>file_name</th>\n",
       "      <th>measurement_name</th>\n",
       "      <th>measurement_value</th>\n",
       "      <th>measurement_unit</th>\n",
       "    </tr>\n",
       "  </thead>\n",
       "  <tbody>\n",
       "    <tr>\n",
       "      <th>0</th>\n",
       "      <td>43763</td>\n",
       "      <td>779540</td>\n",
       "      <td>1LHFYKEZ</td>\n",
       "      <td>FE(MDD-ps4)</td>\n",
       "      <td>60.853560</td>\n",
       "      <td>%</td>\n",
       "    </tr>\n",
       "    <tr>\n",
       "      <th>1</th>\n",
       "      <td>46919</td>\n",
       "      <td>841585</td>\n",
       "      <td>7SQZPLEJ</td>\n",
       "      <td>FE(MDD-ps4)</td>\n",
       "      <td>51.193124</td>\n",
       "      <td>%</td>\n",
       "    </tr>\n",
       "    <tr>\n",
       "      <th>2</th>\n",
       "      <td>50521</td>\n",
       "      <td>921901</td>\n",
       "      <td>EAKXA40T</td>\n",
       "      <td>FE(MDD-ps4)</td>\n",
       "      <td>55.680283</td>\n",
       "      <td>%</td>\n",
       "    </tr>\n",
       "    <tr>\n",
       "      <th>3</th>\n",
       "      <td>57515</td>\n",
       "      <td>1078635</td>\n",
       "      <td>AFUJWQM9</td>\n",
       "      <td>FE(MDD-ps4)</td>\n",
       "      <td>57.314276</td>\n",
       "      <td>%</td>\n",
       "    </tr>\n",
       "    <tr>\n",
       "      <th>4</th>\n",
       "      <td>60906</td>\n",
       "      <td>1168238</td>\n",
       "      <td>FONQVY2N</td>\n",
       "      <td>FE(MDD-ps4)</td>\n",
       "      <td>56.373940</td>\n",
       "      <td>%</td>\n",
       "    </tr>\n",
       "  </tbody>\n",
       "</table>\n",
       "</div>"
      ],
      "text/plain": [
       "   study_id  instance_id file_name measurement_name  measurement_value  \\\n",
       "0     43763       779540  1LHFYKEZ      FE(MDD-ps4)          60.853560   \n",
       "1     46919       841585  7SQZPLEJ      FE(MDD-ps4)          51.193124   \n",
       "2     50521       921901  EAKXA40T      FE(MDD-ps4)          55.680283   \n",
       "3     57515      1078635  AFUJWQM9      FE(MDD-ps4)          57.314276   \n",
       "4     60906      1168238  FONQVY2N      FE(MDD-ps4)          56.373940   \n",
       "\n",
       "  measurement_unit  \n",
       "0                %  \n",
       "1                %  \n",
       "2                %  \n",
       "3                %  \n",
       "4                %  "
      ]
     },
     "execution_count": 17,
     "metadata": {},
     "output_type": "execute_result"
    }
   ],
   "source": [
    "ef_df['file_name'] = ef_df['file_name_diastole']\n",
    "ef_df['measurement_name'] = 'FE(MDD-ps4)'\n",
    "ef_df['measurement_value'] = (ef_df['measurement_value_diastole']-ef_df['measurement_value_systole'])/ef_df['measurement_value_diastole']*100\n",
    "ef_df['measurement_unit'] = '%'\n",
    "ef_df = ef_df.drop(['file_name_diastole', 'measurement_value_diastole', 'file_name_systole', 'measurement_value_systole'], axis=1)\n",
    "ef_df.head()"
   ]
  },
  {
   "cell_type": "code",
   "execution_count": 18,
   "metadata": {},
   "outputs": [
    {
     "data": {
      "text/html": [
       "<div>\n",
       "<style scoped>\n",
       "    .dataframe tbody tr th:only-of-type {\n",
       "        vertical-align: middle;\n",
       "    }\n",
       "\n",
       "    .dataframe tbody tr th {\n",
       "        vertical-align: top;\n",
       "    }\n",
       "\n",
       "    .dataframe thead th {\n",
       "        text-align: right;\n",
       "    }\n",
       "</style>\n",
       "<table border=\"1\" class=\"dataframe\">\n",
       "  <thead>\n",
       "    <tr style=\"text-align: right;\">\n",
       "      <th></th>\n",
       "      <th>study_id</th>\n",
       "      <th>instance_id</th>\n",
       "      <th>file_name</th>\n",
       "      <th>measurement_name</th>\n",
       "      <th>measurement_value</th>\n",
       "      <th>measurement_unit</th>\n",
       "    </tr>\n",
       "  </thead>\n",
       "  <tbody>\n",
       "    <tr>\n",
       "      <th>0</th>\n",
       "      <td>43763</td>\n",
       "      <td>779540</td>\n",
       "      <td>1LHFYKEZ</td>\n",
       "      <td>VTD(MDD-ps4)</td>\n",
       "      <td>45.964351</td>\n",
       "      <td>mL</td>\n",
       "    </tr>\n",
       "    <tr>\n",
       "      <th>1</th>\n",
       "      <td>43763</td>\n",
       "      <td>779540</td>\n",
       "      <td>1LHFYKEZ</td>\n",
       "      <td>VTS(MDD-ps4)</td>\n",
       "      <td>17.993407</td>\n",
       "      <td>mL</td>\n",
       "    </tr>\n",
       "    <tr>\n",
       "      <th>2</th>\n",
       "      <td>46919</td>\n",
       "      <td>841585</td>\n",
       "      <td>7SQZPLEJ</td>\n",
       "      <td>VTD(MDD-ps4)</td>\n",
       "      <td>124.449981</td>\n",
       "      <td>mL</td>\n",
       "    </tr>\n",
       "    <tr>\n",
       "      <th>3</th>\n",
       "      <td>46919</td>\n",
       "      <td>841585</td>\n",
       "      <td>7SQZPLEJ</td>\n",
       "      <td>VTS(MDD-ps4)</td>\n",
       "      <td>60.740148</td>\n",
       "      <td>mL</td>\n",
       "    </tr>\n",
       "    <tr>\n",
       "      <th>4</th>\n",
       "      <td>50521</td>\n",
       "      <td>921901</td>\n",
       "      <td>EAKXA40T</td>\n",
       "      <td>VTD(MDD-ps4)</td>\n",
       "      <td>91.569690</td>\n",
       "      <td>mL</td>\n",
       "    </tr>\n",
       "  </tbody>\n",
       "</table>\n",
       "</div>"
      ],
      "text/plain": [
       "   study_id  instance_id file_name measurement_name  measurement_value  \\\n",
       "0     43763       779540  1LHFYKEZ     VTD(MDD-ps4)          45.964351   \n",
       "1     43763       779540  1LHFYKEZ     VTS(MDD-ps4)          17.993407   \n",
       "2     46919       841585  7SQZPLEJ     VTD(MDD-ps4)         124.449981   \n",
       "3     46919       841585  7SQZPLEJ     VTS(MDD-ps4)          60.740148   \n",
       "4     50521       921901  EAKXA40T     VTD(MDD-ps4)          91.569690   \n",
       "\n",
       "  measurement_unit  \n",
       "0               mL  \n",
       "1               mL  \n",
       "2               mL  \n",
       "3               mL  \n",
       "4               mL  "
      ]
     },
     "execution_count": 18,
     "metadata": {},
     "output_type": "execute_result"
    }
   ],
   "source": [
    "volume_df.head()"
   ]
  },
  {
   "cell_type": "code",
   "execution_count": 19,
   "metadata": {},
   "outputs": [
    {
     "data": {
      "text/html": [
       "<div>\n",
       "<style scoped>\n",
       "    .dataframe tbody tr th:only-of-type {\n",
       "        vertical-align: middle;\n",
       "    }\n",
       "\n",
       "    .dataframe tbody tr th {\n",
       "        vertical-align: top;\n",
       "    }\n",
       "\n",
       "    .dataframe thead th {\n",
       "        text-align: right;\n",
       "    }\n",
       "</style>\n",
       "<table border=\"1\" class=\"dataframe\">\n",
       "  <thead>\n",
       "    <tr style=\"text-align: right;\">\n",
       "      <th></th>\n",
       "      <th>study_id</th>\n",
       "      <th>instance_id</th>\n",
       "      <th>file_name</th>\n",
       "      <th>measurement_name</th>\n",
       "      <th>measurement_value</th>\n",
       "      <th>measurement_unit</th>\n",
       "    </tr>\n",
       "  </thead>\n",
       "  <tbody>\n",
       "    <tr>\n",
       "      <th>0</th>\n",
       "      <td>43763</td>\n",
       "      <td>779540</td>\n",
       "      <td>1LHFYKEZ</td>\n",
       "      <td>FE(MDD-ps4)</td>\n",
       "      <td>60.853560</td>\n",
       "      <td>%</td>\n",
       "    </tr>\n",
       "    <tr>\n",
       "      <th>1</th>\n",
       "      <td>46919</td>\n",
       "      <td>841585</td>\n",
       "      <td>7SQZPLEJ</td>\n",
       "      <td>FE(MDD-ps4)</td>\n",
       "      <td>51.193124</td>\n",
       "      <td>%</td>\n",
       "    </tr>\n",
       "    <tr>\n",
       "      <th>2</th>\n",
       "      <td>50521</td>\n",
       "      <td>921901</td>\n",
       "      <td>EAKXA40T</td>\n",
       "      <td>FE(MDD-ps4)</td>\n",
       "      <td>55.680283</td>\n",
       "      <td>%</td>\n",
       "    </tr>\n",
       "    <tr>\n",
       "      <th>3</th>\n",
       "      <td>57515</td>\n",
       "      <td>1078635</td>\n",
       "      <td>AFUJWQM9</td>\n",
       "      <td>FE(MDD-ps4)</td>\n",
       "      <td>57.314276</td>\n",
       "      <td>%</td>\n",
       "    </tr>\n",
       "    <tr>\n",
       "      <th>4</th>\n",
       "      <td>60906</td>\n",
       "      <td>1168238</td>\n",
       "      <td>FONQVY2N</td>\n",
       "      <td>FE(MDD-ps4)</td>\n",
       "      <td>56.373940</td>\n",
       "      <td>%</td>\n",
       "    </tr>\n",
       "  </tbody>\n",
       "</table>\n",
       "</div>"
      ],
      "text/plain": [
       "   study_id  instance_id file_name measurement_name  measurement_value  \\\n",
       "0     43763       779540  1LHFYKEZ      FE(MDD-ps4)          60.853560   \n",
       "1     46919       841585  7SQZPLEJ      FE(MDD-ps4)          51.193124   \n",
       "2     50521       921901  EAKXA40T      FE(MDD-ps4)          55.680283   \n",
       "3     57515      1078635  AFUJWQM9      FE(MDD-ps4)          57.314276   \n",
       "4     60906      1168238  FONQVY2N      FE(MDD-ps4)          56.373940   \n",
       "\n",
       "  measurement_unit  \n",
       "0                %  \n",
       "1                %  \n",
       "2                %  \n",
       "3                %  \n",
       "4                %  "
      ]
     },
     "execution_count": 19,
     "metadata": {},
     "output_type": "execute_result"
    }
   ],
   "source": [
    "ef_df.head()"
   ]
  },
  {
   "cell_type": "code",
   "execution_count": 20,
   "metadata": {},
   "outputs": [],
   "source": [
    "ground_truths = volume_df.append(ef_df)"
   ]
  },
  {
   "cell_type": "code",
   "execution_count": 21,
   "metadata": {},
   "outputs": [],
   "source": [
    "io_segmentation.save_to_db(ground_truths, \"ground_truths\")"
   ]
  }
 ],
 "metadata": {
  "kernelspec": {
   "display_name": "Environment (conda_usal_echo)",
   "language": "python",
   "name": "conda_usal_echo"
  },
  "language_info": {
   "codemirror_mode": {
    "name": "ipython",
    "version": 3
   },
   "file_extension": ".py",
   "mimetype": "text/x-python",
   "name": "python",
   "nbconvert_exporter": "python",
   "pygments_lexer": "ipython3",
   "version": "3.6.5"
  }
 },
 "nbformat": 4,
 "nbformat_minor": 2
}
