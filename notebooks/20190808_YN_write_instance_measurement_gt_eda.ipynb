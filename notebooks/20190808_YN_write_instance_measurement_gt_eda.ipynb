{
 "cells": [
  {
   "cell_type": "code",
   "execution_count": 1,
   "metadata": {},
   "outputs": [],
   "source": [
    "%reload_ext autoreload\n",
    "%autoreload 2"
   ]
  },
  {
   "cell_type": "code",
   "execution_count": 2,
   "metadata": {},
   "outputs": [],
   "source": [
    "import sys\n",
    "sys.path.append('../src')"
   ]
  },
  {
   "cell_type": "code",
   "execution_count": 3,
   "metadata": {},
   "outputs": [
    {
     "name": "stderr",
     "output_type": "stream",
     "text": [
      "/home/ubuntu/anaconda3/envs/usal_echo/lib/python3.6/site-packages/psycopg2/__init__.py:144: UserWarning: The psycopg2 wheel package will be renamed from release 2.8; in order to keep installing from binary please use \"pip install psycopg2-binary\" instead. For details see: <http://initd.org/psycopg/docs/install.html#binary-install-from-pypi>.\n",
      "  \"\"\")\n"
     ]
    }
   ],
   "source": [
    "from d00_utils.db_utils import dbReadWriteViews, dbReadWriteMeasurement\n",
    "io_views = dbReadWriteViews()\n",
    "io_measurement = dbReadWriteMeasurement()"
   ]
  },
  {
   "cell_type": "code",
   "execution_count": 4,
   "metadata": {},
   "outputs": [
    {
     "name": "stdout",
     "output_type": "stream",
     "text": [
      "522\n"
     ]
    }
   ],
   "source": [
    "instances_w_labels_test_downsampleby5_df = io_views.get_table('instances_w_labels_test_downsampleby5')\n",
    "instances_w_labels_test_downsampleby5_df = instances_w_labels_test_downsampleby5_df[(instances_w_labels_test_downsampleby5_df['view']=='a2c') | (instances_w_labels_test_downsampleby5_df['view']=='a4c')]\n",
    "instanceidks = instances_w_labels_test_downsampleby5_df['instanceidk'].unique()\n",
    "print(len(instanceidks))"
   ]
  },
  {
   "cell_type": "code",
   "execution_count": 5,
   "metadata": {},
   "outputs": [
    {
     "name": "stderr",
     "output_type": "stream",
     "text": [
      "/home/ubuntu/anaconda3/envs/usal_echo/lib/python3.6/site-packages/IPython/core/interactiveshell.py:3326: DtypeWarning: Columns (8,9) have mixed types. Specify dtype option on import or set low_memory=False.\n",
      "  exec(code_obj, self.user_global_ns, self.user_ns)\n"
     ]
    }
   ],
   "source": [
    "from d05_measurement.write_groundtruth import write_groundtruth\n",
    "write_groundtruth(instanceidks)"
   ]
  },
  {
   "cell_type": "code",
   "execution_count": 8,
   "metadata": {},
   "outputs": [
    {
     "name": "stdout",
     "output_type": "stream",
     "text": [
      "(704, 6)\n"
     ]
    },
    {
     "data": {
      "text/html": [
       "<div>\n",
       "<style scoped>\n",
       "    .dataframe tbody tr th:only-of-type {\n",
       "        vertical-align: middle;\n",
       "    }\n",
       "\n",
       "    .dataframe tbody tr th {\n",
       "        vertical-align: top;\n",
       "    }\n",
       "\n",
       "    .dataframe thead th {\n",
       "        text-align: right;\n",
       "    }\n",
       "</style>\n",
       "<table border=\"1\" class=\"dataframe\">\n",
       "  <thead>\n",
       "    <tr style=\"text-align: right;\">\n",
       "      <th></th>\n",
       "      <th>study_id</th>\n",
       "      <th>instance_id</th>\n",
       "      <th>file_name</th>\n",
       "      <th>measurement_name</th>\n",
       "      <th>measurement_value</th>\n",
       "      <th>measurement_unit</th>\n",
       "    </tr>\n",
       "  </thead>\n",
       "  <tbody>\n",
       "    <tr>\n",
       "      <th>0</th>\n",
       "      <td>43763</td>\n",
       "      <td>779540</td>\n",
       "      <td>1LHFYKEZ</td>\n",
       "      <td>VTD(MDD-ps4)</td>\n",
       "      <td>45.964351</td>\n",
       "      <td>mL</td>\n",
       "    </tr>\n",
       "    <tr>\n",
       "      <th>1</th>\n",
       "      <td>43763</td>\n",
       "      <td>779540</td>\n",
       "      <td>1LHFYKEZ</td>\n",
       "      <td>VTS(MDD-ps4)</td>\n",
       "      <td>17.993407</td>\n",
       "      <td>mL</td>\n",
       "    </tr>\n",
       "    <tr>\n",
       "      <th>2</th>\n",
       "      <td>46919</td>\n",
       "      <td>841585</td>\n",
       "      <td>7SQZPLEJ</td>\n",
       "      <td>VTD(MDD-ps4)</td>\n",
       "      <td>124.449981</td>\n",
       "      <td>mL</td>\n",
       "    </tr>\n",
       "    <tr>\n",
       "      <th>3</th>\n",
       "      <td>46919</td>\n",
       "      <td>841585</td>\n",
       "      <td>7SQZPLEJ</td>\n",
       "      <td>VTS(MDD-ps4)</td>\n",
       "      <td>60.740148</td>\n",
       "      <td>mL</td>\n",
       "    </tr>\n",
       "    <tr>\n",
       "      <th>4</th>\n",
       "      <td>50521</td>\n",
       "      <td>921901</td>\n",
       "      <td>EAKXA40T</td>\n",
       "      <td>VTD(MDD-ps4)</td>\n",
       "      <td>91.569690</td>\n",
       "      <td>mL</td>\n",
       "    </tr>\n",
       "  </tbody>\n",
       "</table>\n",
       "</div>"
      ],
      "text/plain": [
       "   study_id  instance_id file_name measurement_name  measurement_value  \\\n",
       "0     43763       779540  1LHFYKEZ     VTD(MDD-ps4)          45.964351   \n",
       "1     43763       779540  1LHFYKEZ     VTS(MDD-ps4)          17.993407   \n",
       "2     46919       841585  7SQZPLEJ     VTD(MDD-ps4)         124.449981   \n",
       "3     46919       841585  7SQZPLEJ     VTS(MDD-ps4)          60.740148   \n",
       "4     50521       921901  EAKXA40T     VTD(MDD-ps4)          91.569690   \n",
       "\n",
       "  measurement_unit  \n",
       "0               mL  \n",
       "1               mL  \n",
       "2               mL  \n",
       "3               mL  \n",
       "4               mL  "
      ]
     },
     "execution_count": 8,
     "metadata": {},
     "output_type": "execute_result"
    }
   ],
   "source": [
    "ground_truths_df = io_measurement.get_table('ground_truths')\n",
    "print(ground_truths_df.shape)\n",
    "ground_truths_df.head()"
   ]
  },
  {
   "cell_type": "code",
   "execution_count": 9,
   "metadata": {},
   "outputs": [
    {
     "data": {
      "text/html": [
       "<div>\n",
       "<style scoped>\n",
       "    .dataframe tbody tr th:only-of-type {\n",
       "        vertical-align: middle;\n",
       "    }\n",
       "\n",
       "    .dataframe tbody tr th {\n",
       "        vertical-align: top;\n",
       "    }\n",
       "\n",
       "    .dataframe thead th {\n",
       "        text-align: right;\n",
       "    }\n",
       "</style>\n",
       "<table border=\"1\" class=\"dataframe\">\n",
       "  <thead>\n",
       "    <tr style=\"text-align: right;\">\n",
       "      <th></th>\n",
       "      <th>study_id</th>\n",
       "      <th>instance_id</th>\n",
       "      <th>file_name</th>\n",
       "      <th>measurement_name</th>\n",
       "      <th>measurement_value</th>\n",
       "      <th>measurement_unit</th>\n",
       "    </tr>\n",
       "  </thead>\n",
       "  <tbody>\n",
       "    <tr>\n",
       "      <th>699</th>\n",
       "      <td>126098</td>\n",
       "      <td>2985218</td>\n",
       "      <td>EBITNLTE</td>\n",
       "      <td>FE(MDD-ps4)</td>\n",
       "      <td>64.646521</td>\n",
       "      <td>%</td>\n",
       "    </tr>\n",
       "    <tr>\n",
       "      <th>700</th>\n",
       "      <td>126288</td>\n",
       "      <td>2990141</td>\n",
       "      <td>EDTICRZG</td>\n",
       "      <td>FE(MDD-ps4)</td>\n",
       "      <td>64.969289</td>\n",
       "      <td>%</td>\n",
       "    </tr>\n",
       "    <tr>\n",
       "      <th>701</th>\n",
       "      <td>126751</td>\n",
       "      <td>3003299</td>\n",
       "      <td>FDNHKCYK</td>\n",
       "      <td>FE(MDD-ps4)</td>\n",
       "      <td>31.245536</td>\n",
       "      <td>%</td>\n",
       "    </tr>\n",
       "    <tr>\n",
       "      <th>702</th>\n",
       "      <td>126772</td>\n",
       "      <td>3003810</td>\n",
       "      <td>FDNHO33T</td>\n",
       "      <td>FE(MDD-ps4)</td>\n",
       "      <td>74.126343</td>\n",
       "      <td>%</td>\n",
       "    </tr>\n",
       "    <tr>\n",
       "      <th>703</th>\n",
       "      <td>126781</td>\n",
       "      <td>3004026</td>\n",
       "      <td>FDNHQ1M9</td>\n",
       "      <td>FE(MDD-ps4)</td>\n",
       "      <td>46.739345</td>\n",
       "      <td>%</td>\n",
       "    </tr>\n",
       "  </tbody>\n",
       "</table>\n",
       "</div>"
      ],
      "text/plain": [
       "     study_id  instance_id file_name measurement_name  measurement_value  \\\n",
       "699    126098      2985218  EBITNLTE      FE(MDD-ps4)          64.646521   \n",
       "700    126288      2990141  EDTICRZG      FE(MDD-ps4)          64.969289   \n",
       "701    126751      3003299  FDNHKCYK      FE(MDD-ps4)          31.245536   \n",
       "702    126772      3003810  FDNHO33T      FE(MDD-ps4)          74.126343   \n",
       "703    126781      3004026  FDNHQ1M9      FE(MDD-ps4)          46.739345   \n",
       "\n",
       "    measurement_unit  \n",
       "699                %  \n",
       "700                %  \n",
       "701                %  \n",
       "702                %  \n",
       "703                %  "
      ]
     },
     "execution_count": 9,
     "metadata": {},
     "output_type": "execute_result"
    }
   ],
   "source": [
    "ground_truths_df.tail()"
   ]
  },
  {
   "cell_type": "code",
   "execution_count": null,
   "metadata": {},
   "outputs": [],
   "source": []
  }
 ],
 "metadata": {
  "kernelspec": {
   "display_name": "Environment (conda_usal_echo)",
   "language": "python",
   "name": "conda_usal_echo"
  },
  "language_info": {
   "codemirror_mode": {
    "name": "ipython",
    "version": 3
   },
   "file_extension": ".py",
   "mimetype": "text/x-python",
   "name": "python",
   "nbconvert_exporter": "python",
   "pygments_lexer": "ipython3",
   "version": "3.6.5"
  }
 },
 "nbformat": 4,
 "nbformat_minor": 2
}
