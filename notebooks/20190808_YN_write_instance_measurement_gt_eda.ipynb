{
 "cells": [
  {
   "cell_type": "code",
   "execution_count": 1,
   "metadata": {},
   "outputs": [],
   "source": [
    "%reload_ext autoreload\n",
    "%autoreload 2"
   ]
  },
  {
   "cell_type": "code",
   "execution_count": 2,
   "metadata": {},
   "outputs": [],
   "source": [
    "import sys\n",
    "sys.path.append('../src')"
   ]
  },
  {
   "cell_type": "code",
   "execution_count": 3,
   "metadata": {},
   "outputs": [
    {
     "name": "stderr",
     "output_type": "stream",
     "text": [
      "/home/ubuntu/anaconda3/envs/usal_echo/lib/python3.6/site-packages/psycopg2/__init__.py:144: UserWarning: The psycopg2 wheel package will be renamed from release 2.8; in order to keep installing from binary please use \"pip install psycopg2-binary\" instead. For details see: <http://initd.org/psycopg/docs/install.html#binary-install-from-pypi>.\n",
      "  \"\"\")\n"
     ]
    }
   ],
   "source": [
    "from d00_utils.db_utils import dbReadWriteViews, dbReadWriteMeasurement\n",
    "io_views = dbReadWriteViews()\n",
    "io_measurement = dbReadWriteMeasurement()"
   ]
  },
  {
   "cell_type": "code",
   "execution_count": 4,
   "metadata": {},
   "outputs": [
    {
     "name": "stdout",
     "output_type": "stream",
     "text": [
      "522\n"
     ]
    }
   ],
   "source": [
    "instances_w_labels_test_downsampleby5_df = io_views.get_table('instances_w_labels_test_downsampleby5')\n",
    "instances_w_labels_test_downsampleby5_df = instances_w_labels_test_downsampleby5_df[(instances_w_labels_test_downsampleby5_df['view']=='a2c') | (instances_w_labels_test_downsampleby5_df['view']=='a4c')]\n",
    "instanceidks = instances_w_labels_test_downsampleby5_df['instanceidk'].unique()\n",
    "print(len(instanceidks))"
   ]
  },
  {
   "cell_type": "code",
   "execution_count": 5,
   "metadata": {},
   "outputs": [
    {
     "name": "stderr",
     "output_type": "stream",
     "text": [
      "/home/ubuntu/anaconda3/envs/usal_echo/lib/python3.6/site-packages/IPython/core/interactiveshell.py:3326: DtypeWarning: Columns (8,9) have mixed types. Specify dtype option on import or set low_memory=False.\n",
      "  exec(code_obj, self.user_global_ns, self.user_ns)\n"
     ]
    }
   ],
   "source": [
    "from d05_measurement.write_groundtruth import write_groundtruth\n",
    "write_groundtruth(instanceidks)"
   ]
  },
  {
   "cell_type": "code",
   "execution_count": 6,
   "metadata": {},
   "outputs": [
    {
     "name": "stdout",
     "output_type": "stream",
     "text": [
      "(937, 6)\n"
     ]
    },
    {
     "data": {
      "text/html": [
       "<div>\n",
       "<style scoped>\n",
       "    .dataframe tbody tr th:only-of-type {\n",
       "        vertical-align: middle;\n",
       "    }\n",
       "\n",
       "    .dataframe tbody tr th {\n",
       "        vertical-align: top;\n",
       "    }\n",
       "\n",
       "    .dataframe thead th {\n",
       "        text-align: right;\n",
       "    }\n",
       "</style>\n",
       "<table border=\"1\" class=\"dataframe\">\n",
       "  <thead>\n",
       "    <tr style=\"text-align: right;\">\n",
       "      <th></th>\n",
       "      <th>study_id</th>\n",
       "      <th>instance_id</th>\n",
       "      <th>file_name</th>\n",
       "      <th>measurement_name</th>\n",
       "      <th>measurement_value</th>\n",
       "      <th>measurement_unit</th>\n",
       "    </tr>\n",
       "  </thead>\n",
       "  <tbody>\n",
       "    <tr>\n",
       "      <th>0</th>\n",
       "      <td>43763</td>\n",
       "      <td>779540</td>\n",
       "      <td>1LHFYKEZ</td>\n",
       "      <td>VTD(MDD-ps4)</td>\n",
       "      <td>45.9643513722676</td>\n",
       "      <td>mL</td>\n",
       "    </tr>\n",
       "    <tr>\n",
       "      <th>1</th>\n",
       "      <td>43763</td>\n",
       "      <td>779540</td>\n",
       "      <td>1LHFYKEZ</td>\n",
       "      <td>VTS(MDD-ps4)</td>\n",
       "      <td>17.993407423577</td>\n",
       "      <td>mL</td>\n",
       "    </tr>\n",
       "    <tr>\n",
       "      <th>2</th>\n",
       "      <td>46919</td>\n",
       "      <td>841585</td>\n",
       "      <td>7SQZPLEJ</td>\n",
       "      <td>VTD(MDD-ps4)</td>\n",
       "      <td>124.449980552569</td>\n",
       "      <td>mL</td>\n",
       "    </tr>\n",
       "    <tr>\n",
       "      <th>3</th>\n",
       "      <td>46919</td>\n",
       "      <td>841585</td>\n",
       "      <td>7SQZPLEJ</td>\n",
       "      <td>VTS(MDD-ps4)</td>\n",
       "      <td>60.74014817013661</td>\n",
       "      <td>mL</td>\n",
       "    </tr>\n",
       "    <tr>\n",
       "      <th>4</th>\n",
       "      <td>50521</td>\n",
       "      <td>921901</td>\n",
       "      <td>EAKXA40T</td>\n",
       "      <td>VTD(MDD-ps4)</td>\n",
       "      <td>91.5696899990777</td>\n",
       "      <td>mL</td>\n",
       "    </tr>\n",
       "  </tbody>\n",
       "</table>\n",
       "</div>"
      ],
      "text/plain": [
       "   study_id  instance_id file_name measurement_name  measurement_value  \\\n",
       "0     43763       779540  1LHFYKEZ     VTD(MDD-ps4)   45.9643513722676   \n",
       "1     43763       779540  1LHFYKEZ     VTS(MDD-ps4)    17.993407423577   \n",
       "2     46919       841585  7SQZPLEJ     VTD(MDD-ps4)   124.449980552569   \n",
       "3     46919       841585  7SQZPLEJ     VTS(MDD-ps4)  60.74014817013661   \n",
       "4     50521       921901  EAKXA40T     VTD(MDD-ps4)   91.5696899990777   \n",
       "\n",
       "  measurement_unit  \n",
       "0               mL  \n",
       "1               mL  \n",
       "2               mL  \n",
       "3               mL  \n",
       "4               mL  "
      ]
     },
     "execution_count": 6,
     "metadata": {},
     "output_type": "execute_result"
    }
   ],
   "source": [
    "ground_truths_df = io_measurement.get_table('ground_truths')\n",
    "print(ground_truths_df.shape)\n",
    "ground_truths_df.head()"
   ]
  }
 ],
 "metadata": {
  "kernelspec": {
   "display_name": "Environment (conda_usal_echo)",
   "language": "python",
   "name": "conda_usal_echo"
  },
  "language_info": {
   "codemirror_mode": {
    "name": "ipython",
    "version": 3
   },
   "file_extension": ".py",
   "mimetype": "text/x-python",
   "name": "python",
   "nbconvert_exporter": "python",
   "pygments_lexer": "ipython3",
   "version": "3.6.5"
  }
 },
 "nbformat": 4,
 "nbformat_minor": 2
}
