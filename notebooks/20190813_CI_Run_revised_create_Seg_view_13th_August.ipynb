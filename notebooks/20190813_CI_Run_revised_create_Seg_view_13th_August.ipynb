{
 "cells": [
  {
   "cell_type": "code",
   "execution_count": 1,
   "metadata": {},
   "outputs": [
    {
     "name": "stdout",
     "output_type": "stream",
     "text": [
      "/home/ubuntu/courtney/usal_echo\n"
     ]
    }
   ],
   "source": [
    "import sys\n",
    "import os\n",
    "project_dir = os.path.dirname(os.getcwd())\n",
    "sys.path.append(project_dir) #notebooks can't look into source unless you append the parent project directory to the path\n",
    "print(project_dir)"
   ]
  },
  {
   "cell_type": "code",
   "execution_count": 2,
   "metadata": {},
   "outputs": [
    {
     "name": "stderr",
     "output_type": "stream",
     "text": [
      "/home/ubuntu/anaconda3/envs/usal_echo/lib/python3.6/site-packages/psycopg2/__init__.py:144: UserWarning: The psycopg2 wheel package will be renamed from release 2.8; in order to keep installing from binary please use \"pip install psycopg2-binary\" instead. For details see: <http://initd.org/psycopg/docs/install.html#binary-install-from-pypi>.\n",
      "  \"\"\")\n"
     ]
    }
   ],
   "source": [
    "sys.path.append('../src')\n",
    "from d00_utils.db_utils import *\n",
    "from d02_intermediate.create_seg_view import *\n",
    "from d04_segmentation.create_probabilities_textfile_testing import *"
   ]
  },
  {
   "cell_type": "code",
   "execution_count": 3,
   "metadata": {},
   "outputs": [],
   "source": [
    "#create_probabilities_textfile_testing()"
   ]
  },
  {
   "cell_type": "code",
   "execution_count": 4,
   "metadata": {},
   "outputs": [
    {
     "name": "stderr",
     "output_type": "stream",
     "text": [
      "/home/ubuntu/anaconda3/envs/usal_echo/lib/python3.6/site-packages/IPython/core/interactiveshell.py:3249: DtypeWarning: Columns (8,9) have mixed types. Specify dtype option on import or set low_memory=False.\n",
      "  if (await self.run_code(code, result,  async_=asy)):\n"
     ]
    }
   ],
   "source": [
    "io_clean = dbReadWriteClean()\n",
    "io_views = dbReadWriteViews()\n",
    "\n",
    "# 1. Import a_modvolume, a_measgraphref, a_measgraphic,\n",
    "#        measurement_abstract_rpt\n",
    "a_modvolume_df = io_clean.get_table(\"a_modvolume\")\n",
    "a_measgraphref_df = io_clean.get_table(\"a_measgraphref\")\n",
    "a_measgraphic_df = io_clean.get_table(\"a_measgraphic\")\n",
    "measurement_abstract_rpt_df = io_clean.get_table(\"measurement_abstract_rpt\")\n",
    "    "
   ]
  },
  {
   "cell_type": "code",
   "execution_count": 5,
   "metadata": {},
   "outputs": [],
   "source": [
    "# 2. merge a_measgraphref_df, measurement_abstract_rpt_df\n",
    "df = pd.merge(\n",
    "    a_measgraphref_df,\n",
    "    measurement_abstract_rpt_df,\n",
    "    how=\"left\",\n",
    "    on=[\"studyidk\", \"measabstractnumber\"],\n",
    ")\n",
    "del a_measgraphref_df\n",
    "del measurement_abstract_rpt_df\n"
   ]
  },
  {
   "cell_type": "code",
   "execution_count": 6,
   "metadata": {},
   "outputs": [
    {
     "data": {
      "text/plain": [
       "studyidk               858255\n",
       "measabstractnumber     858255\n",
       "meassequence           858255\n",
       "instanceidk            858255\n",
       "indexinmglist          858255\n",
       "value_x                858255\n",
       "howentered             858255\n",
       "srinstanceidk          858255\n",
       "imagesopinstanceuid    858255\n",
       "measurementuid         858255\n",
       "name                   858255\n",
       "value_y                858255\n",
       "unitname               858255\n",
       "frame                  823833\n",
       "graphictoolidk         823833\n",
       "longaxisindex          823833\n",
       "measidk                823833\n",
       "loopidk                823833\n",
       "instancerecordtype     823833\n",
       "dtype: int64"
      ]
     },
     "execution_count": 6,
     "metadata": {},
     "output_type": "execute_result"
    }
   ],
   "source": [
    "df_2 = pd.merge(df, a_measgraphic_df, how=\"left\", on=[\"instanceidk\", \"indexinmglist\"])\n",
    "df_2.count()"
   ]
  },
  {
   "cell_type": "code",
   "execution_count": 7,
   "metadata": {},
   "outputs": [],
   "source": [
    "\n",
    "#3. #create a dictionary to link measurements to views\n",
    "\n",
    "measurement_2_view_dict = {'AVItd ap4' :'A4C', 'DVItd ap4' : 'A4C', 'VTD(el-ps4)': 'A4C', 'VTD(MDD-ps4)': 'A4C', \n",
    "                           'AVIts ap4': 'A4C', 'DVIts ap4':'A4C', 'VTS(el-ps4)':'A4C', 'VTS(MDD-ps4)':'A4C', \n",
    "                           'AVItd ap2':'A2C', 'DVItd ap2':'A2C', 'VTD(el-ps2)':'A2C', 'VTD(MDD-ps2)':'A2C', \n",
    "                           'AVIts ap2':'A2C', 'DVIts ap2':'A2C', 'VTS(el-ps2)': 'A2C', 'VTS(MDD-ps2)':'A2C', \n",
    "                           'Vol. AI (MOD-sp4)':'A4C', 'Vol. AI (MOD-sp2)':'A2C'}\n",
    "\n",
    "measurement_2_chamber_dict = {'AVItd ap4' :'lv', 'DVItd ap4' : 'lv', 'VTD(el-ps4)': 'lv', 'VTD(MDD-ps4)': 'lv', \n",
    "                           'AVIts ap4': 'lv', 'DVIts ap4':'lv', 'VTS(el-ps4)':'lv', 'VTS(MDD-ps4)':'lv', \n",
    "                           'AVItd ap2':'lv', 'DVItd ap2':'lv', 'VTD(el-ps2)':'lv', 'VTD(MDD-ps2)':'lv', \n",
    "                           'AVIts ap2':'lv', 'DVIts ap2':'lv', 'VTS(el-ps2)': 'lv', 'VTS(MDD-ps2)':'lv', \n",
    "                           'Vol. AI (MOD-sp4)':'la', 'Vol. AI (MOD-sp2)':'la'}\n",
    "\n",
    "measurement_2_cardio_moment_dict = {'AVItd ap4' :'ED', 'DVItd ap4' : 'ED', 'VTD(el-ps4)': 'ED', 'VTD(MDD-ps4)': 'ED', \n",
    "                           'AVIts ap4': 'ES', 'DVIts ap4':'ES', 'VTS(el-ps4)':'ES', 'VTS(MDD-ps4)':'ES', \n",
    "                           'AVItd ap2':'ED', 'DVItd ap2':'ED', 'VTD(el-ps2)':'ED', 'VTD(MDD-ps2)':'ED', \n",
    "                           'AVIts ap2':'ES', 'DVIts ap2':'ES', 'VTS(el-ps2)': 'ES', 'VTS(MDD-ps2)':'ES', \n",
    "                           'Vol. AI (MOD-sp4)':'ES', 'Vol. AI (MOD-sp2)':'ES'}\n",
    "\n"
   ]
  },
  {
   "cell_type": "code",
   "execution_count": 8,
   "metadata": {},
   "outputs": [],
   "source": [
    "#4. # Add these dictionaries to the df_2\n",
    "df_2['view'] = df_2['name'].map(measurement_2_view_dict)\n",
    "df_2['chamber'] = df_2['name'].map(measurement_2_chamber_dict)\n",
    "df_2['cardio_moment'] = df_2['name'].map(measurement_2_cardio_moment_dict)\n",
    "\n",
    "del df\n",
    "\n"
   ]
  },
  {
   "cell_type": "code",
   "execution_count": 9,
   "metadata": {},
   "outputs": [],
   "source": [
    "#5# Cut out the rows without view, chamber and cadio_moment\n",
    "df_3 = df_2[pd.notna(df_2['view']) == True]\n",
    "del df_2\n",
    "\n",
    "#6.  dropping -1 instances\n",
    "df_4 = df_3[df_3['instanceidk'] != -1]\n",
    "\n"
   ]
  },
  {
   "cell_type": "code",
   "execution_count": 10,
   "metadata": {},
   "outputs": [],
   "source": [
    "#7. Only colums we need &drop duplicates\n",
    "df_5 = df_4[['studyidk','indexinmglist', 'instanceidk', 'frame','view','chamber', 'cardio_moment']].copy()\n",
    "df_6 = df_5.drop_duplicates()\n",
    "\n",
    "del df_4\n",
    "del df_5\n",
    "\n",
    "# 8. Drop instance id 1789286 and 3121715 due to problems linking and\n",
    "#        conflicts\n",
    "#   Drop unnessecary row_id from orginal tables (causes problems in dbWrite)\n",
    "df_7 = df_6.drop(\n",
    "    df_6[(df_6.instanceidk == 1789286) | (df_6.instanceidk == 3121715)].index\n",
    ")\n",
    "del df_6\n"
   ]
  },
  {
   "cell_type": "code",
   "execution_count": 11,
   "metadata": {},
   "outputs": [
    {
     "data": {
      "text/html": [
       "<div>\n",
       "<style scoped>\n",
       "    .dataframe tbody tr th:only-of-type {\n",
       "        vertical-align: middle;\n",
       "    }\n",
       "\n",
       "    .dataframe tbody tr th {\n",
       "        vertical-align: top;\n",
       "    }\n",
       "\n",
       "    .dataframe thead th {\n",
       "        text-align: right;\n",
       "    }\n",
       "</style>\n",
       "<table border=\"1\" class=\"dataframe\">\n",
       "  <thead>\n",
       "    <tr style=\"text-align: right;\">\n",
       "      <th></th>\n",
       "      <th>sopinstanceuid</th>\n",
       "      <th>instancefilename</th>\n",
       "      <th>instanceidk</th>\n",
       "      <th>studyidk</th>\n",
       "    </tr>\n",
       "  </thead>\n",
       "  <tbody>\n",
       "    <tr>\n",
       "      <th>0</th>\n",
       "      <td>1.2.840.113543.6.6.4.6.62554526370968849932129...</td>\n",
       "      <td>6RYXZNZW</td>\n",
       "      <td>57157</td>\n",
       "      <td>2882</td>\n",
       "    </tr>\n",
       "    <tr>\n",
       "      <th>1</th>\n",
       "      <td>1.2.840.113543.6.6.4.6.64175920513291079284612...</td>\n",
       "      <td>6RYXZO03</td>\n",
       "      <td>57158</td>\n",
       "      <td>2882</td>\n",
       "    </tr>\n",
       "    <tr>\n",
       "      <th>2</th>\n",
       "      <td>1.2.840.113543.6.6.4.6.63515355813678132433121...</td>\n",
       "      <td>6RYXZO0D</td>\n",
       "      <td>57159</td>\n",
       "      <td>2882</td>\n",
       "    </tr>\n",
       "    <tr>\n",
       "      <th>3</th>\n",
       "      <td>1.2.840.113543.6.6.4.6.63385835434171778347132...</td>\n",
       "      <td>6RYXZO0K</td>\n",
       "      <td>57160</td>\n",
       "      <td>2882</td>\n",
       "    </tr>\n",
       "    <tr>\n",
       "      <th>4</th>\n",
       "      <td>1.2.840.113543.6.6.4.6.62250778798156715321013...</td>\n",
       "      <td>6RYXZO0Y</td>\n",
       "      <td>57161</td>\n",
       "      <td>2882</td>\n",
       "    </tr>\n",
       "  </tbody>\n",
       "</table>\n",
       "</div>"
      ],
      "text/plain": [
       "                                      sopinstanceuid instancefilename  \\\n",
       "0  1.2.840.113543.6.6.4.6.62554526370968849932129...         6RYXZNZW   \n",
       "1  1.2.840.113543.6.6.4.6.64175920513291079284612...         6RYXZO03   \n",
       "2  1.2.840.113543.6.6.4.6.63515355813678132433121...         6RYXZO0D   \n",
       "3  1.2.840.113543.6.6.4.6.63385835434171778347132...         6RYXZO0K   \n",
       "4  1.2.840.113543.6.6.4.6.62250778798156715321013...         6RYXZO0Y   \n",
       "\n",
       "   instanceidk  studyidk  \n",
       "0        57157      2882  \n",
       "1        57158      2882  \n",
       "2        57159      2882  \n",
       "3        57160      2882  \n",
       "4        57161      2882  "
      ]
     },
     "execution_count": 11,
     "metadata": {},
     "output_type": "execute_result"
    }
   ],
   "source": [
    "instances_unique_master_list = io_views.get_table('instances_unique_master_list')\n",
    "instances_unique_master_list.head()"
   ]
  },
  {
   "cell_type": "code",
   "execution_count": 12,
   "metadata": {},
   "outputs": [],
   "source": [
    "# Adding file name\n",
    "\n",
    "df_8 = pd.merge(df_7, instances_unique_master_list, how=\"left\", \n",
    "                on=[\"instanceidk\", \"studyidk\"])    \n",
    "#del instances_unique_master_list\n",
    "\n",
    "# below cleans the filename field\n",
    "df_8[\"instancefilename\"] = df_8[\"instancefilename\"].apply(lambda x: str(x).strip())\n",
    "\n",
    "# 9. Saving to frames_by_volume_mask\n",
    "df_8.columns = map(str.lower, df_8.columns)\n",
    "#io_views.save_to_db(df_8, \"frames_by_volume_mask\")\n",
    "\n",
    "# 9. merge with a_modvolume\n",
    "#df_9 = pd.merge(\n",
    "#    a_modvolume_df, df_8, how=\"left\", on=[\"instanceidk\", \"indexinmglist\"]\n",
    "#)\n",
    "#del df_8\n",
    "#del a_modvolume_df\n",
    "\n",
    "#io_views.save_to_db(df_9, \"chords_by_volume_mask\")\n",
    "    "
   ]
  },
  {
   "cell_type": "code",
   "execution_count": 13,
   "metadata": {},
   "outputs": [
    {
     "data": {
      "text/html": [
       "<div>\n",
       "<style scoped>\n",
       "    .dataframe tbody tr th:only-of-type {\n",
       "        vertical-align: middle;\n",
       "    }\n",
       "\n",
       "    .dataframe tbody tr th {\n",
       "        vertical-align: top;\n",
       "    }\n",
       "\n",
       "    .dataframe thead th {\n",
       "        text-align: right;\n",
       "    }\n",
       "</style>\n",
       "<table border=\"1\" class=\"dataframe\">\n",
       "  <thead>\n",
       "    <tr style=\"text-align: right;\">\n",
       "      <th></th>\n",
       "      <th>studyidk</th>\n",
       "      <th>indexinmglist</th>\n",
       "      <th>instanceidk</th>\n",
       "      <th>frame</th>\n",
       "      <th>view</th>\n",
       "      <th>chamber</th>\n",
       "      <th>cardio_moment</th>\n",
       "      <th>sopinstanceuid</th>\n",
       "      <th>instancefilename</th>\n",
       "    </tr>\n",
       "  </thead>\n",
       "  <tbody>\n",
       "    <tr>\n",
       "      <th>0</th>\n",
       "      <td>2882</td>\n",
       "      <td>0</td>\n",
       "      <td>57164</td>\n",
       "      <td>8.0</td>\n",
       "      <td>A4C</td>\n",
       "      <td>lv</td>\n",
       "      <td>ES</td>\n",
       "      <td>1.2.840.113543.6.6.4.6.61287632529377935401711...</td>\n",
       "      <td>6RYXZO20</td>\n",
       "    </tr>\n",
       "    <tr>\n",
       "      <th>1</th>\n",
       "      <td>2882</td>\n",
       "      <td>1</td>\n",
       "      <td>57164</td>\n",
       "      <td>15.0</td>\n",
       "      <td>A4C</td>\n",
       "      <td>lv</td>\n",
       "      <td>ED</td>\n",
       "      <td>1.2.840.113543.6.6.4.6.61287632529377935401711...</td>\n",
       "      <td>6RYXZO20</td>\n",
       "    </tr>\n",
       "    <tr>\n",
       "      <th>2</th>\n",
       "      <td>2966</td>\n",
       "      <td>0</td>\n",
       "      <td>58207</td>\n",
       "      <td>1.0</td>\n",
       "      <td>A4C</td>\n",
       "      <td>lv</td>\n",
       "      <td>ES</td>\n",
       "      <td>1.2.840.113543.6.6.4.6.62432989118278372356313...</td>\n",
       "      <td>7QVURND6</td>\n",
       "    </tr>\n",
       "    <tr>\n",
       "      <th>3</th>\n",
       "      <td>2966</td>\n",
       "      <td>1</td>\n",
       "      <td>58207</td>\n",
       "      <td>8.0</td>\n",
       "      <td>A4C</td>\n",
       "      <td>lv</td>\n",
       "      <td>ED</td>\n",
       "      <td>1.2.840.113543.6.6.4.6.62432989118278372356313...</td>\n",
       "      <td>7QVURND6</td>\n",
       "    </tr>\n",
       "    <tr>\n",
       "      <th>4</th>\n",
       "      <td>5898</td>\n",
       "      <td>0</td>\n",
       "      <td>102950</td>\n",
       "      <td>17.0</td>\n",
       "      <td>A4C</td>\n",
       "      <td>lv</td>\n",
       "      <td>ED</td>\n",
       "      <td>1.2.840.113543.6.6.4.6.61767879315804788584108...</td>\n",
       "      <td>FN8YYXBS</td>\n",
       "    </tr>\n",
       "  </tbody>\n",
       "</table>\n",
       "</div>"
      ],
      "text/plain": [
       "   studyidk  indexinmglist  instanceidk  frame view chamber cardio_moment  \\\n",
       "0      2882              0        57164    8.0  A4C      lv            ES   \n",
       "1      2882              1        57164   15.0  A4C      lv            ED   \n",
       "2      2966              0        58207    1.0  A4C      lv            ES   \n",
       "3      2966              1        58207    8.0  A4C      lv            ED   \n",
       "4      5898              0       102950   17.0  A4C      lv            ED   \n",
       "\n",
       "                                      sopinstanceuid instancefilename  \n",
       "0  1.2.840.113543.6.6.4.6.61287632529377935401711...         6RYXZO20  \n",
       "1  1.2.840.113543.6.6.4.6.61287632529377935401711...         6RYXZO20  \n",
       "2  1.2.840.113543.6.6.4.6.62432989118278372356313...         7QVURND6  \n",
       "3  1.2.840.113543.6.6.4.6.62432989118278372356313...         7QVURND6  \n",
       "4  1.2.840.113543.6.6.4.6.61767879315804788584108...         FN8YYXBS  "
      ]
     },
     "execution_count": 13,
     "metadata": {},
     "output_type": "execute_result"
    }
   ],
   "source": [
    "df_8.head()"
   ]
  },
  {
   "cell_type": "code",
   "execution_count": 15,
   "metadata": {},
   "outputs": [
    {
     "data": {
      "text/plain": [
       "(72485, 9)"
      ]
     },
     "execution_count": 15,
     "metadata": {},
     "output_type": "execute_result"
    }
   ],
   "source": [
    "df_8.shape"
   ]
  },
  {
   "cell_type": "code",
   "execution_count": null,
   "metadata": {},
   "outputs": [],
   "source": []
  }
 ],
 "metadata": {
  "kernelspec": {
   "display_name": "Environment (conda_usal_echo)",
   "language": "python",
   "name": "conda_usal_echo"
  },
  "language_info": {
   "codemirror_mode": {
    "name": "ipython",
    "version": 3
   },
   "file_extension": ".py",
   "mimetype": "text/x-python",
   "name": "python",
   "nbconvert_exporter": "python",
   "pygments_lexer": "ipython3",
   "version": "3.6.5"
  }
 },
 "nbformat": 4,
 "nbformat_minor": 2
}
