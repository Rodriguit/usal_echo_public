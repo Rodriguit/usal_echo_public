{
 "cells": [
  {
   "cell_type": "code",
   "execution_count": 1,
   "metadata": {},
   "outputs": [
    {
     "name": "stdout",
     "output_type": "stream",
     "text": [
      "/home/ubuntu/courtney/usal_echo\n"
     ]
    }
   ],
   "source": [
    "import sys\n",
    "import os\n",
    "project_dir = os.path.dirname(os.getcwd())\n",
    "sys.path.append(project_dir) #notebooks can't look into source unless you append the parent project directory to the path\n",
    "print(project_dir)\n",
    "sys.path.append('../src')"
   ]
  },
  {
   "cell_type": "code",
   "execution_count": 2,
   "metadata": {},
   "outputs": [],
   "source": [
    "import pandas as pd\n",
    "import datetime"
   ]
  },
  {
   "cell_type": "code",
   "execution_count": 3,
   "metadata": {},
   "outputs": [
    {
     "name": "stderr",
     "output_type": "stream",
     "text": [
      "/home/ubuntu/anaconda3/envs/usal_echo/lib/python3.6/site-packages/psycopg2/__init__.py:144: UserWarning: The psycopg2 wheel package will be renamed from release 2.8; in order to keep installing from binary please use \"pip install psycopg2-binary\" instead. For details see: <http://initd.org/psycopg/docs/install.html#binary-install-from-pypi>.\n",
      "  \"\"\")\n"
     ]
    }
   ],
   "source": [
    "from d04_segmentation.create_probabilities_textfile_testing import create_probabilities_textfile_testing"
   ]
  },
  {
   "cell_type": "code",
   "execution_count": 4,
   "metadata": {},
   "outputs": [],
   "source": [
    "from src.d00_utils.db_utils import dbReadWriteViews"
   ]
  },
  {
   "cell_type": "code",
   "execution_count": 5,
   "metadata": {},
   "outputs": [],
   "source": [
    "io_views = dbReadWriteViews()"
   ]
  },
  {
   "cell_type": "code",
   "execution_count": 6,
   "metadata": {},
   "outputs": [
    {
     "name": "stdout",
     "output_type": "stream",
     "text": [
      "['machines_all_bmi', 'instances_with_labels_scrappy100', 'machines_new_bmi', 'instances_unlabeled', 'frames_sorted_by_views_temp', 'frames_w_labels', 'instances_unique_master_list', 'instances_w_labels_train', 'instances_w_conflicts', 'instances_w_labels_test', 'instances_w_labels', 'instances_w_labels_train_downsampleby5', 'instances_w_labels_test_downsampleby5', 'chords_by_volume_mask', 'frames_by_volume_mask', 'output_m1_test1000_aug8']\n"
     ]
    }
   ],
   "source": [
    "io_views.list_tables()"
   ]
  },
  {
   "cell_type": "code",
   "execution_count": 7,
   "metadata": {},
   "outputs": [],
   "source": [
    "instance_id_list = io_views.get_table('instances_w_labels_test_downsampleby5') "
   ]
  },
  {
   "cell_type": "code",
   "execution_count": 8,
   "metadata": {},
   "outputs": [
    {
     "name": "stdout",
     "output_type": "stream",
     "text": [
      "                                         sopinstanceuid  filename  \\\n",
      "0     1.2.840.113663.1500.1.365900332.3.8.20130125.1...  1LHFYKEZ   \n",
      "1     1.2.840.113663.1500.1.365900332.3.1.20130321.1...  43IX4IH1   \n",
      "2     1.2.840.113663.1500.1.365900332.3.11.20130611....  7SQZPLEJ   \n",
      "3     1.2.840.113663.1500.1.365900332.3.1.20131003.1...  CSTYB214   \n",
      "4     1.2.840.113663.1500.1.365900332.3.8.20131120.1...  EAKXA40T   \n",
      "...                                                 ...       ...   \n",
      "1020  1.2.840.113663.1500.1.402357036.3.1.20181130.1...  EF74LO2Z   \n",
      "1021  1.2.840.113663.1500.1.365900332.3.8.20181205.1...  FDNHKCYK   \n",
      "1022  1.2.840.113663.1500.1.406830382.3.10.20181205....  FDNHO33T   \n",
      "1023  1.2.840.113663.1500.1.402357036.3.1.20181205.1...  FDNHPQ07   \n",
      "1024  1.2.840.113663.1500.1.365900332.3.7.20181205.1...  FDNHQ1M9   \n",
      "\n",
      "      instanceidk  view  studyidk  \n",
      "0          779540   a4c     43763  \n",
      "1          804660  plax     45076  \n",
      "2          841585   a4c     46919  \n",
      "3          892588  plax     49268  \n",
      "4          921901   a4c     50521  \n",
      "...           ...   ...       ...  \n",
      "1020      2997463  plax    126557  \n",
      "1021      3003299   a4c    126751  \n",
      "1022      3003810   a4c    126772  \n",
      "1023      3003930  plax    126778  \n",
      "1024      3004026   a4c    126781  \n",
      "\n",
      "[1025 rows x 5 columns]\n"
     ]
    }
   ],
   "source": [
    "print(instance_id_list)"
   ]
  },
  {
   "cell_type": "code",
   "execution_count": 9,
   "metadata": {},
   "outputs": [],
   "source": [
    "instance_id_list = instance_id_list['instanceidk']"
   ]
  },
  {
   "cell_type": "code",
   "execution_count": 31,
   "metadata": {},
   "outputs": [
    {
     "name": "stdout",
     "output_type": "stream",
     "text": [
      "frames_by_volume_mask size: (72527, 9)\n",
      "instance_list size: (1025, 5)\n"
     ]
    }
   ],
   "source": [
    "# 1. Gets frames_by_volume_mask view\n",
    "io_views = dbReadWriteViews()\n",
    "frames_by_volume_mask = io_views.get_table(\"frames_by_volume_mask\")\n",
    "print('frames_by_volume_mask size: {}'.format(frames_by_volume_mask.shape))\n",
    "#frames_by_volume_mask = frames_by_volume_mask[\n",
    "#    frames_by_volume_mask[\"view_exists\"] == True\n",
    "#]\n",
    "instances_w_labels_test = io_views.get_table(\"instances_w_labels_test_downsampleby5\")\n",
    "print('instance_list size: {}'.format(instances_w_labels_test.shape))\n"
   ]
  },
  {
   "cell_type": "code",
   "execution_count": 32,
   "metadata": {},
   "outputs": [
    {
     "data": {
      "text/plain": [
       "(72527, 8)"
      ]
     },
     "execution_count": 32,
     "metadata": {},
     "output_type": "execute_result"
    }
   ],
   "source": [
    "# take out frames and drop duplicates\n",
    "frames_by_volume_mask = frames_by_volume_mask.drop('frame', axis=1)\n",
    "frames_by_volume_mask = frames_by_volume_mask.drop_duplicates()\n",
    "frames_by_volume_mask.shape"
   ]
  },
  {
   "cell_type": "code",
   "execution_count": 25,
   "metadata": {},
   "outputs": [
    {
     "name": "stdout",
     "output_type": "stream",
     "text": [
      "   instanceidk  indexinmglist  studyidk  frame   view_name view_exists  \\\n",
      "0        57164              1      2882     15  a4c_ven_ed           t   \n",
      "\n",
      "  view_only ventricle_only cycle_only  \n",
      "0       a4c            ven         ed  \n"
     ]
    }
   ],
   "source": [
    "frames_by_volume_mask.columns\n",
    "print(frames_by_volume_mask.head(1))"
   ]
  },
  {
   "cell_type": "code",
   "execution_count": 26,
   "metadata": {},
   "outputs": [],
   "source": [
    "frames_by_volume_mask.rename(columns={'view': 'full_view', 'view_only':'view'}, inplace=True)"
   ]
  },
  {
   "cell_type": "code",
   "execution_count": 27,
   "metadata": {},
   "outputs": [
    {
     "name": "stdout",
     "output_type": "stream",
     "text": [
      "                                      sopinstanceuid  filename  instanceidk  \\\n",
      "0  1.2.840.113663.1500.1.365900332.3.8.20130125.1...  1LHFYKEZ       779540   \n",
      "\n",
      "  view  studyidk  \n",
      "0  a4c     43763  \n"
     ]
    }
   ],
   "source": [
    "instances_w_labels_test.columns\n",
    "print(instances_w_labels_test.head(1))"
   ]
  },
  {
   "cell_type": "code",
   "execution_count": 28,
   "metadata": {},
   "outputs": [
    {
     "name": "stdout",
     "output_type": "stream",
     "text": [
      "(1157, 11)\n",
      "sopinstanceuid    1157\n",
      "filename          1157\n",
      "instanceidk       1157\n",
      "view              1157\n",
      "studyidk          1157\n",
      "indexinmglist     1157\n",
      "frame             1157\n",
      "view_name         1157\n",
      "view_exists       1157\n",
      "ventricle_only    1157\n",
      "cycle_only        1157\n",
      "dtype: int64\n"
     ]
    }
   ],
   "source": [
    "# 2. Merges tables\n",
    "df_1 = pd.merge(\n",
    "    instances_w_labels_test,\n",
    "    frames_by_volume_mask,\n",
    "    how=\"inner\",\n",
    "    on=[\"instanceidk\", \"studyidk\", \"view\"],\n",
    ")\n",
    "print(df_1.shape)\n",
    "print(df_1.count())"
   ]
  },
  {
   "cell_type": "code",
   "execution_count": null,
   "metadata": {},
   "outputs": [],
   "source": [
    "# 3. Filters the dataframe by the param: instanceid\n",
    "df_2 = df_1[df_1[\"instanceidk\"].isin(instance_id_list)]\n",
    "print('df_2: {}'.format(df_2.shape))\n",
    "del df_1\n",
    "\n",
    "print(df_2.shape)\n",
    "print(df_2.head())"
   ]
  },
  {
   "cell_type": "code",
   "execution_count": null,
   "metadata": {},
   "outputs": [],
   "source": [
    "# 4. Create the probabilities table\n",
    "prob_tb = pd.DataFrame(\n",
    "    columns=[\n",
    "        \"study\",\n",
    "        \"image\",\n",
    "        \"plax_far\",\n",
    "        \"plax_plax\",\n",
    "        \"plax_laz\",\n",
    "        \"psax_az\",\n",
    "        \"psax_mv\",\n",
    "        \"psax_pap\",\n",
    "        \"a2c_lvocc_s\",\n",
    "        \"a2c_laocc\",\n",
    "        \"a2c\",\n",
    "        \"a3c_lvocc_s\",\n",
    "        \"a3c_laocc\",\n",
    "        \"a3c\",\n",
    "        \"a4c_lvocc_s\",\n",
    "        \"a4c_laocc\",\n",
    "        \"a4c\",\n",
    "        \"a5c\",\n",
    "        \"other\",\n",
    "        \"rvinf\",\n",
    "        \"psax_avz\",\n",
    "        \"suprasternal\",\n",
    "        \"subcostal\",\n",
    "        \"plax_lac\",\n",
    "        \"psax_apex\",\n",
    "    ]\n",
    ")\n",
    "\n",
    "for i in df_2.index:\n",
    "    prob_tb.at[i, \"study\"] = \"/home/ubuntu/data/01_raw/test_downsampleby5\"\n",
    "    filename = df_2.at[i, \"filename\"]\n",
    "    studyidk = df_2.at[i, \"studyidk\"]\n",
    "    prob_tb.at[i, \"image\"] = (\n",
    "        \"a_\" + str(studyidk).strip() + \"_\" + str(filename).strip() + \".dcm\"\n",
    "    )\n",
    "    if df_2.at[i, \"view_only\"] == \"a4c\":\n",
    "        prob_tb.at[i, \"a4c\"] = 0.9898\n",
    "    elif df_2.at[i, \"view_only\"] == \"a2c\":\n",
    "        prob_tb.at[i, \"a2c\"] = 0.9898\n",
    "\n",
    "df_3 = prob_tb.fillna(0)\n",
    "\n",
    "print(df_3.shape)"
   ]
  },
  {
   "cell_type": "code",
   "execution_count": null,
   "metadata": {},
   "outputs": [],
   "source": [
    "# 5. Writes the probabilities textfile to data/d04_segmentation folder\n",
    "project_dir = os.path.dirname(os.getcwd())\n",
    "data_dir = os.path.join(project_dir, \"data\", \"d04_segmentation\")\n",
    "\n",
    "if not os.path.exists(data_dir):\n",
    "    os.makedirs(data_dir)\n",
    "\n",
    "time_stamp = datetime.date.today()\n",
    "file_name = \"view_probabilities_test\" + str(time_stamp) + \".txt\"\n",
    "data_path = os.path.join(data_dir, file_name)\n",
    "\n",
    "df_3.to_csv(data_path, index=None, header=True, sep=\"\\t\")"
   ]
  },
  {
   "cell_type": "code",
   "execution_count": null,
   "metadata": {},
   "outputs": [],
   "source": []
  }
 ],
 "metadata": {
  "kernelspec": {
   "display_name": "Environment (conda_usal_echo)",
   "language": "python",
   "name": "conda_usal_echo"
  },
  "language_info": {
   "codemirror_mode": {
    "name": "ipython",
    "version": 3
   },
   "file_extension": ".py",
   "mimetype": "text/x-python",
   "name": "python",
   "nbconvert_exporter": "python",
   "pygments_lexer": "ipython3",
   "version": "3.6.5"
  }
 },
 "nbformat": 4,
 "nbformat_minor": 2
}
