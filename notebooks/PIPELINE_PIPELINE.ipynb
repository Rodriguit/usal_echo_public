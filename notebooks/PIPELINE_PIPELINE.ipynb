{
 "cells": [
  {
   "cell_type": "code",
   "execution_count": 1,
   "metadata": {},
   "outputs": [],
   "source": [
    "import os\n",
    "import sys\n",
    "import pandas as pd\n",
    "import datetime\n",
    "\n",
    "projectdir = os.path.dirname(os.getcwd())\n",
    "sys.path.append(os.path.join(projectdir, 'src'))\n",
    "\n",
    "import d00_utils.db_utils as db\n",
    "from d02_intermediate.download_dcm import s3_download_decomp_dcm, dcmdir_to_jpgs_for_classification\n",
    "from d03_classification.predict_views import run_classify, agg_probabilities, predict_views, view_classes"
   ]
  },
  {
   "cell_type": "code",
   "execution_count": 2,
   "metadata": {},
   "outputs": [],
   "source": [
    "table_name='instances_w_labels'\n",
    "train_test_ratio=0.5 \n",
    "downsample_ratio=0.001\n",
    "train=False\n",
    "dcm_path = os.path.join(os.path.expanduser('~/data'),'01_raw')\n",
    "\n",
    "# DON\"T RUN THIS AFTER IN TABLE ONCE\n",
    "###model_path = os.path.join(os.path.expanduser('~/models'), 'view_23_e5_class_11-Mar-2018')\n",
    "\n",
    "new_mod_direc = '~/dvv/usal_echo/src/d03_classification/echo_deeplearning/models/vgg_13/m1_usal/train/0'\n",
    "new_mod_name = 'model.ckpt-6460'\n",
    "model_path = os.path.join(os.path.expanduser(new_mod_direc),  )"
   ]
  },
  {
   "cell_type": "code",
   "execution_count": 3,
   "metadata": {},
   "outputs": [],
   "source": [
    "# dir_name = s3_download_decomp_dcm(dcm_path, table_name, train_test_ratio, downsample_ratio, train)\n",
    "dir_name = 'test_downsampleby5/'"
   ]
  },
  {
   "cell_type": "code",
   "execution_count": 4,
   "metadata": {},
   "outputs": [
    {
     "name": "stdout",
     "output_type": "stream",
     "text": [
      "/home/ubuntu/data/02_intermediate/test_downsampleby5/\n"
     ]
    }
   ],
   "source": [
    "dcm_dir = os.path.join(dcm_path, dir_name)\n",
    "img_dir = os.path.join(os.path.expanduser('~/data'),'02_intermediate', dir_name)\n",
    "print(img_dir)\n",
    "\n",
    "dcmdir_to_jpgs_for_classification(dcm_dir, img_dir)"
   ]
  },
  {
   "cell_type": "code",
   "execution_count": 5,
   "metadata": {},
   "outputs": [],
   "source": [
    "#run_classify(img_dir, model_path, if_exists='append', feature_dim=1)"
   ]
  },
  {
   "cell_type": "code",
   "execution_count": 6,
   "metadata": {},
   "outputs": [
    {
     "name": "stdout",
     "output_type": "stream",
     "text": [
      "/home/ubuntu/dvv/usal_echo/src/d03_classification/echo_deeplearning/models/vgg_13/m1_usal/train/0\n"
     ]
    }
   ],
   "source": [
    "print(model_path)"
   ]
  },
  {
   "cell_type": "code",
   "execution_count": 12,
   "metadata": {},
   "outputs": [
    {
     "name": "stdout",
     "output_type": "stream",
     "text": [
      "['probabilities_frames', 'evaluations', 'test1000_for_m1', 'probabilities_frames_test', 'test_probabilities_instances', 'test_probabilities_frames', 'ground_truths', 'test_predictions', 'test1000_for_m2_m3', 'probabilities_instances', 'evaluation', 'predictions']\n"
     ]
    },
    {
     "name": "stderr",
     "output_type": "stream",
     "text": [
      "/home/ubuntu/anaconda3/envs/usal_echo/lib/python3.6/site-packages/psycopg2/__init__.py:144: UserWarning: The psycopg2 wheel package will be renamed from release 2.8; in order to keep installing from binary please use \"pip install psycopg2-binary\" instead. For details see: <http://initd.org/psycopg/docs/install.html#binary-install-from-pypi>.\n",
      "  \"\"\")\n"
     ]
    }
   ],
   "source": [
    "io_class = db.dbReadWriteClassification()\n",
    "io_class.list_tables()"
   ]
  },
  {
   "cell_type": "code",
   "execution_count": 13,
   "metadata": {},
   "outputs": [
    {
     "name": "stdout",
     "output_type": "stream",
     "text": [
      "(2072, 30)\n"
     ]
    },
    {
     "data": {
      "text/html": [
       "<div>\n",
       "<style scoped>\n",
       "    .dataframe tbody tr th:only-of-type {\n",
       "        vertical-align: middle;\n",
       "    }\n",
       "\n",
       "    .dataframe tbody tr th {\n",
       "        vertical-align: top;\n",
       "    }\n",
       "\n",
       "    .dataframe thead th {\n",
       "        text-align: right;\n",
       "    }\n",
       "</style>\n",
       "<table border=\"1\" class=\"dataframe\">\n",
       "  <thead>\n",
       "    <tr style=\"text-align: right;\">\n",
       "      <th></th>\n",
       "      <th>study_id</th>\n",
       "      <th>file_name</th>\n",
       "      <th>model_name</th>\n",
       "      <th>date_run</th>\n",
       "      <th>img_dir</th>\n",
       "      <th>output_plax_far</th>\n",
       "      <th>output_plax_plax</th>\n",
       "      <th>output_plax_laz</th>\n",
       "      <th>output_psax_az</th>\n",
       "      <th>output_psax_mv</th>\n",
       "      <th>...</th>\n",
       "      <th>output_a5c</th>\n",
       "      <th>output_other</th>\n",
       "      <th>output_rvinf</th>\n",
       "      <th>output_psax_avz</th>\n",
       "      <th>output_suprasternal</th>\n",
       "      <th>output_subcostal</th>\n",
       "      <th>output_plax_lac</th>\n",
       "      <th>output_psax_apex</th>\n",
       "      <th>frame_count</th>\n",
       "      <th>probabilities_instance_id</th>\n",
       "    </tr>\n",
       "  </thead>\n",
       "  <tbody>\n",
       "    <tr>\n",
       "      <th>0</th>\n",
       "      <td>43763</td>\n",
       "      <td>a_43763_1LHFYKEZ</td>\n",
       "      <td>0</td>\n",
       "      <td>2019-08-15 13:59:02.644636</td>\n",
       "      <td>/home/ubuntu/data/02_intermediate/test_downsam...</td>\n",
       "      <td>0.0000</td>\n",
       "      <td>0.4683</td>\n",
       "      <td>0.0000</td>\n",
       "      <td>0.0000</td>\n",
       "      <td>0.0000</td>\n",
       "      <td>...</td>\n",
       "      <td>0.0000</td>\n",
       "      <td>0.0000</td>\n",
       "      <td>0.0000</td>\n",
       "      <td>0.0000</td>\n",
       "      <td>0.0000</td>\n",
       "      <td>0.0000</td>\n",
       "      <td>0.0000</td>\n",
       "      <td>0.0000</td>\n",
       "      <td>10</td>\n",
       "      <td>1</td>\n",
       "    </tr>\n",
       "    <tr>\n",
       "      <th>1</th>\n",
       "      <td>43763</td>\n",
       "      <td>a_43763_1LHFYKEZ</td>\n",
       "      <td>view_23_e5_class_11-Mar-2018</td>\n",
       "      <td>2019-08-15 09:47:55.925166</td>\n",
       "      <td>/home/ubuntu/data/02_intermediate/test_downsam...</td>\n",
       "      <td>0.0048</td>\n",
       "      <td>0.0137</td>\n",
       "      <td>0.0052</td>\n",
       "      <td>0.0549</td>\n",
       "      <td>0.0077</td>\n",
       "      <td>...</td>\n",
       "      <td>0.0378</td>\n",
       "      <td>0.1852</td>\n",
       "      <td>0.0464</td>\n",
       "      <td>0.0128</td>\n",
       "      <td>0.1357</td>\n",
       "      <td>0.0206</td>\n",
       "      <td>0.0165</td>\n",
       "      <td>0.0088</td>\n",
       "      <td>10</td>\n",
       "      <td>2</td>\n",
       "    </tr>\n",
       "    <tr>\n",
       "      <th>2</th>\n",
       "      <td>45076</td>\n",
       "      <td>a_45076_43IX4IH1</td>\n",
       "      <td>0</td>\n",
       "      <td>2019-08-15 13:59:02.644636</td>\n",
       "      <td>/home/ubuntu/data/02_intermediate/test_downsam...</td>\n",
       "      <td>0.0000</td>\n",
       "      <td>0.7511</td>\n",
       "      <td>0.0000</td>\n",
       "      <td>0.0000</td>\n",
       "      <td>0.0000</td>\n",
       "      <td>...</td>\n",
       "      <td>0.0000</td>\n",
       "      <td>0.0000</td>\n",
       "      <td>0.0000</td>\n",
       "      <td>0.0000</td>\n",
       "      <td>0.0000</td>\n",
       "      <td>0.0000</td>\n",
       "      <td>0.0000</td>\n",
       "      <td>0.0000</td>\n",
       "      <td>10</td>\n",
       "      <td>3</td>\n",
       "    </tr>\n",
       "    <tr>\n",
       "      <th>3</th>\n",
       "      <td>45076</td>\n",
       "      <td>a_45076_43IX4IH1</td>\n",
       "      <td>view_23_e5_class_11-Mar-2018</td>\n",
       "      <td>2019-08-15 09:47:55.925166</td>\n",
       "      <td>/home/ubuntu/data/02_intermediate/test_downsam...</td>\n",
       "      <td>0.0035</td>\n",
       "      <td>0.4107</td>\n",
       "      <td>0.0038</td>\n",
       "      <td>0.0406</td>\n",
       "      <td>0.0054</td>\n",
       "      <td>...</td>\n",
       "      <td>0.0262</td>\n",
       "      <td>0.1307</td>\n",
       "      <td>0.0392</td>\n",
       "      <td>0.0090</td>\n",
       "      <td>0.0997</td>\n",
       "      <td>0.0164</td>\n",
       "      <td>0.0135</td>\n",
       "      <td>0.0064</td>\n",
       "      <td>10</td>\n",
       "      <td>4</td>\n",
       "    </tr>\n",
       "    <tr>\n",
       "      <th>4</th>\n",
       "      <td>46919</td>\n",
       "      <td>a_46919_7SQZPLEJ</td>\n",
       "      <td>0</td>\n",
       "      <td>2019-08-15 13:59:02.644636</td>\n",
       "      <td>/home/ubuntu/data/02_intermediate/test_downsam...</td>\n",
       "      <td>0.0000</td>\n",
       "      <td>0.4093</td>\n",
       "      <td>0.0000</td>\n",
       "      <td>0.0000</td>\n",
       "      <td>0.0000</td>\n",
       "      <td>...</td>\n",
       "      <td>0.0000</td>\n",
       "      <td>0.0000</td>\n",
       "      <td>0.0000</td>\n",
       "      <td>0.0000</td>\n",
       "      <td>0.0000</td>\n",
       "      <td>0.0000</td>\n",
       "      <td>0.0000</td>\n",
       "      <td>0.0000</td>\n",
       "      <td>10</td>\n",
       "      <td>5</td>\n",
       "    </tr>\n",
       "  </tbody>\n",
       "</table>\n",
       "<p>5 rows × 30 columns</p>\n",
       "</div>"
      ],
      "text/plain": [
       "   study_id         file_name                    model_name  \\\n",
       "0     43763  a_43763_1LHFYKEZ                             0   \n",
       "1     43763  a_43763_1LHFYKEZ  view_23_e5_class_11-Mar-2018   \n",
       "2     45076  a_45076_43IX4IH1                             0   \n",
       "3     45076  a_45076_43IX4IH1  view_23_e5_class_11-Mar-2018   \n",
       "4     46919  a_46919_7SQZPLEJ                             0   \n",
       "\n",
       "                     date_run  \\\n",
       "0  2019-08-15 13:59:02.644636   \n",
       "1  2019-08-15 09:47:55.925166   \n",
       "2  2019-08-15 13:59:02.644636   \n",
       "3  2019-08-15 09:47:55.925166   \n",
       "4  2019-08-15 13:59:02.644636   \n",
       "\n",
       "                                             img_dir  output_plax_far  \\\n",
       "0  /home/ubuntu/data/02_intermediate/test_downsam...           0.0000   \n",
       "1  /home/ubuntu/data/02_intermediate/test_downsam...           0.0048   \n",
       "2  /home/ubuntu/data/02_intermediate/test_downsam...           0.0000   \n",
       "3  /home/ubuntu/data/02_intermediate/test_downsam...           0.0035   \n",
       "4  /home/ubuntu/data/02_intermediate/test_downsam...           0.0000   \n",
       "\n",
       "   output_plax_plax  output_plax_laz  output_psax_az  output_psax_mv  ...  \\\n",
       "0            0.4683           0.0000          0.0000          0.0000  ...   \n",
       "1            0.0137           0.0052          0.0549          0.0077  ...   \n",
       "2            0.7511           0.0000          0.0000          0.0000  ...   \n",
       "3            0.4107           0.0038          0.0406          0.0054  ...   \n",
       "4            0.4093           0.0000          0.0000          0.0000  ...   \n",
       "\n",
       "   output_a5c  output_other  output_rvinf  output_psax_avz  \\\n",
       "0      0.0000        0.0000        0.0000           0.0000   \n",
       "1      0.0378        0.1852        0.0464           0.0128   \n",
       "2      0.0000        0.0000        0.0000           0.0000   \n",
       "3      0.0262        0.1307        0.0392           0.0090   \n",
       "4      0.0000        0.0000        0.0000           0.0000   \n",
       "\n",
       "   output_suprasternal  output_subcostal  output_plax_lac  output_psax_apex  \\\n",
       "0               0.0000            0.0000           0.0000            0.0000   \n",
       "1               0.1357            0.0206           0.0165            0.0088   \n",
       "2               0.0000            0.0000           0.0000            0.0000   \n",
       "3               0.0997            0.0164           0.0135            0.0064   \n",
       "4               0.0000            0.0000           0.0000            0.0000   \n",
       "\n",
       "   frame_count  probabilities_instance_id  \n",
       "0           10                          1  \n",
       "1           10                          2  \n",
       "2           10                          3  \n",
       "3           10                          4  \n",
       "4           10                          5  \n",
       "\n",
       "[5 rows x 30 columns]"
      ]
     },
     "execution_count": 13,
     "metadata": {},
     "output_type": "execute_result"
    }
   ],
   "source": [
    "df1 = io_class.get_table('probabilities_instances')\n",
    "print(df1.shape)\n",
    "df1.head()"
   ]
  },
  {
   "cell_type": "code",
   "execution_count": 14,
   "metadata": {},
   "outputs": [],
   "source": [
    "#agg_probabilities(if_exists='replace')"
   ]
  },
  {
   "cell_type": "code",
   "execution_count": 15,
   "metadata": {
    "scrolled": true
   },
   "outputs": [],
   "source": [
    "#predict_views(if_exists='replace')"
   ]
  },
  {
   "cell_type": "code",
   "execution_count": 17,
   "metadata": {},
   "outputs": [
    {
     "name": "stdout",
     "output_type": "stream",
     "text": [
      "(2072, 9)\n"
     ]
    },
    {
     "data": {
      "text/html": [
       "<div>\n",
       "<style scoped>\n",
       "    .dataframe tbody tr th:only-of-type {\n",
       "        vertical-align: middle;\n",
       "    }\n",
       "\n",
       "    .dataframe tbody tr th {\n",
       "        vertical-align: top;\n",
       "    }\n",
       "\n",
       "    .dataframe thead th {\n",
       "        text-align: right;\n",
       "    }\n",
       "</style>\n",
       "<table border=\"1\" class=\"dataframe\">\n",
       "  <thead>\n",
       "    <tr style=\"text-align: right;\">\n",
       "      <th></th>\n",
       "      <th>study_id</th>\n",
       "      <th>file_name</th>\n",
       "      <th>model_name</th>\n",
       "      <th>date_run</th>\n",
       "      <th>img_dir</th>\n",
       "      <th>view23_pred</th>\n",
       "      <th>view4_dev</th>\n",
       "      <th>view4_seg</th>\n",
       "      <th>prediction_id</th>\n",
       "    </tr>\n",
       "  </thead>\n",
       "  <tbody>\n",
       "    <tr>\n",
       "      <th>2067</th>\n",
       "      <td>126772</td>\n",
       "      <td>a_126772_FDNHO33T</td>\n",
       "      <td>view_23_e5_class_11-Mar-2018</td>\n",
       "      <td>2019-08-15 09:47:55.925166</td>\n",
       "      <td>/home/ubuntu/data/02_intermediate/test_downsam...</td>\n",
       "      <td>other</td>\n",
       "      <td>other</td>\n",
       "      <td>other</td>\n",
       "      <td>2068</td>\n",
       "    </tr>\n",
       "    <tr>\n",
       "      <th>2068</th>\n",
       "      <td>126778</td>\n",
       "      <td>a_126778_FDNHPQ07</td>\n",
       "      <td>0</td>\n",
       "      <td>2019-08-15 13:59:02.644636</td>\n",
       "      <td>/home/ubuntu/data/02_intermediate/test_downsam...</td>\n",
       "      <td>plax_plax</td>\n",
       "      <td>plax</td>\n",
       "      <td>plax</td>\n",
       "      <td>2069</td>\n",
       "    </tr>\n",
       "    <tr>\n",
       "      <th>2069</th>\n",
       "      <td>126778</td>\n",
       "      <td>a_126778_FDNHPQ07</td>\n",
       "      <td>view_23_e5_class_11-Mar-2018</td>\n",
       "      <td>2019-08-15 09:47:55.925166</td>\n",
       "      <td>/home/ubuntu/data/02_intermediate/test_downsam...</td>\n",
       "      <td>other</td>\n",
       "      <td>other</td>\n",
       "      <td>other</td>\n",
       "      <td>2070</td>\n",
       "    </tr>\n",
       "    <tr>\n",
       "      <th>2070</th>\n",
       "      <td>126781</td>\n",
       "      <td>a_126781_FDNHQ1M9</td>\n",
       "      <td>0</td>\n",
       "      <td>2019-08-15 13:59:02.644636</td>\n",
       "      <td>/home/ubuntu/data/02_intermediate/test_downsam...</td>\n",
       "      <td>a4c</td>\n",
       "      <td>a4c</td>\n",
       "      <td>a4c</td>\n",
       "      <td>2071</td>\n",
       "    </tr>\n",
       "    <tr>\n",
       "      <th>2071</th>\n",
       "      <td>126781</td>\n",
       "      <td>a_126781_FDNHQ1M9</td>\n",
       "      <td>view_23_e5_class_11-Mar-2018</td>\n",
       "      <td>2019-08-15 09:47:55.925166</td>\n",
       "      <td>/home/ubuntu/data/02_intermediate/test_downsam...</td>\n",
       "      <td>a4c</td>\n",
       "      <td>a4c</td>\n",
       "      <td>a4c</td>\n",
       "      <td>2072</td>\n",
       "    </tr>\n",
       "  </tbody>\n",
       "</table>\n",
       "</div>"
      ],
      "text/plain": [
       "      study_id          file_name                    model_name  \\\n",
       "2067    126772  a_126772_FDNHO33T  view_23_e5_class_11-Mar-2018   \n",
       "2068    126778  a_126778_FDNHPQ07                             0   \n",
       "2069    126778  a_126778_FDNHPQ07  view_23_e5_class_11-Mar-2018   \n",
       "2070    126781  a_126781_FDNHQ1M9                             0   \n",
       "2071    126781  a_126781_FDNHQ1M9  view_23_e5_class_11-Mar-2018   \n",
       "\n",
       "                        date_run  \\\n",
       "2067  2019-08-15 09:47:55.925166   \n",
       "2068  2019-08-15 13:59:02.644636   \n",
       "2069  2019-08-15 09:47:55.925166   \n",
       "2070  2019-08-15 13:59:02.644636   \n",
       "2071  2019-08-15 09:47:55.925166   \n",
       "\n",
       "                                                img_dir view23_pred view4_dev  \\\n",
       "2067  /home/ubuntu/data/02_intermediate/test_downsam...       other     other   \n",
       "2068  /home/ubuntu/data/02_intermediate/test_downsam...   plax_plax      plax   \n",
       "2069  /home/ubuntu/data/02_intermediate/test_downsam...       other     other   \n",
       "2070  /home/ubuntu/data/02_intermediate/test_downsam...         a4c       a4c   \n",
       "2071  /home/ubuntu/data/02_intermediate/test_downsam...         a4c       a4c   \n",
       "\n",
       "     view4_seg  prediction_id  \n",
       "2067     other           2068  \n",
       "2068      plax           2069  \n",
       "2069     other           2070  \n",
       "2070       a4c           2071  \n",
       "2071       a4c           2072  "
      ]
     },
     "execution_count": 17,
     "metadata": {},
     "output_type": "execute_result"
    }
   ],
   "source": [
    "df = io_class.get_table('predictions')\n",
    "print(df.shape)\n",
    "df.tail()"
   ]
  },
  {
   "cell_type": "code",
   "execution_count": 18,
   "metadata": {},
   "outputs": [
    {
     "name": "stdout",
     "output_type": "stream",
     "text": [
      "test_downsampleby5/\n"
     ]
    }
   ],
   "source": [
    "print(dir_name)"
   ]
  },
  {
   "cell_type": "code",
   "execution_count": 22,
   "metadata": {},
   "outputs": [],
   "source": [
    "from d03_classification.evaluate_views import evaluate_views\n",
    "\n",
    "model_name = 'view_23_e5_class_11-Mar-2018'\n",
    "\n",
    "evaluate_views(img_dir = dir_name, \\\n",
    "               #model_name = model_name,\n",
    "               model_name = '0', \\\n",
    "               date_run = datetime.date.today(), \\\n",
    "               study_filter = None, \\\n",
    "               if_exists = \"replace\")"
   ]
  },
  {
   "cell_type": "code",
   "execution_count": 23,
   "metadata": {},
   "outputs": [
    {
     "data": {
      "text/html": [
       "<div>\n",
       "<style scoped>\n",
       "    .dataframe tbody tr th:only-of-type {\n",
       "        vertical-align: middle;\n",
       "    }\n",
       "\n",
       "    .dataframe tbody tr th {\n",
       "        vertical-align: top;\n",
       "    }\n",
       "\n",
       "    .dataframe thead th {\n",
       "        text-align: right;\n",
       "    }\n",
       "</style>\n",
       "<table border=\"1\" class=\"dataframe\">\n",
       "  <thead>\n",
       "    <tr style=\"text-align: right;\">\n",
       "      <th></th>\n",
       "      <th>model_name</th>\n",
       "      <th>img_dir</th>\n",
       "      <th>date_run</th>\n",
       "      <th>view_mapping</th>\n",
       "      <th>study_filter</th>\n",
       "      <th>view</th>\n",
       "      <th>tn</th>\n",
       "      <th>fp</th>\n",
       "      <th>fn</th>\n",
       "      <th>tp</th>\n",
       "      <th>evaluation_id</th>\n",
       "    </tr>\n",
       "  </thead>\n",
       "  <tbody>\n",
       "    <tr>\n",
       "      <th>0</th>\n",
       "      <td>0</td>\n",
       "      <td>test_downsampleby5/</td>\n",
       "      <td></td>\n",
       "      <td>view4_seg</td>\n",
       "      <td></td>\n",
       "      <td>a2c</td>\n",
       "      <td></td>\n",
       "      <td></td>\n",
       "      <td></td>\n",
       "      <td></td>\n",
       "      <td>1</td>\n",
       "    </tr>\n",
       "    <tr>\n",
       "      <th>1</th>\n",
       "      <td>0</td>\n",
       "      <td>test_downsampleby5/</td>\n",
       "      <td></td>\n",
       "      <td>view4_seg</td>\n",
       "      <td></td>\n",
       "      <td>a4c</td>\n",
       "      <td></td>\n",
       "      <td></td>\n",
       "      <td></td>\n",
       "      <td></td>\n",
       "      <td>2</td>\n",
       "    </tr>\n",
       "    <tr>\n",
       "      <th>2</th>\n",
       "      <td>0</td>\n",
       "      <td>test_downsampleby5/</td>\n",
       "      <td></td>\n",
       "      <td>view4_seg</td>\n",
       "      <td></td>\n",
       "      <td>plax</td>\n",
       "      <td></td>\n",
       "      <td></td>\n",
       "      <td></td>\n",
       "      <td></td>\n",
       "      <td>3</td>\n",
       "    </tr>\n",
       "    <tr>\n",
       "      <th>3</th>\n",
       "      <td>0</td>\n",
       "      <td>test_downsampleby5/</td>\n",
       "      <td></td>\n",
       "      <td>view4_seg</td>\n",
       "      <td></td>\n",
       "      <td>other</td>\n",
       "      <td></td>\n",
       "      <td></td>\n",
       "      <td></td>\n",
       "      <td></td>\n",
       "      <td>4</td>\n",
       "    </tr>\n",
       "  </tbody>\n",
       "</table>\n",
       "</div>"
      ],
      "text/plain": [
       "   model_name              img_dir date_run view_mapping study_filter   view  \\\n",
       "0           0  test_downsampleby5/             view4_seg                 a2c   \n",
       "1           0  test_downsampleby5/             view4_seg                 a4c   \n",
       "2           0  test_downsampleby5/             view4_seg                plax   \n",
       "3           0  test_downsampleby5/             view4_seg               other   \n",
       "\n",
       "  tn fp fn tp  evaluation_id  \n",
       "0                          1  \n",
       "1                          2  \n",
       "2                          3  \n",
       "3                          4  "
      ]
     },
     "execution_count": 23,
     "metadata": {},
     "output_type": "execute_result"
    }
   ],
   "source": [
    "df_eval = io_class.get_table('evaluations')\n",
    "df_eval.head()"
   ]
  },
  {
   "cell_type": "code",
   "execution_count": null,
   "metadata": {},
   "outputs": [],
   "source": []
  },
  {
   "cell_type": "code",
   "execution_count": null,
   "metadata": {},
   "outputs": [],
   "source": []
  },
  {
   "cell_type": "code",
   "execution_count": null,
   "metadata": {},
   "outputs": [],
   "source": []
  },
  {
   "cell_type": "code",
   "execution_count": 21,
   "metadata": {},
   "outputs": [
    {
     "ename": "SystemExit",
     "evalue": "",
     "output_type": "error",
     "traceback": [
      "An exception has occurred, use %tb to see the full traceback.\n",
      "\u001b[0;31mSystemExit\u001b[0m\n"
     ]
    },
    {
     "name": "stderr",
     "output_type": "stream",
     "text": [
      "/home/ubuntu/anaconda3/envs/usal_echo/lib/python3.6/site-packages/IPython/core/interactiveshell.py:3334: UserWarning: To exit: use 'exit', 'quit', or Ctrl-D.\n",
      "  warn(\"To exit: use 'exit', 'quit', or Ctrl-D.\", stacklevel=1)\n"
     ]
    }
   ],
   "source": [
    "sys.exit()"
   ]
  },
  {
   "cell_type": "code",
   "execution_count": null,
   "metadata": {},
   "outputs": [],
   "source": [
    "from tensorflow.python.tools import inspect_checkpoint as chkp\n",
    "\n",
    "chkp.print_tensors_in_checkpoint_file(model_path, tensor_name='', all_tensors=False)"
   ]
  },
  {
   "cell_type": "code",
   "execution_count": null,
   "metadata": {},
   "outputs": [],
   "source": [
    "old_mod_path = '/home/ubuntu/models/view_23_e5_class_11-Mar-2018'\n",
    "\n",
    "chkp.print_tensors_in_checkpoint_file(old_mod_path, tensor_name='', all_tensors=False)"
   ]
  },
  {
   "cell_type": "code",
   "execution_count": null,
   "metadata": {},
   "outputs": [],
   "source": [
    "new_mod_name = 'view_23_retrain_14-Aug-2019'\n",
    "\n",
    "mask = df.duplicated(subset='file_name')\n",
    "\n",
    "df.loc[mask, 'model_name'] = new_mod_name"
   ]
  }
 ],
 "metadata": {
  "kernelspec": {
   "display_name": "Environment (conda_usal_echo)",
   "language": "python",
   "name": "conda_usal_echo"
  },
  "language_info": {
   "codemirror_mode": {
    "name": "ipython",
    "version": 3
   },
   "file_extension": ".py",
   "mimetype": "text/x-python",
   "name": "python",
   "nbconvert_exporter": "python",
   "pygments_lexer": "ipython3",
   "version": "3.6.5"
  }
 },
 "nbformat": 4,
 "nbformat_minor": 2
}
