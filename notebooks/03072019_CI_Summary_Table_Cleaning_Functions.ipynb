{
 "cells": [
  {
   "cell_type": "code",
   "execution_count": 1,
   "metadata": {},
   "outputs": [
    {
     "ename": "ModuleNotFoundError",
     "evalue": "No module named 'yaml'",
     "output_type": "error",
     "traceback": [
      "\u001b[1;31m---------------------------------------------------------------------------\u001b[0m",
      "\u001b[1;31mModuleNotFoundError\u001b[0m                       Traceback (most recent call last)",
      "\u001b[1;32m<ipython-input-1-5c3090dbcb06>\u001b[0m in \u001b[0;36m<module>\u001b[1;34m\u001b[0m\n\u001b[0;32m      4\u001b[0m \u001b[1;32mimport\u001b[0m \u001b[0mpsycopg2\u001b[0m\u001b[1;33m\u001b[0m\u001b[1;33m\u001b[0m\u001b[0m\n\u001b[0;32m      5\u001b[0m \u001b[1;32mimport\u001b[0m \u001b[0mseaborn\u001b[0m \u001b[1;32mas\u001b[0m \u001b[0msns\u001b[0m\u001b[1;33m\u001b[0m\u001b[1;33m\u001b[0m\u001b[0m\n\u001b[1;32m----> 6\u001b[1;33m \u001b[1;32mimport\u001b[0m \u001b[0myaml\u001b[0m\u001b[1;33m\u001b[0m\u001b[1;33m\u001b[0m\u001b[0m\n\u001b[0m\u001b[0;32m      7\u001b[0m \u001b[1;33m\u001b[0m\u001b[0m\n\u001b[0;32m      8\u001b[0m \u001b[1;32mimport\u001b[0m \u001b[0mmatplotlib\u001b[0m\u001b[1;33m.\u001b[0m\u001b[0mpyplot\u001b[0m \u001b[1;32mas\u001b[0m \u001b[0mplt\u001b[0m\u001b[1;33m\u001b[0m\u001b[1;33m\u001b[0m\u001b[0m\n",
      "\u001b[1;31mModuleNotFoundError\u001b[0m: No module named 'yaml'"
     ]
    }
   ],
   "source": [
    "import sqlalchemy\n",
    "import numpy as np\n",
    "import pandas as pd\n",
    "import psycopg2\n",
    "import seaborn as sns\n",
    "import yaml\n",
    "\n",
    "import matplotlib.pyplot as plt"
   ]
  },
  {
   "cell_type": "code",
   "execution_count": null,
   "metadata": {},
   "outputs": [],
   "source": [
    "# functions from Yoni\n",
    "\n",
    "def open_config_file():\n",
    "    #Read in config file\n",
    "    with open(\"../conf/local/db.yaml\") as f:\n",
    "        conf=yaml.safe_load(f)\n",
    "    return conf\n",
    "\n",
    "def create_connection(conf):\n",
    "    # set up sqlalchemy engine\n",
    "    host = conf['host']\n",
    "    DB = conf['DB']\n",
    "    user = conf['user']\n",
    "    pw = conf['pw']\n",
    "    connection_string = \"postgresql://{}:{}@{}/{}\".format(user, pw, host, DB)\n",
    "    conn = sqlalchemy.create_engine(connection_string)\n",
    "    return conn\n",
    "\n",
    "def get_outlier_thresholds(boxplot):\n",
    "    outlier_min, outlier_max = [item.get_ydata()[0] for item in boxplot['caps']]\n",
    "    return outlier_min, outlier_max"
   ]
  },
  {
   "cell_type": "code",
   "execution_count": null,
   "metadata": {},
   "outputs": [],
   "source": [
    "def clean_age_height_weight_bmi(df_summary_table):\n",
    "    '''\n",
    "    Takes the summary table in a dataframe \n",
    "    returns cleaned_summary_table\n",
    "    '''\n",
    "    # clean age, patientweight, patientheight column\n",
    "    column_names_to_clean = ['age', 'patientweight', 'patientheight']\n",
    "    for column in column_names_to_clean:\n",
    "        df_summary_table[column] = df_summary_table[column].replace('', 1) #Replace blanks in the column with 1\n",
    "        df_summary_table[column] = df_summary_table[column].str.replace(',', '.') #Replace comma in the column with decimal points\n",
    "        df_summary_table[column] = df_summary_table[column].fillna(1)\n",
    "        #print('Column: {} has been cleaned'.format(column))\n",
    "    \n",
    "    #convert each column to correct type\n",
    "    if df_summary_table['age'].dtype != 'int64':\n",
    "         df_summary_table['age'] = df_summary_table['age'].astype('int64')\n",
    "    if df_summary_table['patientweight'].dtype != 'float64':\n",
    "         df_summary_table['patientweight'] = df_summary_table['patientweight'].astype('float64')\n",
    "    if df_summary_table['patientheight'].dtype != 'float64':\n",
    "         df_summary_table['patientheight'] = df_summary_table['patientheight'].astype('float64')\n",
    "    \n",
    "    #Remove outliers based on boxplot\n",
    "    column_names_to_clean = ['age', 'patientweight', 'patientheight']\n",
    "    for column in column_names_to_clean:\n",
    "        boxplot = plt.boxplot(df_summary_table[column])\n",
    "        outlier_min, outlier_max = [item.get_ydata()[0] for item in boxplot['caps']]\n",
    "        df_summary_table[column] = df_summary_table[column].apply(lambda x: 1 if x > outlier_max else x)\n",
    "        df_summary_table[column] = df_summary_table[column].apply(lambda x: 1 if x < outlier_min else x)\n",
    "\n",
    "    #create BMI column (formula from https://www.cdc.gov/nccdphp/dnpao/growthcharts/training/bmiage/page5_1.html)\n",
    "    df_summary_table['bmi'] = df_summary_table.apply(lambda x: ((x.patientweight/x.patientheight/x.patientheight)*10000), axis=1)\n",
    "    \n",
    "    #clean BMI column outliers\n",
    "    boxplot = plt.boxplot(df_summary_table['bmi']);\n",
    "    outlier_min, outlier_max = [item.get_ydata()[0] for item in boxplot['caps']]\n",
    "    df_summary_table['bmi'] = df_summary_table['bmi'].apply(lambda x: 1 if x > outlier_max else x)\n",
    "    df_summary_table['bmi'] = df_summary_table['bmi'].apply(lambda x: 1 if x < outlier_min else x)\n",
    "    \n",
    "    return df_summary_table\n",
    "    "
   ]
  },
  {
   "cell_type": "code",
   "execution_count": null,
   "metadata": {},
   "outputs": [],
   "source": [
    "def clean_gender(df_summary_table):\n",
    "    '''\n",
    "    Takes the summary table in a dataframe \n",
    "    returns cleaned_summary_table with all blank rows replaced with 'U' for unsure\n",
    "    '''\n",
    "    df_summary_table['gender'] = df_summary_table['gender'].replace('', 'U')\n",
    "    return df_summary_table"
   ]
  },
  {
   "cell_type": "code",
   "execution_count": null,
   "metadata": {},
   "outputs": [],
   "source": [
    "def clean_findingcodes(df_summary_table):\n",
    "    '''\n",
    "    Takes the summary table in a dataframe \n",
    "    returns cleaned_summary_table with findingcode string converted to a list\n",
    "    '''\n",
    "    df_summary_table['findingcode'] = df_summary_table['findingcode'].apply(lambda x: x.split(\",\"))\n",
    "    return df_summary_table"
   ]
  },
  {
   "cell_type": "code",
   "execution_count": null,
   "metadata": {
    "scrolled": true
   },
   "outputs": [],
   "source": [
    "# Open config file and create connections\n",
    "configuration = open_config_file()\n",
    "connection = create_connection(configuration);\n",
    "\n",
    "#get dataframe\n",
    "table_name ='DM_Spain_VIEW_study_summary'\n",
    "query = (\"\"\"\n",
    "    select * \n",
    "    from {};\n",
    "    \"\"\").format(table_name)\n",
    "\n",
    "sql_table = pd.read_sql(query, connection)"
   ]
  },
  {
   "cell_type": "code",
   "execution_count": null,
   "metadata": {},
   "outputs": [],
   "source": [
    "# Script/main function\n",
    "cleaned_age_height_weight_bmi_summary_table = clean_age_height_weight_bmi(sql_table)\n",
    "cleaned_age_height_weight_bmi_gender_summary_table = clean_gender(cleaned_age_height_weight_bmi_summary_table)\n",
    "cleaned_age_height_weight_bmi_gender_findingcodes_summary_table = clean_findingcodes(cleaned_age_height_weight_bmi_gender_summary_table)\n"
   ]
  },
  {
   "cell_type": "code",
   "execution_count": null,
   "metadata": {},
   "outputs": [],
   "source": [
    "cleaned_age_height_weight_bmi_gender_findingcodes_summary_table.head(1)"
   ]
  },
  {
   "cell_type": "code",
   "execution_count": null,
   "metadata": {},
   "outputs": [],
   "source": [
    "cleaned_age_height_weight_bmi_gender_findingcodes_summary_table.dtypes"
   ]
  },
  {
   "cell_type": "code",
   "execution_count": null,
   "metadata": {},
   "outputs": [],
   "source": [
    "# Check output data with boxplots\n",
    "clean_tb = cleaned_age_height_weight_bmi_gender_findingcodes_summary_table #for short\n",
    "\n",
    "plt.figure(figsize=(18, 5))\n",
    "\n",
    "plt.subplot(1,4,1)\n",
    "plt.boxplot(clean_tb.age)\n",
    "plt.title('Cleaned Age Distribution')\n",
    "#plt.ylim(0, 15200)\n",
    "\n",
    "plt.subplot(1,4,2)\n",
    "plt.boxplot(clean_tb.patientweight)\n",
    "plt.title('Cleaned Patient Weight Distribution')\n",
    "#plt.ylim(0, 15200)\n",
    "\n",
    "plt.subplot(1,4,3)\n",
    "plt.boxplot(clean_tb.patientheight)\n",
    "plt.title('Cleaned Patient Height Distribution')\n",
    "#plt.ylim(0, 15200)\n",
    "\n",
    "plt.subplot(1,4,4)\n",
    "plt.boxplot(clean_tb.bmi)\n",
    "plt.title('Cleaned Patient BMI Distribution')\n",
    "#plt.ylim(0, 15200)\n",
    "plt.show()\n"
   ]
  },
  {
   "cell_type": "code",
   "execution_count": null,
   "metadata": {},
   "outputs": [],
   "source": [
    "clean_tb.gender.value_counts()"
   ]
  },
  {
   "cell_type": "code",
   "execution_count": null,
   "metadata": {},
   "outputs": [],
   "source": []
  }
 ],
 "metadata": {
  "kernelspec": {
   "display_name": "mydssgenv",
   "language": "python",
   "name": "dssg"
  },
  "language_info": {
   "codemirror_mode": {
    "name": "ipython",
    "version": 3
   },
   "file_extension": ".py",
   "mimetype": "text/x-python",
   "name": "python",
   "nbconvert_exporter": "python",
   "pygments_lexer": "ipython3",
   "version": "3.7.3"
  }
 },
 "nbformat": 4,
 "nbformat_minor": 2
}
