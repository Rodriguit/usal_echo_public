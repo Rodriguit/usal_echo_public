{
 "cells": [
  {
   "cell_type": "code",
   "execution_count": null,
   "metadata": {},
   "outputs": [],
   "source": [
    "import random\n",
    "import os\n",
    "import sys\n",
    "import subprocess\n",
    "import logging\n",
    "\n",
    "import pandas as pd\n",
    "import numpy as np\n",
    "from scipy.misc import imresize\n",
    "import cv2\n",
    "import pydicom\n",
    "from skimage.color import rgb2gray\n",
    "\n",
    "sys.path.append(os.path.dirname(os.getcwd()))\n",
    "\n",
    "import src.d00_utils.dcm_utils as dcm_utils\n",
    "import src.d00_utils.log_utils as log_utils"
   ]
  },
  {
   "cell_type": "code",
   "execution_count": null,
   "metadata": {},
   "outputs": [],
   "source": [
    "dcm_dir = os.path.expanduser('~/data/01_raw/test')\n",
    "img_dir = os.path.expanduser('~/data/02_intermediate/test')\n",
    "#dcm_filepath = os.path.join(dcm_dir, os.listdir(dcm_dir)[4])\n",
    "#dcmraw_filepath = os.path.join(dcm_dir, 'raw', os.listdir(dcm_dir)[4])\n",
    "#print(dcmraw_filepath)\n",
    "logpath = os.path.join(os.path.dirname(os.getcwd()),'log')"
   ]
  },
  {
   "cell_type": "code",
   "execution_count": null,
   "metadata": {},
   "outputs": [],
   "source": [
    "dcm_utils.dcmdir_to_jpgs_for_classification(dcm_dir, img_dir)"
   ]
  },
  {
   "cell_type": "code",
   "execution_count": null,
   "metadata": {},
   "outputs": [],
   "source": [
    "log_utils.get_logs('download_decompress_dcm','ERROR')"
   ]
  },
  {
   "cell_type": "code",
   "execution_count": null,
   "metadata": {},
   "outputs": [],
   "source": []
  }
 ],
 "metadata": {
  "kernelspec": {
   "display_name": "Environment (conda_usal_echo)",
   "language": "python",
   "name": "conda_usal_echo"
  },
  "language_info": {
   "codemirror_mode": {
    "name": "ipython",
    "version": 3
   },
   "file_extension": ".py",
   "mimetype": "text/x-python",
   "name": "python",
   "nbconvert_exporter": "python",
   "pygments_lexer": "ipython3",
   "version": "3.6.5"
  }
 },
 "nbformat": 4,
 "nbformat_minor": 2
}
