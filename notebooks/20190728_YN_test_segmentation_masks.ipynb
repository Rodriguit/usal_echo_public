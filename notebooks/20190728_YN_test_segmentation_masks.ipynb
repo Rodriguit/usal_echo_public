{
 "cells": [
  {
   "cell_type": "code",
   "execution_count": 1,
   "metadata": {},
   "outputs": [],
   "source": [
    "%reload_ext autoreload\n",
    "%autoreload 2\n",
    "%matplotlib inline"
   ]
  },
  {
   "cell_type": "code",
   "execution_count": 2,
   "metadata": {},
   "outputs": [],
   "source": [
    "import numpy as np\n",
    "import pandas as pd\n",
    "import matplotlib.pyplot as plt"
   ]
  },
  {
   "cell_type": "code",
   "execution_count": 3,
   "metadata": {},
   "outputs": [],
   "source": [
    "import sys\n",
    "sys.path.append('../src')"
   ]
  },
  {
   "cell_type": "code",
   "execution_count": 4,
   "metadata": {},
   "outputs": [
    {
     "name": "stderr",
     "output_type": "stream",
     "text": [
      "/home/ubuntu/anaconda3/envs/usal_echo/lib/python3.6/site-packages/psycopg2/__init__.py:144: UserWarning: The psycopg2 wheel package will be renamed from release 2.8; in order to keep installing from binary please use \"pip install psycopg2-binary\" instead. For details see: <http://initd.org/psycopg/docs/install.html#binary-install-from-pypi>.\n",
      "  \"\"\")\n"
     ]
    }
   ],
   "source": [
    "from d00_utils.db_utils import dbReadWriteViews\n",
    "io_views = dbReadWriteViews()"
   ]
  },
  {
   "cell_type": "code",
   "execution_count": 5,
   "metadata": {},
   "outputs": [
    {
     "name": "stdout",
     "output_type": "stream",
     "text": [
      "['machines_all_bmi', 'instances_with_labels_scrappy100', 'machines_new_bmi', 'instances_unlabeled', 'frames_sorted_by_views_temp', 'frames_w_labels', 'instances_unique_master_list', 'instances_w_labels_train', 'instances_w_conflicts', 'instances_w_labels_test', 'instances_w_labels', 'instances_w_labels_train_downsampleby5', 'instances_w_labels_test_downsampleby5', 'chords_by_volume_mask', 'frames_by_volume_mask']\n"
     ]
    }
   ],
   "source": [
    "io_views.list_tables()"
   ]
  },
  {
   "cell_type": "code",
   "execution_count": 6,
   "metadata": {},
   "outputs": [],
   "source": [
    "from d04_segmentation.generate_masks import generate_masks, get_mask"
   ]
  },
  {
   "cell_type": "code",
   "execution_count": 7,
   "metadata": {},
   "outputs": [
    {
     "name": "stdout",
     "output_type": "stream",
     "text": [
      "1 seconds to group 24297 rows\n",
      "9 seconds to apply 1157 rows\n"
     ]
    }
   ],
   "source": [
    "df = generate_masks()"
   ]
  },
  {
   "cell_type": "code",
   "execution_count": 8,
   "metadata": {},
   "outputs": [
    {
     "data": {
      "text/html": [
       "<div>\n",
       "<style scoped>\n",
       "    .dataframe tbody tr th:only-of-type {\n",
       "        vertical-align: middle;\n",
       "    }\n",
       "\n",
       "    .dataframe tbody tr th {\n",
       "        vertical-align: top;\n",
       "    }\n",
       "\n",
       "    .dataframe thead th {\n",
       "        text-align: right;\n",
       "    }\n",
       "</style>\n",
       "<table border=\"1\" class=\"dataframe\">\n",
       "  <thead>\n",
       "    <tr style=\"text-align: right;\">\n",
       "      <th></th>\n",
       "      <th>instanceidk</th>\n",
       "      <th>indexinmglist</th>\n",
       "      <th>x1coordinate</th>\n",
       "      <th>y1coordinate</th>\n",
       "      <th>x2coordinate</th>\n",
       "      <th>y2coordinate</th>\n",
       "      <th>chamber</th>\n",
       "      <th>frame</th>\n",
       "      <th>filename</th>\n",
       "      <th>lines</th>\n",
       "      <th>points</th>\n",
       "      <th>mask</th>\n",
       "    </tr>\n",
       "  </thead>\n",
       "  <tbody>\n",
       "    <tr>\n",
       "      <th>0</th>\n",
       "      <td>779540</td>\n",
       "      <td>0</td>\n",
       "      <td>[485.0, 480.90687919463096, 440.86949019132993...</td>\n",
       "      <td>[380.0, 381.66359060402704, 384.966698958586, ...</td>\n",
       "      <td>[396.0, 522.358037931813, 521.074113795439, 51...</td>\n",
       "      <td>[162.0, 364.740869835177, 352.222609505532, 33...</td>\n",
       "      <td>la</td>\n",
       "      <td>51</td>\n",
       "      <td>1LHFYKEZ</td>\n",
       "      <td>[((485.0, 380.0), (396.0, 162.0)), ((480.90687...</td>\n",
       "      <td>[(485.0, 380.0), (480.90687919463096, 381.6635...</td>\n",
       "      <td>[[0, 0, 0, 0, 0, 0, 0, 0, 0, 0, 0, 0, 0, 0, 0,...</td>\n",
       "    </tr>\n",
       "    <tr>\n",
       "      <th>1</th>\n",
       "      <td>779540</td>\n",
       "      <td>1</td>\n",
       "      <td>[452.0, 421.94456521739096, 419.746739130435, ...</td>\n",
       "      <td>[349.0, 351.796739130435, 343.73804347826103, ...</td>\n",
       "      <td>[425.0, 482.456227436823, 483.36868231046896, ...</td>\n",
       "      <td>[187.0, 341.711462093863, 333.134386281588, 32...</td>\n",
       "      <td>la</td>\n",
       "      <td>68</td>\n",
       "      <td>1LHFYKEZ</td>\n",
       "      <td>[((452.0, 349.0), (425.0, 187.0)), ((421.94456...</td>\n",
       "      <td>[(452.0, 349.0), (421.94456521739096, 351.7967...</td>\n",
       "      <td>[[0, 0, 0, 0, 0, 0, 0, 0, 0, 0, 0, 0, 0, 0, 0,...</td>\n",
       "    </tr>\n",
       "    <tr>\n",
       "      <th>2</th>\n",
       "      <td>841585</td>\n",
       "      <td>0</td>\n",
       "      <td>[437.0, 448.47381422924894, 384.99446280991697...</td>\n",
       "      <td>[416.0, 416.231027667984, 413.267314049587, 40...</td>\n",
       "      <td>[402.0, 491.178705211726, 503.536115635179, 51...</td>\n",
       "      <td>[181.0, 409.8707247557, 395.612174267101, 381....</td>\n",
       "      <td>la</td>\n",
       "      <td>46</td>\n",
       "      <td>7SQZPLEJ</td>\n",
       "      <td>[((437.0, 416.0), (402.0, 181.0)), ((448.47381...</td>\n",
       "      <td>[(437.0, 416.0), (448.47381422924894, 416.2310...</td>\n",
       "      <td>[[0, 0, 0, 0, 0, 0, 0, 0, 0, 0, 0, 0, 0, 0, 0,...</td>\n",
       "    </tr>\n",
       "    <tr>\n",
       "      <th>3</th>\n",
       "      <td>841585</td>\n",
       "      <td>1</td>\n",
       "      <td>[414.0, 366.31768953068604, 360.64635761589403...</td>\n",
       "      <td>[405.0, 405.098916967509, 393.292715231788, 38...</td>\n",
       "      <td>[417.0, 412.328293736501, 461.257577036724, 46...</td>\n",
       "      <td>[177.0, 405.70431965442805, 394.616547066273, ...</td>\n",
       "      <td>la</td>\n",
       "      <td>60</td>\n",
       "      <td>7SQZPLEJ</td>\n",
       "      <td>[((414.0, 405.0), (417.0, 177.0)), ((366.31768...</td>\n",
       "      <td>[(414.0, 405.0), (366.31768953068604, 405.0989...</td>\n",
       "      <td>[[0, 0, 0, 0, 0, 0, 0, 0, 0, 0, 0, 0, 0, 0, 0,...</td>\n",
       "    </tr>\n",
       "    <tr>\n",
       "      <th>4</th>\n",
       "      <td>921901</td>\n",
       "      <td>0</td>\n",
       "      <td>[508.0, 523.506117397454, 484.518352192362, 44...</td>\n",
       "      <td>[369.0, 365.96646039603996, 371.899381188119, ...</td>\n",
       "      <td>[417.0, 546.086449022875, 552.259347068626, 55...</td>\n",
       "      <td>[175.0, 355.37465535524905, 340.123966065748, ...</td>\n",
       "      <td>la</td>\n",
       "      <td>51</td>\n",
       "      <td>EAKXA40T</td>\n",
       "      <td>[((508.0, 369.0), (417.0, 175.0)), ((523.50611...</td>\n",
       "      <td>[(508.0, 369.0), (523.506117397454, 365.966460...</td>\n",
       "      <td>[[0, 0, 0, 0, 0, 0, 0, 0, 0, 0, 0, 0, 0, 0, 0,...</td>\n",
       "    </tr>\n",
       "  </tbody>\n",
       "</table>\n",
       "</div>"
      ],
      "text/plain": [
       "   instanceidk  indexinmglist  \\\n",
       "0       779540              0   \n",
       "1       779540              1   \n",
       "2       841585              0   \n",
       "3       841585              1   \n",
       "4       921901              0   \n",
       "\n",
       "                                        x1coordinate  \\\n",
       "0  [485.0, 480.90687919463096, 440.86949019132993...   \n",
       "1  [452.0, 421.94456521739096, 419.746739130435, ...   \n",
       "2  [437.0, 448.47381422924894, 384.99446280991697...   \n",
       "3  [414.0, 366.31768953068604, 360.64635761589403...   \n",
       "4  [508.0, 523.506117397454, 484.518352192362, 44...   \n",
       "\n",
       "                                        y1coordinate  \\\n",
       "0  [380.0, 381.66359060402704, 384.966698958586, ...   \n",
       "1  [349.0, 351.796739130435, 343.73804347826103, ...   \n",
       "2  [416.0, 416.231027667984, 413.267314049587, 40...   \n",
       "3  [405.0, 405.098916967509, 393.292715231788, 38...   \n",
       "4  [369.0, 365.96646039603996, 371.899381188119, ...   \n",
       "\n",
       "                                        x2coordinate  \\\n",
       "0  [396.0, 522.358037931813, 521.074113795439, 51...   \n",
       "1  [425.0, 482.456227436823, 483.36868231046896, ...   \n",
       "2  [402.0, 491.178705211726, 503.536115635179, 51...   \n",
       "3  [417.0, 412.328293736501, 461.257577036724, 46...   \n",
       "4  [417.0, 546.086449022875, 552.259347068626, 55...   \n",
       "\n",
       "                                        y2coordinate chamber  frame  filename  \\\n",
       "0  [162.0, 364.740869835177, 352.222609505532, 33...      la     51  1LHFYKEZ   \n",
       "1  [187.0, 341.711462093863, 333.134386281588, 32...      la     68  1LHFYKEZ   \n",
       "2  [181.0, 409.8707247557, 395.612174267101, 381....      la     46  7SQZPLEJ   \n",
       "3  [177.0, 405.70431965442805, 394.616547066273, ...      la     60  7SQZPLEJ   \n",
       "4  [175.0, 355.37465535524905, 340.123966065748, ...      la     51  EAKXA40T   \n",
       "\n",
       "                                               lines  \\\n",
       "0  [((485.0, 380.0), (396.0, 162.0)), ((480.90687...   \n",
       "1  [((452.0, 349.0), (425.0, 187.0)), ((421.94456...   \n",
       "2  [((437.0, 416.0), (402.0, 181.0)), ((448.47381...   \n",
       "3  [((414.0, 405.0), (417.0, 177.0)), ((366.31768...   \n",
       "4  [((508.0, 369.0), (417.0, 175.0)), ((523.50611...   \n",
       "\n",
       "                                              points  \\\n",
       "0  [(485.0, 380.0), (480.90687919463096, 381.6635...   \n",
       "1  [(452.0, 349.0), (421.94456521739096, 351.7967...   \n",
       "2  [(437.0, 416.0), (448.47381422924894, 416.2310...   \n",
       "3  [(414.0, 405.0), (366.31768953068604, 405.0989...   \n",
       "4  [(508.0, 369.0), (523.506117397454, 365.966460...   \n",
       "\n",
       "                                                mask  \n",
       "0  [[0, 0, 0, 0, 0, 0, 0, 0, 0, 0, 0, 0, 0, 0, 0,...  \n",
       "1  [[0, 0, 0, 0, 0, 0, 0, 0, 0, 0, 0, 0, 0, 0, 0,...  \n",
       "2  [[0, 0, 0, 0, 0, 0, 0, 0, 0, 0, 0, 0, 0, 0, 0,...  \n",
       "3  [[0, 0, 0, 0, 0, 0, 0, 0, 0, 0, 0, 0, 0, 0, 0,...  \n",
       "4  [[0, 0, 0, 0, 0, 0, 0, 0, 0, 0, 0, 0, 0, 0, 0,...  "
      ]
     },
     "execution_count": 8,
     "metadata": {},
     "output_type": "execute_result"
    }
   ],
   "source": [
    "df.head()"
   ]
  },
  {
   "cell_type": "code",
   "execution_count": 9,
   "metadata": {},
   "outputs": [],
   "source": [
    "import os\n",
    "os.makedirs('masks', exist_ok=True)"
   ]
  },
  {
   "cell_type": "code",
   "execution_count": 10,
   "metadata": {},
   "outputs": [],
   "source": [
    "for i, row in df.iterrows():\n",
    "    filename = row['filename']\n",
    "    frame = row['frame']\n",
    "    chamber = row['chamber']\n",
    "    np.save(f\"masks/a_{filename}.dcm_{frame}_{chamber}_gt.npy\", row['mask'])"
   ]
  },
  {
   "cell_type": "code",
   "execution_count": 11,
   "metadata": {},
   "outputs": [
    {
     "data": {
      "text/plain": [
       "[((485.0, 380.0), (396.0, 162.0)),\n",
       " ((480.90687919463096, 381.66359060402704),\n",
       "  (522.358037931813, 364.740869835177)),\n",
       " ((440.86949019132993, 384.966698958586),\n",
       "  (521.074113795439, 352.222609505532)),\n",
       " ((429.163205376604, 376.703439089368), (519.790189659065, 339.704349175886)),\n",
       " ((417.456920561879, 368.44017922015), (518.5062655226909, 327.186088846241)),\n",
       " ((414.154231775845, 356.746093449311), (517.222341386317, 314.667828516595)),\n",
       " ((414.373094834886, 343.614309906859), (515.938417249944, 302.14956818695)),\n",
       " ((414.591957893927, 330.482526364406), (513.929243991481, 289.927395801643)),\n",
       " ((414.810820952967, 317.350742821954),\n",
       "  (509.95025098874396, 278.509415880742)),\n",
       " ((414.81752349084, 304.305575272088), (505.971257986005, 267.091435959842)),\n",
       " ((413.472106739674, 291.812419725546), (501.992264983267, 255.673456038941)),\n",
       " ((412.126689988508, 279.319264179004), (498.013271980529, 244.255476118041)),\n",
       " ((410.781273237342, 266.826108632461), (494.03427897779096, 232.83749619714)),\n",
       " ((409.435856486176, 254.332953085919), (487.736778044551, 222.366063091903)),\n",
       " ((408.09043973501, 241.83979753937697), (479.013988928905, 212.884770574897)),\n",
       " ((403.816837539432, 230.54209384857998),\n",
       "  (470.29119981325897, 203.40347805788997)),\n",
       " ((399.33221608832804, 219.33054022082), (461.568410697612, 193.922185540883)),\n",
       " ((394.84759463722395, 208.11898659306),\n",
       "  (452.84562158196604, 184.440893023876)),\n",
       " ((390.36297318612, 196.9074329653), (442.03707901554395, 175.811123704663)),\n",
       " ((392.279550741495, 183.08254579819697),\n",
       "  (423.622247409326, 170.286674222798)),\n",
       " ((394.759850247165, 169.027515266066), (405.207415803109, 164.762224740933))]"
      ]
     },
     "execution_count": 11,
     "metadata": {},
     "output_type": "execute_result"
    }
   ],
   "source": [
    "x = df.iloc[0]\n",
    "lines = x['lines']\n",
    "lines"
   ]
  },
  {
   "cell_type": "code",
   "execution_count": 12,
   "metadata": {},
   "outputs": [
    {
     "data": {
      "text/plain": [
       "[(485.0, 380.0),\n",
       " (480.90687919463096, 381.66359060402704),\n",
       " (440.86949019132993, 384.966698958586),\n",
       " (429.163205376604, 376.703439089368),\n",
       " (417.456920561879, 368.44017922015),\n",
       " (414.154231775845, 356.746093449311),\n",
       " (414.373094834886, 343.614309906859),\n",
       " (414.591957893927, 330.482526364406),\n",
       " (414.810820952967, 317.350742821954),\n",
       " (414.81752349084, 304.305575272088),\n",
       " (413.472106739674, 291.812419725546),\n",
       " (412.126689988508, 279.319264179004),\n",
       " (410.781273237342, 266.826108632461),\n",
       " (409.435856486176, 254.332953085919),\n",
       " (408.09043973501, 241.83979753937697),\n",
       " (403.816837539432, 230.54209384857998),\n",
       " (399.33221608832804, 219.33054022082),\n",
       " (394.84759463722395, 208.11898659306),\n",
       " (390.36297318612, 196.9074329653),\n",
       " (392.279550741495, 183.08254579819697),\n",
       " (394.759850247165, 169.027515266066),\n",
       " (396.0, 162.0),\n",
       " (405.207415803109, 164.762224740933),\n",
       " (423.622247409326, 170.286674222798),\n",
       " (442.03707901554395, 175.811123704663),\n",
       " (452.84562158196604, 184.440893023876),\n",
       " (461.568410697612, 193.922185540883),\n",
       " (470.29119981325897, 203.40347805788997),\n",
       " (479.013988928905, 212.884770574897),\n",
       " (487.736778044551, 222.366063091903),\n",
       " (494.03427897779096, 232.83749619714),\n",
       " (498.013271980529, 244.255476118041),\n",
       " (501.992264983267, 255.673456038941),\n",
       " (505.971257986005, 267.091435959842),\n",
       " (509.95025098874396, 278.509415880742),\n",
       " (513.929243991481, 289.927395801643),\n",
       " (515.938417249944, 302.14956818695),\n",
       " (517.222341386317, 314.667828516595),\n",
       " (518.5062655226909, 327.186088846241),\n",
       " (519.790189659065, 339.704349175886),\n",
       " (521.074113795439, 352.222609505532),\n",
       " (522.358037931813, 364.740869835177),\n",
       " (485.0, 380.0)]"
      ]
     },
     "execution_count": 12,
     "metadata": {},
     "output_type": "execute_result"
    }
   ],
   "source": [
    "points = x['points']\n",
    "points"
   ]
  },
  {
   "cell_type": "code",
   "execution_count": 13,
   "metadata": {},
   "outputs": [],
   "source": [
    "from shapely.geometry import MultiLineString, Polygon"
   ]
  },
  {
   "cell_type": "code",
   "execution_count": 14,
   "metadata": {},
   "outputs": [
    {
     "data": {
      "image/svg+xml": [
       "<svg xmlns=\"http://www.w3.org/2000/svg\" xmlns:xlink=\"http://www.w3.org/1999/xlink\" width=\"149.83240066237994\" height=\"240.8040348752729\" viewBox=\"381.4443052277765 153.08133204165657 149.83240066237994 240.8040348752729\" preserveAspectRatio=\"xMinYMin meet\"><g transform=\"matrix(1,0,0,-1,0,546.966698958586)\"><g><polyline fill=\"none\" stroke=\"#66cc99\" stroke-width=\"2.0\" points=\"485.0,380.0 396.0,162.0\" opacity=\"0.8\" /><polyline fill=\"none\" stroke=\"#66cc99\" stroke-width=\"2.0\" points=\"480.90687919463096,381.66359060402704 522.358037931813,364.740869835177\" opacity=\"0.8\" /><polyline fill=\"none\" stroke=\"#66cc99\" stroke-width=\"2.0\" points=\"440.86949019132993,384.966698958586 521.074113795439,352.222609505532\" opacity=\"0.8\" /><polyline fill=\"none\" stroke=\"#66cc99\" stroke-width=\"2.0\" points=\"429.163205376604,376.703439089368 519.790189659065,339.704349175886\" opacity=\"0.8\" /><polyline fill=\"none\" stroke=\"#66cc99\" stroke-width=\"2.0\" points=\"417.456920561879,368.44017922015 518.5062655226909,327.186088846241\" opacity=\"0.8\" /><polyline fill=\"none\" stroke=\"#66cc99\" stroke-width=\"2.0\" points=\"414.154231775845,356.746093449311 517.222341386317,314.667828516595\" opacity=\"0.8\" /><polyline fill=\"none\" stroke=\"#66cc99\" stroke-width=\"2.0\" points=\"414.373094834886,343.614309906859 515.938417249944,302.14956818695\" opacity=\"0.8\" /><polyline fill=\"none\" stroke=\"#66cc99\" stroke-width=\"2.0\" points=\"414.591957893927,330.482526364406 513.929243991481,289.927395801643\" opacity=\"0.8\" /><polyline fill=\"none\" stroke=\"#66cc99\" stroke-width=\"2.0\" points=\"414.810820952967,317.350742821954 509.95025098874396,278.509415880742\" opacity=\"0.8\" /><polyline fill=\"none\" stroke=\"#66cc99\" stroke-width=\"2.0\" points=\"414.81752349084,304.305575272088 505.971257986005,267.091435959842\" opacity=\"0.8\" /><polyline fill=\"none\" stroke=\"#66cc99\" stroke-width=\"2.0\" points=\"413.472106739674,291.812419725546 501.992264983267,255.673456038941\" opacity=\"0.8\" /><polyline fill=\"none\" stroke=\"#66cc99\" stroke-width=\"2.0\" points=\"412.126689988508,279.319264179004 498.013271980529,244.255476118041\" opacity=\"0.8\" /><polyline fill=\"none\" stroke=\"#66cc99\" stroke-width=\"2.0\" points=\"410.781273237342,266.826108632461 494.03427897779096,232.83749619714\" opacity=\"0.8\" /><polyline fill=\"none\" stroke=\"#66cc99\" stroke-width=\"2.0\" points=\"409.435856486176,254.332953085919 487.736778044551,222.366063091903\" opacity=\"0.8\" /><polyline fill=\"none\" stroke=\"#66cc99\" stroke-width=\"2.0\" points=\"408.09043973501,241.83979753937697 479.013988928905,212.884770574897\" opacity=\"0.8\" /><polyline fill=\"none\" stroke=\"#66cc99\" stroke-width=\"2.0\" points=\"403.816837539432,230.54209384857998 470.29119981325897,203.40347805788997\" opacity=\"0.8\" /><polyline fill=\"none\" stroke=\"#66cc99\" stroke-width=\"2.0\" points=\"399.33221608832804,219.33054022082 461.568410697612,193.922185540883\" opacity=\"0.8\" /><polyline fill=\"none\" stroke=\"#66cc99\" stroke-width=\"2.0\" points=\"394.84759463722395,208.11898659306 452.84562158196604,184.440893023876\" opacity=\"0.8\" /><polyline fill=\"none\" stroke=\"#66cc99\" stroke-width=\"2.0\" points=\"390.36297318612,196.9074329653 442.03707901554395,175.811123704663\" opacity=\"0.8\" /><polyline fill=\"none\" stroke=\"#66cc99\" stroke-width=\"2.0\" points=\"392.279550741495,183.08254579819697 423.622247409326,170.286674222798\" opacity=\"0.8\" /><polyline fill=\"none\" stroke=\"#66cc99\" stroke-width=\"2.0\" points=\"394.759850247165,169.027515266066 405.207415803109,164.762224740933\" opacity=\"0.8\" /></g></g></svg>"
      ],
      "text/plain": [
       "<shapely.geometry.multilinestring.MultiLineString at 0x7f18f1fce908>"
      ]
     },
     "execution_count": 14,
     "metadata": {},
     "output_type": "execute_result"
    }
   ],
   "source": [
    "MultiLineString(lines)"
   ]
  },
  {
   "cell_type": "code",
   "execution_count": 15,
   "metadata": {},
   "outputs": [
    {
     "data": {
      "image/svg+xml": [
       "<svg xmlns=\"http://www.w3.org/2000/svg\" xmlns:xlink=\"http://www.w3.org/1999/xlink\" width=\"149.83240066237994\" height=\"240.8040348752729\" viewBox=\"381.4443052277765 153.08133204165657 149.83240066237994 240.8040348752729\" preserveAspectRatio=\"xMinYMin meet\"><g transform=\"matrix(1,0,0,-1,0,546.966698958586)\"><path fill-rule=\"evenodd\" fill=\"#66cc99\" stroke=\"#555555\" stroke-width=\"2.0\" opacity=\"0.6\" d=\"M 485.0,380.0 L 480.90687919463096,381.66359060402704 L 440.86949019132993,384.966698958586 L 429.163205376604,376.703439089368 L 417.456920561879,368.44017922015 L 414.154231775845,356.746093449311 L 414.373094834886,343.614309906859 L 414.591957893927,330.482526364406 L 414.810820952967,317.350742821954 L 414.81752349084,304.305575272088 L 413.472106739674,291.812419725546 L 412.126689988508,279.319264179004 L 410.781273237342,266.826108632461 L 409.435856486176,254.332953085919 L 408.09043973501,241.83979753937697 L 403.816837539432,230.54209384857998 L 399.33221608832804,219.33054022082 L 394.84759463722395,208.11898659306 L 390.36297318612,196.9074329653 L 392.279550741495,183.08254579819697 L 394.759850247165,169.027515266066 L 396.0,162.0 L 405.207415803109,164.762224740933 L 423.622247409326,170.286674222798 L 442.03707901554395,175.811123704663 L 452.84562158196604,184.440893023876 L 461.568410697612,193.922185540883 L 470.29119981325897,203.40347805788997 L 479.013988928905,212.884770574897 L 487.736778044551,222.366063091903 L 494.03427897779096,232.83749619714 L 498.013271980529,244.255476118041 L 501.992264983267,255.673456038941 L 505.971257986005,267.091435959842 L 509.95025098874396,278.509415880742 L 513.929243991481,289.927395801643 L 515.938417249944,302.14956818695 L 517.222341386317,314.667828516595 L 518.5062655226909,327.186088846241 L 519.790189659065,339.704349175886 L 521.074113795439,352.222609505532 L 522.358037931813,364.740869835177 L 485.0,380.0 z\" /></g></svg>"
      ],
      "text/plain": [
       "<shapely.geometry.polygon.Polygon at 0x7f18f1fce240>"
      ]
     },
     "execution_count": 15,
     "metadata": {},
     "output_type": "execute_result"
    }
   ],
   "source": [
    "Polygon(points)"
   ]
  },
  {
   "cell_type": "code",
   "execution_count": 16,
   "metadata": {},
   "outputs": [
    {
     "data": {
      "text/plain": [
       "<matplotlib.image.AxesImage at 0x7f18f0b873c8>"
      ]
     },
     "execution_count": 16,
     "metadata": {},
     "output_type": "execute_result"
    },
    {
     "data": {
      "image/png": "[encoded data removed]",
      "text/plain": [
       "<Figure size 432x288 with 1 Axes>"
      ]
     },
     "metadata": {},
     "output_type": "display_data"
    }
   ],
   "source": [
    "plt.imshow(np.flipud(x['mask']))"
   ]
  },
  {
   "cell_type": "code",
   "execution_count": null,
   "metadata": {},
   "outputs": [],
   "source": []
  }
 ],
 "metadata": {
  "kernelspec": {
   "display_name": "Environment (conda_usal_echo)",
   "language": "python",
   "name": "conda_usal_echo"
  },
  "language_info": {
   "codemirror_mode": {
    "name": "ipython",
    "version": 3
   },
   "file_extension": ".py",
   "mimetype": "text/x-python",
   "name": "python",
   "nbconvert_exporter": "python",
   "pygments_lexer": "ipython3",
   "version": "3.6.5"
  }
 },
 "nbformat": 4,
 "nbformat_minor": 2
}
