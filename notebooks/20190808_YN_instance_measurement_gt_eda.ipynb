{
 "cells": [
  {
   "cell_type": "code",
   "execution_count": 1,
   "metadata": {},
   "outputs": [],
   "source": [
    "%reload_ext autoreload\n",
    "%autoreload 2\n",
    "%matplotlib inline"
   ]
  },
  {
   "cell_type": "code",
   "execution_count": 2,
   "metadata": {},
   "outputs": [],
   "source": [
    "import numpy as np\n",
    "import pandas as pd\n",
    "import matplotlib.pyplot as plt"
   ]
  },
  {
   "cell_type": "code",
   "execution_count": 3,
   "metadata": {},
   "outputs": [],
   "source": [
    "import sys\n",
    "sys.path.append('../src')"
   ]
  },
  {
   "cell_type": "code",
   "execution_count": 4,
   "metadata": {},
   "outputs": [
    {
     "name": "stderr",
     "output_type": "stream",
     "text": [
      "/home/ubuntu/anaconda3/envs/usal_echo/lib/python3.6/site-packages/psycopg2/__init__.py:144: UserWarning: The psycopg2 wheel package will be renamed from release 2.8; in order to keep installing from binary please use \"pip install psycopg2-binary\" instead. For details see: <http://initd.org/psycopg/docs/install.html#binary-install-from-pypi>.\n",
      "  \"\"\")\n"
     ]
    }
   ],
   "source": [
    "from d00_utils.db_utils import dbReadWriteClean, dbReadWriteViews\n",
    "io_clean = dbReadWriteClean()\n",
    "io_views = dbReadWriteViews()"
   ]
  },
  {
   "cell_type": "code",
   "execution_count": 5,
   "metadata": {},
   "outputs": [
    {
     "name": "stdout",
     "output_type": "stream",
     "text": [
      "(1568351, 5)\n"
     ]
    },
    {
     "data": {
      "text/html": [
       "<div>\n",
       "<style scoped>\n",
       "    .dataframe tbody tr th:only-of-type {\n",
       "        vertical-align: middle;\n",
       "    }\n",
       "\n",
       "    .dataframe tbody tr th {\n",
       "        vertical-align: top;\n",
       "    }\n",
       "\n",
       "    .dataframe thead th {\n",
       "        text-align: right;\n",
       "    }\n",
       "</style>\n",
       "<table border=\"1\" class=\"dataframe\">\n",
       "  <thead>\n",
       "    <tr style=\"text-align: right;\">\n",
       "      <th></th>\n",
       "      <th>studyidk</th>\n",
       "      <th>measabstractnumber</th>\n",
       "      <th>name</th>\n",
       "      <th>value</th>\n",
       "      <th>unitname</th>\n",
       "    </tr>\n",
       "  </thead>\n",
       "  <tbody>\n",
       "    <tr>\n",
       "      <th>0</th>\n",
       "      <td>2882</td>\n",
       "      <td>2</td>\n",
       "      <td>(P1/2t)AVM</td>\n",
       "      <td>2.491754</td>\n",
       "      <td>cm2</td>\n",
       "    </tr>\n",
       "    <tr>\n",
       "      <th>1</th>\n",
       "      <td>2882</td>\n",
       "      <td>12</td>\n",
       "      <td>Area TSVI</td>\n",
       "      <td>3.606348</td>\n",
       "      <td>cm2</td>\n",
       "    </tr>\n",
       "    <tr>\n",
       "      <th>2</th>\n",
       "      <td>2882</td>\n",
       "      <td>43</td>\n",
       "      <td>FE(el-ps4)</td>\n",
       "      <td>37.032087</td>\n",
       "      <td>%</td>\n",
       "    </tr>\n",
       "    <tr>\n",
       "      <th>3</th>\n",
       "      <td>2882</td>\n",
       "      <td>46</td>\n",
       "      <td>FE(MDD-ps4)</td>\n",
       "      <td>35.095355</td>\n",
       "      <td>%</td>\n",
       "    </tr>\n",
       "    <tr>\n",
       "      <th>4</th>\n",
       "      <td>2882</td>\n",
       "      <td>125</td>\n",
       "      <td>P1/2t VM</td>\n",
       "      <td>88.291224</td>\n",
       "      <td>ms</td>\n",
       "    </tr>\n",
       "  </tbody>\n",
       "</table>\n",
       "</div>"
      ],
      "text/plain": [
       "   studyidk  measabstractnumber         name      value unitname\n",
       "0      2882                   2   (P1/2t)AVM   2.491754      cm2\n",
       "1      2882                  12    Area TSVI   3.606348      cm2\n",
       "2      2882                  43   FE(el-ps4)  37.032087        %\n",
       "3      2882                  46  FE(MDD-ps4)  35.095355        %\n",
       "4      2882                 125     P1/2t VM  88.291224       ms"
      ]
     },
     "execution_count": 5,
     "metadata": {},
     "output_type": "execute_result"
    }
   ],
   "source": [
    "measurement_abstract_rpt_df = io_clean.get_table(\"measurement_abstract_rpt\")\n",
    "print(measurement_abstract_rpt_df.shape)\n",
    "measurement_abstract_rpt_df.head()"
   ]
  },
  {
   "cell_type": "code",
   "execution_count": 6,
   "metadata": {},
   "outputs": [
    {
     "name": "stdout",
     "output_type": "stream",
     "text": [
      "(2726, 5)\n"
     ]
    },
    {
     "data": {
      "text/html": [
       "<div>\n",
       "<style scoped>\n",
       "    .dataframe tbody tr th:only-of-type {\n",
       "        vertical-align: middle;\n",
       "    }\n",
       "\n",
       "    .dataframe tbody tr th {\n",
       "        vertical-align: top;\n",
       "    }\n",
       "\n",
       "    .dataframe thead th {\n",
       "        text-align: right;\n",
       "    }\n",
       "</style>\n",
       "<table border=\"1\" class=\"dataframe\">\n",
       "  <thead>\n",
       "    <tr style=\"text-align: right;\">\n",
       "      <th></th>\n",
       "      <th>sopinstanceuid</th>\n",
       "      <th>filename</th>\n",
       "      <th>instanceidk</th>\n",
       "      <th>view</th>\n",
       "      <th>studyidk</th>\n",
       "    </tr>\n",
       "  </thead>\n",
       "  <tbody>\n",
       "    <tr>\n",
       "      <th>0</th>\n",
       "      <td>1.2.840.113663.1500.1.365900332.3.4.20120704.1...</td>\n",
       "      <td>8ZGVCN6C</td>\n",
       "      <td>696438</td>\n",
       "      <td>a4c</td>\n",
       "      <td>39553</td>\n",
       "    </tr>\n",
       "    <tr>\n",
       "      <th>1</th>\n",
       "      <td>1.2.840.113663.1500.1.365900332.3.16.20120704....</td>\n",
       "      <td>8ZGVCPFW</td>\n",
       "      <td>696467</td>\n",
       "      <td>a2c</td>\n",
       "      <td>39553</td>\n",
       "    </tr>\n",
       "    <tr>\n",
       "      <th>2</th>\n",
       "      <td>1.2.840.113663.1500.1.365900332.3.9.20120704.1...</td>\n",
       "      <td>8ZGVDB47</td>\n",
       "      <td>696500</td>\n",
       "      <td>a4c</td>\n",
       "      <td>39555</td>\n",
       "    </tr>\n",
       "    <tr>\n",
       "      <th>4</th>\n",
       "      <td>1.2.840.113663.1500.1.365900332.3.13.20121022....</td>\n",
       "      <td>D1K0E7SN</td>\n",
       "      <td>738302</td>\n",
       "      <td>a2c</td>\n",
       "      <td>41686</td>\n",
       "    </tr>\n",
       "    <tr>\n",
       "      <th>6</th>\n",
       "      <td>1.2.840.113663.1500.1.365900332.3.9.20121106.1...</td>\n",
       "      <td>E457WH6C</td>\n",
       "      <td>744752</td>\n",
       "      <td>a4c</td>\n",
       "      <td>42015</td>\n",
       "    </tr>\n",
       "  </tbody>\n",
       "</table>\n",
       "</div>"
      ],
      "text/plain": [
       "                                      sopinstanceuid  filename  instanceidk  \\\n",
       "0  1.2.840.113663.1500.1.365900332.3.4.20120704.1...  8ZGVCN6C       696438   \n",
       "1  1.2.840.113663.1500.1.365900332.3.16.20120704....  8ZGVCPFW       696467   \n",
       "2  1.2.840.113663.1500.1.365900332.3.9.20120704.1...  8ZGVDB47       696500   \n",
       "4  1.2.840.113663.1500.1.365900332.3.13.20121022....  D1K0E7SN       738302   \n",
       "6  1.2.840.113663.1500.1.365900332.3.9.20121106.1...  E457WH6C       744752   \n",
       "\n",
       "  view  studyidk  \n",
       "0  a4c     39553  \n",
       "1  a2c     39553  \n",
       "2  a4c     39555  \n",
       "4  a2c     41686  \n",
       "6  a4c     42015  "
      ]
     },
     "execution_count": 6,
     "metadata": {},
     "output_type": "execute_result"
    }
   ],
   "source": [
    "instances_w_labels_test_df = io_views.get_table('instances_w_labels_test')\n",
    "instances_w_labels_test_df = instances_w_labels_test_df[(instances_w_labels_test_df['view']=='a2c') | (instances_w_labels_test_df['view']=='a4c')]\n",
    "print(instances_w_labels_test_df.shape)\n",
    "instances_w_labels_test_df.head()"
   ]
  },
  {
   "cell_type": "code",
   "execution_count": 7,
   "metadata": {},
   "outputs": [
    {
     "name": "stdout",
     "output_type": "stream",
     "text": [
      "(522, 5)\n"
     ]
    },
    {
     "data": {
      "text/html": [
       "<div>\n",
       "<style scoped>\n",
       "    .dataframe tbody tr th:only-of-type {\n",
       "        vertical-align: middle;\n",
       "    }\n",
       "\n",
       "    .dataframe tbody tr th {\n",
       "        vertical-align: top;\n",
       "    }\n",
       "\n",
       "    .dataframe thead th {\n",
       "        text-align: right;\n",
       "    }\n",
       "</style>\n",
       "<table border=\"1\" class=\"dataframe\">\n",
       "  <thead>\n",
       "    <tr style=\"text-align: right;\">\n",
       "      <th></th>\n",
       "      <th>sopinstanceuid</th>\n",
       "      <th>filename</th>\n",
       "      <th>instanceidk</th>\n",
       "      <th>view</th>\n",
       "      <th>studyidk</th>\n",
       "    </tr>\n",
       "  </thead>\n",
       "  <tbody>\n",
       "    <tr>\n",
       "      <th>0</th>\n",
       "      <td>1.2.840.113663.1500.1.365900332.3.8.20130125.1...</td>\n",
       "      <td>1LHFYKEZ</td>\n",
       "      <td>779540</td>\n",
       "      <td>a4c</td>\n",
       "      <td>43763</td>\n",
       "    </tr>\n",
       "    <tr>\n",
       "      <th>2</th>\n",
       "      <td>1.2.840.113663.1500.1.365900332.3.11.20130611....</td>\n",
       "      <td>7SQZPLEJ</td>\n",
       "      <td>841585</td>\n",
       "      <td>a4c</td>\n",
       "      <td>46919</td>\n",
       "    </tr>\n",
       "    <tr>\n",
       "      <th>4</th>\n",
       "      <td>1.2.840.113663.1500.1.365900332.3.8.20131120.1...</td>\n",
       "      <td>EAKXA40T</td>\n",
       "      <td>921901</td>\n",
       "      <td>a4c</td>\n",
       "      <td>50521</td>\n",
       "    </tr>\n",
       "    <tr>\n",
       "      <th>15</th>\n",
       "      <td>1.2.840.113663.1500.1.365900332.3.19.20140818....</td>\n",
       "      <td>AFUJWQM9</td>\n",
       "      <td>1078635</td>\n",
       "      <td>a4c</td>\n",
       "      <td>57515</td>\n",
       "    </tr>\n",
       "    <tr>\n",
       "      <th>17</th>\n",
       "      <td>1.2.840.113663.1500.1.365900332.3.19.20140828....</td>\n",
       "      <td>AKFY2K0G</td>\n",
       "      <td>1084663</td>\n",
       "      <td>a2c</td>\n",
       "      <td>57770</td>\n",
       "    </tr>\n",
       "  </tbody>\n",
       "</table>\n",
       "</div>"
      ],
      "text/plain": [
       "                                       sopinstanceuid  filename  instanceidk  \\\n",
       "0   1.2.840.113663.1500.1.365900332.3.8.20130125.1...  1LHFYKEZ       779540   \n",
       "2   1.2.840.113663.1500.1.365900332.3.11.20130611....  7SQZPLEJ       841585   \n",
       "4   1.2.840.113663.1500.1.365900332.3.8.20131120.1...  EAKXA40T       921901   \n",
       "15  1.2.840.113663.1500.1.365900332.3.19.20140818....  AFUJWQM9      1078635   \n",
       "17  1.2.840.113663.1500.1.365900332.3.19.20140828....  AKFY2K0G      1084663   \n",
       "\n",
       "   view  studyidk  \n",
       "0   a4c     43763  \n",
       "2   a4c     46919  \n",
       "4   a4c     50521  \n",
       "15  a4c     57515  \n",
       "17  a2c     57770  "
      ]
     },
     "execution_count": 7,
     "metadata": {},
     "output_type": "execute_result"
    }
   ],
   "source": [
    "instances_w_labels_test_downsampleby5_df = io_views.get_table('instances_w_labels_test_downsampleby5')\n",
    "instances_w_labels_test_downsampleby5_df = instances_w_labels_test_downsampleby5_df[(instances_w_labels_test_downsampleby5_df['view']=='a2c') | (instances_w_labels_test_downsampleby5_df['view']=='a4c')]\n",
    "print(instances_w_labels_test_downsampleby5_df.shape)\n",
    "instances_w_labels_test_downsampleby5_df.head()"
   ]
  },
  {
   "cell_type": "code",
   "execution_count": 8,
   "metadata": {},
   "outputs": [
    {
     "name": "stderr",
     "output_type": "stream",
     "text": [
      "/home/ubuntu/anaconda3/envs/usal_echo/lib/python3.6/site-packages/IPython/core/interactiveshell.py:3249: DtypeWarning: Columns (8,9) have mixed types. Specify dtype option on import or set low_memory=False.\n",
      "  if (await self.run_code(code, result,  async_=asy)):\n"
     ]
    },
    {
     "name": "stdout",
     "output_type": "stream",
     "text": [
      "(858255, 10)\n"
     ]
    },
    {
     "data": {
      "text/html": [
       "<div>\n",
       "<style scoped>\n",
       "    .dataframe tbody tr th:only-of-type {\n",
       "        vertical-align: middle;\n",
       "    }\n",
       "\n",
       "    .dataframe tbody tr th {\n",
       "        vertical-align: top;\n",
       "    }\n",
       "\n",
       "    .dataframe thead th {\n",
       "        text-align: right;\n",
       "    }\n",
       "</style>\n",
       "<table border=\"1\" class=\"dataframe\">\n",
       "  <thead>\n",
       "    <tr style=\"text-align: right;\">\n",
       "      <th></th>\n",
       "      <th>studyidk</th>\n",
       "      <th>measabstractnumber</th>\n",
       "      <th>meassequence</th>\n",
       "      <th>instanceidk</th>\n",
       "      <th>indexinmglist</th>\n",
       "      <th>value</th>\n",
       "      <th>howentered</th>\n",
       "      <th>srinstanceidk</th>\n",
       "      <th>imagesopinstanceuid</th>\n",
       "      <th>measurementuid</th>\n",
       "    </tr>\n",
       "  </thead>\n",
       "  <tbody>\n",
       "    <tr>\n",
       "      <th>0</th>\n",
       "      <td>2882</td>\n",
       "      <td>187</td>\n",
       "      <td>0</td>\n",
       "      <td>57164</td>\n",
       "      <td>0</td>\n",
       "      <td>28.242271</td>\n",
       "      <td>0</td>\n",
       "      <td></td>\n",
       "      <td></td>\n",
       "      <td></td>\n",
       "    </tr>\n",
       "    <tr>\n",
       "      <th>1</th>\n",
       "      <td>2882</td>\n",
       "      <td>188</td>\n",
       "      <td>0</td>\n",
       "      <td>57164</td>\n",
       "      <td>0</td>\n",
       "      <td>7.897812</td>\n",
       "      <td>0</td>\n",
       "      <td></td>\n",
       "      <td></td>\n",
       "      <td></td>\n",
       "    </tr>\n",
       "    <tr>\n",
       "      <th>2</th>\n",
       "      <td>2882</td>\n",
       "      <td>189</td>\n",
       "      <td>0</td>\n",
       "      <td>57164</td>\n",
       "      <td>0</td>\n",
       "      <td>85.725750</td>\n",
       "      <td>0</td>\n",
       "      <td></td>\n",
       "      <td></td>\n",
       "      <td></td>\n",
       "    </tr>\n",
       "    <tr>\n",
       "      <th>3</th>\n",
       "      <td>2882</td>\n",
       "      <td>190</td>\n",
       "      <td>0</td>\n",
       "      <td>57164</td>\n",
       "      <td>0</td>\n",
       "      <td>87.190031</td>\n",
       "      <td>0</td>\n",
       "      <td></td>\n",
       "      <td></td>\n",
       "      <td></td>\n",
       "    </tr>\n",
       "    <tr>\n",
       "      <th>4</th>\n",
       "      <td>2882</td>\n",
       "      <td>191</td>\n",
       "      <td>0</td>\n",
       "      <td>57164</td>\n",
       "      <td>1</td>\n",
       "      <td>36.654466</td>\n",
       "      <td>0</td>\n",
       "      <td></td>\n",
       "      <td></td>\n",
       "      <td></td>\n",
       "    </tr>\n",
       "  </tbody>\n",
       "</table>\n",
       "</div>"
      ],
      "text/plain": [
       "   studyidk  measabstractnumber  meassequence  instanceidk  indexinmglist  \\\n",
       "0      2882                 187             0        57164              0   \n",
       "1      2882                 188             0        57164              0   \n",
       "2      2882                 189             0        57164              0   \n",
       "3      2882                 190             0        57164              0   \n",
       "4      2882                 191             0        57164              1   \n",
       "\n",
       "       value  howentered srinstanceidk imagesopinstanceuid measurementuid  \n",
       "0  28.242271           0                                                   \n",
       "1   7.897812           0                                                   \n",
       "2  85.725750           0                                                   \n",
       "3  87.190031           0                                                   \n",
       "4  36.654466           0                                                   "
      ]
     },
     "execution_count": 8,
     "metadata": {},
     "output_type": "execute_result"
    }
   ],
   "source": [
    "a_measgraphref_df = io_clean.get_table(\"a_measgraphref\")\n",
    "print(a_measgraphref_df.shape)\n",
    "a_measgraphref_df.head()"
   ]
  },
  {
   "cell_type": "code",
   "execution_count": 9,
   "metadata": {},
   "outputs": [],
   "source": [
    "def get_recommendation(row):\n",
    "    return 'normal' if row['ef'] >= 60 else 'abnormal' if row['ef'] < 40 else 'greyzone'"
   ]
  },
  {
   "cell_type": "code",
   "execution_count": 10,
   "metadata": {},
   "outputs": [
    {
     "name": "stdout",
     "output_type": "stream",
     "text": [
      "(858255, 7)\n"
     ]
    },
    {
     "data": {
      "text/html": [
       "<div>\n",
       "<style scoped>\n",
       "    .dataframe tbody tr th:only-of-type {\n",
       "        vertical-align: middle;\n",
       "    }\n",
       "\n",
       "    .dataframe tbody tr th {\n",
       "        vertical-align: top;\n",
       "    }\n",
       "\n",
       "    .dataframe thead th {\n",
       "        text-align: right;\n",
       "    }\n",
       "</style>\n",
       "<table border=\"1\" class=\"dataframe\">\n",
       "  <thead>\n",
       "    <tr style=\"text-align: right;\">\n",
       "      <th></th>\n",
       "      <th>studyidk</th>\n",
       "      <th>instanceidk</th>\n",
       "      <th>indexinmglist</th>\n",
       "      <th>meassequence</th>\n",
       "      <th>name</th>\n",
       "      <th>value</th>\n",
       "      <th>howentered</th>\n",
       "    </tr>\n",
       "  </thead>\n",
       "  <tbody>\n",
       "    <tr>\n",
       "      <th>0</th>\n",
       "      <td>2882</td>\n",
       "      <td>57164</td>\n",
       "      <td>0</td>\n",
       "      <td>0</td>\n",
       "      <td>AVIts ap4</td>\n",
       "      <td>28.242271</td>\n",
       "      <td>0</td>\n",
       "    </tr>\n",
       "    <tr>\n",
       "      <th>1</th>\n",
       "      <td>2882</td>\n",
       "      <td>57164</td>\n",
       "      <td>0</td>\n",
       "      <td>0</td>\n",
       "      <td>DVIts ap4</td>\n",
       "      <td>7.897812</td>\n",
       "      <td>0</td>\n",
       "    </tr>\n",
       "    <tr>\n",
       "      <th>2</th>\n",
       "      <td>2882</td>\n",
       "      <td>57164</td>\n",
       "      <td>0</td>\n",
       "      <td>0</td>\n",
       "      <td>VTS(el-ps4)</td>\n",
       "      <td>85.725750</td>\n",
       "      <td>0</td>\n",
       "    </tr>\n",
       "    <tr>\n",
       "      <th>3</th>\n",
       "      <td>2882</td>\n",
       "      <td>57164</td>\n",
       "      <td>0</td>\n",
       "      <td>0</td>\n",
       "      <td>VTS(MDD-ps4)</td>\n",
       "      <td>87.190031</td>\n",
       "      <td>0</td>\n",
       "    </tr>\n",
       "    <tr>\n",
       "      <th>4</th>\n",
       "      <td>2882</td>\n",
       "      <td>57164</td>\n",
       "      <td>1</td>\n",
       "      <td>0</td>\n",
       "      <td>AVItd ap4</td>\n",
       "      <td>36.654466</td>\n",
       "      <td>0</td>\n",
       "    </tr>\n",
       "  </tbody>\n",
       "</table>\n",
       "</div>"
      ],
      "text/plain": [
       "   studyidk  instanceidk  indexinmglist  meassequence          name  \\\n",
       "0      2882        57164              0             0     AVIts ap4   \n",
       "1      2882        57164              0             0     DVIts ap4   \n",
       "2      2882        57164              0             0   VTS(el-ps4)   \n",
       "3      2882        57164              0             0  VTS(MDD-ps4)   \n",
       "4      2882        57164              1             0     AVItd ap4   \n",
       "\n",
       "       value  howentered  \n",
       "0  28.242271           0  \n",
       "1   7.897812           0  \n",
       "2  85.725750           0  \n",
       "3  87.190031           0  \n",
       "4  36.654466           0  "
      ]
     },
     "execution_count": 10,
     "metadata": {},
     "output_type": "execute_result"
    }
   ],
   "source": [
    "merge_df = measurement_abstract_rpt_df[['studyidk', 'measabstractnumber', 'name']]\n",
    "merge_df = merge_df.merge(a_measgraphref_df, on=['studyidk', 'measabstractnumber'])\n",
    "merge_df = merge_df[['studyidk', 'instanceidk', 'indexinmglist', 'meassequence', 'name', 'value', 'howentered']]\n",
    "print(merge_df.shape)\n",
    "merge_df.head()"
   ]
  },
  {
   "cell_type": "code",
   "execution_count": 11,
   "metadata": {},
   "outputs": [],
   "source": [
    "start_df = merge_df\n",
    "filter_df = start_df"
   ]
  },
  {
   "cell_type": "code",
   "execution_count": 12,
   "metadata": {},
   "outputs": [
    {
     "name": "stdout",
     "output_type": "stream",
     "text": [
      "858255\n",
      "70173\n",
      "0.08176241326878375\n"
     ]
    }
   ],
   "source": [
    "filter_df = filter_df[filter_df['name'].str.contains('ps4')]\n",
    "print(len(start_df))\n",
    "print(len(filter_df))\n",
    "print(len(filter_df)/len(start_df))"
   ]
  },
  {
   "cell_type": "code",
   "execution_count": 13,
   "metadata": {},
   "outputs": [
    {
     "data": {
      "text/plain": [
       "VTD(MDD-ps4)       18234\n",
       "VTS(MDD-ps4)       17767\n",
       "VTD(el-ps4)        17217\n",
       "VTS(el-ps4)        16778\n",
       "VolAI(MDD-ps4)       153\n",
       "VTD(MDD-ps4)esf       12\n",
       "VTS(MDD-ps4)esf       12\n",
       "Name: name, dtype: int64"
      ]
     },
     "execution_count": 13,
     "metadata": {},
     "output_type": "execute_result"
    }
   ],
   "source": [
    "filter_df['name'].value_counts()"
   ]
  },
  {
   "cell_type": "code",
   "execution_count": 14,
   "metadata": {},
   "outputs": [
    {
     "name": "stdout",
     "output_type": "stream",
     "text": [
      "858255\n",
      "35997\n",
      "0.04194208015100407\n"
     ]
    }
   ],
   "source": [
    "filter_df = filter_df[filter_df['name'].isin(['VTD(MDD-ps4)', 'VTS(MDD-ps4)'])]\n",
    "filter_df = filter_df[filter_df['value']>0]\n",
    "print(len(start_df))\n",
    "print(len(filter_df))\n",
    "print(len(filter_df)/len(start_df))"
   ]
  },
  {
   "cell_type": "code",
   "execution_count": 15,
   "metadata": {},
   "outputs": [
    {
     "data": {
      "text/html": [
       "<div>\n",
       "<style scoped>\n",
       "    .dataframe tbody tr th:only-of-type {\n",
       "        vertical-align: middle;\n",
       "    }\n",
       "\n",
       "    .dataframe tbody tr th {\n",
       "        vertical-align: top;\n",
       "    }\n",
       "\n",
       "    .dataframe thead th {\n",
       "        text-align: right;\n",
       "    }\n",
       "</style>\n",
       "<table border=\"1\" class=\"dataframe\">\n",
       "  <thead>\n",
       "    <tr style=\"text-align: right;\">\n",
       "      <th></th>\n",
       "      <th>studyidk</th>\n",
       "      <th>instanceidk</th>\n",
       "      <th>indexinmglist</th>\n",
       "      <th>meassequence</th>\n",
       "      <th>name</th>\n",
       "      <th>value</th>\n",
       "      <th>howentered</th>\n",
       "    </tr>\n",
       "  </thead>\n",
       "  <tbody>\n",
       "    <tr>\n",
       "      <th>3</th>\n",
       "      <td>2882</td>\n",
       "      <td>57164</td>\n",
       "      <td>0</td>\n",
       "      <td>0</td>\n",
       "      <td>VTS(MDD-ps4)</td>\n",
       "      <td>87.190031</td>\n",
       "      <td>0</td>\n",
       "    </tr>\n",
       "    <tr>\n",
       "      <th>7</th>\n",
       "      <td>2882</td>\n",
       "      <td>57164</td>\n",
       "      <td>1</td>\n",
       "      <td>0</td>\n",
       "      <td>VTD(MDD-ps4)</td>\n",
       "      <td>134.335580</td>\n",
       "      <td>0</td>\n",
       "    </tr>\n",
       "    <tr>\n",
       "      <th>31</th>\n",
       "      <td>2966</td>\n",
       "      <td>58207</td>\n",
       "      <td>0</td>\n",
       "      <td>0</td>\n",
       "      <td>VTS(MDD-ps4)</td>\n",
       "      <td>131.242087</td>\n",
       "      <td>0</td>\n",
       "    </tr>\n",
       "    <tr>\n",
       "      <th>35</th>\n",
       "      <td>2966</td>\n",
       "      <td>58207</td>\n",
       "      <td>1</td>\n",
       "      <td>0</td>\n",
       "      <td>VTD(MDD-ps4)</td>\n",
       "      <td>250.321472</td>\n",
       "      <td>0</td>\n",
       "    </tr>\n",
       "    <tr>\n",
       "      <th>84</th>\n",
       "      <td>5898</td>\n",
       "      <td>102950</td>\n",
       "      <td>0</td>\n",
       "      <td>0</td>\n",
       "      <td>VTD(MDD-ps4)</td>\n",
       "      <td>292.888669</td>\n",
       "      <td>0</td>\n",
       "    </tr>\n",
       "  </tbody>\n",
       "</table>\n",
       "</div>"
      ],
      "text/plain": [
       "    studyidk  instanceidk  indexinmglist  meassequence          name  \\\n",
       "3       2882        57164              0             0  VTS(MDD-ps4)   \n",
       "7       2882        57164              1             0  VTD(MDD-ps4)   \n",
       "31      2966        58207              0             0  VTS(MDD-ps4)   \n",
       "35      2966        58207              1             0  VTD(MDD-ps4)   \n",
       "84      5898       102950              0             0  VTD(MDD-ps4)   \n",
       "\n",
       "         value  howentered  \n",
       "3    87.190031           0  \n",
       "7   134.335580           0  \n",
       "31  131.242087           0  \n",
       "35  250.321472           0  \n",
       "84  292.888669           0  "
      ]
     },
     "execution_count": 15,
     "metadata": {},
     "output_type": "execute_result"
    }
   ],
   "source": [
    "filter_df.head()"
   ]
  },
  {
   "cell_type": "code",
   "execution_count": 16,
   "metadata": {},
   "outputs": [
    {
     "name": "stdout",
     "output_type": "stream",
     "text": [
      "(18232, 7)\n"
     ]
    },
    {
     "data": {
      "text/html": [
       "<div>\n",
       "<style scoped>\n",
       "    .dataframe tbody tr th:only-of-type {\n",
       "        vertical-align: middle;\n",
       "    }\n",
       "\n",
       "    .dataframe tbody tr th {\n",
       "        vertical-align: top;\n",
       "    }\n",
       "\n",
       "    .dataframe thead th {\n",
       "        text-align: right;\n",
       "    }\n",
       "</style>\n",
       "<table border=\"1\" class=\"dataframe\">\n",
       "  <thead>\n",
       "    <tr style=\"text-align: right;\">\n",
       "      <th></th>\n",
       "      <th>studyidk</th>\n",
       "      <th>instanceidk</th>\n",
       "      <th>indexinmglist</th>\n",
       "      <th>meassequence</th>\n",
       "      <th>name</th>\n",
       "      <th>value</th>\n",
       "      <th>howentered</th>\n",
       "    </tr>\n",
       "  </thead>\n",
       "  <tbody>\n",
       "    <tr>\n",
       "      <th>7</th>\n",
       "      <td>2882</td>\n",
       "      <td>57164</td>\n",
       "      <td>1</td>\n",
       "      <td>0</td>\n",
       "      <td>VTD(MDD-ps4)</td>\n",
       "      <td>134.335580</td>\n",
       "      <td>0</td>\n",
       "    </tr>\n",
       "    <tr>\n",
       "      <th>35</th>\n",
       "      <td>2966</td>\n",
       "      <td>58207</td>\n",
       "      <td>1</td>\n",
       "      <td>0</td>\n",
       "      <td>VTD(MDD-ps4)</td>\n",
       "      <td>250.321472</td>\n",
       "      <td>0</td>\n",
       "    </tr>\n",
       "    <tr>\n",
       "      <th>84</th>\n",
       "      <td>5898</td>\n",
       "      <td>102950</td>\n",
       "      <td>0</td>\n",
       "      <td>0</td>\n",
       "      <td>VTD(MDD-ps4)</td>\n",
       "      <td>292.888669</td>\n",
       "      <td>0</td>\n",
       "    </tr>\n",
       "    <tr>\n",
       "      <th>139</th>\n",
       "      <td>6085</td>\n",
       "      <td>105943</td>\n",
       "      <td>1</td>\n",
       "      <td>0</td>\n",
       "      <td>VTD(MDD-ps4)</td>\n",
       "      <td>107.762018</td>\n",
       "      <td>0</td>\n",
       "    </tr>\n",
       "    <tr>\n",
       "      <th>145</th>\n",
       "      <td>6086</td>\n",
       "      <td>105951</td>\n",
       "      <td>0</td>\n",
       "      <td>0</td>\n",
       "      <td>VTD(MDD-ps4)</td>\n",
       "      <td>160.243074</td>\n",
       "      <td>0</td>\n",
       "    </tr>\n",
       "  </tbody>\n",
       "</table>\n",
       "</div>"
      ],
      "text/plain": [
       "     studyidk  instanceidk  indexinmglist  meassequence          name  \\\n",
       "7        2882        57164              1             0  VTD(MDD-ps4)   \n",
       "35       2966        58207              1             0  VTD(MDD-ps4)   \n",
       "84       5898       102950              0             0  VTD(MDD-ps4)   \n",
       "139      6085       105943              1             0  VTD(MDD-ps4)   \n",
       "145      6086       105951              0             0  VTD(MDD-ps4)   \n",
       "\n",
       "          value  howentered  \n",
       "7    134.335580           0  \n",
       "35   250.321472           0  \n",
       "84   292.888669           0  \n",
       "139  107.762018           0  \n",
       "145  160.243074           0  "
      ]
     },
     "execution_count": 16,
     "metadata": {},
     "output_type": "execute_result"
    }
   ],
   "source": [
    "diastole_df = filter_df[filter_df['name'].str.contains('VTD')]\n",
    "print(diastole_df.shape)\n",
    "diastole_df.head()"
   ]
  },
  {
   "cell_type": "code",
   "execution_count": 17,
   "metadata": {},
   "outputs": [
    {
     "name": "stdout",
     "output_type": "stream",
     "text": [
      "(17765, 7)\n"
     ]
    },
    {
     "data": {
      "text/html": [
       "<div>\n",
       "<style scoped>\n",
       "    .dataframe tbody tr th:only-of-type {\n",
       "        vertical-align: middle;\n",
       "    }\n",
       "\n",
       "    .dataframe tbody tr th {\n",
       "        vertical-align: top;\n",
       "    }\n",
       "\n",
       "    .dataframe thead th {\n",
       "        text-align: right;\n",
       "    }\n",
       "</style>\n",
       "<table border=\"1\" class=\"dataframe\">\n",
       "  <thead>\n",
       "    <tr style=\"text-align: right;\">\n",
       "      <th></th>\n",
       "      <th>studyidk</th>\n",
       "      <th>instanceidk</th>\n",
       "      <th>indexinmglist</th>\n",
       "      <th>meassequence</th>\n",
       "      <th>name</th>\n",
       "      <th>value</th>\n",
       "      <th>howentered</th>\n",
       "    </tr>\n",
       "  </thead>\n",
       "  <tbody>\n",
       "    <tr>\n",
       "      <th>3</th>\n",
       "      <td>2882</td>\n",
       "      <td>57164</td>\n",
       "      <td>0</td>\n",
       "      <td>0</td>\n",
       "      <td>VTS(MDD-ps4)</td>\n",
       "      <td>87.190031</td>\n",
       "      <td>0</td>\n",
       "    </tr>\n",
       "    <tr>\n",
       "      <th>31</th>\n",
       "      <td>2966</td>\n",
       "      <td>58207</td>\n",
       "      <td>0</td>\n",
       "      <td>0</td>\n",
       "      <td>VTS(MDD-ps4)</td>\n",
       "      <td>131.242087</td>\n",
       "      <td>0</td>\n",
       "    </tr>\n",
       "    <tr>\n",
       "      <th>88</th>\n",
       "      <td>5898</td>\n",
       "      <td>102950</td>\n",
       "      <td>1</td>\n",
       "      <td>0</td>\n",
       "      <td>VTS(MDD-ps4)</td>\n",
       "      <td>204.461602</td>\n",
       "      <td>0</td>\n",
       "    </tr>\n",
       "    <tr>\n",
       "      <th>135</th>\n",
       "      <td>6085</td>\n",
       "      <td>105943</td>\n",
       "      <td>0</td>\n",
       "      <td>0</td>\n",
       "      <td>VTS(MDD-ps4)</td>\n",
       "      <td>60.694028</td>\n",
       "      <td>0</td>\n",
       "    </tr>\n",
       "    <tr>\n",
       "      <th>149</th>\n",
       "      <td>6086</td>\n",
       "      <td>105951</td>\n",
       "      <td>1</td>\n",
       "      <td>0</td>\n",
       "      <td>VTS(MDD-ps4)</td>\n",
       "      <td>69.452834</td>\n",
       "      <td>0</td>\n",
       "    </tr>\n",
       "  </tbody>\n",
       "</table>\n",
       "</div>"
      ],
      "text/plain": [
       "     studyidk  instanceidk  indexinmglist  meassequence          name  \\\n",
       "3        2882        57164              0             0  VTS(MDD-ps4)   \n",
       "31       2966        58207              0             0  VTS(MDD-ps4)   \n",
       "88       5898       102950              1             0  VTS(MDD-ps4)   \n",
       "135      6085       105943              0             0  VTS(MDD-ps4)   \n",
       "149      6086       105951              1             0  VTS(MDD-ps4)   \n",
       "\n",
       "          value  howentered  \n",
       "3     87.190031           0  \n",
       "31   131.242087           0  \n",
       "88   204.461602           0  \n",
       "135   60.694028           0  \n",
       "149   69.452834           0  "
      ]
     },
     "execution_count": 17,
     "metadata": {},
     "output_type": "execute_result"
    }
   ],
   "source": [
    "systole_df = filter_df[filter_df['name'].str.contains('VTS')]\n",
    "print(systole_df.shape)\n",
    "systole_df.head()"
   ]
  },
  {
   "cell_type": "code",
   "execution_count": 18,
   "metadata": {},
   "outputs": [
    {
     "data": {
      "text/plain": [
       "count    18232.000000\n",
       "mean       101.035147\n",
       "std         42.781005\n",
       "min         11.256703\n",
       "25%         71.977249\n",
       "50%         92.516257\n",
       "75%        119.860211\n",
       "max        718.944686\n",
       "Name: value, dtype: float64"
      ]
     },
     "execution_count": 18,
     "metadata": {},
     "output_type": "execute_result"
    }
   ],
   "source": [
    "diastole_df['value'].describe()"
   ]
  },
  {
   "cell_type": "code",
   "execution_count": 19,
   "metadata": {},
   "outputs": [
    {
     "data": {
      "image/png": "[encoded data removed]",
      "text/plain": [
       "<Figure size 432x288 with 1 Axes>"
      ]
     },
     "metadata": {},
     "output_type": "display_data"
    }
   ],
   "source": [
    "plt.title(f'Count of Measured End-Diastole Volume Values')\n",
    "plt.xlabel('Value')\n",
    "plt.ylabel('Counts')\n",
    "plt.hist(diastole_df['value'], bins=20);"
   ]
  },
  {
   "cell_type": "code",
   "execution_count": 20,
   "metadata": {},
   "outputs": [
    {
     "data": {
      "text/plain": [
       "count    17765.000000\n",
       "mean        43.836481\n",
       "std         31.046934\n",
       "min          0.007379\n",
       "25%         24.813589\n",
       "50%         35.459024\n",
       "75%         51.947772\n",
       "max        627.923352\n",
       "Name: value, dtype: float64"
      ]
     },
     "execution_count": 20,
     "metadata": {},
     "output_type": "execute_result"
    }
   ],
   "source": [
    "systole_df['value'].describe()"
   ]
  },
  {
   "cell_type": "code",
   "execution_count": 21,
   "metadata": {},
   "outputs": [
    {
     "data": {
      "image/png": "[encoded data removed]",
      "text/plain": [
       "<Figure size 432x288 with 1 Axes>"
      ]
     },
     "metadata": {},
     "output_type": "display_data"
    }
   ],
   "source": [
    "plt.title(f'Count of Measured End-Systole Volume Values')\n",
    "plt.xlabel('Value')\n",
    "plt.ylabel('Counts')\n",
    "plt.hist(systole_df['value'], bins=20);"
   ]
  },
  {
   "cell_type": "code",
   "execution_count": 22,
   "metadata": {},
   "outputs": [
    {
     "name": "stdout",
     "output_type": "stream",
     "text": [
      "(18149, 5)\n"
     ]
    },
    {
     "data": {
      "text/html": [
       "<div>\n",
       "<style scoped>\n",
       "    .dataframe tbody tr th:only-of-type {\n",
       "        vertical-align: middle;\n",
       "    }\n",
       "\n",
       "    .dataframe tbody tr th {\n",
       "        vertical-align: top;\n",
       "    }\n",
       "\n",
       "    .dataframe thead th {\n",
       "        text-align: right;\n",
       "    }\n",
       "</style>\n",
       "<table border=\"1\" class=\"dataframe\">\n",
       "  <thead>\n",
       "    <tr style=\"text-align: right;\">\n",
       "      <th></th>\n",
       "      <th>studyidk</th>\n",
       "      <th>instanceidk</th>\n",
       "      <th>indexinmglist</th>\n",
       "      <th>name</th>\n",
       "      <th>value</th>\n",
       "    </tr>\n",
       "  </thead>\n",
       "  <tbody>\n",
       "    <tr>\n",
       "      <th>0</th>\n",
       "      <td>2882</td>\n",
       "      <td>57164</td>\n",
       "      <td>1</td>\n",
       "      <td>VTD(MDD-ps4)</td>\n",
       "      <td>134.335580</td>\n",
       "    </tr>\n",
       "    <tr>\n",
       "      <th>1</th>\n",
       "      <td>2966</td>\n",
       "      <td>58207</td>\n",
       "      <td>1</td>\n",
       "      <td>VTD(MDD-ps4)</td>\n",
       "      <td>250.321472</td>\n",
       "    </tr>\n",
       "    <tr>\n",
       "      <th>2</th>\n",
       "      <td>5898</td>\n",
       "      <td>102950</td>\n",
       "      <td>0</td>\n",
       "      <td>VTD(MDD-ps4)</td>\n",
       "      <td>292.888669</td>\n",
       "    </tr>\n",
       "    <tr>\n",
       "      <th>3</th>\n",
       "      <td>6085</td>\n",
       "      <td>105943</td>\n",
       "      <td>1</td>\n",
       "      <td>VTD(MDD-ps4)</td>\n",
       "      <td>107.762018</td>\n",
       "    </tr>\n",
       "    <tr>\n",
       "      <th>4</th>\n",
       "      <td>6086</td>\n",
       "      <td>105951</td>\n",
       "      <td>0</td>\n",
       "      <td>VTD(MDD-ps4)</td>\n",
       "      <td>160.243074</td>\n",
       "    </tr>\n",
       "  </tbody>\n",
       "</table>\n",
       "</div>"
      ],
      "text/plain": [
       "   studyidk  instanceidk  indexinmglist          name       value\n",
       "0      2882        57164              1  VTD(MDD-ps4)  134.335580\n",
       "1      2966        58207              1  VTD(MDD-ps4)  250.321472\n",
       "2      5898       102950              0  VTD(MDD-ps4)  292.888669\n",
       "3      6085       105943              1  VTD(MDD-ps4)  107.762018\n",
       "4      6086       105951              0  VTD(MDD-ps4)  160.243074"
      ]
     },
     "execution_count": 22,
     "metadata": {},
     "output_type": "execute_result"
    }
   ],
   "source": [
    "agg_diastole_df = diastole_df\n",
    "agg_diastole_df = agg_diastole_df.groupby(['studyidk', 'instanceidk', 'indexinmglist']).agg({\"name\": pd.Series.unique, \"value\": pd.Series.median}).reset_index()\n",
    "print(agg_diastole_df.shape)\n",
    "agg_diastole_df.head()"
   ]
  },
  {
   "cell_type": "code",
   "execution_count": 23,
   "metadata": {},
   "outputs": [
    {
     "name": "stdout",
     "output_type": "stream",
     "text": [
      "(18043, 4)\n"
     ]
    },
    {
     "data": {
      "text/html": [
       "<div>\n",
       "<style scoped>\n",
       "    .dataframe tbody tr th:only-of-type {\n",
       "        vertical-align: middle;\n",
       "    }\n",
       "\n",
       "    .dataframe tbody tr th {\n",
       "        vertical-align: top;\n",
       "    }\n",
       "\n",
       "    .dataframe thead th {\n",
       "        text-align: right;\n",
       "    }\n",
       "</style>\n",
       "<table border=\"1\" class=\"dataframe\">\n",
       "  <thead>\n",
       "    <tr style=\"text-align: right;\">\n",
       "      <th></th>\n",
       "      <th>studyidk</th>\n",
       "      <th>instanceidk</th>\n",
       "      <th>name</th>\n",
       "      <th>value</th>\n",
       "    </tr>\n",
       "  </thead>\n",
       "  <tbody>\n",
       "    <tr>\n",
       "      <th>0</th>\n",
       "      <td>2882</td>\n",
       "      <td>57164</td>\n",
       "      <td>VTD(MDD-ps4)</td>\n",
       "      <td>134.335580</td>\n",
       "    </tr>\n",
       "    <tr>\n",
       "      <th>1</th>\n",
       "      <td>2966</td>\n",
       "      <td>58207</td>\n",
       "      <td>VTD(MDD-ps4)</td>\n",
       "      <td>250.321472</td>\n",
       "    </tr>\n",
       "    <tr>\n",
       "      <th>2</th>\n",
       "      <td>5898</td>\n",
       "      <td>102950</td>\n",
       "      <td>VTD(MDD-ps4)</td>\n",
       "      <td>292.888669</td>\n",
       "    </tr>\n",
       "    <tr>\n",
       "      <th>3</th>\n",
       "      <td>6085</td>\n",
       "      <td>105943</td>\n",
       "      <td>VTD(MDD-ps4)</td>\n",
       "      <td>107.762018</td>\n",
       "    </tr>\n",
       "    <tr>\n",
       "      <th>4</th>\n",
       "      <td>6086</td>\n",
       "      <td>105951</td>\n",
       "      <td>VTD(MDD-ps4)</td>\n",
       "      <td>160.243074</td>\n",
       "    </tr>\n",
       "  </tbody>\n",
       "</table>\n",
       "</div>"
      ],
      "text/plain": [
       "   studyidk  instanceidk          name       value\n",
       "0      2882        57164  VTD(MDD-ps4)  134.335580\n",
       "1      2966        58207  VTD(MDD-ps4)  250.321472\n",
       "2      5898       102950  VTD(MDD-ps4)  292.888669\n",
       "3      6085       105943  VTD(MDD-ps4)  107.762018\n",
       "4      6086       105951  VTD(MDD-ps4)  160.243074"
      ]
     },
     "execution_count": 23,
     "metadata": {},
     "output_type": "execute_result"
    }
   ],
   "source": [
    "agg_diastole_df = agg_diastole_df.groupby(['studyidk', 'instanceidk']).agg({\"name\": pd.Series.unique, \"value\": pd.Series.median}).reset_index()\n",
    "print(agg_diastole_df.shape)\n",
    "agg_diastole_df.head()"
   ]
  },
  {
   "cell_type": "code",
   "execution_count": 24,
   "metadata": {},
   "outputs": [
    {
     "name": "stdout",
     "output_type": "stream",
     "text": [
      "(17702, 5)\n"
     ]
    },
    {
     "data": {
      "text/html": [
       "<div>\n",
       "<style scoped>\n",
       "    .dataframe tbody tr th:only-of-type {\n",
       "        vertical-align: middle;\n",
       "    }\n",
       "\n",
       "    .dataframe tbody tr th {\n",
       "        vertical-align: top;\n",
       "    }\n",
       "\n",
       "    .dataframe thead th {\n",
       "        text-align: right;\n",
       "    }\n",
       "</style>\n",
       "<table border=\"1\" class=\"dataframe\">\n",
       "  <thead>\n",
       "    <tr style=\"text-align: right;\">\n",
       "      <th></th>\n",
       "      <th>studyidk</th>\n",
       "      <th>instanceidk</th>\n",
       "      <th>indexinmglist</th>\n",
       "      <th>name</th>\n",
       "      <th>value</th>\n",
       "    </tr>\n",
       "  </thead>\n",
       "  <tbody>\n",
       "    <tr>\n",
       "      <th>0</th>\n",
       "      <td>2882</td>\n",
       "      <td>57164</td>\n",
       "      <td>0</td>\n",
       "      <td>VTS(MDD-ps4)</td>\n",
       "      <td>87.190031</td>\n",
       "    </tr>\n",
       "    <tr>\n",
       "      <th>1</th>\n",
       "      <td>2966</td>\n",
       "      <td>58207</td>\n",
       "      <td>0</td>\n",
       "      <td>VTS(MDD-ps4)</td>\n",
       "      <td>131.242087</td>\n",
       "    </tr>\n",
       "    <tr>\n",
       "      <th>2</th>\n",
       "      <td>5898</td>\n",
       "      <td>102950</td>\n",
       "      <td>1</td>\n",
       "      <td>VTS(MDD-ps4)</td>\n",
       "      <td>204.461602</td>\n",
       "    </tr>\n",
       "    <tr>\n",
       "      <th>3</th>\n",
       "      <td>6085</td>\n",
       "      <td>105943</td>\n",
       "      <td>0</td>\n",
       "      <td>VTS(MDD-ps4)</td>\n",
       "      <td>60.694028</td>\n",
       "    </tr>\n",
       "    <tr>\n",
       "      <th>4</th>\n",
       "      <td>6086</td>\n",
       "      <td>105951</td>\n",
       "      <td>1</td>\n",
       "      <td>VTS(MDD-ps4)</td>\n",
       "      <td>69.452834</td>\n",
       "    </tr>\n",
       "  </tbody>\n",
       "</table>\n",
       "</div>"
      ],
      "text/plain": [
       "   studyidk  instanceidk  indexinmglist          name       value\n",
       "0      2882        57164              0  VTS(MDD-ps4)   87.190031\n",
       "1      2966        58207              0  VTS(MDD-ps4)  131.242087\n",
       "2      5898       102950              1  VTS(MDD-ps4)  204.461602\n",
       "3      6085       105943              0  VTS(MDD-ps4)   60.694028\n",
       "4      6086       105951              1  VTS(MDD-ps4)   69.452834"
      ]
     },
     "execution_count": 24,
     "metadata": {},
     "output_type": "execute_result"
    }
   ],
   "source": [
    "agg_systole_df = systole_df\n",
    "agg_systole_df = agg_systole_df.groupby(['studyidk', 'instanceidk', 'indexinmglist']).agg({\"name\": pd.Series.unique, \"value\": pd.Series.median}).reset_index()\n",
    "print(agg_systole_df.shape)\n",
    "agg_systole_df.head()"
   ]
  },
  {
   "cell_type": "code",
   "execution_count": 25,
   "metadata": {},
   "outputs": [
    {
     "name": "stdout",
     "output_type": "stream",
     "text": [
      "(17648, 4)\n"
     ]
    },
    {
     "data": {
      "text/html": [
       "<div>\n",
       "<style scoped>\n",
       "    .dataframe tbody tr th:only-of-type {\n",
       "        vertical-align: middle;\n",
       "    }\n",
       "\n",
       "    .dataframe tbody tr th {\n",
       "        vertical-align: top;\n",
       "    }\n",
       "\n",
       "    .dataframe thead th {\n",
       "        text-align: right;\n",
       "    }\n",
       "</style>\n",
       "<table border=\"1\" class=\"dataframe\">\n",
       "  <thead>\n",
       "    <tr style=\"text-align: right;\">\n",
       "      <th></th>\n",
       "      <th>studyidk</th>\n",
       "      <th>instanceidk</th>\n",
       "      <th>name</th>\n",
       "      <th>value</th>\n",
       "    </tr>\n",
       "  </thead>\n",
       "  <tbody>\n",
       "    <tr>\n",
       "      <th>0</th>\n",
       "      <td>2882</td>\n",
       "      <td>57164</td>\n",
       "      <td>VTS(MDD-ps4)</td>\n",
       "      <td>87.190031</td>\n",
       "    </tr>\n",
       "    <tr>\n",
       "      <th>1</th>\n",
       "      <td>2966</td>\n",
       "      <td>58207</td>\n",
       "      <td>VTS(MDD-ps4)</td>\n",
       "      <td>131.242087</td>\n",
       "    </tr>\n",
       "    <tr>\n",
       "      <th>2</th>\n",
       "      <td>5898</td>\n",
       "      <td>102950</td>\n",
       "      <td>VTS(MDD-ps4)</td>\n",
       "      <td>204.461602</td>\n",
       "    </tr>\n",
       "    <tr>\n",
       "      <th>3</th>\n",
       "      <td>6085</td>\n",
       "      <td>105943</td>\n",
       "      <td>VTS(MDD-ps4)</td>\n",
       "      <td>60.694028</td>\n",
       "    </tr>\n",
       "    <tr>\n",
       "      <th>4</th>\n",
       "      <td>6086</td>\n",
       "      <td>105951</td>\n",
       "      <td>VTS(MDD-ps4)</td>\n",
       "      <td>69.452834</td>\n",
       "    </tr>\n",
       "  </tbody>\n",
       "</table>\n",
       "</div>"
      ],
      "text/plain": [
       "   studyidk  instanceidk          name       value\n",
       "0      2882        57164  VTS(MDD-ps4)   87.190031\n",
       "1      2966        58207  VTS(MDD-ps4)  131.242087\n",
       "2      5898       102950  VTS(MDD-ps4)  204.461602\n",
       "3      6085       105943  VTS(MDD-ps4)   60.694028\n",
       "4      6086       105951  VTS(MDD-ps4)   69.452834"
      ]
     },
     "execution_count": 25,
     "metadata": {},
     "output_type": "execute_result"
    }
   ],
   "source": [
    "agg_systole_df = agg_systole_df.groupby(['studyidk', 'instanceidk']).agg({\"name\": pd.Series.unique, \"value\": pd.Series.median}).reset_index()\n",
    "print(agg_systole_df.shape)\n",
    "agg_systole_df.head()"
   ]
  },
  {
   "cell_type": "code",
   "execution_count": 26,
   "metadata": {},
   "outputs": [
    {
     "name": "stdout",
     "output_type": "stream",
     "text": [
      "(17467, 6)\n"
     ]
    },
    {
     "data": {
      "text/html": [
       "<div>\n",
       "<style scoped>\n",
       "    .dataframe tbody tr th:only-of-type {\n",
       "        vertical-align: middle;\n",
       "    }\n",
       "\n",
       "    .dataframe tbody tr th {\n",
       "        vertical-align: top;\n",
       "    }\n",
       "\n",
       "    .dataframe thead th {\n",
       "        text-align: right;\n",
       "    }\n",
       "</style>\n",
       "<table border=\"1\" class=\"dataframe\">\n",
       "  <thead>\n",
       "    <tr style=\"text-align: right;\">\n",
       "      <th></th>\n",
       "      <th>studyidk</th>\n",
       "      <th>instanceidk</th>\n",
       "      <th>name_diastole</th>\n",
       "      <th>value_diastole</th>\n",
       "      <th>name_systole</th>\n",
       "      <th>value_systole</th>\n",
       "    </tr>\n",
       "  </thead>\n",
       "  <tbody>\n",
       "    <tr>\n",
       "      <th>0</th>\n",
       "      <td>2882</td>\n",
       "      <td>57164</td>\n",
       "      <td>VTD(MDD-ps4)</td>\n",
       "      <td>134.335580</td>\n",
       "      <td>VTS(MDD-ps4)</td>\n",
       "      <td>87.190031</td>\n",
       "    </tr>\n",
       "    <tr>\n",
       "      <th>1</th>\n",
       "      <td>2966</td>\n",
       "      <td>58207</td>\n",
       "      <td>VTD(MDD-ps4)</td>\n",
       "      <td>250.321472</td>\n",
       "      <td>VTS(MDD-ps4)</td>\n",
       "      <td>131.242087</td>\n",
       "    </tr>\n",
       "    <tr>\n",
       "      <th>2</th>\n",
       "      <td>5898</td>\n",
       "      <td>102950</td>\n",
       "      <td>VTD(MDD-ps4)</td>\n",
       "      <td>292.888669</td>\n",
       "      <td>VTS(MDD-ps4)</td>\n",
       "      <td>204.461602</td>\n",
       "    </tr>\n",
       "    <tr>\n",
       "      <th>3</th>\n",
       "      <td>6085</td>\n",
       "      <td>105943</td>\n",
       "      <td>VTD(MDD-ps4)</td>\n",
       "      <td>107.762018</td>\n",
       "      <td>VTS(MDD-ps4)</td>\n",
       "      <td>60.694028</td>\n",
       "    </tr>\n",
       "    <tr>\n",
       "      <th>4</th>\n",
       "      <td>6086</td>\n",
       "      <td>105951</td>\n",
       "      <td>VTD(MDD-ps4)</td>\n",
       "      <td>160.243074</td>\n",
       "      <td>VTS(MDD-ps4)</td>\n",
       "      <td>69.452834</td>\n",
       "    </tr>\n",
       "  </tbody>\n",
       "</table>\n",
       "</div>"
      ],
      "text/plain": [
       "   studyidk  instanceidk name_diastole  value_diastole  name_systole  \\\n",
       "0      2882        57164  VTD(MDD-ps4)      134.335580  VTS(MDD-ps4)   \n",
       "1      2966        58207  VTD(MDD-ps4)      250.321472  VTS(MDD-ps4)   \n",
       "2      5898       102950  VTD(MDD-ps4)      292.888669  VTS(MDD-ps4)   \n",
       "3      6085       105943  VTD(MDD-ps4)      107.762018  VTS(MDD-ps4)   \n",
       "4      6086       105951  VTD(MDD-ps4)      160.243074  VTS(MDD-ps4)   \n",
       "\n",
       "   value_systole  \n",
       "0      87.190031  \n",
       "1     131.242087  \n",
       "2     204.461602  \n",
       "3      60.694028  \n",
       "4      69.452834  "
      ]
     },
     "execution_count": 26,
     "metadata": {},
     "output_type": "execute_result"
    }
   ],
   "source": [
    "both_df = agg_diastole_df.merge(agg_systole_df, on=['studyidk', 'instanceidk'], suffixes=['_diastole', '_systole'])\n",
    "both_df = both_df[both_df['value_diastole']>=both_df['value_systole']]\n",
    "print(both_df.shape)\n",
    "both_df.head()"
   ]
  },
  {
   "cell_type": "code",
   "execution_count": 27,
   "metadata": {},
   "outputs": [],
   "source": [
    "both_df['ef'] = (both_df['value_diastole']-both_df['value_systole'])/both_df['value_diastole']*100"
   ]
  },
  {
   "cell_type": "code",
   "execution_count": 28,
   "metadata": {},
   "outputs": [
    {
     "data": {
      "text/plain": [
       "count    17467.000000\n",
       "mean        59.270589\n",
       "std         12.421780\n",
       "min          2.045626\n",
       "25%         53.344468\n",
       "50%         60.574177\n",
       "75%         67.490581\n",
       "max         94.035998\n",
       "Name: ef, dtype: float64"
      ]
     },
     "execution_count": 28,
     "metadata": {},
     "output_type": "execute_result"
    }
   ],
   "source": [
    "both_df['ef'].describe()"
   ]
  },
  {
   "cell_type": "code",
   "execution_count": 29,
   "metadata": {},
   "outputs": [
    {
     "data": {
      "image/png": "[encoded data removed]",
      "text/plain": [
       "<Figure size 432x288 with 1 Axes>"
      ]
     },
     "metadata": {},
     "output_type": "display_data"
    }
   ],
   "source": [
    "plt.title(f'Count of All Measured Ejection Fraction Values')\n",
    "plt.xlabel('Value')\n",
    "plt.ylabel('Counts')\n",
    "plt.hist(both_df['ef'], bins=20);"
   ]
  },
  {
   "cell_type": "code",
   "execution_count": 30,
   "metadata": {},
   "outputs": [],
   "source": [
    "both_df['recommendation'] = both_df.apply(get_recommendation, axis=1)"
   ]
  },
  {
   "cell_type": "code",
   "execution_count": 31,
   "metadata": {},
   "outputs": [
    {
     "data": {
      "text/plain": [
       "normal      9139\n",
       "greyzone    6881\n",
       "abnormal    1447\n",
       "Name: recommendation, dtype: int64"
      ]
     },
     "execution_count": 31,
     "metadata": {},
     "output_type": "execute_result"
    }
   ],
   "source": [
    "both_df['recommendation'].value_counts()"
   ]
  },
  {
   "cell_type": "code",
   "execution_count": 32,
   "metadata": {},
   "outputs": [
    {
     "data": {
      "text/plain": [
       "normal      0.523215\n",
       "greyzone    0.393943\n",
       "abnormal    0.082842\n",
       "Name: recommendation, dtype: float64"
      ]
     },
     "execution_count": 32,
     "metadata": {},
     "output_type": "execute_result"
    }
   ],
   "source": [
    "both_df['recommendation'].value_counts()/both_df['recommendation'].value_counts().sum()"
   ]
  },
  {
   "cell_type": "code",
   "execution_count": 33,
   "metadata": {},
   "outputs": [],
   "source": [
    "start_df = both_df\n",
    "filter_df = start_df"
   ]
  },
  {
   "cell_type": "code",
   "execution_count": 34,
   "metadata": {},
   "outputs": [],
   "source": [
    "# filter_df = filter_df[filter_df['instanceidk'].isin(instances_w_labels_test_df['instanceidk'].unique())]\n",
    "# print(start_df.shape)\n",
    "# print(filter_df.shape)\n",
    "# print(len(filter_df)/len(start_df))"
   ]
  },
  {
   "cell_type": "code",
   "execution_count": 35,
   "metadata": {},
   "outputs": [
    {
     "name": "stdout",
     "output_type": "stream",
     "text": [
      "(17467, 8)\n",
      "(233, 8)\n",
      "0.01333944008702124\n"
     ]
    }
   ],
   "source": [
    "filter_df = filter_df[filter_df['instanceidk'].isin(instances_w_labels_test_downsampleby5_df['instanceidk'].unique())]\n",
    "print(start_df.shape)\n",
    "print(filter_df.shape)\n",
    "print(len(filter_df)/len(start_df))"
   ]
  },
  {
   "cell_type": "code",
   "execution_count": 36,
   "metadata": {},
   "outputs": [
    {
     "name": "stdout",
     "output_type": "stream",
     "text": [
      "(17467, 8)\n",
      "(233, 8)\n",
      "0.01333944008702124\n"
     ]
    }
   ],
   "source": [
    "filter_df = filter_df[filter_df['instanceidk'].isin(a_measgraphref_df['instanceidk'].unique())]\n",
    "print(start_df.shape)\n",
    "print(filter_df.shape)\n",
    "print(len(filter_df)/len(start_df))"
   ]
  },
  {
   "cell_type": "code",
   "execution_count": 37,
   "metadata": {},
   "outputs": [
    {
     "data": {
      "text/plain": [
       "233"
      ]
     },
     "execution_count": 37,
     "metadata": {},
     "output_type": "execute_result"
    }
   ],
   "source": [
    "len(filter_df['studyidk'].unique())"
   ]
  },
  {
   "cell_type": "code",
   "execution_count": 38,
   "metadata": {},
   "outputs": [
    {
     "data": {
      "text/plain": [
       "233"
      ]
     },
     "execution_count": 38,
     "metadata": {},
     "output_type": "execute_result"
    }
   ],
   "source": [
    "len(filter_df['instanceidk'].unique())"
   ]
  },
  {
   "cell_type": "code",
   "execution_count": 39,
   "metadata": {},
   "outputs": [
    {
     "data": {
      "text/plain": [
       "count    233.000000\n",
       "mean      94.403571\n",
       "std       40.255568\n",
       "min       29.259660\n",
       "25%       66.674961\n",
       "50%       86.504704\n",
       "75%      116.553208\n",
       "max      333.119556\n",
       "Name: value_diastole, dtype: float64"
      ]
     },
     "execution_count": 39,
     "metadata": {},
     "output_type": "execute_result"
    }
   ],
   "source": [
    "filter_df['value_diastole'].describe()"
   ]
  },
  {
   "cell_type": "code",
   "execution_count": 40,
   "metadata": {},
   "outputs": [
    {
     "data": {
      "image/png": "[encoded data removed]",
      "text/plain": [
       "<Figure size 432x288 with 1 Axes>"
      ]
     },
     "metadata": {},
     "output_type": "display_data"
    }
   ],
   "source": [
    "plt.title(f'Count of Filtered End-Diastole Volume Values')\n",
    "plt.xlabel('Value')\n",
    "plt.ylabel('Counts')\n",
    "plt.hist(filter_df['value_diastole'], bins=20);"
   ]
  },
  {
   "cell_type": "code",
   "execution_count": 41,
   "metadata": {},
   "outputs": [
    {
     "data": {
      "text/plain": [
       "count    233.000000\n",
       "mean      38.161051\n",
       "std       27.894090\n",
       "min        6.510014\n",
       "25%       21.525210\n",
       "50%       30.521122\n",
       "75%       46.060886\n",
       "max      231.977565\n",
       "Name: value_systole, dtype: float64"
      ]
     },
     "execution_count": 41,
     "metadata": {},
     "output_type": "execute_result"
    }
   ],
   "source": [
    "filter_df['value_systole'].describe()"
   ]
  },
  {
   "cell_type": "code",
   "execution_count": 42,
   "metadata": {},
   "outputs": [
    {
     "data": {
      "image/png": "[encoded data removed]",
      "text/plain": [
       "<Figure size 432x288 with 1 Axes>"
      ]
     },
     "metadata": {},
     "output_type": "display_data"
    }
   ],
   "source": [
    "plt.title(f'Count of Filtered End-Systole Volume Values')\n",
    "plt.xlabel('Value')\n",
    "plt.ylabel('Counts')\n",
    "plt.hist(filter_df['value_systole'], bins=20);"
   ]
  },
  {
   "cell_type": "code",
   "execution_count": 43,
   "metadata": {},
   "outputs": [
    {
     "data": {
      "text/plain": [
       "count    233.000000\n",
       "mean      62.131719\n",
       "std       12.533967\n",
       "min       22.403351\n",
       "25%       55.641597\n",
       "50%       63.932529\n",
       "75%       70.432987\n",
       "max       92.501219\n",
       "Name: ef, dtype: float64"
      ]
     },
     "execution_count": 43,
     "metadata": {},
     "output_type": "execute_result"
    }
   ],
   "source": [
    "filter_df['ef'].describe()"
   ]
  },
  {
   "cell_type": "code",
   "execution_count": 44,
   "metadata": {},
   "outputs": [
    {
     "data": {
      "image/png": "[encoded data removed]",
      "text/plain": [
       "<Figure size 432x288 with 1 Axes>"
      ]
     },
     "metadata": {},
     "output_type": "display_data"
    }
   ],
   "source": [
    "plt.title(f'Count of Filtered Measured Ejection Fraction Values')\n",
    "plt.xlabel('Value')\n",
    "plt.ylabel('Counts')\n",
    "plt.hist(filter_df['ef'], bins=20);"
   ]
  },
  {
   "cell_type": "code",
   "execution_count": 45,
   "metadata": {},
   "outputs": [
    {
     "data": {
      "text/plain": [
       "normal      146\n",
       "greyzone     72\n",
       "abnormal     15\n",
       "Name: recommendation, dtype: int64"
      ]
     },
     "execution_count": 45,
     "metadata": {},
     "output_type": "execute_result"
    }
   ],
   "source": [
    "filter_df['recommendation'].value_counts()"
   ]
  },
  {
   "cell_type": "code",
   "execution_count": 46,
   "metadata": {},
   "outputs": [
    {
     "data": {
      "text/plain": [
       "normal      0.626609\n",
       "greyzone    0.309013\n",
       "abnormal    0.064378\n",
       "Name: recommendation, dtype: float64"
      ]
     },
     "execution_count": 46,
     "metadata": {},
     "output_type": "execute_result"
    }
   ],
   "source": [
    "filter_df['recommendation'].value_counts()/filter_df['recommendation'].value_counts().sum()"
   ]
  },
  {
   "cell_type": "code",
   "execution_count": 47,
   "metadata": {},
   "outputs": [
    {
     "data": {
      "text/html": [
       "<div>\n",
       "<style scoped>\n",
       "    .dataframe tbody tr th:only-of-type {\n",
       "        vertical-align: middle;\n",
       "    }\n",
       "\n",
       "    .dataframe tbody tr th {\n",
       "        vertical-align: top;\n",
       "    }\n",
       "\n",
       "    .dataframe thead th {\n",
       "        text-align: right;\n",
       "    }\n",
       "</style>\n",
       "<table border=\"1\" class=\"dataframe\">\n",
       "  <thead>\n",
       "    <tr style=\"text-align: right;\">\n",
       "      <th></th>\n",
       "      <th>studyidk</th>\n",
       "      <th>instanceidk</th>\n",
       "      <th>name_diastole</th>\n",
       "      <th>value_diastole</th>\n",
       "      <th>name_systole</th>\n",
       "      <th>value_systole</th>\n",
       "      <th>ef</th>\n",
       "      <th>recommendation</th>\n",
       "    </tr>\n",
       "  </thead>\n",
       "  <tbody>\n",
       "    <tr>\n",
       "      <th>614</th>\n",
       "      <td>43763</td>\n",
       "      <td>779540</td>\n",
       "      <td>VTD(MDD-ps4)</td>\n",
       "      <td>45.964351</td>\n",
       "      <td>VTS(MDD-ps4)</td>\n",
       "      <td>17.993407</td>\n",
       "      <td>60.853560</td>\n",
       "      <td>normal</td>\n",
       "    </tr>\n",
       "    <tr>\n",
       "      <th>724</th>\n",
       "      <td>46919</td>\n",
       "      <td>841585</td>\n",
       "      <td>VTD(MDD-ps4)</td>\n",
       "      <td>124.449981</td>\n",
       "      <td>VTS(MDD-ps4)</td>\n",
       "      <td>60.740148</td>\n",
       "      <td>51.193124</td>\n",
       "      <td>greyzone</td>\n",
       "    </tr>\n",
       "    <tr>\n",
       "      <th>889</th>\n",
       "      <td>50521</td>\n",
       "      <td>921901</td>\n",
       "      <td>VTD(MDD-ps4)</td>\n",
       "      <td>91.569690</td>\n",
       "      <td>VTS(MDD-ps4)</td>\n",
       "      <td>40.583427</td>\n",
       "      <td>55.680283</td>\n",
       "      <td>greyzone</td>\n",
       "    </tr>\n",
       "    <tr>\n",
       "      <th>1386</th>\n",
       "      <td>57515</td>\n",
       "      <td>1078635</td>\n",
       "      <td>VTD(MDD-ps4)</td>\n",
       "      <td>73.781595</td>\n",
       "      <td>VTS(MDD-ps4)</td>\n",
       "      <td>31.494208</td>\n",
       "      <td>57.314276</td>\n",
       "      <td>greyzone</td>\n",
       "    </tr>\n",
       "    <tr>\n",
       "      <th>1756</th>\n",
       "      <td>60906</td>\n",
       "      <td>1168238</td>\n",
       "      <td>VTD(MDD-ps4)</td>\n",
       "      <td>132.222893</td>\n",
       "      <td>VTS(MDD-ps4)</td>\n",
       "      <td>57.683639</td>\n",
       "      <td>56.373940</td>\n",
       "      <td>greyzone</td>\n",
       "    </tr>\n",
       "  </tbody>\n",
       "</table>\n",
       "</div>"
      ],
      "text/plain": [
       "      studyidk  instanceidk name_diastole  value_diastole  name_systole  \\\n",
       "614      43763       779540  VTD(MDD-ps4)       45.964351  VTS(MDD-ps4)   \n",
       "724      46919       841585  VTD(MDD-ps4)      124.449981  VTS(MDD-ps4)   \n",
       "889      50521       921901  VTD(MDD-ps4)       91.569690  VTS(MDD-ps4)   \n",
       "1386     57515      1078635  VTD(MDD-ps4)       73.781595  VTS(MDD-ps4)   \n",
       "1756     60906      1168238  VTD(MDD-ps4)      132.222893  VTS(MDD-ps4)   \n",
       "\n",
       "      value_systole         ef recommendation  \n",
       "614       17.993407  60.853560         normal  \n",
       "724       60.740148  51.193124       greyzone  \n",
       "889       40.583427  55.680283       greyzone  \n",
       "1386      31.494208  57.314276       greyzone  \n",
       "1756      57.683639  56.373940       greyzone  "
      ]
     },
     "execution_count": 47,
     "metadata": {},
     "output_type": "execute_result"
    }
   ],
   "source": [
    "filter_df.head()"
   ]
  }
 ],
 "metadata": {
  "kernelspec": {
   "display_name": "Environment (conda_usal_echo)",
   "language": "python",
   "name": "conda_usal_echo"
  },
  "language_info": {
   "codemirror_mode": {
    "name": "ipython",
    "version": 3
   },
   "file_extension": ".py",
   "mimetype": "text/x-python",
   "name": "python",
   "nbconvert_exporter": "python",
   "pygments_lexer": "ipython3",
   "version": "3.6.5"
  }
 },
 "nbformat": 4,
 "nbformat_minor": 2
}
