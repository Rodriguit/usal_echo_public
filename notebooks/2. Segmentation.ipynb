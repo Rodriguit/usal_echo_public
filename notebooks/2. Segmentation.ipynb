{
 "cells": [
  {
   "cell_type": "markdown",
   "metadata": {},
   "source": [
    "# Segmentation"
   ]
  },
  {
   "cell_type": "code",
   "execution_count": null,
   "metadata": {},
   "outputs": [],
   "source": [
    "%reload_ext autoreload\n",
    "%autoreload 2\n",
    "%matplotlib inline"
   ]
  },
  {
   "cell_type": "code",
   "execution_count": null,
   "metadata": {},
   "outputs": [],
   "source": [
    "from usal_echo.d04_segmentation.create_seg_view import create_seg_view\n",
    "from usal_echo.d04_segmentation.segment_view import run_segment\n",
    "from usal_echo.d04_segmentation.generate_masks import generate_masks\n",
    "from usal_echo.d04_segmentation.evaluate_masks import evaluate_masks"
   ]
  },
  {
   "cell_type": "code",
   "execution_count": null,
   "metadata": {},
   "outputs": [],
   "source": [
    "with open(\"./conf/local/path_parameters.yml\") as f:\n",
    "    paths = yaml.safe_load(f)\n",
    "\n",
    "dcm_dir = os.path.expanduser(paths[\"dcm_dir\"])\n",
    "img_dir = os.path.expanduser(paths[\"img_dir\"])\n",
    "segmentation_dir = os.path.expanduser(paths[\"segment_dir\"])\n",
    "model_dir = os.path.expanduser(paths[\"model_dir\"])\n",
    "classification_model = paths[\"classification_model\"]"
   ]
  },
  {
   "cell_type": "markdown",
   "metadata": {},
   "source": [
    "<font color='red'>Update the name of the image/dicom directory.</font> "
   ]
  },
  {
   "cell_type": "code",
   "execution_count": null,
   "metadata": {},
   "outputs": [],
   "source": [
    "dir_name = \"specify name of directory with images\"\n",
    "dcm_dir_path = os.path.join(dcm_dir, dir_name)\n",
    "img_dir_path = os.path.join(img_dir, dir_name)"
   ]
  },
  {
   "cell_type": "code",
   "execution_count": null,
   "metadata": {},
   "outputs": [],
   "source": [
    "run_segment(dcm_dir_path, model_dir, img_dir_path, classification_model)\n",
    "create_seg_view()\n",
    "generate_masks(dcm_dir_path)"
   ]
  },
  {
   "cell_type": "code",
   "execution_count": null,
   "metadata": {},
   "outputs": [],
   "source": [
    "evaluate_masks()"
   ]
  }
 ],
 "metadata": {
  "kernelspec": {
   "display_name": "Environment (conda_usal_echo)",
   "language": "python",
   "name": "conda_usal_echo"
  },
  "language_info": {
   "codemirror_mode": {
    "name": "ipython",
    "version": 3
   },
   "file_extension": ".py",
   "mimetype": "text/x-python",
   "name": "python",
   "nbconvert_exporter": "python",
   "pygments_lexer": "ipython3",
   "version": "3.6.5"
  }
 },
 "nbformat": 4,
 "nbformat_minor": 2
}
